{
 "cells": [
  {
   "cell_type": "markdown",
   "metadata": {},
   "source": [
    "# Problem Set 3: Core Python topics\n",
    "\n",
    "## Topics covered:\n",
    "\n",
    "1. Loops and flow control \n",
    "2. Opening and writing to files \n",
    "3. The standard library \n",
    "4. Functions\n",
    "5. Object-oriented programming"
   ]
  },
  {
   "cell_type": "markdown",
   "metadata": {},
   "source": [
    "## Topic 1: Loops and Flow Control\n",
    "\n",
    "### Task 1.1: *Odd or Even?*\n",
    "Ask the user for a number and create a function that determines if the number is odd or even. Print out whether the number is odd or even."
   ]
  },
  {
   "cell_type": "code",
   "execution_count": null,
   "metadata": {},
   "outputs": [],
   "source": [
    "# Your code here.\n",
    "\n",
    "user_input = input(\"Enter a number: \")\n",
    "\n",
    "def is_odd(num):\n",
    "    return num % 2 != 0\n",
    "\n",
    "print(is_odd(int(user_input))) \n",
    "print(is_odd(5))  # Output: True\n",
    "print(is_odd(4))  # Output: False"
   ]
  },
  {
   "cell_type": "markdown",
   "metadata": {},
   "source": [
    "### Task 1.2: Number Pyramid\n",
    "Write a program that prints a pyramid of numbers as follows (for 4 levels):\n",
    "\n",
    "```\n",
    "   1\n",
    "  121\n",
    " 12321\n",
    "1234321\n",
    "```\n",
    "\n",
    "Complication: Make the number of levels a user input (between 1 and 10)."
   ]
  },
  {
   "cell_type": "code",
   "execution_count": null,
   "metadata": {},
   "outputs": [],
   "source": [
    "# Your code here.\n",
    "\n",
    "levels = 4\n",
    "#levels = int(input(\"Enter a number between 1 and 10: \"))\n",
    "\n",
    "for i in range(1, levels + 1):\n",
    "    print(\" \" * (levels - i), end=\"\")\n",
    "    for j in range(1, i + 1):\n",
    "        print(j, end=\"\")\n",
    "    for j in range(i - 1, 0, -1):\n",
    "        print(j, end=\"\")\n",
    "    print()\n"
   ]
  },
  {
   "cell_type": "markdown",
   "metadata": {},
   "source": [
    "### Task 1.3: *List Comprehensions*\n",
    "Use a list comprehension to create a list that contains all the numbers between 1 and 50 that are divisible by 3.\n",
    "\n",
    "\n",
    "The output should look like this:\n",
    "```\n",
    "[3, 6, 9, 12, 15, 18, 21, 24, 27, 30, 33, 36, 39, 42, 45, 48]\n",
    "```"
   ]
  },
  {
   "cell_type": "code",
   "execution_count": null,
   "metadata": {},
   "outputs": [],
   "source": [
    "# Your code here.\n",
    "\n",
    "divisible_by_three = [x for x in range(1, 51) if x % 3 == 0]\n",
    "print(divisible_by_three)"
   ]
  },
  {
   "cell_type": "markdown",
   "metadata": {},
   "source": [
    "### Task 1.4: Guessing Game\n",
    "Write a program that randomly selects a number between 1 and 10 and asks the user to guess it. The program should give feedback if the guess is too high, too low, or correct."
   ]
  },
  {
   "cell_type": "code",
   "execution_count": null,
   "metadata": {},
   "outputs": [],
   "source": [
    "# Your code here.\n",
    "\n",
    "import random\n",
    "\n",
    "number = random.randint(1, 10)\n",
    "guess = int(input(\"Guess a number between 1 and 10: \"))\n",
    "\n",
    "while guess != number:\n",
    "    if guess < number:\n",
    "        print(\"Too low!\")\n",
    "    else:\n",
    "        print(\"Too high!\")\n",
    "    guess = int(input(\"Try again: \"))\n",
    "\n",
    "print(\"Congratulations! You guessed it!\")"
   ]
  },
  {
   "cell_type": "markdown",
   "metadata": {},
   "source": [
    "### Task 1.5: Divide by Zero\n",
    "Write a program that asks the user for two numbers and divides the first number by the second number. Handle the `ZeroDivisionError`` that occurs when the second number is zero."
   ]
  },
  {
   "cell_type": "code",
   "execution_count": null,
   "metadata": {},
   "outputs": [],
   "source": [
    "# Your code goes here.\n",
    "\n",
    "try:\n",
    "    num1 = float(input(\"Enter the first number: \"))\n",
    "    num2 = float(input(\"Enter the second number: \"))\n",
    "    result = num1 / num2\n",
    "    print(result)\n",
    "except ZeroDivisionError:\n",
    "    print(\"You can't divide by zero!\")"
   ]
  },
  {
   "cell_type": "markdown",
   "metadata": {},
   "source": [
    "### Task 1.6: Invalid Input\n",
    "Write a program that asks the user for an integer and prints the square of it. Handle the `ValueError`` that occurs when the input is not a valid integer."
   ]
  },
  {
   "cell_type": "code",
   "execution_count": null,
   "metadata": {},
   "outputs": [],
   "source": [
    "# Yuur code goes here.\n",
    "\n",
    "try:\n",
    "    num = int(input(\"Enter an integer: \"))\n",
    "    print(num ** 2)\n",
    "except ValueError:\n",
    "    print(\"That's not a valid integer!\")\n"
   ]
  },
  {
   "cell_type": "markdown",
   "metadata": {},
   "source": [
    "### Task 1.7: List Index\n",
    "Write a program that asks the user for an index and prints the value at that index from a predefined list. Handle the `IndexError`` if the index is out of range."
   ]
  },
  {
   "cell_type": "code",
   "execution_count": null,
   "metadata": {},
   "outputs": [],
   "source": [
    "# Your code goes here.\n",
    "\n",
    "numbers = [10, 20, 30, 40, 50]\n",
    "try:\n",
    "    index = int(input(\"Enter an index: \"))\n",
    "    print(numbers[index])\n",
    "except IndexError:\n",
    "    print(\"Index out of range!\")\n"
   ]
  },
  {
   "cell_type": "markdown",
   "metadata": {},
   "source": [
    "### Task 1.8: Multiple Exceptions\n",
    "Combine task 1.5 and 1.6. Ask the user for two numbers and try to divide the first by the second. Handle both `ZeroDivisionError` and `ValueError``."
   ]
  },
  {
   "cell_type": "code",
   "execution_count": null,
   "metadata": {},
   "outputs": [],
   "source": [
    "# Your code goes here.\n",
    "\n",
    "try:\n",
    "    num1 = float(input(\"Enter the first number: \"))\n",
    "    num2 = float(input(\"Enter the second number: \"))\n",
    "    result = num1 / num2\n",
    "    print(result)\n",
    "except ZeroDivisionError:\n",
    "    print(\"You can't divide by zero!\")\n",
    "except ValueError:\n",
    "    print(\"Please enter a valid number!\")"
   ]
  },
  {
   "cell_type": "markdown",
   "metadata": {},
   "source": [
    "## Topic 2: *Opening and Writing to Files*\n",
    "\n",
    "### Task 2.1: *Write to a File*\n",
    "Ask the user to input a string. Write this string to a file named `user_input.txt`."
   ]
  },
  {
   "cell_type": "code",
   "execution_count": null,
   "metadata": {},
   "outputs": [],
   "source": [
    "# Your code here.\n",
    "\n",
    "# Get input from the user\n",
    "user_string = input(\"Please enter a string: \")\n",
    "\n",
    "# Write the string to a file\n",
    "with open(\"user_input.txt\", \"w\") as file:\n",
    "    file.write(user_string)\n",
    "\n",
    "print(\"Your input has been written to 'user_input.txt'.\")\n"
   ]
  },
  {
   "cell_type": "markdown",
   "metadata": {},
   "source": [
    "### Task 2.2: *Read from a File*\n",
    "Read the contents of the file `user_input.txt` and print them to the console."
   ]
  },
  {
   "cell_type": "code",
   "execution_count": null,
   "metadata": {},
   "outputs": [],
   "source": [
    "# Your code here.\n",
    "\n",
    "# Read the contents of the file\n",
    "with open(\"user_input.txt\", \"r\") as file:\n",
    "    contents = file.read()\n",
    "\n",
    "# Print the contents to the console\n",
    "print(contents)\n"
   ]
  },
  {
   "cell_type": "markdown",
   "metadata": {},
   "source": [
    "### Task 2.3: Line Counter\n",
    "Write a program that counts the number of lines in `user_input.txt`."
   ]
  },
  {
   "cell_type": "code",
   "execution_count": null,
   "metadata": {},
   "outputs": [],
   "source": [
    "# Your code here.\n",
    "\n",
    "# Initialize a count variable\n",
    "line_count = 0\n",
    "\n",
    "# Read the file and count the lines\n",
    "with open(\"user_input.txt\", \"r\") as file:\n",
    "    for line in file:\n",
    "        line_count += 1\n",
    "\n",
    "# Print the line count\n",
    "print(f\"The file 'user_input.txt' has {line_count} lines.\")"
   ]
  },
  {
   "cell_type": "markdown",
   "metadata": {},
   "source": [
    "### Task 2.4: File Not Found\n",
    "Write a program that tries to read a file named `data.txt` and prints its content. Handle the `FileNotFoundError` if the file does not exist."
   ]
  },
  {
   "cell_type": "code",
   "execution_count": null,
   "metadata": {},
   "outputs": [],
   "source": [
    "try:\n",
    "    with open(\"data.txt\", \"r\") as file:\n",
    "        print(file.read())\n",
    "except FileNotFoundError:\n",
    "    print(\"The file 'data.txt' was not found.\")"
   ]
  },
  {
   "cell_type": "markdown",
   "metadata": {},
   "source": [
    "## Topic 3: The Standard Library\n",
    "\n",
    "### Task 3.1: *Using the `datetime` module*\n",
    "Print today's date in the format `YYYY-MM-DD`.\n",
    "\n",
    "Hint: When you have the date as a `datetime` object, you can use the `strftime()` method to format it."
   ]
  },
  {
   "cell_type": "code",
   "execution_count": null,
   "metadata": {},
   "outputs": [],
   "source": [
    "# Your code here.\n",
    "\n",
    "import datetime\n",
    "\n",
    "# Get today's date\n",
    "today = datetime.date.today()\n",
    "\n",
    "# Print the date in the desired format\n",
    "print(today.strftime('%Y-%m-%d'))"
   ]
  },
  {
   "cell_type": "markdown",
   "metadata": {},
   "source": [
    "### Task 3.2: Shuffle a List\n",
    "\n",
    "Write a Python program to shuffle a list of numbers using the `random.shuffle()` function."
   ]
  },
  {
   "cell_type": "code",
   "execution_count": null,
   "metadata": {},
   "outputs": [],
   "source": [
    "# Your code goes here.\n",
    "\n",
    "import random\n",
    "\n",
    "# Define a list of numbers\n",
    "numbers = [1, 2, 3, 4, 5, 6, 7, 8, 9, 10]\n",
    "\n",
    "# Shuffle the list\n",
    "random.shuffle(numbers)\n",
    "\n",
    "# Print the shuffled list\n",
    "print('The shuffled list is:', numbers)"
   ]
  },
  {
   "cell_type": "markdown",
   "metadata": {},
   "source": [
    "### Task 3.3: Calculate Logarithm\n",
    "\n",
    "Write a Python program to calculate the natural logarithm and base-10 logarithm of a given number using `math.log()` and `math.log10()` functions. Make sure that the input number is greater than 0. Round the results to 2 decimal places."
   ]
  },
  {
   "cell_type": "code",
   "execution_count": null,
   "metadata": {},
   "outputs": [],
   "source": [
    "# Your code goes here.\n",
    "\n",
    "import math\n",
    "\n",
    "# Get input from the user\n",
    "number = float(input(\"Enter a positive number: \"))\n",
    "\n",
    "# Check if the number is positive\n",
    "if number <= 0:\n",
    "    print(\"Please enter a positive number.\")\n",
    "else:\n",
    "    # Calculate the natural logarithm (base e)\n",
    "    natural_log = math.log(number)\n",
    "    \n",
    "    # Calculate the base-10 logarithm\n",
    "    log_base_10 = math.log10(number)\n",
    "\n",
    "    # Print the results\n",
    "    print(f\"Natural logarithm (base e) of {number}: {round(natural_log, 2)}\")\n",
    "    print(f\"Base-10 logarithm of {number}: {round(log_base_10, 2)}\")\n"
   ]
  },
  {
   "cell_type": "markdown",
   "metadata": {},
   "source": [
    "### Task 3.4: Find All Numbers\n",
    "Write a program that uses the `re` library to extract all the numbers from a string and store them in a list. Print the list.\n",
    "\n",
    "Hint: Use the `findall()` function where the first argument is the pattern and the second argument is the string. The pattern for a number is `r'\\d+'`."
   ]
  },
  {
   "cell_type": "code",
   "execution_count": null,
   "metadata": {},
   "outputs": [],
   "source": [
    "# Your code goes here.\n",
    "\n",
    "import re\n",
    "\n",
    "text = \"Hello 123, how are you 456?\"\n",
    "numbers = re.findall(r'\\d+', text)\n",
    "print(numbers)  # Output: ['123', '456']"
   ]
  },
  {
   "cell_type": "markdown",
   "metadata": {},
   "source": [
    "### Task 3.5: Replace All Vowels\n",
    "Write a program that uses the `re` replace all vowels in a given string with the character `*`.\n",
    "\n",
    "Hint: Use the `sub()` function where the first argument is the pattern and the second argument is the replacement string. The pattern for a vowel is `r'[aeiou]'`."
   ]
  },
  {
   "cell_type": "code",
   "execution_count": null,
   "metadata": {},
   "outputs": [],
   "source": [
    "# Your code goes here.\n",
    "\n",
    "import re\n",
    "\n",
    "text = \"Hello World\"\n",
    "modified_text = re.sub(r'[aeiouAEIOU]', '*', text)\n",
    "print(modified_text)  # Output: H*ll* W*rld"
   ]
  },
  {
   "cell_type": "markdown",
   "metadata": {},
   "source": [
    "### Task 3.6: Split at Multiple Delimiters\n",
    "Write a program that uses the `re` library and splits a string at multiple delimiters: space, comma, and period.\n",
    "\n",
    "Hint: Use the `split()` function where the argument is a regular expression that matches the delimiters. The pattern for the delimiters is `r'[ ,.]'`."
   ]
  },
  {
   "cell_type": "code",
   "execution_count": null,
   "metadata": {},
   "outputs": [],
   "source": [
    "# Your code goes here.\n",
    "\n",
    "import re\n",
    "\n",
    "text = \"Hello, how are you? I am fine. Great!\"\n",
    "words = re.split(r'[ ,.]+', text)\n",
    "print(words)  # Output: ['Hello', 'how', 'are', 'you?', 'I', 'am', 'fine', 'Great!', '']"
   ]
  },
  {
   "cell_type": "markdown",
   "metadata": {},
   "source": [
    "### Task 3.7: Determine the Median and Mean\n",
    "Use the `statistics` library and write a program that determines the median and mean of a list of numbers."
   ]
  },
  {
   "cell_type": "code",
   "execution_count": null,
   "metadata": {},
   "outputs": [],
   "source": [
    "# Your code goes here.\n",
    "\n",
    "import statistics\n",
    "\n",
    "numbers = [10, 40, 30, 20, 50]\n",
    "median_value = statistics.median(numbers)\n",
    "mean_value = statistics.mean(numbers)\n",
    "print(median_value)  # Output: 30\n",
    "print(mean_value)  # Output: 30"
   ]
  },
  {
   "cell_type": "markdown",
   "metadata": {},
   "source": [
    "### Task 3.8: Determine the Variance\n",
    "Use the `statistics` library and write a program that determines the variance of a list of numbers."
   ]
  },
  {
   "cell_type": "code",
   "execution_count": null,
   "metadata": {},
   "outputs": [],
   "source": [
    "# Your code goes here.\n",
    "\n",
    "import statistics\n",
    "\n",
    "numbers = [10, 20, 30, 40, 50]\n",
    "variance_value = statistics.variance(numbers)\n",
    "print(variance_value)  # Output: 250"
   ]
  },
  {
   "cell_type": "markdown",
   "metadata": {},
   "source": [
    "### Task 3.9: Calculate the Standard Deviation\n",
    "Use the `statistics` library and write a program that calculates the standard deviation of a list of numbers."
   ]
  },
  {
   "cell_type": "code",
   "execution_count": null,
   "metadata": {},
   "outputs": [],
   "source": [
    "# Your code goes here.\n",
    "\n",
    "import statistics\n",
    "\n",
    "numbers = [10, 20, 30, 40, 50]\n",
    "std_dev_value = statistics.stdev(numbers)\n",
    "print(std_dev_value)  # Output: 15.811388300841896"
   ]
  },
  {
   "cell_type": "markdown",
   "metadata": {},
   "source": [
    "### Task 3.10: Calculate the mean, median, variance and standard deviation \n",
    "Without using any library, calculate the mean, variance and standard deviation of the following list of numbers: [10, 20, 30, 40, 50]. Check your results with the previous tasks.\n",
    "\n",
    "Difficult: Calculate the median without using any library."
   ]
  },
  {
   "cell_type": "code",
   "execution_count": null,
   "metadata": {},
   "outputs": [],
   "source": [
    "# Your code goes here.\n",
    "\n",
    "numbers = [10, 20, 30, 40, 50]\n",
    "\n",
    "# Calculate mean\n",
    "mean_value = sum(numbers) / len(numbers)\n",
    "\n",
    "# Calculate median\n",
    "sorted_numbers = sorted(numbers)\n",
    "middle_index = len(numbers) // 2\n",
    "if len(numbers) % 2 == 0:\n",
    "    median_value = (sorted_numbers[middle_index - 1] + sorted_numbers[middle_index]) / 2\n",
    "else:\n",
    "    median_value = sorted_numbers[middle_index]\n",
    "\n",
    "# Calculate variance\n",
    "variance_value = sum([(x - mean_value) ** 2 for x in numbers]) / len(numbers)\n",
    "\n",
    "# Calculate standard deviation\n",
    "std_dev_value = variance_value ** 0.5\n",
    "\n",
    "print(f\"Mean: {mean_value}\")\n",
    "print(f\"Median: {median_value}\")\n",
    "print(f\"Variance: {variance_value}\")\n",
    "print(f\"Standard Deviation: {std_dev_value}\")"
   ]
  },
  {
   "cell_type": "markdown",
   "metadata": {},
   "source": [
    "## Topic 4: Functions\n",
    "\n",
    "### Task 4.1: Reverse String\n",
    "Write a function named `reverse_string` that takes a string as an argument and returns the string in reverse order."
   ]
  },
  {
   "cell_type": "code",
   "execution_count": null,
   "metadata": {},
   "outputs": [],
   "source": [
    "# Your code goes here.\n",
    "\n",
    "def reverse_string(s):\n",
    "    return s[::-1]\n",
    "\n",
    "print(reverse_string(\"Python\"))  # Output: nohtyP"
   ]
  },
  {
   "cell_type": "markdown",
   "metadata": {},
   "source": [
    "### Task 4.2: Calculate Average\n",
    "Write a function named average that takes a list of numbers as an argument and returns their average."
   ]
  },
  {
   "cell_type": "code",
   "execution_count": null,
   "metadata": {},
   "outputs": [],
   "source": [
    "# Your code goes here.\n",
    "\n",
    "def average(nums):\n",
    "    return sum(nums) / len(nums)\n",
    "\n",
    "print(average([10, 20, 30, 40]))  # Output: 25.0"
   ]
  },
  {
   "cell_type": "markdown",
   "metadata": {},
   "source": [
    "### Task 4.3: Factorial\n",
    "Write a function called `factorial` that takes a number as an argument and returns its factorial.\n",
    "\n",
    "Hint: You can use something recursion to calculate the factorial. If the input number `n` is 0, the factorial is 1. Otherwise, the factorial of `n` is `n` multiplied by the factorial of `n-1`."
   ]
  },
  {
   "cell_type": "code",
   "execution_count": null,
   "metadata": {},
   "outputs": [],
   "source": [
    "# Your code goes here.\n",
    "\n",
    "def factorial(n):\n",
    "    if n == 0:\n",
    "        return 1\n",
    "    else:\n",
    "        return n * factorial(n-1)\n",
    "\n",
    "# Test the function\n",
    "print(factorial(5))  # Output: 120"
   ]
  },
  {
   "cell_type": "markdown",
   "metadata": {},
   "source": [
    "### Task 4.4: Calculate Area of a Circle\n",
    "Write a function named `circle_area` that takes the radius of a circle as an argument and returns its area. Use the value 3.1415 for $\\pi$."
   ]
  },
  {
   "cell_type": "code",
   "execution_count": null,
   "metadata": {},
   "outputs": [],
   "source": [
    "# Your code goes here.\n",
    "\n",
    "def circle_area(radius):\n",
    "    return 3.1415 * radius * radius\n",
    "\n",
    "print(round(circle_area(5),1))  # Output: 78.5"
   ]
  },
  {
   "cell_type": "markdown",
   "metadata": {},
   "source": [
    "### Task 4.5: Count Vowels in a String\n",
    "Write a function named `count_vowels`` that takes a string as an argument and returns the count of vowels in the string."
   ]
  },
  {
   "cell_type": "code",
   "execution_count": null,
   "metadata": {},
   "outputs": [],
   "source": [
    "# Your code goes here.\n",
    "\n",
    "def count_vowels(s):\n",
    "    vowels = 'aeiou'\n",
    "    count = 0\n",
    "    for char in s:\n",
    "        if char.lower() in vowels:\n",
    "            count += 1\n",
    "    return count\n",
    "\n",
    "print(count_vowels(\"Hello World\"))  # Output: 3"
   ]
  },
  {
   "cell_type": "markdown",
   "metadata": {},
   "source": [
    "### Task 4.6: Check for Prime Number\n",
    "Write a function named `is_prime`` that takes a number as an argument and returns `True` if the number is prime, otherwise `False`.\n",
    "\n",
    "Hint: A number is prime if it is only divisible by 1 and itself. You can use a loop to check if the number is divisible by any number between 2 and the number itself. If it is divisible by any number, it is not prime. Use the modulo operator `%` to check if a number is divisible by another number."
   ]
  },
  {
   "cell_type": "code",
   "execution_count": null,
   "metadata": {},
   "outputs": [],
   "source": [
    "# Your code goes here.\n",
    "\n",
    "def is_prime(num):\n",
    "    if num <= 1:\n",
    "        return False\n",
    "    for i in range(2, num):\n",
    "        if num % i == 0:\n",
    "            return False\n",
    "    return True\n",
    "\n",
    "print(is_prime(7))  # Output: True\n",
    "print(is_prime(4))  # Output: False\n"
   ]
  },
  {
   "cell_type": "markdown",
   "metadata": {},
   "source": [
    "## Topic 5: Object-Oriented Programming (Difficult - Optional)\n",
    "\n",
    "This topic is a bit more involved. The important take-away is that you can create your own data types by defining classes. Classes are like blueprints for objects. Objects are instances of classes. For example, you can define a class `BankAccount` that has attributes like `owner` and `balance`. You can then create objects of type `BankAccount` for different owners and balances. \n",
    "\n",
    "### Task 5.1: Class Initialization\n",
    "Create a `BankAccount` class with an `__init__` method to initialize owner and balance attributes.\n",
    "\n",
    "### Task 5.2: Deposit Method\n",
    "Add a method called `deposit` to the `BankAccount`` class. This method should take an amount as an argument and add it to the balance.\n",
    "\n",
    "### Task 5.3: Withdraw Method\n",
    "Add a method called `withdraw` to the `BankAccount` class. This method should take an amount as an argument and subtract it from the balance. If there isn't enough money, it should print a message saying \"Funds unavailable\".\n",
    "\n",
    "### Task 5.4: Display Account Information\n",
    "Add a method called display to the `BankAccount`` class that prints the owner's name and the current balance.\n",
    "\n",
    "### Task 5.5: Overdraft Protection\n",
    "Enhance the `withdraw` method. If the account balance goes below a certain threshold (e.g., $10), print a warning message saying \"Low balance\"."
   ]
  },
  {
   "cell_type": "code",
   "execution_count": null,
   "metadata": {},
   "outputs": [],
   "source": [
    "# Your code here.\n",
    "\n",
    "class BankAccount:\n",
    "    def __init__(self, owner, balance=0):\n",
    "        self.owner = owner\n",
    "        self.balance = balance\n",
    "\n",
    "    # Task 5.2\n",
    "    def deposit(self, amount):\n",
    "        self.balance += amount\n",
    "        return f\"Deposited ${amount}. New balance: ${self.balance}\"\n",
    "\n",
    "    # Task 5.3 and Task 5.5\n",
    "    def withdraw(self, amount):\n",
    "        if amount > self.balance:\n",
    "            return \"Funds unavailable\"\n",
    "        else:\n",
    "            self.balance -= amount\n",
    "            if self.balance <= 10:\n",
    "                return f\"Withdrew ${amount}. Warning: Low balance. Current balance: ${self.balance}\"\n",
    "            return f\"Withdrew ${amount}. New balance: ${self.balance}\"\n",
    "\n",
    "    # Task 5.4\n",
    "    def display(self):\n",
    "        return f\"Owner: {self.owner}\\nBalance: ${self.balance}\""
   ]
  },
  {
   "cell_type": "code",
   "execution_count": null,
   "metadata": {},
   "outputs": [],
   "source": [
    "# Example usage:\n",
    "account = BankAccount(\"John Doe\", 100)\n",
    "print(account.deposit(50))  # Output: Deposited $50. New balance: $150\n",
    "print(account.withdraw(140))  # Output: Withdrew $140. Warning: Low balance. Current balance: $10\n",
    "print(account.display())  \n",
    "# Output:\n",
    "# Owner: John Doe\n",
    "# Balance: $10"
   ]
  }
 ],
 "metadata": {
  "kernelspec": {
   "display_name": "edi3400",
   "language": "python",
   "name": "python3"
  },
  "language_info": {
   "codemirror_mode": {
    "name": "ipython",
    "version": 3
   },
   "file_extension": ".py",
   "mimetype": "text/x-python",
   "name": "python",
   "nbconvert_exporter": "python",
   "pygments_lexer": "ipython3",
   "version": "3.10.8"
  },
  "orig_nbformat": 4
 },
 "nbformat": 4,
 "nbformat_minor": 2
}
