{
 "cells": [
  {
   "cell_type": "markdown",
   "id": "71c1f793",
   "metadata": {},
   "source": [
    "## Problem set 5: Databases with SQL and Python"
   ]
  },
  {
   "cell_type": "markdown",
   "id": "ce1f177d",
   "metadata": {},
   "source": [
    "## Auto dealership database\n",
    "\n",
    "### Table: Employee\n",
    "\n",
    "* **id** - Unique identifier\n",
    "* **name** - First name \n",
    "* **salary** - Salary in €\n",
    "* **education** - High School, Bachelor or Master\n",
    "* **department** - Admin, Sales or Service"
   ]
  },
  {
   "cell_type": "markdown",
   "id": "363064bb",
   "metadata": {},
   "source": [
    "### Table: Car\n",
    "\n",
    "* **id** - Unique identifier\n",
    "* **make** - Car manufacturer, e.g., Toyota or BMW\n",
    "* **type** - Type of car, e.g., Sedan or SUV\n",
    "* **year** - Production year of the car\n",
    "* **color** - Color of Car\n",
    "* **msrp** - Manufacturer's suggested retail price in €\n",
    "* **employee_id** - Identifier from employee table, telling us which employee is responsible for the car  "
   ]
  },
  {
   "cell_type": "markdown",
   "id": "ee3cc88e",
   "metadata": {},
   "source": [
    "### Table: Customer\n",
    "\n",
    "* **id** - Unique identifier \n",
    "* **first_name** - First name\n",
    "* **last_name** - Last name\n",
    "* **phone** - Telephone number\n",
    "* **birth_year** - Birth year"
   ]
  },
  {
   "cell_type": "markdown",
   "id": "0ff4b700",
   "metadata": {},
   "source": [
    "### Table: Sales\n",
    "\n",
    "* **id** - Unique identifier\n",
    "* **date** - Date of the sale\n",
    "* **list_price** - The list price at the time of the sale\n",
    "* **price** - The actual sales price\n",
    "* **customer_id** - The customer id\n",
    "* **car_id** - The car id\n",
    "* **employee_id** - The employee id "
   ]
  },
  {
   "cell_type": "code",
   "execution_count": 5,
   "id": "0c2ecf48",
   "metadata": {},
   "outputs": [
    {
     "name": "stdout",
     "output_type": "stream",
     "text": [
      "The isqlite3 extension is already loaded. To reload it, use:\n",
      "  %reload_ext isqlite3\n",
      "Done!\n"
     ]
    }
   ],
   "source": [
    "%load_ext isqlite3\n",
    "%sql_open auto_dealership_database.db"
   ]
  },
  {
   "cell_type": "markdown",
   "id": "778d668b",
   "metadata": {},
   "source": [
    "## Exercise 1: Queries on a single table\n",
    "\n",
    "1. Select the **make**, the **year** and the **color** for all the cars in the Cars table\n",
    "2. Select the **phone** number and **birth year** of the customer *Lanay Holt*\n",
    "3. Select all the unique car **makes**, and sort them alphabetically \n",
    "4. Select all the customers with a **birth year** between 1989 and 1991\n",
    "5. Select all the employees in the sales **department** ordered by their **salary** from high to low\n",
    "6. Select all the sales where the car is sold for less than the **list price**"
   ]
  },
  {
   "cell_type": "code",
   "execution_count": 6,
   "id": "b7efd723",
   "metadata": {},
   "outputs": [
    {
     "data": {
      "text/html": [
       "<table><thead><tr><th style=\"text-align: left\">make</th><th style=\"text-align: left\">year</th><th style=\"text-align: left\">color</th></tr></thead><tbody><tr><td style=\"text-align: left\">BMW</td><td style=\"text-align: right\">2007</td><td style=\"text-align: left\">Silver</td></tr><tr><td style=\"text-align: left\">Audi</td><td style=\"text-align: right\">2012</td><td style=\"text-align: left\">Red</td></tr><tr><td style=\"text-align: left\">Toyota</td><td style=\"text-align: right\">2007</td><td style=\"text-align: left\">Silver</td></tr><tr><td style=\"text-align: left\">Honda</td><td style=\"text-align: right\">2012</td><td style=\"text-align: left\">Blue</td></tr><tr><td style=\"text-align: left\">Audi</td><td style=\"text-align: right\">2009</td><td style=\"text-align: left\">Red</td></tr><tr><td style=\"text-align: left\">Mercedes</td><td style=\"text-align: right\">2007</td><td style=\"text-align: left\">Silver</td></tr><tr><td style=\"text-align: left\">Volkswagen</td><td style=\"text-align: right\">2013</td><td style=\"text-align: left\">Blue</td></tr><tr><td style=\"text-align: left\">Toyota</td><td style=\"text-align: right\">2019</td><td style=\"text-align: left\">Red</td></tr><tr><td style=\"text-align: left\">BMW</td><td style=\"text-align: right\">2010</td><td style=\"text-align: left\">Black</td></tr><tr><td style=\"text-align: left\">Audi</td><td style=\"text-align: right\">2016</td><td style=\"text-align: left\">Silver</td></tr><tr><td style=\"text-align: left\">Ford</td><td style=\"text-align: right\">2018</td><td style=\"text-align: left\">Red</td></tr><tr><td style=\"text-align: left\">Chevrolet</td><td style=\"text-align: right\">2010</td><td style=\"text-align: left\">Blue</td></tr><tr><td style=\"text-align: left\">Ford</td><td style=\"text-align: right\">2018</td><td style=\"text-align: left\">Blue</td></tr><tr><td style=\"text-align: left\">Audi</td><td style=\"text-align: right\">2013</td><td style=\"text-align: left\">Silver</td></tr><tr><td style=\"text-align: left\">Ford</td><td style=\"text-align: right\">2012</td><td style=\"text-align: left\">Blue</td></tr><tr><td style=\"text-align: left\">Volkswagen</td><td style=\"text-align: right\">2011</td><td style=\"text-align: left\">Red</td></tr><tr><td style=\"text-align: left\">Mercedes</td><td style=\"text-align: right\">2015</td><td style=\"text-align: left\">Red</td></tr><tr><td style=\"text-align: left\">Honda</td><td style=\"text-align: right\">2015</td><td style=\"text-align: left\">Brown</td></tr><tr><td style=\"text-align: left\">Toyota</td><td style=\"text-align: right\">2006</td><td style=\"text-align: left\">Black</td></tr><tr><td style=\"text-align: left\">Nissan</td><td style=\"text-align: right\">2012</td><td style=\"text-align: left\">Blue</td></tr></tbody></table>"
      ],
      "text/plain": [
       "<IPython.core.display.HTML object>"
      ]
     },
     "execution_count": 6,
     "metadata": {},
     "output_type": "execute_result"
    }
   ],
   "source": [
    "%%sql -Solution 1\n",
    "\n",
    "SELECT make, year, color\n",
    "FROM Cars\n",
    "LIMIT 20"
   ]
  },
  {
   "cell_type": "code",
   "execution_count": 7,
   "id": "bea95608",
   "metadata": {},
   "outputs": [
    {
     "data": {
      "text/html": [
       "<table><thead><tr><th style=\"text-align: left\">phone</th><th style=\"text-align: left\">birth_year</th></tr></thead><tbody><tr><td style=\"text-align: right\">56850116</td><td style=\"text-align: right\">1995</td></tr></tbody></table>"
      ],
      "text/plain": [
       "<IPython.core.display.HTML object>"
      ]
     },
     "execution_count": 7,
     "metadata": {},
     "output_type": "execute_result"
    }
   ],
   "source": [
    "%%sql -Solution 2\n",
    "\n",
    "SELECT phone, birth_year\n",
    "FROM Customers\n",
    "WHERE Customers.first_name = 'Lanay'\n",
    "AND Customers.last_name ='Holt'"
   ]
  },
  {
   "cell_type": "code",
   "execution_count": 8,
   "id": "30db1ee0",
   "metadata": {},
   "outputs": [
    {
     "data": {
      "text/html": [
       "<table><thead><tr><th style=\"text-align: left\">make</th></tr></thead><tbody><tr><td style=\"text-align: left\">Audi</td></tr><tr><td style=\"text-align: left\">BMW</td></tr><tr><td style=\"text-align: left\">Chevrolet</td></tr><tr><td style=\"text-align: left\">Ford</td></tr><tr><td style=\"text-align: left\">Honda</td></tr><tr><td style=\"text-align: left\">Mercedes</td></tr><tr><td style=\"text-align: left\">Nissan</td></tr><tr><td style=\"text-align: left\">Porsche</td></tr><tr><td style=\"text-align: left\">Toyota</td></tr><tr><td style=\"text-align: left\">Volkswagen</td></tr></tbody></table>"
      ],
      "text/plain": [
       "<IPython.core.display.HTML object>"
      ]
     },
     "execution_count": 8,
     "metadata": {},
     "output_type": "execute_result"
    }
   ],
   "source": [
    "%%sql -Solution 3\n",
    "\n",
    "SELECT DISTINCT make\n",
    "FROM Cars\n",
    "ORDER BY make"
   ]
  },
  {
   "cell_type": "code",
   "execution_count": 9,
   "id": "a547ee42",
   "metadata": {},
   "outputs": [
    {
     "data": {
      "text/html": [
       "<table><thead><tr><th style=\"text-align: left\">id</th><th style=\"text-align: left\">first_name</th><th style=\"text-align: left\">last_name</th><th style=\"text-align: left\">phone</th><th style=\"text-align: left\">birth_year</th></tr></thead><tbody><tr><td style=\"text-align: right\">12</td><td style=\"text-align: left\">Timon</td><td style=\"text-align: left\">Herrera</td><td style=\"text-align: right\">65633408</td><td style=\"text-align: right\">1991</td></tr><tr><td style=\"text-align: right\">17</td><td style=\"text-align: left\">Gilles</td><td style=\"text-align: left\">Rivera</td><td style=\"text-align: right\">80900390</td><td style=\"text-align: right\">1991</td></tr><tr><td style=\"text-align: right\">25</td><td style=\"text-align: left\">Grayson</td><td style=\"text-align: left\">Wells</td><td style=\"text-align: right\">45490444</td><td style=\"text-align: right\">1990</td></tr><tr><td style=\"text-align: right\">36</td><td style=\"text-align: left\">Lotoya</td><td style=\"text-align: left\">Ayers</td><td style=\"text-align: right\">68815547</td><td style=\"text-align: right\">1989</td></tr><tr><td style=\"text-align: right\">44</td><td style=\"text-align: left\">Brandey</td><td style=\"text-align: left\">Novak</td><td style=\"text-align: right\">75446546</td><td style=\"text-align: right\">1989</td></tr><tr><td style=\"text-align: right\">57</td><td style=\"text-align: left\">Atlas</td><td style=\"text-align: left\">Daugherty</td><td style=\"text-align: right\">42865794</td><td style=\"text-align: right\">1989</td></tr><tr><td style=\"text-align: right\">95</td><td style=\"text-align: left\">Jamarr</td><td style=\"text-align: left\">Williams</td><td style=\"text-align: right\">77304535</td><td style=\"text-align: right\">1991</td></tr><tr><td style=\"text-align: right\">105</td><td style=\"text-align: left\">Neka</td><td style=\"text-align: left\">Barber</td><td style=\"text-align: right\">84699963</td><td style=\"text-align: right\">1990</td></tr><tr><td style=\"text-align: right\">147</td><td style=\"text-align: left\">Malanie</td><td style=\"text-align: left\">Logan</td><td style=\"text-align: right\">96575149</td><td style=\"text-align: right\">1990</td></tr><tr><td style=\"text-align: right\">176</td><td style=\"text-align: left\">Barrie</td><td style=\"text-align: left\">Wilkerson</td><td style=\"text-align: right\">63148239</td><td style=\"text-align: right\">1989</td></tr></tbody></table>"
      ],
      "text/plain": [
       "<IPython.core.display.HTML object>"
      ]
     },
     "execution_count": 9,
     "metadata": {},
     "output_type": "execute_result"
    }
   ],
   "source": [
    "%%sql -Solution 4\n",
    "\n",
    "SELECT *\n",
    "FROM Customers\n",
    "WHERE birth_year BETWEEN 1989 AND 1991\n",
    "LIMIT 10"
   ]
  },
  {
   "cell_type": "code",
   "execution_count": 10,
   "id": "0dba98ac",
   "metadata": {},
   "outputs": [
    {
     "data": {
      "text/html": [
       "<table><thead><tr><th style=\"text-align: left\">id</th><th style=\"text-align: left\">name</th><th style=\"text-align: left\">salary</th><th style=\"text-align: left\">education</th><th style=\"text-align: left\">department</th></tr></thead><tbody><tr><td style=\"text-align: right\">21</td><td style=\"text-align: left\">Eli</td><td style=\"text-align: right\">176500</td><td style=\"text-align: left\">Master</td><td style=\"text-align: left\">Sales</td></tr><tr><td style=\"text-align: right\">7</td><td style=\"text-align: left\">John</td><td style=\"text-align: right\">148200</td><td style=\"text-align: left\">Bachelor</td><td style=\"text-align: left\">Sales</td></tr><tr><td style=\"text-align: right\">8</td><td style=\"text-align: left\">Joe</td><td style=\"text-align: right\">148100</td><td style=\"text-align: left\">Master</td><td style=\"text-align: left\">Sales</td></tr><tr><td style=\"text-align: right\">16</td><td style=\"text-align: left\">Karl</td><td style=\"text-align: right\">136100</td><td style=\"text-align: left\">Master</td><td style=\"text-align: left\">Sales</td></tr><tr><td style=\"text-align: right\">9</td><td style=\"text-align: left\">Sofia</td><td style=\"text-align: right\">117100</td><td style=\"text-align: left\">Bachelor</td><td style=\"text-align: left\">Sales</td></tr><tr><td style=\"text-align: right\">14</td><td style=\"text-align: left\">Linda</td><td style=\"text-align: right\">116300</td><td style=\"text-align: left\">Bachelor</td><td style=\"text-align: left\">Sales</td></tr><tr><td style=\"text-align: right\">1</td><td style=\"text-align: left\">Erik</td><td style=\"text-align: right\">114100</td><td style=\"text-align: left\">Bachelor</td><td style=\"text-align: left\">Sales</td></tr><tr><td style=\"text-align: right\">25</td><td style=\"text-align: left\">Mary</td><td style=\"text-align: right\">104600</td><td style=\"text-align: left\">Master</td><td style=\"text-align: left\">Sales</td></tr><tr><td style=\"text-align: right\">12</td><td style=\"text-align: left\">Fred</td><td style=\"text-align: right\">102000</td><td style=\"text-align: left\">High School</td><td style=\"text-align: left\">Sales</td></tr><tr><td style=\"text-align: right\">6</td><td style=\"text-align: left\">Tom</td><td style=\"text-align: right\">95900</td><td style=\"text-align: left\">Bachelor</td><td style=\"text-align: left\">Sales</td></tr></tbody></table>"
      ],
      "text/plain": [
       "<IPython.core.display.HTML object>"
      ]
     },
     "execution_count": 10,
     "metadata": {},
     "output_type": "execute_result"
    }
   ],
   "source": [
    "%%sql -Solution 5\n",
    "\n",
    "SELECT *\n",
    "FROM Employees\n",
    "WHERE department = 'Sales'\n",
    "ORDER BY Salary DESC\n",
    "LIMIT 10"
   ]
  },
  {
   "cell_type": "code",
   "execution_count": 11,
   "id": "9ff73e29",
   "metadata": {},
   "outputs": [
    {
     "data": {
      "text/html": [
       "<table><thead><tr><th style=\"text-align: left\">id</th><th style=\"text-align: left\">date</th><th style=\"text-align: left\">list_price</th><th style=\"text-align: left\">price</th><th style=\"text-align: left\">customer_id</th><th style=\"text-align: left\">car_id</th><th style=\"text-align: left\">employee_id</th></tr></thead><tbody><tr><td style=\"text-align: right\">1</td><td style=\"text-align: left\">2017-11-09</td><td style=\"text-align: right\">12500</td><td style=\"text-align: right\">12260.0</td><td style=\"text-align: right\">1555</td><td style=\"text-align: right\">7464</td><td style=\"text-align: right\">25</td></tr><tr><td style=\"text-align: right\">2</td><td style=\"text-align: left\">2010-05-05</td><td style=\"text-align: right\">15800</td><td style=\"text-align: right\">14930.0</td><td style=\"text-align: right\">2270</td><td style=\"text-align: right\">4358</td><td style=\"text-align: right\">7</td></tr><tr><td style=\"text-align: right\">3</td><td style=\"text-align: left\">2020-05-07</td><td style=\"text-align: right\">11800</td><td style=\"text-align: right\">11070.0</td><td style=\"text-align: right\">3481</td><td style=\"text-align: right\">1633</td><td style=\"text-align: right\">16</td></tr><tr><td style=\"text-align: right\">4</td><td style=\"text-align: left\">2020-09-22</td><td style=\"text-align: right\">30200</td><td style=\"text-align: right\">30110.0</td><td style=\"text-align: right\">3465</td><td style=\"text-align: right\">6161</td><td style=\"text-align: right\">1</td></tr><tr><td style=\"text-align: right\">5</td><td style=\"text-align: left\">2017-07-03</td><td style=\"text-align: right\">25200</td><td style=\"text-align: right\">24360.0</td><td style=\"text-align: right\">834</td><td style=\"text-align: right\">3811</td><td style=\"text-align: right\">16</td></tr><tr><td style=\"text-align: right\">6</td><td style=\"text-align: left\">2021-04-01</td><td style=\"text-align: right\">37600</td><td style=\"text-align: right\">37370.0</td><td style=\"text-align: right\">1541</td><td style=\"text-align: right\">4850</td><td style=\"text-align: right\">8</td></tr><tr><td style=\"text-align: right\">7</td><td style=\"text-align: left\">2019-11-29</td><td style=\"text-align: right\">10300</td><td style=\"text-align: right\">10230.0</td><td style=\"text-align: right\">1215</td><td style=\"text-align: right\">6784</td><td style=\"text-align: right\">1</td></tr><tr><td style=\"text-align: right\">9</td><td style=\"text-align: left\">2019-11-11</td><td style=\"text-align: right\">20400</td><td style=\"text-align: right\">19470.0</td><td style=\"text-align: right\">711</td><td style=\"text-align: right\">7882</td><td style=\"text-align: right\">21</td></tr><tr><td style=\"text-align: right\">10</td><td style=\"text-align: left\">2021-07-22</td><td style=\"text-align: right\">31500</td><td style=\"text-align: right\">30150.0</td><td style=\"text-align: right\">1609</td><td style=\"text-align: right\">1202</td><td style=\"text-align: right\">16</td></tr><tr><td style=\"text-align: right\">11</td><td style=\"text-align: left\">2011-01-07</td><td style=\"text-align: right\">13400</td><td style=\"text-align: right\">12680.0</td><td style=\"text-align: right\">3341</td><td style=\"text-align: right\">4870</td><td style=\"text-align: right\">23</td></tr></tbody></table>"
      ],
      "text/plain": [
       "<IPython.core.display.HTML object>"
      ]
     },
     "execution_count": 11,
     "metadata": {},
     "output_type": "execute_result"
    }
   ],
   "source": [
    "%%sql -Solution 6\n",
    "\n",
    "SELECT *\n",
    "FROM Sales\n",
    "WHERE list_price > price\n",
    "LIMIT 10"
   ]
  },
  {
   "cell_type": "markdown",
   "id": "98b79633",
   "metadata": {},
   "source": [
    "# Exercise 2: Queries involving several tables\n",
    "\n",
    "1. Create a query that returns the sales **date**, sales **list price** and employee **name** for all cars that was sold for exactly 5000\n",
    "2. Create a query that returns the distinct **departments** for the employees identified in the Sales table \n",
    "3. Create a query that returns all the information from the customer table for all the customers that buys a car for more than 170000"
   ]
  },
  {
   "cell_type": "code",
   "execution_count": 12,
   "id": "545371e4",
   "metadata": {},
   "outputs": [
    {
     "data": {
      "text/html": [
       "<table><thead><tr><th style=\"text-align: left\">date</th><th style=\"text-align: left\">list_price</th><th style=\"text-align: left\">name</th></tr></thead><tbody><tr><td style=\"text-align: left\">2019-10-31</td><td style=\"text-align: right\">5700</td><td style=\"text-align: left\">Tom</td></tr><tr><td style=\"text-align: left\">2017-08-21</td><td style=\"text-align: right\">5500</td><td style=\"text-align: left\">Chris</td></tr><tr><td style=\"text-align: left\">2019-07-25</td><td style=\"text-align: right\">5700</td><td style=\"text-align: left\">Bob</td></tr><tr><td style=\"text-align: left\">2016-04-28</td><td style=\"text-align: right\">5600</td><td style=\"text-align: left\">Sara</td></tr><tr><td style=\"text-align: left\">2021-02-08</td><td style=\"text-align: right\">5900</td><td style=\"text-align: left\">Mary</td></tr></tbody></table>"
      ],
      "text/plain": [
       "<IPython.core.display.HTML object>"
      ]
     },
     "execution_count": 12,
     "metadata": {},
     "output_type": "execute_result"
    }
   ],
   "source": [
    "%%sql -Solution 1\n",
    "\n",
    "SELECT Sales.date, Sales.list_price, Employees.name\n",
    "FROM Sales, Employees\n",
    "WHERE Sales.employee_id = Employees.id\n",
    "AND Sales.price = 5000"
   ]
  },
  {
   "cell_type": "code",
   "execution_count": 13,
   "id": "a8cd5d05",
   "metadata": {},
   "outputs": [
    {
     "data": {
      "text/html": [
       "<table><thead><tr><th style=\"text-align: left\">department</th></tr></thead><tbody><tr><td style=\"text-align: left\">Sales</td></tr></tbody></table>"
      ],
      "text/plain": [
       "<IPython.core.display.HTML object>"
      ]
     },
     "execution_count": 13,
     "metadata": {},
     "output_type": "execute_result"
    }
   ],
   "source": [
    "%%sql -Solution 2\n",
    "\n",
    "SELECT DISTINCT Employees.department\n",
    "FROM Sales, Employees\n",
    "WHERE Sales.employee_id = Employees.id"
   ]
  },
  {
   "cell_type": "code",
   "execution_count": 14,
   "id": "a52e07f2",
   "metadata": {},
   "outputs": [
    {
     "data": {
      "text/html": [
       "<table><thead><tr><th style=\"text-align: left\">id</th><th style=\"text-align: left\">first_name</th><th style=\"text-align: left\">last_name</th><th style=\"text-align: left\">phone</th><th style=\"text-align: left\">birth_year</th></tr></thead><tbody><tr><td style=\"text-align: right\">2030</td><td style=\"text-align: left\">Hamzah</td><td style=\"text-align: left\">Bailey</td><td style=\"text-align: right\">48619431</td><td style=\"text-align: right\">2004</td></tr><tr><td style=\"text-align: right\">196</td><td style=\"text-align: left\">Teka</td><td style=\"text-align: left\">Orr</td><td style=\"text-align: right\">16099070</td><td style=\"text-align: right\">1968</td></tr><tr><td style=\"text-align: right\">3712</td><td style=\"text-align: left\">Nansi</td><td style=\"text-align: left\">Hoffman</td><td style=\"text-align: right\">51425605</td><td style=\"text-align: right\">2004</td></tr><tr><td style=\"text-align: right\">2313</td><td style=\"text-align: left\">Bernard</td><td style=\"text-align: left\">Lam</td><td style=\"text-align: right\">96088219</td><td style=\"text-align: right\">2003</td></tr><tr><td style=\"text-align: right\">2355</td><td style=\"text-align: left\">Vondell</td><td style=\"text-align: left\">Conway</td><td style=\"text-align: right\">28508609</td><td style=\"text-align: right\">1985</td></tr><tr><td style=\"text-align: right\">3393</td><td style=\"text-align: left\">Shella</td><td style=\"text-align: left\">Juarez</td><td style=\"text-align: right\">72597641</td><td style=\"text-align: right\">1976</td></tr><tr><td style=\"text-align: right\">1470</td><td style=\"text-align: left\">Denver</td><td style=\"text-align: left\">Townsend</td><td style=\"text-align: right\">41526515</td><td style=\"text-align: right\">1979</td></tr><tr><td style=\"text-align: right\">1155</td><td style=\"text-align: left\">Lacoya</td><td style=\"text-align: left\">Erickson</td><td style=\"text-align: right\">50016921</td><td style=\"text-align: right\">1994</td></tr><tr><td style=\"text-align: right\">2294</td><td style=\"text-align: left\">Arlene</td><td style=\"text-align: left\">Snow</td><td style=\"text-align: right\">10229796</td><td style=\"text-align: right\">1985</td></tr><tr><td style=\"text-align: right\">2453</td><td style=\"text-align: left\">Niklaus</td><td style=\"text-align: left\">Martinez</td><td style=\"text-align: right\">90300574</td><td style=\"text-align: right\">1967</td></tr><tr><td style=\"text-align: right\">2862</td><td style=\"text-align: left\">Yaquelin</td><td style=\"text-align: left\">Richard</td><td style=\"text-align: right\">81895622</td><td style=\"text-align: right\">1964</td></tr></tbody></table>"
      ],
      "text/plain": [
       "<IPython.core.display.HTML object>"
      ]
     },
     "execution_count": 14,
     "metadata": {},
     "output_type": "execute_result"
    }
   ],
   "source": [
    "%%sql -Solution 3\n",
    "\n",
    "SELECT Customers.*\n",
    "FROM Customers, Sales\n",
    "WHERE Sales.customer_id = Customers.id\n",
    "AND Sales.price > 170000"
   ]
  },
  {
   "cell_type": "markdown",
   "id": "424da486",
   "metadata": {},
   "source": [
    "# Exercises 3: Extracting information from the database\n",
    "\n",
    "1. Who is the employee in the Admin **department** with the highest **salary**\n",
    "2. What **type** of car is the Audi with the highest sales price?\n",
    "3. Identify the SUV with the lowest **msrp**\n",
    "4. How many in the sales **department** are categorized with a High School degree\n",
    "5. How many cars are the employee Fredrik responsible for?"
   ]
  },
  {
   "cell_type": "code",
   "execution_count": 15,
   "id": "b0216985",
   "metadata": {},
   "outputs": [
    {
     "data": {
      "text/html": [
       "<table><thead><tr><th style=\"text-align: left\">id</th><th style=\"text-align: left\">name</th><th style=\"text-align: left\">salary</th><th style=\"text-align: left\">education</th><th style=\"text-align: left\">department</th></tr></thead><tbody><tr><td style=\"text-align: right\">2</td><td style=\"text-align: left\">Sue</td><td style=\"text-align: right\">116200</td><td style=\"text-align: left\">Bachelor</td><td style=\"text-align: left\">Admin</td></tr></tbody></table>"
      ],
      "text/plain": [
       "<IPython.core.display.HTML object>"
      ]
     },
     "execution_count": 15,
     "metadata": {},
     "output_type": "execute_result"
    }
   ],
   "source": [
    "%%sql -Solution 1\n",
    "\n",
    "SELECT *\n",
    "FROM Employees \n",
    "WHERE department = 'Admin'\n",
    "LIMIT 1"
   ]
  },
  {
   "cell_type": "code",
   "execution_count": 16,
   "id": "e0c33d5b",
   "metadata": {},
   "outputs": [
    {
     "data": {
      "text/html": [
       "<table><thead><tr><th style=\"text-align: left\">price</th><th style=\"text-align: left\">type</th></tr></thead><tbody><tr><td style=\"text-align: right\">159700.0</td><td style=\"text-align: left\">Coupe</td></tr></tbody></table>"
      ],
      "text/plain": [
       "<IPython.core.display.HTML object>"
      ]
     },
     "execution_count": 16,
     "metadata": {},
     "output_type": "execute_result"
    }
   ],
   "source": [
    "%%sql -Solution 2\n",
    "\n",
    "SELECT Sales.price, Cars.type\n",
    "FROM Sales, Cars\n",
    "WHERE Sales.car_id = Cars.id\n",
    "AND Cars.make = 'Audi'\n",
    "ORDER BY Sales.price DESC\n",
    "LIMIT 1"
   ]
  },
  {
   "cell_type": "code",
   "execution_count": 17,
   "id": "d98bae0e",
   "metadata": {},
   "outputs": [
    {
     "data": {
      "text/html": [
       "<table><thead><tr><th style=\"text-align: left\">id</th><th style=\"text-align: left\">make</th><th style=\"text-align: left\">type</th><th style=\"text-align: left\">year</th><th style=\"text-align: left\">color</th><th style=\"text-align: left\">msrp</th><th style=\"text-align: left\">employee_id</th></tr></thead><tbody><tr><td style=\"text-align: right\">2917</td><td style=\"text-align: left\">Toyota</td><td style=\"text-align: left\">SUV</td><td style=\"text-align: right\">2005</td><td style=\"text-align: left\">Red</td><td style=\"text-align: right\">19000.0</td><td style=\"text-align: right\">5</td></tr></tbody></table>"
      ],
      "text/plain": [
       "<IPython.core.display.HTML object>"
      ]
     },
     "execution_count": 17,
     "metadata": {},
     "output_type": "execute_result"
    }
   ],
   "source": [
    "%%sql -Solution 3\n",
    "\n",
    "SELECT *\n",
    "From Cars\n",
    "WHERE type = 'SUV'\n",
    "ORDER BY msrp\n",
    "LIMIT 1"
   ]
  },
  {
   "cell_type": "code",
   "execution_count": 18,
   "id": "714df188",
   "metadata": {},
   "outputs": [
    {
     "data": {
      "text/html": [
       "<table><thead><tr><th style=\"text-align: left\">count(*)</th></tr></thead><tbody><tr><td style=\"text-align: right\">6</td></tr></tbody></table>"
      ],
      "text/plain": [
       "<IPython.core.display.HTML object>"
      ]
     },
     "execution_count": 18,
     "metadata": {},
     "output_type": "execute_result"
    }
   ],
   "source": [
    "%%sql -Solution 4\n",
    "\n",
    "SELECT count(*)\n",
    "FROM Employees\n",
    "WHERE department = 'Sales'\n",
    "AND education = 'High School'"
   ]
  },
  {
   "cell_type": "code",
   "execution_count": 19,
   "id": "09095b75",
   "metadata": {},
   "outputs": [
    {
     "data": {
      "text/html": [
       "<table><thead><tr><th style=\"text-align: left\">count(Cars.id)</th></tr></thead><tbody><tr><td style=\"text-align: right\">1143</td></tr></tbody></table>"
      ],
      "text/plain": [
       "<IPython.core.display.HTML object>"
      ]
     },
     "execution_count": 19,
     "metadata": {},
     "output_type": "execute_result"
    }
   ],
   "source": [
    "%%sql -Solution 5\n",
    "\n",
    "SELECT count(Cars.id)\n",
    "FROM Cars, Employees\n",
    "WHERE Cars.employee_id = Employees.id\n",
    "AND Employees.name = 'Fredrik'"
   ]
  },
  {
   "cell_type": "markdown",
   "id": "ff0e9400",
   "metadata": {},
   "source": [
    "# Exercise 4: Python and SQL\n",
    "\n",
    "1. Create a Pandas dataframe with all the information about the Hondas from the Cars table \n",
    "2. Create a Pandas dataframe with all the information about the employees in the service department\n",
    "3. Plot the yearly mean (based on the sales date) sales **price** from all the sales registered in the database\n",
    "4. Plot the yearly mean (based on the year of the car) **msrp** for all the cars with the make **Mercedes**  "
   ]
  },
  {
   "cell_type": "code",
   "execution_count": 20,
   "id": "de775149",
   "metadata": {},
   "outputs": [],
   "source": [
    "import pandas as pd\n",
    "import sqlite3"
   ]
  },
  {
   "cell_type": "code",
   "execution_count": 21,
   "id": "15886d43",
   "metadata": {},
   "outputs": [
    {
     "data": {
      "text/html": [
       "<div>\n",
       "<style scoped>\n",
       "    .dataframe tbody tr th:only-of-type {\n",
       "        vertical-align: middle;\n",
       "    }\n",
       "\n",
       "    .dataframe tbody tr th {\n",
       "        vertical-align: top;\n",
       "    }\n",
       "\n",
       "    .dataframe thead th {\n",
       "        text-align: right;\n",
       "    }\n",
       "</style>\n",
       "<table border=\"1\" class=\"dataframe\">\n",
       "  <thead>\n",
       "    <tr style=\"text-align: right;\">\n",
       "      <th></th>\n",
       "      <th>id</th>\n",
       "      <th>make</th>\n",
       "      <th>type</th>\n",
       "      <th>year</th>\n",
       "      <th>color</th>\n",
       "      <th>msrp</th>\n",
       "      <th>employee_id</th>\n",
       "    </tr>\n",
       "  </thead>\n",
       "  <tbody>\n",
       "    <tr>\n",
       "      <th>0</th>\n",
       "      <td>4</td>\n",
       "      <td>Honda</td>\n",
       "      <td>Coupe</td>\n",
       "      <td>2012</td>\n",
       "      <td>Blue</td>\n",
       "      <td>41100.0</td>\n",
       "      <td>4</td>\n",
       "    </tr>\n",
       "    <tr>\n",
       "      <th>1</th>\n",
       "      <td>18</td>\n",
       "      <td>Honda</td>\n",
       "      <td>Sedan</td>\n",
       "      <td>2015</td>\n",
       "      <td>Brown</td>\n",
       "      <td>33700.0</td>\n",
       "      <td>26</td>\n",
       "    </tr>\n",
       "    <tr>\n",
       "      <th>2</th>\n",
       "      <td>27</td>\n",
       "      <td>Honda</td>\n",
       "      <td>Estate</td>\n",
       "      <td>2014</td>\n",
       "      <td>Brown</td>\n",
       "      <td>49200.0</td>\n",
       "      <td>17</td>\n",
       "    </tr>\n",
       "    <tr>\n",
       "      <th>3</th>\n",
       "      <td>55</td>\n",
       "      <td>Honda</td>\n",
       "      <td>Sedan</td>\n",
       "      <td>2011</td>\n",
       "      <td>Red</td>\n",
       "      <td>17500.0</td>\n",
       "      <td>20</td>\n",
       "    </tr>\n",
       "    <tr>\n",
       "      <th>4</th>\n",
       "      <td>63</td>\n",
       "      <td>Honda</td>\n",
       "      <td>Sedan</td>\n",
       "      <td>2015</td>\n",
       "      <td>Black</td>\n",
       "      <td>26800.0</td>\n",
       "      <td>20</td>\n",
       "    </tr>\n",
       "  </tbody>\n",
       "</table>\n",
       "</div>"
      ],
      "text/plain": [
       "   id   make    type  year  color     msrp  employee_id\n",
       "0   4  Honda   Coupe  2012   Blue  41100.0            4\n",
       "1  18  Honda   Sedan  2015  Brown  33700.0           26\n",
       "2  27  Honda  Estate  2014  Brown  49200.0           17\n",
       "3  55  Honda   Sedan  2011    Red  17500.0           20\n",
       "4  63  Honda   Sedan  2015  Black  26800.0           20"
      ]
     },
     "execution_count": 21,
     "metadata": {},
     "output_type": "execute_result"
    }
   ],
   "source": [
    "# Solution 1\n",
    "\n",
    "con = sqlite3.connect('auto_dealership_database.db')\n",
    "Hondas = pd.read_sql('SELECT * FROM Cars WHERE make = \"Honda\"', con)\n",
    "con.close()\n",
    "Hondas.head()"
   ]
  },
  {
   "cell_type": "code",
   "execution_count": 22,
   "id": "a95b6fb9",
   "metadata": {},
   "outputs": [
    {
     "data": {
      "text/html": [
       "<div>\n",
       "<style scoped>\n",
       "    .dataframe tbody tr th:only-of-type {\n",
       "        vertical-align: middle;\n",
       "    }\n",
       "\n",
       "    .dataframe tbody tr th {\n",
       "        vertical-align: top;\n",
       "    }\n",
       "\n",
       "    .dataframe thead th {\n",
       "        text-align: right;\n",
       "    }\n",
       "</style>\n",
       "<table border=\"1\" class=\"dataframe\">\n",
       "  <thead>\n",
       "    <tr style=\"text-align: right;\">\n",
       "      <th></th>\n",
       "      <th>id</th>\n",
       "      <th>name</th>\n",
       "      <th>salary</th>\n",
       "      <th>education</th>\n",
       "      <th>department</th>\n",
       "    </tr>\n",
       "  </thead>\n",
       "  <tbody>\n",
       "    <tr>\n",
       "      <th>0</th>\n",
       "      <td>4</td>\n",
       "      <td>Anne</td>\n",
       "      <td>75900</td>\n",
       "      <td>Master</td>\n",
       "      <td>Service</td>\n",
       "    </tr>\n",
       "    <tr>\n",
       "      <th>1</th>\n",
       "      <td>5</td>\n",
       "      <td>Mary</td>\n",
       "      <td>89100</td>\n",
       "      <td>Bachelor</td>\n",
       "      <td>Service</td>\n",
       "    </tr>\n",
       "    <tr>\n",
       "      <th>2</th>\n",
       "      <td>15</td>\n",
       "      <td>Anne</td>\n",
       "      <td>45600</td>\n",
       "      <td>Bachelor</td>\n",
       "      <td>Service</td>\n",
       "    </tr>\n",
       "    <tr>\n",
       "      <th>3</th>\n",
       "      <td>17</td>\n",
       "      <td>Sally</td>\n",
       "      <td>84100</td>\n",
       "      <td>Bachelor</td>\n",
       "      <td>Service</td>\n",
       "    </tr>\n",
       "    <tr>\n",
       "      <th>4</th>\n",
       "      <td>19</td>\n",
       "      <td>Sara</td>\n",
       "      <td>67200</td>\n",
       "      <td>High School</td>\n",
       "      <td>Service</td>\n",
       "    </tr>\n",
       "  </tbody>\n",
       "</table>\n",
       "</div>"
      ],
      "text/plain": [
       "   id   name  salary    education department\n",
       "0   4   Anne   75900       Master    Service\n",
       "1   5   Mary   89100     Bachelor    Service\n",
       "2  15   Anne   45600     Bachelor    Service\n",
       "3  17  Sally   84100     Bachelor    Service\n",
       "4  19   Sara   67200  High School    Service"
      ]
     },
     "execution_count": 22,
     "metadata": {},
     "output_type": "execute_result"
    }
   ],
   "source": [
    "# Solution 2\n",
    "\n",
    "con = sqlite3.connect('auto_dealership_database.db')\n",
    "Service_epms = pd.read_sql('SELECT * FROM Employees WHERE department = \"Service\"', con)\n",
    "con.close()\n",
    "Service_epms.head()"
   ]
  },
  {
   "cell_type": "code",
   "execution_count": 23,
   "id": "c4df0991",
   "metadata": {},
   "outputs": [
    {
     "data": {
      "text/plain": [
       "<AxesSubplot: xlabel='date'>"
      ]
     },
     "execution_count": 23,
     "metadata": {},
     "output_type": "execute_result"
    },
    {
     "data": {
      "image/png": "[encoded data removed]",
      "text/plain": [
       "<Figure size 640x480 with 1 Axes>"
      ]
     },
     "metadata": {},
     "output_type": "display_data"
    }
   ],
   "source": [
    "# Solution 3\n",
    "\n",
    "con = sqlite3.connect('auto_dealership_database.db')\n",
    "Sales = pd.read_sql('SELECT * FROM Sales', con)\n",
    "con.close()\n",
    "\n",
    "SalesDay = Sales.groupby('date')['price'].mean()\n",
    "SalesDay.index = pd.to_datetime(SalesDay.index)\n",
    "SalesDay.resample('A').mean().plot(lw=2, label='Average sales price', legend=True)"
   ]
  },
  {
   "cell_type": "code",
   "execution_count": 24,
   "id": "a12a8084",
   "metadata": {},
   "outputs": [
    {
     "data": {
      "text/plain": [
       "<AxesSubplot: xlabel='year'>"
      ]
     },
     "execution_count": 24,
     "metadata": {},
     "output_type": "execute_result"
    },
    {
     "data": {
      "image/png": "[encoded data removed]",
      "text/plain": [
       "<Figure size 640x480 with 1 Axes>"
      ]
     },
     "metadata": {},
     "output_type": "display_data"
    }
   ],
   "source": [
    "#Solution 4\n",
    "\n",
    "con = sqlite3.connect('auto_dealership_database.db')\n",
    "Mercedes = pd.read_sql('SELECT * FROM Cars WHERE make = \"Mercedes\"', con)\n",
    "con.close()\n",
    "\n",
    "MercedesDay = Mercedes.groupby('year')['msrp'].mean()\n",
    "MercedesDay.index = pd.to_datetime(MercedesDay.index)\n",
    "MercedesDay.plot(lw=2, label='Average Mercedes msrp', legend=True)"
   ]
  }
 ],
 "metadata": {
  "kernelspec": {
   "display_name": "Python 3 (ipykernel)",
   "language": "python",
   "name": "python3"
  },
  "language_info": {
   "codemirror_mode": {
    "name": "ipython",
    "version": 3
   },
   "file_extension": ".py",
   "mimetype": "text/x-python",
   "name": "python",
   "nbconvert_exporter": "python",
   "pygments_lexer": "ipython3",
   "version": "3.10.8"
  }
 },
 "nbformat": 4,
 "nbformat_minor": 5
}
