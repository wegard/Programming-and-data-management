{
 "cells": [
  {
   "cell_type": "markdown",
   "id": "71c1f793",
   "metadata": {},
   "source": [
    "## Problem set 5: Databases with SQL and Python"
   ]
  },
  {
   "cell_type": "markdown",
   "id": "ce1f177d",
   "metadata": {},
   "source": [
    "## Auto dealership database\n",
    "\n",
    "### Table: Employee\n",
    "\n",
    "* id - Unique identifier\n",
    "* name - First name \n",
    "* salary - Salary in €\n",
    "* education - High School, Bachelor or Master\n",
    "* department - Admin, Sales or Service"
   ]
  },
  {
   "cell_type": "markdown",
   "id": "363064bb",
   "metadata": {},
   "source": [
    "### Table: Car\n",
    "\n",
    "* id - Unique identifier\n",
    "* make - Car manufacturer, e.g., Toyota or BMW\n",
    "* type - Type of car, e.g., Sedan or SUV\n",
    "* year - Production year of the car\n",
    "* color - Color of Car\n",
    "* msrp - Manufacturer's suggested retail price in €\n",
    "* employee id - Identifier from employee table, telling us which employee is responsible for the car  "
   ]
  },
  {
   "cell_type": "markdown",
   "id": "ee3cc88e",
   "metadata": {},
   "source": [
    "### Table: Customer\n",
    "\n",
    "* **id** - Unique identifier \n",
    "* **first_name** - First name\n",
    "* **last_name** - Last name\n",
    "* **phone** - Telephone number\n",
    "* **birth_year** - Birth year"
   ]
  },
  {
   "cell_type": "markdown",
   "id": "0ff4b700",
   "metadata": {},
   "source": [
    "### Table: Sales\n",
    "\n",
    "* **id** - Unique identifier\n",
    "* **date** - Date of the sale\n",
    "* **list_price** - The list price at the time of the sale\n",
    "* **price** - The actual sales price\n",
    "* **customer_id** - The customer id\n",
    "* **car_id** - The car id\n",
    "* **employee_id** - The employee id "
   ]
  },
  {
   "cell_type": "code",
   "execution_count": null,
   "id": "0c2ecf48",
   "metadata": {},
   "outputs": [],
   "source": [
    "%load_ext isqlite3\n",
    "%sql_open auto_dealership_database.db"
   ]
  },
  {
   "cell_type": "markdown",
   "id": "778d668b",
   "metadata": {},
   "source": [
    "## Exercise 1: Queries on a single table\n",
    "\n",
    "1. Select the **make**, the **year** and the **color** for all the cars in the Car table\n",
    "2. Select the **phone** number and **birth year** of the customer *Lanay Holt*\n",
    "3. Select all the unique car **makes**, and sort them alphabetically \n",
    "4. Select all the customers with a **birth year** between 1989 and 1991\n",
    "5. Select all the employees in the sales **department** ordered by their **salary** from high to low\n",
    "6. Select all the sales where the car is sold for less than the **list price**"
   ]
  },
  {
   "cell_type": "code",
   "execution_count": null,
   "id": "b7efd723",
   "metadata": {},
   "outputs": [],
   "source": [
    "%%sql -Solution 1\n",
    "\n",
    "SELECT make, year, color\n",
    "FROM Cars\n",
    "LIMIT 20"
   ]
  },
  {
   "cell_type": "code",
   "execution_count": null,
   "id": "bea95608",
   "metadata": {},
   "outputs": [],
   "source": [
    "%%sql -Solution 2\n",
    "\n",
    "SELECT phone, birth_year\n",
    "FROM Customers\n",
    "WHERE Customers.first_name = 'Lanay'\n",
    "AND Customers.last_name ='Holt'"
   ]
  },
  {
   "cell_type": "code",
   "execution_count": null,
   "id": "30db1ee0",
   "metadata": {},
   "outputs": [],
   "source": [
    "%%sql -Solution 3\n",
    "\n",
    "SELECT DISTINCT make\n",
    "FROM Cars\n",
    "ORDER BY make"
   ]
  },
  {
   "cell_type": "code",
   "execution_count": null,
   "id": "a547ee42",
   "metadata": {},
   "outputs": [],
   "source": [
    "%%sql -Solution 4\n",
    "\n",
    "SELECT *\n",
    "FROM Customers\n",
    "WHERE birth_year BETWEEN 1989 AND 1991\n",
    "LIMIT 10"
   ]
  },
  {
   "cell_type": "code",
   "execution_count": null,
   "id": "0dba98ac",
   "metadata": {},
   "outputs": [],
   "source": [
    "%%sql -Solution 5\n",
    "\n",
    "SELECT *\n",
    "FROM Employees\n",
    "WHERE department = 'Sales'\n",
    "ORDER BY Salary DESC\n",
    "LIMIT 10"
   ]
  },
  {
   "cell_type": "code",
   "execution_count": null,
   "id": "9ff73e29",
   "metadata": {},
   "outputs": [],
   "source": [
    "%%sql -Solution 6\n",
    "\n",
    "SELECT *\n",
    "FROM Sales\n",
    "WHERE list_price > price\n",
    "LIMIT 10"
   ]
  },
  {
   "cell_type": "markdown",
   "id": "98b79633",
   "metadata": {},
   "source": [
    "# Exercise 2: Queries involving several tables\n",
    "\n",
    "1. Create a query that returns the sales **date**, sales **list price** and employee **name** for all cars that was sold for exactly 5000\n",
    "2. Create a query that returns the distinct **departments** for the employees identified in the Sales table \n",
    "3. Create a query that returns all the information from the customer table for all the customers that buys a car for more than 170000"
   ]
  },
  {
   "cell_type": "code",
   "execution_count": null,
   "id": "545371e4",
   "metadata": {},
   "outputs": [],
   "source": [
    "%%sql -Solution 1\n",
    "\n",
    "SELECT Sales.date, Sales.list_price, Employees.name\n",
    "FROM Sales, Employees\n",
    "WHERE Sales.employee_id = Employees.id\n",
    "AND Sales.price = 5000"
   ]
  },
  {
   "cell_type": "code",
   "execution_count": null,
   "id": "a8cd5d05",
   "metadata": {},
   "outputs": [],
   "source": [
    "%%sql -Solution 2\n",
    "\n",
    "SELECT DISTINCT Employees.department\n",
    "FROM Sales, Employees\n",
    "WHERE Sales.employee_id = Employees.id"
   ]
  },
  {
   "cell_type": "code",
   "execution_count": null,
   "id": "a52e07f2",
   "metadata": {},
   "outputs": [],
   "source": [
    "%%sql -Solution 3\n",
    "\n",
    "SELECT Customers.*\n",
    "FROM Customers, Sales\n",
    "WHERE Sales.customer_id = Customers.id\n",
    "AND Sales.price > 170000"
   ]
  },
  {
   "cell_type": "markdown",
   "id": "424da486",
   "metadata": {},
   "source": [
    "# Exercises 3: Extracting information from the database\n",
    "\n",
    "1. Who is the employee in the Admin **department** with the highest **salary**\n",
    "2. What **type** of car is the Audi with the highest sales price?\n",
    "3. Identify the SUV with the lowest **msrp**\n",
    "4. How many in the sales **department** are categorized with a High School degree\n",
    "5. How many cars are the employee Fredrik responsible for?"
   ]
  },
  {
   "cell_type": "code",
   "execution_count": null,
   "id": "b0216985",
   "metadata": {},
   "outputs": [],
   "source": [
    "%%sql -Solution 1\n",
    "\n",
    "SELECT *\n",
    "FROM Employees \n",
    "WHERE department = 'Admin'\n",
    "LIMIT 1"
   ]
  },
  {
   "cell_type": "code",
   "execution_count": null,
   "id": "e0c33d5b",
   "metadata": {},
   "outputs": [],
   "source": [
    "%%sql -Solution 2\n",
    "\n",
    "SELECT Sales.price, Cars.type\n",
    "FROM Sales, Cars\n",
    "WHERE Sales.car_id = Cars.id\n",
    "AND Cars.make = 'Audi'\n",
    "ORDER BY Sales.price DESC\n",
    "LIMIT 1"
   ]
  },
  {
   "cell_type": "code",
   "execution_count": null,
   "id": "d98bae0e",
   "metadata": {},
   "outputs": [],
   "source": [
    "%%sql -Solution 3\n",
    "\n",
    "SELECT *\n",
    "From Cars\n",
    "WHERE type = 'SUV'\n",
    "ORDER BY msrp\n",
    "LIMIT 1"
   ]
  },
  {
   "cell_type": "code",
   "execution_count": null,
   "id": "714df188",
   "metadata": {},
   "outputs": [],
   "source": [
    "%%sql -Solution 4\n",
    "\n",
    "SELECT count(*)\n",
    "FROM Employees\n",
    "WHERE department = 'Sales'\n",
    "AND education = 'High School'"
   ]
  },
  {
   "cell_type": "code",
   "execution_count": null,
   "id": "09095b75",
   "metadata": {},
   "outputs": [],
   "source": [
    "%%sql -Solution 5\n",
    "\n",
    "SELECT count(Cars.id)\n",
    "FROM Cars, Employees\n",
    "WHERE Cars.employee_id = Employees.id\n",
    "AND Employees.name = 'Fredrik'"
   ]
  },
  {
   "cell_type": "markdown",
   "id": "ff0e9400",
   "metadata": {},
   "source": [
    "# Exercise 4: Python and SQL\n",
    "\n",
    "1. Create a Pandas dataframe with all the information about the Hondas from the Cars table \n",
    "2. Create a Pandas dataframe with all the information about the employees in the service department\n",
    "3. Plot the yearly mean (based on the sales date) sales **price** from all the sales registered in the database\n",
    "4. Plot the yearly mean (based on the year of the car) **msrp** for all the cars with the make **Mercedes**  "
   ]
  },
  {
   "cell_type": "code",
   "execution_count": null,
   "id": "de775149",
   "metadata": {},
   "outputs": [],
   "source": [
    "import pandas as pd\n",
    "import sqlite3"
   ]
  },
  {
   "cell_type": "code",
   "execution_count": null,
   "id": "15886d43",
   "metadata": {},
   "outputs": [],
   "source": [
    "# Solution 1\n",
    "\n",
    "con = sqlite3.connect('auto_dealership_database.db')\n",
    "Hondas = pd.read_sql('SELECT * FROM Cars WHERE make = \"Honda\"', con)\n",
    "con.close()\n",
    "Hondas.head()"
   ]
  },
  {
   "cell_type": "code",
   "execution_count": null,
   "id": "a95b6fb9",
   "metadata": {},
   "outputs": [],
   "source": [
    "# Solution 2\n",
    "\n",
    "con = sqlite3.connect('auto_dealership_database.db')\n",
    "Service_epms = pd.read_sql('SELECT * FROM Employees WHERE department = \"Service\"', con)\n",
    "con.close()\n",
    "Service_epms.head()"
   ]
  },
  {
   "cell_type": "code",
   "execution_count": null,
   "id": "c4df0991",
   "metadata": {},
   "outputs": [],
   "source": [
    "# Solution 3\n",
    "\n",
    "con = sqlite3.connect('auto_dealership_database.db')\n",
    "Sales = pd.read_sql('SELECT * FROM Sales', con)\n",
    "con.close()\n",
    "\n",
    "SalesDay = Sales.groupby('date')['price'].mean()\n",
    "SalesDay.index = pd.to_datetime(SalesDay.index)\n",
    "SalesDay.resample('A').mean().plot(lw=2, label='Average sales price', legend=True)"
   ]
  },
  {
   "cell_type": "code",
   "execution_count": null,
   "id": "a12a8084",
   "metadata": {},
   "outputs": [],
   "source": [
    "#Solution 4\n",
    "\n",
    "con = sqlite3.connect('auto_dealership_database.db')\n",
    "Mercedes = pd.read_sql('SELECT * FROM Cars WHERE make = \"Mercedes\"', con)\n",
    "con.close()\n",
    "\n",
    "MercedesDay = Mercedes.groupby('year')['msrp'].mean()\n",
    "MercedesDay.index = pd.to_datetime(MercedesDay.index)\n",
    "MercedesDay.plot(lw=2, label='Average Mercedes msrp', legend=True)"
   ]
  }
 ],
 "metadata": {
  "kernelspec": {
   "display_name": "Python 3 (ipykernel)",
   "language": "python",
   "name": "python3"
  },
  "language_info": {
   "codemirror_mode": {
    "name": "ipython",
    "version": 3
   },
   "file_extension": ".py",
   "mimetype": "text/x-python",
   "name": "python",
   "nbconvert_exporter": "python",
   "pygments_lexer": "ipython3",
   "version": "3.9.12"
  }
 },
 "nbformat": 4,
 "nbformat_minor": 5
}
