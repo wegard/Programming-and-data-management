{
 "cells": [
  {
   "cell_type": "markdown",
   "metadata": {},
   "source": [
    "# Problem Set 2: Python Basics\n",
    "\n",
    "## Topics Covered:\n",
    "1. Variables, expressions, and statements\n",
    "2. Built-in functions and containers"
   ]
  },
  {
   "cell_type": "markdown",
   "metadata": {},
   "source": [
    "## Problem 1: Variables, Expressions, and Statements\n",
    "\n",
    "### Task 1.1 *Declare and print some variables*:\n",
    "Declare three variables: an integer, a float, and a string. Then print them."
   ]
  },
  {
   "cell_type": "code",
   "execution_count": 1,
   "metadata": {},
   "outputs": [
    {
     "name": "stdout",
     "output_type": "stream",
     "text": [
      "1\n",
      "3.14\n",
      "Hello World\n"
     ]
    }
   ],
   "source": [
    "# Your code here\n",
    "\n",
    "a = 1\n",
    "b = 3.14\n",
    "c = 'Hello World'\n",
    "\n",
    "print(a)\n",
    "print(b)\n",
    "print(c)"
   ]
  },
  {
   "cell_type": "markdown",
   "metadata": {},
   "source": [
    "### Task 1.2 *Basic arithmetics*:\n",
    "Given the variables `a = 5` and `b = 2`. Calculate and print the result of:\n",
    "1. a + b\n",
    "2. a - b\n",
    "3. a * b\n",
    "4. a / b"
   ]
  },
  {
   "cell_type": "code",
   "execution_count": 2,
   "metadata": {},
   "outputs": [
    {
     "name": "stdout",
     "output_type": "stream",
     "text": [
      "4.140000000000001\n",
      "-2.14\n",
      "3.14\n",
      "0.3184713375796178\n"
     ]
    }
   ],
   "source": [
    "# Your code here\n",
    "\n",
    "print(a + b)\n",
    "print(a - b)\n",
    "print(a * b)\n",
    "print(a / b)"
   ]
  },
  {
   "cell_type": "markdown",
   "metadata": {},
   "source": [
    "### Task 1.3 *Interest rate calculator*:\n",
    "Create a simple interest calculator that uses the formula:\n",
    "\n",
    "$$ \\text{Simple Interest} = P \\times R \\times T $$\n",
    "\n",
    "Where:\n",
    "\n",
    "- \\( P \\) is the principal amount.\n",
    "- \\( R \\) is the rate of interest per period.\n",
    "- \\( T \\) is the time the money is invested for in years.\n",
    "\n",
    "You can assume the initial values, or use `input()` to get values from the user."
   ]
  },
  {
   "cell_type": "code",
   "execution_count": 3,
   "metadata": {},
   "outputs": [],
   "source": [
    "# Your code coes here.\n",
    "\n",
    "# Function to calculate simple interest\n",
    "def calculate_simple_interest(P, R, T):\n",
    "    return P * R * T\n",
    "\n",
    "# Get user input for principal amount, rate of interest, and time in years\n",
    "P = float(input(\"Enter the principal amount: \"))\n",
    "R = float(input(\"Enter the rate of interest per period (as a percentage): \")) / 100\n",
    "T = float(input(\"Enter the time the money is invested for in years: \"))\n",
    "\n",
    "# Calculate simple interest\n",
    "simple_interest = calculate_simple_interest(P, R, T)\n",
    "\n",
    "# Display the result\n",
    "print(f\"The simple interest is: {simple_interest}\")\n"
   ]
  },
  {
   "cell_type": "markdown",
   "metadata": {},
   "source": [
    "### Task 1.4 *Currency converter*:\n",
    "Ask the user for an amount in US dollars and convert this amount to a specified currency (e.g., Euros, Pounds, etc.). Use a fixed conversion rate for simplicity."
   ]
  },
  {
   "cell_type": "code",
   "execution_count": 4,
   "metadata": {},
   "outputs": [
    {
     "name": "stdout",
     "output_type": "stream",
     "text": [
      "The amount in euros is:  6.56\n"
     ]
    }
   ],
   "source": [
    "# Your code goes here.\n",
    "\n",
    "# Ask the user for the amount in USD\n",
    "amount_usd = float(input(\"Enter the amount in US Dollars: \"))\n",
    "\n",
    "exchange_rate = 0.82\n",
    "\n",
    "# Convert the amount to euros\n",
    "amount_euros = amount_usd * exchange_rate\n",
    "\n",
    "# Print the amount in euros\n",
    "print(\"The amount in euros is: \", amount_euros)"
   ]
  },
  {
   "cell_type": "markdown",
   "metadata": {},
   "source": [
    "### Task 1.5 *Quadratic equation solver* (Tougher exercise):\n",
    "Write a program that solves the quadratic equation $ax^2 + bx + c = 0$. The program should ask the user for values of a, b, and c, and then print the solutions (if they exist).\n",
    "\n",
    "Here are some examples of equations and their respective solutions:\n",
    "\n",
    "1. **Equation:**  $x^2 - 5x + 6 = 0$  \n",
    "   **Solutions:** $x_1 = 3$ and $x_2 = 2$\n",
    "\n",
    "2. **Equation:** $x^2 - 4x + 4 = 0$ \n",
    "   **Solution:** $x = 2$ (Note: This equation has a single repeated root.)\n",
    "\n",
    "3. **Equation:** $x^2 + 4x + 5 = 0$  \n",
    "   **Solutions:** None (This equation does not have real roots, but if you were to consider complex numbers, the roots would be  $x_1 = -2 + i$ and $x_2 = -2 - i$.)\n",
    "\n",
    "*Hint:*\n",
    "\n",
    "The formula for solving quadratic equations, often referred to as the **quadratic formula**, is used to find the roots (or solutions) of an equation of the form \\( ax^2 + bx + c = 0 \\). The formula is:\n",
    "\n",
    "$$ x = \\frac{-b \\pm \\sqrt{b^2 - 4ac}}{2a} $$\n",
    "\n",
    "Here's a breakdown of the terms:\n",
    "\n",
    "- $a$, $b$, and $c$ are coefficients from the quadratic equation.\n",
    "- $\\sqrt{}$ denotes the square root.\n",
    "- $b^2 - 4ac$ is called the discriminant. It determines the nature of the roots:\n",
    "  - If $b^2 - 4ac > 0$, the equation has two distinct real roots.\n",
    "  - If $b^2 - 4ac = 0$, the equation has one repeated real root (or a double root).\n",
    "  - If $b^2 - 4ac < 0$, the equation has two complex (or imaginary) roots.\n",
    "\n",
    "The $\\pm$ in the formula indicates that there are generally two solutions for $x$ (except in the case where the discriminant is zero)."
   ]
  },
  {
   "cell_type": "code",
   "execution_count": 5,
   "metadata": {},
   "outputs": [
    {
     "name": "stdout",
     "output_type": "stream",
     "text": [
      "The solutions are:  (-0.4999999999999999+0.8660254037844387j) (-0.5000000000000001-0.8660254037844387j)\n"
     ]
    }
   ],
   "source": [
    "# Your solution goes here\n",
    "\n",
    "# Simple solution\n",
    "\n",
    "# Get values of a, b, and c from the user\n",
    "a = float(input(\"Enter the value for a: \"))\n",
    "b = float(input(\"Enter the value for b: \"))\n",
    "c = float(input(\"Enter the value for c: \"))\n",
    "\n",
    "discriminant = b**2 - 4*a*c\n",
    "solution1 = (-b + discriminant**0.5) / (2*a)\n",
    "solution2 = (-b - discriminant**0.5) / (2*a)\n",
    "\n",
    "print(\"The solutions are: \", solution1, solution2)"
   ]
  },
  {
   "cell_type": "code",
   "execution_count": 6,
   "metadata": {},
   "outputs": [
    {
     "name": "stdout",
     "output_type": "stream",
     "text": [
      "There are no real solutions.\n"
     ]
    }
   ],
   "source": [
    "# Your solution goes here\n",
    "\n",
    "# Function to solve the quadratic equation\n",
    "def quadratic_solver(a, b, c):\n",
    "    # Calculate the discriminant\n",
    "    discriminant = b**2 - 4*a*c\n",
    "    \n",
    "    # If the discriminant is positive, calculate the real solutions\n",
    "    if discriminant > 0:\n",
    "        solution1 = (-b + discriminant**0.5) / (2*a)\n",
    "        solution2 = (-b - discriminant**0.5) / (2*a)\n",
    "        return solution1, solution2\n",
    "    elif discriminant == 0:  # Single solution\n",
    "        solution = -b / (2*a)\n",
    "        return solution,\n",
    "    else:\n",
    "        return None\n",
    "\n",
    "# Get values of a, b, and c from the user\n",
    "a = float(input(\"Enter the value for a: \"))\n",
    "b = float(input(\"Enter the value for b: \"))\n",
    "c = float(input(\"Enter the value for c: \"))\n",
    "\n",
    "# Ensure 'a' is not zero, as that would not be a quadratic equation\n",
    "if a == 0:\n",
    "    print(\"The value of 'a' should not be zero for a quadratic equation.\")\n",
    "else:\n",
    "    solutions = quadratic_solver(a, b, c)\n",
    "    \n",
    "    # Check the solutions\n",
    "    if solutions is None:\n",
    "        print(\"There are no real solutions.\")\n",
    "    elif len(solutions) == 1:\n",
    "        print(f\"There is one solution: {solutions[0]}\")\n",
    "    else:\n",
    "        print(f\"The solutions are: {solutions[0]} and {solutions[1]}\")"
   ]
  },
  {
   "cell_type": "markdown",
   "metadata": {},
   "source": [
    "## Problem 2: Built-in Functions and Containers\n",
    "\n",
    "### Task 2.1 *The length of a `list`*:\n",
    "Create a list of 5 numbers. Use the `len()` function together with the `print()` function to print its length."
   ]
  },
  {
   "cell_type": "code",
   "execution_count": 7,
   "metadata": {},
   "outputs": [
    {
     "name": "stdout",
     "output_type": "stream",
     "text": [
      "5\n"
     ]
    }
   ],
   "source": [
    "# Your code goes here.\n",
    "\n",
    "list_of_numbers = [1, 2, 3, 4, 5]\n",
    "\n",
    "print(len(list_of_numbers))"
   ]
  },
  {
   "cell_type": "markdown",
   "metadata": {},
   "source": [
    "### Task 2.2 *`list` methods*:\n",
    "Given the list `[5, 7, 2, 8, 4]`, use built-in functions to:\n",
    "1. Sort the list.\n",
    "2. Find the max value.\n",
    "3. Find the min value.\n",
    "4. Find the sum of all numbers."
   ]
  },
  {
   "cell_type": "code",
   "execution_count": 8,
   "metadata": {},
   "outputs": [
    {
     "name": "stdout",
     "output_type": "stream",
     "text": [
      "Sorted list: [2, 4, 5, 7, 8]\n",
      "Max value: 8\n",
      "Min value: 2\n",
      "Sum of all numbers: 26\n"
     ]
    }
   ],
   "source": [
    "# Your code goes here.\n",
    "\n",
    "# Given list\n",
    "lst = [5, 7, 2, 8, 4]\n",
    "\n",
    "# 1. Sort the list\n",
    "sorted_lst = sorted(lst)\n",
    "print(f\"Sorted list: {sorted_lst}\")\n",
    "\n",
    "# 2. Find the max value\n",
    "max_value = max(lst)\n",
    "print(f\"Max value: {max_value}\")\n",
    "\n",
    "# 3. Find the min value\n",
    "min_value = min(lst)\n",
    "print(f\"Min value: {min_value}\")\n",
    "\n",
    "# 4. Find the sum of all numbers\n",
    "total_sum = sum(lst)\n",
    "print(f\"Sum of all numbers: {total_sum}\")"
   ]
  },
  {
   "cell_type": "markdown",
   "metadata": {},
   "source": [
    "### Task 2.3 *From `string` to `list`*:\n",
    "Take a string input from the user. Create a list where each item is a character from the string."
   ]
  },
  {
   "cell_type": "code",
   "execution_count": 9,
   "metadata": {},
   "outputs": [
    {
     "name": "stdout",
     "output_type": "stream",
     "text": [
      "List of characters: ['v', 'x', 'f', 'd']\n"
     ]
    }
   ],
   "source": [
    "# Your code goes here.\n",
    "\n",
    "# Ask the user for a string input\n",
    "user_string = input(\"Enter a string: \")\n",
    "\n",
    "# Convert the string to a list of characters\n",
    "char_list = list(user_string)\n",
    "\n",
    "print(f\"List of characters: {char_list}\")"
   ]
  },
  {
   "cell_type": "markdown",
   "metadata": {},
   "source": [
    "### Task 2.4 *The `zip()` function*:\n",
    "Using the `zip()` function, combine the two lists below to create a list of tuples:\n",
    "\n",
    "```python\n",
    "names = [\"Anna\", \"Bob\", \"Charlie\"]\n",
    "scores = [85, 92, 87]"
   ]
  },
  {
   "cell_type": "code",
   "execution_count": 10,
   "metadata": {},
   "outputs": [
    {
     "name": "stdout",
     "output_type": "stream",
     "text": [
      "[('Anna', 85), ('Bob', 92), ('Charlie', 87)]\n"
     ]
    }
   ],
   "source": [
    "# Your code goes here.\n",
    "\n",
    "names = [\"Anna\", \"Bob\", \"Charlie\"]\n",
    "scores = [85, 92, 87]\n",
    "\n",
    "zipped_list = zip(names, scores)\n",
    "\n",
    "# We can convert the zipped list into a list of tuples (the zip object is not a list)\n",
    "print(list(zipped_list))"
   ]
  },
  {
   "cell_type": "markdown",
   "metadata": {},
   "source": [
    "### Task 2.5 *The `enumerate()` function*\n",
    "\n",
    "Use the `enumerate()` function on `my_list`.\n",
    "\n",
    "`my_list = ['a', 'b', 'c', 'd', 'e']`\n",
    "\n",
    "`enumerate()` returns a list of tuples. You can convert the output of `enumerate()` to a list of tuples by using the `list()` function. For example,\n",
    "\n",
    "`list_of_tuples = list(enumerate(my_list))`\n",
    "\n",
    "Print the output of `enumerate()`."
   ]
  },
  {
   "cell_type": "code",
   "execution_count": 11,
   "metadata": {},
   "outputs": [
    {
     "name": "stdout",
     "output_type": "stream",
     "text": [
      "[(0, 'a'), (1, 'b'), (2, 'c'), (3, 'd'), (4, 'e')]\n"
     ]
    }
   ],
   "source": [
    "# You code goes here.\n",
    "\n",
    "my_list = ['a', 'b', 'c', 'd', 'e']\n",
    "\n",
    "list_of_tuples = list(enumerate(my_list))\n",
    "\n",
    "print(list_of_tuples)"
   ]
  },
  {
   "cell_type": "markdown",
   "metadata": {},
   "source": [
    "Note: In Python, both `zip()` and `enumerate()` return iterators. Iterators will not be discussed much in this course, but you can read more about them [here](https://docs.python.org/3/tutorial/classes.html#iterators). For now, you can think of iterators as a generalization of lists. An iterator is an object that produces items one by one using the `__next__()` method. Iterators are lazy by design, which means they generate items only when asked, one at a time. This design choice makes them memory-efficient, especially when working with large datasets. But to print all the items in an iterator, you have to e.g., use the `list()` function, which returns a list of all items in the iterator."
   ]
  },
  {
   "cell_type": "markdown",
   "metadata": {},
   "source": [
    "### Task 2.6 *Sort numbers*:\n",
    "Sort the numbers below from smallest to largest. Print the result to the screen.\n",
    "\n",
    "```python\n",
    "numbers = [23, 89, 45, 67, 12, 38, 80, 25, 57]"
   ]
  },
  {
   "cell_type": "code",
   "execution_count": 12,
   "metadata": {},
   "outputs": [
    {
     "name": "stdout",
     "output_type": "stream",
     "text": [
      "[12, 23, 25, 38, 45, 57, 67, 80, 89]\n"
     ]
    }
   ],
   "source": [
    "# Your code goes here.\n",
    "\n",
    "# Given list\n",
    "numbers = [23, 89, 45, 67, 12, 38, 80, 25, 57]\n",
    "\n",
    "# Sort the list in ascending order and print the result\n",
    "numbers.sort()\n",
    "print(numbers)\n"
   ]
  },
  {
   "cell_type": "markdown",
   "metadata": {},
   "source": [
    "### Task 2.6 *Dictionary lookup*:\n",
    "\n",
    "Initialize a dictionary with some word-to-definition pairs. Ask the user for a word and print its definition if it exists in the dictionary. If the word doesn't exist, notify the user."
   ]
  },
  {
   "cell_type": "code",
   "execution_count": 13,
   "metadata": {},
   "outputs": [
    {
     "name": "stdout",
     "output_type": "stream",
     "text": [
      "Sorry, the word 'sd' does not exist in the dictionary.\n"
     ]
    }
   ],
   "source": [
    "# Your code goes here\n",
    "\n",
    "# Initialize a dictionary with word-to-definition pairs\n",
    "word_dictionary = {\n",
    "    'computer': 'An electronic device for storing and processing data.',\n",
    "    'keyboard': 'A panel of keys that operate a computer or typewriter.',\n",
    "    'mouse': 'A small handheld device which is moved across a mat or flat surface to move the cursor on a computer screen.',\n",
    "    'monitor': 'An output device that displays information in visual form.',\n",
    "}\n",
    "\n",
    "# Ask the user for a word\n",
    "user_word = input(\"Enter a word to look up its definition: \")\n",
    "\n",
    "# Check if the word exists in the dictionary and print its definition or notify the user\n",
    "if user_word in word_dictionary:\n",
    "    print(f\"Definition of {user_word}: {word_dictionary[user_word]}\")\n",
    "else:\n",
    "    print(f\"Sorry, the word '{user_word}' does not exist in the dictionary.\")\n"
   ]
  },
  {
   "cell_type": "markdown",
   "metadata": {},
   "source": [
    "### Task 2.7 *List reversal without using `reverse()`*:\n",
    "Ask the user to input several comma-separated numbers. Store these numbers in a list and then reverse the list without using the built-in reverse() function."
   ]
  },
  {
   "cell_type": "code",
   "execution_count": 14,
   "metadata": {},
   "outputs": [
    {
     "name": "stdout",
     "output_type": "stream",
     "text": [
      "Original List: [4, 5, 6]\n",
      "Reversed List: [6, 5, 4]\n"
     ]
    }
   ],
   "source": [
    "# Your code goes here.\n",
    "\n",
    "# Ask the user to input comma-separated numbers\n",
    "user_input = input(\"Enter comma-separated numbers: \")\n",
    "\n",
    "# Convert the input string into a list of numbers\n",
    "numbers = [int(num) for num in user_input.split(',')]\n",
    "\n",
    "# Reverse the list without using reverse() function\n",
    "reversed_numbers = numbers[::-1]\n",
    "\n",
    "print(f\"Original List: {numbers}\")\n",
    "print(f\"Reversed List: {reversed_numbers}\")\n"
   ]
  },
  {
   "cell_type": "markdown",
   "metadata": {},
   "source": [
    "### Task 2.8 *Set operations*:\n",
    "Initialize two sets with some integer values. Then, print the union, intersection, and difference between these two sets."
   ]
  },
  {
   "cell_type": "code",
   "execution_count": 15,
   "metadata": {},
   "outputs": [
    {
     "name": "stdout",
     "output_type": "stream",
     "text": [
      "Union: {1, 2, 3, 4, 5, 6, 7, 8}\n",
      "Intersection: {4, 5}\n",
      "Difference (set1 - set2): {1, 2, 3}\n"
     ]
    }
   ],
   "source": [
    "# Your code goes here.\n",
    "\n",
    "# Initialize two sets with integer values\n",
    "set1 = {1, 2, 3, 4, 5}\n",
    "set2 = {4, 5, 6, 7, 8}\n",
    "\n",
    "# Calculate and print the union of the two sets\n",
    "union_set = set1.union(set2)\n",
    "print(f\"Union: {union_set}\")\n",
    "\n",
    "# Calculate and print the intersection of the two sets\n",
    "intersection_set = set1.intersection(set2)\n",
    "print(f\"Intersection: {intersection_set}\")\n",
    "\n",
    "# Calculate and print the difference between the two sets\n",
    "difference_set = set1.difference(set2)\n",
    "print(f\"Difference (set1 - set2): {difference_set}\")"
   ]
  }
 ],
 "metadata": {
  "kernelspec": {
   "display_name": "Python 3 (ipykernel)",
   "language": "python",
   "name": "python3"
  },
  "language_info": {
   "codemirror_mode": {
    "name": "ipython",
    "version": 3
   },
   "file_extension": ".py",
   "mimetype": "text/x-python",
   "name": "python",
   "nbconvert_exporter": "python",
   "pygments_lexer": "ipython3",
   "version": "3.10.8"
  },
  "orig_nbformat": 4
 },
 "nbformat": 4,
 "nbformat_minor": 2
}
