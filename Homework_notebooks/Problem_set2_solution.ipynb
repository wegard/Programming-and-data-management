{
 "cells": [
  {
   "cell_type": "markdown",
   "metadata": {},
   "source": [
    "# Problem Set 2: Python Basics\n",
    "\n",
    "## Topics Covered:\n",
    "1. Variables, expressions, and statements\n",
    "2. Built-in functions and containers"
   ]
  },
  {
   "cell_type": "markdown",
   "metadata": {},
   "source": [
    "## Problem 1: Variables, Expressions, and Statements\n",
    "\n",
    "### Task 1.1 *Declare and print some variables*:\n",
    "Declare three variables: an integer, a float, and a string. Then print them."
   ]
  },
  {
   "cell_type": "code",
   "execution_count": null,
   "metadata": {},
   "outputs": [],
   "source": [
    "# Your code here\n",
    "\n",
    "a = 1\n",
    "b = 3.14\n",
    "c = 'Hello World'\n",
    "\n",
    "print(a)\n",
    "print(b)\n",
    "print(c)"
   ]
  },
  {
   "cell_type": "markdown",
   "metadata": {},
   "source": [
    "### Task 1.2 *Basic arithmetics*:\n",
    "Given the variables `a = 5` and `b = 2`. Calculate and print the result of:\n",
    "1. a + b\n",
    "2. a - b\n",
    "3. a * b\n",
    "4. a / b"
   ]
  },
  {
   "cell_type": "code",
   "execution_count": null,
   "metadata": {},
   "outputs": [],
   "source": [
    "# Your code here\n",
    "\n",
    "print(a + b)\n",
    "print(a - b)\n",
    "print(a * b)\n",
    "print(a / b)"
   ]
  },
  {
   "cell_type": "markdown",
   "metadata": {},
   "source": [
    "### Task 1.3 *Interest rate calculator*:\n",
    "Create a simple interest calculator that uses the formula:\n",
    "\n",
    "$$ \\text{Simple Interest} = P \\times R \\times T $$\n",
    "\n",
    "Where:\n",
    "\n",
    "- \\( P \\) is the principal amount.\n",
    "- \\( R \\) is the rate of interest per period.\n",
    "- \\( T \\) is the time the money is invested for in years.\n",
    "\n",
    "You can assume the initial values, or use `input()` to get values from the user."
   ]
  },
  {
   "cell_type": "code",
   "execution_count": null,
   "metadata": {},
   "outputs": [],
   "source": [
    "# Your code coes here."
   ]
  },
  {
   "cell_type": "markdown",
   "metadata": {},
   "source": [
    "### Task 1.4 *Currency converter*:\n",
    "Ask the user for an amount in US dollars and convert this amount to a specified currency (e.g., Euros, Pounds, etc.). Use a fixed conversion rate for simplicity."
   ]
  },
  {
   "cell_type": "code",
   "execution_count": null,
   "metadata": {},
   "outputs": [],
   "source": [
    "# Your code goes here."
   ]
  },
  {
   "cell_type": "markdown",
   "metadata": {},
   "source": [
    "### Task 1.5 *Quadratic equation solver* (Tougher exercise)\n",
    "Write a program that solves the quadratic equation $ax^2 + bx + c = 0$. The program should ask the user for values of a, b, and c, and then print the solutions (if they exist).\n",
    "\n",
    "Here are some examples of equations and their respective solutions:\n",
    "\n",
    "1. **Equation:**  $x^2 - 5x + 6 = 0$  \n",
    "   **Solutions:** $x_1 = 3$ and $x_2 = 2$\n",
    "\n",
    "2. **Equation:** $x^2 - 4x + 4 = 0$ \n",
    "   **Solution:** $x = 2$ (Note: This equation has a single repeated root.)\n",
    "\n",
    "3. **Equation:** $x^2 + 4x + 5 = 0$  \n",
    "   **Solutions:** None (This equation does not have real roots, but if you were to consider complex numbers, the roots would be  $x_1 = -2 + i$ and $x_2 = -2 - i$.)\n",
    "\n",
    "*Hint:*\n",
    "\n",
    "The formula for solving quadratic equations, often referred to as the **quadratic formula**, is used to find the roots (or solutions) of an equation of the form \\( ax^2 + bx + c = 0 \\). The formula is:\n",
    "\n",
    "$$ x = \\frac{-b \\pm \\sqrt{b^2 - 4ac}}{2a} $$\n",
    "\n",
    "Here's a breakdown of the terms:\n",
    "\n",
    "- $a$, $b$, and $c$ are coefficients from the quadratic equation.\n",
    "- $\\sqrt{}$ denotes the square root.\n",
    "- $b^2 - 4ac$ is called the discriminant. It determines the nature of the roots:\n",
    "  - If $b^2 - 4ac > 0$, the equation has two distinct real roots.\n",
    "  - If $b^2 - 4ac = 0$, the equation has one repeated real root (or a double root).\n",
    "  - If $b^2 - 4ac < 0$, the equation has two complex (or imaginary) roots.\n",
    "\n",
    "The $\\pm$ in the formula indicates that there are generally two solutions for $x$ (except in the case where the discriminant is zero)."
   ]
  },
  {
   "cell_type": "code",
   "execution_count": null,
   "metadata": {},
   "outputs": [],
   "source": [
    "# Your solution goes here\n",
    "\n",
    "# Simple solution\n",
    "\n",
    "# Get values of a, b, and c from the user\n",
    "a = float(input(\"Enter the value for a: \"))\n",
    "b = float(input(\"Enter the value for b: \"))\n",
    "c = float(input(\"Enter the value for c: \"))\n",
    "\n",
    "discriminant = b**2 - 4*a*c\n",
    "solution1 = (-b + discriminant**0.5) / (2*a)\n",
    "solution2 = (-b - discriminant**0.5) / (2*a)\n",
    "\n",
    "print(\"The solutions are: \", solution1, solution2)"
   ]
  },
  {
   "cell_type": "code",
   "execution_count": null,
   "metadata": {},
   "outputs": [],
   "source": [
    "# Your solution goes here\n",
    "\n",
    "# Function to solve the quadratic equation\n",
    "def quadratic_solver(a, b, c):\n",
    "    # Calculate the discriminant\n",
    "    discriminant = b**2 - 4*a*c\n",
    "    \n",
    "    # If the discriminant is positive, calculate the real solutions\n",
    "    if discriminant > 0:\n",
    "        solution1 = (-b + discriminant**0.5) / (2*a)\n",
    "        solution2 = (-b - discriminant**0.5) / (2*a)\n",
    "        return solution1, solution2\n",
    "    elif discriminant == 0:  # Single solution\n",
    "        solution = -b / (2*a)\n",
    "        return solution,\n",
    "    else:\n",
    "        return None\n",
    "\n",
    "# Get values of a, b, and c from the user\n",
    "a = float(input(\"Enter the value for a: \"))\n",
    "b = float(input(\"Enter the value for b: \"))\n",
    "c = float(input(\"Enter the value for c: \"))\n",
    "\n",
    "# Ensure 'a' is not zero, as that would not be a quadratic equation\n",
    "if a == 0:\n",
    "    print(\"The value of 'a' should not be zero for a quadratic equation.\")\n",
    "else:\n",
    "    solutions = quadratic_solver(a, b, c)\n",
    "    \n",
    "    # Check the solutions\n",
    "    if solutions is None:\n",
    "        print(\"There are no real solutions.\")\n",
    "    elif len(solutions) == 1:\n",
    "        print(f\"There is one solution: {solutions[0]}\")\n",
    "    else:\n",
    "        print(f\"The solutions are: {solutions[0]} and {solutions[1]}\")"
   ]
  },
  {
   "cell_type": "markdown",
   "metadata": {},
   "source": [
    "## Problem 2: Built-in Functions and Containers\n",
    "\n",
    "### Task 2.1 *The length of a `list`*:\n",
    "Create a list of 5 numbers. Use the `len()` function together with the `print()` function to print its length."
   ]
  },
  {
   "cell_type": "code",
   "execution_count": null,
   "metadata": {},
   "outputs": [],
   "source": [
    "# Your code goes here.\n",
    "\n",
    "list_of_numbers = [1, 2, 3, 4, 5]\n",
    "\n",
    "print(len(list_of_numbers))"
   ]
  },
  {
   "cell_type": "markdown",
   "metadata": {},
   "source": [
    "### Task 2.2 *`list` methods*:\n",
    "Given the list `[5, 7, 2, 8, 4]`, use built-in functions to:\n",
    "1. Sort the list.\n",
    "2. Find the max value.\n",
    "3. Find the min value.\n",
    "4. Find the sum of all numbers."
   ]
  },
  {
   "cell_type": "code",
   "execution_count": null,
   "metadata": {},
   "outputs": [],
   "source": [
    "# Your code goes here."
   ]
  },
  {
   "cell_type": "markdown",
   "metadata": {},
   "source": [
    "### Task 2.3 *From `string` to `list`*:\n",
    "Take a string input from the user. Create a list where each item is a character from the string."
   ]
  },
  {
   "cell_type": "code",
   "execution_count": null,
   "metadata": {},
   "outputs": [],
   "source": [
    "# Your code goes here."
   ]
  },
  {
   "cell_type": "markdown",
   "metadata": {},
   "source": [
    "### Task 2.4:\n",
    "Using the `zip()` function, combine the two lists below to create a list of tuples:\n",
    "\n",
    "```python\n",
    "names = [\"Anna\", \"Bob\", \"Charlie\"]\n",
    "scores = [85, 92, 87]"
   ]
  },
  {
   "cell_type": "code",
   "execution_count": null,
   "metadata": {},
   "outputs": [],
   "source": [
    "# Your code goes here."
   ]
  },
  {
   "cell_type": "markdown",
   "metadata": {},
   "source": [
    "### Task 2.5 *The `enumerate()` function*\n",
    "\n",
    "Use the `enumerate()` function to print the index and value of each element in the list `my_list`.\n",
    "\n",
    "`my_list = ['a', 'b', 'c', 'd', 'e']`\n",
    "\n",
    "**Hint:** The `enumerate()` function returns a tuple of the index and value of each element in the list. You can unpack the tuple into two variables in the for loop. We have not covered this yet, but you can unpack the content of a tuple using the `list` method like this:\n",
    "\n",
    "`list_of_tuples = list(enumerate(my_list))`"
   ]
  },
  {
   "cell_type": "code",
   "execution_count": 6,
   "metadata": {},
   "outputs": [
    {
     "name": "stdout",
     "output_type": "stream",
     "text": [
      "[(0, 'a'), (1, 'b'), (2, 'c'), (3, 'd'), (4, 'e')]\n"
     ]
    }
   ],
   "source": [
    "# You code goes here.\n",
    "\n",
    "my_list = ['a', 'b', 'c', 'd', 'e']\n",
    "\n",
    "list_of_tuples = list(enumerate(my_list))\n",
    "\n",
    "print(list_of_tuples)"
   ]
  },
  {
   "cell_type": "markdown",
   "metadata": {},
   "source": [
    "### Task 2.6 *Identify numbers*:\n",
    "Filter out all numbers greater than 50 from the list below:\n",
    "\n",
    "```python\n",
    "numbers = [23, 89, 45, 67, 12, 38, 80, 25, 57]"
   ]
  },
  {
   "cell_type": "code",
   "execution_count": null,
   "metadata": {},
   "outputs": [],
   "source": [
    "# Your code goes here."
   ]
  },
  {
   "cell_type": "markdown",
   "metadata": {},
   "source": [
    "### Task 2.6 *Dictionary lookup*\n",
    "\n",
    "Initialize a dictionary with some word-to-definition pairs. Ask the user for a word and print its definition if it exists in the dictionary. If the word doesn't exist, notify the user."
   ]
  },
  {
   "cell_type": "code",
   "execution_count": null,
   "metadata": {},
   "outputs": [],
   "source": [
    "# Your code goes here"
   ]
  },
  {
   "cell_type": "markdown",
   "metadata": {},
   "source": [
    "### Task 2.7 *List reversal without using `reverse()`*\n",
    "Ask the user to input several comma-separated numbers. Store these numbers in a list and then reverse the list without using the built-in reverse() function."
   ]
  },
  {
   "cell_type": "code",
   "execution_count": null,
   "metadata": {},
   "outputs": [],
   "source": [
    "# Your code goes here."
   ]
  },
  {
   "cell_type": "markdown",
   "metadata": {},
   "source": [
    "### Task 2.8 *Set operations*\n",
    "Initialize two sets with some integer values. Then, print the union, intersection, and difference between these two sets."
   ]
  },
  {
   "cell_type": "code",
   "execution_count": null,
   "metadata": {},
   "outputs": [],
   "source": [
    "# Your code goes here."
   ]
  },
  {
   "cell_type": "code",
   "execution_count": null,
   "metadata": {},
   "outputs": [],
   "source": []
  }
 ],
 "metadata": {
  "kernelspec": {
   "display_name": "Python 3 (ipykernel)",
   "language": "python",
   "name": "python3"
  },
  "language_info": {
   "codemirror_mode": {
    "name": "ipython",
    "version": 3
   },
   "file_extension": ".py",
   "mimetype": "text/x-python",
   "name": "python",
   "nbconvert_exporter": "python",
   "pygments_lexer": "ipython3",
   "version": "3.10.8"
  },
  "orig_nbformat": 4
 },
 "nbformat": 4,
 "nbformat_minor": 2
}
