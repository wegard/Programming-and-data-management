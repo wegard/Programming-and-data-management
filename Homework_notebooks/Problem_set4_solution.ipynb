{
 "cells": [
  {
   "cell_type": "markdown",
   "metadata": {},
   "source": [
    "# Problem Set 4: 3rd party libraries\n",
    "\n",
    "## Topics covered:\n",
    "\n",
    "1. Numpy\n",
    "2. Pandas\n",
    "3. Matplotlib"
   ]
  },
  {
   "cell_type": "markdown",
   "metadata": {},
   "source": [
    "## Exercise 1: Have a look at the documentation\n",
    "\n",
    "Take some time and familiarize yourself with the online documentation for NumPy, Pandas and Matplotlib. These are very important tools for working with data using Python. The goal here is not to read all the documentation, but to get a brief overview of what you can do with these tools.\n",
    "\n",
    "NumPy: https://numpy.org/doc/1.23/user/absolute_beginners.html\n",
    "\n",
    "Pandas: https://pandas.pydata.org/docs/getting_started/intro_tutorials/index.html\n",
    "\n",
    "Matplotlib: https://matplotlib.org/stable/tutorials/index.html"
   ]
  },
  {
   "cell_type": "markdown",
   "metadata": {},
   "source": [
    "## Exercise 2: NumPy basics\n",
    "\n",
    "1. Create a 1 dimensional array of numbers from 0 to 9\n",
    "\n",
    "2. Reshape the array, so it has two rows and five columns\n",
    "\n",
    "3. Create a new array where you rise all the elements in the array to the power of 2\n",
    "\n",
    "4. From the array you created in 3., make a slice that only consist of the last row of the array"
   ]
  },
  {
   "cell_type": "code",
   "execution_count": 2,
   "metadata": {},
   "outputs": [
    {
     "name": "stdout",
     "output_type": "stream",
     "text": [
      "[0 1 2 3 4 5 6 7 8 9]\n"
     ]
    }
   ],
   "source": [
    "# Solution 1:\n",
    "\n",
    "import numpy as np\n",
    "\n",
    "array_1D = np.arange(10)\n",
    "print(array_1D)"
   ]
  },
  {
   "cell_type": "code",
   "execution_count": null,
   "metadata": {},
   "outputs": [],
   "source": [
    "# Solution 2:\n",
    "\n",
    "array_2D = array_1D.reshape(2, 5)\n",
    "print(array_2D)\n",
    "\n",
    "# can use -1 instead of 5 to automatically get the number of columns that matches two rows\n",
    "array_2D_alt = array_1D.reshape(2, -1)\n",
    "print(array_2D_alt)"
   ]
  },
  {
   "cell_type": "code",
   "execution_count": null,
   "metadata": {},
   "outputs": [],
   "source": [
    "# Solution 3:\n",
    "\n",
    "arrayD_pow2 = array_2D**2\n",
    "arrayD_pow2"
   ]
  },
  {
   "cell_type": "code",
   "execution_count": null,
   "metadata": {},
   "outputs": [],
   "source": [
    "# Solution 4:\n",
    "\n",
    "arrayD_pow2[1]"
   ]
  },
  {
   "cell_type": "markdown",
   "metadata": {},
   "source": [
    "## Exercise 3: \n",
    "\n",
    "Define the following 2-dimensional NumPy array:\n",
    "\n",
    "$A = \\left[\\begin{array}{ccc}\n",
    "1 & 2 & 3\\\\\n",
    "4 & 5 & 6\\\\\n",
    "7 & 8 & 9\n",
    "\\end{array}\\right]$\n",
    "\n",
    "1. Calculate the shape of the array $A$\n",
    "2. Calculate the size of the array $A$\n",
    "3. Calculate the transpose of the array $A$\n",
    "4. From slicing $A$ compute two new arrays. One that has the two first rows and the two first columns and the other that has the last two rows and columns of $A$. That is:\n",
    "$$A_1 = \\left[\\begin{matrix}\n",
    " 1 & 2 \\\\\n",
    " 4 & 5\n",
    "\\end{matrix}\\right]\\;\\; \\text{and} \\;\\; A_2 = \\left[\\begin{matrix}\n",
    " 5 & 6 \\\\\n",
    " 8 & 9\n",
    "\\end{matrix}\\right]$$\n",
    "5. Using $A_1$ and $A_2$ compute the element-wise sum, the element-wise product and the matrix product between them"
   ]
  },
  {
   "cell_type": "code",
   "execution_count": null,
   "metadata": {},
   "outputs": [],
   "source": [
    "# Solution 1 and 2\n",
    "\n",
    "A = np.array([[1, 2, 3], [4, 5, 6], [7, 8, 9]])\n",
    "\n",
    "print(f'The shape of A is: {A.shape}')\n",
    "print(f'The size of A is: {A.size}')"
   ]
  },
  {
   "cell_type": "code",
   "execution_count": null,
   "metadata": {},
   "outputs": [],
   "source": [
    "# Solution 3\n",
    "\n",
    "print('Transpose:')\n",
    "print(A.T)"
   ]
  },
  {
   "cell_type": "code",
   "execution_count": null,
   "metadata": {},
   "outputs": [],
   "source": [
    "# Solution 4\n",
    "\n",
    "A_1 = A[0:2, 0:2]\n",
    "A_2 = A[1:3, 1:3]\n",
    "\n",
    "print(A_1)\n",
    "print(A_2)"
   ]
  },
  {
   "cell_type": "code",
   "execution_count": null,
   "metadata": {},
   "outputs": [],
   "source": [
    "# Solution 5\n",
    "\n",
    "print('A_1 + A_2')\n",
    "print(A_1 + A_2)\n",
    "\n",
    "print('Element-wise product:')\n",
    "print(A_1 * A_2)\n",
    "\n",
    "print('Matrix product:')\n",
    "print(A_1 @ A_2)"
   ]
  },
  {
   "cell_type": "markdown",
   "metadata": {},
   "source": [
    "## Exercise 4: Solve a system of linear equations\n",
    "\n",
    "Solve the folowing linear equation system using NumPy:\n",
    "\n",
    "$$ 3x - y + 14z = 7 $$\n",
    "\n",
    "$$ 2x + 2y + 3z = 0 $$\n",
    "\n",
    "$$ x - 12y - 18z = 33 $$\n",
    "\n",
    "1. Create a NumPy array that represents the coefficients of the linear equation system and call it $A$\n",
    "\n",
    "2. Create a NumPy array that represents the right hand side of the equation system and call it $b$\n",
    "\n",
    "3. Solve the equation system using the function `np.linalg.solve()`"
   ]
  },
  {
   "cell_type": "code",
   "execution_count": null,
   "metadata": {},
   "outputs": [],
   "source": [
    "# Solution 1\n",
    "\n",
    "import numpy as np\n",
    "\n",
    "A = np.array([[3, -1, 14],\n",
    "              [2, 2, 3],\n",
    "              [1, -12, -18]])"
   ]
  },
  {
   "cell_type": "code",
   "execution_count": null,
   "metadata": {},
   "outputs": [],
   "source": [
    "# Solution 2\n",
    "\n",
    "b = np.array([[7],\n",
    "              [0],\n",
    "              [33]])"
   ]
  },
  {
   "cell_type": "code",
   "execution_count": null,
   "metadata": {},
   "outputs": [],
   "source": [
    "# Solution 3\n",
    "\n",
    "np.linalg.solve(A, b)"
   ]
  },
  {
   "cell_type": "markdown",
   "metadata": {},
   "source": [
    "## Exercise 4: Pandas basics\n",
    "\n",
    "1. Create the following DataFrame and you can call it `inflation_data`  (Inflation numbers from https://data.oecd.org/):\n",
    "\n",
    "|    | Country | Inflation_rate  |Region         |\n",
    "|--- |---      |---              |---            |\n",
    "| 0  | Canada  | 7.01            | North America |\n",
    "| 1  | France  | 5.91            | Europe        |\n",
    "| 2  | Germany | 7.90            | Europe        |\n",
    "| 3  | Italy   | 8.37            | Europe        |\n",
    "| 4  | Japan   | 3.00            | Asia          |\n",
    "| 5  | UK      | 8.60            | Europe        |\n",
    "| 6  | US      | 8.26            | North America |\n",
    "\n",
    "2. Create a new DataFrame, called `inflation_data_sorted`, by sorting the values in `inflation_data`, by the inflation rate (from high to low). Change the index so the new DataFrame has an increasing index (the country with the highest inflation rate should have the index zero, the next highest inflation rate should have the index 1, and so on).\n",
    "\n",
    "3. Create a new DataFrame from `inflation_data`, called `inflation_data_europe`, that only contain the rows with data for the European countries. \n",
    "\n",
    "4. Print out the average inflation rate in the European countries.\n",
    "\n",
    "Hint: you can create a new DataFrame with data grouped according to the values in a specific column. Try to run the following code:\n",
    "\n",
    "`inflation_data_regions = inflation_data.groupby('Region').mean()`\n",
    "\n",
    "5. Play around with the method used for aggregating the data outlined in the hint above. What happens if you use `.sum()` or `.median()` in stead of `.mean()`?"
   ]
  },
  {
   "cell_type": "code",
   "execution_count": null,
   "metadata": {},
   "outputs": [],
   "source": [
    "# Solution 1\n",
    "\n",
    "import pandas as pd\n",
    "\n",
    "inflation_data = pd.DataFrame([['Canada', 7.01, 'North America'],\n",
    "                               ['France', 5.91, 'Europe'],\n",
    "                               ['Germany', 7.90, 'Europe'],\n",
    "                               ['Italy', 8.37, 'Europe'],\n",
    "                               ['Japan', 3.00, 'Asia'],\n",
    "                               ['UK', 8.60, 'Europe'],\n",
    "                               ['US', 8.26, 'North America']],\n",
    "                              columns=['Country', 'Inflation_rate', 'Region'])\n",
    "inflation_data"
   ]
  },
  {
   "cell_type": "code",
   "execution_count": null,
   "metadata": {},
   "outputs": [],
   "source": [
    "# Solution 2:\n",
    "\n",
    "inflation_data_sorted = inflation_data.sort_values(by='Inflation_rate', ascending=False)\n",
    "inflation_data_sorted.index = range(len(inflation_data_sorted))\n",
    "inflation_data_sorted"
   ]
  },
  {
   "cell_type": "code",
   "execution_count": null,
   "metadata": {},
   "outputs": [],
   "source": [
    "# Solution 3:\n",
    "\n",
    "inflation_data_europe = inflation_data[inflation_data.Region == 'Europe']\n",
    "inflation_data_europe"
   ]
  },
  {
   "cell_type": "code",
   "execution_count": null,
   "metadata": {},
   "outputs": [],
   "source": [
    "# Solution 4:\n",
    "\n",
    "# With the groupby method we can aggregate the data by a specific category (in this case by Region)\n",
    "\n",
    "inflation_data_regions = inflation_data.groupby('Region').mean()\n",
    "inflation_data_regions"
   ]
  },
  {
   "cell_type": "code",
   "execution_count": null,
   "metadata": {},
   "outputs": [],
   "source": [
    "# Solution 5:\n",
    "\n",
    "# When we use the sum instead of the mean, all values that belong to a group is summed together.\n",
    "# Note that the 'Country' column is not used.\n",
    "# this is because it does not make sense to aggregate the values of type str. \n",
    "\n",
    "inflation_data.groupby('Region').sum()"
   ]
  },
  {
   "cell_type": "code",
   "execution_count": null,
   "metadata": {},
   "outputs": [],
   "source": [
    "# Median is giving a different measure of central tendency, simmilar to the mean\n",
    "\n",
    "inflation_data.groupby('Region').median()"
   ]
  },
  {
   "cell_type": "markdown",
   "metadata": {},
   "source": [
    "## Exercise 5: Working with dates\n",
    "\n",
    "1. Create a Pandas dataframe that contains the same information as the table bellow. \n",
    "\n",
    "The first (0th) observation gives the number of coffees that is being sold between 7 and 8. The second observation gives coffees sold between 8 and 9, and so on.\n",
    "\n",
    "|    | Coffees_sold   | Time                |\n",
    "|--- |---            |---                  | \n",
    "| 0  | 125           | 2022-09-20 07:00:00 | \n",
    "| 1  | 163           | 2022-09-20 08:00:00 |\n",
    "| 2  | 148           | 2022-09-20 09:00:00 |\n",
    "| 3  | 88            | 2022-09-20 10:00:00 |\n",
    "| 4  | 80            | 2022-09-20 11:00:00 |\n",
    "| 5  | 120           | 2022-09-20 12:00:00 |\n",
    "| 6  | 132           | 2022-09-20 13:00:00 |\n",
    "| 7  | 130           | 2022-09-20 14:00:00 |\n",
    "| 8  | 50            | 2022-09-20 15:00:00 |\n",
    "| 9  | 41            | 2022-09-20 16:00:00 |\n",
    "| 10 | 15            | 2022-09-20 17:00:00 |\n",
    "\n",
    "2. Create a slice of the dataframe that only contain the values for coffees sold in the morning (before 10). What is the total amount of coffees sold in these hours during the morning?  \n",
    "\n",
    "3. Change the index so it uses the values in the 'Time' column and delete the 'Time' column.\n",
    "\n",
    "Hint: You can delete a column with the following syntax: `del dataframe_name['column_name']`\n",
    "\n",
    "4. Plot the coffees sold as a line plot \n",
    "\n",
    "5. Plot the cumulative amount of coffees sold throughout the day"
   ]
  },
  {
   "cell_type": "code",
   "execution_count": null,
   "metadata": {},
   "outputs": [],
   "source": [
    "# Solution 1:\n",
    "\n",
    "# Note that I take the transpose of the Dataframe when I create it, to make the columns into the index and the index into the columns.\n",
    "\n",
    "coffee_sales = pd.DataFrame([[125, 163, 148, 88, 80, 120, 132, 130, 50, 41, 15],\n",
    "                            pd.date_range('2022-09-20 07:00:00', periods=11, freq='H')],\n",
    "                            index=['Coffees_sold', 'Time']).T\n",
    "coffee_sales"
   ]
  },
  {
   "cell_type": "code",
   "execution_count": null,
   "metadata": {},
   "outputs": [],
   "source": [
    "# Solution 2:\n",
    "\n",
    "\n",
    "coffee_sales_morning = coffee_sales[coffee_sales.Time < '2022-09-20 10:00:00']\n",
    "print(f'The total amount of coffees being sold in the morning (between 7 and 10) is: {sum(coffee_sales_morning.Coffees_sold)}')\n",
    "coffee_sales_morning"
   ]
  },
  {
   "cell_type": "code",
   "execution_count": null,
   "metadata": {},
   "outputs": [],
   "source": [
    "# Solution 3:\n",
    "\n",
    "coffee_sales.index = coffee_sales.Time\n",
    "del coffee_sales['Time']\n",
    "coffee_sales"
   ]
  },
  {
   "cell_type": "code",
   "execution_count": null,
   "metadata": {},
   "outputs": [],
   "source": [
    "# Solution 4:\n",
    "\n",
    "import matplotlib.pyplot as plt\n",
    "\n",
    "plt.figure(figsize=(10,6))\n",
    "plt.plot(cofee_sales, lw=3, linestyle='--', color='navy')\n",
    "plt.grid()\n",
    "plt.show()"
   ]
  },
  {
   "cell_type": "code",
   "execution_count": null,
   "metadata": {},
   "outputs": [],
   "source": [
    "# Solution 5:\n",
    "\n",
    "plt.figure(figsize=(10,6))\n",
    "plt.plot(cofee_sales.cumsum(), lw=3, linestyle='--', color='navy')\n",
    "plt.grid()\n",
    "plt.show()"
   ]
  },
  {
   "cell_type": "markdown",
   "metadata": {},
   "source": [
    "## Exercise 6: Plot some simple functions\n",
    "\n",
    "1. Plot the following functions in the same figure. Plot for the x-values 0 to 5 using an interval of 0.1.\n",
    "\n",
    "a. $y=2x$\n",
    "\n",
    "b. $y=x^2$\n",
    "\n",
    "c. $y=2^x$\n",
    "\n",
    "Hint: create an $x$-variable (that is a NumPy array), and use this array to calculate the $y$-values. The $x$-values can be created as follows: `x = np.arange(0, 5, 0.1)`\n",
    "\n",
    "2. Plot the same functions for a larger set of $x$-values, e.g., 0 to 15\n",
    "\n",
    "3. Now the function $y=2^x$ is dominating the figure. Plot the function $y=2^x$ on a separate y-axis (the right axis)"
   ]
  },
  {
   "cell_type": "code",
   "execution_count": null,
   "metadata": {},
   "outputs": [],
   "source": [
    "# Solution 1\n",
    "\n",
    "import numpy as np\n",
    "import matplotlib.pyplot as plt\n",
    "\n",
    "x = np.arange(0, 5, 0.1)\n",
    "\n",
    "fig, ax = plt.subplots(figsize=(8, 5))\n",
    "ax.plot(x, 2*x, label='y=2x', lw=2) \n",
    "ax.plot(x, x**2, label='$y=x^2$', lw=2)\n",
    "ax.plot(x, 2**x, label='$y=2^x$', lw=2)\n",
    "ax.set_xlabel('$x$-values')\n",
    "ax.set_ylabel('$y$-values')\n",
    "ax.set_title(\"Simple functions\")\n",
    "ax.legend()\n",
    "plt.show()"
   ]
  },
  {
   "cell_type": "code",
   "execution_count": null,
   "metadata": {},
   "outputs": [],
   "source": [
    "# Solution 2\n",
    "\n",
    "x = np.arange(0, 15, 0.1)\n",
    "\n",
    "fig, ax = plt.subplots(figsize=(8, 5))\n",
    "ax.plot(x, 2*x, label='y=2x', lw=3) \n",
    "ax.plot(x, x**2, label='$y=x^2$', lw=3)\n",
    "ax.plot(x, 2**x, label='$y=2^x$', lw=3)\n",
    "ax.set_xlabel('$x$-values')\n",
    "ax.set_ylabel('$y$-values')\n",
    "ax.set_title(\"Simple functions\")\n",
    "ax.legend()\n",
    "plt.show()"
   ]
  },
  {
   "cell_type": "code",
   "execution_count": null,
   "metadata": {},
   "outputs": [],
   "source": [
    "# Solution 3\n",
    "\n",
    "x = np.arange(0, 15, 0.1)\n",
    "\n",
    "fig, ax = plt.subplots(figsize=(8, 5))\n",
    "ax.plot(x, 2*x, label='y=2x', lw=3) \n",
    "ax.plot(x, x**2, label='$y=x^2$', lw=3)\n",
    "ax.set_xlabel('$x$-values')\n",
    "ax.set_ylabel('$y$-values')\n",
    "ax.set_title(\"Simple functions\")\n",
    "ax.legend()\n",
    "ax2 = ax.twinx() \n",
    "ax2.plot(x, 2**x, label='$y=2^x$ (right axis)', lw=3, color='green')\n",
    "ax2.legend(loc='upper center')\n",
    "plt.show()"
   ]
  },
  {
   "cell_type": "markdown",
   "metadata": {},
   "source": [
    "## Exercise 7: Create a scatter-plot \n",
    "\n",
    "1. Create a scatter plot with two data sets and use a different marker for the two data sets, so you can see which values belong to which data set in the figure.\n",
    "\n",
    "#### Dataset 1\n",
    "`x1 = [79, 63, 26, 37, 85, 100, 67, 34, 18, 21]`\n",
    "\n",
    "`y1 = [21, 46, 3, 35, 67, 95, 53, 72, 58, 10]`\n",
    " \n",
    "#### Dataset 2\n",
    "`x2 = [26, 29, 48, 65, 6, 5, 34, 66, 72, 40`\n",
    "\n",
    "`y2 = [26, 34, 90, 33, 38, 23, 56, 2, 47, 15]`\n",
    "\n",
    "2. Make the data points for data set 1 into triangles and the data points for data set 2 into circles.\n",
    "\n",
    "3. Give the data points for data set 1 a green color and the data points for data set 2 an orange color.\n",
    "\n",
    "4. Make the data points bigger in the figure by using input parameter `s`"
   ]
  },
  {
   "cell_type": "code",
   "execution_count": 3,
   "metadata": {},
   "outputs": [
    {
     "data": {
      "image/png": "[encoded data removed]",
      "text/plain": [
       "<Figure size 640x480 with 1 Axes>"
      ]
     },
     "metadata": {},
     "output_type": "display_data"
    }
   ],
   "source": [
    "# Solution 7\n",
    "\n",
    "import matplotlib.pyplot as plt\n",
    "\n",
    "# Dataset 1\n",
    "x1 = [79, 63, 26, 37, 85, 100, 67, 34, 18, 21]\n",
    "y1 = [21, 46, 3, 35, 67, 95, 53, 72, 58, 10]\n",
    " \n",
    "# Dataset 2\n",
    "x2 = [26, 29, 48, 65, 6, 5, 34, 66, 72, 40]\n",
    "y2 = [26, 34, 90, 33, 38, 23, 56, 2, 47, 15]\n",
    "\n",
    "plt.scatter(x1, y1, \n",
    "            c =\"green\",\n",
    "            linewidths = 2,\n",
    "            marker =\"^\",\n",
    "            s = 200)\n",
    " \n",
    "plt.scatter(x2, y2, \n",
    "            c =\"orange\",\n",
    "            linewidths = 2,\n",
    "            marker =\"o\",\n",
    "            s = 200)\n",
    " \n",
    "plt.xlabel(\"X-axis\")\n",
    "plt.ylabel(\"Y-axis\")\n",
    "plt.show()"
   ]
  },
  {
   "cell_type": "markdown",
   "metadata": {},
   "source": [
    "## Exercise 8: Create a bar-plot\n",
    "\n",
    "Create a bar-plot showing weekly fruit consumption by type of fruit. \n",
    "\n",
    "### Data (weekly fruit consumption):\n",
    "\n",
    "- apples: 4\n",
    "- bananas: 8\n",
    "- pears: 3\n",
    "- oranges: 5"
   ]
  },
  {
   "cell_type": "code",
   "execution_count": null,
   "metadata": {},
   "outputs": [],
   "source": [
    "# Solution 8\n",
    "\n",
    "\n",
    "import matplotlib.pyplot as plt\n",
    "\n",
    "fruits = ['apple', 'banana', 'pear', 'orange']\n",
    "counts = [4, 8, 3, 5]\n",
    "bar_colors = ['red', 'blue', 'red', 'orange']\n",
    "\n",
    "plt.title('Fruit consumption by type of fruit')\n",
    "plt.bar(fruits, counts, color=bar_colors)"
   ]
  },
  {
   "cell_type": "markdown",
   "metadata": {},
   "source": [
    "# Exercise 9: Supply and demand\n",
    "\n",
    "In economics we often assume that the quantity demanded of a good is getting smaller when the price increases. At the same time, the supply will increase when the price increase and it is more profitable to sell the good. Here is an example of a mathematical model that describes this behaviour:\n",
    "\n",
    "$(1)\\;\\;q_D = 40 - 2p$\n",
    "\n",
    "$(2)\\;\\;q_S = 6p$ \n",
    "\n",
    "a. Plot equation (1) and (2) in the same figure. The $q$'s should be on the $y$-axis and the $p$ on the $x$-axis. Where does the two lines cross?\n",
    "\n",
    "Hint: Plot the two functions from 0 to 10, e.g., `p = np.arange(0, 10, 0.1)`\n",
    "\n",
    "b. The equations (1) and (2) is a system of linear equations if we set $q_D=q_S=q$. Rewrite the two equations on the form of $Ax=b$, where\n",
    "$$x=\\left[\\begin{matrix}\n",
    " p \\\\\n",
    " q\n",
    "\\end{matrix}\\right]$$\n",
    "and solve this system using NumPy."
   ]
  },
  {
   "cell_type": "code",
   "execution_count": null,
   "metadata": {},
   "outputs": [],
   "source": [
    "# Solution 9a:\n",
    "\n",
    "# Let's create the p-values we will use when calculating the functions\n",
    "\n",
    "p = np.arange(0, 10, 0.1)\n",
    "\n",
    "# Then we can calculate the two functions:\n",
    "\n",
    "qD = 40 - 2*p\n",
    "qS = 6*p\n",
    "\n",
    "# And we can plot them in the same figure:\n",
    "\n",
    "plt.plot(p, qD, \n",
    "         lw=3, label='Demand curve')\n",
    "plt.plot(p, qS, \n",
    "         lw=3, label='Supply curve')\n",
    "plt.grid()\n",
    "plt.legend()\n",
    "\n",
    "print('The two lines cross when qD=qS=30 and p=5')"
   ]
  },
  {
   "cell_type": "code",
   "execution_count": null,
   "metadata": {},
   "outputs": [],
   "source": [
    "# Solution 9b:\n",
    "\n",
    "# we can write the equations as follows \n",
    "# 2p + q = 40\n",
    "# -6p + q = 0\n",
    "\n",
    "# And then we have: \n",
    "\n",
    "A = np.array([[2, 1], \n",
    "              [-6, 1]])\n",
    "\n",
    "b = np.array([[40], \n",
    "              [0]])\n",
    "\n",
    "# And the solution to this system is:\n",
    "\n",
    "np.linalg.solve(A, b)"
   ]
  }
 ],
 "metadata": {
  "kernelspec": {
   "display_name": "edi3400",
   "language": "python",
   "name": "python3"
  },
  "language_info": {
   "codemirror_mode": {
    "name": "ipython",
    "version": 3
   },
   "file_extension": ".py",
   "mimetype": "text/x-python",
   "name": "python",
   "nbconvert_exporter": "python",
   "pygments_lexer": "ipython3",
   "version": "3.10.8"
  },
  "orig_nbformat": 4
 },
 "nbformat": 4,
 "nbformat_minor": 2
}
