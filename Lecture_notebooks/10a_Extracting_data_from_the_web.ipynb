{
 "cells": [
  {
   "cell_type": "markdown",
   "id": "4db86daf",
   "metadata": {
    "slideshow": {
     "slide_type": "slide"
    }
   },
   "source": [
    "# Extracting data from the web\n",
    "\n",
    "## Programming and Data Management (EDI 3400)\n",
    "\n",
    "### *Vegard H. Larsen (Department of Data Science and Analytics)*"
   ]
  },
  {
   "cell_type": "markdown",
   "id": "1fd4f4ff",
   "metadata": {
    "slideshow": {
     "slide_type": "slide"
    }
   },
   "source": [
    "# 1. Extracting data from the web"
   ]
  },
  {
   "cell_type": "markdown",
   "id": "7b7ef419",
   "metadata": {
    "slideshow": {
     "slide_type": "slide"
    }
   },
   "source": [
    "## HTML Scraping"
   ]
  },
  {
   "cell_type": "code",
   "execution_count": null,
   "id": "ad3923e9",
   "metadata": {
    "slideshow": {
     "slide_type": "fragment"
    }
   },
   "outputs": [],
   "source": [
    "# Let´s use a package from the Standard Library to open a webpage \n",
    "\n",
    "from urllib.request import urlopen"
   ]
  },
  {
   "cell_type": "code",
   "execution_count": null,
   "id": "b447a48f",
   "metadata": {
    "slideshow": {
     "slide_type": "fragment"
    }
   },
   "outputs": [],
   "source": [
    "# We can look at the HTML content of a webpage\n",
    "\n",
    "with urlopen('https://www.bi.edu') as response:\n",
    "    bi_homepage = response.read()"
   ]
  },
  {
   "cell_type": "code",
   "execution_count": null,
   "id": "2049a249",
   "metadata": {
    "slideshow": {
     "slide_type": "slide"
    }
   },
   "outputs": [],
   "source": [
    "bi_homepage.find('bi')"
   ]
  },
  {
   "cell_type": "code",
   "execution_count": null,
   "id": "e2bf796f",
   "metadata": {
    "slideshow": {
     "slide_type": "slide"
    }
   },
   "outputs": [],
   "source": [
    "# We can turn the file into a Python string\n",
    "\n",
    "bi_homepage_as_html_text = bi_homepage.decode('utf-8')"
   ]
  },
  {
   "cell_type": "code",
   "execution_count": null,
   "id": "10833bf8",
   "metadata": {
    "slideshow": {
     "slide_type": "fragment"
    }
   },
   "outputs": [],
   "source": [
    "bi_homepage_as_html_text"
   ]
  },
  {
   "cell_type": "code",
   "execution_count": null,
   "id": "fcff0065",
   "metadata": {
    "slideshow": {
     "slide_type": "slide"
    }
   },
   "outputs": [],
   "source": [
    "# We can analyze the content on the webpage \n",
    "\n",
    "bi_homepage_as_html_text.count('Oslo')"
   ]
  },
  {
   "cell_type": "markdown",
   "id": "dc99d09d",
   "metadata": {
    "slideshow": {
     "slide_type": "slide"
    }
   },
   "source": [
    "## Making sense of HTML code: BeautifulSoup"
   ]
  },
  {
   "cell_type": "code",
   "execution_count": null,
   "id": "fbd2cce2",
   "metadata": {},
   "outputs": [],
   "source": [
    "from bs4 import BeautifulSoup\n",
    "\n",
    "soup = BeautifulSoup(bi_homepage_as_html_text, 'html.parser')\n",
    "print(soup.prettify())"
   ]
  },
  {
   "cell_type": "code",
   "execution_count": null,
   "id": "9cc5178b",
   "metadata": {
    "slideshow": {
     "slide_type": "slide"
    }
   },
   "outputs": [],
   "source": [
    "soup.find_all('h2')"
   ]
  },
  {
   "cell_type": "markdown",
   "id": "3f0bbaaf",
   "metadata": {
    "slideshow": {
     "slide_type": "slide"
    }
   },
   "source": [
    "## Downloading CSV files from webpages"
   ]
  },
  {
   "cell_type": "code",
   "execution_count": null,
   "id": "66f28509",
   "metadata": {},
   "outputs": [],
   "source": [
    "import pandas as pd\n",
    "\n",
    "winterolympicsmedals = pd.read_csv('http://winterolympicsmedals.com/medals.csv')"
   ]
  },
  {
   "cell_type": "code",
   "execution_count": null,
   "id": "f5ea7b69",
   "metadata": {
    "slideshow": {
     "slide_type": "fragment"
    }
   },
   "outputs": [],
   "source": [
    "winterolympicsmedals.sample(3)"
   ]
  },
  {
   "cell_type": "markdown",
   "id": "8a73992c",
   "metadata": {
    "slideshow": {
     "slide_type": "slide"
    }
   },
   "source": [
    "## Pandas-datareader library"
   ]
  },
  {
   "cell_type": "code",
   "execution_count": null,
   "id": "d0cbcac7",
   "metadata": {},
   "outputs": [],
   "source": [
    "# This library might not be installed. \n",
    "# If not you can try to install it.\n",
    "\n",
    "from pandas_datareader.data import DataReader"
   ]
  }
 ],
 "metadata": {
  "celltoolbar": "Slideshow",
  "kernelspec": {
   "display_name": "Python 3 (ipykernel)",
   "language": "python",
   "name": "python3"
  },
  "language_info": {
   "codemirror_mode": {
    "name": "ipython",
    "version": 3
   },
   "file_extension": ".py",
   "mimetype": "text/x-python",
   "name": "python",
   "nbconvert_exporter": "python",
   "pygments_lexer": "ipython3",
   "version": "3.10.8"
  }
 },
 "nbformat": 4,
 "nbformat_minor": 5
}
