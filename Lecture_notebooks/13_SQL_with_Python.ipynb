{
 "cells": [
  {
   "cell_type": "markdown",
   "id": "8c8465f3",
   "metadata": {
    "slideshow": {
     "slide_type": "slide"
    }
   },
   "source": [
    "# SQL with Python\n",
    "\n",
    "## Programming and Data Management (EDI 3400)\n",
    "\n",
    "### *Vegard H. Larsen (Department of Data Science and Analytics)*"
   ]
  },
  {
   "cell_type": "markdown",
   "id": "ff47e723",
   "metadata": {
    "slideshow": {
     "slide_type": "slide"
    }
   },
   "source": [
    "# 1.  Intro to `sqlite3`\n",
    "\n",
    "SQLite is a lightweight, serverless, and self-contained relational database system, and `sqlite3` is its accompanying module in the Python Standard Library, enabling seamless interaction with SQLite databases. With `sqlite3`, we can create, connect to, and query SQLite databases directly from Python. Unlike more complex database systems, SQLite doesn't require setup or administration, making it an ideal starting point to grasp fundamental database operations and concepts."
   ]
  },
  {
   "cell_type": "code",
   "execution_count": null,
   "id": "4f10e03d",
   "metadata": {
    "slideshow": {
     "slide_type": "slide"
    }
   },
   "outputs": [],
   "source": [
    "# sqlite3 is part of the Standard Library\n",
    "\n",
    "import sqlite3"
   ]
  },
  {
   "cell_type": "code",
   "execution_count": null,
   "id": "5bfa9c1f",
   "metadata": {
    "slideshow": {
     "slide_type": "fragment"
    }
   },
   "outputs": [],
   "source": [
    "# We can connect to our database\n",
    "# Make sure the database is stored in the same folder as the notebook\n",
    "\n",
    "con = sqlite3.connect(\"files/auto_dealership_database.db\")"
   ]
  },
  {
   "cell_type": "code",
   "execution_count": null,
   "id": "8c50c146",
   "metadata": {
    "slideshow": {
     "slide_type": "fragment"
    }
   },
   "outputs": [],
   "source": [
    "# In order to execute SQL statements and fetch results from SQL queries, \n",
    "# we will need to use a database cursor.\n",
    "\n",
    "cur = con.cursor()"
   ]
  },
  {
   "cell_type": "markdown",
   "id": "a6b852f0",
   "metadata": {
    "slideshow": {
     "slide_type": "slide"
    }
   },
   "source": [
    "## Executing a query"
   ]
  },
  {
   "cell_type": "code",
   "execution_count": null,
   "id": "924095bf",
   "metadata": {
    "slideshow": {
     "slide_type": "-"
    }
   },
   "outputs": [],
   "source": [
    "# Now we are connected to the database and we have a cursor \n",
    "# and we can execute an SQL query\n",
    "\n",
    "res = cur.execute(\"SELECT * FROM Employees\")"
   ]
  },
  {
   "cell_type": "code",
   "execution_count": null,
   "id": "309ca049",
   "metadata": {
    "slideshow": {
     "slide_type": "fragment"
    }
   },
   "outputs": [],
   "source": [
    "# This gives us a cursor object\n",
    "\n",
    "#res.fetchone()"
   ]
  },
  {
   "cell_type": "code",
   "execution_count": null,
   "id": "40b260f7",
   "metadata": {
    "slideshow": {
     "slide_type": "fragment"
    }
   },
   "outputs": [],
   "source": [
    "# We can get all the information from the query using fetchall\n",
    "\n",
    "employees_table = res.fetchall()"
   ]
  },
  {
   "cell_type": "code",
   "execution_count": null,
   "id": "83a0d374",
   "metadata": {
    "slideshow": {
     "slide_type": "slide"
    }
   },
   "outputs": [],
   "source": [
    "# The data is then stored as a list of tuples\n",
    "\n",
    "employees_table"
   ]
  },
  {
   "cell_type": "markdown",
   "id": "d34c9bb2",
   "metadata": {
    "slideshow": {
     "slide_type": "slide"
    }
   },
   "source": [
    "## Convert the list into a Pandas dataframe"
   ]
  },
  {
   "cell_type": "code",
   "execution_count": null,
   "id": "4d6564a0",
   "metadata": {
    "scrolled": true,
    "slideshow": {
     "slide_type": "-"
    }
   },
   "outputs": [],
   "source": [
    "import pandas as pd\n",
    "\n",
    "Employees = pd.DataFrame(employees_table)"
   ]
  },
  {
   "cell_type": "code",
   "execution_count": null,
   "id": "9a85a0a4",
   "metadata": {
    "slideshow": {
     "slide_type": "fragment"
    }
   },
   "outputs": [],
   "source": [
    "# Let's inspect the dataframe\n",
    "\n",
    "Employees.head(5)"
   ]
  },
  {
   "cell_type": "markdown",
   "id": "ae556289",
   "metadata": {
    "slideshow": {
     "slide_type": "slide"
    }
   },
   "source": [
    "## Let's set the column names"
   ]
  },
  {
   "cell_type": "code",
   "execution_count": null,
   "id": "88ed676e",
   "metadata": {},
   "outputs": [],
   "source": [
    "# Get the column names from the Employees table \n",
    "\n",
    "tmp = cur.execute(\"SELECT name FROM PRAGMA_TABLE_INFO('Employees')\").fetchall()"
   ]
  },
  {
   "cell_type": "code",
   "execution_count": null,
   "id": "30442170",
   "metadata": {
    "slideshow": {
     "slide_type": "fragment"
    }
   },
   "outputs": [],
   "source": [
    "# Let's inspect the result from the query\n",
    "\n",
    "tmp"
   ]
  },
  {
   "cell_type": "code",
   "execution_count": null,
   "id": "b081cc29",
   "metadata": {
    "slideshow": {
     "slide_type": "fragment"
    }
   },
   "outputs": [],
   "source": [
    "# Change the list of tuples into a list of strings\n",
    "\n",
    "employees_column_names = [name[0] for name in tmp]\n",
    "employees_column_names"
   ]
  },
  {
   "cell_type": "code",
   "execution_count": null,
   "id": "a498d21f",
   "metadata": {
    "slideshow": {
     "slide_type": "slide"
    }
   },
   "outputs": [],
   "source": [
    "# Add the column names to the dataframe\n",
    "\n",
    "Employees.columns = employees_column_names"
   ]
  },
  {
   "cell_type": "code",
   "execution_count": null,
   "id": "67b53952",
   "metadata": {
    "slideshow": {
     "slide_type": "fragment"
    }
   },
   "outputs": [],
   "source": [
    "# We set the id column to be the index column\n",
    "\n",
    "Employees.index = Employees['id']\n",
    "del Employees['id']"
   ]
  },
  {
   "cell_type": "code",
   "execution_count": null,
   "id": "a7b1c1ad",
   "metadata": {
    "slideshow": {
     "slide_type": "slide"
    }
   },
   "outputs": [],
   "source": [
    "# Let's look at the Employees dataframe\n",
    "\n",
    "Employees.head(10)"
   ]
  },
  {
   "cell_type": "code",
   "execution_count": null,
   "id": "54bdea6e",
   "metadata": {
    "slideshow": {
     "slide_type": "slide"
    }
   },
   "outputs": [],
   "source": [
    "# Remember to close the connection\n",
    "\n",
    "con.close()"
   ]
  },
  {
   "cell_type": "markdown",
   "id": "962b2c81",
   "metadata": {
    "slideshow": {
     "slide_type": "slide"
    }
   },
   "source": [
    "# 2. SQL queries with Pandas  "
   ]
  },
  {
   "cell_type": "code",
   "execution_count": null,
   "id": "e93a29c7",
   "metadata": {
    "slideshow": {
     "slide_type": "slide"
    }
   },
   "outputs": [],
   "source": [
    "import sqlite3\n",
    "import pandas as pd\n",
    "\n",
    "con = sqlite3.connect(\"files/auto_dealership_database.db\")\n",
    "Customers = pd.read_sql(\"SELECT * FROM Customers\", con)\n",
    "con.close()"
   ]
  },
  {
   "cell_type": "code",
   "execution_count": null,
   "id": "5a49e548",
   "metadata": {
    "slideshow": {
     "slide_type": "slide"
    }
   },
   "outputs": [],
   "source": [
    "Customers"
   ]
  },
  {
   "cell_type": "markdown",
   "id": "2880f091",
   "metadata": {
    "slideshow": {
     "slide_type": "slide"
    }
   },
   "source": [
    "## The query is defined within a Python string "
   ]
  },
  {
   "cell_type": "code",
   "execution_count": null,
   "id": "a48bad0a",
   "metadata": {},
   "outputs": [],
   "source": [
    "query = \"\"\"\n",
    "        SELECT *\n",
    "        FROM Customers\n",
    "        WHERE birth_year = 1995\n",
    "        \"\"\""
   ]
  },
  {
   "cell_type": "code",
   "execution_count": null,
   "id": "271ebde5",
   "metadata": {},
   "outputs": [],
   "source": [
    "print(query)"
   ]
  },
  {
   "cell_type": "code",
   "execution_count": null,
   "id": "9cdc7f8f",
   "metadata": {
    "slideshow": {
     "slide_type": "fragment"
    }
   },
   "outputs": [],
   "source": [
    "con = sqlite3.connect(\"files/auto_dealership_database.db\")\n",
    "result = pd.read_sql(query, con)\n",
    "con.close()"
   ]
  },
  {
   "cell_type": "code",
   "execution_count": null,
   "id": "7f7b5511",
   "metadata": {
    "slideshow": {
     "slide_type": "slide"
    }
   },
   "outputs": [],
   "source": [
    "result"
   ]
  },
  {
   "cell_type": "markdown",
   "id": "8648728a",
   "metadata": {
    "slideshow": {
     "slide_type": "slide"
    }
   },
   "source": [
    "# 3. Let us create a database"
   ]
  },
  {
   "cell_type": "markdown",
   "id": "a613293e",
   "metadata": {
    "slideshow": {
     "slide_type": "slide"
    }
   },
   "source": [
    "### Datatypes in SQLite\n",
    "\n",
    "- **NULL**. The value is a NULL value.\n",
    "\n",
    "- **INTEGER**. The value is a signed integer, stored in 0, 1, 2, 3, 4, 6, or 8 bytes depending on the magnitude of the value.\n",
    "\n",
    "- **REAL**. The value is a floating point value, stored as an 8-byte IEEE floating point number.\n",
    "\n",
    "- **TEXT**. The value is a text string, stored using the database encoding (UTF-8, UTF-16BE or UTF-16LE).\n",
    "\n",
    "- **BLOB**. The value is a blob of data, stored exactly as it was input."
   ]
  },
  {
   "cell_type": "code",
   "execution_count": null,
   "id": "dc1b2eb0",
   "metadata": {
    "slideshow": {
     "slide_type": "slide"
    }
   },
   "outputs": [],
   "source": [
    "## Imports\n",
    "\n",
    "import pandas as pd\n",
    "import sqlite3"
   ]
  },
  {
   "cell_type": "code",
   "execution_count": null,
   "id": "d82c4138",
   "metadata": {},
   "outputs": [],
   "source": [
    "!rm example_database.db\n",
    "!ls"
   ]
  },
  {
   "cell_type": "code",
   "execution_count": null,
   "id": "d1553692",
   "metadata": {
    "slideshow": {
     "slide_type": "fragment"
    }
   },
   "outputs": [],
   "source": [
    "con = sqlite3.connect('example_database.db') "
   ]
  },
  {
   "cell_type": "code",
   "execution_count": null,
   "id": "aad2fc51",
   "metadata": {
    "slideshow": {
     "slide_type": "fragment"
    }
   },
   "outputs": [],
   "source": [
    "ls"
   ]
  },
  {
   "cell_type": "code",
   "execution_count": null,
   "id": "9f4fb388",
   "metadata": {
    "slideshow": {
     "slide_type": "slide"
    }
   },
   "outputs": [],
   "source": [
    "## Create the cursor\n",
    "\n",
    "cursor = con.cursor()"
   ]
  },
  {
   "cell_type": "code",
   "execution_count": null,
   "id": "5bee32e3",
   "metadata": {},
   "outputs": [],
   "source": [
    "cursor.execute?"
   ]
  },
  {
   "cell_type": "code",
   "execution_count": null,
   "id": "28b7e557",
   "metadata": {
    "slideshow": {
     "slide_type": "fragment"
    }
   },
   "outputs": [],
   "source": [
    "cursor.execute('''CREATE TABLE Employees(id INTEGER PRIMARY KEY,\n",
    "                                         name TEXT,\n",
    "                                         salary INTEGER,  \n",
    "                                         education TEXT)''')"
   ]
  },
  {
   "cell_type": "code",
   "execution_count": null,
   "id": "d635e792",
   "metadata": {
    "slideshow": {
     "slide_type": "fragment"
    }
   },
   "outputs": [],
   "source": [
    "sqlite_insert = \"\"\"\n",
    "                INSERT INTO Employees(id, name, salary, education) \n",
    "                VALUES(1, 'Nora', 100000, 'Master')\n",
    "                \"\"\" \n",
    "\n",
    "cursor.execute(sqlite_insert)"
   ]
  },
  {
   "cell_type": "code",
   "execution_count": null,
   "id": "1a39b14e",
   "metadata": {
    "slideshow": {
     "slide_type": "fragment"
    }
   },
   "outputs": [],
   "source": [
    "# Commit the employees data to the database\n",
    "\n",
    "con.commit()\n",
    "con.close()"
   ]
  },
  {
   "cell_type": "code",
   "execution_count": null,
   "id": "ce72569f",
   "metadata": {
    "slideshow": {
     "slide_type": "slide"
    }
   },
   "outputs": [],
   "source": [
    "# Let's look at our newly created table\n",
    "\n",
    "con = sqlite3.connect(\"example_database.db\")\n",
    "Employees2 = pd.read_sql(\"SELECT * FROM Employees\", con)\n",
    "con.close()\n",
    "\n",
    "Employees2"
   ]
  },
  {
   "cell_type": "code",
   "execution_count": null,
   "id": "0eb352c1",
   "metadata": {
    "slideshow": {
     "slide_type": "slide"
    }
   },
   "outputs": [],
   "source": [
    "# We can add another row\n",
    "\n",
    "con = sqlite3.connect('example_database.db') \n",
    "cursor = con.cursor()\n",
    "sqlite_insert = \"\"\"\n",
    "                INSERT INTO Employees(id, name, salary, education) \n",
    "                VALUES(2, 'Ted', 90000, 'High school')\n",
    "                \"\"\" \n",
    "\n",
    "cursor.execute(sqlite_insert)\n",
    "con.commit()\n",
    "con.close()"
   ]
  },
  {
   "cell_type": "code",
   "execution_count": null,
   "id": "f723443d",
   "metadata": {
    "slideshow": {
     "slide_type": "slide"
    }
   },
   "outputs": [],
   "source": [
    "con = sqlite3.connect(\"example_database.db\")\n",
    "Employees2 = pd.read_sql(\"SELECT * FROM Employees\", con)\n",
    "con.close()\n",
    "\n",
    "Employees2"
   ]
  },
  {
   "cell_type": "markdown",
   "id": "a621a474",
   "metadata": {
    "slideshow": {
     "slide_type": "slide"
    }
   },
   "source": [
    "# 4. Adding many rows to a database from Python\n"
   ]
  },
  {
   "cell_type": "code",
   "execution_count": null,
   "id": "910cdc57",
   "metadata": {
    "slideshow": {
     "slide_type": "slide"
    }
   },
   "outputs": [],
   "source": [
    "# Create some random data\n",
    "\n",
    "import numpy as np\n",
    "\n",
    "ids = np.arange(1, 101)\n",
    "ages = np.random.randint(18, 75, size=100)\n",
    "names = np.random.choice(['John', 'Jane', 'Mary', 'Bob', 'Tom', 'Jack', 'Karl', 'Sue', 'Sally', 'Ida'],\n",
    "                         size=100)"
   ]
  },
  {
   "cell_type": "code",
   "execution_count": null,
   "id": "39cf4103",
   "metadata": {
    "slideshow": {
     "slide_type": "slide"
    }
   },
   "outputs": [],
   "source": [
    "# Create the table in our example database\n",
    "\n",
    "con = sqlite3.connect('example_database.db')\n",
    "cursor = con.cursor()\n",
    "cursor.execute('''CREATE TABLE Customers(id INTEGER PRIMARY KEY,\n",
    "                                         name STRING,\n",
    "                                         age INTEGER)''')"
   ]
  },
  {
   "cell_type": "code",
   "execution_count": null,
   "id": "f7433702",
   "metadata": {
    "slideshow": {
     "slide_type": "slide"
    }
   },
   "outputs": [],
   "source": [
    "# We use a for loop to add the data\n",
    "# We can use a f-string to change the content of the sql-code for each iteration of the loop\n",
    "\n",
    "for i in range(100):\n",
    "    sqlite_insert = f\"INSERT INTO Customers(id, name, age) VALUES({ids[i]}, '{names[i]}', {ages[i]})\"\n",
    "    con.execute(sqlite_insert)\n",
    "con.commit()\n",
    "con.close()"
   ]
  },
  {
   "cell_type": "code",
   "execution_count": null,
   "id": "ed9bb8ff",
   "metadata": {
    "slideshow": {
     "slide_type": "slide"
    }
   },
   "outputs": [],
   "source": [
    "# Let's look at the new table\n",
    "\n",
    "con = sqlite3.connect(\"example_database.db\")\n",
    "Customers2 = pd.read_sql(\"SELECT * FROM Customers\", con)\n",
    "con.close()\n",
    "\n",
    "Customers2"
   ]
  }
 ],
 "metadata": {
  "celltoolbar": "Slideshow",
  "kernelspec": {
   "display_name": "Python 3 (ipykernel)",
   "language": "python",
   "name": "python3"
  },
  "language_info": {
   "codemirror_mode": {
    "name": "ipython",
    "version": 3
   },
   "file_extension": ".py",
   "mimetype": "text/x-python",
   "name": "python",
   "nbconvert_exporter": "python",
   "pygments_lexer": "ipython3",
   "version": "3.10.8"
  }
 },
 "nbformat": 4,
 "nbformat_minor": 5
}
