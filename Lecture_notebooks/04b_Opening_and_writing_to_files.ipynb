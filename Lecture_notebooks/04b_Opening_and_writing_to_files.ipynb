{
 "cells": [
  {
   "cell_type": "markdown",
   "id": "b707d963e43594e9",
   "metadata": {},
   "source": [
    "# Opening and writing to files\n",
    "\n",
    "## Course: Programming and Data Management (EDI 3400)\n",
    "\n",
    "### *Vegard H. Larsen (Department of Data Science and Analytics)*"
   ]
  },
  {
   "cell_type": "markdown",
   "id": "ad53690f6c327029",
   "metadata": {},
   "source": [
    "## File paths\n",
    "\n",
    "- To access a file on an operating system, you need a file path to that file. \n",
    "\n",
    "- The file path is a string that represents the location of a file. \n",
    "\n",
    "- The path consists of three parts:\n",
    "    1. **Folder path**: the file folder location where the folders are separated by a forward slash / (Mac and Linux) or backslash \\ (Windows)\n",
    "    2. **File Name**: the name of the file\n",
    "    3. **Extension**: the end of the file name after the . that indicate the file type, some examples are: \n",
    "        - .py for a Python script\n",
    "        - .ipynb for a Jupyter Notebook\n",
    "        - .txt for a text file\n",
    "        - .db for a database file\n",
    "        - .xlsx for a Excel file "
   ]
  },
  {
   "cell_type": "markdown",
   "id": "a8e9934eae9312f9",
   "metadata": {},
   "source": [
    "## Command-promt/terminal/system-commands\n",
    "\n",
    "- `pwd` is a command that can be used to print the directory where you are currently standing\n",
    "- `ls` lists the content of the working directory\n",
    "- `less` show the content of a file\n",
    "\n",
    "**Note:** *These commands are not Python code but 'system'-commands. You may have to run them in a code cell with no other input on the first line in the cell. You can run all types of 'system'-commands if you start a line with the !-symbol. Windows and Unix have different system commands, but some standard Unix commands like 'pwd', 'ls' and 'less' is built into the Jupyter Notebook.*"
   ]
  },
  {
   "cell_type": "markdown",
   "id": "10c27a2318574dc6",
   "metadata": {},
   "source": [
    "## Put the files we use in the same folder as the Notebook\n",
    "- In Ed the files is stored together with the Notebook"
   ]
  },
  {
   "cell_type": "code",
   "execution_count": 1,
   "id": "59ee7e5ad583d921",
   "metadata": {
    "ExecuteTime": {
     "end_time": "2023-08-11T12:13:20.357425Z",
     "start_time": "2023-08-11T12:13:20.165397Z"
    },
    "collapsed": false,
    "jupyter": {
     "outputs_hidden": false
    }
   },
   "outputs": [
    {
     "data": {
      "text/plain": [
       "'/Users/vegard/Github/Programming-and-data-management/Lecture_notebooks'"
      ]
     },
     "execution_count": 1,
     "metadata": {},
     "output_type": "execute_result"
    }
   ],
   "source": [
    "pwd"
   ]
  },
  {
   "cell_type": "code",
   "execution_count": 2,
   "id": "1926a0b84366589a",
   "metadata": {
    "ExecuteTime": {
     "end_time": "2023-08-11T12:13:20.833234Z",
     "start_time": "2023-08-11T12:13:20.170535Z"
    },
    "collapsed": false,
    "jupyter": {
     "outputs_hidden": false
    }
   },
   "outputs": [
    {
     "name": "stdout",
     "output_type": "stream",
     "text": [
      "01_Introduction.ipynb\n",
      "02_Variables_expressions_and_statements.ipynb\n",
      "03_Built_in_functions_and_containers.ipynb\n",
      "04a_Conditional_execution_and_loops.ipynb\n",
      "04b_Opening_and_writing_to_files.ipynb\n",
      "a_new_play_copy.txt\n",
      "\u001b[34mfiles\u001b[m\u001b[m/\n"
     ]
    }
   ],
   "source": [
    "ls"
   ]
  },
  {
   "cell_type": "code",
   "execution_count": 3,
   "id": "227f83b6c66cf406",
   "metadata": {
    "ExecuteTime": {
     "end_time": "2023-08-11T12:13:20.841046Z",
     "start_time": "2023-08-11T12:13:20.293626Z"
    },
    "collapsed": false,
    "jupyter": {
     "outputs_hidden": false
    }
   },
   "outputs": [],
   "source": [
    "less files/Hamlet.txt"
   ]
  },
  {
   "cell_type": "code",
   "execution_count": 4,
   "id": "a7243bb538769a69",
   "metadata": {
    "ExecuteTime": {
     "end_time": "2023-08-11T12:13:20.867422Z",
     "start_time": "2023-08-11T12:13:20.299592Z"
    },
    "collapsed": false,
    "jupyter": {
     "outputs_hidden": false
    }
   },
   "outputs": [
    {
     "name": "stdout",
     "output_type": "stream",
     "text": [
      "This is an example of a Python script. This file is stored in the folder Lecture4\n"
     ]
    }
   ],
   "source": [
    "!python files/testScript.py"
   ]
  },
  {
   "cell_type": "markdown",
   "id": "e8507d6d7c3c4762",
   "metadata": {},
   "source": [
    "## The built in function `open()`\n",
    "\n",
    "- Open a file and return a corresponding file object that allow us to iteract with the content in the file\n",
    "- Syntax: `f = open('file', mode='rt')`\n",
    "- Some possible values of mode:\n",
    "    - `w` - open for writing\n",
    "    - `r` - open for reading (default)\n",
    "    - `b` - binary mode\n",
    "    - `t` - text mode (default)"
   ]
  },
  {
   "cell_type": "markdown",
   "id": "63ae7dbe8693a54",
   "metadata": {},
   "source": [
    "## Let's open `Hamlet.txt`"
   ]
  },
  {
   "cell_type": "code",
   "execution_count": 5,
   "id": "4e7f4cec0efcce39",
   "metadata": {
    "ExecuteTime": {
     "end_time": "2023-08-11T12:13:20.867607Z",
     "start_time": "2023-08-11T12:13:20.438404Z"
    },
    "collapsed": false,
    "jupyter": {
     "outputs_hidden": false
    }
   },
   "outputs": [],
   "source": [
    "# The built-in function open, is opening the file\n",
    "# We can access the file content using the reader variable\n",
    "\n",
    "reader = open('files/Hamlet.txt')"
   ]
  },
  {
   "cell_type": "markdown",
   "id": "72647f8e8710558d",
   "metadata": {},
   "source": [
    "- To see the content we have to read the now open file"
   ]
  },
  {
   "cell_type": "code",
   "execution_count": 6,
   "id": "d1ec40dc6de3626c",
   "metadata": {
    "ExecuteTime": {
     "end_time": "2023-08-11T12:13:20.867763Z",
     "start_time": "2023-08-11T12:13:20.440986Z"
    },
    "collapsed": false,
    "jupyter": {
     "outputs_hidden": false
    }
   },
   "outputs": [
    {
     "data": {
      "text/plain": [
       "['ACT I\\n',\n",
       " '\\n',\n",
       " 'SCENE I. Elsinore. A platform before the castle.\\n',\n",
       " '\\n',\n",
       " 'FRANCISCO at his post. Enter to him BERNARDO\\n']"
      ]
     },
     "execution_count": 6,
     "metadata": {},
     "output_type": "execute_result"
    }
   ],
   "source": [
    "# Read all the lines of Hamlet at the same time\n",
    "\n",
    "text_of_hamlet = reader.readlines()\n",
    "\n",
    "# Print the first five lines of Hamlet\n",
    "\n",
    "text_of_hamlet[0:5]"
   ]
  },
  {
   "cell_type": "markdown",
   "id": "ae841be70232d9b8",
   "metadata": {},
   "source": [
    "- Then we must close the file"
   ]
  },
  {
   "cell_type": "code",
   "execution_count": 7,
   "id": "f41f0496810f8d2f",
   "metadata": {
    "ExecuteTime": {
     "end_time": "2023-08-11T12:13:20.867810Z",
     "start_time": "2023-08-11T12:13:20.445099Z"
    },
    "collapsed": false,
    "jupyter": {
     "outputs_hidden": false
    }
   },
   "outputs": [],
   "source": [
    "reader.close() # We can no longer access the content of Hamlet.txt"
   ]
  },
  {
   "cell_type": "code",
   "execution_count": 8,
   "id": "8057943aafba8a66",
   "metadata": {
    "ExecuteTime": {
     "end_time": "2023-08-11T12:13:20.869071Z",
     "start_time": "2023-08-11T12:13:20.447791Z"
    },
    "collapsed": false,
    "jupyter": {
     "outputs_hidden": false
    }
   },
   "outputs": [
    {
     "ename": "ValueError",
     "evalue": "I/O operation on closed file.",
     "output_type": "error",
     "traceback": [
      "\u001b[0;31m---------------------------------------------------------------------------\u001b[0m",
      "\u001b[0;31mValueError\u001b[0m                                Traceback (most recent call last)",
      "Cell \u001b[0;32mIn[8], line 1\u001b[0m\n\u001b[0;32m----> 1\u001b[0m \u001b[43mreader\u001b[49m\u001b[38;5;241;43m.\u001b[39;49m\u001b[43mreadlines\u001b[49m\u001b[43m(\u001b[49m\u001b[43m)\u001b[49m\n",
      "\u001b[0;31mValueError\u001b[0m: I/O operation on closed file."
     ]
    }
   ],
   "source": [
    "reader.readlines()"
   ]
  },
  {
   "cell_type": "markdown",
   "id": "95b30a850f600aae",
   "metadata": {},
   "source": [
    "## It's smart to use exception handling when interacting with files"
   ]
  },
  {
   "cell_type": "code",
   "execution_count": 9,
   "id": "c2dca714c24dc070",
   "metadata": {
    "ExecuteTime": {
     "end_time": "2023-08-11T12:13:28.890499Z",
     "start_time": "2023-08-11T12:13:28.861989Z"
    },
    "collapsed": false,
    "jupyter": {
     "outputs_hidden": false
    }
   },
   "outputs": [],
   "source": [
    "# Make sure that the file is closed, even if something crashes\n",
    "\n",
    "reader2 = open('files/Hamlet.txt')\n",
    "try:\n",
    "    text_hamlet2 = reader2.readlines()\n",
    "except:\n",
    "    print('Something went wrong!')\n",
    "finally:\n",
    "    reader2.close()"
   ]
  },
  {
   "cell_type": "code",
   "execution_count": 10,
   "id": "33d9b5435b60b90b",
   "metadata": {
    "ExecuteTime": {
     "end_time": "2023-08-11T12:13:29.368267Z",
     "start_time": "2023-08-11T12:13:29.353125Z"
    },
    "collapsed": false,
    "jupyter": {
     "outputs_hidden": false
    }
   },
   "outputs": [
    {
     "data": {
      "text/plain": [
       "['ACT I\\n',\n",
       " '\\n',\n",
       " 'SCENE I. Elsinore. A platform before the castle.\\n',\n",
       " '\\n',\n",
       " 'FRANCISCO at his post. Enter to him BERNARDO\\n']"
      ]
     },
     "execution_count": 10,
     "metadata": {},
     "output_type": "execute_result"
    }
   ],
   "source": [
    "# Print the first five lines of Hamlet\n",
    "\n",
    "text_hamlet2[0:5]"
   ]
  },
  {
   "cell_type": "code",
   "execution_count": 11,
   "id": "c9c7904f3dc7696c",
   "metadata": {
    "ExecuteTime": {
     "end_time": "2023-08-11T12:13:30.090731Z",
     "start_time": "2023-08-11T12:13:30.064720Z"
    },
    "collapsed": false,
    "jupyter": {
     "outputs_hidden": false
    }
   },
   "outputs": [
    {
     "ename": "ValueError",
     "evalue": "I/O operation on closed file.",
     "output_type": "error",
     "traceback": [
      "\u001b[0;31m---------------------------------------------------------------------------\u001b[0m",
      "\u001b[0;31mValueError\u001b[0m                                Traceback (most recent call last)",
      "Cell \u001b[0;32mIn[11], line 1\u001b[0m\n\u001b[0;32m----> 1\u001b[0m \u001b[43mreader2\u001b[49m\u001b[38;5;241;43m.\u001b[39;49m\u001b[43mreadlines\u001b[49m\u001b[43m(\u001b[49m\u001b[43m)\u001b[49m\n",
      "\u001b[0;31mValueError\u001b[0m: I/O operation on closed file."
     ]
    }
   ],
   "source": [
    "reader2.readlines()"
   ]
  },
  {
   "cell_type": "markdown",
   "id": "1146e1a8148cd103",
   "metadata": {},
   "source": [
    "## The best way to interact with files is to use the `with` statement\n",
    "\n",
    "* Is used to make exception handling cleaner and more readable\n",
    "* Usually used when opening files that are stored on disk or on-line"
   ]
  },
  {
   "cell_type": "code",
   "execution_count": 12,
   "id": "8dfe7acb7241d3ec",
   "metadata": {
    "ExecuteTime": {
     "end_time": "2023-08-11T12:13:31.883934Z",
     "start_time": "2023-08-11T12:13:31.859550Z"
    },
    "collapsed": false,
    "jupyter": {
     "outputs_hidden": false
    }
   },
   "outputs": [],
   "source": [
    "with open('files/Hamlet.txt') as reader3:\n",
    "    text_hamlet3 = reader3.readlines()"
   ]
  },
  {
   "cell_type": "code",
   "execution_count": 13,
   "id": "d72b61fbdec515c0",
   "metadata": {
    "ExecuteTime": {
     "end_time": "2023-08-11T12:13:32.231536Z",
     "start_time": "2023-08-11T12:13:32.206678Z"
    },
    "collapsed": false,
    "jupyter": {
     "outputs_hidden": false
    }
   },
   "outputs": [
    {
     "data": {
      "text/plain": [
       "['Speak loudly for him.\\n',\n",
       " 'Take up the bodies: such a sight as this\\n',\n",
       " 'Becomes the field, but here shows much amiss.\\n',\n",
       " 'Go, bid the soldiers shoot.\\n',\n",
       " 'A dead march. Exeunt, bearing off the dead bodies; after which a peal of ordnance is shot off']"
      ]
     },
     "execution_count": 13,
     "metadata": {},
     "output_type": "execute_result"
    }
   ],
   "source": [
    "# Print the last five lines of Hamlet \n",
    "text_hamlet3[-5:]"
   ]
  },
  {
   "cell_type": "code",
   "execution_count": 14,
   "id": "e2482f6b86b1f0ca",
   "metadata": {
    "ExecuteTime": {
     "end_time": "2023-08-11T12:13:32.736292Z",
     "start_time": "2023-08-11T12:13:32.704249Z"
    },
    "collapsed": false,
    "jupyter": {
     "outputs_hidden": false
    }
   },
   "outputs": [],
   "source": [
    "#reader3.readlines()"
   ]
  },
  {
   "cell_type": "markdown",
   "id": "3dc4770c9844aa6",
   "metadata": {},
   "source": [
    "## Writing to a file \n",
    "\n",
    "- This will overwrite the content of the file"
   ]
  },
  {
   "cell_type": "code",
   "execution_count": 21,
   "id": "a69e12621271606b",
   "metadata": {
    "ExecuteTime": {
     "end_time": "2023-08-11T12:14:46.255877Z",
     "start_time": "2023-08-11T12:14:46.221530Z"
    },
    "collapsed": false,
    "jupyter": {
     "outputs_hidden": false
    }
   },
   "outputs": [],
   "source": [
    "less files/a_new_play.txt"
   ]
  },
  {
   "cell_type": "code",
   "execution_count": 16,
   "id": "f1d45c2705ed7770",
   "metadata": {
    "ExecuteTime": {
     "end_time": "2023-08-11T12:13:42.584973Z",
     "start_time": "2023-08-11T12:13:42.558657Z"
    },
    "collapsed": false,
    "jupyter": {
     "outputs_hidden": false
    }
   },
   "outputs": [],
   "source": [
    "our_play_text = 'ACT I\\n\\t\\n\\tSCENE I. In the course EDI3400.\\n\\t\\n\\tFRANCISCO is in his seat.\\n'"
   ]
  },
  {
   "cell_type": "code",
   "execution_count": 17,
   "id": "e6f3875e7d88ec40",
   "metadata": {
    "ExecuteTime": {
     "end_time": "2023-08-11T12:13:43.707316Z",
     "start_time": "2023-08-11T12:13:43.683579Z"
    },
    "collapsed": false,
    "jupyter": {
     "outputs_hidden": false
    }
   },
   "outputs": [],
   "source": [
    "our_play = our_play_text.split('\\t')"
   ]
  },
  {
   "cell_type": "code",
   "execution_count": 18,
   "id": "c31e3f8e1b5969d8",
   "metadata": {
    "ExecuteTime": {
     "end_time": "2023-08-11T12:13:44.648803Z",
     "start_time": "2023-08-11T12:13:44.615671Z"
    },
    "collapsed": false,
    "jupyter": {
     "outputs_hidden": false
    }
   },
   "outputs": [
    {
     "data": {
      "text/plain": [
       "['ACT I\\n',\n",
       " '\\n',\n",
       " 'SCENE I. In the course EDI3400.\\n',\n",
       " '\\n',\n",
       " 'FRANCISCO is in his seat.\\n']"
      ]
     },
     "execution_count": 18,
     "metadata": {},
     "output_type": "execute_result"
    }
   ],
   "source": [
    "our_play"
   ]
  },
  {
   "cell_type": "code",
   "execution_count": 19,
   "id": "9c5212522cc6f91b",
   "metadata": {
    "ExecuteTime": {
     "end_time": "2023-08-11T12:13:51.745827Z",
     "start_time": "2023-08-11T12:13:51.709722Z"
    },
    "collapsed": false,
    "jupyter": {
     "outputs_hidden": false
    }
   },
   "outputs": [],
   "source": [
    "with open('a_new_play.txt', mode='wt') as writer:\n",
    "    writer.writelines(our_play)"
   ]
  },
  {
   "cell_type": "markdown",
   "id": "8de267b96582d0b",
   "metadata": {},
   "source": [
    "## Read a CSV (Comma Separated Values) file:"
   ]
  },
  {
   "cell_type": "code",
   "execution_count": 22,
   "id": "c58856fee84242ef",
   "metadata": {
    "ExecuteTime": {
     "end_time": "2023-08-11T12:14:56.560973Z",
     "start_time": "2023-08-11T12:14:56.435143Z"
    },
    "collapsed": false,
    "jupyter": {
     "outputs_hidden": false
    }
   },
   "outputs": [
    {
     "name": "stdout",
     "output_type": "stream",
     "text": [
      "Hamlet.txt\n",
      "a_new_play.txt\n",
      "a_new_play_copy.txt\n",
      "daily_media_consumption_norway_percentage.csv\n",
      "example_sales.xlsx\n",
      "hello_world.py\n",
      "notebook_user_interface.png\n",
      "testScript.py\n"
     ]
    }
   ],
   "source": [
    "ls files"
   ]
  },
  {
   "cell_type": "code",
   "execution_count": 23,
   "id": "f6fed87bedba5833",
   "metadata": {
    "ExecuteTime": {
     "end_time": "2023-08-11T12:14:57.118167Z",
     "start_time": "2023-08-11T12:14:57.095770Z"
    },
    "collapsed": false,
    "jupyter": {
     "outputs_hidden": false
    }
   },
   "outputs": [],
   "source": [
    "# We use a library from the Standard Python Library to handle the csv file\n",
    "# We will talk more about the Standard Python Library in lecture 5\n",
    "import csv\n",
    "\n",
    "# link to data https://www.ssb.no/en/statbank/table/04487\n",
    "# now we will look at radio, tv and internet consumption in Norway\n",
    "\n",
    "media_consumption = []\n",
    "with open('files/daily_media_consumption_norway_percentage.csv', newline='') as csvfile:\n",
    "    csv_reader = csv.reader(csvfile, delimiter=';')\n",
    "    for row in csv_reader:\n",
    "        media_consumption.append(row)"
   ]
  },
  {
   "cell_type": "code",
   "execution_count": 24,
   "id": "4de9a15d62ba137e",
   "metadata": {
    "ExecuteTime": {
     "end_time": "2023-08-11T12:14:57.726481Z",
     "start_time": "2023-08-11T12:14:57.688745Z"
    },
    "collapsed": false,
    "jupyter": {
     "outputs_hidden": false
    }
   },
   "outputs": [
    {
     "data": {
      "text/plain": [
       "[['Date', ' Radio', ' Television', ' Internet'],\n",
       " ['1991', '71', '81', ''],\n",
       " ['1992', '65', '80', ''],\n",
       " ['1994', '67', '82', ''],\n",
       " ['1995', '66', '84', ''],\n",
       " ['1996', '59', '82', ''],\n",
       " ['1997', '61', '84', '7'],\n",
       " ['1998', '59', '83', '10'],\n",
       " ['1999', '60', '84', '18'],\n",
       " ['2000', '57', '82', '27'],\n",
       " ['2001', '56', '85', '35'],\n",
       " ['2002', '58', '85', '35'],\n",
       " ['2003', '58', '84', '42'],\n",
       " ['2004', '58', '83', '44'],\n",
       " ['2005', '55', '85', '55'],\n",
       " ['2006', '54', '83', '60'],\n",
       " ['2007', '53', '82', '66'],\n",
       " ['2008', '54', '80', '71'],\n",
       " ['2009', '53', '80', '73'],\n",
       " ['2010', '56', '82', '77'],\n",
       " ['2011', '55', '81', '80'],\n",
       " ['2012', '60', '77', '80'],\n",
       " ['2013', '59', '74', '85'],\n",
       " ['2014', '64', '74', '88'],\n",
       " ['2015', '59', '67', '87'],\n",
       " ['2016', '59', '67', '89'],\n",
       " ['2017', '54', '62', '90'],\n",
       " ['2018', '50', '60', '91'],\n",
       " ['2019', '48', '48', '90'],\n",
       " ['2020', '49', '48', '92'],\n",
       " ['2021', '47', '46', '93']]"
      ]
     },
     "execution_count": 24,
     "metadata": {},
     "output_type": "execute_result"
    }
   ],
   "source": [
    "# The data is daily percentage media consumption reported by Norwegians\n",
    " \n",
    "media_consumption"
   ]
  },
  {
   "cell_type": "markdown",
   "id": "9125ad9c986518cc",
   "metadata": {},
   "source": [
    "## There are better ways of importing tabular data in Python\n",
    "\n",
    "- We will use `pandas` for this later in the course\n",
    "\n",
    "- The data in the list `media_consumption` is not easy to work with\n",
    "\n",
    "- Let's give it a try and make four lists containing the data in numerical form"
   ]
  },
  {
   "cell_type": "markdown",
   "id": "4723f59ee51f58df",
   "metadata": {},
   "source": [
    "## Extracting the dates"
   ]
  },
  {
   "cell_type": "code",
   "execution_count": 25,
   "id": "4b6be9f6c22e8bbd",
   "metadata": {
    "ExecuteTime": {
     "end_time": "2023-08-11T12:14:59.486762Z",
     "start_time": "2023-08-11T12:14:59.456595Z"
    },
    "collapsed": false,
    "jupyter": {
     "outputs_hidden": false
    }
   },
   "outputs": [
    {
     "data": {
      "text/plain": [
       "31"
      ]
     },
     "execution_count": 25,
     "metadata": {},
     "output_type": "execute_result"
    }
   ],
   "source": [
    "# The number of rows/lines in the data set\n",
    "\n",
    "len(media_consumption)"
   ]
  },
  {
   "cell_type": "code",
   "execution_count": 26,
   "id": "9281e39c66bb40a7",
   "metadata": {
    "ExecuteTime": {
     "end_time": "2023-08-11T12:15:03.614831Z",
     "start_time": "2023-08-11T12:15:03.590558Z"
    },
    "collapsed": false,
    "jupyter": {
     "outputs_hidden": false
    }
   },
   "outputs": [],
   "source": [
    "date = []          # This list will store the dates\n",
    "\n",
    "for i in range(31-1):\n",
    "    row = media_consumption[i+1]\n",
    "    date.append(int(row[0]))"
   ]
  },
  {
   "cell_type": "code",
   "execution_count": 27,
   "id": "3972684a753720e3",
   "metadata": {
    "ExecuteTime": {
     "end_time": "2023-08-11T12:15:04.730541Z",
     "start_time": "2023-08-11T12:15:04.695629Z"
    },
    "collapsed": false,
    "jupyter": {
     "outputs_hidden": false
    }
   },
   "outputs": [
    {
     "name": "stdout",
     "output_type": "stream",
     "text": [
      "[1991, 1992, 1994, 1995, 1996, 1997, 1998, 1999, 2000, 2001, 2002, 2003, 2004, 2005, 2006, 2007, 2008, 2009, 2010, 2011, 2012, 2013, 2014, 2015, 2016, 2017, 2018, 2019, 2020, 2021]\n"
     ]
    }
   ],
   "source": [
    "print(date)"
   ]
  },
  {
   "cell_type": "markdown",
   "id": "501c77fb19727b1f",
   "metadata": {},
   "source": [
    "## Adding radio and TV consumption "
   ]
  },
  {
   "cell_type": "code",
   "execution_count": 28,
   "id": "e5ebc3b7b208aeaa",
   "metadata": {
    "ExecuteTime": {
     "end_time": "2023-08-11T12:15:06.561236Z",
     "start_time": "2023-08-11T12:15:06.527471Z"
    },
    "collapsed": false,
    "jupyter": {
     "outputs_hidden": false
    }
   },
   "outputs": [],
   "source": [
    "date = []     # this list will store the dates\n",
    "radio = []    # this data will store the radio consumption\n",
    "tv = []       # this data will store the tv consumption\n",
    "\n",
    "for i in range(31-1):\n",
    "    row = media_consumption[i+1]\n",
    "    date.append(int(row[0]))\n",
    "    radio.append(float(row[1]))\n",
    "    tv.append(float(row[2]))"
   ]
  },
  {
   "cell_type": "code",
   "execution_count": 29,
   "id": "b70d1e441b8a0ef9",
   "metadata": {
    "ExecuteTime": {
     "end_time": "2023-08-11T12:15:07.103593Z",
     "start_time": "2023-08-11T12:15:07.056003Z"
    },
    "collapsed": false,
    "jupyter": {
     "outputs_hidden": false
    }
   },
   "outputs": [
    {
     "name": "stdout",
     "output_type": "stream",
     "text": [
      "[81.0, 80.0, 82.0, 84.0, 82.0, 84.0, 83.0, 84.0, 82.0, 85.0, 85.0, 84.0, 83.0, 85.0, 83.0, 82.0, 80.0, 80.0, 82.0, 81.0, 77.0, 74.0, 74.0, 67.0, 67.0, 62.0, 60.0, 48.0, 48.0, 46.0]\n"
     ]
    }
   ],
   "source": [
    "print(tv)"
   ]
  },
  {
   "cell_type": "markdown",
   "id": "8c66d52101206f5d",
   "metadata": {},
   "source": [
    "## And the internet consumption ..."
   ]
  },
  {
   "cell_type": "code",
   "execution_count": 30,
   "id": "513382596353984f",
   "metadata": {
    "ExecuteTime": {
     "end_time": "2023-08-11T12:15:08.889074Z",
     "start_time": "2023-08-11T12:15:08.868485Z"
    },
    "collapsed": false,
    "jupyter": {
     "outputs_hidden": false
    }
   },
   "outputs": [
    {
     "ename": "ValueError",
     "evalue": "could not convert string to float: ''",
     "output_type": "error",
     "traceback": [
      "\u001b[0;31m---------------------------------------------------------------------------\u001b[0m",
      "\u001b[0;31mValueError\u001b[0m                                Traceback (most recent call last)",
      "Cell \u001b[0;32mIn[30], line 11\u001b[0m\n\u001b[1;32m      9\u001b[0m radio\u001b[38;5;241m.\u001b[39mappend(\u001b[38;5;28mfloat\u001b[39m(row[\u001b[38;5;241m1\u001b[39m]))\n\u001b[1;32m     10\u001b[0m tv\u001b[38;5;241m.\u001b[39mappend(\u001b[38;5;28mfloat\u001b[39m(row[\u001b[38;5;241m2\u001b[39m]))\n\u001b[0;32m---> 11\u001b[0m internet\u001b[38;5;241m.\u001b[39mappend(\u001b[38;5;28;43mfloat\u001b[39;49m\u001b[43m(\u001b[49m\u001b[43mrow\u001b[49m\u001b[43m[\u001b[49m\u001b[38;5;241;43m3\u001b[39;49m\u001b[43m]\u001b[49m\u001b[43m)\u001b[49m)\n",
      "\u001b[0;31mValueError\u001b[0m: could not convert string to float: ''"
     ]
    }
   ],
   "source": [
    "date = []     # this list will store the dates\n",
    "radio = []    # this data will store the radio consumption\n",
    "tv = []       # this data will store the tv consumption\n",
    "internet = [] # this data will store the internet consumption\n",
    "\n",
    "for i in range(31-1):\n",
    "    row = media_consumption[i+1]\n",
    "    date.append(int(row[0]))\n",
    "    radio.append(float(row[1]))\n",
    "    tv.append(float(row[2]))\n",
    "    internet.append(float(row[3]))"
   ]
  },
  {
   "cell_type": "code",
   "execution_count": 32,
   "id": "b47371bbc9449707",
   "metadata": {
    "ExecuteTime": {
     "end_time": "2023-08-11T12:15:41.519970Z",
     "start_time": "2023-08-11T12:15:41.497048Z"
    },
    "collapsed": false,
    "jupyter": {
     "outputs_hidden": false
    }
   },
   "outputs": [],
   "source": [
    "# We can solve this by using a try statement\n",
    "\n",
    "date = []     # this list will store the dates\n",
    "radio = []    # this data will store the radio consumption\n",
    "tv = []       # this data will store the tv consumption\n",
    "internet = [] # this data will store the internet consumption\n",
    "\n",
    "for i in range(31-1):\n",
    "    row = media_consumption[i+1]\n",
    "    date.append(int(row[0]))\n",
    "    radio.append(float(row[1]))\n",
    "    tv.append(float(row[2]))\n",
    "    try:\n",
    "        internet.append(float(row[3]))\n",
    "    except ValueError:\n",
    "        internet.append(None)   # or we can add zeros?"
   ]
  },
  {
   "cell_type": "code",
   "execution_count": 33,
   "id": "7b78f935e12dcdeb",
   "metadata": {
    "ExecuteTime": {
     "end_time": "2023-08-11T12:15:41.992481Z",
     "start_time": "2023-08-11T12:15:41.972321Z"
    },
    "collapsed": false,
    "jupyter": {
     "outputs_hidden": false
    }
   },
   "outputs": [
    {
     "name": "stdout",
     "output_type": "stream",
     "text": [
      "[None, None, None, None, None, 7.0, 10.0, 18.0, 27.0, 35.0, 35.0, 42.0, 44.0, 55.0, 60.0, 66.0, 71.0, 73.0, 77.0, 80.0, 80.0, 85.0, 88.0, 87.0, 89.0, 90.0, 91.0, 90.0, 92.0, 93.0]\n"
     ]
    }
   ],
   "source": [
    "print(internet)"
   ]
  },
  {
   "cell_type": "markdown",
   "id": "61c63667d714713e",
   "metadata": {},
   "source": [
    "## Is Radio consumption ever larger than TV consumption?"
   ]
  },
  {
   "cell_type": "code",
   "execution_count": 34,
   "id": "bf72f00ac6335769",
   "metadata": {
    "ExecuteTime": {
     "end_time": "2023-08-11T12:15:46.920483Z",
     "start_time": "2023-08-11T12:15:46.886946Z"
    },
    "collapsed": false,
    "jupyter": {
     "outputs_hidden": false
    }
   },
   "outputs": [
    {
     "name": "stdout",
     "output_type": "stream",
     "text": [
      "2020\n",
      "2021\n"
     ]
    }
   ],
   "source": [
    "# Let's iterate through the data and chech whether \n",
    "# there are some years where radio consumption is \n",
    "# larger than tv consumption\n",
    "\n",
    "for i in range(31-1):\n",
    "    if radio[i] > tv[i]:\n",
    "        print(date[i])"
   ]
  },
  {
   "cell_type": "code",
   "execution_count": 35,
   "id": "16be19870eb621f4",
   "metadata": {
    "ExecuteTime": {
     "end_time": "2023-08-11T12:15:47.863291Z",
     "start_time": "2023-08-11T12:15:47.794051Z"
    },
    "collapsed": false,
    "jupyter": {
     "outputs_hidden": false
    }
   },
   "outputs": [
    {
     "name": "stdout",
     "output_type": "stream",
     "text": [
      "2012\n",
      "2013\n",
      "2014\n",
      "2015\n",
      "2016\n",
      "2017\n",
      "2018\n",
      "2019\n",
      "2020\n",
      "2021\n"
     ]
    }
   ],
   "source": [
    "# What about internet consumption vs tv consumption\n",
    "\n",
    "for i in range(31-1):\n",
    "    try:\n",
    "        if internet[i] > tv[i]:\n",
    "            print(date[i])\n",
    "    except:\n",
    "        pass"
   ]
  }
 ],
 "metadata": {
  "kernelspec": {
   "display_name": "Python 3 (ipykernel)",
   "language": "python",
   "name": "python3"
  },
  "language_info": {
   "codemirror_mode": {
    "name": "ipython",
    "version": 3
   },
   "file_extension": ".py",
   "mimetype": "text/x-python",
   "name": "python",
   "nbconvert_exporter": "python",
   "pygments_lexer": "ipython3",
   "version": "3.11.4"
  }
 },
 "nbformat": 4,
 "nbformat_minor": 5
}
