{
   "cells": [
      {
         "cell_type": "markdown",
         "id": "7c93b84a-9dd2-4c10-9397-b50198cf4e3e",
         "metadata": {
            "slideshow": {
               "slide_type": "-"
            }
         },
         "source": [
            "# Variables, expressions, and statements\n",
            "\n",
            "## Course: Programming and Data Management (EDI 3400)\n",
            "\n",
            "### *Vegard H. Larsen (Department of Data Science and Analytics)*"
         ]
      },
      {
         "cell_type": "markdown",
         "id": "8edfcc51",
         "metadata": {
            "slideshow": {
               "slide_type": "-"
            }
         },
         "source": [
            "## The Python language: \n",
            "    \n",
            "- Python can be read almost like English\n",
            "- Important to differentiate between variable names and Python key words\n",
            "- The Jupyter notebook can help with identifying the difference"
         ]
      },
      {
         "cell_type": "code",
         "execution_count": 1,
         "id": "c20d2f5f",
         "metadata": {
            "ExecuteTime": {
               "end_time": "2023-04-28T11:42:55.364804Z",
               "start_time": "2023-04-28T11:42:55.357510Z"
            },
            "slideshow": {
               "slide_type": "-"
            }
         },
         "outputs": [],
         "source": [
            "fruits = ['apple', 'orange', 'banana']"
         ]
      },
      {
         "cell_type": "code",
         "execution_count": 2,
         "id": "4eae8cbf",
         "metadata": {
            "ExecuteTime": {
               "end_time": "2023-04-28T11:42:55.531301Z",
               "start_time": "2023-04-28T11:42:55.516174Z"
            },
            "slideshow": {
               "slide_type": "-"
            }
         },
         "outputs": [
            {
               "name": "stdout",
               "output_type": "stream",
               "text": [
                  "['apple', 'orange', 'banana']\n"
               ]
            }
         ],
         "source": [
            "# Example of a Python (if) statement\n",
            "if 'orange' in fruits:\n",
            "    print(fruits)"
         ]
      },
      {
         "cell_type": "markdown",
         "id": "ac5bd449",
         "metadata": {
            "slideshow": {
               "slide_type": "-"
            }
         },
         "source": [
            "# 1. Introducing variables, expressions and statements\n",
            "\n",
            "A variable can be thought of as a container or label that stores data, such as numbers or text. For example, `age = 25` assigns the value `25` to the variable named `age`. This data can then be manipulated using expressions, which are combinations of values (like `25` or `\"Hello\"`) and operators (like `+` or `*`) that can be evaluated to produce a result. For instance, the expression `age + 5` would evaluate to `30`. A statement, on the other hand, is a complete line of code that performs an action, like the assignment `age = 25`."
         ]
      },
      {
         "cell_type": "markdown",
         "id": "09bbc4eb",
         "metadata": {
            "slideshow": {
               "slide_type": "-"
            }
         },
         "source": [
            "## Variables\n",
            "\n",
            "- Variables\n",
            "    * A variable is a name that refers to a value. \n",
            "- The main types of variables are\n",
            "    * Numbers:\n",
            "        - `x = 3`\n",
            "    * Strings:\n",
            "        - `capital_of_Norway = 'Oslo'` "
         ]
      },
      {
         "cell_type": "markdown",
         "id": "e73e94ef",
         "metadata": {
            "slideshow": {
               "slide_type": "-"
            }
         },
         "source": [
            "## Expressions \n",
            "* An expression always evaluates to a value\n",
            "* Usually on the form: *operand operator operand*"
         ]
      },
      {
         "cell_type": "markdown",
         "id": "c75fe8c3",
         "metadata": {
            "slideshow": {
               "slide_type": "-"
            }
         },
         "source": [
            "### Examples of expressions"
         ]
      },
      {
         "cell_type": "code",
         "execution_count": 3,
         "id": "40577c5a",
         "metadata": {
            "slideshow": {
               "slide_type": "-"
            }
         },
         "outputs": [
            {
               "data": {
                  "text/plain": [
                     "12"
                  ]
               },
               "execution_count": 3,
               "metadata": {},
               "output_type": "execute_result"
            }
         ],
         "source": [
            "10 + 2         # Adding two numbers "
         ]
      },
      {
         "cell_type": "code",
         "execution_count": 4,
         "id": "9ecd7a7a",
         "metadata": {
            "slideshow": {
               "slide_type": "-"
            }
         },
         "outputs": [
            {
               "data": {
                  "text/plain": [
                     "True"
                  ]
               },
               "execution_count": 4,
               "metadata": {},
               "output_type": "execute_result"
            }
         ],
         "source": [
            "2 > 1          # Check if 2 is bigger than 1"
         ]
      },
      {
         "cell_type": "code",
         "execution_count": 5,
         "id": "5666453b",
         "metadata": {
            "slideshow": {
               "slide_type": "-"
            }
         },
         "outputs": [
            {
               "data": {
                  "text/plain": [
                     "True"
                  ]
               },
               "execution_count": 5,
               "metadata": {},
               "output_type": "execute_result"
            }
         ],
         "source": [
            "'3400' in 'EDI3400' # Check if the string '3400' is part of the string 'EDI3400'"
         ]
      },
      {
         "cell_type": "markdown",
         "id": "f6eff8d2",
         "metadata": {
            "slideshow": {
               "slide_type": "-"
            }
         },
         "source": [
            "## Statements\n",
            "\n",
            "* A statement is the key building block of a computer program\n",
            "* A statement is an action or a command that does something"
         ]
      },
      {
         "cell_type": "markdown",
         "id": "86060454",
         "metadata": {
            "slideshow": {
               "slide_type": "-"
            }
         },
         "source": [
            "## Examples of statements"
         ]
      },
      {
         "cell_type": "code",
         "execution_count": 6,
         "id": "d0a96187",
         "metadata": {
            "slideshow": {
               "slide_type": "-"
            }
         },
         "outputs": [],
         "source": [
            "x = 10   # Assigns 10 to the variable x"
         ]
      },
      {
         "cell_type": "code",
         "execution_count": 7,
         "id": "98529e48",
         "metadata": {
            "slideshow": {
               "slide_type": "-"
            }
         },
         "outputs": [],
         "source": [
            "y = x + 1 # Assign the sum of the value of x and 1 to the variable y"
         ]
      },
      {
         "cell_type": "code",
         "execution_count": 8,
         "id": "b9339ccf",
         "metadata": {
            "slideshow": {
               "slide_type": "-"
            }
         },
         "outputs": [
            {
               "name": "stdout",
               "output_type": "stream",
               "text": [
                  "11\n"
               ]
            }
         ],
         "source": [
            "print(y) # Print the value of y to the screen"
         ]
      },
      {
         "cell_type": "markdown",
         "id": "7e8c56dc",
         "metadata": {
            "slideshow": {
               "slide_type": "-"
            }
         },
         "source": [
            "# 2. Data types\n",
            "\n",
            "Data types categorize and specify the kind of value a variable can hold. For instance, the `int` data type represents whole numbers, like `5`, while `float` represents numbers with decimal points, like `3.14`. The `str` type denotes text values, encapsulated within quotes, like `\"Hello, World!\"`. Lists, represented as values enclosed in square brackets (`[...]`), offer collections of items that can be of mixed types, while dictionaries (`{...}`) store pairs of keys and values. Furthermore, the `bool` type provides for binary true/false values, signified by the keywords `True` and `False`."
         ]
      },
      {
         "cell_type": "markdown",
         "id": "ec43165a",
         "metadata": {
            "slideshow": {
               "slide_type": "-"
            }
         },
         "source": [
            "## Core native data types in Python  \n",
            "\n",
            "* Nummeric\n",
            "    - `int`, e.g., `2`\n",
            "    - `float`, e.g., `0.5`\n",
            "    - `complex`, e.g., `2+3j`\n",
            "* String (`str`), e.g., `'computer'`, `'30'` or `'ios15'`\n",
            "* Boolean (`bool`), can only take two values: `True` and `False`"
         ]
      },
      {
         "cell_type": "markdown",
         "id": "6e97109b",
         "metadata": {
            "slideshow": {
               "slide_type": "-"
            }
         },
         "source": [
            "## Core native data types in Python, cont.\n",
            "\n",
            "* Lists (`list`), e.g., `[1, 2, 3]`\n",
            "* Tuples (`tuple`), an immutable `list` e.g, `(1,2,3)`\n",
            "* Dictionary (`dict`), a list with keys:\n",
            "    - e.g., `{'first_name' : 'vegard', 'age' : 35}`\n",
            "* Sets (`set`), is a list with only distinct elements"
         ]
      },
      {
         "cell_type": "markdown",
         "id": "288930f2",
         "metadata": {
            "slideshow": {
               "slide_type": "-"
            }
         },
         "source": [
            "## Examples of some variables:"
         ]
      },
      {
         "cell_type": "code",
         "execution_count": 9,
         "id": "ea45c573",
         "metadata": {
            "slideshow": {
               "slide_type": "-"
            }
         },
         "outputs": [
            {
               "name": "stdout",
               "output_type": "stream",
               "text": [
                  "{25, 3, 6}\n"
               ]
            }
         ],
         "source": [
            "# Create some variables for John and his family\n",
            "\n",
            "first_name     = 'John'                    # This is a string\n",
            "\n",
            "age            = 25                        # This is an int\n",
            "\n",
            "height          = 1.78                      # This is a float\n",
            "\n",
            "has_children   = True                      # This is a bool\n",
            "\n",
            "age_children   = [3, 6]                    # This is a list\n",
            "\n",
            "names_children = ('Anna', 'Karl')          # This is a tuple\n",
            "\n",
            "child_age      = {'Anna' : 3, 'Karl' : 6}  # This is a dict\n",
            "\n",
            "unique_ages    = {3, 6, 25, 3, 25}         # This is a set\n",
            "\n",
            "print(unique_ages)"
         ]
      },
      {
         "cell_type": "markdown",
         "id": "fbe153ad",
         "metadata": {
            "slideshow": {
               "slide_type": "-"
            }
         },
         "source": [
            "## Print out the variable types with `type()`\n",
            "   - `type()` is a built in function like `print()` (covered in lecture 3)"
         ]
      },
      {
         "cell_type": "code",
         "execution_count": 10,
         "id": "c2f63f44",
         "metadata": {
            "slideshow": {
               "slide_type": "-"
            }
         },
         "outputs": [
            {
               "name": "stdout",
               "output_type": "stream",
               "text": [
                  "<class 'str'>\n",
                  "<class 'int'>\n",
                  "<class 'float'>\n",
                  "<class 'bool'>\n",
                  "<class 'list'>\n",
                  "<class 'tuple'>\n",
                  "<class 'dict'>\n",
                  "<class 'set'>\n"
               ]
            }
         ],
         "source": [
            "# print out the type of the different variables \n",
            "\n",
            "print(type(first_name))\n",
            "print(type(age))\n",
            "print(type(height))\n",
            "print(type(has_children))\n",
            "print(type(age_children))\n",
            "print(type(names_children))\n",
            "print(type(child_age))\n",
            "print(type(unique_ages))"
         ]
      },
      {
         "cell_type": "markdown",
         "id": "7bd850bf",
         "metadata": {
            "slideshow": {
               "slide_type": "-"
            }
         },
         "source": [
            "## Python reserved keywords\n",
            "Cannot be used as variable names because they have a special meaning in the Python language."
         ]
      },
      {
         "cell_type": "code",
         "execution_count": 11,
         "id": "42513ad9",
         "metadata": {
            "slideshow": {
               "slide_type": "-"
            }
         },
         "outputs": [
            {
               "name": "stdout",
               "output_type": "stream",
               "text": [
                  "['False', 'None', 'True', 'and', 'as', 'assert', 'async', 'await', 'break', 'class', 'continue', 'def', 'del', 'elif', 'else', 'except', 'finally', 'for', 'from', 'global', 'if', 'import', 'in', 'is', 'lambda', 'nonlocal', 'not', 'or', 'pass', 'raise', 'return', 'try', 'while', 'with', 'yield']\n"
               ]
            }
         ],
         "source": [
            "import keyword             # note that import is in bold green\n",
            "print(keyword.kwlist)      # while print is in green but not bold "
         ]
      },
      {
         "cell_type": "code",
         "execution_count": 12,
         "id": "630ee950",
         "metadata": {
            "slideshow": {
               "slide_type": "-"
            }
         },
         "outputs": [],
         "source": [
            "# False cannot be used as a variable name in Python \n",
            "#False = 4"
         ]
      },
      {
         "cell_type": "markdown",
         "id": "df029565",
         "metadata": {
            "slideshow": {
               "slide_type": "-"
            }
         },
         "source": [
            "## There are other keywords that should not be used"
         ]
      },
      {
         "cell_type": "code",
         "execution_count": 13,
         "id": "8a856446",
         "metadata": {
            "slideshow": {
               "slide_type": "-"
            }
         },
         "outputs": [],
         "source": [
            "# Do not do this!\n",
            "#print = 4"
         ]
      },
      {
         "cell_type": "code",
         "execution_count": 14,
         "id": "d20ec368",
         "metadata": {
            "slideshow": {
               "slide_type": "-"
            }
         },
         "outputs": [],
         "source": [
            "#print"
         ]
      },
      {
         "cell_type": "code",
         "execution_count": 15,
         "id": "efc284b3",
         "metadata": {
            "slideshow": {
               "slide_type": "-"
            }
         },
         "outputs": [],
         "source": [
            "#print('Test!')"
         ]
      },
      {
         "cell_type": "markdown",
         "id": "be5c7781",
         "metadata": {
            "slideshow": {
               "slide_type": "-"
            }
         },
         "source": [
            "# 3. Operators\n",
            "\n",
            "Operators are special symbols used to perform specific operations on one or more variables or values. For instance, basic arithmetic operators like `+`, `-`, `*`, and `/` are used for addition, subtraction, multiplication, and division, respectively. The `==` operator checks if two values are equal, while `!=` verifies their inequality. Logical operators such as `and`, `or`, and `not` are used to combine or negate boolean values, facilitating decision-making in code. Additionally, there are assignment operators like `=` (assign a value) and `+=` (add and assign)."
         ]
      },
      {
         "cell_type": "markdown",
         "id": "7390cef7",
         "metadata": {
            "slideshow": {
               "slide_type": "-"
            }
         },
         "source": [
            "## Operator types\n",
            "\n",
            "- Arithmetic operators\n",
            "- Assignment operators\n",
            "- Comparison operators\n",
            "- Boolean operators\n",
            "- Membership operators\n",
            "- Identity operators (will not be covered)\n",
            "- Bitwise operators (will not be covered)"
         ]
      },
      {
         "cell_type": "markdown",
         "id": "a1467d2d",
         "metadata": {
            "slideshow": {
               "slide_type": "-"
            }
         },
         "source": [
            "## Arithmetic Operators"
         ]
      },
      {
         "cell_type": "code",
         "execution_count": 16,
         "id": "6687e4f6",
         "metadata": {
            "slideshow": {
               "slide_type": "-"
            }
         },
         "outputs": [
            {
               "name": "stdout",
               "output_type": "stream",
               "text": [
                  "7\n"
               ]
            }
         ],
         "source": [
            "# Addition, operator: +\n",
            "print(3 + 4)"
         ]
      },
      {
         "cell_type": "code",
         "execution_count": 17,
         "id": "a03707f2",
         "metadata": {
            "slideshow": {
               "slide_type": "-"
            }
         },
         "outputs": [
            {
               "name": "stdout",
               "output_type": "stream",
               "text": [
                  "4\n"
               ]
            }
         ],
         "source": [
            "# Subtraction, operator: -\n",
            "print(10 - 6)"
         ]
      },
      {
         "cell_type": "markdown",
         "id": "169209b1",
         "metadata": {
            "slideshow": {
               "slide_type": "-"
            }
         },
         "source": [
            "## Arithmetic Operators, cont."
         ]
      },
      {
         "cell_type": "code",
         "execution_count": 18,
         "id": "603242fe",
         "metadata": {
            "slideshow": {
               "slide_type": "-"
            }
         },
         "outputs": [
            {
               "name": "stdout",
               "output_type": "stream",
               "text": [
                  "20\n"
               ]
            }
         ],
         "source": [
            "# Multiplication, operator: *\n",
            "print(5 * 4)"
         ]
      },
      {
         "cell_type": "code",
         "execution_count": 19,
         "id": "31a53528",
         "metadata": {
            "slideshow": {
               "slide_type": "-"
            }
         },
         "outputs": [
            {
               "name": "stdout",
               "output_type": "stream",
               "text": [
                  "50.0\n"
               ]
            }
         ],
         "source": [
            "# Division, operator: /\n",
            "print(100 / 2)                 # note that the int -> float"
         ]
      },
      {
         "cell_type": "code",
         "execution_count": 20,
         "id": "d82d7f25",
         "metadata": {
            "slideshow": {
               "slide_type": "-"
            }
         },
         "outputs": [
            {
               "name": "stdout",
               "output_type": "stream",
               "text": [
                  "1000000\n"
               ]
            }
         ],
         "source": [
            "# Exponentiation, operator: **\n",
            "print(10 ** 6)"
         ]
      },
      {
         "cell_type": "code",
         "execution_count": 21,
         "id": "b7e0f8e0",
         "metadata": {
            "slideshow": {
               "slide_type": "-"
            }
         },
         "outputs": [
            {
               "name": "stdout",
               "output_type": "stream",
               "text": [
                  "12\n"
               ]
            }
         ],
         "source": [
            "# WARNING: do not use ^ for exponentiation in Python.\n",
            "# This will give you something unexpected (bitwise XOR)\n",
            "print(10 ^ 6)"
         ]
      },
      {
         "cell_type": "markdown",
         "id": "0f9993e9",
         "metadata": {
            "slideshow": {
               "slide_type": "-"
            }
         },
         "source": [
            "## Arithmetic Operators, cont."
         ]
      },
      {
         "cell_type": "code",
         "execution_count": 22,
         "id": "ef0ce8eb",
         "metadata": {
            "slideshow": {
               "slide_type": "-"
            }
         },
         "outputs": [
            {
               "name": "stdout",
               "output_type": "stream",
               "text": [
                  "2\n"
               ]
            }
         ],
         "source": [
            "# Modulus, operator: %\n",
            "print(11 % 3)                  # 9 / 3 = 3, 11 - 9 = 2"
         ]
      },
      {
         "cell_type": "code",
         "execution_count": 23,
         "id": "d991ec9e",
         "metadata": {
            "slideshow": {
               "slide_type": "-"
            }
         },
         "outputs": [
            {
               "name": "stdout",
               "output_type": "stream",
               "text": [
                  "4\n"
               ]
            }
         ],
         "source": [
            "# Floor division, operator: //\n",
            "print (13 // 3)                # 13 / 3 = 4.33333 -> 4"
         ]
      },
      {
         "cell_type": "markdown",
         "id": "5eeabdf4",
         "metadata": {
            "slideshow": {
               "slide_type": "-"
            }
         },
         "source": [
            "## Order of operations:\n",
            "\n",
            "1. Parantheses have the highest precedence\n",
            "2. Exponentiation has the second-highest precedence\n",
            "3. Next is Multiplication and Division\n",
            "4. Lastly is Addition and Subtraction\n",
            "5. Operations with the same precedence are evaluated from left to right"
         ]
      },
      {
         "cell_type": "markdown",
         "id": "440fada1",
         "metadata": {
            "slideshow": {
               "slide_type": "-"
            }
         },
         "source": [
            "## Some examples"
         ]
      },
      {
         "cell_type": "code",
         "execution_count": 24,
         "id": "77e62580",
         "metadata": {
            "slideshow": {
               "slide_type": "-"
            }
         },
         "outputs": [
            {
               "name": "stdout",
               "output_type": "stream",
               "text": [
                  "11.0\n",
                  "25.0\n",
                  "0.16\n"
               ]
            }
         ],
         "source": [
            "print( 4 / 2 + 3**2 )     # 2 + 9 = 11\n",
            "\n",
            "print( (4 / 2 + 3)**2 )   # 5**2 = 25\n",
            "\n",
            "print( 4 / (2 + 3)**2 )   # 0.8**2"
         ]
      },
      {
         "cell_type": "markdown",
         "id": "ad5767b9",
         "metadata": {
            "slideshow": {
               "slide_type": "-"
            }
         },
         "source": [
            "## Assignment operators"
         ]
      },
      {
         "cell_type": "code",
         "execution_count": 25,
         "id": "5dd4fc74",
         "metadata": {
            "slideshow": {
               "slide_type": "-"
            }
         },
         "outputs": [],
         "source": [
            "x = 5"
         ]
      },
      {
         "cell_type": "code",
         "execution_count": 26,
         "id": "1887ba57",
         "metadata": {
            "slideshow": {
               "slide_type": "-"
            }
         },
         "outputs": [
            {
               "name": "stdout",
               "output_type": "stream",
               "text": [
                  "9\n"
               ]
            }
         ],
         "source": [
            "x += 4      # This is the same as x = x + 4 = 9\n",
            "print(x)"
         ]
      },
      {
         "cell_type": "code",
         "execution_count": 27,
         "id": "ce926571",
         "metadata": {
            "slideshow": {
               "slide_type": "-"
            }
         },
         "outputs": [
            {
               "name": "stdout",
               "output_type": "stream",
               "text": [
                  "6\n"
               ]
            }
         ],
         "source": [
            "x -= 3      # This is the same as x = x - 3 = 6\n",
            "print(x)"
         ]
      },
      {
         "cell_type": "code",
         "execution_count": 28,
         "id": "97881c49",
         "metadata": {
            "slideshow": {
               "slide_type": "-"
            }
         },
         "outputs": [
            {
               "name": "stdout",
               "output_type": "stream",
               "text": [
                  "3.0\n"
               ]
            }
         ],
         "source": [
            "x /= 2      # This is the same as x = x / 2 = 3.0\n",
            "print(x)"
         ]
      },
      {
         "cell_type": "code",
         "execution_count": 29,
         "id": "fb142f87",
         "metadata": {
            "slideshow": {
               "slide_type": "-"
            }
         },
         "outputs": [
            {
               "name": "stdout",
               "output_type": "stream",
               "text": [
                  "150.0\n"
               ]
            }
         ],
         "source": [
            "x *= 50     # This is the same as x = x * 50 = 150.0\n",
            "print(x)"
         ]
      },
      {
         "cell_type": "markdown",
         "id": "ade2fd30",
         "metadata": {
            "slideshow": {
               "slide_type": "-"
            }
         },
         "source": [
            "## Comparison operators\n",
            "Comparison operators are used to compare two values:"
         ]
      },
      {
         "cell_type": "markdown",
         "id": "14db9604",
         "metadata": {
            "slideshow": {
               "slide_type": "-"
            }
         },
         "source": [
            "#### Equal, `==`, and not equal, `!=`"
         ]
      },
      {
         "cell_type": "code",
         "execution_count": 30,
         "id": "bd82ae92",
         "metadata": {
            "slideshow": {
               "slide_type": "-"
            }
         },
         "outputs": [
            {
               "data": {
                  "text/plain": [
                     "True"
                  ]
               },
               "execution_count": 30,
               "metadata": {},
               "output_type": "execute_result"
            }
         ],
         "source": [
            "4 == 4.0          # True, an int 4 is equal to a float 4.0"
         ]
      },
      {
         "cell_type": "code",
         "execution_count": 31,
         "id": "b48f077a",
         "metadata": {
            "slideshow": {
               "slide_type": "-"
            }
         },
         "outputs": [
            {
               "data": {
                  "text/plain": [
                     "True"
                  ]
               },
               "execution_count": 31,
               "metadata": {},
               "output_type": "execute_result"
            }
         ],
         "source": [
            "'print' != 'pirnt'   # True, 'print' is not equal to 'pirnt'"
         ]
      },
      {
         "cell_type": "markdown",
         "id": "89fd05fe",
         "metadata": {
            "slideshow": {
               "slide_type": "-"
            }
         },
         "source": [
            "#### Greater than, `>`, and less than, `<`"
         ]
      },
      {
         "cell_type": "code",
         "execution_count": 32,
         "id": "ac3432cb",
         "metadata": {
            "slideshow": {
               "slide_type": "-"
            }
         },
         "outputs": [
            {
               "data": {
                  "text/plain": [
                     "False"
                  ]
               },
               "execution_count": 32,
               "metadata": {},
               "output_type": "execute_result"
            }
         ],
         "source": [
            "5 > 6             # False, 5 is not greater than 6"
         ]
      },
      {
         "cell_type": "code",
         "execution_count": 33,
         "id": "b24c84a8",
         "metadata": {
            "slideshow": {
               "slide_type": "-"
            }
         },
         "outputs": [
            {
               "data": {
                  "text/plain": [
                     "True"
                  ]
               },
               "execution_count": 33,
               "metadata": {},
               "output_type": "execute_result"
            }
         ],
         "source": [
            "400 < 4e3          # True, 400 is less than 4e3=4000.0  "
         ]
      },
      {
         "cell_type": "markdown",
         "id": "e2479b50",
         "metadata": {
            "slideshow": {
               "slide_type": "-"
            }
         },
         "source": [
            "#### Greater than or equal, `=>`, and Less than or equal, `=<`"
         ]
      },
      {
         "cell_type": "code",
         "execution_count": 34,
         "id": "4cb1fd56",
         "metadata": {
            "slideshow": {
               "slide_type": "-"
            }
         },
         "outputs": [
            {
               "data": {
                  "text/plain": [
                     "True"
                  ]
               },
               "execution_count": 34,
               "metadata": {},
               "output_type": "execute_result"
            }
         ],
         "source": [
            "4 >= 4             # True, 4 is equal to 4"
         ]
      },
      {
         "cell_type": "code",
         "execution_count": 35,
         "id": "d84f4c09",
         "metadata": {
            "slideshow": {
               "slide_type": "-"
            }
         },
         "outputs": [
            {
               "data": {
                  "text/plain": [
                     "False"
                  ]
               },
               "execution_count": 35,
               "metadata": {},
               "output_type": "execute_result"
            }
         ],
         "source": [
            "4 <= 3.999         # False, 4 is not less than or equal to 3.999"
         ]
      },
      {
         "cell_type": "markdown",
         "id": "aa2f37cf",
         "metadata": {
            "slideshow": {
               "slide_type": "-"
            }
         },
         "source": [
            "## We can also compare other variables than numbers"
         ]
      },
      {
         "cell_type": "code",
         "execution_count": 36,
         "id": "b11ec8ec",
         "metadata": {
            "slideshow": {
               "slide_type": "-"
            }
         },
         "outputs": [
            {
               "data": {
                  "text/plain": [
                     "False"
                  ]
               },
               "execution_count": 36,
               "metadata": {},
               "output_type": "execute_result"
            }
         ],
         "source": [
            "'a' > 'b'     # A letter further out in the alphabet has a higher value"
         ]
      },
      {
         "cell_type": "code",
         "execution_count": 37,
         "id": "5a8ec3cf",
         "metadata": {
            "slideshow": {
               "slide_type": "-"
            }
         },
         "outputs": [
            {
               "data": {
                  "text/plain": [
                     "True"
                  ]
               },
               "execution_count": 37,
               "metadata": {},
               "output_type": "execute_result"
            }
         ],
         "source": [
            "'A' < 'a'   # Capital letters are ordered bellow the non-capitalized "
         ]
      },
      {
         "cell_type": "code",
         "execution_count": 38,
         "id": "67d22401",
         "metadata": {
            "slideshow": {
               "slide_type": "-"
            }
         },
         "outputs": [
            {
               "data": {
                  "text/plain": [
                     "False"
                  ]
               },
               "execution_count": 38,
               "metadata": {},
               "output_type": "execute_result"
            }
         ],
         "source": [
            "'11' > '2'  # The first element of the string is compared first"
         ]
      },
      {
         "cell_type": "code",
         "execution_count": 39,
         "id": "79879ed3",
         "metadata": {
            "slideshow": {
               "slide_type": "-"
            }
         },
         "outputs": [
            {
               "data": {
                  "text/plain": [
                     "False"
                  ]
               },
               "execution_count": 39,
               "metadata": {},
               "output_type": "execute_result"
            }
         ],
         "source": [
            "# When the first element is the same the comparison moves to the second element\n",
            "[5, 2] > [5, 4]"
         ]
      },
      {
         "cell_type": "markdown",
         "id": "57a0dede",
         "metadata": {
            "slideshow": {
               "slide_type": "-"
            }
         },
         "source": [
            "## Membership Operators\n",
            "\n",
            "- Python’s membership operators test for membership in a sequence, such as strings, lists, or tuples."
         ]
      },
      {
         "cell_type": "code",
         "execution_count": 40,
         "id": "3b364691",
         "metadata": {
            "slideshow": {
               "slide_type": "-"
            }
         },
         "outputs": [
            {
               "data": {
                  "text/plain": [
                     "True"
                  ]
               },
               "execution_count": 40,
               "metadata": {},
               "output_type": "execute_result"
            }
         ],
         "source": [
            "'string' in 'test string'"
         ]
      },
      {
         "cell_type": "code",
         "execution_count": 41,
         "id": "2c65d58b",
         "metadata": {
            "slideshow": {
               "slide_type": "-"
            }
         },
         "outputs": [
            {
               "data": {
                  "text/plain": [
                     "True"
                  ]
               },
               "execution_count": 41,
               "metadata": {},
               "output_type": "execute_result"
            }
         ],
         "source": [
            "'a string' not in 'test string'"
         ]
      },
      {
         "cell_type": "markdown",
         "id": "3625a8ef",
         "metadata": {
            "slideshow": {
               "slide_type": "-"
            }
         },
         "source": [
            "## Combining types\n",
            "\n",
            "- For some data types we are allowed to combine them in expressions"
         ]
      },
      {
         "cell_type": "markdown",
         "id": "c887d8a6",
         "metadata": {
            "slideshow": {
               "slide_type": "-"
            }
         },
         "source": [
            " - Note that the result might not be as you expect"
         ]
      },
      {
         "cell_type": "code",
         "execution_count": 42,
         "id": "842a98b0",
         "metadata": {
            "slideshow": {
               "slide_type": "-"
            }
         },
         "outputs": [
            {
               "name": "stdout",
               "output_type": "stream",
               "text": [
                  "5555\n"
               ]
            }
         ],
         "source": [
            "# string * int\n",
            "print( '5' * 4 )"
         ]
      },
      {
         "cell_type": "code",
         "execution_count": 43,
         "id": "3f92e42a",
         "metadata": {
            "slideshow": {
               "slide_type": "-"
            }
         },
         "outputs": [
            {
               "name": "stdout",
               "output_type": "stream",
               "text": [
                  "[5, 8, 5, 8]\n"
               ]
            }
         ],
         "source": [
            "# list * int\n",
            "print( [5, 8] * 2 ) "
         ]
      },
      {
         "cell_type": "code",
         "execution_count": 44,
         "id": "3ab1e15b",
         "metadata": {
            "slideshow": {
               "slide_type": "-"
            }
         },
         "outputs": [
            {
               "name": "stdout",
               "output_type": "stream",
               "text": [
                  "20\n"
               ]
            }
         ],
         "source": [
            "# type conversion\n",
            "print( int('5') * 4 )"
         ]
      },
      {
         "cell_type": "markdown",
         "id": "3b627416",
         "metadata": {
            "slideshow": {
               "slide_type": "-"
            }
         },
         "source": [
            "# 4. Boolean expressions\n",
            "\n",
            "Boolean expressions evaluate to one of two values: `True` or `False`. These expressions often serve as the decision-making foundation in programming. For instance, comparison operators like `==` (equals), `!=` (not equals), `<` (less than), and `>` (greater than) are employed to compare values, resulting in a boolean outcome. Logical operators such as `and`, `or`, and `not` can further combine or modify these outcomes. For example, the expression `5 > 3 and 2 < 4` evaluates to `True` because both conditions are true."
         ]
      },
      {
         "cell_type": "markdown",
         "id": "ccdf2af6",
         "metadata": {
            "slideshow": {
               "slide_type": "-"
            }
         },
         "source": [
            "## Boolean expressions \n",
            "\n",
            "- A boolean expression can be either `True` or `False`\n",
            "- We have three boolean operators, `not`, `and` and `or`, that we use to make boolean expressions\n",
            "- `not` reverses an expression"
         ]
      },
      {
         "cell_type": "code",
         "execution_count": 1,
         "id": "6b4a0903",
         "metadata": {
            "slideshow": {
               "slide_type": "-"
            }
         },
         "outputs": [
            {
               "data": {
                  "text/plain": [
                     "False"
                  ]
               },
               "execution_count": 1,
               "metadata": {},
               "output_type": "execute_result"
            }
         ],
         "source": [
            "# not - Reverse the result, returns False if the expression to the right is True\n",
            "not True"
         ]
      },
      {
         "cell_type": "markdown",
         "id": "7d443b13",
         "metadata": {
            "slideshow": {
               "slide_type": "-"
            }
         },
         "source": [
            "## Boolean expressions, cont.\n",
            "\n",
            "- `and` - Both sides of the expression must be `True` for the combined expression to be evaluated as `True`  "
         ]
      },
      {
         "cell_type": "code",
         "execution_count": 46,
         "id": "fb2997d3",
         "metadata": {},
         "outputs": [
            {
               "data": {
                  "text/plain": [
                     "False"
                  ]
               },
               "execution_count": 46,
               "metadata": {},
               "output_type": "execute_result"
            }
         ],
         "source": [
            "# and - Returns True if both statements are True\n",
            "False and True"
         ]
      },
      {
         "cell_type": "markdown",
         "id": "e52430c7",
         "metadata": {
            "slideshow": {
               "slide_type": "-"
            }
         },
         "source": [
            "- `or` - One **or** both sides of the expression must be `True` for the combined expression to be evaluated as `True`"
         ]
      },
      {
         "cell_type": "code",
         "execution_count": 47,
         "id": "2d819b4a",
         "metadata": {
            "slideshow": {
               "slide_type": "-"
            }
         },
         "outputs": [
            {
               "name": "stdout",
               "output_type": "stream",
               "text": [
                  "True\n"
               ]
            }
         ],
         "source": [
            "# or - Returns True if one of the statements is True\n",
            "print( False or True )"
         ]
      },
      {
         "cell_type": "markdown",
         "id": "da18ce2b",
         "metadata": {
            "slideshow": {
               "slide_type": "-"
            }
         },
         "source": [
            "# 5. Conditional statements\n",
            "\n",
            "Conditional statements allow programs to execute specific blocks of code based on whether a given condition is true or false. The most fundamental conditional statement is the `if` statement, which tests a condition and executes its block of code if the condition evaluates to `True`. Optionally, the `elif` (short for \"else if\") can be used to test additional conditions, while the `else` clause executes when none of the preceding conditions are met. For example, in a scenario where we want to categorize grades, an `if` statement might check if a score is above 90 for an 'A' grade, an `elif` might check for a score above 80 for a 'B', and so on, with a final `else` handling any remaining cases."
         ]
      },
      {
         "cell_type": "markdown",
         "id": "4746f000",
         "metadata": {
            "slideshow": {
               "slide_type": "-"
            }
         },
         "source": [
            "## Check conditions with the `if` statement\n",
            "\n",
            "- Run some code only if a condition is `True`"
         ]
      },
      {
         "cell_type": "markdown",
         "id": "480a5a1c",
         "metadata": {
            "slideshow": {
               "slide_type": "-"
            }
         },
         "source": [
            "- Indentation is important for defining the code that will be run when the condition is `True`"
         ]
      },
      {
         "cell_type": "markdown",
         "id": "97cb44fa",
         "metadata": {
            "slideshow": {
               "slide_type": "-"
            }
         },
         "source": [
            "- If the condition is `False` the indented code will be ignored and we will jump to the line after the last indented line"
         ]
      },
      {
         "cell_type": "code",
         "execution_count": 48,
         "id": "55761f91",
         "metadata": {
            "slideshow": {
               "slide_type": "-"
            }
         },
         "outputs": [
            {
               "name": "stdout",
               "output_type": "stream",
               "text": [
                  "This is executed if and only if the condition is True\n"
               ]
            }
         ],
         "source": [
            "condition = True\n",
            "if condition:\n",
            "    print('This is executed if and only if the condition is True')"
         ]
      },
      {
         "cell_type": "markdown",
         "id": "b23da110",
         "metadata": {
            "slideshow": {
               "slide_type": "-"
            }
         },
         "source": [
            "## Important to get the indentation right \n",
            "\n",
            "- Common to use four spaces (must be consistent for the whole block)"
         ]
      },
      {
         "cell_type": "code",
         "execution_count": 49,
         "id": "4428bb78",
         "metadata": {
            "slideshow": {
               "slide_type": "-"
            }
         },
         "outputs": [],
         "source": [
            "fruits = ['apple', 'orange', 'banana']\n",
            "\n",
            "if 'pear' in fruits:\n",
            "    print('apple is a fruit')"
         ]
      },
      {
         "cell_type": "code",
         "execution_count": 50,
         "id": "39a3e395",
         "metadata": {
            "slideshow": {
               "slide_type": "-"
            }
         },
         "outputs": [
            {
               "name": "stdout",
               "output_type": "stream",
               "text": [
                  "apple is a fruit\n",
                  "-----------\n"
               ]
            }
         ],
         "source": [
            "if 'apple' in fruits:\n",
            "    print('apple is a fruit')\n",
            "    print('-----------')"
         ]
      },
      {
         "cell_type": "markdown",
         "id": "45e69eb2",
         "metadata": {
            "slideshow": {
               "slide_type": "-"
            }
         },
         "source": [
            "## The `elif` and  `else`statements"
         ]
      },
      {
         "cell_type": "code",
         "execution_count": 51,
         "id": "030e59f4",
         "metadata": {
            "slideshow": {
               "slide_type": "-"
            }
         },
         "outputs": [
            {
               "name": "stdout",
               "output_type": "stream",
               "text": [
                  "The number is 10\n"
               ]
            }
         ],
         "source": [
            "condition = 10\n",
            "\n",
            "if condition > 10:\n",
            "    print('The number is higher than 10')\n",
            "elif condition == 10:\n",
            "    print('The number is 10')\n",
            "elif condition == 3:\n",
            "    print('s')\n",
            "else:\n",
            "    print('The number is lower than 10')"
         ]
      },
      {
         "cell_type": "markdown",
         "id": "34ecc6d0",
         "metadata": {
            "slideshow": {
               "slide_type": "-"
            }
         },
         "source": [
            "# 6. Error messages\n",
            "\n",
            "Error messages provide feedback when something goes wrong during code execution. These messages, while sometimes intimidating for beginners, are invaluable tools for debugging. They typically specify the type of error—such as `SyntaxError` for mistakes in writing the code, or `ValueError` when a function receives an inappropriate value—and often pinpoint the line number where the error occurred. Additionally, error messages may contain descriptions or hints to help diagnose the problem. For instance, an error stating \"NameError: name 'variable_name' not defined\" informs the programmer that they've referenced a variable before assigning it a value. You should view these messages as helpful guides, not roadblocks, learning to read and interpret them to rectify issues and enhance coding proficiency."
         ]
      },
      {
         "cell_type": "markdown",
         "id": "c5ed935b",
         "metadata": {
            "slideshow": {
               "slide_type": "-"
            }
         },
         "source": [
            "- Very useful for identifying mistakes and errors in our code\n",
            "- Important to learn how to read the error messages\n",
            "- The error messages depend on the version of Python you have installed. \n",
            "- Newer versions of Python have improved handling of error messages."
         ]
      },
      {
         "cell_type": "code",
         "execution_count": 52,
         "id": "7f4a9141",
         "metadata": {
            "slideshow": {
               "slide_type": "-"
            }
         },
         "outputs": [
            {
               "name": "stdout",
               "output_type": "stream",
               "text": [
                  "Hello World!\n"
               ]
            }
         ],
         "source": [
            "# Syntax Error\n",
            "print('Hello World!')"
         ]
      },
      {
         "cell_type": "code",
         "execution_count": 53,
         "id": "1cad5d67",
         "metadata": {
            "slideshow": {
               "slide_type": "-"
            }
         },
         "outputs": [
            {
               "name": "stdout",
               "output_type": "stream",
               "text": [
                  "number2 is greater\n"
               ]
            }
         ],
         "source": [
            "number1 = 1\n",
            "number2 = 12\n",
            "if number1 < number2:\n",
            "    print('number2 is greater')"
         ]
      },
      {
         "cell_type": "code",
         "execution_count": 54,
         "id": "1995af3b",
         "metadata": {
            "slideshow": {
               "slide_type": "-"
            }
         },
         "outputs": [],
         "source": [
            "# Name Error\n",
            "#write('Hello World!')"
         ]
      },
      {
         "cell_type": "code",
         "execution_count": 55,
         "id": "35247ff8",
         "metadata": {
            "slideshow": {
               "slide_type": "-"
            }
         },
         "outputs": [],
         "source": [
            "# Zero Division Error\n",
            "#4 / 0"
         ]
      },
      {
         "cell_type": "code",
         "execution_count": 56,
         "id": "6f4e321b",
         "metadata": {
            "slideshow": {
               "slide_type": "-"
            }
         },
         "outputs": [
            {
               "ename": "ValueError",
               "evalue": "invalid literal for int() with base 10: 'Five'",
               "output_type": "error",
               "traceback": [
                  "\u001b[0;31m---------------------------------------------------------------------------\u001b[0m",
                  "\u001b[0;31mValueError\u001b[0m                                Traceback (most recent call last)",
                  "Cell \u001b[0;32mIn[56], line 2\u001b[0m\n\u001b[1;32m      1\u001b[0m \u001b[38;5;66;03m# Value Error\u001b[39;00m\n\u001b[0;32m----> 2\u001b[0m \u001b[38;5;28mint\u001b[39m(\u001b[38;5;124m'\u001b[39m\u001b[38;5;124mFive\u001b[39m\u001b[38;5;124m'\u001b[39m)\n",
                  "\u001b[0;31mValueError\u001b[0m: invalid literal for int() with base 10: 'Five'"
               ]
            }
         ],
         "source": [
            "# Value Error\n",
            "int('Five')"
         ]
      },
      {
         "cell_type": "code",
         "execution_count": null,
         "id": "3fdef6eb",
         "metadata": {
            "slideshow": {
               "slide_type": "-"
            }
         },
         "outputs": [],
         "source": [
            "# Indentation Error\n",
            "#if True:\n",
            "#    print('Hello')\n",
            "#   print('World!')   "
         ]
      }
   ],
   "metadata": {
      "celltoolbar": "Slideshow",
      "kernelspec": {
         "display_name": "Python 3 (ipykernel)",
         "language": "python",
         "name": "python3"
      },
      "language_info": {
         "codemirror_mode": {
            "name": "ipython",
            "version": 3
         },
         "file_extension": ".py",
         "mimetype": "text/x-python",
         "name": "python",
         "nbconvert_exporter": "python",
         "pygments_lexer": "ipython3",
         "version": "3.10.8"
      }
   },
   "nbformat": 4,
   "nbformat_minor": 5
}