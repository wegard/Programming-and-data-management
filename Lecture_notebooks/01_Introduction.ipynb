{
 "cells": [
  {
   "cell_type": "markdown",
   "id": "94921f6322a7e89f",
   "metadata": {},
   "source": [
    "# Introduction\n",
    "\n",
    "## Course: Programming and Data Management (EDI 3400)\n",
    "\n",
    "### *Vegard H. Larsen (Department of Data Science and Analytics)*"
   ]
  },
  {
   "cell_type": "markdown",
   "id": "9d6307094de2e885",
   "metadata": {},
   "source": [
    "## Syllabus\n",
    "\n",
    "1. **Python for everybody: Exploring data using Python 3** by *Charles R. Severance* \n",
    "    - Available online [here](https://www.py4e.com/book)\n",
    "2. **Introduction to Python for Econometrics, Statistics and Data Analysis** by *Kevin Sheppard*\n",
    "    - Available online [here](https://www.kevinsheppard.com/files/teaching/python/notes/python_introduction_2021.pdf)\n",
    "3. **SQL queries for mere mortals: A hands-on guide to data manipulation in SQL** by *John L. Viescas*\n"
   ]
  },
  {
   "cell_type": "markdown",
   "id": "d0de57586ae4c24e",
   "metadata": {},
   "source": [
    "## Notes on the Syllabus\n",
    "\n",
    "**Severance:** \n",
    "- Start with this book if you are new to Python.\n",
    "\n",
    "**Sheppard:**\n",
    "- This is a more advanced text. \n",
    "- Note that this book is relying on Numpy being imported from the beginning of the text. \n",
    "- We will not cover Numpy until a bit later in the course. \n",
    "- Also, I will use Numpy in a slightly different way where Numpy is imported using the namespace `import numpy as np`. \n",
    "- If this is confusing, just ignore it for now, it will be clear when we get the Numpy part of the lectures.\n",
    "\n",
    "**Viescas:**\n",
    "- This book covers much more than we will use in this course. \n",
    "- We will only cover topics from the first sections of this book. \n",
    "- The rest is optional reading and a good reference for later use."
   ]
  },
  {
   "cell_type": "markdown",
   "id": "a5b8c7bae44befec",
   "metadata": {},
   "source": [
    "## Software we will use\n",
    "\n",
    "- Much of the coding we will do in this course will be done using the **Ed** platform. \n",
    "- You will interact with both Python and SQL through this platform using a web-browser and you do not need to install anything on your computer to use it.\n",
    "- However, we will also use some other software that I advice you to install on your computer.\n",
    "- Managing to install this software is an important skill. \n",
    "\n",
    "The additional software we will use is:\n",
    "\n",
    "1. [Python](https://www.python.org) through the [Anaconda](https://www.anaconda.com/) distribution\n",
    "2. [SQLite](https://www.sqlite.org/) - Is available with the Anaconda installation\n",
    "3. [DB Browser for SQLite](https://sqlitebrowser.org/)"
   ]
  },
  {
   "cell_type": "markdown",
   "id": "37dc333a291316c8",
   "metadata": {},
   "source": [
    "## Course outline\n",
    "\n",
    "**Today**: Introducing \n",
    "\n",
    "**Lecture 2 - 5**: Programming with basic Python \n",
    "\n",
    "**Lecture 6 - 8**: 3rd party Python libraries\n",
    "\n",
    "**Lecture 9 - 10**: Advanced topics\n",
    "\n",
    "**Lecture 11 - 13**: Databases with SQL and Python\n",
    "\n",
    "**Lecture 14**: Summing up and Q&As"
   ]
  },
  {
   "cell_type": "markdown",
   "id": "76b232a4d74eb4eb",
   "metadata": {},
   "source": [
    "## Prerequisites and learning goals\n",
    "\n",
    "No previous experience with programming is required.\n",
    "\n",
    "**Learning goals:**\n",
    "- Understand and be able to write computer programs in Python\n",
    "- Be able to clean, visualize and analyze data using Python libraries\n",
    "- Interact with data that is stored on disk or in an SQL database"
   ]
  },
  {
   "cell_type": "markdown",
   "id": "bc0ac5afd5706600",
   "metadata": {},
   "source": [
    "# 1. Introduction to Programming, Python and the Jupyter Notebook\n",
    "\n",
    "## Computer programming\n",
    "\n",
    "- A computer program is a set of instructions that tells a computer how it can perform a specific task\n",
    "- The instructions or recipe for a given task must be written in a programming language that a computer can understand and execute\n",
    "- Many programming languages exist and they have different strengths and weaknesses (E.g., C, C++, Java, Matlab, R)\n",
    "- We will use **Python** in this course\n",
    "\n",
    "## What is Python?\n",
    "\n",
    "Python is a versatile, high-level programming language renowned for its simplicity, readability, and broad applicability. Designed with the philosophy that code should be easy to write and even easier to read, Python's intuitive syntax closely resembles plain English, making it an ideal language for beginners. Yet, its power and flexibility ensure its prominence in diverse fields, from web development and data analysis to artificial intelligence and scientific computing. Python offers a gentle introduction to coding principles while providing a robust platform for future exploration and innovation in the vast landscape of technology.\n",
    "\n",
    "- A high-level, general-purpose, interpreted programming language\n",
    "- Developed by *Guido van Rossum* and first released in 1991\n",
    "- Free and open source with a huge ecosystem of libraries\n",
    "- Easy to learn compared to many other languages and also the most used programming language today (https://pypl.github.io/)\n",
    "- Used for a wide variety of applications\n",
    "    * E.g., Web development, games, data science, and automation\n",
    "      \n",
    "## Some challenges with learning Python?\n",
    "\n",
    "- Can be run in many different ways on your computer which can be confusing for beginners\n",
    "- It is possible (and common) to have more than one version of Python installed at the same time\n",
    "    - This is usually an advantage but can create problems for beginners\n",
    "- In some cases Python behaves differently on different operating systems (Windows vs. MacOS vs. Linux)\n",
    "\n",
    "## The basic Python interpreter:\n",
    "\n",
    "- Can be downloaded from: www.python.org\n",
    "- Python is often pre-installed on macOS and Linux distributions\n",
    "- The Python interpreter is used for running Python code \n",
    "- Not the best way for us to interact with Python, but useful for some simple tasks allowing for fast and easy access to Python \n",
    "- Python code files has the extension `.py`\n",
    "\n",
    "## Installing Python using Anaconda\n",
    "\n",
    "- We will use the Anaconda distribution to install Python \n",
    "- Anaconda is specifically created for scientific computing\n",
    "- Includes some important 3rd party libraries useful for data science\n",
    "- Makes it easy to install and manage additional libraries\n",
    "- Anaconda also supports other languages such as [R](https://cran.r-project.org/) and [Julia](https://julialang.org/)"
   ]
  },
  {
   "cell_type": "markdown",
   "id": "865f50c84608ebec",
   "metadata": {},
   "source": [
    "# 2. Working with the Jupyter Notebook\n",
    "\n",
    "## [The Jupyter Notebook](https://jupyter.org/)\n",
    "\n",
    "- This will be our main tool for Python programming in this course\n",
    "- The Jupyter Notebook is available in Ed \n",
    "- Access to Python through a web-browser such as Chrome\n",
    "- It allows us to run each piece of the code individually and make modifications and see the results right next to the code\n",
    "- The Jupyter Notebook can also be installed together with the Anaconda distribution\n",
    "- Everything in this course can be done within Ed. Hovewer, I recomend everyone to install Anaconda on your own computer."
   ]
  },
  {
   "cell_type": "markdown",
   "id": "78511c33-2982-44ab-9ce7-b0e557fa3347",
   "metadata": {},
   "source": [
    "## Installing Anaconda\n",
    "Installing Anaconda is a relatively straightforward process. Anaconda is a popular distribution of Python and other tools, which makes it easy for users to work with Python libraries and manage various packages. Below are detailed instructions for installing Anaconda on both Windows and Mac:\n",
    "\n",
    "**Installing Anaconda on Windows:**\n",
    "\n",
    "1. **Download the Installer:**\n",
    "   - Go to the [Anaconda Distribution page](https://www.anaconda.com/products/distribution).\n",
    "   - Click on the \"Download\" button for Windows.\n",
    "   - Select the version for Python 3.11 (recommended).\n",
    "\n",
    "2. **Run the Installer:**\n",
    "   - Locate the downloaded `.exe` file, typically in your \"Downloads\" folder. It will be named something like `Anaconda3-2023.x-Windows-x86_64.exe`.\n",
    "   - Double-click on the `.exe` file to launch the installer.\n",
    "\n",
    "3. **Follow the Installer Prompts:**\n",
    "   - Click \"Next\" on the welcome screen.\n",
    "   - Read and accept the license agreement.\n",
    "   - Choose an install location (default is usually fine, but you can change it if you wish).\n",
    "   - It's generally recommended to check the box \"Add Anaconda to my PATH environment variable\" for beginners, though the installer advises against it. This just makes it easier to run Anaconda from the command prompt.\n",
    "   - Choose \"Install\".\n",
    "\n",
    "4. **Wait for Installation to Complete:**\n",
    "   - The installation may take several minutes. Once it's complete, click \"Next\".\n",
    "\n",
    "5. **Finish Installation:**\n",
    "   - After installation, you'll be presented with some options to learn more about Anaconda or get started with an Anaconda project. You can explore these or simply click “Finish”.\n",
    "\n",
    "6. **Launch Anaconda Navigator:**\n",
    "   - You can find Anaconda Navigator on your desktop or in your installed programs list. Launch it to access various tools and applications like Jupyter Notebook, etc.\n",
    "\n",
    "**Installing Anaconda on macOS:**\n",
    "\n",
    "1. **Download the Installer:**\n",
    "   - Visit the [Anaconda Distribution page](https://www.anaconda.com/products/distribution).\n",
    "   - Click on the \"Download\" button for macOS.\n",
    "   - Select the version for Python 3.11.\n",
    "\n",
    "2. **Run the Installer:**\n",
    "   - Locate the downloaded `.pkg` file in your \"Downloads\" folder.\n",
    "   - Double-click on the `.pkg` file to launch the installer.\n",
    "\n",
    "3. **Follow the Installer Prompts:**\n",
    "   - Click \"Continue\" and follow through the various prompts.\n",
    "   - Accept the license when prompted.\n",
    "   - Choose an install location (default is usually fine).\n",
    "   - Click \"Install\".\n",
    "\n",
    "4. **Wait for Installation to Complete and Finish:**\n",
    "   - After installation, click \"Close\".\n",
    "\n",
    "5. **Launch Anaconda Navigator:**\n",
    "   - Use Spotlight (Cmd + Space) and type \"Anaconda Navigator\", or navigate to the Applications folder and find it there.\n",
    "\n",
    "**Tips for All Installations:**\n",
    "\n",
    "- After installation, it's good practice to check if everything was installed correctly. One way to do this is by launching the Anaconda Prompt (on Windows) or Terminal (on macOS) and typing `conda list`. If you see a list of packages, Anaconda is successfully installed.\n",
    "- Anaconda Navigator is a graphical interface that allows you to launch applications (like Jupyter Notebook) and manage packages/environments. It's beginner-friendly and a good place to start.\n",
    "\n",
    "Remember, it's okay to ask for help or look for additional resources online if you're unsure about any step."
   ]
  },
  {
   "cell_type": "markdown",
   "id": "e8defc07-8801-4889-a12b-b26e0e58a912",
   "metadata": {},
   "source": [
    "## Other related and complementary tools\n",
    "\n",
    "These are available with the Anaconda instalation but will not get much attention in this course:\n",
    "\n",
    "- [IPython](https://ipython.org/) - Command shell for interactive computing\n",
    "- [Spyder](https://www.spyder-ide.org/) -  Integrated Development Environment (IDE) for scientific programming in Python\n",
    "- [JupyterLab](https://jupyterlab.readthedocs.io/) - Web-based user interface for Project Jupyter\n",
    "- [VSCode](https://code.visualstudio.com/) - Code editor with support for Jupyter Notebooks\n",
    "- [PyCharm](https://www.jetbrains.com/pycharm/) - One of the most popular Python IDEs\n",
    "\n",
    "## Modality in the Notebook\n",
    "\n",
    "The Jupyter Notebook has a modal user interface meaning that the keyboard has different functions depending on which mode the Notebook is in. \n",
    "\n",
    "The Jupyter Notebook has two modes:\n",
    "\n",
    "- **Command mode (blue cell border)**\n",
    "    * We can edit the whole notebook, but not type into individual cells\n",
    "- **Edit mode (green cell border)**\n",
    "    * We can type into the cell, like a normal text editor \n",
    "\n",
    "## Different types of cells \n",
    "A Jupyter Notebook can in principle show all types of output that can be displayed in a web browser.\n",
    "\n",
    "- Code cells (for running your code)\n",
    "- Markdown cells (useful for documenting your code with Markdown)\n",
    "- Raw cells (not evaluated by the Notebook)\n",
    "\n",
    "## Running code\n",
    "\n",
    "- Run code by pressing Shift-Enter, or by clicking the \"Play\" on the toolbar, or you can use the drop-down menu Cell and select Run Cells\n",
    "- Python code is being executed one line at a time, and also one cell at a time\n",
    "- In a Python script it is very straight forward to see the order of execution by reading the script from top to bottom\n",
    "- In a Notebook this can be a bit messy if cells are not executed in the correct order since we can run cells in an arbitrary order\n",
    "- There is a function \"Run All Cells\" that will run everything from top to bottom "
   ]
  },
  {
   "cell_type": "markdown",
   "id": "269332c0cd3fe29c",
   "metadata": {},
   "source": [
    "## Code cells and comments"
   ]
  },
  {
   "cell_type": "code",
   "execution_count": 1,
   "id": "2649ed01bddbc322",
   "metadata": {
    "ExecuteTime": {
     "end_time": "2023-08-11T12:50:07.045711Z",
     "start_time": "2023-08-11T12:50:07.038150Z"
    },
    "collapsed": false,
    "jupyter": {
     "outputs_hidden": false
    }
   },
   "outputs": [
    {
     "name": "stdout",
     "output_type": "stream",
     "text": [
      "Hello World.....?\n"
     ]
    }
   ],
   "source": [
    "# This is a code-cell\n",
    "# Everything after the # is a comment and is ignored by Python\n",
    "\n",
    "#Lets run some Python code\n",
    "print('Hello World.....?')"
   ]
  },
  {
   "cell_type": "code",
   "execution_count": 2,
   "id": "b6a8057654bbbea7",
   "metadata": {
    "ExecuteTime": {
     "end_time": "2023-08-11T12:50:07.045970Z",
     "start_time": "2023-08-11T12:50:07.043010Z"
    },
    "collapsed": false,
    "jupyter": {
     "outputs_hidden": false
    }
   },
   "outputs": [
    {
     "data": {
      "text/plain": [
       "' \\nThis is a comment that can extend over several lines.\\nThe comment is ignored by Python, but the Jupyter Notebook prints it out\\n'"
      ]
     },
     "execution_count": 2,
     "metadata": {},
     "output_type": "execute_result"
    }
   ],
   "source": [
    "\"\"\" \n",
    "This is a comment that can extend over several lines.\n",
    "The comment is ignored by Python, but the Jupyter Notebook prints it out\n",
    "\"\"\""
   ]
  },
  {
   "cell_type": "code",
   "execution_count": 3,
   "id": "166713cbb92875c",
   "metadata": {
    "ExecuteTime": {
     "end_time": "2023-08-11T12:50:07.047764Z",
     "start_time": "2023-08-11T12:50:07.045645Z"
    },
    "collapsed": false,
    "jupyter": {
     "outputs_hidden": false
    }
   },
   "outputs": [
    {
     "name": "stdout",
     "output_type": "stream",
     "text": [
      "Hello world!\n",
      "36\n"
     ]
    }
   ],
   "source": [
    "%run files/hello_world.py"
   ]
  },
  {
   "cell_type": "markdown",
   "id": "b823aa0329f96c9",
   "metadata": {},
   "source": [
    "# This is a level 1 heading\n",
    "\n",
    "### This is a level 3 heading\n",
    "\n",
    "Add emphasis **bold** and __bold__, or *italic* and _italic_. \n",
    "\n",
    "* Sometimes we want to include lists. \n",
    "* Which can be bulleted using asterisks. \n",
    "\n",
    "[It is possible to include hyperlinks](https://www.example.com)\n",
    "\n",
    "We can also include equations:\n",
    "$$ \\hat{\\beta} = \\frac{\\sum_i x_iy_i}{\\sum_i x_i^2}$$"
   ]
  },
  {
   "cell_type": "markdown",
   "id": "28922518d01bf5ca",
   "metadata": {},
   "source": [
    "## Relying on libraries and 3rd party packages \n",
    "\n",
    "* Pure Python can help us solve many problems but often we will need some additional and more advances functionality\n",
    "* The Standard Python library gives us additional functionality, and is included when we install the basic python interpreter e.g.,\n",
    "    - **[math](https://docs.python.org/3/library/math.html)** - Mathematical functions like `sqrt`, `log` and `sin` \n",
    "    - **[re](https://docs.python.org/3/library/re.html)** - Regular expression matching for working with text\n",
    "    - **[os](https://docs.python.org/3/library/os.html)** - Operating system dependent functionality\n",
    "    - **[sqlite3](https://docs.python.org/3/library/sqlite3.html)** - A lightweight disk-based SQL database\n",
    "        \n",
    "## We will use some powerful third party libraries \n",
    "If the functionality we need is not in the Standard library we can rely on 3rd party libraries.\n",
    " \n",
    "- **[Numpy](https://numpy.org/)** - Numerical computing and linear algebra\n",
    "- **[Pandas](https://pandas.pydata.org/)** - Excel like functionality with data frames\n",
    "- **[Matplotlib](https://matplotlib.org/)** - Plotting and graphics\n",
    "- **[Seaborn](https://seaborn.pydata.org/)** - Plotting and graphics"
   ]
  },
  {
   "cell_type": "markdown",
   "id": "3d141492fa6062b3",
   "metadata": {},
   "source": [
    "# 3. Examples of what we can do with Python"
   ]
  },
  {
   "cell_type": "code",
   "execution_count": 4,
   "id": "cc2fca2b3baf68a4",
   "metadata": {
    "ExecuteTime": {
     "end_time": "2023-08-11T12:50:07.050491Z",
     "start_time": "2023-08-11T12:50:07.048822Z"
    },
    "collapsed": false,
    "jupyter": {
     "outputs_hidden": false
    }
   },
   "outputs": [
    {
     "data": {
      "text/plain": [
       "4.0"
      ]
     },
     "execution_count": 4,
     "metadata": {},
     "output_type": "execute_result"
    }
   ],
   "source": [
    "# Taking the square root of a number\n",
    "import math\n",
    "math.sqrt(16)"
   ]
  },
  {
   "cell_type": "code",
   "execution_count": 5,
   "id": "3b1e2555c4c70412",
   "metadata": {
    "ExecuteTime": {
     "end_time": "2023-08-11T12:50:07.115504Z",
     "start_time": "2023-08-11T12:50:07.052796Z"
    },
    "collapsed": false,
    "jupyter": {
     "outputs_hidden": false
    }
   },
   "outputs": [
    {
     "data": {
      "text/plain": [
       "['in', 'in', 'in', 'in']"
      ]
     },
     "execution_count": 5,
     "metadata": {},
     "output_type": "execute_result"
    }
   ],
   "source": [
    "# Search for a specific term in a string\n",
    "import re\n",
    "txt = \"How can we find all instances of the term 'in' in this sentence\"\n",
    "x = re.findall(\"in\", txt)\n",
    "x"
   ]
  },
  {
   "cell_type": "code",
   "execution_count": 6,
   "id": "a189175525a2e67d",
   "metadata": {
    "ExecuteTime": {
     "end_time": "2023-08-11T12:50:07.116193Z",
     "start_time": "2023-08-11T12:50:07.055819Z"
    },
    "collapsed": false,
    "jupyter": {
     "outputs_hidden": false
    }
   },
   "outputs": [
    {
     "data": {
      "text/plain": [
       "'posix'"
      ]
     },
     "execution_count": 6,
     "metadata": {},
     "output_type": "execute_result"
    }
   ],
   "source": [
    "# Interact with the operating sytem\n",
    "import os\n",
    "\n",
    "os.name # windows will return 'nt' while  mac and linux will return 'posix'"
   ]
  },
  {
   "cell_type": "code",
   "execution_count": 7,
   "id": "fe807417cea86453",
   "metadata": {
    "ExecuteTime": {
     "end_time": "2023-08-11T12:50:07.116287Z",
     "start_time": "2023-08-11T12:50:07.058782Z"
    },
    "collapsed": false,
    "jupyter": {
     "outputs_hidden": false
    }
   },
   "outputs": [],
   "source": [
    "import sqlite3\n",
    "con = sqlite3.connect('example.db')"
   ]
  },
  {
   "cell_type": "markdown",
   "id": "24fb178977ea2fab",
   "metadata": {},
   "source": [
    "## Numpy example"
   ]
  },
  {
   "cell_type": "code",
   "execution_count": 8,
   "id": "71e47a5630390509",
   "metadata": {
    "ExecuteTime": {
     "end_time": "2023-08-11T12:50:07.248624Z",
     "start_time": "2023-08-11T12:50:07.060929Z"
    },
    "collapsed": false,
    "jupyter": {
     "outputs_hidden": false
    }
   },
   "outputs": [],
   "source": [
    "# Creating an array of numbers and calculating the mean of those numbers\n",
    "\n",
    "# The as np portion of the code tells Python to give NumPy the alias of np. \n",
    "# This allows you to use NumPy functions by simply typing np. \n",
    "# The alias does not need to be np, but this is commonly used \n",
    "import numpy as np"
   ]
  },
  {
   "cell_type": "code",
   "execution_count": 9,
   "id": "35f7c1d915babef6",
   "metadata": {
    "ExecuteTime": {
     "end_time": "2023-08-11T12:50:07.322281Z",
     "start_time": "2023-08-11T12:50:07.133360Z"
    },
    "collapsed": false,
    "jupyter": {
     "outputs_hidden": false
    }
   },
   "outputs": [
    {
     "data": {
      "text/plain": [
       "3.0"
      ]
     },
     "execution_count": 9,
     "metadata": {},
     "output_type": "execute_result"
    }
   ],
   "source": [
    "a = np.array([2, 3, 4])\n",
    "a.mean()"
   ]
  },
  {
   "cell_type": "markdown",
   "id": "573e3c09f398f6b7",
   "metadata": {},
   "source": [
    "## Pandas example"
   ]
  },
  {
   "cell_type": "code",
   "execution_count": 10,
   "id": "65159b2770798c72",
   "metadata": {
    "ExecuteTime": {
     "end_time": "2023-08-11T12:50:07.350213Z",
     "start_time": "2023-08-11T12:50:07.144102Z"
    },
    "collapsed": false,
    "jupyter": {
     "outputs_hidden": false
    }
   },
   "outputs": [],
   "source": [
    "# Importing an excel file into Pandas\n",
    "\n",
    "# Pandas is commonly imported as pd\n",
    "import pandas as pd"
   ]
  },
  {
   "cell_type": "code",
   "execution_count": 11,
   "id": "306c53929228bfbc",
   "metadata": {
    "ExecuteTime": {
     "end_time": "2023-08-11T12:50:07.483205Z",
     "start_time": "2023-08-11T12:50:07.346831Z"
    },
    "collapsed": false,
    "jupyter": {
     "outputs_hidden": false
    }
   },
   "outputs": [],
   "source": [
    "data = pd.read_excel('files/example_sales.xlsx')"
   ]
  },
  {
   "cell_type": "code",
   "execution_count": 12,
   "id": "97e0f07ae36544df",
   "metadata": {
    "ExecuteTime": {
     "end_time": "2023-08-11T12:50:07.513007Z",
     "start_time": "2023-08-11T12:50:07.484293Z"
    },
    "collapsed": false,
    "jupyter": {
     "outputs_hidden": false
    }
   },
   "outputs": [
    {
     "data": {
      "text/html": [
       "<div>\n",
       "<style scoped>\n",
       "    .dataframe tbody tr th:only-of-type {\n",
       "        vertical-align: middle;\n",
       "    }\n",
       "\n",
       "    .dataframe tbody tr th {\n",
       "        vertical-align: top;\n",
       "    }\n",
       "\n",
       "    .dataframe thead th {\n",
       "        text-align: right;\n",
       "    }\n",
       "</style>\n",
       "<table border=\"1\" class=\"dataframe\">\n",
       "  <thead>\n",
       "    <tr style=\"text-align: right;\">\n",
       "      <th></th>\n",
       "      <th>Year</th>\n",
       "      <th>Sales</th>\n",
       "      <th>Best month</th>\n",
       "    </tr>\n",
       "  </thead>\n",
       "  <tbody>\n",
       "    <tr>\n",
       "      <th>0</th>\n",
       "      <td>2016</td>\n",
       "      <td>150000</td>\n",
       "      <td>December</td>\n",
       "    </tr>\n",
       "    <tr>\n",
       "      <th>1</th>\n",
       "      <td>2017</td>\n",
       "      <td>160000</td>\n",
       "      <td>December</td>\n",
       "    </tr>\n",
       "    <tr>\n",
       "      <th>2</th>\n",
       "      <td>2018</td>\n",
       "      <td>159000</td>\n",
       "      <td>August</td>\n",
       "    </tr>\n",
       "    <tr>\n",
       "      <th>3</th>\n",
       "      <td>2019</td>\n",
       "      <td>183000</td>\n",
       "      <td>December</td>\n",
       "    </tr>\n",
       "    <tr>\n",
       "      <th>4</th>\n",
       "      <td>2020</td>\n",
       "      <td>160000</td>\n",
       "      <td>November</td>\n",
       "    </tr>\n",
       "    <tr>\n",
       "      <th>5</th>\n",
       "      <td>2021</td>\n",
       "      <td>181000</td>\n",
       "      <td>November</td>\n",
       "    </tr>\n",
       "    <tr>\n",
       "      <th>6</th>\n",
       "      <td>2022</td>\n",
       "      <td>201000</td>\n",
       "      <td>December</td>\n",
       "    </tr>\n",
       "  </tbody>\n",
       "</table>\n",
       "</div>"
      ],
      "text/plain": [
       "   Year   Sales Best month\n",
       "0  2016  150000   December\n",
       "1  2017  160000   December\n",
       "2  2018  159000     August\n",
       "3  2019  183000   December\n",
       "4  2020  160000   November\n",
       "5  2021  181000   November\n",
       "6  2022  201000   December"
      ]
     },
     "execution_count": 12,
     "metadata": {},
     "output_type": "execute_result"
    }
   ],
   "source": [
    "data"
   ]
  },
  {
   "cell_type": "markdown",
   "id": "f005a8ae2698a5e1",
   "metadata": {},
   "source": [
    "## Matplotlib example"
   ]
  },
  {
   "cell_type": "code",
   "execution_count": 13,
   "id": "c7cff82f8e5203fe",
   "metadata": {
    "ExecuteTime": {
     "end_time": "2023-08-11T12:50:07.687340Z",
     "start_time": "2023-08-11T12:50:07.489176Z"
    },
    "collapsed": false,
    "jupyter": {
     "outputs_hidden": false
    }
   },
   "outputs": [],
   "source": [
    "# Let's  plot the sales data imported by Pandas with Matplotlib \n",
    "import matplotlib.pyplot as plt # Matplotlib is commonly imported as plt"
   ]
  },
  {
   "cell_type": "code",
   "execution_count": 15,
   "id": "126bac3f3cdfb225",
   "metadata": {
    "ExecuteTime": {
     "end_time": "2023-08-11T12:50:07.752581Z",
     "start_time": "2023-08-11T12:50:07.689843Z"
    },
    "collapsed": false,
    "jupyter": {
     "outputs_hidden": false
    }
   },
   "outputs": [
    {
     "data": {
      "image/png": "[encoded data removed]",
      "text/plain": [
       "<Figure size 640x480 with 1 Axes>"
      ]
     },
     "metadata": {},
     "output_type": "display_data"
    }
   ],
   "source": [
    "plt.plot(data['Year'], data['Sales'], linestyle='--', lw=5, color='orange')\n",
    "plt.show() # We plot the year on the x-axis and the sales data on the y-axis"
   ]
  },
  {
   "cell_type": "markdown",
   "id": "362442ec52a59760",
   "metadata": {},
   "source": [
    "## Other usefull 3rd party libraries not covered in this course\n",
    "- **[SciPy](https://scipy.org/)** -  Scientific and technical computing\n",
    "- **[Scikit-Learn](https://scikit-learn.org/)** - Machine learning with various classification, regression and clustering algorithms\n",
    "- **[NLTK](https://www.nltk.org/)** - Programs to work with human language data \n",
    "- **[BeautifulSoup](https://beautiful-soup-4.readthedocs.io/en/latest/)** - Popular library for web crawling and data scraping\n",
    "- **[TensorFlow](https://www.tensorflow.org/)** - Deep learning\n",
    "- **[Numba](https://numba.pydata.org/)** and **[Cython](https://cython.org/)** - Translates Python code into fast machine code"
   ]
  }
 ],
 "metadata": {
  "kernelspec": {
   "display_name": "Python 3 (ipykernel)",
   "language": "python",
   "name": "python3"
  },
  "language_info": {
   "codemirror_mode": {
    "name": "ipython",
    "version": 3
   },
   "file_extension": ".py",
   "mimetype": "text/x-python",
   "name": "python",
   "nbconvert_exporter": "python",
   "pygments_lexer": "ipython3",
   "version": "3.10.8"
  }
 },
 "nbformat": 4,
 "nbformat_minor": 5
}
