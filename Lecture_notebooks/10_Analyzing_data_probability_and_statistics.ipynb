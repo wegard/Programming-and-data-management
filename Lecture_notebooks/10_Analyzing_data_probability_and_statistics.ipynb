{
 "cells": [
  {
   "cell_type": "markdown",
   "id": "b5261d18-198d-4829-95f3-bdaeb2bacaa6",
   "metadata": {},
   "source": [
    "# Analyzing data, probability and statistics\n",
    "\n",
    "## Course: Programming and Data Management (EDI 3400)\n",
    "\n",
    "### *Vegard H. Larsen (Department of Data Science and Analytics)*"
   ]
  },
  {
   "cell_type": "code",
   "execution_count": null,
   "id": "b44fcc5c-a0be-427f-932d-a9c873504811",
   "metadata": {},
   "outputs": [],
   "source": []
  }
 ],
 "metadata": {
  "kernelspec": {
   "display_name": "Python 3 (ipykernel)",
   "language": "python",
   "name": "python3"
  },
  "language_info": {
   "codemirror_mode": {
    "name": "ipython",
    "version": 3
   },
   "file_extension": ".py",
   "mimetype": "text/x-python",
   "name": "python",
   "nbconvert_exporter": "python",
   "pygments_lexer": "ipython3",
   "version": "3.11.4"
  }
 },
 "nbformat": 4,
 "nbformat_minor": 5
}
