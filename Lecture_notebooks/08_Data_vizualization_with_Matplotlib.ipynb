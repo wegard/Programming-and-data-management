{
 "cells": [
  {
   "cell_type": "markdown",
   "id": "3a4a5de7",
   "metadata": {
    "slideshow": {
     "slide_type": "slide"
    }
   },
   "source": [
    "# Plotting with Matplotlib\n",
    "\n",
    "## Programming and Data Management (EDI 3400)\n",
    "\n",
    "### *Vegard H. Larsen (Department of Data Science and Analytics)*"
   ]
  },
  {
   "cell_type": "markdown",
   "id": "9329e315-77ff-4770-9a16-e7d0363adae7",
   "metadata": {},
   "source": [
    "## Imperative vs. declarative ploting\n",
    "\n",
    "### Imperative Plotting (we will focus on this):\n",
    "**How it Works:** You explicitly instruct the computer step-by-step on how to create the plot. Essentially, you're giving a series of commands to produce the desired visualization.\n",
    "\n",
    "**Control:** Offers detailed control over the plotting process. You decide how each step of the process is handled.\n",
    "\n",
    "**Common in:** Lower-level plotting libraries like matplotlib in Python.\n",
    "\n",
    "### Declarative Plotting:\n",
    "**How it Works:** You describe what you want the plot to look like, and the library or framework takes care of the details. The focus is on the end result rather than the process to get there.\n",
    "\n",
    "**Control:** While it abstracts away the detailed steps, it can be more intuitive and quicker for common tasks. Some customization might be less straightforward compared to the imperative approach.\n",
    "\n",
    "**Common in:** Higher-level plotting libraries/frameworks like Altair."
   ]
  },
  {
   "cell_type": "markdown",
   "id": "11c1ea85",
   "metadata": {
    "slideshow": {
     "slide_type": "slide"
    }
   },
   "source": [
    "# 1. Introducing Matplotlib\n",
    "\n",
    "Matplotlib is a visualization library in Python, empowering users to create a vast array of plots and graphs to visually represent data. From simple line graphs and scatter plots to intricate histograms and 3D visualizations, Matplotlib offers tools to depict data in insightful ways. Matplotlib serves as the gateway to data visualization, a crucial skill in today's data-driven world. By translating numerical information into visual forms, you can uncover patterns, grasp complex concepts, and communicate findings more effectively. Through Matplotlib, you can transform raw data into compelling stories, enhancing both their analytical and presentation prowess."
   ]
  },
  {
   "cell_type": "markdown",
   "id": "58dd25ef",
   "metadata": {
    "slideshow": {
     "slide_type": "slide"
    }
   },
   "source": [
    "## What is Matplotlib?\n",
    "\n",
    "- The most popular Python library for visualizing and plotting data\n",
    "- Integrates very well with NumPy and Pandas\n",
    "- Can create publication quality plots\n",
    "- Large scope for customization"
   ]
  },
  {
   "cell_type": "code",
   "execution_count": null,
   "id": "9a551cf7",
   "metadata": {
    "slideshow": {
     "slide_type": "slide"
    }
   },
   "outputs": [],
   "source": [
    "## Importing Matplotlib\n",
    "\n",
    "import matplotlib.pyplot as plt"
   ]
  },
  {
   "cell_type": "markdown",
   "id": "baa377b5",
   "metadata": {
    "slideshow": {
     "slide_type": "slide"
    }
   },
   "source": [
    "## Let´s create a simple plot"
   ]
  },
  {
   "cell_type": "code",
   "execution_count": null,
   "id": "f337512d",
   "metadata": {
    "slideshow": {
     "slide_type": "-"
    }
   },
   "outputs": [],
   "source": [
    "## Let's create some data\n",
    "\n",
    "import numpy as np\n",
    "\n",
    "age = np.arange(5, 20, 1)\n",
    "height = np.arange(110,170, 4)\n",
    "print(age)\n",
    "print(height)"
   ]
  },
  {
   "cell_type": "code",
   "execution_count": null,
   "id": "268f0c14",
   "metadata": {
    "slideshow": {
     "slide_type": "slide"
    }
   },
   "outputs": [],
   "source": [
    "plt.plot(age, height)\n",
    "plt.show()"
   ]
  },
  {
   "cell_type": "markdown",
   "id": "a5d14b4a",
   "metadata": {
    "slideshow": {
     "slide_type": "slide"
    }
   },
   "source": [
    "# 2. Introducing Seaborn\n",
    "\n",
    "Seaborn stands as a sophisticated visualization library built on top of Matplotlib, designed to create visually appealing and informative statistical graphics with ease. While Matplotlib excels in offering a granular control over plot elements, Seaborn simplifies complex visualization tasks with its high-level, data-centric interfaces. It comes with several built-in themes and color palettes to enhance the aesthetic appeal of plots, making them publication-ready. Seaborn offers a harmonious blend of simplicity and capability, enabling insightful visualizations without delving deep into customization details, thereby making the journey from raw data to insightful plots both efficient and enjoyable.\n",
    "\n",
    "- Seaborn is a library for making statistical graphics in Python\n",
    "- It builds on matplotlib and integrates nicely with Pandas\n",
    "- Can be a faster way to get good-looking plots than relying on Matplotlib only\n",
    "- Plotting can be used to understand the data better. When you get a new data set, always try to visualize it\n",
    "- Seaborn is a library that lies in between imperative and declarative plotting"
   ]
  },
  {
   "cell_type": "code",
   "execution_count": null,
   "id": "0eca1a47",
   "metadata": {
    "slideshow": {
     "slide_type": "slide"
    }
   },
   "outputs": [],
   "source": [
    "# Importing seaborn \n",
    "\n",
    "import seaborn as sns"
   ]
  },
  {
   "cell_type": "code",
   "execution_count": null,
   "id": "f20b615d",
   "metadata": {
    "slideshow": {
     "slide_type": "fragment"
    }
   },
   "outputs": [],
   "source": [
    "# Load an example data set for Seaborn (a Pandas DataFrame)\n",
    "\n",
    "tips = sns.load_dataset(\"tips\")\n",
    "\n",
    "# Using .sample() is a good way of inspecting the DataFrame\n",
    "tips.sample(5)"
   ]
  },
  {
   "cell_type": "code",
   "execution_count": null,
   "id": "551eabd3",
   "metadata": {
    "slideshow": {
     "slide_type": "fragment"
    }
   },
   "outputs": [],
   "source": [
    "set(tips['size'])"
   ]
  },
  {
   "cell_type": "markdown",
   "id": "504a108d-c2d8-4a30-9329-281a9787ecf6",
   "metadata": {},
   "source": [
    "## Can create very rich plots with very little code"
   ]
  },
  {
   "cell_type": "code",
   "execution_count": null,
   "id": "803d285d-7241-48d4-aee6-75ae433f5c78",
   "metadata": {},
   "outputs": [],
   "source": [
    "# Create a visualization\n",
    "\n",
    "sns.violinplot(data=tips, x=\"day\", y=\"tip\")\n",
    "plt.show()"
   ]
  },
  {
   "cell_type": "markdown",
   "id": "6d6b8628-603d-4995-92dd-95b2fc78fa97",
   "metadata": {},
   "source": [
    "# Altair example\n",
    "\n",
    "Altair is a declarative statistical visualization library for Python. It's built on a solid foundation of theorems about visualization and leverages the power of the Vega and Vega-Lite visualization grammars. With Altair, users specify what they want the visualization to represent in terms of data relationships, rather than specifying the intricate details of the rendering process. This provides a concise and consistent interface for creating a wide range of visualizations with minimal code."
   ]
  },
  {
   "cell_type": "code",
   "execution_count": null,
   "id": "5c851ebf-7102-4085-9e2f-0b3053ae1f65",
   "metadata": {},
   "outputs": [],
   "source": [
    "import altair as alt\n",
    "import seaborn as sns\n",
    "\n",
    "# Load the tips dataset from Seaborn\n",
    "tips = sns.load_dataset(\"tips\")\n",
    "\n",
    "# Create a scatter plot\n",
    "chart = alt.Chart(tips).mark_circle(size=60).encode(\n",
    "    x='total_bill:Q',\n",
    "    y='tip:Q',\n",
    "    color='sex:N',\n",
    "    tooltip=['total_bill:Q', 'tip:Q', 'sex:N']\n",
    ").properties(\n",
    "    title=\"Relationship between Total Bill and Tip\",\n",
    "    width=500,\n",
    "    height=400\n",
    ")\n",
    "\n",
    "chart.display()"
   ]
  },
  {
   "cell_type": "markdown",
   "id": "6ad48c27",
   "metadata": {
    "slideshow": {
     "slide_type": "slide"
    }
   },
   "source": [
    "# 3. Different types of plots"
   ]
  },
  {
   "cell_type": "markdown",
   "id": "5d8ba50e",
   "metadata": {
    "slideshow": {
     "slide_type": "slide"
    }
   },
   "source": [
    "## Line plots"
   ]
  },
  {
   "cell_type": "code",
   "execution_count": null,
   "id": "bde7ab51",
   "metadata": {},
   "outputs": [],
   "source": [
    "## Let's create some data\n",
    "\n",
    "import numpy as np\n",
    "\n",
    "age = np.arange(5, 20, 1)\n",
    "hight = np.arange(110,170, 4)\n",
    "print(age)\n",
    "print(hight)"
   ]
  },
  {
   "cell_type": "code",
   "execution_count": null,
   "id": "2bc5ffcc",
   "metadata": {
    "slideshow": {
     "slide_type": "slide"
    }
   },
   "outputs": [],
   "source": [
    "import matplotlib.pyplot as plt\n",
    "\n",
    "plt.figure(figsize=(12,2))\n",
    "plt.plot(age, height)\n",
    "plt.show()"
   ]
  },
  {
   "cell_type": "markdown",
   "id": "ad63b590",
   "metadata": {
    "slideshow": {
     "slide_type": "slide"
    }
   },
   "source": [
    "## Let's improve this plot"
   ]
  },
  {
   "cell_type": "code",
   "execution_count": null,
   "id": "88b47500",
   "metadata": {
    "slideshow": {
     "slide_type": "fragment"
    }
   },
   "outputs": [],
   "source": [
    "plt.figure(figsize=(8,3))\n",
    "plt.title('Height is increasing with age', fontsize=18)\n",
    "plt.plot(age, height, linestyle='-', lw=10, color='orange', label='Height by age')\n",
    "plt.xlabel('Age', fontsize=14)\n",
    "plt.ylabel('Hight',  fontsize=12)\n",
    "plt.legend()\n",
    "plt.show()"
   ]
  },
  {
   "cell_type": "markdown",
   "id": "381b69dd",
   "metadata": {
    "slideshow": {
     "slide_type": "slide"
    }
   },
   "source": [
    "## Use markers instead of a line"
   ]
  },
  {
   "cell_type": "code",
   "execution_count": null,
   "id": "a4ac8c87",
   "metadata": {},
   "outputs": [],
   "source": [
    "plt.figure(figsize=(6,4))\n",
    "plt.plot(age, height, 'o', lw=10)\n",
    "\n",
    "# We can also set what values to include on the axis\n",
    "plt.xlim(age.min()-1, age.max()+1)\n",
    "plt.ylim(height.min()-10, height.max()+10)\n",
    "plt.grid()"
   ]
  },
  {
   "cell_type": "markdown",
   "id": "716c4160",
   "metadata": {
    "slideshow": {
     "slide_type": "slide"
    }
   },
   "source": [
    "## Use two $y$-axis in the same plot "
   ]
  },
  {
   "cell_type": "code",
   "execution_count": null,
   "id": "833de964",
   "metadata": {},
   "outputs": [],
   "source": [
    "# Load the tips data set again\n",
    "\n",
    "tips = sns.load_dataset(\"tips\")\n",
    "tips.head()"
   ]
  },
  {
   "cell_type": "code",
   "execution_count": null,
   "id": "bfe1d0d0",
   "metadata": {
    "slideshow": {
     "slide_type": "slide"
    }
   },
   "outputs": [],
   "source": [
    "# Group the data by the size of the dinner\n",
    "\n",
    "tips_by_size = tips.groupby('size')[['total_bill', 'tip']].mean()\n",
    "tips_by_size"
   ]
  },
  {
   "cell_type": "code",
   "execution_count": null,
   "id": "ff43296d",
   "metadata": {
    "slideshow": {
     "slide_type": "slide"
    }
   },
   "outputs": [],
   "source": [
    "# Plot the total bill and the tip on the same axis \n",
    "\n",
    "tips_by_size.plot(figsize=(8,3))"
   ]
  },
  {
   "cell_type": "code",
   "execution_count": null,
   "id": "0edb31a8",
   "metadata": {
    "slideshow": {
     "slide_type": "slide"
    }
   },
   "outputs": [],
   "source": [
    "# Let's plot the total_bil and the tip on a different y-axis\n",
    "\n",
    "fig, ax = plt.subplots(figsize=(8,3))\n",
    "\n",
    "ax2 = ax.twinx()\n",
    "ax2.grid(False)\n",
    "\n",
    "p1, = ax.plot(tips_by_size.index, tips_by_size['total_bill'],\n",
    "              lw=3, color='forestgreen', label='Total bill')\n",
    "p2, = ax2.plot(tips_by_size.index, tips_by_size['tip'],\n",
    "               lw=3, linestyle='--', label='Tip (right axis)')\n",
    "ax.legend(handles=[p1, p2])\n",
    "#ax.legend()\n",
    "#ax2.legend()\n",
    "plt.show()"
   ]
  },
  {
   "cell_type": "code",
   "execution_count": null,
   "id": "fe4a407f",
   "metadata": {
    "slideshow": {
     "slide_type": "slide"
    }
   },
   "outputs": [],
   "source": [
    "# This is also possible with Pandas\n",
    "\n",
    "tips_by_size['total_bill'].plot(figsize=(8,3), label='Total bill', lw=2, legend=True)\n",
    "tips_by_size['tip'].plot(secondary_y=True, label='Tip', lw=2, legend=True)"
   ]
  },
  {
   "cell_type": "markdown",
   "id": "32aa5c1c",
   "metadata": {
    "slideshow": {
     "slide_type": "slide"
    }
   },
   "source": [
    "## Scatter plots"
   ]
  },
  {
   "cell_type": "code",
   "execution_count": null,
   "id": "4ff967df",
   "metadata": {},
   "outputs": [],
   "source": [
    "plt.figure(figsize=(5,4))\n",
    "plt.scatter(tips['total_bill'], tips['tip'], color='darkred', s=50, marker='^')\n",
    "plt.xlabel('Value of total bill')\n",
    "plt.ylabel('Value of tip')\n",
    "plt.title('Total bill and tip')\n",
    "plt.show()"
   ]
  },
  {
   "cell_type": "markdown",
   "id": "22707426",
   "metadata": {
    "slideshow": {
     "slide_type": "slide"
    }
   },
   "source": [
    "## Bar plots"
   ]
  },
  {
   "cell_type": "code",
   "execution_count": null,
   "id": "9b245654",
   "metadata": {},
   "outputs": [],
   "source": [
    "tip_by_day = tips.groupby('day')['tip'].mean()\n",
    "tip_by_day"
   ]
  },
  {
   "cell_type": "code",
   "execution_count": null,
   "id": "d4069502",
   "metadata": {
    "slideshow": {
     "slide_type": "slide"
    }
   },
   "outputs": [],
   "source": [
    "plt.figure(figsize=(5,3))\n",
    "plt.title('Tip by day')\n",
    "plt.bar(tip_by_day.index, tip_by_day)\n",
    "plt.xlabel('Day of the week')\n",
    "plt.ylabel('Average tip')\n",
    "plt.show()"
   ]
  },
  {
   "cell_type": "markdown",
   "id": "8b3299a6",
   "metadata": {
    "slideshow": {
     "slide_type": "slide"
    }
   },
   "source": [
    "## Saving the figure "
   ]
  },
  {
   "cell_type": "code",
   "execution_count": null,
   "id": "77568070",
   "metadata": {},
   "outputs": [],
   "source": [
    "plt.figure(figsize=(5,3))\n",
    "plt.title('Tip by day')\n",
    "plt.bar(tip_by_day.index, tip_by_day)\n",
    "plt.xlabel('Day of the week')\n",
    "plt.ylabel('Average tip')\n",
    "plt.savefig('barPlotExample.png')\n",
    "plt.show()"
   ]
  },
  {
   "cell_type": "markdown",
   "id": "cfc7debf",
   "metadata": {},
   "source": [
    "# Linear equations\n",
    "\n",
    "Let's consider two linear equations:\n",
    "\n",
    "1) $ y = 2x + 1 $\n",
    "2) $ y = -x + 5 $"
   ]
  },
  {
   "cell_type": "markdown",
   "id": "61a527a0",
   "metadata": {},
   "source": [
    "The `np.linalg.solve` function is used to solve linear matrix equations, or more precisely, to solve a linear matrix equation $Ax = b$. When given a square 2D array (matrix) $A$ and a 1D array (vector) $b$, it returns the solution to the equation in terms of $x$.\n",
    "\n",
    "To represent the system of equations as a matrix equation $Ax = b$, you'll first have to convert the system of equations into matrix form.\n",
    "\n",
    "Given our two equations:\n",
    "\n",
    "1) $y = 2x + 1$\n",
    "2) $y = -x + 5$\n",
    "\n",
    "We can rearrange the terms to get:\n",
    "1) $-2x + y = 1$\n",
    "2) $x + y = 5$\n",
    "\n",
    "The matrix $A$ and vector $b$ for our system is:\n",
    "\n",
    "$$ A = \\begin{bmatrix} -2 & 1 \\\\ 1 & 1 \\end{bmatrix} $$\n",
    "$$ b = \\begin{bmatrix} 1 \\\\ 5 \\end{bmatrix} $$\n",
    "\n",
    "Now we can solve for $x$ (which will contain both $x$ and $y$ values):"
   ]
  },
  {
   "cell_type": "code",
   "execution_count": null,
   "id": "3552fcca",
   "metadata": {},
   "outputs": [],
   "source": [
    "import numpy as np\n",
    "\n",
    "# Define the coefficient matrix A and vector b\n",
    "A = np.array([[-2, 1], [1, 1]])\n",
    "b = np.array([1, 5])\n",
    "\n",
    "# Solve for x using np.linalg.solve\n",
    "x = np.linalg.solve(A, b)\n",
    "\n",
    "print(f\"The solution is x = {x[0]} and y = {x[1]}\")"
   ]
  },
  {
   "cell_type": "markdown",
   "id": "dae2f3b4",
   "metadata": {},
   "source": [
    "We'll plot both lines and then determine their intersection point. The intersection point is the solution to the system of equations.\n",
    "\n",
    "Here's how you can do it using `matplotlib` and `numpy`:"
   ]
  },
  {
   "cell_type": "code",
   "execution_count": null,
   "id": "6ed0f248",
   "metadata": {},
   "outputs": [],
   "source": [
    "import numpy as np\n",
    "import matplotlib.pyplot as plt\n",
    "\n",
    "# Define the functions\n",
    "def f1(x):\n",
    "    return 2*x + 1\n",
    "\n",
    "def f2(x):\n",
    "    return -x + 5\n",
    "\n",
    "# Generate x values\n",
    "x = np.linspace(-2, 4, 400)\n",
    "\n",
    "# Calculate y values\n",
    "y1 = f1(x)\n",
    "y2 = f2(x)\n",
    "\n",
    "# Plotting both functions\n",
    "plt.plot(x, y1, '-r', label='y=2x+1')\n",
    "plt.plot(x, y2, '-b', label='y=-x+5')\n",
    "plt.title('Intersection of two linear equations')\n",
    "plt.xlabel('x', color='#1C2833')\n",
    "plt.ylabel('y', color='#1C2833')\n",
    "plt.axhline(0, color='black',linewidth=0.5)\n",
    "plt.axvline(0, color='black',linewidth=0.5)\n",
    "plt.grid(color = 'gray', linestyle = '--', linewidth = 0.5)\n",
    "\n",
    "# Finding the intersection point using numpy\n",
    "intersection_x = np.linalg.solve([[2, -1], [-1, -1]], [-1, -5])\n",
    "plt.plot(intersection_x[0], intersection_x[1], 'go')  # intersection point\n",
    "\n",
    "plt.legend(loc='upper left')\n",
    "plt.show()"
   ]
  },
  {
   "cell_type": "markdown",
   "id": "b6f2430b-3f2c-4699-a83d-306eafead38b",
   "metadata": {},
   "source": [
    "# Interactive ploting"
   ]
  },
  {
   "cell_type": "code",
   "execution_count": null,
   "id": "be94128c",
   "metadata": {},
   "outputs": [],
   "source": [
    "import numpy as np\n",
    "import seaborn as sns\n",
    "import matplotlib.pyplot as plt\n",
    "from ipywidgets import interact\n",
    "\n",
    "# Load the tips dataset\n",
    "tips = sns.load_dataset('tips')\n",
    "\n",
    "def interactive_scatter_plot(x_col, y_col, color_col):\n",
    "    # Plotting\n",
    "    plt.figure(figsize=(10, 6))\n",
    "    sns.scatterplot(data=tips, x=x_col, y=y_col, hue=color_col)\n",
    "    plt.title(f'Scatter Plot of {y_col} vs {x_col}')\n",
    "    plt.show()\n",
    "\n",
    "# Use ipywidgets interact\n",
    "interact(\n",
    "    interactive_scatter_plot, \n",
    "    x_col=['total_bill', 'tip', 'size'], \n",
    "    y_col=['total_bill', 'tip', 'size'], \n",
    "    color_col=['sex', 'day', 'time', 'smoker']\n",
    ");\n"
   ]
  }
 ],
 "metadata": {
  "celltoolbar": "Slideshow",
  "kernelspec": {
   "display_name": "Python 3 (ipykernel)",
   "language": "python",
   "name": "python3"
  },
  "language_info": {
   "codemirror_mode": {
    "name": "ipython",
    "version": 3
   },
   "file_extension": ".py",
   "mimetype": "text/x-python",
   "name": "python",
   "nbconvert_exporter": "python",
   "pygments_lexer": "ipython3",
   "version": "3.9.12"
  }
 },
 "nbformat": 4,
 "nbformat_minor": 5
}
