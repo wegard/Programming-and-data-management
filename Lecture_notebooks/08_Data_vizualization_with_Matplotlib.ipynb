{
 "cells": [
  {
   "cell_type": "markdown",
   "id": "3a4a5de7",
   "metadata": {
    "slideshow": {
     "slide_type": "slide"
    }
   },
   "source": [
    "# Plotting with Matplotlib\n",
    "\n",
    "## Programming and Data Management (EDI 3400)\n",
    "\n",
    "### *Vegard H. Larsen (Department of Data Science and Analytics)*"
   ]
  },
  {
   "cell_type": "markdown",
   "id": "6b195f20",
   "metadata": {
    "slideshow": {
     "slide_type": "slide"
    }
   },
   "source": [
    "## Plan for today: \n",
    "\n",
    "1. Introducing Matplotlib and Seaborn\n",
    "3. Creating different types of plots \n",
    "4. In class exercises"
   ]
  },
  {
   "cell_type": "markdown",
   "id": "11c1ea85",
   "metadata": {
    "slideshow": {
     "slide_type": "slide"
    }
   },
   "source": [
    "# 1. Introducing Matplotlib\n",
    "\n",
    "Matplotlib is a visualization library in Python, empowering users to create a vast array of plots and graphs to visually represent data. From simple line graphs and scatter plots to intricate histograms and 3D visualizations, Matplotlib offers tools to depict data in insightful ways. Matplotlib serves as the gateway to data visualization, a crucial skill in today's data-driven world. By translating numerical information into visual forms, you can uncover patterns, grasp complex concepts, and communicate findings more effectively. Through Matplotlib, you can transform raw data into compelling stories, enhancing both their analytical and presentation prowess."
   ]
  },
  {
   "cell_type": "markdown",
   "id": "58dd25ef",
   "metadata": {
    "slideshow": {
     "slide_type": "slide"
    }
   },
   "source": [
    "## What is Matplotlib?\n",
    "\n",
    "- The most popular Python library for visualizing and plotting data\n",
    "- Integrates very well with NumPy and Pandas\n",
    "- Can create publication quality plots\n",
    "- Large scope for customization"
   ]
  },
  {
   "cell_type": "code",
   "execution_count": null,
   "id": "9a551cf7",
   "metadata": {
    "slideshow": {
     "slide_type": "slide"
    }
   },
   "outputs": [],
   "source": [
    "## Importing Matplotlib\n",
    "\n",
    "import matplotlib.pyplot as plt"
   ]
  },
  {
   "cell_type": "markdown",
   "id": "baa377b5",
   "metadata": {
    "slideshow": {
     "slide_type": "slide"
    }
   },
   "source": [
    "## Let´s create a simple plot"
   ]
  },
  {
   "cell_type": "code",
   "execution_count": null,
   "id": "f337512d",
   "metadata": {
    "slideshow": {
     "slide_type": "-"
    }
   },
   "outputs": [],
   "source": [
    "## Let's create some data\n",
    "\n",
    "import numpy as np\n",
    "\n",
    "age = np.arange(5, 20, 1)\n",
    "height = np.arange(110,170, 4)\n",
    "print(age)\n",
    "print(height)"
   ]
  },
  {
   "cell_type": "code",
   "execution_count": null,
   "id": "268f0c14",
   "metadata": {
    "slideshow": {
     "slide_type": "slide"
    }
   },
   "outputs": [],
   "source": [
    "plt.plot(age, height)\n",
    "plt.show()"
   ]
  },
  {
   "cell_type": "markdown",
   "id": "a5d14b4a",
   "metadata": {
    "slideshow": {
     "slide_type": "slide"
    }
   },
   "source": [
    "# Introducing Seaborn\n",
    "\n",
    "Seaborn stands as a sophisticated visualization library built on top of Matplotlib, designed to create visually appealing and informative statistical graphics with ease. While Matplotlib excels in offering a granular control over plot elements, Seaborn simplifies complex visualization tasks with its high-level, data-centric interfaces. It comes with several built-in themes and color palettes to enhance the aesthetic appeal of plots, making them publication-ready. Seaborn offers a harmonious blend of simplicity and capability, enabling insightful visualizations without delving deep into customization details, thereby making the journey from raw data to insightful plots both efficient and enjoyable.\n",
    "\n",
    "- Seaborn is a library for making statistical graphics in Python\n",
    "- It builds on matplotlib and integrates nicely with Pandas\n",
    "- Can be a faster way to get good-looking plots than relying on Matplotlib only\n",
    "- Plotting can be used to understand the data better. When you get a new data set, always try to visualize it"
   ]
  },
  {
   "cell_type": "code",
   "execution_count": null,
   "id": "0eca1a47",
   "metadata": {
    "slideshow": {
     "slide_type": "slide"
    }
   },
   "outputs": [],
   "source": [
    "# Importing seaborn \n",
    "\n",
    "import seaborn as sns"
   ]
  },
  {
   "cell_type": "code",
   "execution_count": null,
   "id": "f20b615d",
   "metadata": {
    "slideshow": {
     "slide_type": "fragment"
    }
   },
   "outputs": [],
   "source": [
    "# Load an example data set for Seaborn (a Pandas DataFrame)\n",
    "\n",
    "tips = sns.load_dataset(\"tips\")\n",
    "\n",
    "# Using .sample() is a good way of inspecting the DataFrame\n",
    "tips.sample(5)"
   ]
  },
  {
   "cell_type": "code",
   "execution_count": null,
   "id": "551eabd3",
   "metadata": {
    "slideshow": {
     "slide_type": "fragment"
    }
   },
   "outputs": [],
   "source": [
    "set(tips['size'])"
   ]
  },
  {
   "cell_type": "markdown",
   "id": "dd442410",
   "metadata": {
    "slideshow": {
     "slide_type": "slide"
    }
   },
   "source": [
    "## Can create very rich plots with very little code"
   ]
  },
  {
   "cell_type": "code",
   "execution_count": null,
   "id": "875e3219",
   "metadata": {
    "scrolled": true,
    "slideshow": {
     "slide_type": "-"
    }
   },
   "outputs": [],
   "source": [
    "# Create a visualization\n",
    "\n",
    "sns.violinplot(data=tips, x=\"day\", y=\"tip\")\n",
    "plt.show()"
   ]
  },
  {
   "cell_type": "markdown",
   "id": "6ad48c27",
   "metadata": {
    "slideshow": {
     "slide_type": "slide"
    }
   },
   "source": [
    "# 2. Different types of plots"
   ]
  },
  {
   "cell_type": "markdown",
   "id": "5d8ba50e",
   "metadata": {
    "slideshow": {
     "slide_type": "slide"
    }
   },
   "source": [
    "## Line plots"
   ]
  },
  {
   "cell_type": "code",
   "execution_count": null,
   "id": "bde7ab51",
   "metadata": {},
   "outputs": [],
   "source": [
    "## Let's create some data\n",
    "\n",
    "import numpy as np\n",
    "\n",
    "age = np.arange(5, 20, 1)\n",
    "hight = np.arange(110,170, 4)\n",
    "print(age)\n",
    "print(hight)"
   ]
  },
  {
   "cell_type": "code",
   "execution_count": null,
   "id": "2bc5ffcc",
   "metadata": {
    "slideshow": {
     "slide_type": "slide"
    }
   },
   "outputs": [],
   "source": [
    "import matplotlib.pyplot as plt\n",
    "\n",
    "plt.figure(figsize=(12,2))\n",
    "plt.plot(age, height)\n",
    "plt.show()"
   ]
  },
  {
   "cell_type": "markdown",
   "id": "ad63b590",
   "metadata": {
    "slideshow": {
     "slide_type": "slide"
    }
   },
   "source": [
    "## Let's improve this plot"
   ]
  },
  {
   "cell_type": "code",
   "execution_count": null,
   "id": "88b47500",
   "metadata": {
    "slideshow": {
     "slide_type": "fragment"
    }
   },
   "outputs": [],
   "source": [
    "plt.figure(figsize=(8,3))\n",
    "plt.title('Height is increasing with age', fontsize=18)\n",
    "plt.plot(age, height, linestyle='-', lw=10, color='orange', label='Height by age')\n",
    "plt.xlabel('Age', fontsize=14)\n",
    "plt.ylabel('Hight',  fontsize=12)\n",
    "plt.legend()\n",
    "plt.show()"
   ]
  },
  {
   "cell_type": "markdown",
   "id": "381b69dd",
   "metadata": {
    "slideshow": {
     "slide_type": "slide"
    }
   },
   "source": [
    "## Use markers instead of a line"
   ]
  },
  {
   "cell_type": "code",
   "execution_count": null,
   "id": "a4ac8c87",
   "metadata": {},
   "outputs": [],
   "source": [
    "plt.figure(figsize=(6,4))\n",
    "plt.plot(age, height, 'o', lw=10)\n",
    "\n",
    "# We can also set what values to include on the axis\n",
    "plt.xlim(age.min()-1, age.max()+1)\n",
    "plt.ylim(height.min()-10, height.max()+10)\n",
    "plt.grid()"
   ]
  },
  {
   "cell_type": "markdown",
   "id": "716c4160",
   "metadata": {
    "slideshow": {
     "slide_type": "slide"
    }
   },
   "source": [
    "## Use two $y$-axis in the same plot "
   ]
  },
  {
   "cell_type": "code",
   "execution_count": null,
   "id": "833de964",
   "metadata": {},
   "outputs": [],
   "source": [
    "# Load the tips data set again\n",
    "\n",
    "tips = sns.load_dataset(\"tips\")\n",
    "tips.head()"
   ]
  },
  {
   "cell_type": "code",
   "execution_count": null,
   "id": "bfe1d0d0",
   "metadata": {
    "slideshow": {
     "slide_type": "slide"
    }
   },
   "outputs": [],
   "source": [
    "# Group the data by the size of the dinner\n",
    "\n",
    "tips_by_size = tips.groupby('size')[['total_bill', 'tip']].mean()\n",
    "tips_by_size"
   ]
  },
  {
   "cell_type": "code",
   "execution_count": null,
   "id": "ff43296d",
   "metadata": {
    "slideshow": {
     "slide_type": "slide"
    }
   },
   "outputs": [],
   "source": [
    "# Plot the total bill and the tip on the same axis \n",
    "\n",
    "tips_by_size.plot(figsize=(8,3))"
   ]
  },
  {
   "cell_type": "code",
   "execution_count": null,
   "id": "0edb31a8",
   "metadata": {
    "slideshow": {
     "slide_type": "slide"
    }
   },
   "outputs": [],
   "source": [
    "# Let's plot the total_bil and the tip on a different y-axis\n",
    "\n",
    "fig, ax = plt.subplots(figsize=(8,3))\n",
    "\n",
    "ax2 = ax.twinx()\n",
    "ax2.grid(False)\n",
    "\n",
    "p1, = ax.plot(tips_by_size.index, tips_by_size['total_bill'],\n",
    "              lw=3, color='forestgreen', label='Total bill')\n",
    "p2, = ax2.plot(tips_by_size.index, tips_by_size['tip'],\n",
    "               lw=3, linestyle='--', label='Tip (right axis)')\n",
    "ax.legend(handles=[p1, p2])\n",
    "#ax.legend()\n",
    "#ax2.legend()\n",
    "plt.show()"
   ]
  },
  {
   "cell_type": "code",
   "execution_count": null,
   "id": "fe4a407f",
   "metadata": {
    "slideshow": {
     "slide_type": "slide"
    }
   },
   "outputs": [],
   "source": [
    "# This is also possible with Pandas\n",
    "\n",
    "tips_by_size['total_bill'].plot(figsize=(8,3), label='Total bill', lw=2, legend=True)\n",
    "tips_by_size['tip'].plot(secondary_y=True, label='Tip', lw=2, legend=True)"
   ]
  },
  {
   "cell_type": "markdown",
   "id": "32aa5c1c",
   "metadata": {
    "slideshow": {
     "slide_type": "slide"
    }
   },
   "source": [
    "## Scatter plots"
   ]
  },
  {
   "cell_type": "code",
   "execution_count": null,
   "id": "4ff967df",
   "metadata": {},
   "outputs": [],
   "source": [
    "plt.figure(figsize=(5,4))\n",
    "plt.scatter(tips['total_bill'], tips['tip'], color='darkred', s=50, marker='^')\n",
    "plt.xlabel('Value of total bill')\n",
    "plt.ylabel('Value of tip')\n",
    "plt.title('Total bill and tip')\n",
    "plt.show()"
   ]
  },
  {
   "cell_type": "markdown",
   "id": "22707426",
   "metadata": {
    "slideshow": {
     "slide_type": "slide"
    }
   },
   "source": [
    "## Bar plots"
   ]
  },
  {
   "cell_type": "code",
   "execution_count": null,
   "id": "9b245654",
   "metadata": {},
   "outputs": [],
   "source": [
    "tip_by_day = tips.groupby('day')['tip'].mean()\n",
    "tip_by_day"
   ]
  },
  {
   "cell_type": "code",
   "execution_count": null,
   "id": "d4069502",
   "metadata": {
    "slideshow": {
     "slide_type": "slide"
    }
   },
   "outputs": [],
   "source": [
    "plt.figure(figsize=(5,3))\n",
    "plt.title('Tip by day')\n",
    "plt.bar(tip_by_day.index, tip_by_day)\n",
    "plt.xlabel('Day of the week')\n",
    "plt.ylabel('Average tip')\n",
    "plt.show()"
   ]
  },
  {
   "cell_type": "markdown",
   "id": "8b3299a6",
   "metadata": {
    "slideshow": {
     "slide_type": "slide"
    }
   },
   "source": [
    "## Saving the figure "
   ]
  },
  {
   "cell_type": "code",
   "execution_count": null,
   "id": "77568070",
   "metadata": {},
   "outputs": [],
   "source": [
    "plt.figure(figsize=(5,3))\n",
    "plt.title('Tip by day')\n",
    "plt.bar(tip_by_day.index, tip_by_day)\n",
    "plt.xlabel('Day of the week')\n",
    "plt.ylabel('Average tip')\n",
    "plt.savefig('barPlotExample.png')\n",
    "plt.show()"
   ]
  },
  {
   "cell_type": "code",
   "execution_count": null,
   "id": "cfc7debf",
   "metadata": {},
   "outputs": [],
   "source": [
    "ls"
   ]
  }
 ],
 "metadata": {
  "celltoolbar": "Slideshow",
  "kernelspec": {
   "display_name": "Python 3 (ipykernel)",
   "language": "python",
   "name": "python3"
  },
  "language_info": {
   "codemirror_mode": {
    "name": "ipython",
    "version": 3
   },
   "file_extension": ".py",
   "mimetype": "text/x-python",
   "name": "python",
   "nbconvert_exporter": "python",
   "pygments_lexer": "ipython3",
   "version": "3.10.8"
  }
 },
 "nbformat": 4,
 "nbformat_minor": 5
}
