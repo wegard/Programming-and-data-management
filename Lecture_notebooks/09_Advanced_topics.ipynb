{
 "cells": [
  {
   "cell_type": "markdown",
   "id": "5b8b5c9c-c7d5-45b1-ad5a-9be55a3fc28c",
   "metadata": {},
   "source": [
    "# Advanced topics\n",
    "\n",
    "## Course: Programming and Data Management (EDI 3400)\n",
    "\n",
    "### *Vegard H. Larsen (Department of Data Science and Analytics)*"
   ]
  },
  {
   "cell_type": "markdown",
   "id": "ddb977e1-e725-402b-9fa0-9cb37bfb8b94",
   "metadata": {},
   "source": [
    "## Plan for today: \n",
    "\n",
    "1. IDEs\n",
    "2. Generative AI \n",
    "3. The Monte Carlo method\n",
    "4. Statistical analysis"
   ]
  },
  {
   "cell_type": "markdown",
   "id": "d1a0b437",
   "metadata": {},
   "source": [
    "# 1. Integrated Development Environments\n",
    "\n",
    "Integrated Development Environments, or IDEs, are powerful software suites that offer a comprehensive set of tools designed to enhance a programmer's productivity and ease the software development process. At its core, an IDE typically consists of a source code editor, debugger, and build automation tools. However, many modern IDEs also come equipped with features like code suggestions, error highlighting, integrated version control, and even graphical interfaces for designing layouts or visualizing data.\n",
    "\n",
    "When just beginning to learn programming, starting with a basic text editor might seem sufficient. And indeed, for very simple scripts or programs, it often is. However, as one delves deeper into more complex projects, the benefits of an IDE become evident. The interactive debugging tools alone, which allow developers to pause, inspect, and modify their code mid-execution, can save countless hours of searching for bugs or issues. Moreover, the code auto-completion and intelligent suggestions that many IDEs offer can significantly accelerate the coding process, reduce errors, and help students learn more about programming languages and libraries as they work.\n",
    "\n",
    "Investing time in understanding and mastering an IDE is akin to investing in a high-quality set of tools for any craft. Yes, you can build a table with basic hand tools, but using power tools can make the process faster, more accurate, and even more enjoyable. Similarly, familiarizing oneself with an IDE early on equips you with skills that will greatly aid the efficiency and efficacy as you tackle more advanced projects and enter the professional realm."
   ]
  },
  {
   "cell_type": "markdown",
   "id": "70c4a2e8",
   "metadata": {},
   "source": [
    "# 2 Generative AI\n",
    "\n",
    "## 2.1. Github Copilot\n",
    "\n",
    "GitHub Copilot is a tool developed by GitHub in collaboration with OpenAI, offering an AI-powered code assistant directly within your coding environment. Think of it as an incredibly knowledgeable coding partner that can suggest entire lines or blocks of code, help you navigate tricky programming challenges, and even provide documentation on-the-fly. Copilot is trained on vast amounts of code from the public repositories on GitHub, which allows it to understand context, predict coding patterns, and assist with a wide range of programming languages, including Python.\n",
    "\n",
    "## 2.2. ChatGPT\n",
    "ChatGPT, powered by OpenAI's advanced GPT-4 architecture, is a state-of-the-art language model designed to generate human-like text based on the input it receives. With its expansive training data and intricate understanding of language nuances, ChatGPT can engage users in diverse conversations, answer questions, generate content, and assist in various tasks. Its wide-ranging capabilities make it a versatile tool for numerous applications, from education and content creation to research and entertainment. By simulating human-like interactions, ChatGPT pushes the boundaries of artificial intelligence and offers users a glimpse into the future of human-machine communication.\n",
    "\n",
    "ChatGPT emerges as a dynamic resource for programmers and developers. As a vast reservoir of coding knowledge and best practices, it can swiftly assist in debugging, offer code snippets, elucidate intricate programming concepts, and provide guidance on algorithmic challenges. Beyond just being a passive reference, its interactive nature enables developers to simulate coding scenarios, test out ideas, and gain insights on optimal coding strategies. For both novice and veteran programmers, ChatGPT stands as a powerful companion, streamlining the coding process and enhancing productivity."
   ]
  },
  {
   "cell_type": "markdown",
   "id": "b441dbfa",
   "metadata": {},
   "source": [
    "# 3. The Monte Carlo method\n",
    "\n",
    "- Monte Carlo methods are a class of computational algorithms that rely on repeated random sampling to obtain numerical results.\n",
    "- The underlying concept is to use randomness to solve problems that might not be stochastic by nature.\n",
    "- We will use the Monte Carlo Method to solve a problem that mathematicians have been struggling with for thousands of years\n",
    "\n",
    "## What is the value of $\\pi$?\n",
    "\n",
    "Ancient Babylonians (2000 BCE): $\\pi = 3 + 1/8 \\approx 3.125$ \n",
    "\n",
    "Archimedes (250 BCE): $223/71 < \\pi < 22/7 \\rightarrow 3.140845 < \\pi < 3.142857$\n",
    "\n",
    "## From Wikipedia:\n",
    "\n",
    "$\\pi$ is commonly defined as the ratio of a circle's circumference $C$ to its diameter $d$:\n",
    "\n",
    "$$\\pi ={\\frac {C}{d}}$$\n",
    "\n",
    "## $\\pi$ to 10 digits:\n",
    "\n",
    "$\\pi \\approx 3.1415926535$\n",
    "\n",
    "\n",
    "## Let's use the Monte Carlo method to estimate $\\pi$"
   ]
  },
  {
   "cell_type": "code",
   "execution_count": null,
   "id": "d6c121ee",
   "metadata": {},
   "outputs": [],
   "source": [
    "# Our standard imports\n",
    "\n",
    "import numpy as np\n",
    "import pandas as pd\n",
    "import matplotlib.pyplot as plt"
   ]
  },
  {
   "cell_type": "code",
   "execution_count": null,
   "id": "0a419adc",
   "metadata": {},
   "outputs": [],
   "source": [
    "# Functions for drawing \n",
    "\n",
    "def drawBackground():\n",
    "    plt.figure(figsize=(6,6))\n",
    "    plt.hlines(0, xmin=-1.25, xmax=1.25, lw=2, color='black', linestyle=':')\n",
    "    plt.vlines(0, ymin=-1.25, ymax=1.25, lw=2, color='black', linestyle=':')\n",
    "\n",
    "def drawRectangle():\n",
    "    plt.hlines(1, -1, 1, lw=1, color='black')\n",
    "    plt.hlines(-1, -1, 1, lw=1, color='black')\n",
    "    plt.vlines(1, -1, 1, lw=1, color='black')\n",
    "    plt.vlines(-1, -1, 1, lw=1, color='black')\n",
    "\n",
    "def drawCircle():\n",
    "    theta = np.linspace(0, 2*np.pi, 150)\n",
    "    radius = 1\n",
    "    a = radius * np.cos(theta)\n",
    "    b = radius * np.sin(theta)\n",
    "    plt.plot(a, b, lw=1, color='black')"
   ]
  },
  {
   "cell_type": "code",
   "execution_count": null,
   "id": "1b8e6e1f",
   "metadata": {},
   "outputs": [],
   "source": [
    "# Let's make a figure to visualize the problem\n",
    "\n",
    "drawBackground()\n",
    "drawRectangle()\n",
    "drawCircle()"
   ]
  },
  {
   "cell_type": "code",
   "execution_count": null,
   "id": "e90d1220",
   "metadata": {},
   "outputs": [],
   "source": [
    "trails = 100\n",
    "#trails = 10_000\n",
    "#trails = 1_000_000\n",
    "#trails = 100_000_000\n",
    "\n",
    "random_points = pd.DataFrame([np.random.uniform(low=-1,high=1, size=trails),\n",
    "                              np.random.uniform(low=-1,high=1, size=trails)],\n",
    "                             index=['x', 'y']).T\n",
    "random_points.tail()"
   ]
  },
  {
   "cell_type": "code",
   "execution_count": null,
   "id": "36683163",
   "metadata": {},
   "outputs": [],
   "source": [
    "# Let's plot the points in our figure. \n",
    "# The points are constructed so all of them are within the square \n",
    "\n",
    "drawBackground()\n",
    "drawRectangle()\n",
    "plt.scatter(random_points['x'], random_points['y'], marker='.')"
   ]
  },
  {
   "cell_type": "markdown",
   "id": "98c3d6a1",
   "metadata": {},
   "source": [
    "## Are the points inside or outside the circle?\n",
    "\n",
    "We know from the Pythagorean theorem that the distance from the origin to a point $(x,y)$ is given by:\n",
    "\n",
    "$$d = \\sqrt{x^2 + y^2}$$\n",
    "\n",
    "If $d < 1$, the point is inside the circle. If $d > 1$, the point is outside the circle."
   ]
  },
  {
   "cell_type": "code",
   "execution_count": null,
   "id": "de0679c0",
   "metadata": {},
   "outputs": [],
   "source": [
    "# Check if the points are inside or outside the circle using the Pythagorean theorem\n",
    "\n",
    "distanse_from_orign = np.sqrt(random_points['x']**2 + random_points['y']**2) \n",
    "\n",
    "random_points['in_circle'] = distanse_from_orign < 1\n",
    "random_points.sample(10)"
   ]
  },
  {
   "cell_type": "code",
   "execution_count": null,
   "id": "237b7575",
   "metadata": {},
   "outputs": [],
   "source": [
    "# Lets plot the points in our figure with different colors if we are inside or outside the circle\n",
    "\n",
    "drawBackground()\n",
    "drawCircle()\n",
    "drawRectangle()\n",
    "\n",
    "plt.scatter(random_points[random_points.in_circle == True]['x'], \n",
    "            random_points[random_points.in_circle == True]['y'], color='green', marker='.')\n",
    "plt.scatter(random_points[random_points.in_circle == False]['x'], \n",
    "            random_points[random_points.in_circle == False]['y'], color='red',marker='.')"
   ]
  },
  {
   "cell_type": "markdown",
   "id": "29fac88a",
   "metadata": {},
   "source": [
    "## What is the value of $\\pi$?\n",
    "\n",
    "\n",
    "$$ \\frac{Area_{circle}}{Area_{square}} = \\frac{\\pi r^2}{4r^2} = \\frac{\\pi}{4} $$\n",
    "\n",
    "When the number of points become large, we have that\n",
    "\n",
    "$$  \\frac{Area_{circle}}{Area_{square}} = \\frac{\\text{number of points within the circle}}{\\text{number of points within the square}} $$\n",
    "\n",
    "$$ \\pi = 4 * \\frac{\\text{number of points within the circle}}{\\text{number of points within the square}}$$"
   ]
  },
  {
   "cell_type": "code",
   "execution_count": null,
   "id": "12fff6ba",
   "metadata": {},
   "outputs": [],
   "source": [
    "# We have all the information we need to calculate an estimate of pi\n",
    "\n",
    "pi = 4 * len(random_points[random_points.in_circle == True]) / trails\n",
    "\n",
    "print(f'Our estimated value of pi is {pi:.5f}.')"
   ]
  },
  {
   "cell_type": "markdown",
   "id": "9c4050df",
   "metadata": {},
   "source": [
    "# 4. Statistical analysis"
   ]
  },
  {
   "cell_type": "code",
   "execution_count": null,
   "id": "1bfedbda",
   "metadata": {},
   "outputs": [],
   "source": [
    "# Let's use some data from the seaborn library again\n",
    "\n",
    "import seaborn as sns\n",
    "\n",
    "healthexp = sns.load_dataset('healthexp')\n",
    "healthexp.sample(5)"
   ]
  },
  {
   "cell_type": "code",
   "execution_count": null,
   "id": "c8a9731c",
   "metadata": {},
   "outputs": [],
   "source": [
    "pd.read_csv('healthexp.csv')"
   ]
  },
  {
   "cell_type": "markdown",
   "id": "e9c87f83",
   "metadata": {},
   "source": [
    "## What is the average spending and life expectancy in this sample?"
   ]
  },
  {
   "cell_type": "code",
   "execution_count": null,
   "id": "ce64459b",
   "metadata": {},
   "outputs": [],
   "source": [
    "# The mean\n",
    "\n",
    "healthexp[['Spending_USD', 'Life_Expectancy']].mean()"
   ]
  },
  {
   "cell_type": "code",
   "execution_count": null,
   "id": "4ee45702",
   "metadata": {},
   "outputs": [],
   "source": [
    "# The median\n",
    "\n",
    "healthexp[['Spending_USD', 'Life_Expectancy']].median()"
   ]
  },
  {
   "cell_type": "markdown",
   "id": "6a5cd663",
   "metadata": {},
   "source": [
    "## More descriptive statistics"
   ]
  },
  {
   "cell_type": "code",
   "execution_count": null,
   "id": "667d766f",
   "metadata": {},
   "outputs": [],
   "source": [
    "healthexp.describe()"
   ]
  },
  {
   "cell_type": "markdown",
   "id": "88c8df4a",
   "metadata": {},
   "source": [
    "### What country has the max life expectancy and which year was that?"
   ]
  },
  {
   "cell_type": "code",
   "execution_count": null,
   "id": "2fbf25e2",
   "metadata": {},
   "outputs": [],
   "source": [
    "# Sort data by life expectancy\n",
    "\n",
    "healthexp.sort_values(by='Life_Expectancy', ascending=False).head(1)"
   ]
  },
  {
   "cell_type": "code",
   "execution_count": null,
   "id": "4bc0dc5f",
   "metadata": {},
   "outputs": [],
   "source": [
    "# Find the index with the maximum life expectancy\n",
    "\n",
    "healthexp['Life_Expectancy'].idxmax()"
   ]
  },
  {
   "cell_type": "code",
   "execution_count": null,
   "id": "632326ac",
   "metadata": {},
   "outputs": [],
   "source": [
    "# The row with the maximum life expectancy\n",
    "\n",
    "healthexp.loc[272]"
   ]
  },
  {
   "cell_type": "code",
   "execution_count": null,
   "id": "e880e364",
   "metadata": {},
   "outputs": [],
   "source": []
  },
  {
   "cell_type": "code",
   "execution_count": null,
   "id": "b39365e2",
   "metadata": {},
   "outputs": [],
   "source": []
  }
 ],
 "metadata": {
  "kernelspec": {
   "display_name": "Python 3 (ipykernel)",
   "language": "python",
   "name": "python3"
  },
  "language_info": {
   "codemirror_mode": {
    "name": "ipython",
    "version": 3
   },
   "file_extension": ".py",
   "mimetype": "text/x-python",
   "name": "python",
   "nbconvert_exporter": "python",
   "pygments_lexer": "ipython3",
   "version": "3.10.8"
  }
 },
 "nbformat": 4,
 "nbformat_minor": 5
}
