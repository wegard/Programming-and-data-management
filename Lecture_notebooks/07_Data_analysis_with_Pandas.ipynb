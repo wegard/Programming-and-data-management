{
 "cells": [
  {
   "cell_type": "markdown",
   "id": "613e4709",
   "metadata": {
    "slideshow": {
     "slide_type": "slide"
    }
   },
   "source": [
    "# Data frames with Pandas\n",
    "\n",
    "## Programming and Data Management (EDI 3400)\n",
    "\n",
    "### *Vegard H. Larsen (Department of Data Science and Analytics)*"
   ]
  },
  {
   "cell_type": "markdown",
   "id": "49738009",
   "metadata": {
    "slideshow": {
     "slide_type": "slide"
    }
   },
   "source": [
    "# 1. What is Pandas?\n",
    "\n",
    "Pandas is a premier data manipulation and analysis library in Python, providing intuitive structures for organizing and processing data alongside a suite of powerful tools to explore, clean, and analyze it. Central to Pandas are its two primary data structures: the `Series`, which handles one-dimensional data, and the `DataFrame`, designed for two-dimensional data (akin to tables in a database or Excel sheets). With these structures, you can easily read data from various sources, manipulate rows and columns, handle missing values, and even merge or aggregate data from multiple tables. Many tasks traditionally done in spreadsheet software can be more efficiently and robustly performed in code, laying a foundational bridge between basic Python programming and the vast world of data analysis."
   ]
  },
  {
   "cell_type": "markdown",
   "id": "b4c70e84",
   "metadata": {
    "slideshow": {
     "slide_type": "slide"
    }
   },
   "source": [
    "## Introduction to Pandas\n",
    "\n",
    "- A library that makes working with multidimensional structured and tabular data fast and easy\n",
    "- The name is derived from *panel data* and *Python data analysis* \n",
    "- Built in support for working with time series data\n",
    "- Provides Excel-like functionality to Python\n",
    "- Makes data cleaning and analysis fast and convenient in Python"
   ]
  },
  {
   "cell_type": "markdown",
   "id": "e98fcb2b",
   "metadata": {
    "slideshow": {
     "slide_type": "slide"
    }
   },
   "source": [
    "## Importing Pandas \n",
    "\n",
    "- As with NumPy there is a common import convention for Pandas"
   ]
  },
  {
   "cell_type": "code",
   "execution_count": null,
   "id": "dfe6d119",
   "metadata": {
    "slideshow": {
     "slide_type": "fragment"
    }
   },
   "outputs": [],
   "source": [
    "import pandas as pd"
   ]
  },
  {
   "cell_type": "code",
   "execution_count": null,
   "id": "f8060a9b",
   "metadata": {
    "slideshow": {
     "slide_type": "fragment"
    }
   },
   "outputs": [],
   "source": [
    "pd.__version__"
   ]
  },
  {
   "cell_type": "markdown",
   "id": "70e4385a",
   "metadata": {
    "slideshow": {
     "slide_type": "slide"
    }
   },
   "source": [
    "# 2. Pandas data structures "
   ]
  },
  {
   "cell_type": "markdown",
   "id": "c158480d",
   "metadata": {
    "slideshow": {
     "slide_type": "slide"
    }
   },
   "source": [
    "## Data structures in `Pandas`\n",
    "\n",
    "1. Series - One dimensional array of data \n",
    "2. DataFrame - Can consist of many Series as columns in the DataFrame\n",
    "3. Panel - Can consist of many DataFrames (will not be covered in this course)"
   ]
  },
  {
   "cell_type": "markdown",
   "id": "e1921e10",
   "metadata": {
    "slideshow": {
     "slide_type": "slide"
    }
   },
   "source": [
    "## Pandas Series-object\n",
    "\n",
    "- A one-dimensional labeled array capable of holding any data type (integers, strings, floating point numbers, Python objects, etc.)"
   ]
  },
  {
   "cell_type": "code",
   "execution_count": null,
   "id": "9fbfab19",
   "metadata": {},
   "outputs": [],
   "source": [
    "import pandas as pd\n",
    "\n",
    "series1 = pd.Series([100, 200, 300, 400])"
   ]
  },
  {
   "cell_type": "code",
   "execution_count": null,
   "id": "bfe4fb91",
   "metadata": {},
   "outputs": [],
   "source": [
    "series1"
   ]
  },
  {
   "cell_type": "code",
   "execution_count": null,
   "id": "68118c67",
   "metadata": {},
   "outputs": [],
   "source": [
    "type(series1)"
   ]
  },
  {
   "cell_type": "markdown",
   "id": "840fbb19",
   "metadata": {
    "slideshow": {
     "slide_type": "slide"
    }
   },
   "source": [
    "## Working with the Series"
   ]
  },
  {
   "cell_type": "code",
   "execution_count": null,
   "id": "0c29ad8e",
   "metadata": {},
   "outputs": [],
   "source": [
    "# Getting out values\n",
    "\n",
    "series1[0]"
   ]
  },
  {
   "cell_type": "code",
   "execution_count": null,
   "id": "8d85db45",
   "metadata": {
    "slideshow": {
     "slide_type": "fragment"
    }
   },
   "outputs": [],
   "source": [
    "# Assigning values\n",
    "\n",
    "series1[1] = 1234"
   ]
  },
  {
   "cell_type": "code",
   "execution_count": null,
   "id": "3a4dece9",
   "metadata": {
    "slideshow": {
     "slide_type": "fragment"
    }
   },
   "outputs": [],
   "source": [
    "series1"
   ]
  },
  {
   "cell_type": "code",
   "execution_count": null,
   "id": "6e3c36e5",
   "metadata": {
    "slideshow": {
     "slide_type": "fragment"
    }
   },
   "outputs": [],
   "source": [
    "# Slicing\n",
    "\n",
    "series1[0:4]"
   ]
  },
  {
   "cell_type": "markdown",
   "id": "2843e001",
   "metadata": {
    "slideshow": {
     "slide_type": "slide"
    }
   },
   "source": [
    "## Numerical operations "
   ]
  },
  {
   "cell_type": "code",
   "execution_count": null,
   "id": "8aa93b32",
   "metadata": {},
   "outputs": [],
   "source": [
    "# We can initialize a Series from a dictionary\n",
    "\n",
    "s1 = pd.Series({'a': 10, 'b': 20, 'c': 30})\n",
    "s2 = pd.Series({'a': 0.1, 'b': 0.2, 'c':0.3, 'd':0.4, 'e': 0.5})"
   ]
  },
  {
   "cell_type": "code",
   "execution_count": null,
   "id": "c0caa25a",
   "metadata": {},
   "outputs": [],
   "source": [
    "s1"
   ]
  },
  {
   "cell_type": "code",
   "execution_count": null,
   "id": "f551aa5b",
   "metadata": {
    "slideshow": {
     "slide_type": "fragment"
    }
   },
   "outputs": [],
   "source": [
    "s1 * 2"
   ]
  },
  {
   "cell_type": "code",
   "execution_count": null,
   "id": "0192b31f",
   "metadata": {
    "slideshow": {
     "slide_type": "fragment"
    }
   },
   "outputs": [],
   "source": [
    "s3 = s1 + s2\n",
    "s3"
   ]
  },
  {
   "cell_type": "markdown",
   "id": "cde1637a",
   "metadata": {
    "slideshow": {
     "slide_type": "slide"
    }
   },
   "source": [
    "## Series methods"
   ]
  },
  {
   "cell_type": "code",
   "execution_count": null,
   "id": "08903fb5",
   "metadata": {},
   "outputs": [],
   "source": [
    "# Drop nans\n",
    "\n",
    "s4 = s3.dropna()"
   ]
  },
  {
   "cell_type": "code",
   "execution_count": null,
   "id": "b08673b3-52ce-4109-b6fe-7c8bd0f7ddab",
   "metadata": {},
   "outputs": [],
   "source": [
    "s3"
   ]
  },
  {
   "cell_type": "code",
   "execution_count": null,
   "id": "25aec94c",
   "metadata": {
    "slideshow": {
     "slide_type": "fragment"
    }
   },
   "outputs": [],
   "source": [
    "# Drop particular indexes\n",
    "\n",
    "s3.drop(['a', 'e'])"
   ]
  },
  {
   "cell_type": "code",
   "execution_count": null,
   "id": "1ce062ef-41c1-4b5f-8502-a1c2d97249ca",
   "metadata": {},
   "outputs": [],
   "source": [
    "s1"
   ]
  },
  {
   "cell_type": "code",
   "execution_count": null,
   "id": "3496ea3e-cd03-4658-a82a-3627a75c7ef5",
   "metadata": {},
   "outputs": [],
   "source": [
    "s2"
   ]
  },
  {
   "cell_type": "code",
   "execution_count": null,
   "id": "f7f551e0",
   "metadata": {
    "slideshow": {
     "slide_type": "fragment"
    }
   },
   "outputs": [],
   "source": [
    "# We can concatenate data\n",
    "\n",
    "pd.concat([s1,s2])"
   ]
  },
  {
   "cell_type": "markdown",
   "id": "b157401c",
   "metadata": {
    "slideshow": {
     "slide_type": "slide"
    }
   },
   "source": [
    "## Pandas DataFrame-object"
   ]
  },
  {
   "cell_type": "code",
   "execution_count": null,
   "id": "10caf1f6",
   "metadata": {},
   "outputs": [],
   "source": [
    "import pandas as pd\n",
    "\n",
    "content = [['a', 1, 'apple'], \n",
    "           ['b', 2, 'banana'], \n",
    "           ['c', 3, 'orange']]\n",
    "\n",
    "dataframe1 = pd.DataFrame(content,\n",
    "                          columns=['letter', 'number', 'fruit'],\n",
    "                          index=['one', 'two', 'three'])"
   ]
  },
  {
   "cell_type": "code",
   "execution_count": null,
   "id": "c146cf4f-36a0-47fd-9911-d3418c2f8e55",
   "metadata": {},
   "outputs": [],
   "source": [
    "pd.DataFrame(content)"
   ]
  },
  {
   "cell_type": "code",
   "execution_count": null,
   "id": "2c472e9e",
   "metadata": {
    "slideshow": {
     "slide_type": "fragment"
    }
   },
   "outputs": [],
   "source": [
    "dataframe1"
   ]
  },
  {
   "cell_type": "code",
   "execution_count": null,
   "id": "cdcd1f22",
   "metadata": {
    "slideshow": {
     "slide_type": "fragment"
    }
   },
   "outputs": [],
   "source": [
    "type(dataframe1)"
   ]
  },
  {
   "cell_type": "markdown",
   "id": "c4f36650",
   "metadata": {
    "slideshow": {
     "slide_type": "slide"
    }
   },
   "source": [
    "## Working with the DataFrame"
   ]
  },
  {
   "cell_type": "code",
   "execution_count": null,
   "id": "a00bf2e6",
   "metadata": {},
   "outputs": [],
   "source": [
    "column_fruit = dataframe1['fruit']"
   ]
  },
  {
   "cell_type": "code",
   "execution_count": null,
   "id": "56aeb82f",
   "metadata": {
    "slideshow": {
     "slide_type": "fragment"
    }
   },
   "outputs": [],
   "source": [
    "column_fruit"
   ]
  },
  {
   "cell_type": "code",
   "execution_count": null,
   "id": "b037046b",
   "metadata": {
    "slideshow": {
     "slide_type": "fragment"
    }
   },
   "outputs": [],
   "source": [
    "type(column_fruit)"
   ]
  },
  {
   "cell_type": "code",
   "execution_count": null,
   "id": "8d88f15e",
   "metadata": {
    "slideshow": {
     "slide_type": "fragment"
    }
   },
   "outputs": [],
   "source": [
    "# Use loc to access a row from the DataFrame\n",
    "\n",
    "row_1 = dataframe1.loc['two']"
   ]
  },
  {
   "cell_type": "code",
   "execution_count": null,
   "id": "ca21203c",
   "metadata": {
    "slideshow": {
     "slide_type": "fragment"
    }
   },
   "outputs": [],
   "source": [
    "row_1"
   ]
  },
  {
   "cell_type": "code",
   "execution_count": null,
   "id": "50769692",
   "metadata": {
    "slideshow": {
     "slide_type": "slide"
    }
   },
   "outputs": [],
   "source": [
    "## Use iloc to access row by numerical index\n",
    "\n",
    "row_0 = dataframe1.iloc[0]"
   ]
  },
  {
   "cell_type": "code",
   "execution_count": null,
   "id": "b98c0d45",
   "metadata": {},
   "outputs": [],
   "source": [
    "row_0"
   ]
  },
  {
   "cell_type": "markdown",
   "id": "9e881280",
   "metadata": {
    "slideshow": {
     "slide_type": "slide"
    }
   },
   "source": [
    "## Viewing data"
   ]
  },
  {
   "cell_type": "code",
   "execution_count": null,
   "id": "22474690",
   "metadata": {
    "slideshow": {
     "slide_type": "-"
    }
   },
   "outputs": [],
   "source": [
    "import numpy as np\n",
    "\n",
    "df = pd.DataFrame(np.random.randn(100, 4), columns=list(\"ABCD\"))"
   ]
  },
  {
   "cell_type": "code",
   "execution_count": null,
   "id": "201bb4ab",
   "metadata": {
    "slideshow": {
     "slide_type": "fragment"
    }
   },
   "outputs": [],
   "source": [
    "# Look at the 3 first rows\n",
    "\n",
    "df.head()"
   ]
  },
  {
   "cell_type": "code",
   "execution_count": null,
   "id": "19bcacff",
   "metadata": {
    "slideshow": {
     "slide_type": "fragment"
    }
   },
   "outputs": [],
   "source": [
    "# Look at the 3 last rows\n",
    "\n",
    "df.tail(3)"
   ]
  },
  {
   "cell_type": "code",
   "execution_count": null,
   "id": "96922d8c",
   "metadata": {},
   "outputs": [],
   "source": [
    "# We can look at a random sample of rows\n",
    "\n",
    "df.sample(5)"
   ]
  },
  {
   "cell_type": "markdown",
   "id": "26e304ac",
   "metadata": {
    "slideshow": {
     "slide_type": "slide"
    }
   },
   "source": [
    "## Sorting data"
   ]
  },
  {
   "cell_type": "code",
   "execution_count": null,
   "id": "c996ea48",
   "metadata": {},
   "outputs": [],
   "source": [
    "# We can sort by the values in a given column\n",
    "\n",
    "df.sort_values(by='A', ascending=False)"
   ]
  },
  {
   "cell_type": "markdown",
   "id": "2d63c0ca",
   "metadata": {
    "slideshow": {
     "slide_type": "slide"
    }
   },
   "source": [
    "## Slicing and selection"
   ]
  },
  {
   "cell_type": "code",
   "execution_count": null,
   "id": "0d68a27e",
   "metadata": {},
   "outputs": [],
   "source": [
    "# Selecting via [] slices the rows\n",
    "\n",
    "df[6:8]"
   ]
  },
  {
   "cell_type": "code",
   "execution_count": null,
   "id": "9f5661b0",
   "metadata": {
    "slideshow": {
     "slide_type": "slide"
    }
   },
   "outputs": [],
   "source": [
    "# We can also slice the columns\n",
    "\n",
    "df.iloc[0:11, 1:3]"
   ]
  },
  {
   "cell_type": "code",
   "execution_count": null,
   "id": "34828101",
   "metadata": {
    "slideshow": {
     "slide_type": "slide"
    }
   },
   "outputs": [],
   "source": [
    "# We can also ask for very specific slices\n",
    "\n",
    "df.iloc[[0, 5, 6, 8], [0, 3]]"
   ]
  },
  {
   "cell_type": "markdown",
   "id": "aec9f562",
   "metadata": {},
   "source": [
    "## Statistical methods "
   ]
  },
  {
   "cell_type": "code",
   "execution_count": null,
   "id": "4080a496",
   "metadata": {},
   "outputs": [],
   "source": [
    "import pandas as pd\n",
    "import numpy as np\n",
    "\n",
    "# Set seed for reproducibility\n",
    "np.random.seed(42)\n",
    "\n",
    "# Generating data on subject scores in 3 subjects for 100 students.\n",
    "data = {\n",
    "    'Math': np.random.randint(50, 100, 100),\n",
    "    'English': np.random.randint(25, 75, 100),\n",
    "    'History': np.random.randint(40, 90, 100)\n",
    "}\n",
    "\n",
    "df = pd.DataFrame(data)\n",
    "print(df.head())  # Print the first 5 rows"
   ]
  },
  {
   "cell_type": "code",
   "execution_count": null,
   "id": "6b0093f1",
   "metadata": {},
   "outputs": [],
   "source": [
    "# Mean Score of Each Subject:\n",
    "\n",
    "mean_scores = df.mean(axis=0)\n",
    "\n",
    "print(\"Mean Scores:\\n\", mean_scores)"
   ]
  },
  {
   "cell_type": "code",
   "execution_count": null,
   "id": "459043d3",
   "metadata": {},
   "outputs": [],
   "source": [
    "# Median Score of Each Subject:\n",
    "\n",
    "median_scores = df.median()\n",
    "\n",
    "print(\"\\nMedian Scores:\\n\", median_scores)"
   ]
  },
  {
   "cell_type": "code",
   "execution_count": null,
   "id": "a69ac320",
   "metadata": {},
   "outputs": [],
   "source": [
    "# Standard Deviation of Each Subject:\n",
    "\n",
    "std_dev = df.std()\n",
    "print(\"\\nStandard Deviation:\\n\", std_dev)"
   ]
  },
  {
   "cell_type": "code",
   "execution_count": null,
   "id": "7c216b98",
   "metadata": {},
   "outputs": [],
   "source": [
    "# Highest and Lowest Score in Math:\n",
    "\n",
    "max_math = df['Math'].max()\n",
    "min_math = df['Math'].min()\n",
    "\n",
    "print(\"\\nHighest Math Score:\", max_math)\n",
    "print(\"Lowest Math Score:\", min_math)"
   ]
  },
  {
   "cell_type": "code",
   "execution_count": null,
   "id": "c9ea0580",
   "metadata": {},
   "outputs": [],
   "source": [
    "# Correlation Between Subjects:\n",
    "\n",
    "correlation = df.corr()\n",
    "print(\"\\nCorrelation between subjects:\\n\", correlation)"
   ]
  },
  {
   "cell_type": "code",
   "execution_count": null,
   "id": "b35dfa06",
   "metadata": {},
   "outputs": [],
   "source": [
    "# Number of Students Scoring Above 90 in English:\n",
    "\n",
    "above_90_english = df[df['English'] > 70].shape[0]\n",
    "print(\"\\nNumber of students scoring above 90 in English:\", above_90_english)"
   ]
  },
  {
   "cell_type": "markdown",
   "id": "5f1dba43",
   "metadata": {
    "slideshow": {
     "slide_type": "slide"
    }
   },
   "source": [
    "# 3. Time series data"
   ]
  },
  {
   "cell_type": "markdown",
   "id": "92df05e6",
   "metadata": {
    "slideshow": {
     "slide_type": "slide"
    }
   },
   "source": [
    "## Pandas has great functionality for working with dates"
   ]
  },
  {
   "cell_type": "code",
   "execution_count": null,
   "id": "520fd783",
   "metadata": {
    "slideshow": {
     "slide_type": "-"
    }
   },
   "outputs": [],
   "source": [
    "# We can create an index with dates \n",
    "\n",
    "dates = pd.date_range(start=\"2022-09-01\", periods=30, freq='M')"
   ]
  },
  {
   "cell_type": "code",
   "execution_count": null,
   "id": "be976e95",
   "metadata": {},
   "outputs": [],
   "source": [
    "dates"
   ]
  },
  {
   "cell_type": "code",
   "execution_count": null,
   "id": "842193e6",
   "metadata": {
    "slideshow": {
     "slide_type": "fragment"
    }
   },
   "outputs": [],
   "source": [
    "#pd.date_range?"
   ]
  },
  {
   "cell_type": "markdown",
   "id": "6b318a5c",
   "metadata": {
    "slideshow": {
     "slide_type": "fragment"
    }
   },
   "source": [
    "### freq-options (non-exclusive list)\n",
    "\n",
    "| Within Day | Within Month | Lower frequency |\n",
    "| --- | --- | --- |\n",
    "| S (seconds)        | D (calendar day) | M (monthly)          |\n",
    "| T (minutely)       | B (business day) | QS (quarterly start) |\n",
    "| H (hourly))        | W (weekly)       | Q (quarterly end)    |\n",
    "| BH (business hour) | SM (semi-month)  | A, Y - (yearly)      |"
   ]
  },
  {
   "cell_type": "code",
   "execution_count": null,
   "id": "8d96066f",
   "metadata": {
    "slideshow": {
     "slide_type": "fragment"
    }
   },
   "outputs": [],
   "source": [
    "dates"
   ]
  },
  {
   "cell_type": "code",
   "execution_count": null,
   "id": "ff514d4d",
   "metadata": {
    "slideshow": {
     "slide_type": "slide"
    }
   },
   "outputs": [],
   "source": [
    "# Create a dataframe with random numbers and use the index with dates\n",
    "\n",
    "df = pd.DataFrame(np.random.randn(30, 4), \n",
    "                  columns=list(\"ABCD\"),\n",
    "                  index=dates)\n",
    "\n"
   ]
  },
  {
   "cell_type": "code",
   "execution_count": null,
   "id": "fbecd1a8-6661-4443-8b95-69b9ca19241e",
   "metadata": {},
   "outputs": [],
   "source": [
    "df"
   ]
  },
  {
   "cell_type": "code",
   "execution_count": null,
   "id": "f85d089b-39b2-438d-80ce-6f3e182cfa69",
   "metadata": {},
   "outputs": [],
   "source": [
    "# A new data frame that isthe cummulative sum of the random numbers\n",
    "df_sum = df.cumsum()"
   ]
  },
  {
   "cell_type": "code",
   "execution_count": null,
   "id": "a2315398-3b9f-4017-b422-58cd71f80c42",
   "metadata": {},
   "outputs": [],
   "source": [
    "#df.cumsum?"
   ]
  },
  {
   "cell_type": "code",
   "execution_count": null,
   "id": "7a986f66-95e6-4002-8799-50e9fa5e6152",
   "metadata": {},
   "outputs": [],
   "source": [
    "df_sum"
   ]
  },
  {
   "cell_type": "code",
   "execution_count": null,
   "id": "e7782212",
   "metadata": {
    "slideshow": {
     "slide_type": "slide"
    }
   },
   "outputs": [],
   "source": [
    "# Pandas has built in plotting\n",
    "\n",
    "df.resample('A').mean().plot()"
   ]
  },
  {
   "cell_type": "markdown",
   "id": "ef23cd13",
   "metadata": {
    "slideshow": {
     "slide_type": "slide"
    }
   },
   "source": [
    "# 4. Importing and exporting data"
   ]
  },
  {
   "cell_type": "code",
   "execution_count": 1,
   "id": "29b1b842",
   "metadata": {},
   "outputs": [],
   "source": [
    "import pandas as pd\n",
    "# Pandas has many different read methods \n",
    "\n",
    "data = pd.read_clipboard"
   ]
  },
  {
   "cell_type": "code",
   "execution_count": 7,
   "id": "9782fee4-1568-41c8-9163-2d5b99d4fa0a",
   "metadata": {},
   "outputs": [],
   "source": [
    "columns = pd.read_clipboard()"
   ]
  },
  {
   "cell_type": "code",
   "execution_count": 8,
   "id": "af5501d9-c052-4a2e-9125-8d5ce0a0bc09",
   "metadata": {},
   "outputs": [
    {
     "data": {
      "text/html": [
       "<div>\n",
       "<style scoped>\n",
       "    .dataframe tbody tr th:only-of-type {\n",
       "        vertical-align: middle;\n",
       "    }\n",
       "\n",
       "    .dataframe tbody tr th {\n",
       "        vertical-align: top;\n",
       "    }\n",
       "\n",
       "    .dataframe thead th {\n",
       "        text-align: right;\n",
       "    }\n",
       "</style>\n",
       "<table border=\"1\" class=\"dataframe\">\n",
       "  <thead>\n",
       "    <tr style=\"text-align: right;\">\n",
       "      <th></th>\n",
       "      <th>September</th>\n",
       "      <th>2023</th>\n",
       "      <th>August</th>\n",
       "      <th>2023.1</th>\n",
       "      <th>-</th>\n",
       "      <th>September.1</th>\n",
       "      <th>2023.2</th>\n",
       "      <th>September.2</th>\n",
       "      <th>2022</th>\n",
       "      <th>-.1</th>\n",
       "      <th>September.3</th>\n",
       "      <th>2023.3</th>\n",
       "    </tr>\n",
       "  </thead>\n",
       "  <tbody>\n",
       "  </tbody>\n",
       "</table>\n",
       "</div>"
      ],
      "text/plain": [
       "Empty DataFrame\n",
       "Columns: [September, 2023, August, 2023.1, -, September.1, 2023.2, September.2, 2022, -.1, September.3, 2023.3]\n",
       "Index: []"
      ]
     },
     "execution_count": 8,
     "metadata": {},
     "output_type": "execute_result"
    }
   ],
   "source": [
    "columns ="
   ]
  },
  {
   "cell_type": "code",
   "execution_count": 9,
   "id": "082ac292",
   "metadata": {},
   "outputs": [],
   "source": [
    "data.columns = ['Consumer Price Index', 'September 2023', '', '']"
   ]
  },
  {
   "cell_type": "code",
   "execution_count": 11,
   "id": "afc57fdb",
   "metadata": {},
   "outputs": [
    {
     "data": {
      "text/html": [
       "<div>\n",
       "<style scoped>\n",
       "    .dataframe tbody tr th:only-of-type {\n",
       "        vertical-align: middle;\n",
       "    }\n",
       "\n",
       "    .dataframe tbody tr th {\n",
       "        vertical-align: top;\n",
       "    }\n",
       "\n",
       "    .dataframe thead th {\n",
       "        text-align: right;\n",
       "    }\n",
       "</style>\n",
       "<table border=\"1\" class=\"dataframe\">\n",
       "  <thead>\n",
       "    <tr style=\"text-align: right;\">\n",
       "      <th></th>\n",
       "      <th>Consumer Price Index</th>\n",
       "      <th>September 2023</th>\n",
       "      <th></th>\n",
       "      <th></th>\n",
       "    </tr>\n",
       "  </thead>\n",
       "  <tbody>\n",
       "    <tr>\n",
       "      <th>0</th>\n",
       "      <td>CPI All-item index</td>\n",
       "      <td>129.8</td>\n",
       "      <td>-0.1</td>\n",
       "      <td>3.3</td>\n",
       "    </tr>\n",
       "    <tr>\n",
       "      <th>1</th>\n",
       "      <td>Food and non-alcoholic beverages</td>\n",
       "      <td>128.6</td>\n",
       "      <td>-1.2</td>\n",
       "      <td>7.4</td>\n",
       "    </tr>\n",
       "    <tr>\n",
       "      <th>2</th>\n",
       "      <td>Alcoholic beverages and tobacco</td>\n",
       "      <td>122.6</td>\n",
       "      <td>0.2</td>\n",
       "      <td>4.9</td>\n",
       "    </tr>\n",
       "    <tr>\n",
       "      <th>3</th>\n",
       "      <td>Clothing and footwear</td>\n",
       "      <td>106.8</td>\n",
       "      <td>5.0</td>\n",
       "      <td>6.0</td>\n",
       "    </tr>\n",
       "    <tr>\n",
       "      <th>4</th>\n",
       "      <td>Housing, water, electricity, gas and other fuels</td>\n",
       "      <td>128.1</td>\n",
       "      <td>-1.8</td>\n",
       "      <td>-4.9</td>\n",
       "    </tr>\n",
       "    <tr>\n",
       "      <th>5</th>\n",
       "      <td>Furnishings, household equipment and routine m...</td>\n",
       "      <td>139.1</td>\n",
       "      <td>1.8</td>\n",
       "      <td>6.4</td>\n",
       "    </tr>\n",
       "    <tr>\n",
       "      <th>6</th>\n",
       "      <td>Health</td>\n",
       "      <td>122.9</td>\n",
       "      <td>-0.2</td>\n",
       "      <td>4.0</td>\n",
       "    </tr>\n",
       "    <tr>\n",
       "      <th>7</th>\n",
       "      <td>Transport</td>\n",
       "      <td>136.7</td>\n",
       "      <td>0.3</td>\n",
       "      <td>6.3</td>\n",
       "    </tr>\n",
       "    <tr>\n",
       "      <th>8</th>\n",
       "      <td>Communications</td>\n",
       "      <td>124.9</td>\n",
       "      <td>0.8</td>\n",
       "      <td>5.4</td>\n",
       "    </tr>\n",
       "    <tr>\n",
       "      <th>9</th>\n",
       "      <td>Recreation and culture</td>\n",
       "      <td>139.0</td>\n",
       "      <td>0.6</td>\n",
       "      <td>9.3</td>\n",
       "    </tr>\n",
       "    <tr>\n",
       "      <th>10</th>\n",
       "      <td>Education</td>\n",
       "      <td>137.6</td>\n",
       "      <td>5.4</td>\n",
       "      <td>5.4</td>\n",
       "    </tr>\n",
       "    <tr>\n",
       "      <th>11</th>\n",
       "      <td>Restaurants and hotels</td>\n",
       "      <td>138.7</td>\n",
       "      <td>0.4</td>\n",
       "      <td>5.6</td>\n",
       "    </tr>\n",
       "    <tr>\n",
       "      <th>12</th>\n",
       "      <td>Miscellaneous goods and services</td>\n",
       "      <td>118.9</td>\n",
       "      <td>-0.2</td>\n",
       "      <td>1.5</td>\n",
       "    </tr>\n",
       "    <tr>\n",
       "      <th>13</th>\n",
       "      <td>CPI-ATE All-item index</td>\n",
       "      <td>127.0</td>\n",
       "      <td>0.4</td>\n",
       "      <td>5.7</td>\n",
       "    </tr>\n",
       "    <tr>\n",
       "      <th>14</th>\n",
       "      <td>CPI by delivery sector</td>\n",
       "      <td>NaN</td>\n",
       "      <td>NaN</td>\n",
       "      <td>NaN</td>\n",
       "    </tr>\n",
       "    <tr>\n",
       "      <th>15</th>\n",
       "      <td>Consumer goods</td>\n",
       "      <td>132.4</td>\n",
       "      <td>-0.3</td>\n",
       "      <td>1.8</td>\n",
       "    </tr>\n",
       "    <tr>\n",
       "      <th>16</th>\n",
       "      <td>Services</td>\n",
       "      <td>127.0</td>\n",
       "      <td>0.2</td>\n",
       "      <td>5.0</td>\n",
       "    </tr>\n",
       "    <tr>\n",
       "      <th>17</th>\n",
       "      <td>Services where labor dominates</td>\n",
       "      <td>127.2</td>\n",
       "      <td>0.3</td>\n",
       "      <td>2.6</td>\n",
       "    </tr>\n",
       "  </tbody>\n",
       "</table>\n",
       "</div>"
      ],
      "text/plain": [
       "                                 Consumer Price Index  September 2023       \\\n",
       "0                                  CPI All-item index           129.8 -0.1   \n",
       "1                    Food and non-alcoholic beverages           128.6 -1.2   \n",
       "2                     Alcoholic beverages and tobacco           122.6  0.2   \n",
       "3                               Clothing and footwear           106.8  5.0   \n",
       "4    Housing, water, electricity, gas and other fuels           128.1 -1.8   \n",
       "5   Furnishings, household equipment and routine m...           139.1  1.8   \n",
       "6                                              Health           122.9 -0.2   \n",
       "7                                           Transport           136.7  0.3   \n",
       "8                                      Communications           124.9  0.8   \n",
       "9                              Recreation and culture           139.0  0.6   \n",
       "10                                          Education           137.6  5.4   \n",
       "11                             Restaurants and hotels           138.7  0.4   \n",
       "12                   Miscellaneous goods and services           118.9 -0.2   \n",
       "13                             CPI-ATE All-item index           127.0  0.4   \n",
       "14                             CPI by delivery sector             NaN  NaN   \n",
       "15                                     Consumer goods           132.4 -0.3   \n",
       "16                                           Services           127.0  0.2   \n",
       "17                     Services where labor dominates           127.2  0.3   \n",
       "\n",
       "         \n",
       "0   3.3  \n",
       "1   7.4  \n",
       "2   4.9  \n",
       "3   6.0  \n",
       "4  -4.9  \n",
       "5   6.4  \n",
       "6   4.0  \n",
       "7   6.3  \n",
       "8   5.4  \n",
       "9   9.3  \n",
       "10  5.4  \n",
       "11  5.6  \n",
       "12  1.5  \n",
       "13  5.7  \n",
       "14  NaN  \n",
       "15  1.8  \n",
       "16  5.0  \n",
       "17  2.6  "
      ]
     },
     "execution_count": 11,
     "metadata": {},
     "output_type": "execute_result"
    }
   ],
   "source": [
    "data"
   ]
  },
  {
   "cell_type": "markdown",
   "id": "b631520e",
   "metadata": {
    "slideshow": {
     "slide_type": "slide"
    }
   },
   "source": [
    "## From Excel:"
   ]
  },
  {
   "cell_type": "code",
   "execution_count": 17,
   "id": "bd3312ff",
   "metadata": {},
   "outputs": [
    {
     "data": {
      "text/html": [
       "<div>\n",
       "<style scoped>\n",
       "    .dataframe tbody tr th:only-of-type {\n",
       "        vertical-align: middle;\n",
       "    }\n",
       "\n",
       "    .dataframe tbody tr th {\n",
       "        vertical-align: top;\n",
       "    }\n",
       "\n",
       "    .dataframe thead th {\n",
       "        text-align: right;\n",
       "    }\n",
       "</style>\n",
       "<table border=\"1\" class=\"dataframe\">\n",
       "  <thead>\n",
       "    <tr style=\"text-align: right;\">\n",
       "      <th></th>\n",
       "      <th>Month</th>\n",
       "      <th>EU</th>\n",
       "      <th>Norge</th>\n",
       "    </tr>\n",
       "  </thead>\n",
       "  <tbody>\n",
       "    <tr>\n",
       "      <th>0</th>\n",
       "      <td>2020-01-01</td>\n",
       "      <td>4.95</td>\n",
       "      <td>9.30</td>\n",
       "    </tr>\n",
       "    <tr>\n",
       "      <th>1</th>\n",
       "      <td>2020-02-01</td>\n",
       "      <td>6.15</td>\n",
       "      <td>13.01</td>\n",
       "    </tr>\n",
       "    <tr>\n",
       "      <th>2</th>\n",
       "      <td>2020-03-01</td>\n",
       "      <td>-61.04</td>\n",
       "      <td>-54.72</td>\n",
       "    </tr>\n",
       "    <tr>\n",
       "      <th>3</th>\n",
       "      <td>2020-04-01</td>\n",
       "      <td>-95.24</td>\n",
       "      <td>-84.19</td>\n",
       "    </tr>\n",
       "    <tr>\n",
       "      <th>4</th>\n",
       "      <td>2020-05-01</td>\n",
       "      <td>-89.54</td>\n",
       "      <td>-62.28</td>\n",
       "    </tr>\n",
       "  </tbody>\n",
       "</table>\n",
       "</div>"
      ],
      "text/plain": [
       "       Month     EU  Norge\n",
       "0 2020-01-01   4.95   9.30\n",
       "1 2020-02-01   6.15  13.01\n",
       "2 2020-03-01 -61.04 -54.72\n",
       "3 2020-04-01 -95.24 -84.19\n",
       "4 2020-05-01 -89.54 -62.28"
      ]
     },
     "execution_count": 17,
     "metadata": {},
     "output_type": "execute_result"
    }
   ],
   "source": [
    "data_excel = pd.read_excel('files/travel_changeFromSameMonth2019.xlsx')\n",
    "data_excel.head()"
   ]
  },
  {
   "cell_type": "code",
   "execution_count": 16,
   "id": "deddcc44-d953-43c2-a89e-987d56b78bd4",
   "metadata": {},
   "outputs": [],
   "source": [
    "#data_excel['Month']"
   ]
  },
  {
   "cell_type": "code",
   "execution_count": 18,
   "id": "7196f9ef",
   "metadata": {
    "slideshow": {
     "slide_type": "slide"
    }
   },
   "outputs": [
    {
     "data": {
      "text/html": [
       "<div>\n",
       "<style scoped>\n",
       "    .dataframe tbody tr th:only-of-type {\n",
       "        vertical-align: middle;\n",
       "    }\n",
       "\n",
       "    .dataframe tbody tr th {\n",
       "        vertical-align: top;\n",
       "    }\n",
       "\n",
       "    .dataframe thead th {\n",
       "        text-align: right;\n",
       "    }\n",
       "</style>\n",
       "<table border=\"1\" class=\"dataframe\">\n",
       "  <thead>\n",
       "    <tr style=\"text-align: right;\">\n",
       "      <th></th>\n",
       "      <th>EU</th>\n",
       "      <th>Norge</th>\n",
       "    </tr>\n",
       "    <tr>\n",
       "      <th>Month</th>\n",
       "      <th></th>\n",
       "      <th></th>\n",
       "    </tr>\n",
       "  </thead>\n",
       "  <tbody>\n",
       "    <tr>\n",
       "      <th>2020-01-01</th>\n",
       "      <td>4.95</td>\n",
       "      <td>9.30</td>\n",
       "    </tr>\n",
       "    <tr>\n",
       "      <th>2020-02-01</th>\n",
       "      <td>6.15</td>\n",
       "      <td>13.01</td>\n",
       "    </tr>\n",
       "    <tr>\n",
       "      <th>2020-03-01</th>\n",
       "      <td>-61.04</td>\n",
       "      <td>-54.72</td>\n",
       "    </tr>\n",
       "    <tr>\n",
       "      <th>2020-04-01</th>\n",
       "      <td>-95.24</td>\n",
       "      <td>-84.19</td>\n",
       "    </tr>\n",
       "    <tr>\n",
       "      <th>2020-05-01</th>\n",
       "      <td>-89.54</td>\n",
       "      <td>-62.28</td>\n",
       "    </tr>\n",
       "  </tbody>\n",
       "</table>\n",
       "</div>"
      ],
      "text/plain": [
       "               EU  Norge\n",
       "Month                   \n",
       "2020-01-01   4.95   9.30\n",
       "2020-02-01   6.15  13.01\n",
       "2020-03-01 -61.04 -54.72\n",
       "2020-04-01 -95.24 -84.19\n",
       "2020-05-01 -89.54 -62.28"
      ]
     },
     "execution_count": 18,
     "metadata": {},
     "output_type": "execute_result"
    }
   ],
   "source": [
    "# We can get Pandas to read the dates for us \n",
    "\n",
    "data_excel = pd.read_excel('files/travel_changeFromSameMonth2019.xlsx',\n",
    "                     index_col=[0],\n",
    "                     parse_dates=True)\n",
    "data_excel.head()"
   ]
  },
  {
   "cell_type": "code",
   "execution_count": 19,
   "id": "6612160b",
   "metadata": {},
   "outputs": [
    {
     "data": {
      "text/plain": [
       "DatetimeIndex(['2020-01-01', '2020-02-01', '2020-03-01', '2020-04-01',\n",
       "               '2020-05-01', '2020-06-01', '2020-07-01', '2020-08-01',\n",
       "               '2020-09-01', '2020-10-01', '2020-11-01', '2020-12-01',\n",
       "               '2021-01-01', '2021-02-01', '2021-03-01', '2021-04-01',\n",
       "               '2021-05-01', '2021-06-01', '2021-07-01', '2021-08-01',\n",
       "               '2021-09-01', '2021-10-01', '2021-11-01'],\n",
       "              dtype='datetime64[ns]', name='Month', freq=None)"
      ]
     },
     "execution_count": 19,
     "metadata": {},
     "output_type": "execute_result"
    }
   ],
   "source": [
    "data_excel.index"
   ]
  },
  {
   "cell_type": "code",
   "execution_count": 20,
   "id": "242ecf07",
   "metadata": {},
   "outputs": [
    {
     "data": {
      "text/plain": [
       "<Axes: xlabel='Month'>"
      ]
     },
     "execution_count": 20,
     "metadata": {},
     "output_type": "execute_result"
    },
    {
     "data": {
      "image/png": "[encoded data removed]",
      "text/plain": [
       "<Figure size 640x480 with 1 Axes>"
      ]
     },
     "metadata": {},
     "output_type": "display_data"
    }
   ],
   "source": [
    "data_excel.plot()"
   ]
  },
  {
   "cell_type": "markdown",
   "id": "a6e99205",
   "metadata": {
    "slideshow": {
     "slide_type": "slide"
    }
   },
   "source": [
    "## From csv (Comma Separated Values):"
   ]
  },
  {
   "cell_type": "code",
   "execution_count": 21,
   "id": "0d079fa1",
   "metadata": {},
   "outputs": [
    {
     "data": {
      "text/plain": [
       "Index(['Jan-20', 'Feb-20', 'Mar-20', 'Apr-20', 'May-20', 'Jun-20', 'Jul-20',\n",
       "       'Aug-20', 'Sep-20', 'Oct-20', 'Nov-20', 'Dec-20', 'Jan-21', 'Feb-21',\n",
       "       'Mar-21', 'Apr-21', 'May-21', 'Jun-21', 'Jul-21', 'Aug-21', 'Sep-21',\n",
       "       'Oct-21', 'Nov-21'],\n",
       "      dtype='object', name='Month')"
      ]
     },
     "execution_count": 21,
     "metadata": {},
     "output_type": "execute_result"
    }
   ],
   "source": [
    "# Reading a csv-file\n",
    "\n",
    "data_csv = pd.read_csv('files/travel_changeFromSameMonth2019.csv',\n",
    "                      index_col=[0],\n",
    "                      parse_dates=True)\n",
    "data_csv.index"
   ]
  },
  {
   "cell_type": "markdown",
   "id": "8dcc015b",
   "metadata": {
    "slideshow": {
     "slide_type": "slide"
    }
   },
   "source": [
    "## Save dataframe as a csv-file"
   ]
  },
  {
   "cell_type": "code",
   "execution_count": 22,
   "id": "1e324ca2",
   "metadata": {},
   "outputs": [
    {
     "data": {
      "text/html": [
       "<div>\n",
       "<style scoped>\n",
       "    .dataframe tbody tr th:only-of-type {\n",
       "        vertical-align: middle;\n",
       "    }\n",
       "\n",
       "    .dataframe tbody tr th {\n",
       "        vertical-align: top;\n",
       "    }\n",
       "\n",
       "    .dataframe thead th {\n",
       "        text-align: right;\n",
       "    }\n",
       "</style>\n",
       "<table border=\"1\" class=\"dataframe\">\n",
       "  <thead>\n",
       "    <tr style=\"text-align: right;\">\n",
       "      <th></th>\n",
       "      <th>A</th>\n",
       "      <th>B</th>\n",
       "      <th>C</th>\n",
       "      <th>D</th>\n",
       "      <th>E</th>\n",
       "    </tr>\n",
       "  </thead>\n",
       "  <tbody>\n",
       "    <tr>\n",
       "      <th>2015-12-31</th>\n",
       "      <td>-1.221713</td>\n",
       "      <td>0.288369</td>\n",
       "      <td>0.965570</td>\n",
       "      <td>-1.532735</td>\n",
       "      <td>0.158710</td>\n",
       "    </tr>\n",
       "    <tr>\n",
       "      <th>2016-12-31</th>\n",
       "      <td>2.632335</td>\n",
       "      <td>1.027693</td>\n",
       "      <td>-0.865547</td>\n",
       "      <td>0.708637</td>\n",
       "      <td>0.506467</td>\n",
       "    </tr>\n",
       "    <tr>\n",
       "      <th>2017-12-31</th>\n",
       "      <td>-0.103834</td>\n",
       "      <td>-0.775180</td>\n",
       "      <td>0.437511</td>\n",
       "      <td>-0.898132</td>\n",
       "      <td>-0.016043</td>\n",
       "    </tr>\n",
       "    <tr>\n",
       "      <th>2018-12-31</th>\n",
       "      <td>2.024931</td>\n",
       "      <td>-0.265221</td>\n",
       "      <td>1.415357</td>\n",
       "      <td>0.272922</td>\n",
       "      <td>1.369640</td>\n",
       "    </tr>\n",
       "    <tr>\n",
       "      <th>2019-12-31</th>\n",
       "      <td>-1.114263</td>\n",
       "      <td>1.556677</td>\n",
       "      <td>-0.364606</td>\n",
       "      <td>-3.540534</td>\n",
       "      <td>0.409568</td>\n",
       "    </tr>\n",
       "  </tbody>\n",
       "</table>\n",
       "</div>"
      ],
      "text/plain": [
       "                   A         B         C         D         E\n",
       "2015-12-31 -1.221713  0.288369  0.965570 -1.532735  0.158710\n",
       "2016-12-31  2.632335  1.027693 -0.865547  0.708637  0.506467\n",
       "2017-12-31 -0.103834 -0.775180  0.437511 -0.898132 -0.016043\n",
       "2018-12-31  2.024931 -0.265221  1.415357  0.272922  1.369640\n",
       "2019-12-31 -1.114263  1.556677 -0.364606 -3.540534  0.409568"
      ]
     },
     "execution_count": 22,
     "metadata": {},
     "output_type": "execute_result"
    }
   ],
   "source": [
    "# Let's create some random data \n",
    "import numpy as np\n",
    "\n",
    "df1 = pd.DataFrame(np.random.randn(30,5),\n",
    "                   columns=list('ABCDE'),\n",
    "                   index=pd.date_range('1990-01-01', periods=30, freq='A'))\n",
    "df1.tail()"
   ]
  },
  {
   "cell_type": "code",
   "execution_count": 23,
   "id": "ca569aba",
   "metadata": {
    "slideshow": {
     "slide_type": "fragment"
    }
   },
   "outputs": [],
   "source": [
    "# The .to_csv method saves the dataframe as a csv file\n",
    "\n",
    "df1.to_csv('random_numbers10.csv')"
   ]
  },
  {
   "cell_type": "code",
   "execution_count": null,
   "id": "a24956cd-0510-411e-9197-024a6cd8845b",
   "metadata": {},
   "outputs": [],
   "source": []
  }
 ],
 "metadata": {
  "celltoolbar": "Slideshow",
  "kernelspec": {
   "display_name": "Python 3 (ipykernel)",
   "language": "python",
   "name": "python3"
  },
  "language_info": {
   "codemirror_mode": {
    "name": "ipython",
    "version": 3
   },
   "file_extension": ".py",
   "mimetype": "text/x-python",
   "name": "python",
   "nbconvert_exporter": "python",
   "pygments_lexer": "ipython3",
   "version": "3.10.8"
  }
 },
 "nbformat": 4,
 "nbformat_minor": 5
}
