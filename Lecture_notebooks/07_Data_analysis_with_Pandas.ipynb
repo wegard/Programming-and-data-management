{
 "cells": [
  {
   "cell_type": "markdown",
   "id": "613e4709",
   "metadata": {
    "slideshow": {
     "slide_type": "slide"
    }
   },
   "source": [
    "# Data frames with Pandas\n",
    "\n",
    "## Programming and Data Management (EDI 3400)\n",
    "\n",
    "### *Vegard H. Larsen (Department of Data Science and Analytics)*"
   ]
  },
  {
   "cell_type": "markdown",
   "id": "49738009",
   "metadata": {
    "slideshow": {
     "slide_type": "slide"
    }
   },
   "source": [
    "# 1. What is Pandas?"
   ]
  },
  {
   "cell_type": "markdown",
   "id": "b4c70e84",
   "metadata": {
    "slideshow": {
     "slide_type": "slide"
    }
   },
   "source": [
    "## Introduction to Pandas\n",
    "\n",
    "- A library that makes working with multidimensional structured and tabular data fast and easy"
   ]
  },
  {
   "cell_type": "markdown",
   "id": "cfe6bcc0",
   "metadata": {
    "slideshow": {
     "slide_type": "fragment"
    }
   },
   "source": [
    "- The name is derived from *panel data* and *Python data analysis* "
   ]
  },
  {
   "cell_type": "markdown",
   "id": "657c167e",
   "metadata": {
    "slideshow": {
     "slide_type": "fragment"
    }
   },
   "source": [
    "- Built in support for working with time series data"
   ]
  },
  {
   "cell_type": "markdown",
   "id": "6b2275eb",
   "metadata": {
    "slideshow": {
     "slide_type": "fragment"
    }
   },
   "source": [
    "- Provides Excel-like functionality to Python"
   ]
  },
  {
   "cell_type": "markdown",
   "id": "0d7f2df8",
   "metadata": {
    "slideshow": {
     "slide_type": "fragment"
    }
   },
   "source": [
    "- Makes data cleaning and analysis fast and convenient in Python"
   ]
  },
  {
   "cell_type": "markdown",
   "id": "e98fcb2b",
   "metadata": {
    "slideshow": {
     "slide_type": "slide"
    }
   },
   "source": [
    "## Importing Pandas \n",
    "\n",
    "- As with NumPy there is a common import convention for Pandas"
   ]
  },
  {
   "cell_type": "code",
   "execution_count": 1,
   "id": "dfe6d119",
   "metadata": {
    "slideshow": {
     "slide_type": "fragment"
    }
   },
   "outputs": [],
   "source": [
    "import pandas as pd"
   ]
  },
  {
   "cell_type": "code",
   "execution_count": 3,
   "id": "f8060a9b",
   "metadata": {
    "slideshow": {
     "slide_type": "fragment"
    }
   },
   "outputs": [
    {
     "data": {
      "text/plain": [
       "'1.4.3'"
      ]
     },
     "execution_count": 3,
     "metadata": {},
     "output_type": "execute_result"
    }
   ],
   "source": [
    "pd.__version__"
   ]
  },
  {
   "cell_type": "markdown",
   "id": "70e4385a",
   "metadata": {
    "slideshow": {
     "slide_type": "slide"
    }
   },
   "source": [
    "# 2. Pandas data structures "
   ]
  },
  {
   "cell_type": "markdown",
   "id": "c158480d",
   "metadata": {
    "slideshow": {
     "slide_type": "slide"
    }
   },
   "source": [
    "## Data structures in `Pandas`\n",
    "\n",
    "1. Series - One dimensional array of data \n",
    "2. DataFrame - Can consist of many Series as columns in the DataFrame\n",
    "3. Panel - Can consist of many DataFrames (will not be covered in this course)"
   ]
  },
  {
   "cell_type": "markdown",
   "id": "e1921e10",
   "metadata": {
    "slideshow": {
     "slide_type": "slide"
    }
   },
   "source": [
    "## Pandas Series-object\n",
    "\n",
    "- A one-dimensional labeled array capable of holding any data type (integers, strings, floating point numbers, Python objects, etc.)"
   ]
  },
  {
   "cell_type": "code",
   "execution_count": 14,
   "id": "9fbfab19",
   "metadata": {},
   "outputs": [],
   "source": [
    "import pandas as pd\n",
    "\n",
    "series1 = pd.Series([100, 200, 300, 400])"
   ]
  },
  {
   "cell_type": "code",
   "execution_count": 15,
   "id": "bfe4fb91",
   "metadata": {},
   "outputs": [
    {
     "data": {
      "text/plain": [
       "0    100\n",
       "1    200\n",
       "2    300\n",
       "3    400\n",
       "dtype: int64"
      ]
     },
     "execution_count": 15,
     "metadata": {},
     "output_type": "execute_result"
    }
   ],
   "source": [
    "series1"
   ]
  },
  {
   "cell_type": "code",
   "execution_count": 11,
   "id": "68118c67",
   "metadata": {},
   "outputs": [
    {
     "data": {
      "text/plain": [
       "pandas.core.series.Series"
      ]
     },
     "execution_count": 11,
     "metadata": {},
     "output_type": "execute_result"
    }
   ],
   "source": [
    "type(series1)"
   ]
  },
  {
   "cell_type": "markdown",
   "id": "840fbb19",
   "metadata": {
    "slideshow": {
     "slide_type": "slide"
    }
   },
   "source": [
    "## Working with the Series"
   ]
  },
  {
   "cell_type": "code",
   "execution_count": 16,
   "id": "0c29ad8e",
   "metadata": {},
   "outputs": [
    {
     "data": {
      "text/plain": [
       "100"
      ]
     },
     "execution_count": 16,
     "metadata": {},
     "output_type": "execute_result"
    }
   ],
   "source": [
    "# Getting out values\n",
    "\n",
    "series1[0]"
   ]
  },
  {
   "cell_type": "code",
   "execution_count": 17,
   "id": "8d85db45",
   "metadata": {
    "slideshow": {
     "slide_type": "fragment"
    }
   },
   "outputs": [],
   "source": [
    "# Assigning values\n",
    "\n",
    "series1[1] = 1234"
   ]
  },
  {
   "cell_type": "code",
   "execution_count": 18,
   "id": "3a4dece9",
   "metadata": {
    "slideshow": {
     "slide_type": "fragment"
    }
   },
   "outputs": [
    {
     "data": {
      "text/plain": [
       "0     100\n",
       "1    1234\n",
       "2     300\n",
       "3     400\n",
       "dtype: int64"
      ]
     },
     "execution_count": 18,
     "metadata": {},
     "output_type": "execute_result"
    }
   ],
   "source": [
    "series1"
   ]
  },
  {
   "cell_type": "code",
   "execution_count": 19,
   "id": "6e3c36e5",
   "metadata": {
    "slideshow": {
     "slide_type": "fragment"
    }
   },
   "outputs": [
    {
     "data": {
      "text/plain": [
       "1    1234\n",
       "2     300\n",
       "dtype: int64"
      ]
     },
     "execution_count": 19,
     "metadata": {},
     "output_type": "execute_result"
    }
   ],
   "source": [
    "# Slicing\n",
    "\n",
    "series1[1:3]"
   ]
  },
  {
   "cell_type": "markdown",
   "id": "2843e001",
   "metadata": {
    "slideshow": {
     "slide_type": "slide"
    }
   },
   "source": [
    "## Numerical operations "
   ]
  },
  {
   "cell_type": "code",
   "execution_count": 20,
   "id": "8aa93b32",
   "metadata": {},
   "outputs": [],
   "source": [
    "# We can initialize a Series from a dictionary\n",
    "\n",
    "s1 = pd.Series({'a': 10, 'b': 20, 'c': 30})\n",
    "s2 = pd.Series({'a': 0.1, 'b': 0.2, 'c':0.3, 'd':0.4, 'e': 0.5})"
   ]
  },
  {
   "cell_type": "code",
   "execution_count": 24,
   "id": "c0caa25a",
   "metadata": {},
   "outputs": [],
   "source": [
    "#s2"
   ]
  },
  {
   "cell_type": "code",
   "execution_count": 23,
   "id": "f551aa5b",
   "metadata": {
    "slideshow": {
     "slide_type": "fragment"
    }
   },
   "outputs": [
    {
     "data": {
      "text/plain": [
       "a    20\n",
       "b    40\n",
       "c    60\n",
       "dtype: int64"
      ]
     },
     "execution_count": 23,
     "metadata": {},
     "output_type": "execute_result"
    }
   ],
   "source": [
    "s1 * 2"
   ]
  },
  {
   "cell_type": "code",
   "execution_count": 26,
   "id": "0192b31f",
   "metadata": {
    "slideshow": {
     "slide_type": "fragment"
    }
   },
   "outputs": [
    {
     "data": {
      "text/plain": [
       "a    10.1\n",
       "b    20.2\n",
       "c    30.3\n",
       "d     NaN\n",
       "e     NaN\n",
       "dtype: float64"
      ]
     },
     "execution_count": 26,
     "metadata": {},
     "output_type": "execute_result"
    }
   ],
   "source": [
    "s3 = s1 + s2\n",
    "s3"
   ]
  },
  {
   "cell_type": "markdown",
   "id": "cde1637a",
   "metadata": {
    "slideshow": {
     "slide_type": "slide"
    }
   },
   "source": [
    "## Series methods"
   ]
  },
  {
   "cell_type": "code",
   "execution_count": 29,
   "id": "08903fb5",
   "metadata": {},
   "outputs": [
    {
     "data": {
      "text/plain": [
       "a    10.1\n",
       "b    20.2\n",
       "c    30.3\n",
       "d     NaN\n",
       "e     NaN\n",
       "dtype: float64"
      ]
     },
     "execution_count": 29,
     "metadata": {},
     "output_type": "execute_result"
    }
   ],
   "source": [
    "# Drop nans\n",
    "\n",
    "s3.dropna()\n",
    "s3"
   ]
  },
  {
   "cell_type": "code",
   "execution_count": 31,
   "id": "25aec94c",
   "metadata": {
    "slideshow": {
     "slide_type": "fragment"
    }
   },
   "outputs": [
    {
     "data": {
      "text/plain": [
       "b    20.2\n",
       "c    30.3\n",
       "d     NaN\n",
       "dtype: float64"
      ]
     },
     "execution_count": 31,
     "metadata": {},
     "output_type": "execute_result"
    }
   ],
   "source": [
    "# Drop particular indexes\n",
    "\n",
    "s3.drop(['a', 'e'])"
   ]
  },
  {
   "cell_type": "code",
   "execution_count": 32,
   "id": "f7f551e0",
   "metadata": {
    "slideshow": {
     "slide_type": "fragment"
    }
   },
   "outputs": [
    {
     "data": {
      "text/plain": [
       "a    10.0\n",
       "b    20.0\n",
       "c    30.0\n",
       "a     0.1\n",
       "b     0.2\n",
       "c     0.3\n",
       "d     0.4\n",
       "e     0.5\n",
       "dtype: float64"
      ]
     },
     "execution_count": 32,
     "metadata": {},
     "output_type": "execute_result"
    }
   ],
   "source": [
    "# We can concatenate data\n",
    "\n",
    "pd.concat([s1,s2])"
   ]
  },
  {
   "cell_type": "markdown",
   "id": "b157401c",
   "metadata": {
    "slideshow": {
     "slide_type": "slide"
    }
   },
   "source": [
    "## Pandas DataFrame-object"
   ]
  },
  {
   "cell_type": "code",
   "execution_count": 37,
   "id": "10caf1f6",
   "metadata": {},
   "outputs": [],
   "source": [
    "import pandas as pd\n",
    "\n",
    "content = [['a', 1, 'apple'], \n",
    "           ['b', 2, 'banana'], \n",
    "           ['c', 3, 'orange']]\n",
    "\n",
    "dataframe1 = pd.DataFrame(content,\n",
    "                          columns=['letter', 'number', 'fruit'],\n",
    "                          index=['one', 'two', 'three'])"
   ]
  },
  {
   "cell_type": "code",
   "execution_count": 38,
   "id": "2c472e9e",
   "metadata": {
    "slideshow": {
     "slide_type": "fragment"
    }
   },
   "outputs": [
    {
     "data": {
      "text/html": [
       "<div>\n",
       "<style scoped>\n",
       "    .dataframe tbody tr th:only-of-type {\n",
       "        vertical-align: middle;\n",
       "    }\n",
       "\n",
       "    .dataframe tbody tr th {\n",
       "        vertical-align: top;\n",
       "    }\n",
       "\n",
       "    .dataframe thead th {\n",
       "        text-align: right;\n",
       "    }\n",
       "</style>\n",
       "<table border=\"1\" class=\"dataframe\">\n",
       "  <thead>\n",
       "    <tr style=\"text-align: right;\">\n",
       "      <th></th>\n",
       "      <th>letter</th>\n",
       "      <th>number</th>\n",
       "      <th>fruit</th>\n",
       "    </tr>\n",
       "  </thead>\n",
       "  <tbody>\n",
       "    <tr>\n",
       "      <th>one</th>\n",
       "      <td>a</td>\n",
       "      <td>1</td>\n",
       "      <td>apple</td>\n",
       "    </tr>\n",
       "    <tr>\n",
       "      <th>two</th>\n",
       "      <td>b</td>\n",
       "      <td>2</td>\n",
       "      <td>banana</td>\n",
       "    </tr>\n",
       "    <tr>\n",
       "      <th>three</th>\n",
       "      <td>c</td>\n",
       "      <td>3</td>\n",
       "      <td>orange</td>\n",
       "    </tr>\n",
       "  </tbody>\n",
       "</table>\n",
       "</div>"
      ],
      "text/plain": [
       "      letter  number   fruit\n",
       "one        a       1   apple\n",
       "two        b       2  banana\n",
       "three      c       3  orange"
      ]
     },
     "execution_count": 38,
     "metadata": {},
     "output_type": "execute_result"
    }
   ],
   "source": [
    "dataframe1"
   ]
  },
  {
   "cell_type": "code",
   "execution_count": 39,
   "id": "cdcd1f22",
   "metadata": {
    "slideshow": {
     "slide_type": "fragment"
    }
   },
   "outputs": [
    {
     "data": {
      "text/plain": [
       "pandas.core.frame.DataFrame"
      ]
     },
     "execution_count": 39,
     "metadata": {},
     "output_type": "execute_result"
    }
   ],
   "source": [
    "type(dataframe1)"
   ]
  },
  {
   "cell_type": "markdown",
   "id": "c4f36650",
   "metadata": {
    "slideshow": {
     "slide_type": "slide"
    }
   },
   "source": [
    "## Working with the DataFrame"
   ]
  },
  {
   "cell_type": "code",
   "execution_count": 40,
   "id": "a00bf2e6",
   "metadata": {},
   "outputs": [],
   "source": [
    "column_fruit = dataframe1['fruit']"
   ]
  },
  {
   "cell_type": "code",
   "execution_count": 41,
   "id": "56aeb82f",
   "metadata": {
    "slideshow": {
     "slide_type": "fragment"
    }
   },
   "outputs": [
    {
     "data": {
      "text/plain": [
       "one       apple\n",
       "two      banana\n",
       "three    orange\n",
       "Name: fruit, dtype: object"
      ]
     },
     "execution_count": 41,
     "metadata": {},
     "output_type": "execute_result"
    }
   ],
   "source": [
    "column_fruit"
   ]
  },
  {
   "cell_type": "code",
   "execution_count": 42,
   "id": "b037046b",
   "metadata": {
    "slideshow": {
     "slide_type": "fragment"
    }
   },
   "outputs": [
    {
     "data": {
      "text/plain": [
       "pandas.core.series.Series"
      ]
     },
     "execution_count": 42,
     "metadata": {},
     "output_type": "execute_result"
    }
   ],
   "source": [
    "type(column_fruit)"
   ]
  },
  {
   "cell_type": "code",
   "execution_count": 46,
   "id": "8d88f15e",
   "metadata": {
    "slideshow": {
     "slide_type": "fragment"
    }
   },
   "outputs": [],
   "source": [
    "# Use loc to access a row from the DataFrame\n",
    "\n",
    "row_1 = dataframe1.loc['two']"
   ]
  },
  {
   "cell_type": "code",
   "execution_count": null,
   "id": "ca21203c",
   "metadata": {
    "slideshow": {
     "slide_type": "fragment"
    }
   },
   "outputs": [],
   "source": [
    "row_1"
   ]
  },
  {
   "cell_type": "code",
   "execution_count": 51,
   "id": "50769692",
   "metadata": {
    "slideshow": {
     "slide_type": "slide"
    }
   },
   "outputs": [],
   "source": [
    "## Use iloc to access row by numerical index\n",
    "\n",
    "row_0 = dataframe1.iloc[0]"
   ]
  },
  {
   "cell_type": "code",
   "execution_count": 52,
   "id": "b98c0d45",
   "metadata": {},
   "outputs": [
    {
     "data": {
      "text/plain": [
       "letter        a\n",
       "number        1\n",
       "fruit     apple\n",
       "Name: one, dtype: object"
      ]
     },
     "execution_count": 52,
     "metadata": {},
     "output_type": "execute_result"
    }
   ],
   "source": [
    "row_0"
   ]
  },
  {
   "cell_type": "markdown",
   "id": "9e881280",
   "metadata": {
    "slideshow": {
     "slide_type": "slide"
    }
   },
   "source": [
    "## Viewing data"
   ]
  },
  {
   "cell_type": "code",
   "execution_count": 53,
   "id": "22474690",
   "metadata": {
    "slideshow": {
     "slide_type": "-"
    }
   },
   "outputs": [],
   "source": [
    "import numpy as np\n",
    "\n",
    "df = pd.DataFrame(np.random.randn(10, 4), columns=list(\"ABCD\"))"
   ]
  },
  {
   "cell_type": "code",
   "execution_count": 59,
   "id": "201bb4ab",
   "metadata": {
    "slideshow": {
     "slide_type": "fragment"
    }
   },
   "outputs": [
    {
     "data": {
      "text/html": [
       "<div>\n",
       "<style scoped>\n",
       "    .dataframe tbody tr th:only-of-type {\n",
       "        vertical-align: middle;\n",
       "    }\n",
       "\n",
       "    .dataframe tbody tr th {\n",
       "        vertical-align: top;\n",
       "    }\n",
       "\n",
       "    .dataframe thead th {\n",
       "        text-align: right;\n",
       "    }\n",
       "</style>\n",
       "<table border=\"1\" class=\"dataframe\">\n",
       "  <thead>\n",
       "    <tr style=\"text-align: right;\">\n",
       "      <th></th>\n",
       "      <th>A</th>\n",
       "      <th>B</th>\n",
       "      <th>C</th>\n",
       "      <th>D</th>\n",
       "    </tr>\n",
       "  </thead>\n",
       "  <tbody>\n",
       "    <tr>\n",
       "      <th>0</th>\n",
       "      <td>0.048003</td>\n",
       "      <td>-0.311576</td>\n",
       "      <td>0.475624</td>\n",
       "      <td>-0.837858</td>\n",
       "    </tr>\n",
       "    <tr>\n",
       "      <th>1</th>\n",
       "      <td>0.764411</td>\n",
       "      <td>-0.035336</td>\n",
       "      <td>1.142878</td>\n",
       "      <td>0.431611</td>\n",
       "    </tr>\n",
       "    <tr>\n",
       "      <th>2</th>\n",
       "      <td>-0.343368</td>\n",
       "      <td>0.385761</td>\n",
       "      <td>0.107401</td>\n",
       "      <td>-1.081799</td>\n",
       "    </tr>\n",
       "    <tr>\n",
       "      <th>3</th>\n",
       "      <td>-1.103213</td>\n",
       "      <td>0.502092</td>\n",
       "      <td>-0.678882</td>\n",
       "      <td>-1.169768</td>\n",
       "    </tr>\n",
       "    <tr>\n",
       "      <th>4</th>\n",
       "      <td>0.476283</td>\n",
       "      <td>-1.402776</td>\n",
       "      <td>0.521169</td>\n",
       "      <td>1.707509</td>\n",
       "    </tr>\n",
       "    <tr>\n",
       "      <th>5</th>\n",
       "      <td>1.623976</td>\n",
       "      <td>-0.030747</td>\n",
       "      <td>-0.119428</td>\n",
       "      <td>0.908778</td>\n",
       "    </tr>\n",
       "    <tr>\n",
       "      <th>6</th>\n",
       "      <td>0.990950</td>\n",
       "      <td>-0.243088</td>\n",
       "      <td>-0.205306</td>\n",
       "      <td>0.320280</td>\n",
       "    </tr>\n",
       "    <tr>\n",
       "      <th>7</th>\n",
       "      <td>-0.358987</td>\n",
       "      <td>-0.844497</td>\n",
       "      <td>-1.060406</td>\n",
       "      <td>0.780869</td>\n",
       "    </tr>\n",
       "    <tr>\n",
       "      <th>8</th>\n",
       "      <td>0.268285</td>\n",
       "      <td>-1.679845</td>\n",
       "      <td>-0.851243</td>\n",
       "      <td>1.226916</td>\n",
       "    </tr>\n",
       "    <tr>\n",
       "      <th>9</th>\n",
       "      <td>-0.321414</td>\n",
       "      <td>-0.748595</td>\n",
       "      <td>-1.302138</td>\n",
       "      <td>0.268000</td>\n",
       "    </tr>\n",
       "  </tbody>\n",
       "</table>\n",
       "</div>"
      ],
      "text/plain": [
       "          A         B         C         D\n",
       "0  0.048003 -0.311576  0.475624 -0.837858\n",
       "1  0.764411 -0.035336  1.142878  0.431611\n",
       "2 -0.343368  0.385761  0.107401 -1.081799\n",
       "3 -1.103213  0.502092 -0.678882 -1.169768\n",
       "4  0.476283 -1.402776  0.521169  1.707509\n",
       "5  1.623976 -0.030747 -0.119428  0.908778\n",
       "6  0.990950 -0.243088 -0.205306  0.320280\n",
       "7 -0.358987 -0.844497 -1.060406  0.780869\n",
       "8  0.268285 -1.679845 -0.851243  1.226916\n",
       "9 -0.321414 -0.748595 -1.302138  0.268000"
      ]
     },
     "execution_count": 59,
     "metadata": {},
     "output_type": "execute_result"
    }
   ],
   "source": [
    "# Look at the 3 first rows\n",
    "\n",
    "df.head(10)"
   ]
  },
  {
   "cell_type": "code",
   "execution_count": 58,
   "id": "19bcacff",
   "metadata": {
    "slideshow": {
     "slide_type": "fragment"
    }
   },
   "outputs": [
    {
     "data": {
      "text/html": [
       "<div>\n",
       "<style scoped>\n",
       "    .dataframe tbody tr th:only-of-type {\n",
       "        vertical-align: middle;\n",
       "    }\n",
       "\n",
       "    .dataframe tbody tr th {\n",
       "        vertical-align: top;\n",
       "    }\n",
       "\n",
       "    .dataframe thead th {\n",
       "        text-align: right;\n",
       "    }\n",
       "</style>\n",
       "<table border=\"1\" class=\"dataframe\">\n",
       "  <thead>\n",
       "    <tr style=\"text-align: right;\">\n",
       "      <th></th>\n",
       "      <th>A</th>\n",
       "      <th>B</th>\n",
       "      <th>C</th>\n",
       "      <th>D</th>\n",
       "    </tr>\n",
       "  </thead>\n",
       "  <tbody>\n",
       "    <tr>\n",
       "      <th>7</th>\n",
       "      <td>-0.358987</td>\n",
       "      <td>-0.844497</td>\n",
       "      <td>-1.060406</td>\n",
       "      <td>0.780869</td>\n",
       "    </tr>\n",
       "    <tr>\n",
       "      <th>8</th>\n",
       "      <td>0.268285</td>\n",
       "      <td>-1.679845</td>\n",
       "      <td>-0.851243</td>\n",
       "      <td>1.226916</td>\n",
       "    </tr>\n",
       "    <tr>\n",
       "      <th>9</th>\n",
       "      <td>-0.321414</td>\n",
       "      <td>-0.748595</td>\n",
       "      <td>-1.302138</td>\n",
       "      <td>0.268000</td>\n",
       "    </tr>\n",
       "  </tbody>\n",
       "</table>\n",
       "</div>"
      ],
      "text/plain": [
       "          A         B         C         D\n",
       "7 -0.358987 -0.844497 -1.060406  0.780869\n",
       "8  0.268285 -1.679845 -0.851243  1.226916\n",
       "9 -0.321414 -0.748595 -1.302138  0.268000"
      ]
     },
     "execution_count": 58,
     "metadata": {},
     "output_type": "execute_result"
    }
   ],
   "source": [
    "# Look at the 3 last rows\n",
    "\n",
    "df.tail(3)"
   ]
  },
  {
   "cell_type": "markdown",
   "id": "26e304ac",
   "metadata": {
    "slideshow": {
     "slide_type": "slide"
    }
   },
   "source": [
    "## Sorting data"
   ]
  },
  {
   "cell_type": "code",
   "execution_count": 61,
   "id": "c996ea48",
   "metadata": {},
   "outputs": [
    {
     "data": {
      "text/html": [
       "<div>\n",
       "<style scoped>\n",
       "    .dataframe tbody tr th:only-of-type {\n",
       "        vertical-align: middle;\n",
       "    }\n",
       "\n",
       "    .dataframe tbody tr th {\n",
       "        vertical-align: top;\n",
       "    }\n",
       "\n",
       "    .dataframe thead th {\n",
       "        text-align: right;\n",
       "    }\n",
       "</style>\n",
       "<table border=\"1\" class=\"dataframe\">\n",
       "  <thead>\n",
       "    <tr style=\"text-align: right;\">\n",
       "      <th></th>\n",
       "      <th>A</th>\n",
       "      <th>B</th>\n",
       "      <th>C</th>\n",
       "      <th>D</th>\n",
       "    </tr>\n",
       "  </thead>\n",
       "  <tbody>\n",
       "    <tr>\n",
       "      <th>3</th>\n",
       "      <td>-1.103213</td>\n",
       "      <td>0.502092</td>\n",
       "      <td>-0.678882</td>\n",
       "      <td>-1.169768</td>\n",
       "    </tr>\n",
       "    <tr>\n",
       "      <th>7</th>\n",
       "      <td>-0.358987</td>\n",
       "      <td>-0.844497</td>\n",
       "      <td>-1.060406</td>\n",
       "      <td>0.780869</td>\n",
       "    </tr>\n",
       "    <tr>\n",
       "      <th>2</th>\n",
       "      <td>-0.343368</td>\n",
       "      <td>0.385761</td>\n",
       "      <td>0.107401</td>\n",
       "      <td>-1.081799</td>\n",
       "    </tr>\n",
       "    <tr>\n",
       "      <th>9</th>\n",
       "      <td>-0.321414</td>\n",
       "      <td>-0.748595</td>\n",
       "      <td>-1.302138</td>\n",
       "      <td>0.268000</td>\n",
       "    </tr>\n",
       "    <tr>\n",
       "      <th>0</th>\n",
       "      <td>0.048003</td>\n",
       "      <td>-0.311576</td>\n",
       "      <td>0.475624</td>\n",
       "      <td>-0.837858</td>\n",
       "    </tr>\n",
       "    <tr>\n",
       "      <th>8</th>\n",
       "      <td>0.268285</td>\n",
       "      <td>-1.679845</td>\n",
       "      <td>-0.851243</td>\n",
       "      <td>1.226916</td>\n",
       "    </tr>\n",
       "    <tr>\n",
       "      <th>4</th>\n",
       "      <td>0.476283</td>\n",
       "      <td>-1.402776</td>\n",
       "      <td>0.521169</td>\n",
       "      <td>1.707509</td>\n",
       "    </tr>\n",
       "    <tr>\n",
       "      <th>1</th>\n",
       "      <td>0.764411</td>\n",
       "      <td>-0.035336</td>\n",
       "      <td>1.142878</td>\n",
       "      <td>0.431611</td>\n",
       "    </tr>\n",
       "    <tr>\n",
       "      <th>6</th>\n",
       "      <td>0.990950</td>\n",
       "      <td>-0.243088</td>\n",
       "      <td>-0.205306</td>\n",
       "      <td>0.320280</td>\n",
       "    </tr>\n",
       "    <tr>\n",
       "      <th>5</th>\n",
       "      <td>1.623976</td>\n",
       "      <td>-0.030747</td>\n",
       "      <td>-0.119428</td>\n",
       "      <td>0.908778</td>\n",
       "    </tr>\n",
       "  </tbody>\n",
       "</table>\n",
       "</div>"
      ],
      "text/plain": [
       "          A         B         C         D\n",
       "3 -1.103213  0.502092 -0.678882 -1.169768\n",
       "7 -0.358987 -0.844497 -1.060406  0.780869\n",
       "2 -0.343368  0.385761  0.107401 -1.081799\n",
       "9 -0.321414 -0.748595 -1.302138  0.268000\n",
       "0  0.048003 -0.311576  0.475624 -0.837858\n",
       "8  0.268285 -1.679845 -0.851243  1.226916\n",
       "4  0.476283 -1.402776  0.521169  1.707509\n",
       "1  0.764411 -0.035336  1.142878  0.431611\n",
       "6  0.990950 -0.243088 -0.205306  0.320280\n",
       "5  1.623976 -0.030747 -0.119428  0.908778"
      ]
     },
     "execution_count": 61,
     "metadata": {},
     "output_type": "execute_result"
    }
   ],
   "source": [
    "# We can sort by the values in a given column\n",
    "\n",
    "df.sort_values(by='A')"
   ]
  },
  {
   "cell_type": "markdown",
   "id": "2d63c0ca",
   "metadata": {
    "slideshow": {
     "slide_type": "slide"
    }
   },
   "source": [
    "## Slicing and selection"
   ]
  },
  {
   "cell_type": "code",
   "execution_count": 62,
   "id": "0d68a27e",
   "metadata": {},
   "outputs": [
    {
     "data": {
      "text/html": [
       "<div>\n",
       "<style scoped>\n",
       "    .dataframe tbody tr th:only-of-type {\n",
       "        vertical-align: middle;\n",
       "    }\n",
       "\n",
       "    .dataframe tbody tr th {\n",
       "        vertical-align: top;\n",
       "    }\n",
       "\n",
       "    .dataframe thead th {\n",
       "        text-align: right;\n",
       "    }\n",
       "</style>\n",
       "<table border=\"1\" class=\"dataframe\">\n",
       "  <thead>\n",
       "    <tr style=\"text-align: right;\">\n",
       "      <th></th>\n",
       "      <th>A</th>\n",
       "      <th>B</th>\n",
       "      <th>C</th>\n",
       "      <th>D</th>\n",
       "    </tr>\n",
       "  </thead>\n",
       "  <tbody>\n",
       "    <tr>\n",
       "      <th>6</th>\n",
       "      <td>0.990950</td>\n",
       "      <td>-0.243088</td>\n",
       "      <td>-0.205306</td>\n",
       "      <td>0.320280</td>\n",
       "    </tr>\n",
       "    <tr>\n",
       "      <th>7</th>\n",
       "      <td>-0.358987</td>\n",
       "      <td>-0.844497</td>\n",
       "      <td>-1.060406</td>\n",
       "      <td>0.780869</td>\n",
       "    </tr>\n",
       "  </tbody>\n",
       "</table>\n",
       "</div>"
      ],
      "text/plain": [
       "          A         B         C         D\n",
       "6  0.990950 -0.243088 -0.205306  0.320280\n",
       "7 -0.358987 -0.844497 -1.060406  0.780869"
      ]
     },
     "execution_count": 62,
     "metadata": {},
     "output_type": "execute_result"
    }
   ],
   "source": [
    "# Selecting via [] slices the rows\n",
    "\n",
    "df[6:8]"
   ]
  },
  {
   "cell_type": "code",
   "execution_count": 63,
   "id": "9f5661b0",
   "metadata": {
    "slideshow": {
     "slide_type": "slide"
    }
   },
   "outputs": [
    {
     "data": {
      "text/html": [
       "<div>\n",
       "<style scoped>\n",
       "    .dataframe tbody tr th:only-of-type {\n",
       "        vertical-align: middle;\n",
       "    }\n",
       "\n",
       "    .dataframe tbody tr th {\n",
       "        vertical-align: top;\n",
       "    }\n",
       "\n",
       "    .dataframe thead th {\n",
       "        text-align: right;\n",
       "    }\n",
       "</style>\n",
       "<table border=\"1\" class=\"dataframe\">\n",
       "  <thead>\n",
       "    <tr style=\"text-align: right;\">\n",
       "      <th></th>\n",
       "      <th>B</th>\n",
       "      <th>C</th>\n",
       "    </tr>\n",
       "  </thead>\n",
       "  <tbody>\n",
       "    <tr>\n",
       "      <th>0</th>\n",
       "      <td>-0.311576</td>\n",
       "      <td>0.475624</td>\n",
       "    </tr>\n",
       "    <tr>\n",
       "      <th>1</th>\n",
       "      <td>-0.035336</td>\n",
       "      <td>1.142878</td>\n",
       "    </tr>\n",
       "    <tr>\n",
       "      <th>2</th>\n",
       "      <td>0.385761</td>\n",
       "      <td>0.107401</td>\n",
       "    </tr>\n",
       "    <tr>\n",
       "      <th>3</th>\n",
       "      <td>0.502092</td>\n",
       "      <td>-0.678882</td>\n",
       "    </tr>\n",
       "    <tr>\n",
       "      <th>4</th>\n",
       "      <td>-1.402776</td>\n",
       "      <td>0.521169</td>\n",
       "    </tr>\n",
       "    <tr>\n",
       "      <th>5</th>\n",
       "      <td>-0.030747</td>\n",
       "      <td>-0.119428</td>\n",
       "    </tr>\n",
       "    <tr>\n",
       "      <th>6</th>\n",
       "      <td>-0.243088</td>\n",
       "      <td>-0.205306</td>\n",
       "    </tr>\n",
       "    <tr>\n",
       "      <th>7</th>\n",
       "      <td>-0.844497</td>\n",
       "      <td>-1.060406</td>\n",
       "    </tr>\n",
       "    <tr>\n",
       "      <th>8</th>\n",
       "      <td>-1.679845</td>\n",
       "      <td>-0.851243</td>\n",
       "    </tr>\n",
       "    <tr>\n",
       "      <th>9</th>\n",
       "      <td>-0.748595</td>\n",
       "      <td>-1.302138</td>\n",
       "    </tr>\n",
       "  </tbody>\n",
       "</table>\n",
       "</div>"
      ],
      "text/plain": [
       "          B         C\n",
       "0 -0.311576  0.475624\n",
       "1 -0.035336  1.142878\n",
       "2  0.385761  0.107401\n",
       "3  0.502092 -0.678882\n",
       "4 -1.402776  0.521169\n",
       "5 -0.030747 -0.119428\n",
       "6 -0.243088 -0.205306\n",
       "7 -0.844497 -1.060406\n",
       "8 -1.679845 -0.851243\n",
       "9 -0.748595 -1.302138"
      ]
     },
     "execution_count": 63,
     "metadata": {},
     "output_type": "execute_result"
    }
   ],
   "source": [
    "# We can also slice the columns\n",
    "\n",
    "df.iloc[:, 1:3]"
   ]
  },
  {
   "cell_type": "code",
   "execution_count": 64,
   "id": "34828101",
   "metadata": {
    "slideshow": {
     "slide_type": "slide"
    }
   },
   "outputs": [
    {
     "data": {
      "text/html": [
       "<div>\n",
       "<style scoped>\n",
       "    .dataframe tbody tr th:only-of-type {\n",
       "        vertical-align: middle;\n",
       "    }\n",
       "\n",
       "    .dataframe tbody tr th {\n",
       "        vertical-align: top;\n",
       "    }\n",
       "\n",
       "    .dataframe thead th {\n",
       "        text-align: right;\n",
       "    }\n",
       "</style>\n",
       "<table border=\"1\" class=\"dataframe\">\n",
       "  <thead>\n",
       "    <tr style=\"text-align: right;\">\n",
       "      <th></th>\n",
       "      <th>A</th>\n",
       "      <th>D</th>\n",
       "    </tr>\n",
       "  </thead>\n",
       "  <tbody>\n",
       "    <tr>\n",
       "      <th>0</th>\n",
       "      <td>0.048003</td>\n",
       "      <td>-0.837858</td>\n",
       "    </tr>\n",
       "    <tr>\n",
       "      <th>5</th>\n",
       "      <td>1.623976</td>\n",
       "      <td>0.908778</td>\n",
       "    </tr>\n",
       "    <tr>\n",
       "      <th>6</th>\n",
       "      <td>0.990950</td>\n",
       "      <td>0.320280</td>\n",
       "    </tr>\n",
       "    <tr>\n",
       "      <th>8</th>\n",
       "      <td>0.268285</td>\n",
       "      <td>1.226916</td>\n",
       "    </tr>\n",
       "  </tbody>\n",
       "</table>\n",
       "</div>"
      ],
      "text/plain": [
       "          A         D\n",
       "0  0.048003 -0.837858\n",
       "5  1.623976  0.908778\n",
       "6  0.990950  0.320280\n",
       "8  0.268285  1.226916"
      ]
     },
     "execution_count": 64,
     "metadata": {},
     "output_type": "execute_result"
    }
   ],
   "source": [
    "# We can also ask for very specific slices\n",
    "\n",
    "df.iloc[[0, 5, 6, 8], [0, 3]]"
   ]
  },
  {
   "cell_type": "markdown",
   "id": "2f4b093e",
   "metadata": {
    "slideshow": {
     "slide_type": "slide"
    }
   },
   "source": [
    "## In class exercises 1\n",
    "\n",
    "1. Create a dataframe with the following data about cities\n",
    "\n",
    "|    | City_name | Population  | Country  | Elevation  |\n",
    "|--- |---            |---|---|---|\n",
    "| 0  | 'Oslo'        | 699 827    | 'Norway'  | 23   |\n",
    "| 1  | 'Mexico City' | 9 209 944  | 'Mexico'  | 2250 |\n",
    "| 2  | 'Berlin'      | 3 613 500  | 'Germany' | 34   | \n",
    "| 3  | 'Tokyo'       | 13 482 040 | 'Japan'   | 6    |\n",
    "| 4  | 'Chicago'     | 2 714 856  | 'USA'     | 179  | \n",
    "| 5  | 'Bergen'      | 259 958    | 'Norway'  |  5   |\n",
    "\n",
    "2. Sort the dataframe by the elevation of the city (can you sort from high to low?)\n",
    "\n",
    "3. Sort the dataframe by the City_name\n",
    "\n",
    "4. Create a new dataframe that only has the Norwegian cities"
   ]
  },
  {
   "cell_type": "code",
   "execution_count": null,
   "id": "9ce4045c",
   "metadata": {
    "slideshow": {
     "slide_type": "slide"
    }
   },
   "outputs": [],
   "source": [
    "# Helper code\n",
    "\n",
    "data_list = [['Oslo', 699_827, 'Norway', 23],\n",
    "             ['Mexico City', 9_209_944, 'Mexico', 22500],\n",
    "             ['Berlin', 3_613_500, 'Germany', 34],\n",
    "             ['Tokyo', 13_482_040, 'Japan', 6],\n",
    "             ['Chicago', 2_714_856, 'USA', 179],\n",
    "             ['Bergen', 259_958, 'Norway', 5]]"
   ]
  },
  {
   "cell_type": "code",
   "execution_count": null,
   "id": "8d69e6f9",
   "metadata": {},
   "outputs": [],
   "source": [
    "# Your code can go here\n",
    "\n"
   ]
  },
  {
   "cell_type": "markdown",
   "id": "5f1dba43",
   "metadata": {
    "slideshow": {
     "slide_type": "slide"
    }
   },
   "source": [
    "# 3. Time series data"
   ]
  },
  {
   "cell_type": "markdown",
   "id": "92df05e6",
   "metadata": {
    "slideshow": {
     "slide_type": "slide"
    }
   },
   "source": [
    "## Pandas has great functionality for working with dates"
   ]
  },
  {
   "cell_type": "code",
   "execution_count": 78,
   "id": "520fd783",
   "metadata": {
    "slideshow": {
     "slide_type": "-"
    }
   },
   "outputs": [],
   "source": [
    "# We can create an index with dates \n",
    "\n",
    "dates = pd.date_range(start=\"2022-09-01\", periods=30, freq='M')"
   ]
  },
  {
   "cell_type": "code",
   "execution_count": 79,
   "id": "be976e95",
   "metadata": {},
   "outputs": [
    {
     "data": {
      "text/plain": [
       "DatetimeIndex(['2022-09-30', '2022-10-31', '2022-11-30', '2022-12-31',\n",
       "               '2023-01-31', '2023-02-28', '2023-03-31', '2023-04-30',\n",
       "               '2023-05-31', '2023-06-30', '2023-07-31', '2023-08-31',\n",
       "               '2023-09-30', '2023-10-31', '2023-11-30', '2023-12-31',\n",
       "               '2024-01-31', '2024-02-29', '2024-03-31', '2024-04-30',\n",
       "               '2024-05-31', '2024-06-30', '2024-07-31', '2024-08-31',\n",
       "               '2024-09-30', '2024-10-31', '2024-11-30', '2024-12-31',\n",
       "               '2025-01-31', '2025-02-28'],\n",
       "              dtype='datetime64[ns]', freq='M')"
      ]
     },
     "execution_count": 79,
     "metadata": {},
     "output_type": "execute_result"
    }
   ],
   "source": [
    "dates"
   ]
  },
  {
   "cell_type": "code",
   "execution_count": 80,
   "id": "842193e6",
   "metadata": {
    "slideshow": {
     "slide_type": "fragment"
    }
   },
   "outputs": [],
   "source": [
    "#pd.date_range?"
   ]
  },
  {
   "cell_type": "markdown",
   "id": "6b318a5c",
   "metadata": {
    "slideshow": {
     "slide_type": "fragment"
    }
   },
   "source": [
    "### freq-options (non-exclusive list)\n",
    "\n",
    "| Within Day | Within Month | Lower frequency |\n",
    "| --- | --- | --- |\n",
    "| S (seconds)        | D (calendar day) | M (monthly)          |\n",
    "| T (minutely)       | B (business day) | QS (quarterly start) |\n",
    "| H (hourly))        | W (weekly)       | Q (quarterly end)    |\n",
    "| BH (business hour) | SM (semi-month)  | A, Y - (yearly)      |"
   ]
  },
  {
   "cell_type": "code",
   "execution_count": null,
   "id": "8d96066f",
   "metadata": {
    "slideshow": {
     "slide_type": "fragment"
    }
   },
   "outputs": [],
   "source": [
    "dates"
   ]
  },
  {
   "cell_type": "code",
   "execution_count": 81,
   "id": "ff514d4d",
   "metadata": {
    "slideshow": {
     "slide_type": "slide"
    }
   },
   "outputs": [],
   "source": [
    "# Create a dataframe with random numbers and use the index with dates\n",
    "\n",
    "df = pd.DataFrame(np.random.randn(30, 4), \n",
    "                  columns=list(\"ABCD\"),\n",
    "                  index=dates)\n",
    "\n",
    "# A new data frame that isthe cummulative sum of the random numbers\n",
    "df_sum = df.cumsum()"
   ]
  },
  {
   "cell_type": "code",
   "execution_count": 84,
   "id": "e7782212",
   "metadata": {
    "slideshow": {
     "slide_type": "slide"
    }
   },
   "outputs": [
    {
     "data": {
      "text/plain": [
       "<AxesSubplot:>"
      ]
     },
     "execution_count": 84,
     "metadata": {},
     "output_type": "execute_result"
    },
    {
     "data": {
      "image/png": "[encoded data removed]",
      "text/plain": [
       "<Figure size 640x480 with 1 Axes>"
      ]
     },
     "metadata": {},
     "output_type": "display_data"
    }
   ],
   "source": [
    "# Pandas has built in plotting\n",
    "\n",
    "df_sum.plot()"
   ]
  },
  {
   "cell_type": "markdown",
   "id": "77b25fb2",
   "metadata": {
    "slideshow": {
     "slide_type": "slide"
    }
   },
   "source": [
    "## In class exercise 2\n",
    "\n",
    "1. Create a dataframe with some random data where the index is minutes (create 60 observations)"
   ]
  },
  {
   "cell_type": "markdown",
   "id": "ef23cd13",
   "metadata": {
    "slideshow": {
     "slide_type": "slide"
    }
   },
   "source": [
    "# 4. Importing and exporting data"
   ]
  },
  {
   "cell_type": "code",
   "execution_count": 85,
   "id": "29b1b842",
   "metadata": {},
   "outputs": [],
   "source": [
    "# Pandas has many different read methods \n",
    "\n",
    "data = pd.read_clipboard()"
   ]
  },
  {
   "cell_type": "code",
   "execution_count": 87,
   "id": "afc57fdb",
   "metadata": {},
   "outputs": [
    {
     "name": "stdout",
     "output_type": "stream",
     "text": [
      "Lecture7_EDI3400_Fall2022.ipynb      travel_changeFromSameMonth2019.csv\n",
      "Lecture7_Solutions.ipynb             travel_changeFromSameMonth2019.xlsx\n",
      "random_numbers.csv\n"
     ]
    }
   ],
   "source": [
    "ls"
   ]
  },
  {
   "cell_type": "markdown",
   "id": "b631520e",
   "metadata": {
    "slideshow": {
     "slide_type": "slide"
    }
   },
   "source": [
    "## From Excel:"
   ]
  },
  {
   "cell_type": "code",
   "execution_count": 88,
   "id": "bd3312ff",
   "metadata": {},
   "outputs": [
    {
     "data": {
      "text/html": [
       "<div>\n",
       "<style scoped>\n",
       "    .dataframe tbody tr th:only-of-type {\n",
       "        vertical-align: middle;\n",
       "    }\n",
       "\n",
       "    .dataframe tbody tr th {\n",
       "        vertical-align: top;\n",
       "    }\n",
       "\n",
       "    .dataframe thead th {\n",
       "        text-align: right;\n",
       "    }\n",
       "</style>\n",
       "<table border=\"1\" class=\"dataframe\">\n",
       "  <thead>\n",
       "    <tr style=\"text-align: right;\">\n",
       "      <th></th>\n",
       "      <th>Month</th>\n",
       "      <th>EU</th>\n",
       "      <th>Norge</th>\n",
       "    </tr>\n",
       "  </thead>\n",
       "  <tbody>\n",
       "    <tr>\n",
       "      <th>0</th>\n",
       "      <td>2020-01-01</td>\n",
       "      <td>4.95</td>\n",
       "      <td>9.30</td>\n",
       "    </tr>\n",
       "    <tr>\n",
       "      <th>1</th>\n",
       "      <td>2020-02-01</td>\n",
       "      <td>6.15</td>\n",
       "      <td>13.01</td>\n",
       "    </tr>\n",
       "    <tr>\n",
       "      <th>2</th>\n",
       "      <td>2020-03-01</td>\n",
       "      <td>-61.04</td>\n",
       "      <td>-54.72</td>\n",
       "    </tr>\n",
       "    <tr>\n",
       "      <th>3</th>\n",
       "      <td>2020-04-01</td>\n",
       "      <td>-95.24</td>\n",
       "      <td>-84.19</td>\n",
       "    </tr>\n",
       "    <tr>\n",
       "      <th>4</th>\n",
       "      <td>2020-05-01</td>\n",
       "      <td>-89.54</td>\n",
       "      <td>-62.28</td>\n",
       "    </tr>\n",
       "  </tbody>\n",
       "</table>\n",
       "</div>"
      ],
      "text/plain": [
       "       Month     EU  Norge\n",
       "0 2020-01-01   4.95   9.30\n",
       "1 2020-02-01   6.15  13.01\n",
       "2 2020-03-01 -61.04 -54.72\n",
       "3 2020-04-01 -95.24 -84.19\n",
       "4 2020-05-01 -89.54 -62.28"
      ]
     },
     "execution_count": 88,
     "metadata": {},
     "output_type": "execute_result"
    }
   ],
   "source": [
    "data_excel = pd.read_excel('travel_changeFromSameMonth2019.xlsx')\n",
    "data_excel.head()"
   ]
  },
  {
   "cell_type": "code",
   "execution_count": 89,
   "id": "7196f9ef",
   "metadata": {
    "slideshow": {
     "slide_type": "slide"
    }
   },
   "outputs": [
    {
     "data": {
      "text/html": [
       "<div>\n",
       "<style scoped>\n",
       "    .dataframe tbody tr th:only-of-type {\n",
       "        vertical-align: middle;\n",
       "    }\n",
       "\n",
       "    .dataframe tbody tr th {\n",
       "        vertical-align: top;\n",
       "    }\n",
       "\n",
       "    .dataframe thead th {\n",
       "        text-align: right;\n",
       "    }\n",
       "</style>\n",
       "<table border=\"1\" class=\"dataframe\">\n",
       "  <thead>\n",
       "    <tr style=\"text-align: right;\">\n",
       "      <th></th>\n",
       "      <th>EU</th>\n",
       "      <th>Norge</th>\n",
       "    </tr>\n",
       "    <tr>\n",
       "      <th>Month</th>\n",
       "      <th></th>\n",
       "      <th></th>\n",
       "    </tr>\n",
       "  </thead>\n",
       "  <tbody>\n",
       "    <tr>\n",
       "      <th>2020-01-01</th>\n",
       "      <td>4.95</td>\n",
       "      <td>9.30</td>\n",
       "    </tr>\n",
       "    <tr>\n",
       "      <th>2020-02-01</th>\n",
       "      <td>6.15</td>\n",
       "      <td>13.01</td>\n",
       "    </tr>\n",
       "    <tr>\n",
       "      <th>2020-03-01</th>\n",
       "      <td>-61.04</td>\n",
       "      <td>-54.72</td>\n",
       "    </tr>\n",
       "    <tr>\n",
       "      <th>2020-04-01</th>\n",
       "      <td>-95.24</td>\n",
       "      <td>-84.19</td>\n",
       "    </tr>\n",
       "    <tr>\n",
       "      <th>2020-05-01</th>\n",
       "      <td>-89.54</td>\n",
       "      <td>-62.28</td>\n",
       "    </tr>\n",
       "  </tbody>\n",
       "</table>\n",
       "</div>"
      ],
      "text/plain": [
       "               EU  Norge\n",
       "Month                   \n",
       "2020-01-01   4.95   9.30\n",
       "2020-02-01   6.15  13.01\n",
       "2020-03-01 -61.04 -54.72\n",
       "2020-04-01 -95.24 -84.19\n",
       "2020-05-01 -89.54 -62.28"
      ]
     },
     "execution_count": 89,
     "metadata": {},
     "output_type": "execute_result"
    }
   ],
   "source": [
    "# We can get Pandas to read the dates for us \n",
    "\n",
    "data_excel = pd.read_excel('travel_changeFromSameMonth2019.xlsx',\n",
    "                     index_col=[0],\n",
    "                     parse_dates=True)\n",
    "data_excel.head()"
   ]
  },
  {
   "cell_type": "code",
   "execution_count": 91,
   "id": "6612160b",
   "metadata": {},
   "outputs": [
    {
     "data": {
      "text/plain": [
       "DatetimeIndex(['2020-01-01', '2020-02-01', '2020-03-01', '2020-04-01',\n",
       "               '2020-05-01', '2020-06-01', '2020-07-01', '2020-08-01',\n",
       "               '2020-09-01', '2020-10-01', '2020-11-01', '2020-12-01',\n",
       "               '2021-01-01', '2021-02-01', '2021-03-01', '2021-04-01',\n",
       "               '2021-05-01', '2021-06-01', '2021-07-01', '2021-08-01',\n",
       "               '2021-09-01', '2021-10-01', '2021-11-01'],\n",
       "              dtype='datetime64[ns]', name='Month', freq=None)"
      ]
     },
     "execution_count": 91,
     "metadata": {},
     "output_type": "execute_result"
    }
   ],
   "source": [
    "data_excel.index"
   ]
  },
  {
   "cell_type": "code",
   "execution_count": 92,
   "id": "242ecf07",
   "metadata": {},
   "outputs": [
    {
     "data": {
      "text/plain": [
       "<AxesSubplot:xlabel='Month'>"
      ]
     },
     "execution_count": 92,
     "metadata": {},
     "output_type": "execute_result"
    },
    {
     "data": {
      "image/png": "[encoded data removed]",
      "text/plain": [
       "<Figure size 640x480 with 1 Axes>"
      ]
     },
     "metadata": {},
     "output_type": "display_data"
    }
   ],
   "source": [
    "data_excel.plot()"
   ]
  },
  {
   "cell_type": "markdown",
   "id": "a6e99205",
   "metadata": {
    "slideshow": {
     "slide_type": "slide"
    }
   },
   "source": [
    "## From csv (Comma Separated Values):"
   ]
  },
  {
   "cell_type": "code",
   "execution_count": 98,
   "id": "0d079fa1",
   "metadata": {},
   "outputs": [
    {
     "data": {
      "text/plain": [
       "Index(['Jan-20', 'Feb-20', 'Mar-20', 'Apr-20', 'May-20', 'Jun-20', 'Jul-20',\n",
       "       'Aug-20', 'Sep-20', 'Oct-20', 'Nov-20', 'Dec-20', 'Jan-21', 'Feb-21',\n",
       "       'Mar-21', 'Apr-21', 'May-21', 'Jun-21', 'Jul-21', 'Aug-21', 'Sep-21',\n",
       "       'Oct-21', 'Nov-21'],\n",
       "      dtype='object', name='Month')"
      ]
     },
     "execution_count": 98,
     "metadata": {},
     "output_type": "execute_result"
    }
   ],
   "source": [
    "# Reading a csv-file\n",
    "\n",
    "data_csv = pd.read_csv('travel_changeFromSameMonth2019.csv',\n",
    "                      index_col=[0],\n",
    "                      parse_dates=True)\n",
    "data_csv.index"
   ]
  },
  {
   "cell_type": "markdown",
   "id": "8dcc015b",
   "metadata": {
    "slideshow": {
     "slide_type": "slide"
    }
   },
   "source": [
    "## Save dataframe as a csv-file"
   ]
  },
  {
   "cell_type": "code",
   "execution_count": 99,
   "id": "1e324ca2",
   "metadata": {},
   "outputs": [
    {
     "data": {
      "text/html": [
       "<div>\n",
       "<style scoped>\n",
       "    .dataframe tbody tr th:only-of-type {\n",
       "        vertical-align: middle;\n",
       "    }\n",
       "\n",
       "    .dataframe tbody tr th {\n",
       "        vertical-align: top;\n",
       "    }\n",
       "\n",
       "    .dataframe thead th {\n",
       "        text-align: right;\n",
       "    }\n",
       "</style>\n",
       "<table border=\"1\" class=\"dataframe\">\n",
       "  <thead>\n",
       "    <tr style=\"text-align: right;\">\n",
       "      <th></th>\n",
       "      <th>A</th>\n",
       "      <th>B</th>\n",
       "      <th>C</th>\n",
       "      <th>D</th>\n",
       "      <th>E</th>\n",
       "    </tr>\n",
       "  </thead>\n",
       "  <tbody>\n",
       "    <tr>\n",
       "      <th>2015-12-31</th>\n",
       "      <td>-0.313117</td>\n",
       "      <td>-0.599642</td>\n",
       "      <td>0.997667</td>\n",
       "      <td>-0.129940</td>\n",
       "      <td>-0.633850</td>\n",
       "    </tr>\n",
       "    <tr>\n",
       "      <th>2016-12-31</th>\n",
       "      <td>-0.427909</td>\n",
       "      <td>0.119038</td>\n",
       "      <td>-1.371109</td>\n",
       "      <td>-1.806391</td>\n",
       "      <td>1.635863</td>\n",
       "    </tr>\n",
       "    <tr>\n",
       "      <th>2017-12-31</th>\n",
       "      <td>-0.785234</td>\n",
       "      <td>-1.194486</td>\n",
       "      <td>1.632756</td>\n",
       "      <td>-0.754844</td>\n",
       "      <td>-0.019749</td>\n",
       "    </tr>\n",
       "    <tr>\n",
       "      <th>2018-12-31</th>\n",
       "      <td>0.412228</td>\n",
       "      <td>1.668964</td>\n",
       "      <td>0.247659</td>\n",
       "      <td>-0.358755</td>\n",
       "      <td>0.634086</td>\n",
       "    </tr>\n",
       "    <tr>\n",
       "      <th>2019-12-31</th>\n",
       "      <td>-2.526304</td>\n",
       "      <td>0.825674</td>\n",
       "      <td>0.559905</td>\n",
       "      <td>0.778111</td>\n",
       "      <td>0.194912</td>\n",
       "    </tr>\n",
       "  </tbody>\n",
       "</table>\n",
       "</div>"
      ],
      "text/plain": [
       "                   A         B         C         D         E\n",
       "2015-12-31 -0.313117 -0.599642  0.997667 -0.129940 -0.633850\n",
       "2016-12-31 -0.427909  0.119038 -1.371109 -1.806391  1.635863\n",
       "2017-12-31 -0.785234 -1.194486  1.632756 -0.754844 -0.019749\n",
       "2018-12-31  0.412228  1.668964  0.247659 -0.358755  0.634086\n",
       "2019-12-31 -2.526304  0.825674  0.559905  0.778111  0.194912"
      ]
     },
     "execution_count": 99,
     "metadata": {},
     "output_type": "execute_result"
    }
   ],
   "source": [
    "# Let's create some random data \n",
    "\n",
    "df1 = pd.DataFrame(np.random.randn(30,5),\n",
    "                   columns=list('ABCDE'),\n",
    "                   index=pd.date_range('1990-01-01', periods=30, freq='A'))\n",
    "df1.tail()"
   ]
  },
  {
   "cell_type": "code",
   "execution_count": 100,
   "id": "ca569aba",
   "metadata": {
    "slideshow": {
     "slide_type": "fragment"
    }
   },
   "outputs": [],
   "source": [
    "# The .to_csv method saves the dataframe as a csv file\n",
    "\n",
    "df1.to_csv('random_numbers2.csv')"
   ]
  }
 ],
 "metadata": {
  "celltoolbar": "Slideshow",
  "kernelspec": {
   "display_name": "Python 3 (ipykernel)",
   "language": "python",
   "name": "python3"
  },
  "language_info": {
   "codemirror_mode": {
    "name": "ipython",
    "version": 3
   },
   "file_extension": ".py",
   "mimetype": "text/x-python",
   "name": "python",
   "nbconvert_exporter": "python",
   "pygments_lexer": "ipython3",
   "version": "3.9.12"
  }
 },
 "nbformat": 4,
 "nbformat_minor": 5
}
