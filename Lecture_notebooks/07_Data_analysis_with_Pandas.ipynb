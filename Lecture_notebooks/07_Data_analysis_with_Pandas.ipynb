{
 "cells": [
  {
   "cell_type": "markdown",
   "id": "613e4709",
   "metadata": {
    "slideshow": {
     "slide_type": "slide"
    }
   },
   "source": [
    "# Data frames with Pandas\n",
    "\n",
    "## Programming and Data Management (EDI 3400)\n",
    "\n",
    "### *Vegard H. Larsen (Department of Data Science and Analytics)*"
   ]
  },
  {
   "cell_type": "markdown",
   "id": "49738009",
   "metadata": {
    "slideshow": {
     "slide_type": "slide"
    }
   },
   "source": [
    "# 1. What is Pandas?\n",
    "\n",
    "Pandas is a premier data manipulation and analysis library in Python, providing intuitive structures for organizing and processing data alongside a suite of powerful tools to explore, clean, and analyze it. Central to Pandas are its two primary data structures: the `Series`, which handles one-dimensional data, and the `DataFrame`, designed for two-dimensional data (akin to tables in a database or Excel sheets). With these structures, you can easily read data from various sources, manipulate rows and columns, handle missing values, and even merge or aggregate data from multiple tables. Many tasks traditionally done in spreadsheet software can be more efficiently and robustly performed in code, laying a foundational bridge between basic Python programming and the vast world of data analysis."
   ]
  },
  {
   "cell_type": "markdown",
   "id": "b4c70e84",
   "metadata": {
    "slideshow": {
     "slide_type": "slide"
    }
   },
   "source": [
    "## Introduction to Pandas\n",
    "\n",
    "- A library that makes working with multidimensional structured and tabular data fast and easy\n",
    "- The name is derived from *panel data* and *Python data analysis* \n",
    "- Built in support for working with time series data\n",
    "- Provides Excel-like functionality to Python\n",
    "- Makes data cleaning and analysis fast and convenient in Python"
   ]
  },
  {
   "cell_type": "markdown",
   "id": "e98fcb2b",
   "metadata": {
    "slideshow": {
     "slide_type": "slide"
    }
   },
   "source": [
    "## Importing Pandas \n",
    "\n",
    "- As with NumPy there is a common import convention for Pandas"
   ]
  },
  {
   "cell_type": "code",
   "execution_count": null,
   "id": "dfe6d119",
   "metadata": {
    "slideshow": {
     "slide_type": "fragment"
    }
   },
   "outputs": [],
   "source": [
    "import pandas as pd"
   ]
  },
  {
   "cell_type": "code",
   "execution_count": null,
   "id": "f8060a9b",
   "metadata": {
    "slideshow": {
     "slide_type": "fragment"
    }
   },
   "outputs": [],
   "source": [
    "pd.__version__"
   ]
  },
  {
   "cell_type": "markdown",
   "id": "70e4385a",
   "metadata": {
    "slideshow": {
     "slide_type": "slide"
    }
   },
   "source": [
    "# 2. Pandas data structures "
   ]
  },
  {
   "cell_type": "markdown",
   "id": "c158480d",
   "metadata": {
    "slideshow": {
     "slide_type": "slide"
    }
   },
   "source": [
    "## Data structures in `Pandas`\n",
    "\n",
    "1. Series - One dimensional array of data \n",
    "2. DataFrame - Can consist of many Series as columns in the DataFrame\n",
    "3. Panel - Can consist of many DataFrames (will not be covered in this course)"
   ]
  },
  {
   "cell_type": "markdown",
   "id": "e1921e10",
   "metadata": {
    "slideshow": {
     "slide_type": "slide"
    }
   },
   "source": [
    "## Pandas Series-object\n",
    "\n",
    "- A one-dimensional labeled array capable of holding any data type (integers, strings, floating point numbers, Python objects, etc.)"
   ]
  },
  {
   "cell_type": "code",
   "execution_count": null,
   "id": "9fbfab19",
   "metadata": {},
   "outputs": [],
   "source": [
    "import pandas as pd\n",
    "\n",
    "series1 = pd.Series([100, 200, 300, 400])"
   ]
  },
  {
   "cell_type": "code",
   "execution_count": null,
   "id": "bfe4fb91",
   "metadata": {},
   "outputs": [],
   "source": [
    "series1"
   ]
  },
  {
   "cell_type": "code",
   "execution_count": null,
   "id": "68118c67",
   "metadata": {},
   "outputs": [],
   "source": [
    "type(series1)"
   ]
  },
  {
   "cell_type": "markdown",
   "id": "840fbb19",
   "metadata": {
    "slideshow": {
     "slide_type": "slide"
    }
   },
   "source": [
    "## Working with the Series"
   ]
  },
  {
   "cell_type": "code",
   "execution_count": null,
   "id": "0c29ad8e",
   "metadata": {},
   "outputs": [],
   "source": [
    "# Getting out values\n",
    "\n",
    "series1[0]"
   ]
  },
  {
   "cell_type": "code",
   "execution_count": null,
   "id": "8d85db45",
   "metadata": {
    "slideshow": {
     "slide_type": "fragment"
    }
   },
   "outputs": [],
   "source": [
    "# Assigning values\n",
    "\n",
    "series1[1] = 1234"
   ]
  },
  {
   "cell_type": "code",
   "execution_count": null,
   "id": "3a4dece9",
   "metadata": {
    "slideshow": {
     "slide_type": "fragment"
    }
   },
   "outputs": [],
   "source": [
    "series1"
   ]
  },
  {
   "cell_type": "code",
   "execution_count": null,
   "id": "6e3c36e5",
   "metadata": {
    "slideshow": {
     "slide_type": "fragment"
    }
   },
   "outputs": [],
   "source": [
    "# Slicing\n",
    "\n",
    "series1[1:3]"
   ]
  },
  {
   "cell_type": "markdown",
   "id": "2843e001",
   "metadata": {
    "slideshow": {
     "slide_type": "slide"
    }
   },
   "source": [
    "## Numerical operations "
   ]
  },
  {
   "cell_type": "code",
   "execution_count": null,
   "id": "8aa93b32",
   "metadata": {},
   "outputs": [],
   "source": [
    "# We can initialize a Series from a dictionary\n",
    "\n",
    "s1 = pd.Series({'a': 10, 'b': 20, 'c': 30})\n",
    "s2 = pd.Series({'a': 0.1, 'b': 0.2, 'c':0.3, 'd':0.4, 'e': 0.5})"
   ]
  },
  {
   "cell_type": "code",
   "execution_count": null,
   "id": "c0caa25a",
   "metadata": {},
   "outputs": [],
   "source": [
    "#s2"
   ]
  },
  {
   "cell_type": "code",
   "execution_count": null,
   "id": "f551aa5b",
   "metadata": {
    "slideshow": {
     "slide_type": "fragment"
    }
   },
   "outputs": [],
   "source": [
    "s1 * 2"
   ]
  },
  {
   "cell_type": "code",
   "execution_count": null,
   "id": "0192b31f",
   "metadata": {
    "slideshow": {
     "slide_type": "fragment"
    }
   },
   "outputs": [],
   "source": [
    "s3 = s1 + s2\n",
    "s3"
   ]
  },
  {
   "cell_type": "markdown",
   "id": "cde1637a",
   "metadata": {
    "slideshow": {
     "slide_type": "slide"
    }
   },
   "source": [
    "## Series methods"
   ]
  },
  {
   "cell_type": "code",
   "execution_count": null,
   "id": "08903fb5",
   "metadata": {},
   "outputs": [],
   "source": [
    "# Drop nans\n",
    "\n",
    "s3.dropna()\n",
    "s3"
   ]
  },
  {
   "cell_type": "code",
   "execution_count": null,
   "id": "25aec94c",
   "metadata": {
    "slideshow": {
     "slide_type": "fragment"
    }
   },
   "outputs": [],
   "source": [
    "# Drop particular indexes\n",
    "\n",
    "s3.drop(['a', 'e'])"
   ]
  },
  {
   "cell_type": "code",
   "execution_count": null,
   "id": "f7f551e0",
   "metadata": {
    "slideshow": {
     "slide_type": "fragment"
    }
   },
   "outputs": [],
   "source": [
    "# We can concatenate data\n",
    "\n",
    "pd.concat([s1,s2])"
   ]
  },
  {
   "cell_type": "markdown",
   "id": "b157401c",
   "metadata": {
    "slideshow": {
     "slide_type": "slide"
    }
   },
   "source": [
    "## Pandas DataFrame-object"
   ]
  },
  {
   "cell_type": "code",
   "execution_count": null,
   "id": "10caf1f6",
   "metadata": {},
   "outputs": [],
   "source": [
    "import pandas as pd\n",
    "\n",
    "content = [['a', 1, 'apple'], \n",
    "           ['b', 2, 'banana'], \n",
    "           ['c', 3, 'orange']]\n",
    "\n",
    "dataframe1 = pd.DataFrame(content,\n",
    "                          columns=['letter', 'number', 'fruit'],\n",
    "                          index=['one', 'two', 'three'])"
   ]
  },
  {
   "cell_type": "code",
   "execution_count": null,
   "id": "2c472e9e",
   "metadata": {
    "slideshow": {
     "slide_type": "fragment"
    }
   },
   "outputs": [],
   "source": [
    "dataframe1"
   ]
  },
  {
   "cell_type": "code",
   "execution_count": null,
   "id": "cdcd1f22",
   "metadata": {
    "slideshow": {
     "slide_type": "fragment"
    }
   },
   "outputs": [],
   "source": [
    "type(dataframe1)"
   ]
  },
  {
   "cell_type": "markdown",
   "id": "c4f36650",
   "metadata": {
    "slideshow": {
     "slide_type": "slide"
    }
   },
   "source": [
    "## Working with the DataFrame"
   ]
  },
  {
   "cell_type": "code",
   "execution_count": null,
   "id": "a00bf2e6",
   "metadata": {},
   "outputs": [],
   "source": [
    "column_fruit = dataframe1['fruit']"
   ]
  },
  {
   "cell_type": "code",
   "execution_count": null,
   "id": "56aeb82f",
   "metadata": {
    "slideshow": {
     "slide_type": "fragment"
    }
   },
   "outputs": [],
   "source": [
    "column_fruit"
   ]
  },
  {
   "cell_type": "code",
   "execution_count": null,
   "id": "b037046b",
   "metadata": {
    "slideshow": {
     "slide_type": "fragment"
    }
   },
   "outputs": [],
   "source": [
    "type(column_fruit)"
   ]
  },
  {
   "cell_type": "code",
   "execution_count": null,
   "id": "8d88f15e",
   "metadata": {
    "slideshow": {
     "slide_type": "fragment"
    }
   },
   "outputs": [],
   "source": [
    "# Use loc to access a row from the DataFrame\n",
    "\n",
    "row_1 = dataframe1.loc['two']"
   ]
  },
  {
   "cell_type": "code",
   "execution_count": null,
   "id": "ca21203c",
   "metadata": {
    "slideshow": {
     "slide_type": "fragment"
    }
   },
   "outputs": [],
   "source": [
    "row_1"
   ]
  },
  {
   "cell_type": "code",
   "execution_count": null,
   "id": "50769692",
   "metadata": {
    "slideshow": {
     "slide_type": "slide"
    }
   },
   "outputs": [],
   "source": [
    "## Use iloc to access row by numerical index\n",
    "\n",
    "row_0 = dataframe1.iloc[0]"
   ]
  },
  {
   "cell_type": "code",
   "execution_count": null,
   "id": "b98c0d45",
   "metadata": {},
   "outputs": [],
   "source": [
    "row_0"
   ]
  },
  {
   "cell_type": "markdown",
   "id": "9e881280",
   "metadata": {
    "slideshow": {
     "slide_type": "slide"
    }
   },
   "source": [
    "## Viewing data"
   ]
  },
  {
   "cell_type": "code",
   "execution_count": null,
   "id": "22474690",
   "metadata": {
    "slideshow": {
     "slide_type": "-"
    }
   },
   "outputs": [],
   "source": [
    "import numpy as np\n",
    "\n",
    "df = pd.DataFrame(np.random.randn(10, 4), columns=list(\"ABCD\"))"
   ]
  },
  {
   "cell_type": "code",
   "execution_count": null,
   "id": "201bb4ab",
   "metadata": {
    "slideshow": {
     "slide_type": "fragment"
    }
   },
   "outputs": [],
   "source": [
    "# Look at the 3 first rows\n",
    "\n",
    "df.head(10)"
   ]
  },
  {
   "cell_type": "code",
   "execution_count": null,
   "id": "19bcacff",
   "metadata": {
    "slideshow": {
     "slide_type": "fragment"
    }
   },
   "outputs": [],
   "source": [
    "# Look at the 3 last rows\n",
    "\n",
    "df.tail(3)"
   ]
  },
  {
   "cell_type": "code",
   "execution_count": null,
   "id": "96922d8c",
   "metadata": {},
   "outputs": [],
   "source": [
    "# We can look at a random sample of rows\n",
    "\n",
    "df.sample(3)"
   ]
  },
  {
   "cell_type": "markdown",
   "id": "26e304ac",
   "metadata": {
    "slideshow": {
     "slide_type": "slide"
    }
   },
   "source": [
    "## Sorting data"
   ]
  },
  {
   "cell_type": "code",
   "execution_count": null,
   "id": "c996ea48",
   "metadata": {},
   "outputs": [],
   "source": [
    "# We can sort by the values in a given column\n",
    "\n",
    "df.sort_values(by='A')"
   ]
  },
  {
   "cell_type": "markdown",
   "id": "2d63c0ca",
   "metadata": {
    "slideshow": {
     "slide_type": "slide"
    }
   },
   "source": [
    "## Slicing and selection"
   ]
  },
  {
   "cell_type": "code",
   "execution_count": null,
   "id": "0d68a27e",
   "metadata": {},
   "outputs": [],
   "source": [
    "# Selecting via [] slices the rows\n",
    "\n",
    "df[6:8]"
   ]
  },
  {
   "cell_type": "code",
   "execution_count": null,
   "id": "9f5661b0",
   "metadata": {
    "slideshow": {
     "slide_type": "slide"
    }
   },
   "outputs": [],
   "source": [
    "# We can also slice the columns\n",
    "\n",
    "df.iloc[:, 1:3]"
   ]
  },
  {
   "cell_type": "code",
   "execution_count": null,
   "id": "34828101",
   "metadata": {
    "slideshow": {
     "slide_type": "slide"
    }
   },
   "outputs": [],
   "source": [
    "# We can also ask for very specific slices\n",
    "\n",
    "df.iloc[[0, 5, 6, 8], [0, 3]]"
   ]
  },
  {
   "cell_type": "markdown",
   "id": "aec9f562",
   "metadata": {},
   "source": [
    "## Statistical methods "
   ]
  },
  {
   "cell_type": "code",
   "execution_count": null,
   "id": "4080a496",
   "metadata": {},
   "outputs": [],
   "source": [
    "import pandas as pd\n",
    "import numpy as np\n",
    "\n",
    "# Set seed for reproducibility\n",
    "np.random.seed(42)\n",
    "\n",
    "# Generating data on subjecty scores in 3 subjects for 100 students.\n",
    "data = {\n",
    "    'Math': np.random.randint(50, 100, 100),\n",
    "    'English': np.random.randint(50, 100, 100),\n",
    "    'History': np.random.randint(50, 100, 100)\n",
    "}\n",
    "\n",
    "df = pd.DataFrame(data)\n",
    "print(df.head())  # Print the first 5 rows"
   ]
  },
  {
   "cell_type": "code",
   "execution_count": null,
   "id": "6b0093f1",
   "metadata": {},
   "outputs": [],
   "source": [
    "# Mean Score of Each Subject:\n",
    "\n",
    "mean_scores = df.mean()\n",
    "print(\"Mean Scores:\\n\", mean_scores)"
   ]
  },
  {
   "cell_type": "code",
   "execution_count": null,
   "id": "459043d3",
   "metadata": {},
   "outputs": [],
   "source": [
    "# Median Score of Each Subject:\n",
    "\n",
    "median_scores = df.median()\n",
    "print(\"\\nMedian Scores:\\n\", median_scores)"
   ]
  },
  {
   "cell_type": "code",
   "execution_count": null,
   "id": "a69ac320",
   "metadata": {},
   "outputs": [],
   "source": [
    "# Standard Deviation of Each Subject:\n",
    "\n",
    "std_dev = df.std()\n",
    "print(\"\\nStandard Deviation:\\n\", std_dev)"
   ]
  },
  {
   "cell_type": "code",
   "execution_count": null,
   "id": "7c216b98",
   "metadata": {},
   "outputs": [],
   "source": [
    "# Highest and Lowest Score in Math:\n",
    "\n",
    "max_math = df['Math'].max()\n",
    "min_math = df['Math'].min()\n",
    "\n",
    "print(\"\\nHighest Math Score:\", max_math)\n",
    "print(\"Lowest Math Score:\", min_math)"
   ]
  },
  {
   "cell_type": "code",
   "execution_count": null,
   "id": "c9ea0580",
   "metadata": {},
   "outputs": [],
   "source": [
    "# Correlation Between Subjects:\n",
    "\n",
    "correlation = df.corr()\n",
    "print(\"\\nCorrelation between subjects:\\n\", correlation)"
   ]
  },
  {
   "cell_type": "code",
   "execution_count": null,
   "id": "b35dfa06",
   "metadata": {},
   "outputs": [],
   "source": [
    "# Number of Students Scoring Above 90 in English:\n",
    "\n",
    "above_90_english = df[df['English'] > 90].shape[0]\n",
    "print(\"\\nNumber of students scoring above 90 in English:\", above_90_english)"
   ]
  },
  {
   "cell_type": "markdown",
   "id": "5f1dba43",
   "metadata": {
    "slideshow": {
     "slide_type": "slide"
    }
   },
   "source": [
    "# 3. Time series data"
   ]
  },
  {
   "cell_type": "markdown",
   "id": "92df05e6",
   "metadata": {
    "slideshow": {
     "slide_type": "slide"
    }
   },
   "source": [
    "## Pandas has great functionality for working with dates"
   ]
  },
  {
   "cell_type": "code",
   "execution_count": null,
   "id": "520fd783",
   "metadata": {
    "slideshow": {
     "slide_type": "-"
    }
   },
   "outputs": [],
   "source": [
    "# We can create an index with dates \n",
    "\n",
    "dates = pd.date_range(start=\"2022-09-01\", periods=30, freq='M')"
   ]
  },
  {
   "cell_type": "code",
   "execution_count": null,
   "id": "be976e95",
   "metadata": {},
   "outputs": [],
   "source": [
    "dates"
   ]
  },
  {
   "cell_type": "code",
   "execution_count": null,
   "id": "842193e6",
   "metadata": {
    "slideshow": {
     "slide_type": "fragment"
    }
   },
   "outputs": [],
   "source": [
    "#pd.date_range?"
   ]
  },
  {
   "cell_type": "markdown",
   "id": "6b318a5c",
   "metadata": {
    "slideshow": {
     "slide_type": "fragment"
    }
   },
   "source": [
    "### freq-options (non-exclusive list)\n",
    "\n",
    "| Within Day | Within Month | Lower frequency |\n",
    "| --- | --- | --- |\n",
    "| S (seconds)        | D (calendar day) | M (monthly)          |\n",
    "| T (minutely)       | B (business day) | QS (quarterly start) |\n",
    "| H (hourly))        | W (weekly)       | Q (quarterly end)    |\n",
    "| BH (business hour) | SM (semi-month)  | A, Y - (yearly)      |"
   ]
  },
  {
   "cell_type": "code",
   "execution_count": null,
   "id": "8d96066f",
   "metadata": {
    "slideshow": {
     "slide_type": "fragment"
    }
   },
   "outputs": [],
   "source": [
    "dates"
   ]
  },
  {
   "cell_type": "code",
   "execution_count": null,
   "id": "ff514d4d",
   "metadata": {
    "slideshow": {
     "slide_type": "slide"
    }
   },
   "outputs": [],
   "source": [
    "# Create a dataframe with random numbers and use the index with dates\n",
    "\n",
    "df = pd.DataFrame(np.random.randn(30, 4), \n",
    "                  columns=list(\"ABCD\"),\n",
    "                  index=dates)\n",
    "\n",
    "# A new data frame that isthe cummulative sum of the random numbers\n",
    "df_sum = df.cumsum()"
   ]
  },
  {
   "cell_type": "code",
   "execution_count": null,
   "id": "e7782212",
   "metadata": {
    "slideshow": {
     "slide_type": "slide"
    }
   },
   "outputs": [],
   "source": [
    "# Pandas has built in plotting\n",
    "\n",
    "df_sum.plot()"
   ]
  },
  {
   "cell_type": "markdown",
   "id": "ef23cd13",
   "metadata": {
    "slideshow": {
     "slide_type": "slide"
    }
   },
   "source": [
    "# 4. Importing and exporting data"
   ]
  },
  {
   "cell_type": "code",
   "execution_count": null,
   "id": "29b1b842",
   "metadata": {},
   "outputs": [],
   "source": [
    "# Pandas has many different read methods \n",
    "\n",
    "data = pd.read_clipboard()"
   ]
  },
  {
   "cell_type": "code",
   "execution_count": null,
   "id": "082ac292",
   "metadata": {},
   "outputs": [],
   "source": [
    "data"
   ]
  },
  {
   "cell_type": "code",
   "execution_count": null,
   "id": "afc57fdb",
   "metadata": {},
   "outputs": [],
   "source": [
    "ls"
   ]
  },
  {
   "cell_type": "markdown",
   "id": "b631520e",
   "metadata": {
    "slideshow": {
     "slide_type": "slide"
    }
   },
   "source": [
    "## From Excel:"
   ]
  },
  {
   "cell_type": "code",
   "execution_count": null,
   "id": "bd3312ff",
   "metadata": {},
   "outputs": [],
   "source": [
    "data_excel = pd.read_excel('files/travel_changeFromSameMonth2019.xlsx')\n",
    "data_excel.head()"
   ]
  },
  {
   "cell_type": "code",
   "execution_count": null,
   "id": "7196f9ef",
   "metadata": {
    "slideshow": {
     "slide_type": "slide"
    }
   },
   "outputs": [],
   "source": [
    "# We can get Pandas to read the dates for us \n",
    "\n",
    "data_excel = pd.read_excel('files/travel_changeFromSameMonth2019.xlsx',\n",
    "                     index_col=[0],\n",
    "                     parse_dates=True)\n",
    "data_excel.head()"
   ]
  },
  {
   "cell_type": "code",
   "execution_count": null,
   "id": "6612160b",
   "metadata": {},
   "outputs": [],
   "source": [
    "data_excel.index"
   ]
  },
  {
   "cell_type": "code",
   "execution_count": null,
   "id": "242ecf07",
   "metadata": {},
   "outputs": [],
   "source": [
    "data_excel.plot()"
   ]
  },
  {
   "cell_type": "markdown",
   "id": "a6e99205",
   "metadata": {
    "slideshow": {
     "slide_type": "slide"
    }
   },
   "source": [
    "## From csv (Comma Separated Values):"
   ]
  },
  {
   "cell_type": "code",
   "execution_count": null,
   "id": "0d079fa1",
   "metadata": {},
   "outputs": [],
   "source": [
    "# Reading a csv-file\n",
    "\n",
    "data_csv = pd.read_csv('files/travel_changeFromSameMonth2019.csv',\n",
    "                      index_col=[0],\n",
    "                      parse_dates=True)\n",
    "data_csv.index"
   ]
  },
  {
   "cell_type": "markdown",
   "id": "8dcc015b",
   "metadata": {
    "slideshow": {
     "slide_type": "slide"
    }
   },
   "source": [
    "## Save dataframe as a csv-file"
   ]
  },
  {
   "cell_type": "code",
   "execution_count": null,
   "id": "1e324ca2",
   "metadata": {},
   "outputs": [],
   "source": [
    "# Let's create some random data \n",
    "\n",
    "df1 = pd.DataFrame(np.random.randn(30,5),\n",
    "                   columns=list('ABCDE'),\n",
    "                   index=pd.date_range('1990-01-01', periods=30, freq='A'))\n",
    "df1.tail()"
   ]
  },
  {
   "cell_type": "code",
   "execution_count": null,
   "id": "ca569aba",
   "metadata": {
    "slideshow": {
     "slide_type": "fragment"
    }
   },
   "outputs": [],
   "source": [
    "# The .to_csv method saves the dataframe as a csv file\n",
    "\n",
    "df1.to_csv('random_numbers2.csv')"
   ]
  }
 ],
 "metadata": {
  "celltoolbar": "Slideshow",
  "kernelspec": {
   "display_name": "Python 3 (ipykernel)",
   "language": "python",
   "name": "python3"
  },
  "language_info": {
   "codemirror_mode": {
    "name": "ipython",
    "version": 3
   },
   "file_extension": ".py",
   "mimetype": "text/x-python",
   "name": "python",
   "nbconvert_exporter": "python",
   "pygments_lexer": "ipython3",
   "version": "3.10.8"
  }
 },
 "nbformat": 4,
 "nbformat_minor": 5
}
