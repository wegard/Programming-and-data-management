{
 "cells": [
  {
   "cell_type": "markdown",
   "id": "37a7fc34-3ebc-4f69-a757-0efbbbfefd20",
   "metadata": {},
   "source": [
    "# SQL Basics\n",
    "\n",
    "## Course: Programming and Data Management (EDI 3400)\n",
    "\n",
    "### *Vegard H. Larsen (Department of Data Science and Analytics)*"
   ]
  },
  {
   "cell_type": "markdown",
   "id": "90205154-ad06-4b9a-9634-f8756a908fe8",
   "metadata": {},
   "source": [
    "# 1. The Auto Dealership Database"
   ]
  },
  {
   "cell_type": "markdown",
   "id": "a23750da",
   "metadata": {},
   "source": [
    "## Let's look at the database in DB browser for SQLite"
   ]
  },
  {
   "cell_type": "markdown",
   "id": "04fd8041",
   "metadata": {},
   "source": [
    "# 2. Running SQL-code in the Notebook\n",
    "\n",
    "## An SQL-extension\n",
    "\n",
    "- Download the file `isqlite3.py` from Ed \n",
    "- The file `isqlite3.py` must be stored in the same folder as the Notebook\n",
    "- Developed by my colleague Jan Kudlicka\n",
    "- We can now run SQL queries directly in notebook cells "
   ]
  },
  {
   "cell_type": "code",
   "execution_count": 11,
   "id": "2ff17bfb",
   "metadata": {},
   "outputs": [
    {
     "name": "stdout",
     "output_type": "stream",
     "text": [
      "The isqlite3 extension is already loaded. To reload it, use:\n",
      "  %reload_ext isqlite3\n"
     ]
    }
   ],
   "source": [
    "%load_ext isqlite3"
   ]
  },
  {
   "cell_type": "code",
   "execution_count": 12,
   "id": "9a6078d9",
   "metadata": {},
   "outputs": [
    {
     "name": "stdout",
     "output_type": "stream",
     "text": [
      "Done!\n"
     ]
    }
   ],
   "source": [
    "%sql_open files/auto_dealership_database.db"
   ]
  },
  {
   "cell_type": "markdown",
   "id": "43530074",
   "metadata": {},
   "source": [
    "## Employees table"
   ]
  },
  {
   "cell_type": "code",
   "execution_count": 13,
   "id": "87042d8b",
   "metadata": {},
   "outputs": [
    {
     "data": {
      "text/html": [
       "<table><thead><tr><th style=\"text-align: left\">id</th><th style=\"text-align: left\">name</th><th style=\"text-align: left\">salary</th><th style=\"text-align: left\">education</th><th style=\"text-align: left\">department</th></tr></thead><tbody><tr><td style=\"text-align: right\">1</td><td style=\"text-align: left\">Erik</td><td style=\"text-align: right\">114100</td><td style=\"text-align: left\">Bachelor</td><td style=\"text-align: left\">Sales</td></tr><tr><td style=\"text-align: right\">2</td><td style=\"text-align: left\">Sue</td><td style=\"text-align: right\">116200</td><td style=\"text-align: left\">Bachelor</td><td style=\"text-align: left\">Admin</td></tr><tr><td style=\"text-align: right\">3</td><td style=\"text-align: left\">Linda</td><td style=\"text-align: right\">67200</td><td style=\"text-align: left\">High School</td><td style=\"text-align: left\">Admin</td></tr><tr><td style=\"text-align: right\">4</td><td style=\"text-align: left\">Anne</td><td style=\"text-align: right\">75900</td><td style=\"text-align: left\">Master</td><td style=\"text-align: left\">Service</td></tr><tr><td style=\"text-align: right\">5</td><td style=\"text-align: left\">Mary</td><td style=\"text-align: right\">89100</td><td style=\"text-align: left\">Bachelor</td><td style=\"text-align: left\">Service</td></tr><tr><td style=\"text-align: right\">6</td><td style=\"text-align: left\">Tom</td><td style=\"text-align: right\">95900</td><td style=\"text-align: left\">Bachelor</td><td style=\"text-align: left\">Sales</td></tr><tr><td style=\"text-align: right\">7</td><td style=\"text-align: left\">John</td><td style=\"text-align: right\">148200</td><td style=\"text-align: left\">Bachelor</td><td style=\"text-align: left\">Sales</td></tr><tr><td style=\"text-align: right\">8</td><td style=\"text-align: left\">Joe</td><td style=\"text-align: right\">148100</td><td style=\"text-align: left\">Master</td><td style=\"text-align: left\">Sales</td></tr><tr><td style=\"text-align: right\">9</td><td style=\"text-align: left\">Sofia</td><td style=\"text-align: right\">117100</td><td style=\"text-align: left\">Bachelor</td><td style=\"text-align: left\">Sales</td></tr><tr><td style=\"text-align: right\">10</td><td style=\"text-align: left\">Marie</td><td style=\"text-align: right\">79000</td><td style=\"text-align: left\">Bachelor</td><td style=\"text-align: left\">Admin</td></tr></tbody></table>"
      ],
      "text/plain": [
       "<IPython.core.display.HTML object>"
      ]
     },
     "execution_count": 13,
     "metadata": {},
     "output_type": "execute_result"
    }
   ],
   "source": [
    "%%sql\n",
    "\n",
    "SELECT * FROM Employees LIMIT 10"
   ]
  },
  {
   "cell_type": "markdown",
   "id": "181ba851",
   "metadata": {},
   "source": [
    "## Cars table"
   ]
  },
  {
   "cell_type": "code",
   "execution_count": 14,
   "id": "0f3f121b",
   "metadata": {},
   "outputs": [
    {
     "data": {
      "text/html": [
       "<table><thead><tr><th style=\"text-align: left\">id</th><th style=\"text-align: left\">make</th><th style=\"text-align: left\">type</th><th style=\"text-align: left\">year</th><th style=\"text-align: left\">color</th><th style=\"text-align: left\">msrp</th><th style=\"text-align: left\">employee_id</th></tr></thead><tbody><tr><td style=\"text-align: right\">1</td><td style=\"text-align: left\">BMW</td><td style=\"text-align: left\">Hatchback</td><td style=\"text-align: right\">2007</td><td style=\"text-align: left\">Silver</td><td style=\"text-align: right\">49400.0</td><td style=\"text-align: right\">19</td></tr><tr><td style=\"text-align: right\">2</td><td style=\"text-align: left\">Audi</td><td style=\"text-align: left\">SUV</td><td style=\"text-align: right\">2012</td><td style=\"text-align: left\">Red</td><td style=\"text-align: right\">58000.0</td><td style=\"text-align: right\">17</td></tr><tr><td style=\"text-align: right\">3</td><td style=\"text-align: left\">Toyota</td><td style=\"text-align: left\">SUV</td><td style=\"text-align: right\">2007</td><td style=\"text-align: left\">Silver</td><td style=\"text-align: right\">41400.0</td><td style=\"text-align: right\">4</td></tr><tr><td style=\"text-align: right\">4</td><td style=\"text-align: left\">Honda</td><td style=\"text-align: left\">Coupe</td><td style=\"text-align: right\">2012</td><td style=\"text-align: left\">Blue</td><td style=\"text-align: right\">41100.0</td><td style=\"text-align: right\">4</td></tr><tr><td style=\"text-align: right\">5</td><td style=\"text-align: left\">Audi</td><td style=\"text-align: left\">Sedan</td><td style=\"text-align: right\">2009</td><td style=\"text-align: left\">Red</td><td style=\"text-align: right\">78100.0</td><td style=\"text-align: right\">4</td></tr><tr><td style=\"text-align: right\">6</td><td style=\"text-align: left\">Mercedes</td><td style=\"text-align: left\">Estate</td><td style=\"text-align: right\">2007</td><td style=\"text-align: left\">Silver</td><td style=\"text-align: right\">99300.0</td><td style=\"text-align: right\">22</td></tr><tr><td style=\"text-align: right\">7</td><td style=\"text-align: left\">Volkswagen</td><td style=\"text-align: left\">Hatchback</td><td style=\"text-align: right\">2013</td><td style=\"text-align: left\">Blue</td><td style=\"text-align: right\">28700.0</td><td style=\"text-align: right\">26</td></tr><tr><td style=\"text-align: right\">8</td><td style=\"text-align: left\">Toyota</td><td style=\"text-align: left\">Sedan</td><td style=\"text-align: right\">2019</td><td style=\"text-align: left\">Red</td><td style=\"text-align: right\">42300.0</td><td style=\"text-align: right\">22</td></tr><tr><td style=\"text-align: right\">9</td><td style=\"text-align: left\">BMW</td><td style=\"text-align: left\">Sedan</td><td style=\"text-align: right\">2010</td><td style=\"text-align: left\">Black</td><td style=\"text-align: right\">55700.0</td><td style=\"text-align: right\">4</td></tr><tr><td style=\"text-align: right\">10</td><td style=\"text-align: left\">Audi</td><td style=\"text-align: left\">Sedan</td><td style=\"text-align: right\">2016</td><td style=\"text-align: left\">Silver</td><td style=\"text-align: right\">63700.0</td><td style=\"text-align: right\">26</td></tr></tbody></table>"
      ],
      "text/plain": [
       "<IPython.core.display.HTML object>"
      ]
     },
     "execution_count": 14,
     "metadata": {},
     "output_type": "execute_result"
    }
   ],
   "source": [
    "%%sql\n",
    "\n",
    "SELECT * \n",
    "FROM Cars \n",
    "LIMIT 10"
   ]
  },
  {
   "cell_type": "markdown",
   "id": "a5a0bfbc",
   "metadata": {},
   "source": [
    "## Sales table"
   ]
  },
  {
   "cell_type": "code",
   "execution_count": 15,
   "id": "06e70fed",
   "metadata": {},
   "outputs": [
    {
     "data": {
      "text/html": [
       "<table><thead><tr><th style=\"text-align: left\">id</th><th style=\"text-align: left\">date</th><th style=\"text-align: left\">list_price</th><th style=\"text-align: left\">price</th><th style=\"text-align: left\">customer_id</th><th style=\"text-align: left\">car_id</th><th style=\"text-align: left\">employee_id</th></tr></thead><tbody><tr><td style=\"text-align: right\">1</td><td style=\"text-align: left\">2017-11-09</td><td style=\"text-align: right\">12500</td><td style=\"text-align: right\">12260.0</td><td style=\"text-align: right\">1555</td><td style=\"text-align: right\">7464</td><td style=\"text-align: right\">25</td></tr><tr><td style=\"text-align: right\">2</td><td style=\"text-align: left\">2010-05-05</td><td style=\"text-align: right\">15800</td><td style=\"text-align: right\">14930.0</td><td style=\"text-align: right\">2270</td><td style=\"text-align: right\">4358</td><td style=\"text-align: right\">7</td></tr><tr><td style=\"text-align: right\">3</td><td style=\"text-align: left\">2020-05-07</td><td style=\"text-align: right\">11800</td><td style=\"text-align: right\">11070.0</td><td style=\"text-align: right\">3481</td><td style=\"text-align: right\">1633</td><td style=\"text-align: right\">16</td></tr><tr><td style=\"text-align: right\">4</td><td style=\"text-align: left\">2020-09-22</td><td style=\"text-align: right\">30200</td><td style=\"text-align: right\">30110.0</td><td style=\"text-align: right\">3465</td><td style=\"text-align: right\">6161</td><td style=\"text-align: right\">1</td></tr><tr><td style=\"text-align: right\">5</td><td style=\"text-align: left\">2017-07-03</td><td style=\"text-align: right\">25200</td><td style=\"text-align: right\">24360.0</td><td style=\"text-align: right\">834</td><td style=\"text-align: right\">3811</td><td style=\"text-align: right\">16</td></tr><tr><td style=\"text-align: right\">6</td><td style=\"text-align: left\">2021-04-01</td><td style=\"text-align: right\">37600</td><td style=\"text-align: right\">37370.0</td><td style=\"text-align: right\">1541</td><td style=\"text-align: right\">4850</td><td style=\"text-align: right\">8</td></tr><tr><td style=\"text-align: right\">7</td><td style=\"text-align: left\">2019-11-29</td><td style=\"text-align: right\">10300</td><td style=\"text-align: right\">10230.0</td><td style=\"text-align: right\">1215</td><td style=\"text-align: right\">6784</td><td style=\"text-align: right\">1</td></tr><tr><td style=\"text-align: right\">8</td><td style=\"text-align: left\">2021-05-11</td><td style=\"text-align: right\">19300</td><td style=\"text-align: right\">19450.0</td><td style=\"text-align: right\">1914</td><td style=\"text-align: right\">1110</td><td style=\"text-align: right\">24</td></tr><tr><td style=\"text-align: right\">9</td><td style=\"text-align: left\">2019-11-11</td><td style=\"text-align: right\">20400</td><td style=\"text-align: right\">19470.0</td><td style=\"text-align: right\">711</td><td style=\"text-align: right\">7882</td><td style=\"text-align: right\">21</td></tr><tr><td style=\"text-align: right\">10</td><td style=\"text-align: left\">2021-07-22</td><td style=\"text-align: right\">31500</td><td style=\"text-align: right\">30150.0</td><td style=\"text-align: right\">1609</td><td style=\"text-align: right\">1202</td><td style=\"text-align: right\">16</td></tr></tbody></table>"
      ],
      "text/plain": [
       "<IPython.core.display.HTML object>"
      ]
     },
     "execution_count": 15,
     "metadata": {},
     "output_type": "execute_result"
    }
   ],
   "source": [
    "%%sql\n",
    "\n",
    "SELECT * \n",
    "FROM Sales \n",
    "LIMIT 10"
   ]
  },
  {
   "cell_type": "markdown",
   "id": "69502893",
   "metadata": {},
   "source": [
    "# 3. SQL-syntax\n",
    "\n",
    "## The `SELECT` and `FROM` statements:\n",
    "\n",
    "- SQL is not case sensitive (Python is case sensitive) and `select` and `SELECT` is treated the same \n",
    "\n",
    "`SELECT column_name` \n",
    "\n",
    "`FROM table_name`\n",
    "\n",
    "## The `WHERE` clause:\n",
    "\n",
    "`SELECT column_name` \n",
    "\n",
    "`FROM table_name` \n",
    "\n",
    "`WHERE condition`\n",
    "\n",
    "## The `ORDER BY` statement:\n",
    "\n",
    "`SELECT column_name`\n",
    "\n",
    "`FROM table_name`\n",
    "\n",
    "`ORDER BY column_name [ASC or DESC]`"
   ]
  },
  {
   "cell_type": "markdown",
   "id": "a4e4093f",
   "metadata": {},
   "source": [
    "## Functions:\n",
    "\n",
    "- `count` used to count rows \n",
    "- `min` used to find the minimum value\n",
    "- `max` used to find the maximum value\n",
    "- `avg` used to calculate the mean\n",
    "\n",
    "## Example\n",
    "\n",
    "`SELECT min(Sales.price)`\n",
    "\n",
    "`FROM Sales`"
   ]
  }
 ],
 "metadata": {
  "kernelspec": {
   "display_name": "Python 3 (ipykernel)",
   "language": "python",
   "name": "python3"
  },
  "language_info": {
   "codemirror_mode": {
    "name": "ipython",
    "version": 3
   },
   "file_extension": ".py",
   "mimetype": "text/x-python",
   "name": "python",
   "nbconvert_exporter": "python",
   "pygments_lexer": "ipython3",
   "version": "3.10.8"
  }
 },
 "nbformat": 4,
 "nbformat_minor": 5
}
