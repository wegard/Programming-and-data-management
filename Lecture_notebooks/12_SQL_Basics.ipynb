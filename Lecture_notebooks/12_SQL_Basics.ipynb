{
 "cells": [
  {
   "cell_type": "markdown",
   "id": "37a7fc34-3ebc-4f69-a757-0efbbbfefd20",
   "metadata": {},
   "source": [
    "# SQL Basics\n",
    "\n",
    "## Course: Programming and Data Management (EDI 3400)\n",
    "\n",
    "### *Vegard H. Larsen (Department of Data Science and Analytics)*"
   ]
  },
  {
   "cell_type": "markdown",
   "id": "90205154-ad06-4b9a-9634-f8756a908fe8",
   "metadata": {},
   "source": [
    "# 1. The Auto Dealership Database"
   ]
  },
  {
   "cell_type": "markdown",
   "id": "a23750da",
   "metadata": {},
   "source": [
    "## Let's look at the database in DB browser for SQLite"
   ]
  },
  {
   "cell_type": "markdown",
   "id": "04fd8041",
   "metadata": {},
   "source": [
    "# 2. Running SQL-code in the Notebook\n",
    "\n",
    "## An SQL-extension\n",
    "\n",
    "- Download the file `isqlite3.py` from Ed \n",
    "- The file `isqlite3.py` must be stored in the same folder as the Notebook\n",
    "- Developed by my colleague Jan Kudlicka\n",
    "- We can now run SQL queries directly in notebook cells "
   ]
  },
  {
   "cell_type": "code",
   "execution_count": 12,
   "id": "2ff17bfb",
   "metadata": {},
   "outputs": [
    {
     "name": "stdout",
     "output_type": "stream",
     "text": [
      "The isqlite3 extension is already loaded. To reload it, use:\n",
      "  %reload_ext isqlite3\n"
     ]
    }
   ],
   "source": [
    "%load_ext isqlite3"
   ]
  },
  {
   "cell_type": "code",
   "execution_count": 13,
   "id": "9a6078d9",
   "metadata": {},
   "outputs": [
    {
     "name": "stdout",
     "output_type": "stream",
     "text": [
      "Done!\n"
     ]
    }
   ],
   "source": [
    "%sql_open files/auto_dealership_database.db"
   ]
  },
  {
   "cell_type": "markdown",
   "id": "43530074",
   "metadata": {},
   "source": [
    "## Employees table"
   ]
  },
  {
   "cell_type": "code",
   "execution_count": 14,
   "id": "87042d8b",
   "metadata": {},
   "outputs": [
    {
     "data": {
      "text/html": [
       "<table><thead><tr><th style=\"text-align: left\">id</th><th style=\"text-align: left\">name</th><th style=\"text-align: left\">salary</th><th style=\"text-align: left\">education</th><th style=\"text-align: left\">department</th></tr></thead><tbody><tr><td style=\"text-align: right\">1</td><td style=\"text-align: left\">Erik</td><td style=\"text-align: right\">114100</td><td style=\"text-align: left\">Bachelor</td><td style=\"text-align: left\">Sales</td></tr><tr><td style=\"text-align: right\">2</td><td style=\"text-align: left\">Sue</td><td style=\"text-align: right\">116200</td><td style=\"text-align: left\">Bachelor</td><td style=\"text-align: left\">Admin</td></tr><tr><td style=\"text-align: right\">3</td><td style=\"text-align: left\">Linda</td><td style=\"text-align: right\">67200</td><td style=\"text-align: left\">High School</td><td style=\"text-align: left\">Admin</td></tr><tr><td style=\"text-align: right\">4</td><td style=\"text-align: left\">Anne</td><td style=\"text-align: right\">75900</td><td style=\"text-align: left\">Master</td><td style=\"text-align: left\">Service</td></tr><tr><td style=\"text-align: right\">5</td><td style=\"text-align: left\">Mary</td><td style=\"text-align: right\">89100</td><td style=\"text-align: left\">Bachelor</td><td style=\"text-align: left\">Service</td></tr><tr><td style=\"text-align: right\">6</td><td style=\"text-align: left\">Tom</td><td style=\"text-align: right\">95900</td><td style=\"text-align: left\">Bachelor</td><td style=\"text-align: left\">Sales</td></tr><tr><td style=\"text-align: right\">7</td><td style=\"text-align: left\">John</td><td style=\"text-align: right\">148200</td><td style=\"text-align: left\">Bachelor</td><td style=\"text-align: left\">Sales</td></tr><tr><td style=\"text-align: right\">8</td><td style=\"text-align: left\">Joe</td><td style=\"text-align: right\">148100</td><td style=\"text-align: left\">Master</td><td style=\"text-align: left\">Sales</td></tr><tr><td style=\"text-align: right\">9</td><td style=\"text-align: left\">Sofia</td><td style=\"text-align: right\">117100</td><td style=\"text-align: left\">Bachelor</td><td style=\"text-align: left\">Sales</td></tr><tr><td style=\"text-align: right\">10</td><td style=\"text-align: left\">Marie</td><td style=\"text-align: right\">79000</td><td style=\"text-align: left\">Bachelor</td><td style=\"text-align: left\">Admin</td></tr></tbody></table>"
      ],
      "text/plain": [
       "<IPython.core.display.HTML object>"
      ]
     },
     "execution_count": 14,
     "metadata": {},
     "output_type": "execute_result"
    }
   ],
   "source": [
    "%%sql\n",
    "\n",
    "SELECT * FROM Employees LIMIT 10"
   ]
  },
  {
   "cell_type": "markdown",
   "id": "181ba851",
   "metadata": {},
   "source": [
    "## Cars table"
   ]
  },
  {
   "cell_type": "code",
   "execution_count": 15,
   "id": "0f3f121b",
   "metadata": {},
   "outputs": [
    {
     "data": {
      "text/html": [
       "<table><thead><tr><th style=\"text-align: left\">id</th><th style=\"text-align: left\">make</th><th style=\"text-align: left\">type</th><th style=\"text-align: left\">year</th><th style=\"text-align: left\">color</th><th style=\"text-align: left\">msrp</th><th style=\"text-align: left\">employee_id</th></tr></thead><tbody><tr><td style=\"text-align: right\">1</td><td style=\"text-align: left\">BMW</td><td style=\"text-align: left\">Hatchback</td><td style=\"text-align: right\">2007</td><td style=\"text-align: left\">Silver</td><td style=\"text-align: right\">49400.0</td><td style=\"text-align: right\">19</td></tr><tr><td style=\"text-align: right\">2</td><td style=\"text-align: left\">Audi</td><td style=\"text-align: left\">SUV</td><td style=\"text-align: right\">2012</td><td style=\"text-align: left\">Red</td><td style=\"text-align: right\">58000.0</td><td style=\"text-align: right\">17</td></tr><tr><td style=\"text-align: right\">3</td><td style=\"text-align: left\">Toyota</td><td style=\"text-align: left\">SUV</td><td style=\"text-align: right\">2007</td><td style=\"text-align: left\">Silver</td><td style=\"text-align: right\">41400.0</td><td style=\"text-align: right\">4</td></tr><tr><td style=\"text-align: right\">4</td><td style=\"text-align: left\">Honda</td><td style=\"text-align: left\">Coupe</td><td style=\"text-align: right\">2012</td><td style=\"text-align: left\">Blue</td><td style=\"text-align: right\">41100.0</td><td style=\"text-align: right\">4</td></tr><tr><td style=\"text-align: right\">5</td><td style=\"text-align: left\">Audi</td><td style=\"text-align: left\">Sedan</td><td style=\"text-align: right\">2009</td><td style=\"text-align: left\">Red</td><td style=\"text-align: right\">78100.0</td><td style=\"text-align: right\">4</td></tr><tr><td style=\"text-align: right\">6</td><td style=\"text-align: left\">Mercedes</td><td style=\"text-align: left\">Estate</td><td style=\"text-align: right\">2007</td><td style=\"text-align: left\">Silver</td><td style=\"text-align: right\">99300.0</td><td style=\"text-align: right\">22</td></tr><tr><td style=\"text-align: right\">7</td><td style=\"text-align: left\">Volkswagen</td><td style=\"text-align: left\">Hatchback</td><td style=\"text-align: right\">2013</td><td style=\"text-align: left\">Blue</td><td style=\"text-align: right\">28700.0</td><td style=\"text-align: right\">26</td></tr><tr><td style=\"text-align: right\">8</td><td style=\"text-align: left\">Toyota</td><td style=\"text-align: left\">Sedan</td><td style=\"text-align: right\">2019</td><td style=\"text-align: left\">Red</td><td style=\"text-align: right\">42300.0</td><td style=\"text-align: right\">22</td></tr><tr><td style=\"text-align: right\">9</td><td style=\"text-align: left\">BMW</td><td style=\"text-align: left\">Sedan</td><td style=\"text-align: right\">2010</td><td style=\"text-align: left\">Black</td><td style=\"text-align: right\">55700.0</td><td style=\"text-align: right\">4</td></tr><tr><td style=\"text-align: right\">10</td><td style=\"text-align: left\">Audi</td><td style=\"text-align: left\">Sedan</td><td style=\"text-align: right\">2016</td><td style=\"text-align: left\">Silver</td><td style=\"text-align: right\">63700.0</td><td style=\"text-align: right\">26</td></tr></tbody></table>"
      ],
      "text/plain": [
       "<IPython.core.display.HTML object>"
      ]
     },
     "execution_count": 15,
     "metadata": {},
     "output_type": "execute_result"
    }
   ],
   "source": [
    "%%sql\n",
    "\n",
    "SELECT * \n",
    "FROM Cars \n",
    "LIMIT 10"
   ]
  },
  {
   "cell_type": "markdown",
   "id": "a5a0bfbc",
   "metadata": {},
   "source": [
    "## Sales table"
   ]
  },
  {
   "cell_type": "code",
   "execution_count": 16,
   "id": "06e70fed",
   "metadata": {},
   "outputs": [
    {
     "data": {
      "text/html": [
       "<table><thead><tr><th style=\"text-align: left\">id</th><th style=\"text-align: left\">date</th><th style=\"text-align: left\">list_price</th><th style=\"text-align: left\">price</th><th style=\"text-align: left\">customer_id</th><th style=\"text-align: left\">car_id</th><th style=\"text-align: left\">employee_id</th></tr></thead><tbody><tr><td style=\"text-align: right\">1</td><td style=\"text-align: left\">2017-11-09</td><td style=\"text-align: right\">12500</td><td style=\"text-align: right\">12260.0</td><td style=\"text-align: right\">1555</td><td style=\"text-align: right\">7464</td><td style=\"text-align: right\">25</td></tr><tr><td style=\"text-align: right\">2</td><td style=\"text-align: left\">2010-05-05</td><td style=\"text-align: right\">15800</td><td style=\"text-align: right\">14930.0</td><td style=\"text-align: right\">2270</td><td style=\"text-align: right\">4358</td><td style=\"text-align: right\">7</td></tr><tr><td style=\"text-align: right\">3</td><td style=\"text-align: left\">2020-05-07</td><td style=\"text-align: right\">11800</td><td style=\"text-align: right\">11070.0</td><td style=\"text-align: right\">3481</td><td style=\"text-align: right\">1633</td><td style=\"text-align: right\">16</td></tr><tr><td style=\"text-align: right\">4</td><td style=\"text-align: left\">2020-09-22</td><td style=\"text-align: right\">30200</td><td style=\"text-align: right\">30110.0</td><td style=\"text-align: right\">3465</td><td style=\"text-align: right\">6161</td><td style=\"text-align: right\">1</td></tr><tr><td style=\"text-align: right\">5</td><td style=\"text-align: left\">2017-07-03</td><td style=\"text-align: right\">25200</td><td style=\"text-align: right\">24360.0</td><td style=\"text-align: right\">834</td><td style=\"text-align: right\">3811</td><td style=\"text-align: right\">16</td></tr><tr><td style=\"text-align: right\">6</td><td style=\"text-align: left\">2021-04-01</td><td style=\"text-align: right\">37600</td><td style=\"text-align: right\">37370.0</td><td style=\"text-align: right\">1541</td><td style=\"text-align: right\">4850</td><td style=\"text-align: right\">8</td></tr><tr><td style=\"text-align: right\">7</td><td style=\"text-align: left\">2019-11-29</td><td style=\"text-align: right\">10300</td><td style=\"text-align: right\">10230.0</td><td style=\"text-align: right\">1215</td><td style=\"text-align: right\">6784</td><td style=\"text-align: right\">1</td></tr><tr><td style=\"text-align: right\">8</td><td style=\"text-align: left\">2021-05-11</td><td style=\"text-align: right\">19300</td><td style=\"text-align: right\">19450.0</td><td style=\"text-align: right\">1914</td><td style=\"text-align: right\">1110</td><td style=\"text-align: right\">24</td></tr><tr><td style=\"text-align: right\">9</td><td style=\"text-align: left\">2019-11-11</td><td style=\"text-align: right\">20400</td><td style=\"text-align: right\">19470.0</td><td style=\"text-align: right\">711</td><td style=\"text-align: right\">7882</td><td style=\"text-align: right\">21</td></tr><tr><td style=\"text-align: right\">10</td><td style=\"text-align: left\">2021-07-22</td><td style=\"text-align: right\">31500</td><td style=\"text-align: right\">30150.0</td><td style=\"text-align: right\">1609</td><td style=\"text-align: right\">1202</td><td style=\"text-align: right\">16</td></tr></tbody></table>"
      ],
      "text/plain": [
       "<IPython.core.display.HTML object>"
      ]
     },
     "execution_count": 16,
     "metadata": {},
     "output_type": "execute_result"
    }
   ],
   "source": [
    "%%sql\n",
    "\n",
    "SELECT * \n",
    "FROM Sales \n",
    "LIMIT 10"
   ]
  },
  {
   "cell_type": "markdown",
   "metadata": {},
   "source": [
    "## Customers table"
   ]
  },
  {
   "cell_type": "code",
   "execution_count": 25,
   "metadata": {},
   "outputs": [
    {
     "data": {
      "text/html": [
       "<table><thead><tr><th style=\"text-align: left\">id</th><th style=\"text-align: left\">first_name</th><th style=\"text-align: left\">last_name</th><th style=\"text-align: left\">phone</th><th style=\"text-align: left\">birth_year</th></tr></thead><tbody><tr><td style=\"text-align: right\">1</td><td style=\"text-align: left\">Geffery</td><td style=\"text-align: left\">Eaton</td><td style=\"text-align: right\">46000950</td><td style=\"text-align: right\">2011</td></tr><tr><td style=\"text-align: right\">2</td><td style=\"text-align: left\">Nira</td><td style=\"text-align: left\">Perry</td><td style=\"text-align: right\">98553493</td><td style=\"text-align: right\">2003</td></tr><tr><td style=\"text-align: right\">3</td><td style=\"text-align: left\">Moneisha</td><td style=\"text-align: left\">Perry</td><td style=\"text-align: right\">99054734</td><td style=\"text-align: right\">1998</td></tr><tr><td style=\"text-align: right\">4</td><td style=\"text-align: left\">Sigourney</td><td style=\"text-align: left\">Noble</td><td style=\"text-align: right\">24082013</td><td style=\"text-align: right\">1966</td></tr><tr><td style=\"text-align: right\">5</td><td style=\"text-align: left\">Lavita</td><td style=\"text-align: left\">Carlson</td><td style=\"text-align: right\">31488331</td><td style=\"text-align: right\">1984</td></tr><tr><td style=\"text-align: right\">6</td><td style=\"text-align: left\">Aide</td><td style=\"text-align: left\">Henry</td><td style=\"text-align: right\">18885778</td><td style=\"text-align: right\">1994</td></tr><tr><td style=\"text-align: right\">7</td><td style=\"text-align: left\">Annie</td><td style=\"text-align: left\">Owen</td><td style=\"text-align: right\">34520084</td><td style=\"text-align: right\">1993</td></tr><tr><td style=\"text-align: right\">8</td><td style=\"text-align: left\">Darik</td><td style=\"text-align: left\">Montgomery</td><td style=\"text-align: right\">93811698</td><td style=\"text-align: right\">1976</td></tr><tr><td style=\"text-align: right\">9</td><td style=\"text-align: left\">Thelma</td><td style=\"text-align: left\">Poole</td><td style=\"text-align: right\">92675192</td><td style=\"text-align: right\">2006</td></tr><tr><td style=\"text-align: right\">10</td><td style=\"text-align: left\">Slyvia</td><td style=\"text-align: left\">Roberson</td><td style=\"text-align: right\">58184531</td><td style=\"text-align: right\">1969</td></tr></tbody></table>"
      ],
      "text/plain": [
       "<IPython.core.display.HTML object>"
      ]
     },
     "execution_count": 25,
     "metadata": {},
     "output_type": "execute_result"
    }
   ],
   "source": [
    "%%sql\n",
    "\n",
    "SELECT * \n",
    "FROM Customers\n",
    "LIMIT 10"
   ]
  },
  {
   "cell_type": "markdown",
   "id": "69502893",
   "metadata": {},
   "source": [
    "# 3. SQL-syntax\n",
    "\n",
    "## The `SELECT` and `FROM` statements:\n",
    "\n",
    "- SQL is not case sensitive (Python is case sensitive) and `select` and `SELECT` is treated the same \n",
    "\n",
    "`SELECT column_name` \n",
    "\n",
    "`FROM table_name`\n",
    "\n"
   ]
  },
  {
   "cell_type": "code",
   "execution_count": 17,
   "metadata": {},
   "outputs": [
    {
     "data": {
      "text/html": [
       "<table><thead><tr><th style=\"text-align: left\">msrp</th></tr></thead><tbody><tr><td style=\"text-align: right\">49400.0</td></tr><tr><td style=\"text-align: right\">58000.0</td></tr><tr><td style=\"text-align: right\">41400.0</td></tr><tr><td style=\"text-align: right\">41100.0</td></tr><tr><td style=\"text-align: right\">78100.0</td></tr></tbody></table>"
      ],
      "text/plain": [
       "<IPython.core.display.HTML object>"
      ]
     },
     "execution_count": 17,
     "metadata": {},
     "output_type": "execute_result"
    }
   ],
   "source": [
    "%%sql\n",
    "\n",
    "SELECT msrp\n",
    "FROM Cars\n",
    "LIMIT 5"
   ]
  },
  {
   "cell_type": "markdown",
   "metadata": {},
   "source": [
    "## The `WHERE` clause:\n",
    "\n",
    "`SELECT column_name` \n",
    "\n",
    "`FROM table_name` \n",
    "\n",
    "`WHERE condition`"
   ]
  },
  {
   "cell_type": "code",
   "execution_count": 18,
   "metadata": {},
   "outputs": [
    {
     "data": {
      "text/html": [
       "<table><thead><tr><th style=\"text-align: left\">id</th><th style=\"text-align: left\">price</th></tr></thead><tbody><tr><td style=\"text-align: right\">1</td><td style=\"text-align: right\">12260.0</td></tr><tr><td style=\"text-align: right\">2</td><td style=\"text-align: right\">14930.0</td></tr><tr><td style=\"text-align: right\">3</td><td style=\"text-align: right\">11070.0</td></tr><tr><td style=\"text-align: right\">4</td><td style=\"text-align: right\">30110.0</td></tr><tr><td style=\"text-align: right\">5</td><td style=\"text-align: right\">24360.0</td></tr></tbody></table>"
      ],
      "text/plain": [
       "<IPython.core.display.HTML object>"
      ]
     },
     "execution_count": 18,
     "metadata": {},
     "output_type": "execute_result"
    }
   ],
   "source": [
    "%%sql\n",
    "\n",
    "SELECT id, price \n",
    "FROM Sales\n",
    "WHERE price > 10000\n",
    "LIMIT 5"
   ]
  },
  {
   "cell_type": "code",
   "execution_count": 24,
   "metadata": {},
   "outputs": [
    {
     "data": {
      "text/html": [
       "<table><thead><tr><th style=\"text-align: left\">id</th><th style=\"text-align: left\">msrp</th><th style=\"text-align: left\">price</th></tr></thead><tbody><tr><td style=\"text-align: right\">7464</td><td style=\"text-align: right\">38900.0</td><td style=\"text-align: right\">12260.0</td></tr><tr><td style=\"text-align: right\">4358</td><td style=\"text-align: right\">28700.0</td><td style=\"text-align: right\">14930.0</td></tr><tr><td style=\"text-align: right\">1633</td><td style=\"text-align: right\">32200.0</td><td style=\"text-align: right\">11070.0</td></tr><tr><td style=\"text-align: right\">6161</td><td style=\"text-align: right\">47300.0</td><td style=\"text-align: right\">30110.0</td></tr><tr><td style=\"text-align: right\">3811</td><td style=\"text-align: right\">45900.0</td><td style=\"text-align: right\">24360.0</td></tr></tbody></table>"
      ],
      "text/plain": [
       "<IPython.core.display.HTML object>"
      ]
     },
     "execution_count": 24,
     "metadata": {},
     "output_type": "execute_result"
    }
   ],
   "source": [
    "%%sql\n",
    "\n",
    "Select Cars.id, Cars.msrp, Sales.price\n",
    "FROM Cars, Sales\n",
    "Where Cars.id = Sales.car_id\n",
    "LIMIT 5"
   ]
  },
  {
   "cell_type": "markdown",
   "metadata": {},
   "source": [
    "## The `ORDER BY` statement:\n",
    "\n",
    "`SELECT column_name`\n",
    "\n",
    "`FROM table_name`\n",
    "\n",
    "`ORDER BY column_name [ASC or DESC]`"
   ]
  },
  {
   "cell_type": "code",
   "execution_count": 21,
   "metadata": {},
   "outputs": [
    {
     "data": {
      "text/html": [
       "<table><thead><tr><th style=\"text-align: left\">id</th><th style=\"text-align: left\">name</th><th style=\"text-align: left\">salary</th></tr></thead><tbody><tr><td style=\"text-align: right\">21</td><td style=\"text-align: left\">Eli</td><td style=\"text-align: right\">176500</td></tr><tr><td style=\"text-align: right\">7</td><td style=\"text-align: left\">John</td><td style=\"text-align: right\">148200</td></tr><tr><td style=\"text-align: right\">8</td><td style=\"text-align: left\">Joe</td><td style=\"text-align: right\">148100</td></tr><tr><td style=\"text-align: right\">16</td><td style=\"text-align: left\">Karl</td><td style=\"text-align: right\">136100</td></tr><tr><td style=\"text-align: right\">9</td><td style=\"text-align: left\">Sofia</td><td style=\"text-align: right\">117100</td></tr><tr><td style=\"text-align: right\">14</td><td style=\"text-align: left\">Linda</td><td style=\"text-align: right\">116300</td></tr><tr><td style=\"text-align: right\">2</td><td style=\"text-align: left\">Sue</td><td style=\"text-align: right\">116200</td></tr><tr><td style=\"text-align: right\">1</td><td style=\"text-align: left\">Erik</td><td style=\"text-align: right\">114100</td></tr><tr><td style=\"text-align: right\">26</td><td style=\"text-align: left\">Fredrik</td><td style=\"text-align: right\">105700</td></tr><tr><td style=\"text-align: right\">25</td><td style=\"text-align: left\">Mary</td><td style=\"text-align: right\">104600</td></tr></tbody></table>"
      ],
      "text/plain": [
       "<IPython.core.display.HTML object>"
      ]
     },
     "execution_count": 21,
     "metadata": {},
     "output_type": "execute_result"
    }
   ],
   "source": [
    "%%sql\n",
    "\n",
    "SELECT id, name, salary\n",
    "FROM Employees\n",
    "ORDER BY salary DESC\n",
    "LIMIT 10"
   ]
  },
  {
   "cell_type": "markdown",
   "metadata": {},
   "source": [
    "## `INNER JOIN`\n",
    "`INNER JOIN` combines rows from two or more tables based on a related column between them. This type of join returns only the rows that have matching values in both tables. If there is no match, the rows will not appear in the result set.\n",
    "\n",
    "In SQL, if you use JOIN without specifying the type of join, it defaults to INNER JOIN. Therefore, JOIN and INNER JOIN are functionally equivalent and will produce the same result set, which includes only the rows that have matching values in both tables being joined.\n"
   ]
  },
  {
   "cell_type": "code",
   "execution_count": 29,
   "metadata": {},
   "outputs": [
    {
     "data": {
      "text/html": [
       "<table><thead><tr><th style=\"text-align: left\">first_name</th><th style=\"text-align: left\">last_name</th><th style=\"text-align: left\">date</th><th style=\"text-align: left\">price</th></tr></thead><tbody><tr><td style=\"text-align: left\">Jorell</td><td style=\"text-align: left\">Weeks</td><td style=\"text-align: left\">2009-01-27</td><td style=\"text-align: right\">90300.0</td></tr><tr><td style=\"text-align: left\">Klarissa</td><td style=\"text-align: left\">Glover</td><td style=\"text-align: left\">2016-01-20</td><td style=\"text-align: right\">142570.0</td></tr><tr><td style=\"text-align: left\">Alica</td><td style=\"text-align: left\">Lin</td><td style=\"text-align: left\">2020-02-13</td><td style=\"text-align: right\">115770.0</td></tr><tr><td style=\"text-align: left\">Conley</td><td style=\"text-align: left\">Sharp</td><td style=\"text-align: left\">2006-02-23</td><td style=\"text-align: right\">90910.0</td></tr><tr><td style=\"text-align: left\">Kendi</td><td style=\"text-align: left\">Cortes</td><td style=\"text-align: left\">2006-12-07</td><td style=\"text-align: right\">109390.0</td></tr><tr><td style=\"text-align: left\">Hamzah</td><td style=\"text-align: left\">Bailey</td><td style=\"text-align: left\">2017-12-15</td><td style=\"text-align: right\">184440.0</td></tr><tr><td style=\"text-align: left\">Ashlely</td><td style=\"text-align: left\">Combs</td><td style=\"text-align: left\">2021-02-18</td><td style=\"text-align: right\">121570.0</td></tr><tr><td style=\"text-align: left\">Genesia</td><td style=\"text-align: left\">Stephenson</td><td style=\"text-align: left\">2012-06-18</td><td style=\"text-align: right\">95680.0</td></tr><tr><td style=\"text-align: left\">Candelaria</td><td style=\"text-align: left\">Ford</td><td style=\"text-align: left\">2021-09-09</td><td style=\"text-align: right\">121410.0</td></tr><tr><td style=\"text-align: left\">Taletha</td><td style=\"text-align: left\">Berg</td><td style=\"text-align: left\">2021-12-29</td><td style=\"text-align: right\">98020.0</td></tr></tbody></table>"
      ],
      "text/plain": [
       "<IPython.core.display.HTML object>"
      ]
     },
     "execution_count": 29,
     "metadata": {},
     "output_type": "execute_result"
    }
   ],
   "source": [
    "%%sql\n",
    "\n",
    "SELECT Customers.first_name, Customers.last_name, Sales.date, Sales.price\n",
    "FROM Customers\n",
    "INNER JOIN Sales ON Customers.id = Sales.customer_id\n",
    "WHERE Sales.price > 90000\n",
    "LIMIT 10"
   ]
  },
  {
   "cell_type": "code",
   "execution_count": 33,
   "metadata": {},
   "outputs": [
    {
     "data": {
      "text/html": [
       "<table><thead><tr><th style=\"text-align: left\">first_name</th><th style=\"text-align: left\">last_name</th><th style=\"text-align: left\">make</th><th style=\"text-align: left\">type</th><th style=\"text-align: left\">msrp</th><th style=\"text-align: left\">date</th><th style=\"text-align: left\">price</th></tr></thead><tbody><tr><td style=\"text-align: left\">Mirian</td><td style=\"text-align: left\">Valentine</td><td style=\"text-align: left\">BMW</td><td style=\"text-align: left\">Sedan</td><td style=\"text-align: right\">38900.0</td><td style=\"text-align: left\">2017-11-09</td><td style=\"text-align: right\">12260.0</td></tr><tr><td style=\"text-align: left\">Dalyn</td><td style=\"text-align: left\">Ward</td><td style=\"text-align: left\">Ford</td><td style=\"text-align: left\">Hatchback</td><td style=\"text-align: right\">28700.0</td><td style=\"text-align: left\">2010-05-05</td><td style=\"text-align: right\">14930.0</td></tr><tr><td style=\"text-align: left\">Johua</td><td style=\"text-align: left\">Gibson</td><td style=\"text-align: left\">Toyota</td><td style=\"text-align: left\">Hatchback</td><td style=\"text-align: right\">32200.0</td><td style=\"text-align: left\">2020-05-07</td><td style=\"text-align: right\">11070.0</td></tr><tr><td style=\"text-align: left\">Daric</td><td style=\"text-align: left\">Cisneros</td><td style=\"text-align: left\">Audi</td><td style=\"text-align: left\">Estate</td><td style=\"text-align: right\">47300.0</td><td style=\"text-align: left\">2020-09-22</td><td style=\"text-align: right\">30110.0</td></tr><tr><td style=\"text-align: left\">Lucas</td><td style=\"text-align: left\">Stanley</td><td style=\"text-align: left\">Toyota</td><td style=\"text-align: left\">Sedan</td><td style=\"text-align: right\">45900.0</td><td style=\"text-align: left\">2017-07-03</td><td style=\"text-align: right\">24360.0</td></tr><tr><td style=\"text-align: left\">Jeanetta</td><td style=\"text-align: left\">Mcgee</td><td style=\"text-align: left\">Audi</td><td style=\"text-align: left\">Sedan</td><td style=\"text-align: right\">58700.0</td><td style=\"text-align: left\">2021-04-01</td><td style=\"text-align: right\">37370.0</td></tr><tr><td style=\"text-align: left\">Tosha</td><td style=\"text-align: left\">Bradshaw</td><td style=\"text-align: left\">Toyota</td><td style=\"text-align: left\">Coupe</td><td style=\"text-align: right\">47300.0</td><td style=\"text-align: left\">2019-11-29</td><td style=\"text-align: right\">10230.0</td></tr><tr><td style=\"text-align: left\">Camilla</td><td style=\"text-align: left\">Weiss</td><td style=\"text-align: left\">Toyota</td><td style=\"text-align: left\">SUV</td><td style=\"text-align: right\">48000.0</td><td style=\"text-align: left\">2021-05-11</td><td style=\"text-align: right\">19450.0</td></tr><tr><td style=\"text-align: left\">Melodi</td><td style=\"text-align: left\">Weeks</td><td style=\"text-align: left\">Chevrolet</td><td style=\"text-align: left\">Sedan</td><td style=\"text-align: right\">53800.0</td><td style=\"text-align: left\">2019-11-11</td><td style=\"text-align: right\">19470.0</td></tr><tr><td style=\"text-align: left\">Sheresa</td><td style=\"text-align: left\">Jimenez</td><td style=\"text-align: left\">Volkswagen</td><td style=\"text-align: left\">Sedan</td><td style=\"text-align: right\">38000.0</td><td style=\"text-align: left\">2021-07-22</td><td style=\"text-align: right\">30150.0</td></tr></tbody></table>"
      ],
      "text/plain": [
       "<IPython.core.display.HTML object>"
      ]
     },
     "execution_count": 33,
     "metadata": {},
     "output_type": "execute_result"
    }
   ],
   "source": [
    "%%sql\n",
    "\n",
    "SELECT\n",
    "    Customers.first_name,\n",
    "    Customers.last_name,\n",
    "    Cars.make,\n",
    "    Cars.type,\n",
    "    Cars.msrp,\n",
    "    Sales.date,\n",
    "    Sales.price\n",
    "FROM Customers\n",
    "JOIN Sales ON Customers.id = Sales.customer_id\n",
    "JOIN Cars ON Sales.car_id = Cars.id\n",
    "LIMIT 10\n"
   ]
  },
  {
   "cell_type": "markdown",
   "id": "a4e4093f",
   "metadata": {},
   "source": [
    "## Functions:\n",
    "- `count` used to count rows \n",
    "- `sum` used to sum values\n",
    "- `min` used to find the minimum value\n",
    "- `max` used to find the maximum value\n",
    "- `avg` used to calculate the mean\n",
    "\n",
    "## GROUP BY\n",
    "The `GROUP BY` statement is used to arrange identical data into groups with the help of aggregate functions like `count()`, `sum()`, `max()`, `min()`, `avg()`. When you use a `GROUP BY`` clause, you're instructing the SQL database to combine rows that have the same values in the specified columns into summary rows, like \"find the number of customers in each country\" or \"calculate the total revenue from each product category.\"\n",
    "\n",
    "Without `GROUP BY`, an aggregate function like `count()` would return a single value for the entire table or dataset.\n",
    "With `GROUP BY`, you get the count for each group separately."
   ]
  },
  {
   "cell_type": "markdown",
   "metadata": {},
   "source": [
    "## Examples\n",
    "\n",
    "### Count the number of sales each employee has made."
   ]
  },
  {
   "cell_type": "code",
   "execution_count": 40,
   "metadata": {},
   "outputs": [
    {
     "data": {
      "text/html": [
       "<table><thead><tr><th style=\"text-align: left\">employee_id</th><th style=\"text-align: left\">number_of_sales</th></tr></thead><tbody><tr><td style=\"text-align: right\">1</td><td style=\"text-align: right\">566</td></tr><tr><td style=\"text-align: right\">6</td><td style=\"text-align: right\">593</td></tr><tr><td style=\"text-align: right\">7</td><td style=\"text-align: right\">575</td></tr><tr><td style=\"text-align: right\">8</td><td style=\"text-align: right\">626</td></tr><tr><td style=\"text-align: right\">9</td><td style=\"text-align: right\">611</td></tr><tr><td style=\"text-align: right\">11</td><td style=\"text-align: right\">567</td></tr><tr><td style=\"text-align: right\">12</td><td style=\"text-align: right\">659</td></tr><tr><td style=\"text-align: right\">13</td><td style=\"text-align: right\">614</td></tr><tr><td style=\"text-align: right\">14</td><td style=\"text-align: right\">678</td></tr><tr><td style=\"text-align: right\">16</td><td style=\"text-align: right\">591</td></tr><tr><td style=\"text-align: right\">21</td><td style=\"text-align: right\">614</td></tr><tr><td style=\"text-align: right\">23</td><td style=\"text-align: right\">570</td></tr><tr><td style=\"text-align: right\">24</td><td style=\"text-align: right\">565</td></tr><tr><td style=\"text-align: right\">25</td><td style=\"text-align: right\">543</td></tr><tr><td style=\"text-align: right\">27</td><td style=\"text-align: right\">593</td></tr></tbody></table>"
      ],
      "text/plain": [
       "<IPython.core.display.HTML object>"
      ]
     },
     "execution_count": 40,
     "metadata": {},
     "output_type": "execute_result"
    }
   ],
   "source": [
    "%%sql\n",
    "\n",
    "SELECT employee_id, count(*) AS number_of_sales\n",
    "FROM Sales\n",
    "GROUP BY employee_id"
   ]
  },
  {
   "cell_type": "markdown",
   "metadata": {},
   "source": [
    "### Find the minimum sale price of all sales."
   ]
  },
  {
   "cell_type": "code",
   "execution_count": 38,
   "metadata": {},
   "outputs": [
    {
     "data": {
      "text/html": [
       "<table><thead><tr><th style=\"text-align: left\">min_sale_price</th></tr></thead><tbody><tr><td style=\"text-align: right\">730.0</td></tr></tbody></table>"
      ],
      "text/plain": [
       "<IPython.core.display.HTML object>"
      ]
     },
     "execution_count": 38,
     "metadata": {},
     "output_type": "execute_result"
    }
   ],
   "source": [
    "%%sql\n",
    "\n",
    "SELECT min(price) AS min_sale_price\n",
    "FROM Sales"
   ]
  },
  {
   "cell_type": "markdown",
   "metadata": {},
   "source": [
    "### Find the maximum sale price of all sales."
   ]
  },
  {
   "cell_type": "code",
   "execution_count": 39,
   "metadata": {},
   "outputs": [
    {
     "data": {
      "text/html": [
       "<table><thead><tr><th style=\"text-align: left\">max_sale_price</th></tr></thead><tbody><tr><td style=\"text-align: right\">222400.0</td></tr></tbody></table>"
      ],
      "text/plain": [
       "<IPython.core.display.HTML object>"
      ]
     },
     "execution_count": 39,
     "metadata": {},
     "output_type": "execute_result"
    }
   ],
   "source": [
    "%%sql\n",
    "\n",
    "SELECT max(price) AS max_sale_price\n",
    "FROM Sales"
   ]
  },
  {
   "cell_type": "markdown",
   "metadata": {},
   "source": [
    "### Calculate the average salary of all employees."
   ]
  },
  {
   "cell_type": "code",
   "execution_count": 41,
   "metadata": {},
   "outputs": [
    {
     "data": {
      "text/html": [
       "<table><thead><tr><th style=\"text-align: left\">average_salary</th></tr></thead><tbody><tr><td style=\"text-align: right\">91153.57142857143</td></tr></tbody></table>"
      ],
      "text/plain": [
       "<IPython.core.display.HTML object>"
      ]
     },
     "execution_count": 41,
     "metadata": {},
     "output_type": "execute_result"
    }
   ],
   "source": [
    "%%sql \n",
    "\n",
    "SELECT AVG(salary) AS average_salary\n",
    "FROM Employees"
   ]
  },
  {
   "cell_type": "markdown",
   "metadata": {},
   "source": []
  }
 ],
 "metadata": {
  "kernelspec": {
   "display_name": "Python 3 (ipykernel)",
   "language": "python",
   "name": "python3"
  },
  "language_info": {
   "codemirror_mode": {
    "name": "ipython",
    "version": 3
   },
   "file_extension": ".py",
   "mimetype": "text/x-python",
   "name": "python",
   "nbconvert_exporter": "python",
   "pygments_lexer": "ipython3",
   "version": "3.10.8"
  }
 },
 "nbformat": 4,
 "nbformat_minor": 5
}
