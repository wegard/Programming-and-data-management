{
 "cells": [
  {
   "cell_type": "markdown",
   "id": "37a7fc34-3ebc-4f69-a757-0efbbbfefd20",
   "metadata": {},
   "source": [
    "# SQL Basics\n",
    "\n",
    "## Course: Programming and Data Management (EDI 3400)\n",
    "\n",
    "### *Vegard H. Larsen (Department of Data Science and Analytics)*"
   ]
  },
  {
   "cell_type": "markdown",
   "id": "90205154-ad06-4b9a-9634-f8756a908fe8",
   "metadata": {},
   "source": [
    "# 1. The Auto Dealership Database"
   ]
  },
  {
   "cell_type": "markdown",
   "id": "a23750da",
   "metadata": {},
   "source": []
  }
 ],
 "metadata": {
  "kernelspec": {
   "display_name": "Python 3 (ipykernel)",
   "language": "python",
   "name": "python3"
  },
  "language_info": {
   "codemirror_mode": {
    "name": "ipython",
    "version": 3
   },
   "file_extension": ".py",
   "mimetype": "text/x-python",
   "name": "python",
   "nbconvert_exporter": "python",
   "pygments_lexer": "ipython3",
   "version": "3.10.8"
  }
 },
 "nbformat": 4,
 "nbformat_minor": 5
}
