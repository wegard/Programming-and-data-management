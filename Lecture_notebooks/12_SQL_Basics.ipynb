{
 "cells": [
  {
   "cell_type": "markdown",
   "id": "37a7fc34-3ebc-4f69-a757-0efbbbfefd20",
   "metadata": {},
   "source": [
    "# SQL Basics\n",
    "\n",
    "## Course: Programming and Data Management (EDI 3400)\n",
    "\n",
    "### *Vegard H. Larsen (Department of Data Science and Analytics)*"
   ]
  },
  {
   "cell_type": "markdown",
   "id": "90205154-ad06-4b9a-9634-f8756a908fe8",
   "metadata": {},
   "source": [
    "# 1. The Auto Dealership Database"
   ]
  },
  {
   "cell_type": "markdown",
   "id": "a23750da",
   "metadata": {},
   "source": [
    "## Let's look at the database in DB browser for SQLite"
   ]
  },
  {
   "cell_type": "markdown",
   "id": "04fd8041",
   "metadata": {},
   "source": [
    "# 2. Running SQL-code in the Notebook\n",
    "\n",
    "## An SQL-extension\n",
    "\n",
    "- Download the file `isqlite3.py` from Ed \n",
    "- The file `isqlite3.py` must be stored in the same folder as the Notebook\n",
    "- Developed by my colleague Jan Kudlicka\n",
    "- We can now run SQL queries directly in notebook cells "
   ]
  },
  {
   "cell_type": "code",
   "execution_count": null,
   "id": "2ff17bfb",
   "metadata": {},
   "outputs": [],
   "source": [
    "%load_ext isqlite3"
   ]
  },
  {
   "cell_type": "code",
   "execution_count": null,
   "id": "9a6078d9",
   "metadata": {},
   "outputs": [],
   "source": [
    "%sql_open files/auto_dealership_database.db"
   ]
  },
  {
   "cell_type": "markdown",
   "id": "43530074",
   "metadata": {},
   "source": [
    "## Employees table"
   ]
  },
  {
   "cell_type": "code",
   "execution_count": null,
   "id": "87042d8b",
   "metadata": {},
   "outputs": [],
   "source": [
    "%%sql\n",
    "\n",
    "SELECT * FROM Employees LIMIT 10"
   ]
  },
  {
   "cell_type": "markdown",
   "id": "181ba851",
   "metadata": {},
   "source": [
    "## Cars table"
   ]
  },
  {
   "cell_type": "code",
   "execution_count": null,
   "id": "0f3f121b",
   "metadata": {},
   "outputs": [],
   "source": [
    "%%sql\n",
    "\n",
    "SELECT * \n",
    "FROM Cars \n",
    "LIMIT 10"
   ]
  },
  {
   "cell_type": "markdown",
   "id": "a5a0bfbc",
   "metadata": {},
   "source": [
    "## Sales table"
   ]
  },
  {
   "cell_type": "code",
   "execution_count": null,
   "id": "06e70fed",
   "metadata": {},
   "outputs": [],
   "source": [
    "%%sql\n",
    "\n",
    "SELECT * \n",
    "FROM Sales \n",
    "LIMIT 10"
   ]
  },
  {
   "cell_type": "markdown",
   "metadata": {},
   "source": [
    "## Customers table"
   ]
  },
  {
   "cell_type": "code",
   "execution_count": null,
   "metadata": {},
   "outputs": [],
   "source": [
    "%%sql\n",
    "\n",
    "SELECT * \n",
    "FROM Customers\n",
    "LIMIT 10"
   ]
  },
  {
   "cell_type": "markdown",
   "id": "69502893",
   "metadata": {},
   "source": [
    "# 3. SQL-syntax\n",
    "\n",
    "## The `SELECT` and `FROM` statements:\n",
    "\n",
    "- SQL is not case sensitive (Python is case sensitive) and `select` and `SELECT` is treated the same \n",
    "\n",
    "`SELECT column_name` \n",
    "\n",
    "`FROM table_name`\n",
    "\n"
   ]
  },
  {
   "cell_type": "code",
   "execution_count": null,
   "metadata": {},
   "outputs": [],
   "source": [
    "%%sql\n",
    "\n",
    "SELECT msrp\n",
    "FROM Cars\n",
    "LIMIT 5"
   ]
  },
  {
   "cell_type": "markdown",
   "metadata": {},
   "source": [
    "## The `WHERE` clause:\n",
    "\n",
    "`SELECT column_name` \n",
    "\n",
    "`FROM table_name` \n",
    "\n",
    "`WHERE condition`"
   ]
  },
  {
   "cell_type": "code",
   "execution_count": null,
   "metadata": {},
   "outputs": [],
   "source": [
    "%%sql\n",
    "\n",
    "SELECT id, price \n",
    "FROM Sales\n",
    "WHERE price > 10000\n",
    "LIMIT 5"
   ]
  },
  {
   "cell_type": "code",
   "execution_count": null,
   "metadata": {},
   "outputs": [],
   "source": [
    "%%sql\n",
    "\n",
    "Select Cars.id, Cars.msrp, Sales.price\n",
    "FROM Cars, Sales\n",
    "Where Cars.id = Sales.car_id\n",
    "LIMIT 5"
   ]
  },
  {
   "cell_type": "markdown",
   "metadata": {},
   "source": [
    "## The `ORDER BY` statement:\n",
    "\n",
    "`SELECT column_name`\n",
    "\n",
    "`FROM table_name`\n",
    "\n",
    "`ORDER BY column_name [ASC or DESC]`"
   ]
  },
  {
   "cell_type": "code",
   "execution_count": null,
   "metadata": {},
   "outputs": [],
   "source": [
    "%%sql\n",
    "\n",
    "SELECT id, name, salary\n",
    "FROM Employees\n",
    "ORDER BY salary DESC\n",
    "LIMIT 10"
   ]
  },
  {
   "cell_type": "markdown",
   "metadata": {},
   "source": [
    "## `INNER JOIN`\n",
    "`INNER JOIN` combines rows from two or more tables based on a related column between them. This type of join returns only the rows that have matching values in both tables. If there is no match, the rows will not appear in the result set.\n",
    "\n",
    "In SQL, if you use JOIN without specifying the type of join, it defaults to INNER JOIN. Therefore, JOIN and INNER JOIN are functionally equivalent and will produce the same result set, which includes only the rows that have matching values in both tables being joined.\n"
   ]
  },
  {
   "cell_type": "code",
   "execution_count": null,
   "metadata": {},
   "outputs": [],
   "source": [
    "%%sql\n",
    "\n",
    "SELECT Customers.first_name, Customers.last_name, Sales.date, Sales.price\n",
    "FROM Customers\n",
    "INNER JOIN Sales ON Customers.id = Sales.customer_id\n",
    "WHERE Sales.price > 90000\n",
    "LIMIT 10"
   ]
  },
  {
   "cell_type": "code",
   "execution_count": null,
   "metadata": {},
   "outputs": [],
   "source": [
    "%%sql\n",
    "\n",
    "SELECT\n",
    "    Customers.first_name,\n",
    "    Customers.last_name,\n",
    "    Cars.make,\n",
    "    Cars.type,\n",
    "    Cars.msrp,\n",
    "    Sales.date,\n",
    "    Sales.price\n",
    "FROM Customers\n",
    "JOIN Sales ON Customers.id = Sales.customer_id\n",
    "JOIN Cars ON Sales.car_id = Cars.id\n",
    "LIMIT 10\n"
   ]
  },
  {
   "cell_type": "markdown",
   "id": "a4e4093f",
   "metadata": {},
   "source": [
    "## Functions:\n",
    "- `count` used to count rows \n",
    "- `sum` used to sum values\n",
    "- `min` used to find the minimum value\n",
    "- `max` used to find the maximum value\n",
    "- `avg` used to calculate the mean\n",
    "\n",
    "## GROUP BY\n",
    "The `GROUP BY` statement is used to arrange identical data into groups with the help of aggregate functions like `count()`, `sum()`, `max()`, `min()`, `avg()`. When you use a `GROUP BY`` clause, you're instructing the SQL database to combine rows that have the same values in the specified columns into summary rows, like \"find the number of customers in each country\" or \"calculate the total revenue from each product category.\"\n",
    "\n",
    "Without `GROUP BY`, an aggregate function like `count()` would return a single value for the entire table or dataset.\n",
    "With `GROUP BY`, you get the count for each group separately."
   ]
  },
  {
   "cell_type": "markdown",
   "metadata": {},
   "source": [
    "## Examples\n",
    "\n",
    "### Count the number of sales each employee has made."
   ]
  },
  {
   "cell_type": "code",
   "execution_count": null,
   "metadata": {},
   "outputs": [],
   "source": [
    "%%sql\n",
    "\n",
    "SELECT employee_id, count(*) AS number_of_sales\n",
    "FROM Sales\n",
    "GROUP BY employee_id"
   ]
  },
  {
   "cell_type": "markdown",
   "metadata": {},
   "source": [
    "### Find the minimum sale price of all sales."
   ]
  },
  {
   "cell_type": "code",
   "execution_count": null,
   "metadata": {},
   "outputs": [],
   "source": [
    "%%sql\n",
    "\n",
    "SELECT min(price) AS min_sale_price\n",
    "FROM Sales"
   ]
  },
  {
   "cell_type": "markdown",
   "metadata": {},
   "source": [
    "### Find the maximum sale price of all sales."
   ]
  },
  {
   "cell_type": "code",
   "execution_count": null,
   "metadata": {},
   "outputs": [],
   "source": [
    "%%sql\n",
    "\n",
    "SELECT max(price) AS max_sale_price\n",
    "FROM Sales"
   ]
  },
  {
   "cell_type": "markdown",
   "metadata": {},
   "source": [
    "### Calculate the average salary of all employees."
   ]
  },
  {
   "cell_type": "code",
   "execution_count": null,
   "metadata": {},
   "outputs": [],
   "source": [
    "%%sql \n",
    "\n",
    "SELECT AVG(salary) AS average_salary\n",
    "FROM Employees"
   ]
  },
  {
   "cell_type": "markdown",
   "metadata": {},
   "source": []
  }
 ],
 "metadata": {
  "kernelspec": {
   "display_name": "Python 3 (ipykernel)",
   "language": "python",
   "name": "python3"
  },
  "language_info": {
   "codemirror_mode": {
    "name": "ipython",
    "version": 3
   },
   "file_extension": ".py",
   "mimetype": "text/x-python",
   "name": "python",
   "nbconvert_exporter": "python",
   "pygments_lexer": "ipython3",
   "version": "3.10.8"
  }
 },
 "nbformat": 4,
 "nbformat_minor": 5
}
