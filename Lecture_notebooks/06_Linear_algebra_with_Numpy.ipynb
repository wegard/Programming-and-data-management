{
 "cells": [
  {
   "cell_type": "markdown",
   "id": "63d24f00",
   "metadata": {
    "slideshow": {
     "slide_type": "slide"
    }
   },
   "source": [
    "# Nummerical Python: `NumPy`\n",
    "\n",
    "## Programming and Data Management (EDI 3400)\n",
    "\n",
    "### *Vegard H. Larsen (Department of Data Science and Analytics)*"
   ]
  },
  {
   "cell_type": "markdown",
   "id": "8add8eb5",
   "metadata": {
    "slideshow": {
     "slide_type": "slide"
    }
   },
   "source": [
    "# 1. Introduction to NumPy\n",
    "\n",
    "NumPy, which stands for \"Numerical Python\", is a foundational library in the Python ecosystem that provides a powerful array object and an assortment of mathematical functions to effortlessly perform complex numerical computations. At its heart lies the `ndarray` or n-dimensional array, a versatile data structure that facilitates efficient storage and operations on large datasets. NumPy's capabilities are particularly tailored for mathematical tasks like linear algebra, statistical analysis, and matrix manipulations, making it an essential tool for anyone venturing into data analysis, scientific computing, or machine learning in Python. Getting acquainted with NumPy can greatly enhance their ability to handle and analyze numerical data, bridging the gap between basic programming and more advanced computational tasks."
   ]
  },
  {
   "cell_type": "markdown",
   "id": "10d7ebd5",
   "metadata": {
    "slideshow": {
     "slide_type": "slide"
    }
   },
   "source": [
    "## What is NumPy?\n",
    "\n",
    "- A library that supports large, multi-dimensional **numerical** arrays and matrices, and a large collection of functions for these objects\n",
    "- NumPy is a cornerstone in the scientific Python community, and most other scientific packages rely on NumPy to work\n",
    "- Most types of data we will ever encounter can be represented as numerical arrays and matrices, and that includes\n",
    "    * Collections of documents\n",
    "    * Collections of images and videos\n",
    "    * Collections of sound clips\n",
    "- NumPy arrays provides `list` like functionality but NumPy is much faster, more scalable and more efficient than a regular `list`"
   ]
  },
  {
   "cell_type": "markdown",
   "id": "3085c49f",
   "metadata": {
    "slideshow": {
     "slide_type": "slide"
    }
   },
   "source": [
    "## Importing NumPy"
   ]
  },
  {
   "cell_type": "code",
   "execution_count": 13,
   "id": "0aae106a",
   "metadata": {
    "slideshow": {
     "slide_type": "-"
    }
   },
   "outputs": [
    {
     "data": {
      "text/plain": [
       "'1.23.5'"
      ]
     },
     "execution_count": 13,
     "metadata": {},
     "output_type": "execute_result"
    }
   ],
   "source": [
    "import numpy\n",
    "numpy.__version__"
   ]
  },
  {
   "cell_type": "code",
   "execution_count": 14,
   "id": "bc3c3a66",
   "metadata": {
    "slideshow": {
     "slide_type": "fragment"
    }
   },
   "outputs": [],
   "source": [
    "# The standard convention for importing NumPy is by using the keyword np\n",
    "\n",
    "import numpy as np"
   ]
  },
  {
   "cell_type": "code",
   "execution_count": 15,
   "id": "8ab7433e",
   "metadata": {
    "slideshow": {
     "slide_type": "fragment"
    }
   },
   "outputs": [
    {
     "name": "stdout",
     "output_type": "stream",
     "text": [
      "[1 2 3]\n"
     ]
    }
   ],
   "source": [
    "# Then we can access the functionality of the library through this keyword.  \n",
    "# We can create an NumPy array from a regular list as follows:\n",
    "\n",
    "x = np.array([1, 2, 3])\n",
    "print(x)"
   ]
  },
  {
   "cell_type": "code",
   "execution_count": 16,
   "id": "26642918",
   "metadata": {
    "slideshow": {
     "slide_type": "fragment"
    }
   },
   "outputs": [
    {
     "data": {
      "text/plain": [
       "numpy.ndarray"
      ]
     },
     "execution_count": 16,
     "metadata": {},
     "output_type": "execute_result"
    }
   ],
   "source": [
    "# We now have a new type of container\n",
    "\n",
    "type(x)"
   ]
  },
  {
   "cell_type": "markdown",
   "id": "46896c13",
   "metadata": {
    "slideshow": {
     "slide_type": "slide"
    }
   },
   "source": [
    "## Speed test: NumPy vs. Python list"
   ]
  },
  {
   "cell_type": "code",
   "execution_count": 17,
   "id": "c15ae998",
   "metadata": {
    "slideshow": {
     "slide_type": "fragment"
    }
   },
   "outputs": [],
   "source": [
    "import numpy as np\n",
    "\n",
    "python_list = list(range(10_000_000)) # [0, 1, 2, ..., 9 999 999]\n",
    "numpy_array = np.arange(10_000_000)   # np.array([0, 1, 2, ..., 9 999 999])"
   ]
  },
  {
   "cell_type": "markdown",
   "id": "9ed768df",
   "metadata": {
    "slideshow": {
     "slide_type": "fragment"
    }
   },
   "source": [
    "- Let's multiply all the numbers by 5 and check how long it takes"
   ]
  },
  {
   "cell_type": "code",
   "execution_count": 18,
   "id": "11c2c851",
   "metadata": {
    "slideshow": {
     "slide_type": "fragment"
    }
   },
   "outputs": [
    {
     "name": "stdout",
     "output_type": "stream",
     "text": [
      "217 ms ± 1.14 ms per loop (mean ± std. dev. of 7 runs, 1 loop each)\n"
     ]
    }
   ],
   "source": [
    "%timeit python_list5 = [x * 5 for x in python_list]"
   ]
  },
  {
   "cell_type": "code",
   "execution_count": 19,
   "id": "5d4b02d3",
   "metadata": {
    "slideshow": {
     "slide_type": "fragment"
    }
   },
   "outputs": [
    {
     "name": "stdout",
     "output_type": "stream",
     "text": [
      "8.9 ms ± 265 µs per loop (mean ± std. dev. of 7 runs, 100 loops each)\n"
     ]
    }
   ],
   "source": [
    "%timeit numpy_array5 = numpy_array*5"
   ]
  },
  {
   "cell_type": "markdown",
   "id": "62a88c46",
   "metadata": {
    "slideshow": {
     "slide_type": "slide"
    }
   },
   "source": [
    "# 2. Working with NumPy arrays"
   ]
  },
  {
   "cell_type": "markdown",
   "id": "4865d363",
   "metadata": {
    "slideshow": {
     "slide_type": "slide"
    }
   },
   "source": [
    "## The NumPy Array Object (`ndarray`)\n",
    "\n",
    "- A multidimensional container of items of the **same type**\n",
    "- A ndarray can be accessed and modified by indexing or slicing such as regular lists\n",
    "- We can use several built-in methods and attributes that belongs to the ndarray object"
   ]
  },
  {
   "cell_type": "markdown",
   "id": "674c5c53",
   "metadata": {
    "slideshow": {
     "slide_type": "slide"
    }
   },
   "source": [
    "## Let us create a one-dimensional numpy-array\n",
    "\n",
    "- Make sure all the values are numeric"
   ]
  },
  {
   "cell_type": "code",
   "execution_count": 20,
   "id": "e9695668",
   "metadata": {
    "slideshow": {
     "slide_type": "fragment"
    }
   },
   "outputs": [
    {
     "name": "stdout",
     "output_type": "stream",
     "text": [
      "[-1.  4. -3. 10.  7.  3.  8. 10.]\n"
     ]
    },
    {
     "data": {
      "text/plain": [
       "dtype('float64')"
      ]
     },
     "execution_count": 20,
     "metadata": {},
     "output_type": "execute_result"
    }
   ],
   "source": [
    "# A one dimensional array\n",
    "\n",
    "numpy_array = np.array([-1, 4, -3, 10, 7, 3.0, 8, 10])\n",
    "print(numpy_array)\n",
    "numpy_array.dtype # the type of the elements in the array"
   ]
  },
  {
   "cell_type": "code",
   "execution_count": 21,
   "id": "cdcdec51",
   "metadata": {
    "slideshow": {
     "slide_type": "fragment"
    }
   },
   "outputs": [
    {
     "name": "stdout",
     "output_type": "stream",
     "text": [
      "['-1.5' '4.0' 'j' '10' '7.99' '3' '8' 'hello!']\n"
     ]
    },
    {
     "data": {
      "text/plain": [
       "dtype('<U32')"
      ]
     },
     "execution_count": 21,
     "metadata": {},
     "output_type": "execute_result"
    }
   ],
   "source": [
    "# It is possible to add different types,\n",
    "# but then we will lose most advantages of using Numpy\n",
    "\n",
    "numpy_array_with_different_types = np.array([-1.5, 4.0, 'j', 10, 7.99, 3, 8, 'hello!'])\n",
    "print(numpy_array_with_different_types)\n",
    "numpy_array_with_different_types.dtype"
   ]
  },
  {
   "cell_type": "code",
   "execution_count": 22,
   "id": "b727e92b",
   "metadata": {
    "slideshow": {
     "slide_type": "slide"
    }
   },
   "outputs": [
    {
     "name": "stdout",
     "output_type": "stream",
     "text": [
      "[-1.5   3.    4.    7.99  8.   10.     nan   nan]\n"
     ]
    },
    {
     "data": {
      "text/plain": [
       "dtype('float64')"
      ]
     },
     "execution_count": 22,
     "metadata": {},
     "output_type": "execute_result"
    }
   ],
   "source": [
    "# You can convert an array of strings into an array of floats (with NaNs) \n",
    "\n",
    "numpy_array_numerics = np.genfromtxt(numpy_array_with_different_types)\n",
    "numpy_array_numerics.sort()\n",
    "print(numpy_array_numerics)\n",
    "numpy_array_numerics.dtype\n"
   ]
  },
  {
   "cell_type": "markdown",
   "id": "bc6504f5",
   "metadata": {
    "slideshow": {
     "slide_type": "slide"
    }
   },
   "source": [
    "## The dimensions of the `ndarray`"
   ]
  },
  {
   "cell_type": "code",
   "execution_count": 23,
   "id": "d26dd0ec",
   "metadata": {
    "slideshow": {
     "slide_type": "-"
    }
   },
   "outputs": [
    {
     "name": "stdout",
     "output_type": "stream",
     "text": [
      "(8,)\n"
     ]
    }
   ],
   "source": [
    "# What is the dimensions of this ndarray?\n",
    "\n",
    "numpy_array = np.array([-1.5, 4.0, -3, 10, 7.99, 3, 8, 9])\n",
    "print(numpy_array.shape)"
   ]
  },
  {
   "cell_type": "code",
   "execution_count": 24,
   "id": "ae3e1973",
   "metadata": {
    "slideshow": {
     "slide_type": "fragment"
    }
   },
   "outputs": [
    {
     "name": "stdout",
     "output_type": "stream",
     "text": [
      "(1, 8)\n"
     ]
    }
   ],
   "source": [
    "# Alternatively, we can use two sets of brackets\n",
    "\n",
    "numpy_array_alt = np.array([[-1.5, 4.0, -3, 10, 7.99, 3, 8, 9]])\n",
    "print(numpy_array_alt.shape)"
   ]
  },
  {
   "cell_type": "markdown",
   "id": "fd0cd84c",
   "metadata": {
    "slideshow": {
     "slide_type": "slide"
    }
   },
   "source": [
    "## Two-dimensional arrays\n",
    "\n",
    "- When the array has more than one dimension, the shape of the array is given as $$rows * columns$$ \n",
    "\n",
    "An example of an $3 * 4$ matrix:\n",
    "\n",
    "|        | column 0 | column 1  | column 2  | column 3  |\n",
    "|---     |---       |---|---|---|\n",
    "| row 0  | 10       | 12        | 14        | 16        |\n",
    "| row 1  | 10.5     | 12.5      | 14.5      | 16.5      |\n",
    "| row 2  | 11       | 13        | 15        | 17        | "
   ]
  },
  {
   "cell_type": "markdown",
   "id": "2d7b40d1",
   "metadata": {
    "slideshow": {
     "slide_type": "slide"
    }
   },
   "source": [
    "## Let's create this $3*4$ matrix in NumPy"
   ]
  },
  {
   "cell_type": "code",
   "execution_count": 25,
   "id": "1dfc517d",
   "metadata": {
    "slideshow": {
     "slide_type": "fragment"
    }
   },
   "outputs": [],
   "source": [
    "three_times_four = np.array([[10, 12, 14, 16,],\n",
    "                             [10.5, 12.5, 14.5, 16.5],\n",
    "                             [11, 13, 15, 17]])"
   ]
  },
  {
   "cell_type": "code",
   "execution_count": 26,
   "id": "4f9e67bf",
   "metadata": {
    "slideshow": {
     "slide_type": "fragment"
    }
   },
   "outputs": [
    {
     "name": "stdout",
     "output_type": "stream",
     "text": [
      "[[10.  12.  14.  16. ]\n",
      " [10.5 12.5 14.5 16.5]\n",
      " [11.  13.  15.  17. ]]\n"
     ]
    }
   ],
   "source": [
    "print(three_times_four)"
   ]
  },
  {
   "cell_type": "code",
   "execution_count": 27,
   "id": "58ba0b97",
   "metadata": {
    "slideshow": {
     "slide_type": "fragment"
    }
   },
   "outputs": [
    {
     "data": {
      "text/plain": [
       "(3, 4)"
      ]
     },
     "execution_count": 27,
     "metadata": {},
     "output_type": "execute_result"
    }
   ],
   "source": [
    "# What is the shape of the array?\n",
    "\n",
    "three_times_four.shape"
   ]
  },
  {
   "cell_type": "code",
   "execution_count": 28,
   "id": "9eac9018",
   "metadata": {
    "slideshow": {
     "slide_type": "fragment"
    }
   },
   "outputs": [
    {
     "data": {
      "text/plain": [
       "dtype('float64')"
      ]
     },
     "execution_count": 28,
     "metadata": {},
     "output_type": "execute_result"
    }
   ],
   "source": [
    "# The type of the elements of the array\n",
    "\n",
    "three_times_four.dtype"
   ]
  },
  {
   "cell_type": "markdown",
   "id": "d65cce5c",
   "metadata": {
    "slideshow": {
     "slide_type": "slide"
    }
   },
   "source": [
    "## We could have started with a one-dimensional array"
   ]
  },
  {
   "cell_type": "code",
   "execution_count": 29,
   "id": "9ff98dd5",
   "metadata": {
    "slideshow": {
     "slide_type": "-"
    }
   },
   "outputs": [
    {
     "data": {
      "text/plain": [
       "(12,)"
      ]
     },
     "execution_count": 29,
     "metadata": {},
     "output_type": "execute_result"
    }
   ],
   "source": [
    "a = np.array([10, 12, 14, 16, 10.5, 12.5, 14.5, 16.5, 11, 13, 15, 17])\n",
    "a.shape"
   ]
  },
  {
   "cell_type": "code",
   "execution_count": 30,
   "id": "29041853",
   "metadata": {
    "slideshow": {
     "slide_type": "fragment"
    }
   },
   "outputs": [],
   "source": [
    "# And we can set the dimensions as a tuple\n",
    "\n",
    "a.shape = (3, 4)  # let's try using -1 as one of the elements in the tuple "
   ]
  },
  {
   "cell_type": "code",
   "execution_count": 31,
   "id": "8a5f635a",
   "metadata": {
    "slideshow": {
     "slide_type": "fragment"
    }
   },
   "outputs": [
    {
     "data": {
      "text/plain": [
       "array([[10. , 12. , 14. , 16. ],\n",
       "       [10.5, 12.5, 14.5, 16.5],\n",
       "       [11. , 13. , 15. , 17. ]])"
      ]
     },
     "execution_count": 31,
     "metadata": {},
     "output_type": "execute_result"
    }
   ],
   "source": [
    "a"
   ]
  },
  {
   "cell_type": "code",
   "execution_count": 32,
   "id": "3db44ef0",
   "metadata": {
    "slideshow": {
     "slide_type": "fragment"
    }
   },
   "outputs": [
    {
     "data": {
      "text/plain": [
       "(3, 4)"
      ]
     },
     "execution_count": 32,
     "metadata": {},
     "output_type": "execute_result"
    }
   ],
   "source": [
    "a.shape"
   ]
  },
  {
   "cell_type": "markdown",
   "id": "84bd3e3b",
   "metadata": {
    "slideshow": {
     "slide_type": "slide"
    }
   },
   "source": [
    "## Accessing the elements of `a`"
   ]
  },
  {
   "cell_type": "code",
   "execution_count": 33,
   "id": "b0e00444",
   "metadata": {
    "slideshow": {
     "slide_type": "fragment"
    }
   },
   "outputs": [
    {
     "data": {
      "text/plain": [
       "array([10., 12., 14., 16.])"
      ]
     },
     "execution_count": 33,
     "metadata": {},
     "output_type": "execute_result"
    }
   ],
   "source": [
    "# Accessing the first (0th) row\n",
    "\n",
    "a[0]"
   ]
  },
  {
   "cell_type": "code",
   "execution_count": 34,
   "id": "745cb1f7",
   "metadata": {
    "slideshow": {
     "slide_type": "fragment"
    }
   },
   "outputs": [
    {
     "data": {
      "text/plain": [
       "array([16. , 16.5, 17. ])"
      ]
     },
     "execution_count": 34,
     "metadata": {},
     "output_type": "execute_result"
    }
   ],
   "source": [
    "# Accessing the last column\n",
    "\n",
    "a[:, 3] # all the rows in the last (3rd) column (can also use -1)"
   ]
  },
  {
   "cell_type": "code",
   "execution_count": 35,
   "id": "a238f0e4",
   "metadata": {
    "slideshow": {
     "slide_type": "fragment"
    }
   },
   "outputs": [
    {
     "data": {
      "text/plain": [
       "14.5"
      ]
     },
     "execution_count": 35,
     "metadata": {},
     "output_type": "execute_result"
    }
   ],
   "source": [
    "# Accessing the element in the 1st row and 2nd column (14.5)\n",
    "\n",
    "a[1, 2]"
   ]
  },
  {
   "cell_type": "markdown",
   "id": "39766af2",
   "metadata": {
    "slideshow": {
     "slide_type": "slide"
    }
   },
   "source": [
    "## The `ndarray` is mutable and we can change the values  "
   ]
  },
  {
   "cell_type": "code",
   "execution_count": 36,
   "id": "b618d4c4",
   "metadata": {
    "slideshow": {
     "slide_type": "-"
    }
   },
   "outputs": [],
   "source": [
    "a[2, 2] = 100  # the previous value was 15"
   ]
  },
  {
   "cell_type": "code",
   "execution_count": 37,
   "id": "3b3dd017",
   "metadata": {
    "slideshow": {
     "slide_type": "fragment"
    }
   },
   "outputs": [
    {
     "data": {
      "text/plain": [
       "array([[ 10. ,  12. ,  14. ,  16. ],\n",
       "       [ 10.5,  12.5,  14.5,  16.5],\n",
       "       [ 11. ,  13. , 100. ,  17. ]])"
      ]
     },
     "execution_count": 37,
     "metadata": {},
     "output_type": "execute_result"
    }
   ],
   "source": [
    "a"
   ]
  },
  {
   "cell_type": "markdown",
   "id": "bd2de90b",
   "metadata": {
    "slideshow": {
     "slide_type": "slide"
    }
   },
   "source": [
    "## Slicing and indexing work as with regular lists"
   ]
  },
  {
   "cell_type": "code",
   "execution_count": 38,
   "id": "19d16fa6",
   "metadata": {
    "slideshow": {
     "slide_type": "-"
    }
   },
   "outputs": [
    {
     "data": {
      "text/plain": [
       "array([[ 14.5,  16.5],\n",
       "       [100. ,  17. ]])"
      ]
     },
     "execution_count": 38,
     "metadata": {},
     "output_type": "execute_result"
    }
   ],
   "source": [
    "# Select the last two rows and the last two columns\n",
    "\n",
    "a[1:3, 2:4] # Remember the endpoint in the slice is non-inclusive"
   ]
  },
  {
   "cell_type": "code",
   "execution_count": 39,
   "id": "6cbf9092",
   "metadata": {
    "slideshow": {
     "slide_type": "fragment"
    }
   },
   "outputs": [
    {
     "data": {
      "text/plain": [
       "array([[ 14.5,  16.5],\n",
       "       [100. ,  17. ]])"
      ]
     },
     "execution_count": 39,
     "metadata": {},
     "output_type": "execute_result"
    }
   ],
   "source": [
    "# Alternatively\n",
    "a[1:, 2:]"
   ]
  },
  {
   "cell_type": "code",
   "execution_count": 40,
   "id": "6f48a784",
   "metadata": {},
   "outputs": [],
   "source": [
    "## Filtering arrays\n",
    "\n",
    "# Create a new array with some values\n",
    "\n",
    "a = np.array([1, 2, 3, 4, 5, 6, 7, 8, 9, 10, 11, 12])"
   ]
  },
  {
   "cell_type": "code",
   "execution_count": 41,
   "id": "5fcd40b5",
   "metadata": {},
   "outputs": [
    {
     "data": {
      "text/plain": [
       "array([ 6,  7,  8,  9, 10, 11, 12])"
      ]
     },
     "execution_count": 41,
     "metadata": {},
     "output_type": "execute_result"
    }
   ],
   "source": [
    "# Create a new array with the values of a that are greater than 5\n",
    "\n",
    "a[a>5]"
   ]
  },
  {
   "cell_type": "markdown",
   "id": "f747d1bf",
   "metadata": {
    "slideshow": {
     "slide_type": "slide"
    }
   },
   "source": [
    "# 3. NumPy methods"
   ]
  },
  {
   "cell_type": "markdown",
   "id": "e2bc6d47",
   "metadata": {
    "slideshow": {
     "slide_type": "slide"
    }
   },
   "source": [
    "## Some special array methods"
   ]
  },
  {
   "cell_type": "code",
   "execution_count": 42,
   "id": "a4afec54",
   "metadata": {
    "slideshow": {
     "slide_type": "-"
    }
   },
   "outputs": [
    {
     "data": {
      "text/plain": [
       "array([0, 1, 2, 3, 4, 5, 6, 7, 8, 9])"
      ]
     },
     "execution_count": 42,
     "metadata": {},
     "output_type": "execute_result"
    }
   ],
   "source": [
    "# A range of numbers (similar to the range() function, but for Numpy arrays)\n",
    "\n",
    "np.arange(10)"
   ]
  },
  {
   "cell_type": "code",
   "execution_count": 43,
   "id": "5f1baffc",
   "metadata": {
    "slideshow": {
     "slide_type": "fragment"
    }
   },
   "outputs": [
    {
     "data": {
      "text/plain": [
       "array([[0., 0., 0., 0.],\n",
       "       [0., 0., 0., 0.],\n",
       "       [0., 0., 0., 0.],\n",
       "       [0., 0., 0., 0.]])"
      ]
     },
     "execution_count": 43,
     "metadata": {},
     "output_type": "execute_result"
    }
   ],
   "source": [
    "# A matrix of zeros (4 rows and 4 columns)\n",
    "\n",
    "np.zeros((4,4))"
   ]
  },
  {
   "cell_type": "code",
   "execution_count": 44,
   "id": "f69db8b3",
   "metadata": {
    "slideshow": {
     "slide_type": "fragment"
    }
   },
   "outputs": [
    {
     "data": {
      "text/plain": [
       "array([[1., 1.],\n",
       "       [1., 1.]])"
      ]
     },
     "execution_count": 44,
     "metadata": {},
     "output_type": "execute_result"
    }
   ],
   "source": [
    "# A matrix of ones (2*2)\n",
    "np.ones((2,2))"
   ]
  },
  {
   "cell_type": "code",
   "execution_count": 45,
   "id": "64d023ca",
   "metadata": {
    "slideshow": {
     "slide_type": "fragment"
    }
   },
   "outputs": [
    {
     "data": {
      "text/plain": [
       "array([[1., 0., 0., 0.],\n",
       "       [0., 1., 0., 0.],\n",
       "       [0., 0., 1., 0.],\n",
       "       [0., 0., 0., 1.]])"
      ]
     },
     "execution_count": 45,
     "metadata": {},
     "output_type": "execute_result"
    }
   ],
   "source": [
    "# The identity matrix\n",
    "\n",
    "np.eye(4,4)"
   ]
  },
  {
   "cell_type": "markdown",
   "id": "7d630915",
   "metadata": {
    "slideshow": {
     "slide_type": "slide"
    }
   },
   "source": [
    "## Arithmetic operations with NumPy"
   ]
  },
  {
   "cell_type": "code",
   "execution_count": 46,
   "id": "59eb153e",
   "metadata": {
    "slideshow": {
     "slide_type": "-"
    }
   },
   "outputs": [],
   "source": [
    "a = np.array([1, 2, 3, 4, 5, 6, 7, 8, 9, 10, 11, 12])\n",
    "a.shape = 4, 3"
   ]
  },
  {
   "cell_type": "code",
   "execution_count": 47,
   "id": "d1506e50",
   "metadata": {
    "slideshow": {
     "slide_type": "-"
    }
   },
   "outputs": [
    {
     "name": "stdout",
     "output_type": "stream",
     "text": [
      "[[ 1  2  3]\n",
      " [ 4  5  6]\n",
      " [ 7  8  9]\n",
      " [10 11 12]]\n"
     ]
    }
   ],
   "source": [
    "print(a)"
   ]
  },
  {
   "cell_type": "markdown",
   "id": "32e5eb04",
   "metadata": {
    "slideshow": {
     "slide_type": "fragment"
    }
   },
   "source": [
    "### Multiplying the elements  (element wise multiplication)"
   ]
  },
  {
   "cell_type": "code",
   "execution_count": 48,
   "id": "497450b1",
   "metadata": {
    "slideshow": {
     "slide_type": "-"
    }
   },
   "outputs": [
    {
     "data": {
      "text/plain": [
       "array([[  1,   4,   9],\n",
       "       [ 16,  25,  36],\n",
       "       [ 49,  64,  81],\n",
       "       [100, 121, 144]])"
      ]
     },
     "execution_count": 48,
     "metadata": {},
     "output_type": "execute_result"
    }
   ],
   "source": [
    "a * a"
   ]
  },
  {
   "cell_type": "markdown",
   "id": "1fbf7162",
   "metadata": {
    "slideshow": {
     "slide_type": "slide"
    }
   },
   "source": [
    "### Adding elements "
   ]
  },
  {
   "cell_type": "code",
   "execution_count": 49,
   "id": "4cb5d2e8",
   "metadata": {},
   "outputs": [
    {
     "data": {
      "text/plain": [
       "array([[ 2,  4,  6],\n",
       "       [ 8, 10, 12],\n",
       "       [14, 16, 18],\n",
       "       [20, 22, 24]])"
      ]
     },
     "execution_count": 49,
     "metadata": {},
     "output_type": "execute_result"
    }
   ],
   "source": [
    "a + a "
   ]
  },
  {
   "cell_type": "markdown",
   "id": "f5000631",
   "metadata": {
    "slideshow": {
     "slide_type": "fragment"
    }
   },
   "source": [
    "### Rise all elements to the power of 3"
   ]
  },
  {
   "cell_type": "code",
   "execution_count": 50,
   "id": "ffff285c",
   "metadata": {
    "slideshow": {
     "slide_type": "-"
    }
   },
   "outputs": [
    {
     "data": {
      "text/plain": [
       "array([[   1,    8,   27],\n",
       "       [  64,  125,  216],\n",
       "       [ 343,  512,  729],\n",
       "       [1000, 1331, 1728]])"
      ]
     },
     "execution_count": 50,
     "metadata": {},
     "output_type": "execute_result"
    }
   ],
   "source": [
    "a ** 3"
   ]
  },
  {
   "cell_type": "markdown",
   "id": "1c7186c5",
   "metadata": {
    "slideshow": {
     "slide_type": "slide"
    }
   },
   "source": [
    "## Some more array functions "
   ]
  },
  {
   "cell_type": "markdown",
   "id": "d0853821",
   "metadata": {
    "slideshow": {
     "slide_type": "-"
    }
   },
   "source": [
    "#### Make a matrix one dimensional with the `ravel`  method"
   ]
  },
  {
   "cell_type": "code",
   "execution_count": 51,
   "id": "ae06b023",
   "metadata": {
    "slideshow": {
     "slide_type": "fragment"
    }
   },
   "outputs": [
    {
     "data": {
      "text/plain": [
       "(2, 3)"
      ]
     },
     "execution_count": 51,
     "metadata": {},
     "output_type": "execute_result"
    }
   ],
   "source": [
    "A = np.array([[2, 3, 4],\n",
    "              [14, 10, 6]])\n",
    "A.shape"
   ]
  },
  {
   "cell_type": "code",
   "execution_count": 52,
   "id": "1128e5a6",
   "metadata": {
    "slideshow": {
     "slide_type": "fragment"
    }
   },
   "outputs": [],
   "source": [
    "A_flattened = A.ravel()"
   ]
  },
  {
   "cell_type": "code",
   "execution_count": 53,
   "id": "f6ad1977",
   "metadata": {
    "slideshow": {
     "slide_type": "fragment"
    }
   },
   "outputs": [
    {
     "data": {
      "text/plain": [
       "array([[ 2,  3,  4],\n",
       "       [14, 10,  6]])"
      ]
     },
     "execution_count": 53,
     "metadata": {},
     "output_type": "execute_result"
    }
   ],
   "source": [
    "# ravel() does not change the original matrix\n",
    "\n",
    "A"
   ]
  },
  {
   "cell_type": "markdown",
   "id": "c5d799d8",
   "metadata": {
    "slideshow": {
     "slide_type": "slide"
    }
   },
   "source": [
    "## Random numbers with Numpy"
   ]
  },
  {
   "cell_type": "code",
   "execution_count": 54,
   "id": "399217a1",
   "metadata": {},
   "outputs": [
    {
     "name": "stdout",
     "output_type": "stream",
     "text": [
      "[ 95 710   2 834 733 768  86 352 635  99]\n"
     ]
    }
   ],
   "source": [
    "# random integers below a given value (here I use 10)\n",
    "\n",
    "rand_ints = np.random.randint(1000, size=(10))\n",
    "print(rand_ints)"
   ]
  },
  {
   "cell_type": "code",
   "execution_count": 55,
   "id": "9b42483f",
   "metadata": {
    "slideshow": {
     "slide_type": "fragment"
    }
   },
   "outputs": [
    {
     "name": "stdout",
     "output_type": "stream",
     "text": [
      "[[0.18373158 0.74435425 0.2833022 ]\n",
      " [0.07159149 0.32419837 0.91077249]\n",
      " [0.19366387 0.9290263  0.14915245]]\n"
     ]
    }
   ],
   "source": [
    "# random samples from a uniform distribution over [0, 1)\n",
    "\n",
    "rand_floats = np.random.rand(3,3)\n",
    "print(rand_floats)"
   ]
  },
  {
   "cell_type": "markdown",
   "id": "19d9d595",
   "metadata": {
    "slideshow": {
     "slide_type": "slide"
    }
   },
   "source": [
    "## Return an array drawn from the \"standard normal\" distribution.\n",
    "\n"
   ]
  },
  {
   "cell_type": "code",
   "execution_count": 56,
   "id": "b51bd578",
   "metadata": {
    "slideshow": {
     "slide_type": "-"
    }
   },
   "outputs": [],
   "source": [
    "x = np.random.randn(1000, 1)\n",
    "#print(x)"
   ]
  },
  {
   "cell_type": "code",
   "execution_count": 57,
   "id": "a955c813",
   "metadata": {
    "slideshow": {
     "slide_type": "fragment"
    }
   },
   "outputs": [
    {
     "data": {
      "text/plain": [
       "-0.04101970528310343"
      ]
     },
     "execution_count": 57,
     "metadata": {},
     "output_type": "execute_result"
    }
   ],
   "source": [
    "# Calculate the mean of the numbers\n",
    "\n",
    "np.mean(x)"
   ]
  },
  {
   "cell_type": "code",
   "execution_count": 58,
   "id": "a21a8c80",
   "metadata": {
    "slideshow": {
     "slide_type": "fragment"
    }
   },
   "outputs": [
    {
     "data": {
      "text/plain": [
       "0.9764967486189323"
      ]
     },
     "execution_count": 58,
     "metadata": {},
     "output_type": "execute_result"
    }
   ],
   "source": [
    "# Calculate the standard deviation of the numbers\n",
    "\n",
    "np.std(x)"
   ]
  },
  {
   "cell_type": "markdown",
   "id": "37f97781",
   "metadata": {
    "slideshow": {
     "slide_type": "slide"
    }
   },
   "source": [
    "## We can also use random choice with Numpy"
   ]
  },
  {
   "cell_type": "code",
   "execution_count": 59,
   "id": "b40923f9",
   "metadata": {},
   "outputs": [],
   "source": [
    "def drawRandomCard():\n",
    "    '''\n",
    "    This function returns a random card from a deck of 52 cards.\n",
    "    '''\n",
    "    card_value = np.random.choice(\n",
    "        ['J', 'Q', 'K', 'A'] + [str(i+2) for i in range(9)]\n",
    "    )\n",
    "\n",
    "    card_suit = np.random.choice(\n",
    "        ['Heart', 'Diamonds', 'Clubs', 'Spades']\n",
    "    )\n",
    "\n",
    "    return card_suit + '-' + card_value"
   ]
  },
  {
   "cell_type": "code",
   "execution_count": 60,
   "id": "03748007",
   "metadata": {},
   "outputs": [
    {
     "data": {
      "text/plain": [
       "'Diamonds-5'"
      ]
     },
     "execution_count": 60,
     "metadata": {},
     "output_type": "execute_result"
    }
   ],
   "source": [
    "drawRandomCard()"
   ]
  },
  {
   "cell_type": "markdown",
   "id": "4cd6cb19",
   "metadata": {
    "slideshow": {
     "slide_type": "slide"
    }
   },
   "source": [
    "## Numpy methods"
   ]
  },
  {
   "cell_type": "code",
   "execution_count": 61,
   "id": "623073cd",
   "metadata": {
    "slideshow": {
     "slide_type": "-"
    }
   },
   "outputs": [],
   "source": [
    "# Numpy has its own random number generator\n",
    "\n",
    "rand_ints = np.random.randn(10)"
   ]
  },
  {
   "cell_type": "code",
   "execution_count": 62,
   "id": "ea4d7552",
   "metadata": {},
   "outputs": [
    {
     "name": "stdout",
     "output_type": "stream",
     "text": [
      "[-0.64608155 -0.64282067 -0.55422714 -0.36694679  0.07344789  0.48558739\n",
      "  0.48960269  0.53007004  0.55985312  1.89184768]\n"
     ]
    }
   ],
   "source": [
    "# Sorting the array\n",
    "# This will change the original array\n",
    "\n",
    "rand_ints.sort()\n",
    "print(rand_ints)"
   ]
  },
  {
   "cell_type": "markdown",
   "id": "6722bf6b",
   "metadata": {
    "slideshow": {
     "slide_type": "slide"
    }
   },
   "source": [
    "## Working with NaNs"
   ]
  },
  {
   "cell_type": "code",
   "execution_count": 63,
   "id": "6058aa92",
   "metadata": {
    "slideshow": {
     "slide_type": "-"
    }
   },
   "outputs": [
    {
     "data": {
      "text/plain": [
       "array([ 1.18998221, -0.41813104, -1.83304688,         nan, -0.41761412,\n",
       "        1.68148214,  0.04486807, -1.66298718, -0.69684782,  1.08758214])"
      ]
     },
     "execution_count": 63,
     "metadata": {},
     "output_type": "execute_result"
    }
   ],
   "source": [
    "rand_ints = np.random.randn(10)\n",
    "rand_ints[3] = np.nan\n",
    "rand_ints"
   ]
  },
  {
   "cell_type": "code",
   "execution_count": 64,
   "id": "889b7ce5",
   "metadata": {
    "slideshow": {
     "slide_type": "fragment"
    }
   },
   "outputs": [
    {
     "data": {
      "text/plain": [
       "numpy.float64"
      ]
     },
     "execution_count": 64,
     "metadata": {},
     "output_type": "execute_result"
    }
   ],
   "source": [
    "# The nan´s are of the type float\n",
    "\n",
    "type(rand_ints[3])"
   ]
  },
  {
   "cell_type": "code",
   "execution_count": 65,
   "id": "44c75c00",
   "metadata": {
    "slideshow": {
     "slide_type": "fragment"
    }
   },
   "outputs": [
    {
     "data": {
      "text/plain": [
       "nan"
      ]
     },
     "execution_count": 65,
     "metadata": {},
     "output_type": "execute_result"
    }
   ],
   "source": [
    "# Operations with a nan always returns a nan\n",
    "\n",
    "rand_ints[3]*3"
   ]
  },
  {
   "cell_type": "code",
   "execution_count": 66,
   "id": "0d569e43",
   "metadata": {
    "slideshow": {
     "slide_type": "fragment"
    }
   },
   "outputs": [
    {
     "data": {
      "text/plain": [
       "array([ 1.18998221, -0.41813104, -1.83304688,  0.        , -0.41761412,\n",
       "        1.68148214,  0.04486807, -1.66298718, -0.69684782,  1.08758214])"
      ]
     },
     "execution_count": 66,
     "metadata": {},
     "output_type": "execute_result"
    }
   ],
   "source": [
    "# We can convert the nans to zeros\n",
    "\n",
    "np.nan_to_num(rand_ints)"
   ]
  },
  {
   "cell_type": "markdown",
   "id": "b276e457",
   "metadata": {
    "slideshow": {
     "slide_type": "slide"
    }
   },
   "source": [
    "# 4. Linear algebra with NumPy"
   ]
  },
  {
   "cell_type": "markdown",
   "id": "bb1c8cbb",
   "metadata": {
    "slideshow": {
     "slide_type": "slide"
    }
   },
   "source": [
    "## Let's have a brief look at some methods for linear algebra\n",
    "\n",
    "- NumPy is a Python library for linear algebra. Most of what NumPy is used for is beyond the scope of this course, but let's have a quick look at some more advanced futures.  "
   ]
  },
  {
   "cell_type": "markdown",
   "id": "9cba28a1",
   "metadata": {
    "slideshow": {
     "slide_type": "fragment"
    }
   },
   "source": [
    "- Let us define two square matrices $(2*2)$"
   ]
  },
  {
   "cell_type": "code",
   "execution_count": 67,
   "id": "55dae156",
   "metadata": {
    "slideshow": {
     "slide_type": "-"
    }
   },
   "outputs": [],
   "source": [
    "# Using the method reshape does the same as A.shape = (2, 2) \n",
    "\n",
    "A = np.array([1, 2, 3, 4]).reshape((2,2)) \n",
    "\n",
    "\n",
    "B = np.array([2, 4, 6, 8]).reshape((2,2)) "
   ]
  },
  {
   "cell_type": "code",
   "execution_count": 68,
   "id": "314cd1be",
   "metadata": {
    "slideshow": {
     "slide_type": "fragment"
    }
   },
   "outputs": [
    {
     "name": "stdout",
     "output_type": "stream",
     "text": [
      "The A matrix:\n",
      "[[1 2]\n",
      " [3 4]]\n",
      "\n",
      "The B matrix\n",
      "[[2 4]\n",
      " [6 8]]\n"
     ]
    }
   ],
   "source": [
    "print('The A matrix:')\n",
    "print(A)\n",
    "print('')\n",
    "print('The B matrix')\n",
    "print(B)"
   ]
  },
  {
   "cell_type": "markdown",
   "id": "cf5c0311",
   "metadata": {
    "slideshow": {
     "slide_type": "slide"
    }
   },
   "source": [
    "### The transpose of a matrix\n",
    "   - The transpose of a matrix is found by interchanging its rows into columns or columns into rows."
   ]
  },
  {
   "cell_type": "code",
   "execution_count": 69,
   "id": "a6549c7f",
   "metadata": {},
   "outputs": [
    {
     "data": {
      "text/plain": [
       "array([[1, 2],\n",
       "       [3, 4]])"
      ]
     },
     "execution_count": 69,
     "metadata": {},
     "output_type": "execute_result"
    }
   ],
   "source": [
    "A"
   ]
  },
  {
   "cell_type": "code",
   "execution_count": 70,
   "id": "affc5488",
   "metadata": {
    "slideshow": {
     "slide_type": "fragment"
    }
   },
   "outputs": [
    {
     "data": {
      "text/plain": [
       "array([[1, 3],\n",
       "       [2, 4]])"
      ]
     },
     "execution_count": 70,
     "metadata": {},
     "output_type": "execute_result"
    }
   ],
   "source": [
    "A.T"
   ]
  },
  {
   "cell_type": "markdown",
   "id": "47c0749f",
   "metadata": {
    "slideshow": {
     "slide_type": "slide"
    }
   },
   "source": [
    "### Matrix multiplication (dot-product)\n",
    "- Matrix multiplication means a row-by-column multiplication, where the entries in the $i$th row of $A$ are multiplied by the corresponding entries in the $j$th column of $B$ and then adding the results."
   ]
  },
  {
   "cell_type": "markdown",
   "id": "ced37d23",
   "metadata": {
    "slideshow": {
     "slide_type": "slide"
    }
   },
   "source": [
    "$A = \\left[\\begin{matrix}\n",
    " A_{11} & A_{12} \\\\\n",
    " A_{21} & A_{22}\n",
    "\\end{matrix}\\right]= \\left[\\begin{matrix}\n",
    " 1 & 2 \\\\\n",
    " 3 & 4\n",
    "\\end{matrix}\\right]\\;\\;$ and $\\;\\;B = \\left[\\begin{matrix}\n",
    " B_{11} & B_{12} \\\\\n",
    " B_{21} & B_{22}\n",
    "\\end{matrix}\\right]= \\left[\\begin{matrix}\n",
    " 2 & 4 \\\\\n",
    " 6 & 8\n",
    "\\end{matrix}\\right]$\n",
    "\n",
    "We want to compute\n",
    "\n",
    "$C = AB = \\left[\\begin{matrix}\n",
    " C_{11} & C_{12} \\\\\n",
    " C_{21} & C_{22}\n",
    "\\end{matrix}\\right]$"
   ]
  },
  {
   "cell_type": "markdown",
   "id": "542f5389",
   "metadata": {
    "slideshow": {
     "slide_type": "fragment"
    }
   },
   "source": [
    "Let's compute $C$\n",
    "\n",
    "$C_{11} = (A_{11}*B_{11}) + (A_{12}*B_{21}) = (1*2) + (2*6) = 14$\n",
    "\n",
    "$C_{12} = (A_{11}*B_{12}) + (A_{12}*B_{22}) = (1*4) + (2*8) = 20$\n",
    "\n",
    "$C_{21} = (A_{21}*B_{11}) + (A_{22}*B_{21}) = (3*2) + (4*6) = 30$\n",
    "\n",
    "$C_{22} = (A_{21}*B_{12}) + (A_{22}*B_{22}) = (3*4) + (4*8) = 44$"
   ]
  },
  {
   "cell_type": "markdown",
   "id": "6734df94",
   "metadata": {
    "slideshow": {
     "slide_type": "slide"
    }
   },
   "source": [
    "### Let's calculate the whole C-matrix using NumPy:"
   ]
  },
  {
   "cell_type": "code",
   "execution_count": 71,
   "id": "03b025c1",
   "metadata": {},
   "outputs": [],
   "source": [
    "A = np.array([1, 2, 3, 4]).reshape((2,2)) \n",
    "B = np.array([2, 4, 6, 8]).reshape((2,2)) "
   ]
  },
  {
   "cell_type": "code",
   "execution_count": 72,
   "id": "103f2d4f",
   "metadata": {
    "slideshow": {
     "slide_type": "fragment"
    }
   },
   "outputs": [
    {
     "data": {
      "text/plain": [
       "array([[14, 20],\n",
       "       [30, 44]])"
      ]
     },
     "execution_count": 72,
     "metadata": {},
     "output_type": "execute_result"
    }
   ],
   "source": [
    "# There are several ways of computing the dot product\n",
    "import numpy as np\n",
    "\n",
    "np.dot(A, B)"
   ]
  },
  {
   "cell_type": "code",
   "execution_count": 73,
   "id": "484b9d53",
   "metadata": {},
   "outputs": [
    {
     "data": {
      "text/plain": [
       "array([[14, 20],\n",
       "       [30, 44]])"
      ]
     },
     "execution_count": 73,
     "metadata": {},
     "output_type": "execute_result"
    }
   ],
   "source": [
    "# Alternative syntax 2\n",
    "\n",
    "A.dot(B)"
   ]
  },
  {
   "cell_type": "code",
   "execution_count": 74,
   "id": "160ebfd2",
   "metadata": {
    "slideshow": {
     "slide_type": "fragment"
    }
   },
   "outputs": [
    {
     "data": {
      "text/plain": [
       "array([[14, 20],\n",
       "       [30, 44]])"
      ]
     },
     "execution_count": 74,
     "metadata": {},
     "output_type": "execute_result"
    }
   ],
   "source": [
    "# Alternative syntax 3\n",
    "\n",
    "A @ B"
   ]
  },
  {
   "cell_type": "markdown",
   "id": "8ca276da",
   "metadata": {
    "slideshow": {
     "slide_type": "slide"
    }
   },
   "source": [
    "### The matrix inverse \n",
    "\n",
    "- If $A$ is a square matrix and $B$ is its inverse, then the product of two matrices is equal to the identity matrix.\n",
    "- The inverse of a matrix $A$ is denoted as $A^{-1}$, and it is defined as the matrix that satisfies the following condition:\n",
    "$$A^{-1}A = AA^{-1} = I$$\n",
    "- The inverse of a matrix does not always exist. If the inverse of a matrix exists, it is unique.\n",
    "- The inverse of a matrix can be found using the `inv` method in NumPy´s `linalg` module."
   ]
  },
  {
   "cell_type": "code",
   "execution_count": 75,
   "id": "c751c7f9",
   "metadata": {},
   "outputs": [
    {
     "data": {
      "text/plain": [
       "array([[2, 4],\n",
       "       [6, 8]])"
      ]
     },
     "execution_count": 75,
     "metadata": {},
     "output_type": "execute_result"
    }
   ],
   "source": [
    "B"
   ]
  },
  {
   "cell_type": "code",
   "execution_count": 76,
   "id": "b4fe163b",
   "metadata": {
    "slideshow": {
     "slide_type": "-"
    }
   },
   "outputs": [],
   "source": [
    "invB = np.linalg.inv(B)"
   ]
  },
  {
   "cell_type": "code",
   "execution_count": 77,
   "id": "2e65999a",
   "metadata": {
    "slideshow": {
     "slide_type": "fragment"
    }
   },
   "outputs": [
    {
     "data": {
      "text/plain": [
       "array([[-1.  ,  0.5 ],\n",
       "       [ 0.75, -0.25]])"
      ]
     },
     "execution_count": 77,
     "metadata": {},
     "output_type": "execute_result"
    }
   ],
   "source": [
    "invB"
   ]
  },
  {
   "cell_type": "code",
   "execution_count": 80,
   "id": "3fb2136b",
   "metadata": {},
   "outputs": [
    {
     "data": {
      "text/plain": [
       "array([[1.0000000e+00, 0.0000000e+00],\n",
       "       [8.8817842e-16, 1.0000000e+00]])"
      ]
     },
     "execution_count": 80,
     "metadata": {},
     "output_type": "execute_result"
    }
   ],
   "source": [
    "# The dot product of B and invB is the identity matrix\n",
    "\n",
    "np.dot(B, invB)"
   ]
  },
  {
   "cell_type": "code",
   "execution_count": null,
   "id": "7d119ced",
   "metadata": {},
   "outputs": [],
   "source": []
  }
 ],
 "metadata": {
  "celltoolbar": "Slideshow",
  "kernelspec": {
   "display_name": "Python 3 (ipykernel)",
   "language": "python",
   "name": "python3"
  },
  "language_info": {
   "codemirror_mode": {
    "name": "ipython",
    "version": 3
   },
   "file_extension": ".py",
   "mimetype": "text/x-python",
   "name": "python",
   "nbconvert_exporter": "python",
   "pygments_lexer": "ipython3",
   "version": "3.10.8"
  }
 },
 "nbformat": 4,
 "nbformat_minor": 5
}
