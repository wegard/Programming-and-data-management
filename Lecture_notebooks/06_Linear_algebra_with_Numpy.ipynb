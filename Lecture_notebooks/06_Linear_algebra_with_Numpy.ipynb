{
 "cells": [
  {
   "cell_type": "markdown",
   "id": "63d24f00",
   "metadata": {
    "slideshow": {
     "slide_type": "slide"
    }
   },
   "source": [
    "# Nummerical Python: `NumPy`\n",
    "\n",
    "## Programming and Data Management (EDI 3400)\n",
    "\n",
    "### *Vegard H. Larsen (Department of Data Science and Analytics)*"
   ]
  },
  {
   "cell_type": "markdown",
   "id": "8add8eb5",
   "metadata": {
    "slideshow": {
     "slide_type": "slide"
    }
   },
   "source": [
    "# 1. Introduction to NumPy\n",
    "\n",
    "NumPy, which stands for \"Numerical Python\", is a foundational library in the Python ecosystem that provides a powerful array object and an assortment of mathematical functions to effortlessly perform complex numerical computations. At its heart lies the `ndarray` or n-dimensional array, a versatile data structure that facilitates efficient storage and operations on large datasets. NumPy's capabilities are particularly tailored for mathematical tasks like linear algebra, statistical analysis, and matrix manipulations, making it an essential tool for anyone venturing into data analysis, scientific computing, or machine learning in Python. Getting acquainted with NumPy can greatly enhance their ability to handle and analyze numerical data, bridging the gap between basic programming and more advanced computational tasks."
   ]
  },
  {
   "cell_type": "markdown",
   "id": "10d7ebd5",
   "metadata": {
    "slideshow": {
     "slide_type": "slide"
    }
   },
   "source": [
    "## What is NumPy?\n",
    "\n",
    "- A library that supports large, multi-dimensional **numerical** arrays and matrices, and a large collection of functions for these objects\n",
    "- NumPy is a cornerstone in the scientific Python community, and most other scientific packages rely on NumPy to work\n",
    "- Most types of data we will ever encounter can be represented as numerical arrays and matrices, and that includes\n",
    "    * Collections of documents\n",
    "    * Collections of images and videos\n",
    "    * Collections of sound clips\n",
    "- NumPy arrays provides `list` like functionality but NumPy is much faster, more scalable and more efficient than a regular `list`"
   ]
  },
  {
   "cell_type": "markdown",
   "id": "3085c49f",
   "metadata": {
    "slideshow": {
     "slide_type": "slide"
    }
   },
   "source": [
    "## Importing NumPy"
   ]
  },
  {
   "cell_type": "code",
   "execution_count": null,
   "id": "0aae106a",
   "metadata": {
    "slideshow": {
     "slide_type": "-"
    }
   },
   "outputs": [],
   "source": [
    "import numpy\n",
    "numpy.__version__"
   ]
  },
  {
   "cell_type": "code",
   "execution_count": null,
   "id": "bc3c3a66",
   "metadata": {
    "slideshow": {
     "slide_type": "fragment"
    }
   },
   "outputs": [],
   "source": [
    "# The standard convention for importing NumPy is by using the keyword np\n",
    "\n",
    "import numpy as np"
   ]
  },
  {
   "cell_type": "code",
   "execution_count": null,
   "id": "8ab7433e",
   "metadata": {
    "slideshow": {
     "slide_type": "fragment"
    }
   },
   "outputs": [],
   "source": [
    "# Then we can access the functionality of the library through this keyword.  \n",
    "# We can create an NumPy array from a regular list as follows:\n",
    "\n",
    "x = np.array([1, 2, 3])\n",
    "print(x)"
   ]
  },
  {
   "cell_type": "code",
   "execution_count": null,
   "id": "26642918",
   "metadata": {
    "slideshow": {
     "slide_type": "fragment"
    }
   },
   "outputs": [],
   "source": [
    "# We now have a new type of container\n",
    "\n",
    "type(x)"
   ]
  },
  {
   "cell_type": "markdown",
   "id": "46896c13",
   "metadata": {
    "slideshow": {
     "slide_type": "slide"
    }
   },
   "source": [
    "## Speed test: NumPy vs. Python list"
   ]
  },
  {
   "cell_type": "code",
   "execution_count": null,
   "id": "c15ae998",
   "metadata": {
    "slideshow": {
     "slide_type": "fragment"
    }
   },
   "outputs": [],
   "source": [
    "import numpy as np\n",
    "\n",
    "python_list = list(range(10_000_000)) # [0, 1, 2, ..., 9 999 999]\n",
    "numpy_array = np.arange(10_000_000)   # np.array([0, 1, 2, ..., 9 999 999])"
   ]
  },
  {
   "cell_type": "markdown",
   "id": "9ed768df",
   "metadata": {
    "slideshow": {
     "slide_type": "fragment"
    }
   },
   "source": [
    "- Let's multiply all the numbers by 5 and check how long it takes"
   ]
  },
  {
   "cell_type": "code",
   "execution_count": null,
   "id": "11c2c851",
   "metadata": {
    "slideshow": {
     "slide_type": "fragment"
    }
   },
   "outputs": [],
   "source": [
    "%timeit python_list5 = [x * 5 for x in python_list]"
   ]
  },
  {
   "cell_type": "code",
   "execution_count": null,
   "id": "5d4b02d3",
   "metadata": {
    "slideshow": {
     "slide_type": "fragment"
    }
   },
   "outputs": [],
   "source": [
    "%timeit numpy_array5 = numpy_array*5"
   ]
  },
  {
   "cell_type": "markdown",
   "id": "62a88c46",
   "metadata": {
    "slideshow": {
     "slide_type": "slide"
    }
   },
   "source": [
    "# 2. Working with NumPy arrays"
   ]
  },
  {
   "cell_type": "markdown",
   "id": "4865d363",
   "metadata": {
    "slideshow": {
     "slide_type": "slide"
    }
   },
   "source": [
    "## The NumPy Array Object (`ndarray`)\n",
    "\n",
    "- A multidimensional container of items of the **same type**\n",
    "- A ndarray can be accessed and modified by indexing or slicing such as regular lists\n",
    "- We can use several built-in methods and attributes that belongs to the ndarray object"
   ]
  },
  {
   "cell_type": "markdown",
   "id": "674c5c53",
   "metadata": {
    "slideshow": {
     "slide_type": "slide"
    }
   },
   "source": [
    "## Let us create a one-dimensional numpy-array\n",
    "\n",
    "- Make sure all the values are numeric"
   ]
  },
  {
   "cell_type": "code",
   "execution_count": null,
   "id": "e9695668",
   "metadata": {
    "slideshow": {
     "slide_type": "fragment"
    }
   },
   "outputs": [],
   "source": [
    "# A one dimensional array\n",
    "\n",
    "numpy_array = np.array([-1, 4, -3, 10, 7, 3.0, 8, 10])\n",
    "print(numpy_array)\n",
    "numpy_array.dtype # the type of the elements in the array"
   ]
  },
  {
   "cell_type": "code",
   "execution_count": null,
   "id": "cdcdec51",
   "metadata": {
    "slideshow": {
     "slide_type": "fragment"
    }
   },
   "outputs": [],
   "source": [
    "# It is possible to add different types,\n",
    "# but then we will lose most advantages of using Numpy\n",
    "\n",
    "numpy_array_with_different_types = np.array([-1.5, 4.0, 'j', 10, 7.99, 3, 8, 'hello!'])\n",
    "print(numpy_array_with_different_types)\n",
    "numpy_array_with_different_types.dtype"
   ]
  },
  {
   "cell_type": "code",
   "execution_count": null,
   "id": "b727e92b",
   "metadata": {
    "slideshow": {
     "slide_type": "slide"
    }
   },
   "outputs": [],
   "source": [
    "# You can convert an array of strings into an array of floats (with NaNs) \n",
    "\n",
    "numpy_array_numerics = np.genfromtxt(numpy_array_with_different_types)\n",
    "numpy_array_numerics.sort()\n",
    "print(numpy_array_numerics)\n",
    "numpy_array_numerics.dtype\n"
   ]
  },
  {
   "cell_type": "markdown",
   "id": "bc6504f5",
   "metadata": {
    "slideshow": {
     "slide_type": "slide"
    }
   },
   "source": [
    "## The dimensions of the `ndarray`"
   ]
  },
  {
   "cell_type": "code",
   "execution_count": null,
   "id": "d26dd0ec",
   "metadata": {
    "slideshow": {
     "slide_type": "-"
    }
   },
   "outputs": [],
   "source": [
    "# What is the dimensions of this ndarray?\n",
    "\n",
    "numpy_array = np.array([-1.5, 4.0, -3, 10, 7.99, 3, 8, 9])\n",
    "print(numpy_array.shape)"
   ]
  },
  {
   "cell_type": "code",
   "execution_count": null,
   "id": "ae3e1973",
   "metadata": {
    "slideshow": {
     "slide_type": "fragment"
    }
   },
   "outputs": [],
   "source": [
    "# Alternatively, we can use two sets of brackets\n",
    "\n",
    "numpy_array_alt = np.array([[-1.5, 4.0, -3, 10, 7.99, 3, 8, 9]])\n",
    "print(numpy_array_alt.shape)"
   ]
  },
  {
   "cell_type": "markdown",
   "id": "fd0cd84c",
   "metadata": {
    "slideshow": {
     "slide_type": "slide"
    }
   },
   "source": [
    "## Two-dimensional arrays\n",
    "\n",
    "- When the array has more than one dimension, the shape of the array is given as $$rows * columns$$ \n",
    "\n",
    "An example of an $3 * 4$ matrix:\n",
    "\n",
    "|        | column 0 | column 1  | column 2  | column 3  |\n",
    "|---     |---       |---|---|---|\n",
    "| row 0  | 10       | 12        | 14        | 16        |\n",
    "| row 1  | 10.5     | 12.5      | 14.5      | 16.5      |\n",
    "| row 2  | 11       | 13        | 15        | 17        | "
   ]
  },
  {
   "cell_type": "markdown",
   "id": "2d7b40d1",
   "metadata": {
    "slideshow": {
     "slide_type": "slide"
    }
   },
   "source": [
    "## Let's create this $3*4$ matrix in NumPy"
   ]
  },
  {
   "cell_type": "code",
   "execution_count": null,
   "id": "1dfc517d",
   "metadata": {
    "slideshow": {
     "slide_type": "fragment"
    }
   },
   "outputs": [],
   "source": [
    "three_times_four = np.array([[10, 12, 14, 16,],\n",
    "                             [10.5, 12.5, 14.5, 16.5],\n",
    "                             [11, 13, 15, 17]])"
   ]
  },
  {
   "cell_type": "code",
   "execution_count": null,
   "id": "4f9e67bf",
   "metadata": {
    "slideshow": {
     "slide_type": "fragment"
    }
   },
   "outputs": [],
   "source": [
    "print(three_times_four)"
   ]
  },
  {
   "cell_type": "code",
   "execution_count": null,
   "id": "58ba0b97",
   "metadata": {
    "slideshow": {
     "slide_type": "fragment"
    }
   },
   "outputs": [],
   "source": [
    "# What is the shape of the array?\n",
    "\n",
    "three_times_four.shape"
   ]
  },
  {
   "cell_type": "code",
   "execution_count": null,
   "id": "9eac9018",
   "metadata": {
    "slideshow": {
     "slide_type": "fragment"
    }
   },
   "outputs": [],
   "source": [
    "# The type of the elements of the array\n",
    "\n",
    "three_times_four.dtype"
   ]
  },
  {
   "cell_type": "markdown",
   "id": "d65cce5c",
   "metadata": {
    "slideshow": {
     "slide_type": "slide"
    }
   },
   "source": [
    "## We could have started with a one-dimensional array"
   ]
  },
  {
   "cell_type": "code",
   "execution_count": null,
   "id": "9ff98dd5",
   "metadata": {
    "slideshow": {
     "slide_type": "-"
    }
   },
   "outputs": [],
   "source": [
    "a = np.array([10, 12, 14, 16, 10.5, 12.5, 14.5, 16.5, 11, 13, 15, 17])\n",
    "a.shape"
   ]
  },
  {
   "cell_type": "code",
   "execution_count": null,
   "id": "29041853",
   "metadata": {
    "slideshow": {
     "slide_type": "fragment"
    }
   },
   "outputs": [],
   "source": [
    "# And we can set the dimensions as a tuple\n",
    "\n",
    "a.shape = (3, 4)  # let's try using -1 as one of the elements in the tuple "
   ]
  },
  {
   "cell_type": "code",
   "execution_count": null,
   "id": "8a5f635a",
   "metadata": {
    "slideshow": {
     "slide_type": "fragment"
    }
   },
   "outputs": [],
   "source": [
    "a"
   ]
  },
  {
   "cell_type": "code",
   "execution_count": null,
   "id": "3db44ef0",
   "metadata": {
    "slideshow": {
     "slide_type": "fragment"
    }
   },
   "outputs": [],
   "source": [
    "a.shape"
   ]
  },
  {
   "cell_type": "markdown",
   "id": "84bd3e3b",
   "metadata": {
    "slideshow": {
     "slide_type": "slide"
    }
   },
   "source": [
    "## Accessing the elements of `a`"
   ]
  },
  {
   "cell_type": "code",
   "execution_count": null,
   "id": "b0e00444",
   "metadata": {
    "slideshow": {
     "slide_type": "fragment"
    }
   },
   "outputs": [],
   "source": [
    "# Accessing the first (0th) row\n",
    "\n",
    "a[0]"
   ]
  },
  {
   "cell_type": "code",
   "execution_count": null,
   "id": "745cb1f7",
   "metadata": {
    "slideshow": {
     "slide_type": "fragment"
    }
   },
   "outputs": [],
   "source": [
    "# Accessing the last column\n",
    "\n",
    "a[:, 3] # all the rows in the last (3rd) column (can also use -1)"
   ]
  },
  {
   "cell_type": "code",
   "execution_count": null,
   "id": "a238f0e4",
   "metadata": {
    "slideshow": {
     "slide_type": "fragment"
    }
   },
   "outputs": [],
   "source": [
    "# Accessing the element in the 1st row and 2nd column (14.5)\n",
    "\n",
    "a[1, 2]"
   ]
  },
  {
   "cell_type": "markdown",
   "id": "39766af2",
   "metadata": {
    "slideshow": {
     "slide_type": "slide"
    }
   },
   "source": [
    "## The `ndarray` is mutable and we can change the values  "
   ]
  },
  {
   "cell_type": "code",
   "execution_count": null,
   "id": "b618d4c4",
   "metadata": {
    "slideshow": {
     "slide_type": "-"
    }
   },
   "outputs": [],
   "source": [
    "a[2, 2] = 100  # the previous value was 15"
   ]
  },
  {
   "cell_type": "code",
   "execution_count": null,
   "id": "3b3dd017",
   "metadata": {
    "slideshow": {
     "slide_type": "fragment"
    }
   },
   "outputs": [],
   "source": [
    "a"
   ]
  },
  {
   "cell_type": "markdown",
   "id": "bd2de90b",
   "metadata": {
    "slideshow": {
     "slide_type": "slide"
    }
   },
   "source": [
    "## Slicing and indexing work as with regular lists"
   ]
  },
  {
   "cell_type": "code",
   "execution_count": null,
   "id": "19d16fa6",
   "metadata": {
    "slideshow": {
     "slide_type": "-"
    }
   },
   "outputs": [],
   "source": [
    "# Select the last two rows and the last two columns\n",
    "\n",
    "a[1:3, 2:4] # Remember the endpoint in the slice is non-inclusive"
   ]
  },
  {
   "cell_type": "code",
   "execution_count": null,
   "id": "6cbf9092",
   "metadata": {
    "slideshow": {
     "slide_type": "fragment"
    }
   },
   "outputs": [],
   "source": [
    "# Alternatively\n",
    "a[1:, 2:]"
   ]
  },
  {
   "cell_type": "markdown",
   "id": "f747d1bf",
   "metadata": {
    "slideshow": {
     "slide_type": "slide"
    }
   },
   "source": [
    "# 3. NumPy methods"
   ]
  },
  {
   "cell_type": "markdown",
   "id": "e2bc6d47",
   "metadata": {
    "slideshow": {
     "slide_type": "slide"
    }
   },
   "source": [
    "## Some special array methods"
   ]
  },
  {
   "cell_type": "code",
   "execution_count": null,
   "id": "a4afec54",
   "metadata": {
    "slideshow": {
     "slide_type": "-"
    }
   },
   "outputs": [],
   "source": [
    "# A range of numbers (similar to the range() function, but for Numpy arrays)\n",
    "\n",
    "np.arange(10)"
   ]
  },
  {
   "cell_type": "code",
   "execution_count": null,
   "id": "5f1baffc",
   "metadata": {
    "slideshow": {
     "slide_type": "fragment"
    }
   },
   "outputs": [],
   "source": [
    "# A matrix of zeros (4 rows and 4 columns)\n",
    "\n",
    "np.zeros((4,4))"
   ]
  },
  {
   "cell_type": "code",
   "execution_count": null,
   "id": "f69db8b3",
   "metadata": {
    "slideshow": {
     "slide_type": "fragment"
    }
   },
   "outputs": [],
   "source": [
    "# A matrix of ones (2*2)\n",
    "np.ones((2,2))"
   ]
  },
  {
   "cell_type": "code",
   "execution_count": null,
   "id": "64d023ca",
   "metadata": {
    "slideshow": {
     "slide_type": "fragment"
    }
   },
   "outputs": [],
   "source": [
    "# The identity matrix\n",
    "\n",
    "np.eye(4,4)"
   ]
  },
  {
   "cell_type": "markdown",
   "id": "7d630915",
   "metadata": {
    "slideshow": {
     "slide_type": "slide"
    }
   },
   "source": [
    "## Arithmetic operations with NumPy"
   ]
  },
  {
   "cell_type": "code",
   "execution_count": null,
   "id": "59eb153e",
   "metadata": {
    "slideshow": {
     "slide_type": "-"
    }
   },
   "outputs": [],
   "source": [
    "a = np.array([1, 2, 3, 4, 5, 6, 7, 8, 9, 10, 11, 12])\n",
    "a.shape = 4, 3"
   ]
  },
  {
   "cell_type": "code",
   "execution_count": null,
   "id": "d1506e50",
   "metadata": {
    "slideshow": {
     "slide_type": "-"
    }
   },
   "outputs": [],
   "source": [
    "print(a)"
   ]
  },
  {
   "cell_type": "markdown",
   "id": "32e5eb04",
   "metadata": {
    "slideshow": {
     "slide_type": "fragment"
    }
   },
   "source": [
    "### Multiplying the elements  (element wise multiplication)"
   ]
  },
  {
   "cell_type": "code",
   "execution_count": null,
   "id": "497450b1",
   "metadata": {
    "slideshow": {
     "slide_type": "-"
    }
   },
   "outputs": [],
   "source": [
    "a * a"
   ]
  },
  {
   "cell_type": "markdown",
   "id": "1fbf7162",
   "metadata": {
    "slideshow": {
     "slide_type": "slide"
    }
   },
   "source": [
    "### Adding elements "
   ]
  },
  {
   "cell_type": "code",
   "execution_count": null,
   "id": "4cb5d2e8",
   "metadata": {},
   "outputs": [],
   "source": [
    "a + a "
   ]
  },
  {
   "cell_type": "markdown",
   "id": "f5000631",
   "metadata": {
    "slideshow": {
     "slide_type": "fragment"
    }
   },
   "source": [
    "### Rise all elements to the power of 3"
   ]
  },
  {
   "cell_type": "code",
   "execution_count": null,
   "id": "ffff285c",
   "metadata": {
    "slideshow": {
     "slide_type": "-"
    }
   },
   "outputs": [],
   "source": [
    "a ** 3"
   ]
  },
  {
   "cell_type": "markdown",
   "id": "1c7186c5",
   "metadata": {
    "slideshow": {
     "slide_type": "slide"
    }
   },
   "source": [
    "## Some more array functions "
   ]
  },
  {
   "cell_type": "markdown",
   "id": "d0853821",
   "metadata": {
    "slideshow": {
     "slide_type": "-"
    }
   },
   "source": [
    "#### Make a matrix one dimensional with the `ravel`  method"
   ]
  },
  {
   "cell_type": "code",
   "execution_count": null,
   "id": "ae06b023",
   "metadata": {
    "slideshow": {
     "slide_type": "fragment"
    }
   },
   "outputs": [],
   "source": [
    "A = np.array([[2, 3, 4],\n",
    "              [14, 10, 6]])\n",
    "A.shape"
   ]
  },
  {
   "cell_type": "code",
   "execution_count": null,
   "id": "1128e5a6",
   "metadata": {
    "slideshow": {
     "slide_type": "fragment"
    }
   },
   "outputs": [],
   "source": [
    "A_flattened = A.ravel()"
   ]
  },
  {
   "cell_type": "code",
   "execution_count": null,
   "id": "f6ad1977",
   "metadata": {
    "slideshow": {
     "slide_type": "fragment"
    }
   },
   "outputs": [],
   "source": [
    "# ravel() does not change the original matrix\n",
    "\n",
    "A"
   ]
  },
  {
   "cell_type": "markdown",
   "id": "c5d799d8",
   "metadata": {
    "slideshow": {
     "slide_type": "slide"
    }
   },
   "source": [
    "## Random numbers with Numpy"
   ]
  },
  {
   "cell_type": "code",
   "execution_count": null,
   "id": "399217a1",
   "metadata": {},
   "outputs": [],
   "source": [
    "# random integers below a given value (here I use 10)\n",
    "\n",
    "rand_ints = np.random.randint(1000, size=(10))\n",
    "print(rand_ints)"
   ]
  },
  {
   "cell_type": "code",
   "execution_count": null,
   "id": "9b42483f",
   "metadata": {
    "slideshow": {
     "slide_type": "fragment"
    }
   },
   "outputs": [],
   "source": [
    "# random samples from a uniform distribution over [0, 1)\n",
    "\n",
    "rand_floats = np.random.rand(3,3)\n",
    "print(rand_floats)"
   ]
  },
  {
   "cell_type": "markdown",
   "id": "19d9d595",
   "metadata": {
    "slideshow": {
     "slide_type": "slide"
    }
   },
   "source": [
    "## Return an array drawn from the \"standard normal\" distribution.\n",
    "\n"
   ]
  },
  {
   "cell_type": "code",
   "execution_count": null,
   "id": "b51bd578",
   "metadata": {
    "slideshow": {
     "slide_type": "-"
    }
   },
   "outputs": [],
   "source": [
    "x = np.random.randn(1000, 1)\n",
    "#print(x)"
   ]
  },
  {
   "cell_type": "code",
   "execution_count": null,
   "id": "a955c813",
   "metadata": {
    "slideshow": {
     "slide_type": "fragment"
    }
   },
   "outputs": [],
   "source": [
    "# Calculate the mean of the numbers\n",
    "\n",
    "np.mean(x)"
   ]
  },
  {
   "cell_type": "code",
   "execution_count": null,
   "id": "a21a8c80",
   "metadata": {
    "slideshow": {
     "slide_type": "fragment"
    }
   },
   "outputs": [],
   "source": [
    "# Calculate the standard deviation of the numbers\n",
    "\n",
    "np.std(x)"
   ]
  },
  {
   "cell_type": "markdown",
   "id": "37f97781",
   "metadata": {
    "slideshow": {
     "slide_type": "slide"
    }
   },
   "source": [
    "## We can also use random choice with Numpy"
   ]
  },
  {
   "cell_type": "code",
   "execution_count": null,
   "id": "b40923f9",
   "metadata": {},
   "outputs": [],
   "source": [
    "def drawRandomCard():\n",
    "    '''\n",
    "    This function returns a random card from a deck of 52 cards.\n",
    "    '''\n",
    "    card_value = np.random.choice(\n",
    "        ['J', 'Q', 'K', 'A'] + [str(i+2) for i in range(9)]\n",
    "    )\n",
    "\n",
    "    card_suit = np.random.choice(\n",
    "        ['Heart', 'Diamonds', 'Clubs', 'Spades']\n",
    "    )\n",
    "\n",
    "    return card_suit + '-' + card_value"
   ]
  },
  {
   "cell_type": "code",
   "execution_count": null,
   "id": "03748007",
   "metadata": {},
   "outputs": [],
   "source": [
    "drawRandomCard()"
   ]
  },
  {
   "cell_type": "markdown",
   "id": "4cd6cb19",
   "metadata": {
    "slideshow": {
     "slide_type": "slide"
    }
   },
   "source": [
    "## Numpy methods"
   ]
  },
  {
   "cell_type": "code",
   "execution_count": null,
   "id": "623073cd",
   "metadata": {
    "slideshow": {
     "slide_type": "-"
    }
   },
   "outputs": [],
   "source": [
    "rand_ints = np.random.randn(10)"
   ]
  },
  {
   "cell_type": "code",
   "execution_count": null,
   "id": "ea4d7552",
   "metadata": {},
   "outputs": [],
   "source": [
    "# Sorting the array\n",
    "\n",
    "rand_ints.sort()\n",
    "print(rand_ints)"
   ]
  },
  {
   "cell_type": "markdown",
   "id": "6722bf6b",
   "metadata": {
    "slideshow": {
     "slide_type": "slide"
    }
   },
   "source": [
    "## Working with NaNs"
   ]
  },
  {
   "cell_type": "code",
   "execution_count": null,
   "id": "6058aa92",
   "metadata": {
    "slideshow": {
     "slide_type": "-"
    }
   },
   "outputs": [],
   "source": [
    "rand_ints = np.random.randn(10)\n",
    "rand_ints[3] = np.nan\n",
    "rand_ints"
   ]
  },
  {
   "cell_type": "code",
   "execution_count": null,
   "id": "889b7ce5",
   "metadata": {
    "slideshow": {
     "slide_type": "fragment"
    }
   },
   "outputs": [],
   "source": [
    "type(rand_ints[3])"
   ]
  },
  {
   "cell_type": "code",
   "execution_count": null,
   "id": "44c75c00",
   "metadata": {
    "slideshow": {
     "slide_type": "fragment"
    }
   },
   "outputs": [],
   "source": [
    "# Operations with a nan always returns a nan\n",
    "\n",
    "rand_ints[3]*3"
   ]
  },
  {
   "cell_type": "code",
   "execution_count": null,
   "id": "0d569e43",
   "metadata": {
    "slideshow": {
     "slide_type": "fragment"
    }
   },
   "outputs": [],
   "source": [
    "# We can convert the nans to zeros\n",
    "\n",
    "np.nan_to_num(rand_ints)"
   ]
  },
  {
   "cell_type": "markdown",
   "id": "b276e457",
   "metadata": {
    "slideshow": {
     "slide_type": "slide"
    }
   },
   "source": [
    "# 4. Linear algebra with NumPy"
   ]
  },
  {
   "cell_type": "markdown",
   "id": "bb1c8cbb",
   "metadata": {
    "slideshow": {
     "slide_type": "slide"
    }
   },
   "source": [
    "## Let's have a brief look at some methods for linear algebra\n",
    "\n",
    "- NumPy is a Python library for linear algebra. Most of what NumPy is used for is beyond the scope of this course, but let's have a quick look at some more advanced futures.  "
   ]
  },
  {
   "cell_type": "markdown",
   "id": "9cba28a1",
   "metadata": {
    "slideshow": {
     "slide_type": "fragment"
    }
   },
   "source": [
    "- Let us define two square matrices $(2*2)$"
   ]
  },
  {
   "cell_type": "code",
   "execution_count": null,
   "id": "55dae156",
   "metadata": {
    "slideshow": {
     "slide_type": "-"
    }
   },
   "outputs": [],
   "source": [
    "# Using the method reshape does the same as A.shape = (2, 2) \n",
    "\n",
    "A = np.array([1, 2, 3, 4]).reshape((4,1)) \n",
    "\n",
    "\n",
    "B = np.array([2, 4, 6, 8]).reshape((2,2)) "
   ]
  },
  {
   "cell_type": "code",
   "execution_count": null,
   "id": "314cd1be",
   "metadata": {
    "slideshow": {
     "slide_type": "fragment"
    }
   },
   "outputs": [],
   "source": [
    "print('The A matrix:')\n",
    "print(A)\n",
    "print('')\n",
    "print('The B matrix')\n",
    "print(B)"
   ]
  },
  {
   "cell_type": "markdown",
   "id": "cf5c0311",
   "metadata": {
    "slideshow": {
     "slide_type": "slide"
    }
   },
   "source": [
    "### The transpose of a matrix\n",
    "   - The transpose of a matrix is found by interchanging its rows into columns or columns into rows."
   ]
  },
  {
   "cell_type": "code",
   "execution_count": null,
   "id": "a6549c7f",
   "metadata": {},
   "outputs": [],
   "source": [
    "A"
   ]
  },
  {
   "cell_type": "code",
   "execution_count": null,
   "id": "affc5488",
   "metadata": {
    "slideshow": {
     "slide_type": "fragment"
    }
   },
   "outputs": [],
   "source": [
    "A.T"
   ]
  },
  {
   "cell_type": "markdown",
   "id": "47c0749f",
   "metadata": {
    "slideshow": {
     "slide_type": "slide"
    }
   },
   "source": [
    "### Matrix multiplication (dot-product)\n",
    "- Matrix multiplication means a row-by-column multiplication, where the entries in the $i$th row of $A$ are multiplied by the corresponding entries in the $j$th column of $B$ and then adding the results."
   ]
  },
  {
   "cell_type": "markdown",
   "id": "ced37d23",
   "metadata": {
    "slideshow": {
     "slide_type": "slide"
    }
   },
   "source": [
    "$A = \\left[\\begin{matrix}\n",
    " A_{11} & A_{12} \\\\\n",
    " A_{21} & A_{22}\n",
    "\\end{matrix}\\right]= \\left[\\begin{matrix}\n",
    " 1 & 2 \\\\\n",
    " 3 & 4\n",
    "\\end{matrix}\\right]\\;\\;$ and $\\;\\;B = \\left[\\begin{matrix}\n",
    " B_{11} & B_{12} \\\\\n",
    " B_{21} & B_{22}\n",
    "\\end{matrix}\\right]= \\left[\\begin{matrix}\n",
    " 2 & 4 \\\\\n",
    " 6 & 8\n",
    "\\end{matrix}\\right]$\n",
    "\n",
    "We want to compute\n",
    "\n",
    "$C = AB = \\left[\\begin{matrix}\n",
    " C_{11} & C_{12} \\\\\n",
    " C_{21} & C_{22}\n",
    "\\end{matrix}\\right]$"
   ]
  },
  {
   "cell_type": "markdown",
   "id": "542f5389",
   "metadata": {
    "slideshow": {
     "slide_type": "fragment"
    }
   },
   "source": [
    "Let's compute $C$\n",
    "\n",
    "$C_{11} = (A_{11}*B_{11}) + (A_{12}*B_{21}) = (1*2) + (2*6) = 14$\n",
    "\n",
    "$C_{12} = (A_{11}*B_{12}) + (A_{12}*B_{22}) = (1*4) + (2*8) = 20$\n",
    "\n",
    "$C_{21} = (A_{21}*B_{11}) + (A_{22}*B_{21}) = (3*2) + (4*6) = 30$\n",
    "\n",
    "$C_{22} = (A_{21}*B_{12}) + (A_{22}*B_{22}) = (3*4) + (4*8) = 44$"
   ]
  },
  {
   "cell_type": "markdown",
   "id": "6734df94",
   "metadata": {
    "slideshow": {
     "slide_type": "slide"
    }
   },
   "source": [
    "### Let's calculate the whole C-matrix using NumPy:"
   ]
  },
  {
   "cell_type": "code",
   "execution_count": null,
   "id": "03b025c1",
   "metadata": {},
   "outputs": [],
   "source": [
    "A = np.array([1, 2, 3, 4]).reshape((2,2)) \n",
    "B = np.array([2, 4, 6, 8]).reshape((2,2)) "
   ]
  },
  {
   "cell_type": "code",
   "execution_count": null,
   "id": "103f2d4f",
   "metadata": {
    "slideshow": {
     "slide_type": "fragment"
    }
   },
   "outputs": [],
   "source": [
    "# There are several ways of computing the dot product\n",
    "import numpy as np\n",
    "\n",
    "np.dot(A, B)"
   ]
  },
  {
   "cell_type": "code",
   "execution_count": null,
   "id": "484b9d53",
   "metadata": {},
   "outputs": [],
   "source": [
    "# Alternative syntax 2\n",
    "\n",
    "A.dot(B)"
   ]
  },
  {
   "cell_type": "code",
   "execution_count": null,
   "id": "160ebfd2",
   "metadata": {
    "slideshow": {
     "slide_type": "fragment"
    }
   },
   "outputs": [],
   "source": [
    "# Alternative syntax 3\n",
    "\n",
    "A @ B"
   ]
  },
  {
   "cell_type": "markdown",
   "id": "8ca276da",
   "metadata": {
    "slideshow": {
     "slide_type": "slide"
    }
   },
   "source": [
    "### The matrix inverse \n",
    "\n",
    "- If $A$ is a square matrix and $B$ is its inverse, then the product of two matrices is equal to the identity matrix."
   ]
  },
  {
   "cell_type": "code",
   "execution_count": null,
   "id": "b4fe163b",
   "metadata": {
    "slideshow": {
     "slide_type": "-"
    }
   },
   "outputs": [],
   "source": [
    "invB = np.linalg.inv(B)"
   ]
  },
  {
   "cell_type": "code",
   "execution_count": null,
   "id": "2e65999a",
   "metadata": {
    "slideshow": {
     "slide_type": "fragment"
    }
   },
   "outputs": [],
   "source": [
    "invB"
   ]
  },
  {
   "cell_type": "code",
   "execution_count": null,
   "id": "3fb2136b",
   "metadata": {},
   "outputs": [],
   "source": [
    "# The dot product of B and invB is the identity matrix\n",
    "\n",
    "np.dot(B, invB)"
   ]
  }
 ],
 "metadata": {
  "celltoolbar": "Slideshow",
  "kernelspec": {
   "display_name": "Python 3 (ipykernel)",
   "language": "python",
   "name": "python3"
  },
  "language_info": {
   "codemirror_mode": {
    "name": "ipython",
    "version": 3
   },
   "file_extension": ".py",
   "mimetype": "text/x-python",
   "name": "python",
   "nbconvert_exporter": "python",
   "pygments_lexer": "ipython3",
   "version": "3.10.8"
  }
 },
 "nbformat": 4,
 "nbformat_minor": 5
}
