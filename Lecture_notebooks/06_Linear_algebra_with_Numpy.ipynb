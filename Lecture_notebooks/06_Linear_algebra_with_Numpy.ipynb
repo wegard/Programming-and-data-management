{
 "cells": [
  {
   "cell_type": "markdown",
   "id": "63d24f00",
   "metadata": {
    "slideshow": {
     "slide_type": "slide"
    }
   },
   "source": [
    "# Linear algebra with `NumPy`\n",
    "\n",
    "## Programming and Data Management (EDI 3400)\n",
    "\n",
    "### *Vegard H. Larsen (Department of Data Science and Analytics)*"
   ]
  },
  {
   "cell_type": "markdown",
   "id": "8add8eb5",
   "metadata": {
    "slideshow": {
     "slide_type": "slide"
    }
   },
   "source": [
    "# 1. Introduction to NumPy"
   ]
  },
  {
   "cell_type": "markdown",
   "id": "10d7ebd5",
   "metadata": {
    "slideshow": {
     "slide_type": "slide"
    }
   },
   "source": [
    "## What is NumPy (short for Numerical Python)?\n",
    "\n",
    "- A library that supports large, multi-dimensional **numerical** arrays and matrices, and a large collection of functions for these objects\n",
    "- NumPy is a cornerstone in the scientific Python community, and most other scientific packages rely on NumPy to work\n",
    "- Most types of data we will ever encounter can be represented as numerical arrays and matrices, and that includes\n",
    "    * Collections of documents\n",
    "    * Collections of images and videos\n",
    "    * Collections of sound clips\n",
    "- NumPy arrays provides `list` like functionality but NumPy is much faster, more scalable and more efficient than a regular `list`"
   ]
  },
  {
   "cell_type": "markdown",
   "id": "3085c49f",
   "metadata": {
    "slideshow": {
     "slide_type": "slide"
    }
   },
   "source": [
    "## Importing NumPy"
   ]
  },
  {
   "cell_type": "code",
   "execution_count": 1,
   "id": "0aae106a",
   "metadata": {
    "slideshow": {
     "slide_type": "-"
    }
   },
   "outputs": [
    {
     "data": {
      "text/plain": [
       "'1.23.1'"
      ]
     },
     "execution_count": 1,
     "metadata": {},
     "output_type": "execute_result"
    }
   ],
   "source": [
    "import numpy\n",
    "numpy.__version__"
   ]
  },
  {
   "cell_type": "code",
   "execution_count": 2,
   "id": "bc3c3a66",
   "metadata": {
    "slideshow": {
     "slide_type": "fragment"
    }
   },
   "outputs": [],
   "source": [
    "# The standard convention for importing NumPy is by using the keyword np\n",
    "\n",
    "import numpy as np"
   ]
  },
  {
   "cell_type": "code",
   "execution_count": 3,
   "id": "8ab7433e",
   "metadata": {
    "slideshow": {
     "slide_type": "fragment"
    }
   },
   "outputs": [
    {
     "name": "stdout",
     "output_type": "stream",
     "text": [
      "[1 2 3]\n"
     ]
    }
   ],
   "source": [
    "# Then we can access the functionality of the library through this keyword.  \n",
    "# We can create an NumPy array from a regular list as follows:\n",
    "\n",
    "x = np.array([1, 2, 3])\n",
    "print(x)"
   ]
  },
  {
   "cell_type": "code",
   "execution_count": 4,
   "id": "26642918",
   "metadata": {
    "slideshow": {
     "slide_type": "fragment"
    }
   },
   "outputs": [
    {
     "data": {
      "text/plain": [
       "numpy.ndarray"
      ]
     },
     "execution_count": 4,
     "metadata": {},
     "output_type": "execute_result"
    }
   ],
   "source": [
    "# We now have a new type of container\n",
    "\n",
    "type(x)"
   ]
  },
  {
   "cell_type": "markdown",
   "id": "46896c13",
   "metadata": {
    "slideshow": {
     "slide_type": "slide"
    }
   },
   "source": [
    "## Speed test: NumPy vs. Python list"
   ]
  },
  {
   "cell_type": "code",
   "execution_count": 5,
   "id": "c15ae998",
   "metadata": {
    "slideshow": {
     "slide_type": "fragment"
    }
   },
   "outputs": [],
   "source": [
    "import numpy as np\n",
    "\n",
    "python_list = list(range(10_000_000)) # [0, 1, 2, ..., 9 999 999]\n",
    "numpy_array = np.arange(10_000_000)   # np.array([0, 1, 2, ..., 9 999 999])"
   ]
  },
  {
   "cell_type": "markdown",
   "id": "9ed768df",
   "metadata": {
    "slideshow": {
     "slide_type": "fragment"
    }
   },
   "source": [
    "- Let's multiply all the numbers by 5 and check how long it takes"
   ]
  },
  {
   "cell_type": "code",
   "execution_count": 6,
   "id": "11c2c851",
   "metadata": {
    "slideshow": {
     "slide_type": "fragment"
    }
   },
   "outputs": [
    {
     "name": "stdout",
     "output_type": "stream",
     "text": [
      "375 ms ± 29.9 ms per loop (mean ± std. dev. of 7 runs, 1 loop each)\n"
     ]
    }
   ],
   "source": [
    "%timeit python_list5 = [x * 5 for x in python_list]"
   ]
  },
  {
   "cell_type": "code",
   "execution_count": 9,
   "id": "5d4b02d3",
   "metadata": {
    "slideshow": {
     "slide_type": "fragment"
    }
   },
   "outputs": [
    {
     "name": "stdout",
     "output_type": "stream",
     "text": [
      "4.13 ms ± 16.4 µs per loop (mean ± std. dev. of 7 runs, 100 loops each)\n"
     ]
    }
   ],
   "source": [
    "%timeit numpy_array5 = numpy_array*5"
   ]
  },
  {
   "cell_type": "markdown",
   "id": "62a88c46",
   "metadata": {
    "slideshow": {
     "slide_type": "slide"
    }
   },
   "source": [
    "# 2. Working with NumPy arrays"
   ]
  },
  {
   "cell_type": "markdown",
   "id": "4865d363",
   "metadata": {
    "slideshow": {
     "slide_type": "slide"
    }
   },
   "source": [
    "## The NumPy Array Object (`ndarray`)\n",
    "\n",
    "- A multidimensional container of items of the **same type**\n",
    "- A ndarray can be accessed and modified by indexing or slicing such as regular lists\n",
    "- We can use several built-in methods and attributes that belongs to the ndarray object"
   ]
  },
  {
   "cell_type": "markdown",
   "id": "674c5c53",
   "metadata": {
    "slideshow": {
     "slide_type": "slide"
    }
   },
   "source": [
    "## Let us create a one-dimensional numpy-array\n",
    "\n",
    "- Make sure all the values are numeric"
   ]
  },
  {
   "cell_type": "code",
   "execution_count": 14,
   "id": "e9695668",
   "metadata": {
    "slideshow": {
     "slide_type": "fragment"
    }
   },
   "outputs": [
    {
     "name": "stdout",
     "output_type": "stream",
     "text": [
      "[-1.  4. -3. 10.  7.  3.  8. 10.]\n"
     ]
    },
    {
     "data": {
      "text/plain": [
       "dtype('float64')"
      ]
     },
     "execution_count": 14,
     "metadata": {},
     "output_type": "execute_result"
    }
   ],
   "source": [
    "# A one dimensional array\n",
    "\n",
    "numpy_array = np.array([-1, 4, -3, 10, 7, 3.0, 8, 10])\n",
    "print(numpy_array)\n",
    "numpy_array.dtype # the type of the elements in the array"
   ]
  },
  {
   "cell_type": "code",
   "execution_count": 18,
   "id": "cdcdec51",
   "metadata": {
    "slideshow": {
     "slide_type": "fragment"
    }
   },
   "outputs": [
    {
     "name": "stdout",
     "output_type": "stream",
     "text": [
      "['-1.5' '4.0' 'j' '10' '7.99' '3' '8' 'hello!']\n"
     ]
    },
    {
     "data": {
      "text/plain": [
       "dtype('<U32')"
      ]
     },
     "execution_count": 18,
     "metadata": {},
     "output_type": "execute_result"
    }
   ],
   "source": [
    "# It is possible to add different types,\n",
    "# but then we will lose most advantages of using Numpy\n",
    "\n",
    "numpy_array_with_different_types = np.array([-1.5, 4.0, 'j', 10, 7.99, 3, 8, 'hello!'])\n",
    "print(numpy_array_with_different_types)\n",
    "numpy_array_with_different_types.dtype"
   ]
  },
  {
   "cell_type": "code",
   "execution_count": 19,
   "id": "b727e92b",
   "metadata": {
    "slideshow": {
     "slide_type": "slide"
    }
   },
   "outputs": [
    {
     "name": "stdout",
     "output_type": "stream",
     "text": [
      "[-1.5   3.    4.    7.99  8.   10.     nan   nan]\n"
     ]
    },
    {
     "data": {
      "text/plain": [
       "dtype('float64')"
      ]
     },
     "execution_count": 19,
     "metadata": {},
     "output_type": "execute_result"
    }
   ],
   "source": [
    "# You can convert an array of strings into an array of floats (with NaNs) \n",
    "\n",
    "numpy_array_numerics = np.genfromtxt(numpy_array_with_different_types)\n",
    "numpy_array_numerics.sort()\n",
    "print(numpy_array_numerics)\n",
    "numpy_array_numerics.dtype\n"
   ]
  },
  {
   "cell_type": "markdown",
   "id": "bc6504f5",
   "metadata": {
    "slideshow": {
     "slide_type": "slide"
    }
   },
   "source": [
    "## The dimensions of the `ndarray`"
   ]
  },
  {
   "cell_type": "code",
   "execution_count": 20,
   "id": "d26dd0ec",
   "metadata": {
    "slideshow": {
     "slide_type": "-"
    }
   },
   "outputs": [
    {
     "name": "stdout",
     "output_type": "stream",
     "text": [
      "(8,)\n"
     ]
    }
   ],
   "source": [
    "# What is the dimensions of this ndarray?\n",
    "\n",
    "numpy_array = np.array([-1.5, 4.0, -3, 10, 7.99, 3, 8, 9])\n",
    "print(numpy_array.shape)"
   ]
  },
  {
   "cell_type": "code",
   "execution_count": 21,
   "id": "ae3e1973",
   "metadata": {
    "slideshow": {
     "slide_type": "fragment"
    }
   },
   "outputs": [
    {
     "name": "stdout",
     "output_type": "stream",
     "text": [
      "(1, 8)\n"
     ]
    }
   ],
   "source": [
    "# Alternatively, we can use two sets of brackets\n",
    "\n",
    "numpy_array_alt = np.array([[-1.5, 4.0, -3, 10, 7.99, 3, 8, 9]])\n",
    "print(numpy_array_alt.shape)"
   ]
  },
  {
   "cell_type": "markdown",
   "id": "fd0cd84c",
   "metadata": {
    "slideshow": {
     "slide_type": "slide"
    }
   },
   "source": [
    "## Two-dimensional arrays"
   ]
  },
  {
   "cell_type": "markdown",
   "id": "3a55a02c",
   "metadata": {
    "slideshow": {
     "slide_type": "-"
    }
   },
   "source": [
    "- When the array has more than one dimension, the shape of the array is given as $$rows * columns$$ "
   ]
  },
  {
   "cell_type": "markdown",
   "id": "d7aa2011",
   "metadata": {
    "slideshow": {
     "slide_type": "fragment"
    }
   },
   "source": [
    "An example of an $3 * 4$ matrix:\n",
    "\n",
    "|        | column 0 | column 1  | column 2  | column 3  |\n",
    "|---     |---       |---|---|---|\n",
    "| row 0  | 10       | 12        | 14        | 16        |\n",
    "| row 1  | 10.5     | 12.5      | 14.5      | 16.5      |\n",
    "| row 2  | 11       | 13        | 15        | 17        |     "
   ]
  },
  {
   "cell_type": "markdown",
   "id": "2d7b40d1",
   "metadata": {
    "slideshow": {
     "slide_type": "slide"
    }
   },
   "source": [
    "## Let's create this $3*4$ matrix in NumPy"
   ]
  },
  {
   "cell_type": "code",
   "execution_count": 28,
   "id": "1dfc517d",
   "metadata": {
    "slideshow": {
     "slide_type": "fragment"
    }
   },
   "outputs": [],
   "source": [
    "three_times_four = np.array([[10, 12, 14, 16,],\n",
    "                             [10.5, 12.5, 14.5, 16.5],\n",
    "                             [11, 13, 15, 17]])"
   ]
  },
  {
   "cell_type": "code",
   "execution_count": 29,
   "id": "4f9e67bf",
   "metadata": {
    "slideshow": {
     "slide_type": "fragment"
    }
   },
   "outputs": [
    {
     "name": "stdout",
     "output_type": "stream",
     "text": [
      "[[10.  12.  14.  16. ]\n",
      " [10.5 12.5 14.5 16.5]\n",
      " [11.  13.  15.  17. ]]\n"
     ]
    }
   ],
   "source": [
    "print(three_times_four)"
   ]
  },
  {
   "cell_type": "code",
   "execution_count": 30,
   "id": "58ba0b97",
   "metadata": {
    "slideshow": {
     "slide_type": "fragment"
    }
   },
   "outputs": [
    {
     "data": {
      "text/plain": [
       "(3, 4)"
      ]
     },
     "execution_count": 30,
     "metadata": {},
     "output_type": "execute_result"
    }
   ],
   "source": [
    "# What is the shape of the array?\n",
    "\n",
    "three_times_four.shape"
   ]
  },
  {
   "cell_type": "code",
   "execution_count": 31,
   "id": "9eac9018",
   "metadata": {
    "slideshow": {
     "slide_type": "fragment"
    }
   },
   "outputs": [
    {
     "data": {
      "text/plain": [
       "dtype('float64')"
      ]
     },
     "execution_count": 31,
     "metadata": {},
     "output_type": "execute_result"
    }
   ],
   "source": [
    "# The type of the elements of the array\n",
    "\n",
    "three_times_four.dtype"
   ]
  },
  {
   "cell_type": "markdown",
   "id": "d65cce5c",
   "metadata": {
    "slideshow": {
     "slide_type": "slide"
    }
   },
   "source": [
    "## We could have started with a one-dimensional array"
   ]
  },
  {
   "cell_type": "code",
   "execution_count": 38,
   "id": "9ff98dd5",
   "metadata": {
    "slideshow": {
     "slide_type": "-"
    }
   },
   "outputs": [
    {
     "data": {
      "text/plain": [
       "(12,)"
      ]
     },
     "execution_count": 38,
     "metadata": {},
     "output_type": "execute_result"
    }
   ],
   "source": [
    "a = np.array([10, 12, 14, 16, 10.5, 12.5, 14.5, 16.5, 11, 13, 15, 17])\n",
    "a.shape"
   ]
  },
  {
   "cell_type": "code",
   "execution_count": 47,
   "id": "29041853",
   "metadata": {
    "slideshow": {
     "slide_type": "fragment"
    }
   },
   "outputs": [],
   "source": [
    "# And we can set the dimensions as a tuple\n",
    "\n",
    "a.shape = (3, 4)  # let's try using -1 as one of the elements in the tuple "
   ]
  },
  {
   "cell_type": "code",
   "execution_count": 48,
   "id": "8a5f635a",
   "metadata": {
    "slideshow": {
     "slide_type": "fragment"
    }
   },
   "outputs": [
    {
     "data": {
      "text/plain": [
       "array([[10. , 12. , 14. , 16. ],\n",
       "       [10.5, 12.5, 14.5, 16.5],\n",
       "       [11. , 13. , 15. , 17. ]])"
      ]
     },
     "execution_count": 48,
     "metadata": {},
     "output_type": "execute_result"
    }
   ],
   "source": [
    "a"
   ]
  },
  {
   "cell_type": "code",
   "execution_count": 49,
   "id": "3db44ef0",
   "metadata": {
    "slideshow": {
     "slide_type": "fragment"
    }
   },
   "outputs": [
    {
     "data": {
      "text/plain": [
       "(3, 4)"
      ]
     },
     "execution_count": 49,
     "metadata": {},
     "output_type": "execute_result"
    }
   ],
   "source": [
    "a.shape"
   ]
  },
  {
   "cell_type": "markdown",
   "id": "84bd3e3b",
   "metadata": {
    "slideshow": {
     "slide_type": "slide"
    }
   },
   "source": [
    "## Accessing the elements of `a`"
   ]
  },
  {
   "cell_type": "code",
   "execution_count": 50,
   "id": "b0e00444",
   "metadata": {
    "slideshow": {
     "slide_type": "fragment"
    }
   },
   "outputs": [
    {
     "data": {
      "text/plain": [
       "array([10., 12., 14., 16.])"
      ]
     },
     "execution_count": 50,
     "metadata": {},
     "output_type": "execute_result"
    }
   ],
   "source": [
    "# Accessing the first (0th) row\n",
    "\n",
    "a[0]"
   ]
  },
  {
   "cell_type": "code",
   "execution_count": 51,
   "id": "745cb1f7",
   "metadata": {
    "slideshow": {
     "slide_type": "fragment"
    }
   },
   "outputs": [
    {
     "data": {
      "text/plain": [
       "array([16. , 16.5, 17. ])"
      ]
     },
     "execution_count": 51,
     "metadata": {},
     "output_type": "execute_result"
    }
   ],
   "source": [
    "# Accessing the last column\n",
    "\n",
    "a[:, 3] # all the rows in the last (3rd) column (can also use -1)"
   ]
  },
  {
   "cell_type": "code",
   "execution_count": 52,
   "id": "a238f0e4",
   "metadata": {
    "slideshow": {
     "slide_type": "fragment"
    }
   },
   "outputs": [
    {
     "data": {
      "text/plain": [
       "14.5"
      ]
     },
     "execution_count": 52,
     "metadata": {},
     "output_type": "execute_result"
    }
   ],
   "source": [
    "# Accessing the element in the 1st row and 2nd column (14.5)\n",
    "\n",
    "a[1, 2]"
   ]
  },
  {
   "cell_type": "markdown",
   "id": "39766af2",
   "metadata": {
    "slideshow": {
     "slide_type": "slide"
    }
   },
   "source": [
    "## The `ndarray` is mutable and we can change the values  "
   ]
  },
  {
   "cell_type": "code",
   "execution_count": 53,
   "id": "b618d4c4",
   "metadata": {
    "slideshow": {
     "slide_type": "-"
    }
   },
   "outputs": [],
   "source": [
    "a[2, 2] = 100  # the previous value was 15"
   ]
  },
  {
   "cell_type": "code",
   "execution_count": 54,
   "id": "3b3dd017",
   "metadata": {
    "slideshow": {
     "slide_type": "fragment"
    }
   },
   "outputs": [
    {
     "data": {
      "text/plain": [
       "array([[ 10. ,  12. ,  14. ,  16. ],\n",
       "       [ 10.5,  12.5,  14.5,  16.5],\n",
       "       [ 11. ,  13. , 100. ,  17. ]])"
      ]
     },
     "execution_count": 54,
     "metadata": {},
     "output_type": "execute_result"
    }
   ],
   "source": [
    "a"
   ]
  },
  {
   "cell_type": "markdown",
   "id": "bd2de90b",
   "metadata": {
    "slideshow": {
     "slide_type": "slide"
    }
   },
   "source": [
    "## Slicing and indexing work as with regular lists"
   ]
  },
  {
   "cell_type": "code",
   "execution_count": 58,
   "id": "19d16fa6",
   "metadata": {
    "slideshow": {
     "slide_type": "-"
    }
   },
   "outputs": [
    {
     "data": {
      "text/plain": [
       "array([[ 14.5,  16.5],\n",
       "       [100. ,  17. ]])"
      ]
     },
     "execution_count": 58,
     "metadata": {},
     "output_type": "execute_result"
    }
   ],
   "source": [
    "# Select the last two rows and the last two columns\n",
    "\n",
    "a[1:3, 2:4] # Remember the endpoint in the slice is non-inclusive"
   ]
  },
  {
   "cell_type": "code",
   "execution_count": null,
   "id": "6cbf9092",
   "metadata": {
    "slideshow": {
     "slide_type": "fragment"
    }
   },
   "outputs": [],
   "source": [
    "# Alternatively\n",
    "a[1:, 2:]"
   ]
  },
  {
   "cell_type": "markdown",
   "id": "77058867",
   "metadata": {
    "slideshow": {
     "slide_type": "slide"
    }
   },
   "source": [
    "## In class exercises 1 (we will do this together in class)\n",
    "\n",
    "1. Create a one-dimensional array containing the numbers 100, 200, 300 and 400\n",
    "\n",
    "2. Create a new array from the one-dimensional array that contains the two elements (200 and 300)\n",
    "\n",
    "3. Create the following $2*2$ matrix:\n",
    "\n",
    "$$\\left[\\begin{matrix}\n",
    " 2 & 8 \\\\\n",
    " 1 & 0\n",
    "\\end{matrix}\\right]$$\n",
    "\n",
    "4. Change the value 8 in the $2*2$-matrix to a 4\n",
    "\n",
    "5. Create a new array that only contains the second column of the $2*2$ matrix"
   ]
  },
  {
   "cell_type": "markdown",
   "id": "f747d1bf",
   "metadata": {
    "slideshow": {
     "slide_type": "slide"
    }
   },
   "source": [
    "# 3. NumPy methods"
   ]
  },
  {
   "cell_type": "markdown",
   "id": "e2bc6d47",
   "metadata": {
    "slideshow": {
     "slide_type": "slide"
    }
   },
   "source": [
    "## Some special array methods"
   ]
  },
  {
   "cell_type": "code",
   "execution_count": 59,
   "id": "a4afec54",
   "metadata": {
    "slideshow": {
     "slide_type": "-"
    }
   },
   "outputs": [
    {
     "data": {
      "text/plain": [
       "array([0, 1, 2, 3, 4, 5, 6, 7, 8, 9])"
      ]
     },
     "execution_count": 59,
     "metadata": {},
     "output_type": "execute_result"
    }
   ],
   "source": [
    "# A range of numbers (similar to the range() function, but for Numpy arrays)\n",
    "\n",
    "np.arange(10)"
   ]
  },
  {
   "cell_type": "code",
   "execution_count": 60,
   "id": "5f1baffc",
   "metadata": {
    "slideshow": {
     "slide_type": "fragment"
    }
   },
   "outputs": [
    {
     "data": {
      "text/plain": [
       "array([[0., 0., 0., 0.],\n",
       "       [0., 0., 0., 0.],\n",
       "       [0., 0., 0., 0.],\n",
       "       [0., 0., 0., 0.]])"
      ]
     },
     "execution_count": 60,
     "metadata": {},
     "output_type": "execute_result"
    }
   ],
   "source": [
    "# A matrix of zeros (4 rows and 4 columns)\n",
    "\n",
    "np.zeros((4,4))"
   ]
  },
  {
   "cell_type": "code",
   "execution_count": 61,
   "id": "f69db8b3",
   "metadata": {
    "slideshow": {
     "slide_type": "fragment"
    }
   },
   "outputs": [
    {
     "data": {
      "text/plain": [
       "array([[1., 1.],\n",
       "       [1., 1.]])"
      ]
     },
     "execution_count": 61,
     "metadata": {},
     "output_type": "execute_result"
    }
   ],
   "source": [
    "# A matrix of ones (2*2)\n",
    "np.ones((2,2))"
   ]
  },
  {
   "cell_type": "code",
   "execution_count": 63,
   "id": "64d023ca",
   "metadata": {
    "slideshow": {
     "slide_type": "fragment"
    }
   },
   "outputs": [
    {
     "data": {
      "text/plain": [
       "array([[1., 0., 0., 0.],\n",
       "       [0., 1., 0., 0.],\n",
       "       [0., 0., 1., 0.],\n",
       "       [0., 0., 0., 1.]])"
      ]
     },
     "execution_count": 63,
     "metadata": {},
     "output_type": "execute_result"
    }
   ],
   "source": [
    "# The identity matrix\n",
    "\n",
    "np.eye(4,4)"
   ]
  },
  {
   "cell_type": "markdown",
   "id": "7d630915",
   "metadata": {
    "slideshow": {
     "slide_type": "slide"
    }
   },
   "source": [
    "## Arithmetic operations with NumPy"
   ]
  },
  {
   "cell_type": "code",
   "execution_count": 64,
   "id": "59eb153e",
   "metadata": {
    "slideshow": {
     "slide_type": "-"
    }
   },
   "outputs": [],
   "source": [
    "a = np.array([1, 2, 3, 4, 5, 6, 7, 8, 9, 10, 11, 12])\n",
    "a.shape = 4, 3"
   ]
  },
  {
   "cell_type": "code",
   "execution_count": 65,
   "id": "d1506e50",
   "metadata": {
    "slideshow": {
     "slide_type": "-"
    }
   },
   "outputs": [
    {
     "name": "stdout",
     "output_type": "stream",
     "text": [
      "[[ 1  2  3]\n",
      " [ 4  5  6]\n",
      " [ 7  8  9]\n",
      " [10 11 12]]\n"
     ]
    }
   ],
   "source": [
    "print(a)"
   ]
  },
  {
   "cell_type": "markdown",
   "id": "32e5eb04",
   "metadata": {
    "slideshow": {
     "slide_type": "fragment"
    }
   },
   "source": [
    "### Multiplying the elements  (element wise multiplication)"
   ]
  },
  {
   "cell_type": "code",
   "execution_count": 66,
   "id": "497450b1",
   "metadata": {
    "slideshow": {
     "slide_type": "-"
    }
   },
   "outputs": [
    {
     "data": {
      "text/plain": [
       "array([[  1,   4,   9],\n",
       "       [ 16,  25,  36],\n",
       "       [ 49,  64,  81],\n",
       "       [100, 121, 144]])"
      ]
     },
     "execution_count": 66,
     "metadata": {},
     "output_type": "execute_result"
    }
   ],
   "source": [
    "a * a"
   ]
  },
  {
   "cell_type": "markdown",
   "id": "1fbf7162",
   "metadata": {
    "slideshow": {
     "slide_type": "slide"
    }
   },
   "source": [
    "### Adding elements "
   ]
  },
  {
   "cell_type": "code",
   "execution_count": 67,
   "id": "4cb5d2e8",
   "metadata": {},
   "outputs": [
    {
     "data": {
      "text/plain": [
       "array([[ 2,  4,  6],\n",
       "       [ 8, 10, 12],\n",
       "       [14, 16, 18],\n",
       "       [20, 22, 24]])"
      ]
     },
     "execution_count": 67,
     "metadata": {},
     "output_type": "execute_result"
    }
   ],
   "source": [
    "a + a "
   ]
  },
  {
   "cell_type": "markdown",
   "id": "f5000631",
   "metadata": {
    "slideshow": {
     "slide_type": "fragment"
    }
   },
   "source": [
    "### Rise all elements to the power of 3"
   ]
  },
  {
   "cell_type": "code",
   "execution_count": 68,
   "id": "ffff285c",
   "metadata": {
    "slideshow": {
     "slide_type": "-"
    }
   },
   "outputs": [
    {
     "data": {
      "text/plain": [
       "array([[   1,    8,   27],\n",
       "       [  64,  125,  216],\n",
       "       [ 343,  512,  729],\n",
       "       [1000, 1331, 1728]])"
      ]
     },
     "execution_count": 68,
     "metadata": {},
     "output_type": "execute_result"
    }
   ],
   "source": [
    "a ** 3"
   ]
  },
  {
   "cell_type": "markdown",
   "id": "1c7186c5",
   "metadata": {
    "slideshow": {
     "slide_type": "slide"
    }
   },
   "source": [
    "## Some more array functions "
   ]
  },
  {
   "cell_type": "markdown",
   "id": "d0853821",
   "metadata": {
    "slideshow": {
     "slide_type": "-"
    }
   },
   "source": [
    "#### Make a matrix one dimensional with the `ravel`  method"
   ]
  },
  {
   "cell_type": "code",
   "execution_count": 69,
   "id": "ae06b023",
   "metadata": {
    "slideshow": {
     "slide_type": "fragment"
    }
   },
   "outputs": [
    {
     "data": {
      "text/plain": [
       "(2, 3)"
      ]
     },
     "execution_count": 69,
     "metadata": {},
     "output_type": "execute_result"
    }
   ],
   "source": [
    "A = np.array([[2, 3, 4],\n",
    "              [14, 10, 6]])\n",
    "A.shape"
   ]
  },
  {
   "cell_type": "code",
   "execution_count": 72,
   "id": "1128e5a6",
   "metadata": {
    "slideshow": {
     "slide_type": "fragment"
    }
   },
   "outputs": [],
   "source": [
    "A_flattened = A.ravel()"
   ]
  },
  {
   "cell_type": "code",
   "execution_count": 71,
   "id": "f6ad1977",
   "metadata": {
    "slideshow": {
     "slide_type": "fragment"
    }
   },
   "outputs": [
    {
     "data": {
      "text/plain": [
       "array([[ 2,  3,  4],\n",
       "       [14, 10,  6]])"
      ]
     },
     "execution_count": 71,
     "metadata": {},
     "output_type": "execute_result"
    }
   ],
   "source": [
    "# ravel() does not change the original matrix\n",
    "\n",
    "A"
   ]
  },
  {
   "cell_type": "markdown",
   "id": "c5d799d8",
   "metadata": {
    "slideshow": {
     "slide_type": "slide"
    }
   },
   "source": [
    "## Random numbers with Numpy"
   ]
  },
  {
   "cell_type": "code",
   "execution_count": 76,
   "id": "399217a1",
   "metadata": {},
   "outputs": [
    {
     "name": "stdout",
     "output_type": "stream",
     "text": [
      "[181 489 120 115 846 772 575 584 762 937]\n"
     ]
    }
   ],
   "source": [
    "# random integers below a given value (here I use 10)\n",
    "\n",
    "rand_ints = np.random.randint(1000, size=(10))\n",
    "print(rand_ints)"
   ]
  },
  {
   "cell_type": "code",
   "execution_count": 77,
   "id": "9b42483f",
   "metadata": {
    "slideshow": {
     "slide_type": "fragment"
    }
   },
   "outputs": [
    {
     "name": "stdout",
     "output_type": "stream",
     "text": [
      "[[0.04819092 0.35341831 0.93669764]\n",
      " [0.22322728 0.75301992 0.19005446]\n",
      " [0.51497692 0.01116669 0.9181811 ]]\n"
     ]
    }
   ],
   "source": [
    "# random samples from a uniform distribution over [0, 1)\n",
    "\n",
    "rand_floats = np.random.rand(3,3)\n",
    "print(rand_floats)"
   ]
  },
  {
   "cell_type": "markdown",
   "id": "19d9d595",
   "metadata": {
    "slideshow": {
     "slide_type": "slide"
    }
   },
   "source": [
    "## Return an array drawn from the \"standard normal\" distribution.\n",
    "\n"
   ]
  },
  {
   "cell_type": "code",
   "execution_count": 90,
   "id": "b51bd578",
   "metadata": {
    "slideshow": {
     "slide_type": "-"
    }
   },
   "outputs": [],
   "source": [
    "x = np.random.randn(1000, 1)\n",
    "#print(x)"
   ]
  },
  {
   "cell_type": "code",
   "execution_count": 91,
   "id": "a955c813",
   "metadata": {
    "slideshow": {
     "slide_type": "fragment"
    }
   },
   "outputs": [
    {
     "data": {
      "text/plain": [
       "-0.02176934607376081"
      ]
     },
     "execution_count": 91,
     "metadata": {},
     "output_type": "execute_result"
    }
   ],
   "source": [
    "# Calculate the mean of the numbers\n",
    "\n",
    "np.mean(x)"
   ]
  },
  {
   "cell_type": "code",
   "execution_count": 92,
   "id": "a21a8c80",
   "metadata": {
    "slideshow": {
     "slide_type": "fragment"
    }
   },
   "outputs": [
    {
     "data": {
      "text/plain": [
       "0.9968709791346603"
      ]
     },
     "execution_count": 92,
     "metadata": {},
     "output_type": "execute_result"
    }
   ],
   "source": [
    "# Calculate the standard deviation of the numbers\n",
    "\n",
    "np.std(x)"
   ]
  },
  {
   "cell_type": "markdown",
   "id": "37f97781",
   "metadata": {
    "slideshow": {
     "slide_type": "slide"
    }
   },
   "source": [
    "## We can also use random choice with Numpy"
   ]
  },
  {
   "cell_type": "code",
   "execution_count": 97,
   "id": "b40923f9",
   "metadata": {},
   "outputs": [],
   "source": [
    "def drawRandomCard():\n",
    "    '''\n",
    "    This function returns a random card from a deck of 52 cards.\n",
    "    '''\n",
    "    card_value = np.random.choice(\n",
    "        ['J', 'Q', 'K', 'A'] + [str(i+2) for i in range(9)]\n",
    "    )\n",
    "\n",
    "    card_suit = np.random.choice(\n",
    "        ['Heart', 'Diamonds', 'Clubs', 'Spades']\n",
    "    )\n",
    "\n",
    "    return card_suit + '-' + card_value"
   ]
  },
  {
   "cell_type": "code",
   "execution_count": 101,
   "id": "03748007",
   "metadata": {},
   "outputs": [
    {
     "data": {
      "text/plain": [
       "'Heart-8'"
      ]
     },
     "execution_count": 101,
     "metadata": {},
     "output_type": "execute_result"
    }
   ],
   "source": [
    "drawRandomCard()"
   ]
  },
  {
   "cell_type": "markdown",
   "id": "4cd6cb19",
   "metadata": {
    "slideshow": {
     "slide_type": "slide"
    }
   },
   "source": [
    "## Numpy methods"
   ]
  },
  {
   "cell_type": "code",
   "execution_count": 103,
   "id": "623073cd",
   "metadata": {
    "slideshow": {
     "slide_type": "-"
    }
   },
   "outputs": [],
   "source": [
    "rand_ints = np.random.randn(10)"
   ]
  },
  {
   "cell_type": "code",
   "execution_count": 104,
   "id": "ea4d7552",
   "metadata": {},
   "outputs": [
    {
     "name": "stdout",
     "output_type": "stream",
     "text": [
      "[-1.51638261 -1.15209275 -0.89516545 -0.89179931 -0.87673188 -0.72039805\n",
      "  0.24832835  0.66278962  1.30338413  1.39311502]\n"
     ]
    }
   ],
   "source": [
    "# Sorting the array\n",
    "\n",
    "rand_ints.sort()\n",
    "print(rand_ints)"
   ]
  },
  {
   "cell_type": "markdown",
   "id": "6722bf6b",
   "metadata": {
    "slideshow": {
     "slide_type": "slide"
    }
   },
   "source": [
    "## Working with NaNs"
   ]
  },
  {
   "cell_type": "code",
   "execution_count": 105,
   "id": "6058aa92",
   "metadata": {
    "slideshow": {
     "slide_type": "-"
    }
   },
   "outputs": [
    {
     "data": {
      "text/plain": [
       "array([ 0.03265428, -1.7009083 , -1.8975688 ,         nan,  0.10568329,\n",
       "       -0.09839648, -0.56135918,  1.11911149,  0.14790183,  0.2616981 ])"
      ]
     },
     "execution_count": 105,
     "metadata": {},
     "output_type": "execute_result"
    }
   ],
   "source": [
    "rand_ints = np.random.randn(10)\n",
    "rand_ints[3] = np.nan\n",
    "rand_ints"
   ]
  },
  {
   "cell_type": "code",
   "execution_count": 106,
   "id": "889b7ce5",
   "metadata": {
    "slideshow": {
     "slide_type": "fragment"
    }
   },
   "outputs": [
    {
     "data": {
      "text/plain": [
       "numpy.float64"
      ]
     },
     "execution_count": 106,
     "metadata": {},
     "output_type": "execute_result"
    }
   ],
   "source": [
    "type(rand_ints[3])"
   ]
  },
  {
   "cell_type": "code",
   "execution_count": 107,
   "id": "44c75c00",
   "metadata": {
    "slideshow": {
     "slide_type": "fragment"
    }
   },
   "outputs": [
    {
     "data": {
      "text/plain": [
       "nan"
      ]
     },
     "execution_count": 107,
     "metadata": {},
     "output_type": "execute_result"
    }
   ],
   "source": [
    "# Operations with a nan always returns a nan\n",
    "\n",
    "rand_ints[3]*3"
   ]
  },
  {
   "cell_type": "code",
   "execution_count": 108,
   "id": "0d569e43",
   "metadata": {
    "slideshow": {
     "slide_type": "fragment"
    }
   },
   "outputs": [
    {
     "data": {
      "text/plain": [
       "array([ 0.03265428, -1.7009083 , -1.8975688 ,  0.        ,  0.10568329,\n",
       "       -0.09839648, -0.56135918,  1.11911149,  0.14790183,  0.2616981 ])"
      ]
     },
     "execution_count": 108,
     "metadata": {},
     "output_type": "execute_result"
    }
   ],
   "source": [
    "# We can convert the nans to zeros\n",
    "\n",
    "np.nan_to_num(rand_ints)"
   ]
  },
  {
   "cell_type": "markdown",
   "id": "ec922a27",
   "metadata": {
    "slideshow": {
     "slide_type": "slide"
    }
   },
   "source": [
    "## In class exercises 2\n",
    "\n",
    "1. Use the drawRandomCard() function and simulate many draws. Then calculate how many times you get a Spades-A (Ace of Spades) divided by the total number of tries (this gives the estimated probability of drawing the Ace of Spades)\n",
    "        a. Try with 1000 simulations\n",
    "        b. Try with 1 000 000 simulations\n",
    "\n",
    "     (The probability of getting a Spades-A is: $1/52\\approx0.01923$)\n",
    "     \n",
    "\n",
    "2. Create a 1-dimensional matrix with 18 random numbers (from the standard normal distribution)\n",
    "\n",
    "3. From this 1-dimensional matrix create one $2*9$ and one $6*3$ matrix"
   ]
  },
  {
   "cell_type": "markdown",
   "id": "b276e457",
   "metadata": {
    "slideshow": {
     "slide_type": "slide"
    }
   },
   "source": [
    "# 4. Linear algebra with NumPy"
   ]
  },
  {
   "cell_type": "markdown",
   "id": "bb1c8cbb",
   "metadata": {
    "slideshow": {
     "slide_type": "slide"
    }
   },
   "source": [
    "## Let's have a brief look at some methods for linear algebra\n",
    "\n",
    "- NumPy is a Python library for linear algebra. Most of what NumPy is used for is beyond the scope of this course, but let's have a quick look at some more advanced futures.  "
   ]
  },
  {
   "cell_type": "markdown",
   "id": "9cba28a1",
   "metadata": {
    "slideshow": {
     "slide_type": "fragment"
    }
   },
   "source": [
    "- Let us define two square matrices $(2*2)$"
   ]
  },
  {
   "cell_type": "code",
   "execution_count": 9,
   "id": "55dae156",
   "metadata": {
    "slideshow": {
     "slide_type": "-"
    }
   },
   "outputs": [],
   "source": [
    "# Using the method reshape does the same as A.shape = (2, 2) \n",
    "\n",
    "A = np.array([1, 2, 3, 4]).reshape((4,1)) \n",
    "\n",
    "\n",
    "B = np.array([2, 4, 6, 8]).reshape((2,2)) "
   ]
  },
  {
   "cell_type": "code",
   "execution_count": 11,
   "id": "314cd1be",
   "metadata": {
    "slideshow": {
     "slide_type": "fragment"
    }
   },
   "outputs": [
    {
     "name": "stdout",
     "output_type": "stream",
     "text": [
      "The A matrix:\n",
      "[[1]\n",
      " [2]\n",
      " [3]\n",
      " [4]]\n",
      "\n",
      "The B matrix\n",
      "[[2 4]\n",
      " [6 8]]\n"
     ]
    }
   ],
   "source": [
    "print('The A matrix:')\n",
    "print(A)\n",
    "print('')\n",
    "print('The B matrix')\n",
    "print(B)"
   ]
  },
  {
   "cell_type": "markdown",
   "id": "cf5c0311",
   "metadata": {
    "slideshow": {
     "slide_type": "slide"
    }
   },
   "source": [
    "### The transpose of a matrix\n",
    "   - The transpose of a matrix is found by interchanging its rows into columns or columns into rows."
   ]
  },
  {
   "cell_type": "code",
   "execution_count": 5,
   "id": "a6549c7f",
   "metadata": {},
   "outputs": [
    {
     "data": {
      "text/plain": [
       "array([[1, 2],\n",
       "       [3, 4]])"
      ]
     },
     "execution_count": 5,
     "metadata": {},
     "output_type": "execute_result"
    }
   ],
   "source": [
    "A"
   ]
  },
  {
   "cell_type": "code",
   "execution_count": 112,
   "id": "affc5488",
   "metadata": {
    "slideshow": {
     "slide_type": "fragment"
    }
   },
   "outputs": [
    {
     "data": {
      "text/plain": [
       "array([[1, 3],\n",
       "       [2, 4]])"
      ]
     },
     "execution_count": 112,
     "metadata": {},
     "output_type": "execute_result"
    }
   ],
   "source": [
    "A.T"
   ]
  },
  {
   "cell_type": "markdown",
   "id": "47c0749f",
   "metadata": {
    "slideshow": {
     "slide_type": "slide"
    }
   },
   "source": [
    "### Matrix multiplication (dot-product)\n",
    "- Matrix multiplication means a row-by-column multiplication, where the entries in the $i$th row of $A$ are multiplied by the corresponding entries in the $j$th column of $B$ and then adding the results."
   ]
  },
  {
   "cell_type": "markdown",
   "id": "ced37d23",
   "metadata": {
    "slideshow": {
     "slide_type": "slide"
    }
   },
   "source": [
    "$A = \\left[\\begin{matrix}\n",
    " A_{11} & A_{12} \\\\\n",
    " A_{21} & A_{22}\n",
    "\\end{matrix}\\right]= \\left[\\begin{matrix}\n",
    " 1 & 2 \\\\\n",
    " 3 & 4\n",
    "\\end{matrix}\\right]\\;\\;$ and $\\;\\;B = \\left[\\begin{matrix}\n",
    " B_{11} & B_{12} \\\\\n",
    " B_{21} & B_{22}\n",
    "\\end{matrix}\\right]= \\left[\\begin{matrix}\n",
    " 2 & 4 \\\\\n",
    " 6 & 8\n",
    "\\end{matrix}\\right]$\n",
    "\n",
    "We want to compute\n",
    "\n",
    "$C = AB = \\left[\\begin{matrix}\n",
    " C_{11} & C_{12} \\\\\n",
    " C_{21} & C_{22}\n",
    "\\end{matrix}\\right]$"
   ]
  },
  {
   "cell_type": "markdown",
   "id": "542f5389",
   "metadata": {
    "slideshow": {
     "slide_type": "fragment"
    }
   },
   "source": [
    "Let's compute $C$\n",
    "\n",
    "$C_{11} = (A_{11}*B_{11}) + (A_{12}*B_{21}) = (1*2) + (2*6) = 14$\n",
    "\n",
    "$C_{12} = (A_{11}*B_{12}) + (A_{12}*B_{22}) = (1*4) + (2*8) = 20$\n",
    "\n",
    "$C_{21} = (A_{21}*B_{11}) + (A_{22}*B_{21}) = (3*2) + (4*6) = 30$\n",
    "\n",
    "$C_{22} = (A_{21}*B_{12}) + (A_{22}*B_{22}) = (3*4) + (4*8) = 44$"
   ]
  },
  {
   "cell_type": "markdown",
   "id": "6734df94",
   "metadata": {
    "slideshow": {
     "slide_type": "slide"
    }
   },
   "source": [
    "### Let's calculate the whole C-matrix using NumPy:"
   ]
  },
  {
   "cell_type": "code",
   "execution_count": 12,
   "id": "103f2d4f",
   "metadata": {
    "slideshow": {
     "slide_type": "fragment"
    }
   },
   "outputs": [
    {
     "ename": "ValueError",
     "evalue": "shapes (4,1) and (2,2) not aligned: 1 (dim 1) != 2 (dim 0)",
     "output_type": "error",
     "traceback": [
      "\u001B[0;31m---------------------------------------------------------------------------\u001B[0m",
      "\u001B[0;31mValueError\u001B[0m                                Traceback (most recent call last)",
      "Input \u001B[0;32mIn [12]\u001B[0m, in \u001B[0;36m<cell line: 4>\u001B[0;34m()\u001B[0m\n\u001B[1;32m      1\u001B[0m \u001B[38;5;66;03m# There are several ways of computing the dot product\u001B[39;00m\n\u001B[1;32m      2\u001B[0m \u001B[38;5;28;01mimport\u001B[39;00m \u001B[38;5;21;01mnumpy\u001B[39;00m \u001B[38;5;28;01mas\u001B[39;00m \u001B[38;5;21;01mnp\u001B[39;00m\n\u001B[0;32m----> 4\u001B[0m \u001B[43mnp\u001B[49m\u001B[38;5;241;43m.\u001B[39;49m\u001B[43mdot\u001B[49m\u001B[43m(\u001B[49m\u001B[43mA\u001B[49m\u001B[43m,\u001B[49m\u001B[43m \u001B[49m\u001B[43mB\u001B[49m\u001B[43m)\u001B[49m\n",
      "File \u001B[0;32m<__array_function__ internals>:180\u001B[0m, in \u001B[0;36mdot\u001B[0;34m(*args, **kwargs)\u001B[0m\n",
      "\u001B[0;31mValueError\u001B[0m: shapes (4,1) and (2,2) not aligned: 1 (dim 1) != 2 (dim 0)"
     ]
    }
   ],
   "source": [
    "# There are several ways of computing the dot product\n",
    "import numpy as np\n",
    "\n",
    "np.dot(A, B)"
   ]
  },
  {
   "cell_type": "code",
   "execution_count": 7,
   "id": "484b9d53",
   "metadata": {},
   "outputs": [
    {
     "data": {
      "text/plain": [
       "array([[14, 20],\n",
       "       [30, 44]])"
      ]
     },
     "execution_count": 7,
     "metadata": {},
     "output_type": "execute_result"
    }
   ],
   "source": [
    "# Alternative syntax 2\n",
    "\n",
    "A.dot(B)"
   ]
  },
  {
   "cell_type": "code",
   "execution_count": 116,
   "id": "160ebfd2",
   "metadata": {
    "slideshow": {
     "slide_type": "fragment"
    }
   },
   "outputs": [
    {
     "data": {
      "text/plain": [
       "array([[14, 20],\n",
       "       [30, 44]])"
      ]
     },
     "execution_count": 116,
     "metadata": {},
     "output_type": "execute_result"
    }
   ],
   "source": [
    "# Alternative syntax 3\n",
    "\n",
    "A @ B"
   ]
  },
  {
   "cell_type": "markdown",
   "id": "8ca276da",
   "metadata": {
    "slideshow": {
     "slide_type": "slide"
    }
   },
   "source": [
    "### The matrix inverse \n",
    "\n",
    "- If $A$ is a square matrix and $B$ is its inverse, then the product of two matrices is equal to the identity matrix."
   ]
  },
  {
   "cell_type": "code",
   "execution_count": 13,
   "id": "b4fe163b",
   "metadata": {
    "slideshow": {
     "slide_type": "-"
    }
   },
   "outputs": [],
   "source": [
    "invB = np.linalg.inv(B)"
   ]
  },
  {
   "cell_type": "code",
   "execution_count": 14,
   "id": "2e65999a",
   "metadata": {
    "slideshow": {
     "slide_type": "fragment"
    }
   },
   "outputs": [
    {
     "data": {
      "text/plain": [
       "array([[-1.  ,  0.5 ],\n",
       "       [ 0.75, -0.25]])"
      ]
     },
     "execution_count": 14,
     "metadata": {},
     "output_type": "execute_result"
    }
   ],
   "source": [
    "invB"
   ]
  },
  {
   "cell_type": "code",
   "execution_count": 16,
   "id": "3fb2136b",
   "metadata": {},
   "outputs": [
    {
     "data": {
      "text/plain": [
       "array([[1.00000000e+00, 1.11022302e-16],\n",
       "       [0.00000000e+00, 1.00000000e+00]])"
      ]
     },
     "execution_count": 16,
     "metadata": {},
     "output_type": "execute_result"
    }
   ],
   "source": [
    "# The dot product of B and invB is the identity matrix\n",
    "\n",
    "np.dot(B, invB)"
   ]
  },
  {
   "cell_type": "markdown",
   "id": "8d495f6d",
   "metadata": {
    "slideshow": {
     "slide_type": "slide"
    }
   },
   "source": [
    "## In class exercises 3\n",
    "\n",
    "1. Create a $(4*4)$ identity matrix\n",
    "\n",
    "2. Calculate the inverse of this matrix.\n",
    "\n",
    "3. Create a $(4*4)$ matrix of ones and multiply it by 5 (do a regular multiplication with $*$, and don't use matrix multiplication, @)\n",
    "\n",
    "4. Multiply the identity matrix with this new matrix. Try with both $*$ (element wise multiplication) and $@$ (matrix multiplication)\n",
    "\n",
    "5. Try to calculate the inverse of the matrix that has only fives"
   ]
  },
  {
   "cell_type": "markdown",
   "id": "2bfbac80",
   "metadata": {
    "slideshow": {
     "slide_type": "slide"
    }
   },
   "source": [
    "## Example: Solving a linear equation system\n",
    "\n",
    "$y + 3z = 29$\n",
    "\n",
    "$4y - 2z = -10$"
   ]
  },
  {
   "cell_type": "markdown",
   "id": "8f44e47c",
   "metadata": {
    "slideshow": {
     "slide_type": "fragment"
    }
   },
   "source": [
    "This can be written as:\n",
    "\n",
    "$A\\mathbf{x}=b\\;\\;$\n",
    "where \n",
    "$\\;\\;A = \\left[\\begin{matrix}\n",
    " 1 & 3 \\\\\n",
    " 4 & -2\n",
    "\\end{matrix}\\right]$,\n",
    "$\\;\\;\\mathbf{x} = \\left[\\begin{matrix}\n",
    "y \\\\\n",
    "z\n",
    "\\end{matrix}\\right]\\;\\;$ and $\\;\\;b = \\left[\\begin{matrix}\n",
    "29 \\\\\n",
    "-10 \n",
    "\\end{matrix}\\right]$"
   ]
  },
  {
   "cell_type": "markdown",
   "id": "917983c6",
   "metadata": {
    "slideshow": {
     "slide_type": "fragment"
    }
   },
   "source": [
    "The solution to the system is\n",
    "\n",
    "$\\mathbf{x} = A^{-1}b$"
   ]
  },
  {
   "cell_type": "markdown",
   "id": "632c3b13",
   "metadata": {
    "slideshow": {
     "slide_type": "slide"
    }
   },
   "source": [
    "## Solving the equation system with NumPy"
   ]
  },
  {
   "cell_type": "code",
   "execution_count": 21,
   "id": "570afe9d",
   "metadata": {},
   "outputs": [],
   "source": [
    "A = np.array([[5, 5],\n",
    "              [5, 5]])\n",
    "\n",
    "b = np.array([[10], [20]])"
   ]
  },
  {
   "cell_type": "code",
   "execution_count": 22,
   "id": "2c355802",
   "metadata": {
    "slideshow": {
     "slide_type": "fragment"
    }
   },
   "outputs": [
    {
     "name": "stdout",
     "output_type": "stream",
     "text": [
      "(2, 2)\n",
      "(2, 1)\n"
     ]
    }
   ],
   "source": [
    "print(A.shape)\n",
    "print(b.shape)"
   ]
  },
  {
   "cell_type": "code",
   "execution_count": 23,
   "id": "514933ed",
   "metadata": {
    "slideshow": {
     "slide_type": "fragment"
    }
   },
   "outputs": [
    {
     "ename": "LinAlgError",
     "evalue": "Singular matrix",
     "output_type": "error",
     "traceback": [
      "\u001B[0;31m---------------------------------------------------------------------------\u001B[0m",
      "\u001B[0;31mLinAlgError\u001B[0m                               Traceback (most recent call last)",
      "Input \u001B[0;32mIn [23]\u001B[0m, in \u001B[0;36m<cell line: 3>\u001B[0;34m()\u001B[0m\n\u001B[1;32m      1\u001B[0m \u001B[38;5;66;03m# Solution 1:\u001B[39;00m\n\u001B[0;32m----> 3\u001B[0m solu1 \u001B[38;5;241m=\u001B[39m \u001B[43mnp\u001B[49m\u001B[38;5;241;43m.\u001B[39;49m\u001B[43mlinalg\u001B[49m\u001B[38;5;241;43m.\u001B[39;49m\u001B[43minv\u001B[49m\u001B[43m(\u001B[49m\u001B[43mA\u001B[49m\u001B[43m)\u001B[49m \u001B[38;5;241m@\u001B[39m b\n\u001B[1;32m      5\u001B[0m solu1\n",
      "File \u001B[0;32m<__array_function__ internals>:180\u001B[0m, in \u001B[0;36minv\u001B[0;34m(*args, **kwargs)\u001B[0m\n",
      "File \u001B[0;32m~/opt/anaconda3/envs/edi3400/lib/python3.10/site-packages/numpy/linalg/linalg.py:552\u001B[0m, in \u001B[0;36minv\u001B[0;34m(a)\u001B[0m\n\u001B[1;32m    550\u001B[0m signature \u001B[38;5;241m=\u001B[39m \u001B[38;5;124m'\u001B[39m\u001B[38;5;124mD->D\u001B[39m\u001B[38;5;124m'\u001B[39m \u001B[38;5;28;01mif\u001B[39;00m isComplexType(t) \u001B[38;5;28;01melse\u001B[39;00m \u001B[38;5;124m'\u001B[39m\u001B[38;5;124md->d\u001B[39m\u001B[38;5;124m'\u001B[39m\n\u001B[1;32m    551\u001B[0m extobj \u001B[38;5;241m=\u001B[39m get_linalg_error_extobj(_raise_linalgerror_singular)\n\u001B[0;32m--> 552\u001B[0m ainv \u001B[38;5;241m=\u001B[39m \u001B[43m_umath_linalg\u001B[49m\u001B[38;5;241;43m.\u001B[39;49m\u001B[43minv\u001B[49m\u001B[43m(\u001B[49m\u001B[43ma\u001B[49m\u001B[43m,\u001B[49m\u001B[43m \u001B[49m\u001B[43msignature\u001B[49m\u001B[38;5;241;43m=\u001B[39;49m\u001B[43msignature\u001B[49m\u001B[43m,\u001B[49m\u001B[43m \u001B[49m\u001B[43mextobj\u001B[49m\u001B[38;5;241;43m=\u001B[39;49m\u001B[43mextobj\u001B[49m\u001B[43m)\u001B[49m\n\u001B[1;32m    553\u001B[0m \u001B[38;5;28;01mreturn\u001B[39;00m wrap(ainv\u001B[38;5;241m.\u001B[39mastype(result_t, copy\u001B[38;5;241m=\u001B[39m\u001B[38;5;28;01mFalse\u001B[39;00m))\n",
      "File \u001B[0;32m~/opt/anaconda3/envs/edi3400/lib/python3.10/site-packages/numpy/linalg/linalg.py:89\u001B[0m, in \u001B[0;36m_raise_linalgerror_singular\u001B[0;34m(err, flag)\u001B[0m\n\u001B[1;32m     88\u001B[0m \u001B[38;5;28;01mdef\u001B[39;00m \u001B[38;5;21m_raise_linalgerror_singular\u001B[39m(err, flag):\n\u001B[0;32m---> 89\u001B[0m     \u001B[38;5;28;01mraise\u001B[39;00m LinAlgError(\u001B[38;5;124m\"\u001B[39m\u001B[38;5;124mSingular matrix\u001B[39m\u001B[38;5;124m\"\u001B[39m)\n",
      "\u001B[0;31mLinAlgError\u001B[0m: Singular matrix"
     ]
    }
   ],
   "source": [
    "# Solution 1:\n",
    "\n",
    "solu1 = np.linalg.inv(A) @ b\n",
    "\n",
    "solu1"
   ]
  },
  {
   "cell_type": "code",
   "execution_count": 20,
   "id": "12c82eea",
   "metadata": {
    "slideshow": {
     "slide_type": "slide"
    }
   },
   "outputs": [
    {
     "data": {
      "text/plain": [
       "array([[2.],\n",
       "       [9.]])"
      ]
     },
     "execution_count": 20,
     "metadata": {},
     "output_type": "execute_result"
    }
   ],
   "source": [
    "# Solution 2:\n",
    "\n",
    "solu2 = np.linalg.solve(A, b)\n",
    "\n",
    "solu2"
   ]
  }
 ],
 "metadata": {
  "celltoolbar": "Slideshow",
  "kernelspec": {
   "display_name": "Python 3 (ipykernel)",
   "language": "python",
   "name": "python3"
  },
  "language_info": {
   "codemirror_mode": {
    "name": "ipython",
    "version": 3
   },
   "file_extension": ".py",
   "mimetype": "text/x-python",
   "name": "python",
   "nbconvert_exporter": "python",
   "pygments_lexer": "ipython3",
   "version": "3.9.12"
  }
 },
 "nbformat": 4,
 "nbformat_minor": 5
}
