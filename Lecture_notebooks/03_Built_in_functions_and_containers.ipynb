{
 "cells": [
  {
   "cell_type": "markdown",
   "id": "47080612-4719-4835-95f5-d5b96d16e527",
   "metadata": {
    "slideshow": {
     "slide_type": "-"
    }
   },
   "source": [
    "# Built-in functions and containers\n",
    "\n",
    "## Course: Programming and Data Management (EDI 3400)\n",
    "\n",
    "### *Vegard H. Larsen (Department of Data Science and Analytics)*"
   ]
  },
  {
   "cell_type": "markdown",
   "id": "e779fa0b",
   "metadata": {
    "slideshow": {
     "slide_type": "-"
    }
   },
   "source": [
    "# 1. Built in functions\n",
    "\n",
    "Built-in functions are pre-defined operations that come with the language, offering a plethora of utilities without the need for external libraries or additional code. They simplify common tasks, making programming more efficient and intuitive. For instance, `print()` displays information to the console, `len()` returns the length of an item, and `int()` or `str()` convert values between numerical and textual data types. Using these functions, a beginner can accomplish significant tasks without reinventing the wheel. Python's rich assortment of built-in functions, ranging from mathematical operations to data type manipulations, equips students with powerful tools that streamline code, enhancing readability and efficiency. "
   ]
  },
  {
   "cell_type": "markdown",
   "id": "8cd398b4-250f-44ff-8209-be2c7deaecc5",
   "metadata": {},
   "source": [
    "- A built-in function is a function that is available without importing any additional libraries.\n",
    "- Some useful built-in functions are: `print()`, `input()`, `type()`, `len()`, `round()` and `dir()`\n",
    "- In lecture 5 we will learn how we can make our own functions"
   ]
  },
  {
   "cell_type": "markdown",
   "id": "7362749f",
   "metadata": {
    "slideshow": {
     "slide_type": "-"
    }
   },
   "source": [
    "## Examples of usage of built in functions:\n",
    "\n",
    "By now we have seen both `print()` and `type()` many times. We have also used `int()` for type conversion. \n",
    "\n",
    "Let's look at some other functions:"
   ]
  },
  {
   "cell_type": "code",
   "execution_count": null,
   "id": "e641b6b1",
   "metadata": {
    "slideshow": {
     "slide_type": "-"
    }
   },
   "outputs": [],
   "source": [
    "# Getting help\n",
    "len?"
   ]
  },
  {
   "cell_type": "code",
   "execution_count": null,
   "id": "422c5ae8",
   "metadata": {
    "slideshow": {
     "slide_type": "-"
    }
   },
   "outputs": [],
   "source": [
    "# Compute the length of a list\n",
    "len([1, 2, 3, 3])"
   ]
  },
  {
   "cell_type": "code",
   "execution_count": null,
   "id": "12e72f9a",
   "metadata": {
    "slideshow": {
     "slide_type": "-"
    }
   },
   "outputs": [],
   "source": [
    "round?"
   ]
  },
  {
   "cell_type": "code",
   "execution_count": null,
   "id": "c5873f95",
   "metadata": {
    "slideshow": {
     "slide_type": "-"
    }
   },
   "outputs": [],
   "source": [
    "# Round of a number\n",
    "round(3.1425, 3)"
   ]
  },
  {
   "cell_type": "markdown",
   "id": "f1f85d7a",
   "metadata": {
    "slideshow": {
     "slide_type": "-"
    }
   },
   "source": [
    "## The `input()` function"
   ]
  },
  {
   "cell_type": "code",
   "execution_count": null,
   "id": "b00ba61a",
   "metadata": {
    "slideshow": {
     "slide_type": "-"
    }
   },
   "outputs": [],
   "source": [
    "input() # This function let the user give an input from the keyboard"
   ]
  },
  {
   "cell_type": "code",
   "execution_count": null,
   "id": "5d76b40c",
   "metadata": {
    "slideshow": {
     "slide_type": "-"
    }
   },
   "outputs": [],
   "source": [
    "input('Hi user, enter a string here: ') # We can give the user some instructions"
   ]
  },
  {
   "cell_type": "code",
   "execution_count": null,
   "id": "e243fffe",
   "metadata": {
    "slideshow": {
     "slide_type": "-"
    }
   },
   "outputs": [],
   "source": [
    "user_input = input('Hi user, enter a number here: ') # Assign the input to a variable"
   ]
  },
  {
   "cell_type": "code",
   "execution_count": null,
   "id": "271394d2",
   "metadata": {
    "slideshow": {
     "slide_type": "-"
    }
   },
   "outputs": [],
   "source": [
    "user_input.  # The input is always a string-type"
   ]
  },
  {
   "cell_type": "markdown",
   "id": "09891f28",
   "metadata": {
    "slideshow": {
     "slide_type": "-"
    }
   },
   "source": [
    "## Some other built-in functions:"
   ]
  },
  {
   "cell_type": "code",
   "execution_count": null,
   "id": "906739fd",
   "metadata": {
    "slideshow": {
     "slide_type": "-"
    }
   },
   "outputs": [],
   "source": [
    "# The absolute value of a number\n",
    "abs(-10)"
   ]
  },
  {
   "cell_type": "code",
   "execution_count": null,
   "id": "a368564e",
   "metadata": {
    "slideshow": {
     "slide_type": "-"
    }
   },
   "outputs": [],
   "source": [
    "# Sum the element of an iterable object\n",
    "sum([1,2,4])"
   ]
  },
  {
   "cell_type": "code",
   "execution_count": null,
   "id": "c781d8b7",
   "metadata": {
    "slideshow": {
     "slide_type": "-"
    }
   },
   "outputs": [],
   "source": [
    "# Type cast to a float\n",
    "float(34)"
   ]
  },
  {
   "cell_type": "code",
   "execution_count": null,
   "id": "245d10dc",
   "metadata": {
    "slideshow": {
     "slide_type": "-"
    }
   },
   "outputs": [],
   "source": [
    "# Get help\n",
    "#help(int)"
   ]
  },
  {
   "cell_type": "markdown",
   "id": "6ebb57ca",
   "metadata": {
    "slideshow": {
     "slide_type": "-"
    }
   },
   "source": [
    "# 2. Objects have methods\n",
    "\n",
    "Objects are instances of data types or classes, and these objects often come equipped with built-in functions called \"methods\" that perform actions or tasks specific to that object. Think of objects like smartphones: just as different smartphone models have unique apps or features, different objects in Python have specific methods. For example, a string object (e.g., `\"hello\"`) has methods like `.upper()` to convert it to uppercase, resulting in `\"HELLO\"`. Similarly, a list object (e.g., `[1, 2, 3]`) has methods such as `.append(4)` to add the number `4` to its end. These methods are invoked using the dot (`.`) notation."
   ]
  },
  {
   "cell_type": "markdown",
   "id": "8e77e235",
   "metadata": {
    "slideshow": {
     "slide_type": "-"
    }
   },
   "source": [
    "## Methods vs. Functions\n",
    "\n",
    "#### Methods \n",
    "- Methods are associated with the objects of the class they belong to.\t\n",
    "- A method is called 'on' an object. We cannot invoke it just by its name\n",
    "\n",
    "#### Functions \n",
    "- Functions are not associated with any object.\n",
    "- We can invoke a function just by its name."
   ]
  },
  {
   "cell_type": "markdown",
   "id": "8e3f7340",
   "metadata": {
    "slideshow": {
     "slide_type": "-"
    }
   },
   "source": [
    "## Almost everything in Python is an object\n",
    "\n",
    "- An object can have its own methods (functions)\n",
    "- - We can access these methods by using dot-notation\n",
    "    - `object_name.{method}`\n",
    "- We can see all the methods that belong to an object with the built-in `dir()` function"
   ]
  },
  {
   "cell_type": "markdown",
   "id": "c8b84680",
   "metadata": {
    "slideshow": {
     "slide_type": "-"
    }
   },
   "source": [
    "## What are the methods for an object of type `str`"
   ]
  },
  {
   "cell_type": "code",
   "execution_count": null,
   "id": "5fbff328",
   "metadata": {
    "slideshow": {
     "slide_type": "-"
    }
   },
   "outputs": [],
   "source": [
    "print(dir(str))"
   ]
  },
  {
   "cell_type": "code",
   "execution_count": null,
   "id": "2e5989b6",
   "metadata": {
    "slideshow": {
     "slide_type": "-"
    }
   },
   "outputs": [],
   "source": [
    "'tt'."
   ]
  },
  {
   "cell_type": "code",
   "execution_count": null,
   "id": "9f7552c8",
   "metadata": {
    "slideshow": {
     "slide_type": "-"
    }
   },
   "outputs": [],
   "source": [
    "a_string = 'this is a string'\n",
    "a_string.upper()"
   ]
  },
  {
   "cell_type": "code",
   "execution_count": null,
   "id": "f1c0baa9-f02c-4a6c-a0b2-dd5b4f10cdf7",
   "metadata": {},
   "outputs": [],
   "source": [
    "print('Hello user')"
   ]
  },
  {
   "cell_type": "code",
   "execution_count": null,
   "id": "9672a587-880b-4cfa-929c-bd7a9ddfbe34",
   "metadata": {},
   "outputs": [],
   "source": [
    "my_name = input('What is your name?')"
   ]
  },
  {
   "cell_type": "code",
   "execution_count": null,
   "id": "61e1ee72-3a35-42b9-b8f4-ff2d082586b1",
   "metadata": {},
   "outputs": [],
   "source": [
    "print(my_name)"
   ]
  },
  {
   "cell_type": "code",
   "execution_count": null,
   "id": "f02f07bd-02a6-4da2-8fdc-326276fd62d3",
   "metadata": {},
   "outputs": [],
   "source": [
    "print('Hello ' + my_name + ' nice to meat you')"
   ]
  },
  {
   "cell_type": "code",
   "execution_count": null,
   "id": "d1325feb-7a9b-4c96-93d4-3d79eed912d2",
   "metadata": {},
   "outputs": [],
   "source": [
    "a_number = input('Write a number')"
   ]
  },
  {
   "cell_type": "code",
   "execution_count": null,
   "id": "5f8e47cf-9bdb-4799-bf0c-57f1af8dff9e",
   "metadata": {},
   "outputs": [],
   "source": [
    "type(a_number)"
   ]
  },
  {
   "cell_type": "code",
   "execution_count": null,
   "id": "946beb79-3fbc-44da-ab1f-0cddcdd5c3cb",
   "metadata": {},
   "outputs": [],
   "source": [
    "a_number = int(a_number)"
   ]
  },
  {
   "cell_type": "code",
   "execution_count": null,
   "id": "3a03ad41-4f41-4f63-b70b-aa7d5b1792dc",
   "metadata": {},
   "outputs": [],
   "source": [
    "type(a_number)"
   ]
  },
  {
   "cell_type": "code",
   "execution_count": null,
   "id": "744e7222-0124-4d1f-a3ab-5814612adefb",
   "metadata": {},
   "outputs": [],
   "source": [
    "int(3.99)"
   ]
  },
  {
   "cell_type": "code",
   "execution_count": null,
   "id": "7e29ac33-f58a-4f25-8a45-d91b3a77a04f",
   "metadata": {},
   "outputs": [],
   "source": [
    "a_string = str(1000)"
   ]
  },
  {
   "cell_type": "code",
   "execution_count": null,
   "id": "9b5960bb-b7c0-4e26-a7bd-ab7c1d337fcb",
   "metadata": {},
   "outputs": [],
   "source": [
    "int(a_string + '2000')"
   ]
  },
  {
   "cell_type": "code",
   "execution_count": null,
   "id": "2ff1c64b-789d-45ce-bca4-52d9a1b56af9",
   "metadata": {},
   "outputs": [],
   "source": []
  },
  {
   "cell_type": "code",
   "execution_count": null,
   "id": "fb7a6bef-baa6-46f5-979d-c4861eade5a8",
   "metadata": {},
   "outputs": [],
   "source": []
  },
  {
   "cell_type": "markdown",
   "id": "a22b49a1",
   "metadata": {
    "slideshow": {
     "slide_type": "-"
    }
   },
   "source": [
    "## Tab Completion\n",
    "\n",
    "- Many text editors as well as the Jupyter Notebook can automatically fill in partially typed code"
   ]
  },
  {
   "cell_type": "code",
   "execution_count": null,
   "id": "91ab8cb0",
   "metadata": {
    "slideshow": {
     "slide_type": "-"
    }
   },
   "outputs": [],
   "source": [
    "test = 'this is a string, try using tab completion'"
   ]
  },
  {
   "cell_type": "code",
   "execution_count": null,
   "id": "c9530ca3-6151-4b45-8dbf-9e4d4420975f",
   "metadata": {},
   "outputs": [],
   "source": [
    "test."
   ]
  },
  {
   "cell_type": "code",
   "execution_count": null,
   "id": "80ec7759",
   "metadata": {
    "slideshow": {
     "slide_type": "-"
    }
   },
   "outputs": [],
   "source": [
    "a_string = 'Apple'\n",
    "a_number = 42.0"
   ]
  },
  {
   "cell_type": "code",
   "execution_count": null,
   "id": "e1287ceb",
   "metadata": {},
   "outputs": [],
   "source": [
    "a_number.is_integer()"
   ]
  },
  {
   "cell_type": "code",
   "execution_count": null,
   "id": "61bec550-0c66-4a3b-870d-f0c1e4cc1408",
   "metadata": {},
   "outputs": [],
   "source": [
    "a_name = input()"
   ]
  },
  {
   "cell_type": "code",
   "execution_count": null,
   "id": "a16d9d96-f5aa-41c5-af78-84bc1c20f564",
   "metadata": {},
   "outputs": [],
   "source": [
    "len(a_name)"
   ]
  },
  {
   "cell_type": "code",
   "execution_count": null,
   "id": "4fc19fdc-e872-4859-b65b-564fd9f6147b",
   "metadata": {},
   "outputs": [],
   "source": []
  },
  {
   "cell_type": "markdown",
   "id": "4d931b32",
   "metadata": {
    "slideshow": {
     "slide_type": "-"
    }
   },
   "source": [
    "# 3. Lists\n",
    "\n",
    "Lists are versatile, ordered collections that can hold a mixture of data types, making them invaluable for organizing and managing data. Represented by items enclosed in square brackets (e.g., `[1, 'apple', 3.14]`), lists are mutable, meaning their contents can be modified after creation. You can append items using the `.append()` method, remove them with the `.remove()` method, or access specific items by their index, with indexing starting from zero. For instance, in the list `fruits = ['apple', 'banana', 'cherry']`, `fruits[0]` would retrieve 'apple'. Understanding lists is foundational as they are often employed in loops, functions, and other core programming constructs, serving as dynamic storage structures that adapt to varying data needs."
   ]
  },
  {
   "cell_type": "markdown",
   "id": "6cefbf29",
   "metadata": {
    "slideshow": {
     "slide_type": "-"
    }
   },
   "source": [
    "## The built-in lists-type\n",
    "\n",
    "- One of the most versatile data types that allow us to work with multiple elements at once.\n",
    "- A list can be created by using square brackets: `a_new_list = []`\n",
    "- A list is mutable meaning you can modify a list after it is created"
   ]
  },
  {
   "cell_type": "code",
   "execution_count": null,
   "id": "6a207495",
   "metadata": {
    "slideshow": {
     "slide_type": "-"
    }
   },
   "outputs": [],
   "source": [
    "# A list can consist of different types of elements\n",
    "example_list = ['this_is_a_string', 45, 3.121212, ['a', 'b']]"
   ]
  },
  {
   "cell_type": "code",
   "execution_count": null,
   "id": "129d1580-f3ea-4293-ace8-b047d0d05ac2",
   "metadata": {},
   "outputs": [],
   "source": [
    "example_list"
   ]
  },
  {
   "cell_type": "code",
   "execution_count": null,
   "id": "55ac20c2",
   "metadata": {
    "slideshow": {
     "slide_type": "-"
    }
   },
   "outputs": [],
   "source": [
    "# Can also use the list built in method (requires an iterable as input)\n",
    "list('abc')"
   ]
  },
  {
   "cell_type": "markdown",
   "id": "450084b0",
   "metadata": {
    "slideshow": {
     "slide_type": "-"
    }
   },
   "source": [
    "## Accessing, assigning and changing elements in a list\n",
    "\n",
    "- We can access the elements of the list by passing an integer to the list:"
   ]
  },
  {
   "cell_type": "code",
   "execution_count": null,
   "id": "6feac63a",
   "metadata": {
    "slideshow": {
     "slide_type": "-"
    }
   },
   "outputs": [],
   "source": [
    "example_list[0]  # This is how we access the first element. Python counts from zero."
   ]
  },
  {
   "cell_type": "code",
   "execution_count": null,
   "id": "ebe32dfb",
   "metadata": {
    "slideshow": {
     "slide_type": "-"
    }
   },
   "outputs": [],
   "source": [
    "example_list[3][0]  # This is how we access the fourth element "
   ]
  },
  {
   "cell_type": "markdown",
   "id": "567c324d",
   "metadata": {
    "slideshow": {
     "slide_type": "-"
    }
   },
   "source": [
    "- We can also assign values to elements of the list"
   ]
  },
  {
   "cell_type": "code",
   "execution_count": null,
   "id": "03719ac2",
   "metadata": {
    "slideshow": {
     "slide_type": "-"
    }
   },
   "outputs": [],
   "source": [
    "example_list[0] = 4 \n",
    "example_list"
   ]
  },
  {
   "cell_type": "markdown",
   "id": "d38d6248",
   "metadata": {
    "slideshow": {
     "slide_type": "-"
    }
   },
   "source": [
    "## The length of a list"
   ]
  },
  {
   "cell_type": "code",
   "execution_count": null,
   "id": "4a1c5759",
   "metadata": {
    "slideshow": {
     "slide_type": "-"
    }
   },
   "outputs": [],
   "source": [
    "len(example_list)"
   ]
  },
  {
   "cell_type": "code",
   "execution_count": null,
   "id": "82f591ff",
   "metadata": {
    "slideshow": {
     "slide_type": "-"
    }
   },
   "outputs": [],
   "source": [
    "example_list[-2]"
   ]
  },
  {
   "cell_type": "markdown",
   "id": "9295b6bd",
   "metadata": {
    "slideshow": {
     "slide_type": "-"
    }
   },
   "source": [
    "## Sorting lists"
   ]
  },
  {
   "cell_type": "code",
   "execution_count": null,
   "id": "dde883e4",
   "metadata": {
    "slideshow": {
     "slide_type": "-"
    }
   },
   "outputs": [],
   "source": [
    "# Sorting numbers\n",
    "a_list = [4, 6.9, 7, 1.5, 9]\n",
    "a_list.sort() # Sorting in place\n",
    "print(a_list)"
   ]
  },
  {
   "cell_type": "code",
   "execution_count": null,
   "id": "7ddbff90",
   "metadata": {
    "slideshow": {
     "slide_type": "-"
    }
   },
   "outputs": [],
   "source": [
    "# Sorting strings\n",
    "b_list = ['this', 'is', 'a', 'list', 'of', 'words']\n",
    "b_list.sort(key=len) \n",
    "print(b_list)"
   ]
  },
  {
   "cell_type": "code",
   "execution_count": null,
   "id": "1115a3b3-375f-49c6-aca9-5b821b56ae36",
   "metadata": {},
   "outputs": [],
   "source": [
    "b_list.sort?"
   ]
  },
  {
   "cell_type": "markdown",
   "id": "8ecbe689",
   "metadata": {
    "slideshow": {
     "slide_type": "-"
    }
   },
   "source": [
    "## List indexing and slicing\n",
    "\n",
    "- We access the `i`´th element in the list as `list_name[i]` \n",
    "- We can also access parts of the list by selecting a `start` and `stop` index as `list_name[start:stop]`\n",
    "- Note that here the `stop` index is not included when slicing"
   ]
  },
  {
   "cell_type": "code",
   "execution_count": null,
   "id": "8abd6e39-76e2-4012-8bd1-b6fc6b06a196",
   "metadata": {},
   "outputs": [],
   "source": []
  },
  {
   "cell_type": "code",
   "execution_count": null,
   "id": "b1316022",
   "metadata": {
    "slideshow": {
     "slide_type": "-"
    }
   },
   "outputs": [],
   "source": [
    "my_list = [0, 1, 2, 3, 4]\n",
    "my_list[0:5]"
   ]
  },
  {
   "cell_type": "markdown",
   "id": "02eb41c6",
   "metadata": {
    "slideshow": {
     "slide_type": "-"
    }
   },
   "source": [
    "## List indexing and slicing, cont.\n",
    "\n",
    "- How can we include the last element? "
   ]
  },
  {
   "cell_type": "code",
   "execution_count": null,
   "id": "5d34a138",
   "metadata": {
    "slideshow": {
     "slide_type": "-"
    }
   },
   "outputs": [],
   "source": [
    "my_list[:]  # If we drop the stop index we include the last element"
   ]
  },
  {
   "cell_type": "markdown",
   "id": "5ff037b3",
   "metadata": {
    "slideshow": {
     "slide_type": "-"
    }
   },
   "source": [
    "- If we don't know the length of the list we can access the last element by counting from the back"
   ]
  },
  {
   "cell_type": "code",
   "execution_count": null,
   "id": "4e9ed8b2",
   "metadata": {
    "slideshow": {
     "slide_type": "-"
    }
   },
   "outputs": [],
   "source": [
    "my_list = [0, 1, 2, 3, 4]\n",
    "my_list[-1]              # This notation is giving us the last element of the list"
   ]
  },
  {
   "cell_type": "code",
   "execution_count": null,
   "id": "2d4e64a2",
   "metadata": {},
   "outputs": [],
   "source": [
    "# We can als0 access the first element like this:\n",
    "print(my_list[-5])"
   ]
  },
  {
   "cell_type": "markdown",
   "id": "90172204",
   "metadata": {
    "slideshow": {
     "slide_type": "-"
    }
   },
   "source": [
    "# List indexing and slicing, cont.\n",
    "\n",
    "We can also set a step value so we jump through the list by this step\n",
    "\n",
    "`a[start:stop:step]` - start through not past stop, by step"
   ]
  },
  {
   "cell_type": "code",
   "execution_count": null,
   "id": "c0c0f6db",
   "metadata": {
    "slideshow": {
     "slide_type": "-"
    }
   },
   "outputs": [],
   "source": [
    "a_new_list = list('This is a string that will be converted to a list!')\n",
    "print(a_new_list)"
   ]
  },
  {
   "cell_type": "code",
   "execution_count": null,
   "id": "ba2110f6",
   "metadata": {
    "slideshow": {
     "slide_type": "-"
    }
   },
   "outputs": [],
   "source": [
    "# 1 means we start at the second element of the string\n",
    "# 30 means we stop at the 30th element of the string\n",
    "# 5 means we take every 5th element of the string\n",
    "a_new_list[1:30:5]"
   ]
  },
  {
   "cell_type": "markdown",
   "id": "5e240f0b",
   "metadata": {
    "slideshow": {
     "slide_type": "-"
    }
   },
   "source": [
    "## Methods for Lists\n",
    "\n",
    "If `a` is a list, there exists methods that can be performed on `a`. Some examples:"
   ]
  },
  {
   "cell_type": "markdown",
   "id": "8bcceaf5",
   "metadata": {
    "slideshow": {
     "slide_type": "-"
    }
   },
   "source": [
    "| Method | Description |\n",
    "| ----------- | ----------- |\n",
    "| `a.append(arg)` | Append object to the end of the list  |\n",
    "| `a.remove(arg)` | Remove first occurrence of value      |\n",
    "| `a.count(arg)`  | Return number of occurrences of value |\n",
    "| `a.clear()`     | Remove all items from list            |"
   ]
  },
  {
   "cell_type": "markdown",
   "id": "5cf1c3d6",
   "metadata": {
    "slideshow": {
     "slide_type": "-"
    }
   },
   "source": [
    "## Using the `list` methods"
   ]
  },
  {
   "cell_type": "code",
   "execution_count": null,
   "id": "c5712f39",
   "metadata": {
    "slideshow": {
     "slide_type": "-"
    }
   },
   "outputs": [],
   "source": [
    "city_list = ['Oslo'] # Create a list with one element"
   ]
  },
  {
   "cell_type": "code",
   "execution_count": null,
   "id": "d31158f3-7ea2-4fcb-81fd-12c9dde560a3",
   "metadata": {},
   "outputs": [],
   "source": [
    "city_list"
   ]
  },
  {
   "cell_type": "code",
   "execution_count": null,
   "id": "5e74ffba",
   "metadata": {
    "slideshow": {
     "slide_type": "-"
    }
   },
   "outputs": [],
   "source": [
    "city_list.append('Bergen') # Add an element to the list "
   ]
  },
  {
   "cell_type": "code",
   "execution_count": null,
   "id": "08bf2b26",
   "metadata": {
    "slideshow": {
     "slide_type": "-"
    }
   },
   "outputs": [],
   "source": [
    "print(city_list) # Print the list"
   ]
  },
  {
   "cell_type": "code",
   "execution_count": null,
   "id": "9779ff29",
   "metadata": {
    "slideshow": {
     "slide_type": "-"
    }
   },
   "outputs": [],
   "source": [
    "city_list.remove('Oslo') # Remove an element from list"
   ]
  },
  {
   "cell_type": "code",
   "execution_count": null,
   "id": "6e04afe2",
   "metadata": {
    "slideshow": {
     "slide_type": "-"
    }
   },
   "outputs": [],
   "source": [
    "print(city_list)"
   ]
  },
  {
   "cell_type": "code",
   "execution_count": null,
   "id": "1aa3ca0e",
   "metadata": {
    "slideshow": {
     "slide_type": "-"
    }
   },
   "outputs": [],
   "source": [
    "print(city_list.count('Bergen')) # Count a specific element ('Bergen') in the list"
   ]
  },
  {
   "cell_type": "markdown",
   "id": "eae5db36",
   "metadata": {
    "slideshow": {
     "slide_type": "-"
    }
   },
   "source": [
    "## Assigning lists with `=` does not make a copy\n",
    "- The variable name is only pointing to the actual list object"
   ]
  },
  {
   "cell_type": "code",
   "execution_count": null,
   "id": "46853b11",
   "metadata": {
    "slideshow": {
     "slide_type": "-"
    }
   },
   "outputs": [],
   "source": [
    "first_list = ['a', 'b', 'c'] # Create a list"
   ]
  },
  {
   "cell_type": "code",
   "execution_count": null,
   "id": "9d2774bf",
   "metadata": {
    "slideshow": {
     "slide_type": "-"
    }
   },
   "outputs": [],
   "source": [
    "second_list = first_list.copy()    # Can make a copy of the first list\n",
    "# second_list = first_list         # Can uncomment this line to see the difference"
   ]
  },
  {
   "cell_type": "code",
   "execution_count": null,
   "id": "dc9f48d4",
   "metadata": {
    "slideshow": {
     "slide_type": "-"
    }
   },
   "outputs": [],
   "source": [
    "second_list.clear() # Clear the list"
   ]
  },
  {
   "cell_type": "code",
   "execution_count": null,
   "id": "8d2855a2",
   "metadata": {
    "slideshow": {
     "slide_type": "-"
    }
   },
   "outputs": [],
   "source": [
    "print(first_list) # Print the first list"
   ]
  },
  {
   "cell_type": "code",
   "execution_count": null,
   "id": "153d8402",
   "metadata": {},
   "outputs": [],
   "source": [
    "print(second_list) # Print the second list"
   ]
  },
  {
   "cell_type": "markdown",
   "id": "cd774936",
   "metadata": {
    "slideshow": {
     "slide_type": "-"
    }
   },
   "source": [
    "# 4. Tuples\n",
    "\n",
    "Tuples are akin to lists in that they are ordered collections of items; however, there are crucial differences. Enclosed in parentheses (e.g., `(1, 'apple', 3.14)`), tuples are immutable, meaning once they're created, their content cannot be altered—no additions, deletions, or modifications. This fixed nature makes tuples ideal for representing things that shouldn't change, such as days of the week or coordinates on a map. Accessing items in a tuple is just like with lists, using indexing; for example, in the tuple `colors = ('red', 'green', 'blue')`, `colors[1]` would yield 'green'."
   ]
  },
  {
   "cell_type": "markdown",
   "id": "79dbb5ee",
   "metadata": {
    "slideshow": {
     "slide_type": "-"
    }
   },
   "source": [
    "## The built-in tuple-type\n",
    "\n",
    "- Tuples are similar to lists, allowing us to collect values in an ordered way\n",
    "- Tuples differ from lists in that they are unchangeable (immutable),\n",
    "    * We cannot change, add or remove items after the tuple has been created"
   ]
  },
  {
   "cell_type": "markdown",
   "id": "596cffca",
   "metadata": {
    "slideshow": {
     "slide_type": "-"
    }
   },
   "source": [
    "## Creating tuples\n",
    "\n",
    "- Tuples can be created by using round brackets"
   ]
  },
  {
   "cell_type": "code",
   "execution_count": null,
   "id": "8c3ae21d",
   "metadata": {
    "slideshow": {
     "slide_type": "-"
    }
   },
   "outputs": [],
   "source": [
    "tuple1 = (1, 5, 'text', [1,2,3])   # A tuple created with round brackets"
   ]
  },
  {
   "cell_type": "markdown",
   "id": "2f094c7b",
   "metadata": {
    "slideshow": {
     "slide_type": "-"
    }
   },
   "source": [
    "- Can skip the round brackets, but the code might be harder to read"
   ]
  },
  {
   "cell_type": "code",
   "execution_count": null,
   "id": "0c379810",
   "metadata": {
    "slideshow": {
     "slide_type": "-"
    }
   },
   "outputs": [],
   "source": [
    "tuple2 = 3, 5, 5, 9, 11, 45, 67    # A tuple created without round  brackets"
   ]
  },
  {
   "cell_type": "code",
   "execution_count": null,
   "id": "8a3bfbf6",
   "metadata": {
    "slideshow": {
     "slide_type": "-"
    }
   },
   "outputs": [],
   "source": [
    "# We can access the elements in the tuples as be do with lists\n",
    "print(tuple1[3])     # We can select elements\n",
    "print(tuple2[5:])    # We can make a slice of the tuple  "
   ]
  },
  {
   "cell_type": "markdown",
   "id": "aca027be",
   "metadata": {
    "slideshow": {
     "slide_type": "-"
    }
   },
   "source": [
    "## What happens if we try to assign a value to an existing `tuple`?"
   ]
  },
  {
   "cell_type": "code",
   "execution_count": null,
   "id": "cd7d371b",
   "metadata": {
    "slideshow": {
     "slide_type": "-"
    }
   },
   "outputs": [],
   "source": [
    "tuple1[2] = 5  # We are not allowed to assign values to a tuple"
   ]
  },
  {
   "cell_type": "markdown",
   "id": "9a709348",
   "metadata": {
    "slideshow": {
     "slide_type": "-"
    }
   },
   "source": [
    "## Methods for  tuples \n",
    "\n",
    "- Since a `tuple` cannot be changed after it is created, there are very few built-in methods for a  `tuple`\n",
    "- If `t` is a `tuple`, these are some methods that can be performed on `t`"
   ]
  },
  {
   "cell_type": "markdown",
   "id": "7aeae5d5",
   "metadata": {
    "slideshow": {
     "slide_type": "-"
    }
   },
   "source": [
    "| Method | Description |\n",
    "| ----------- | ----------- |\n",
    "| `t.count(value)`  | Return number of occurrences of value |\n",
    "| `t.index(value)`  | Return first index of value|"
   ]
  },
  {
   "cell_type": "markdown",
   "id": "2e85500e",
   "metadata": {
    "slideshow": {
     "slide_type": "-"
    }
   },
   "source": [
    "## Example of using the tuple-methods"
   ]
  },
  {
   "cell_type": "code",
   "execution_count": null,
   "id": "2cd9c20f",
   "metadata": {
    "slideshow": {
     "slide_type": "-"
    }
   },
   "outputs": [],
   "source": [
    "tuple2 = (3, 5, 5, 9, 11, 45, 67)"
   ]
  },
  {
   "cell_type": "code",
   "execution_count": null,
   "id": "9ecd6351",
   "metadata": {
    "slideshow": {
     "slide_type": "-"
    }
   },
   "outputs": [],
   "source": [
    "tuple2.count(5) # Count the number of occurrences of the number 5 in tuple2"
   ]
  },
  {
   "cell_type": "code",
   "execution_count": null,
   "id": "0aefe32d",
   "metadata": {
    "slideshow": {
     "slide_type": "-"
    }
   },
   "outputs": [],
   "source": [
    "tuple2.index(5) # What is the location of the number 45 in tuple2"
   ]
  },
  {
   "cell_type": "markdown",
   "id": "8b8d7c01",
   "metadata": {
    "slideshow": {
     "slide_type": "-"
    }
   },
   "source": [
    "## Unpacking tuples"
   ]
  },
  {
   "cell_type": "code",
   "execution_count": null,
   "id": "5fd3b41c",
   "metadata": {
    "slideshow": {
     "slide_type": "-"
    }
   },
   "outputs": [],
   "source": [
    "# Store some data about some cities using tuples \n",
    "oslo = ('Norway', 630_000, True)\n",
    "bergen = ('Norway', 270_000, False)\n",
    "new_york = ('US', 8_380_000, False)"
   ]
  },
  {
   "cell_type": "code",
   "execution_count": null,
   "id": "ccf6eb2b-944e-4ff8-a17a-e25fc9b54e08",
   "metadata": {},
   "outputs": [],
   "source": [
    "oslo"
   ]
  },
  {
   "cell_type": "code",
   "execution_count": null,
   "id": "4da2cf6f",
   "metadata": {
    "slideshow": {
     "slide_type": "-"
    }
   },
   "outputs": [],
   "source": [
    "country_oslo, population_oslo, is_capital_oslo = oslo"
   ]
  },
  {
   "cell_type": "code",
   "execution_count": null,
   "id": "734d2dc5",
   "metadata": {
    "slideshow": {
     "slide_type": "-"
    }
   },
   "outputs": [],
   "source": [
    "print(population_oslo)"
   ]
  },
  {
   "cell_type": "code",
   "execution_count": null,
   "id": "4fc36bfc",
   "metadata": {
    "slideshow": {
     "slide_type": "-"
    }
   },
   "outputs": [],
   "source": [
    "country_bergen, population_bergen, is_capital_bergen = bergen\n",
    "country_new_york, population_new_york, is_capital_new_york = new_york"
   ]
  },
  {
   "cell_type": "code",
   "execution_count": null,
   "id": "8ea3d241",
   "metadata": {
    "slideshow": {
     "slide_type": "-"
    }
   },
   "outputs": [],
   "source": [
    "print(population_new_york)"
   ]
  },
  {
   "cell_type": "markdown",
   "id": "11a39fce",
   "metadata": {
    "slideshow": {
     "slide_type": "-"
    }
   },
   "source": [
    "# Unpacking many elements"
   ]
  },
  {
   "cell_type": "code",
   "execution_count": null,
   "id": "df73758c",
   "metadata": {
    "slideshow": {
     "slide_type": "-"
    }
   },
   "outputs": [],
   "source": [
    "oslo = ('Norway', 630_000, True, 'O', 's', 'l', 'o')"
   ]
  },
  {
   "cell_type": "code",
   "execution_count": null,
   "id": "68634efe",
   "metadata": {},
   "outputs": [],
   "source": [
    "6.3e5 == 630_000"
   ]
  },
  {
   "cell_type": "code",
   "execution_count": null,
   "id": "1ad87715",
   "metadata": {
    "slideshow": {
     "slide_type": "-"
    }
   },
   "outputs": [],
   "source": [
    "country_oslo, population_oslo, is_capital_oslo, *other = oslo"
   ]
  },
  {
   "cell_type": "code",
   "execution_count": null,
   "id": "98f1b9ef",
   "metadata": {
    "slideshow": {
     "slide_type": "-"
    }
   },
   "outputs": [],
   "source": [
    "other"
   ]
  },
  {
   "cell_type": "code",
   "execution_count": null,
   "id": "a55640e2",
   "metadata": {
    "slideshow": {
     "slide_type": "-"
    }
   },
   "outputs": [],
   "source": [
    "country, *the_middle, last_letter = oslo"
   ]
  },
  {
   "cell_type": "code",
   "execution_count": null,
   "id": "648e9fec",
   "metadata": {
    "slideshow": {
     "slide_type": "-"
    }
   },
   "outputs": [],
   "source": [
    "the_middle"
   ]
  },
  {
   "cell_type": "code",
   "execution_count": null,
   "id": "965739a2",
   "metadata": {
    "slideshow": {
     "slide_type": "-"
    }
   },
   "outputs": [],
   "source": [
    "last_letter"
   ]
  },
  {
   "cell_type": "markdown",
   "id": "9ac4c6b3",
   "metadata": {
    "slideshow": {
     "slide_type": "-"
    }
   },
   "source": [
    "# 5. Strings\n",
    "\n",
    "Strings represent sequences of characters and are vital for handling text-based data. Encased within single (`'...'`), double (`\"...\"`), or even triple (`'''...'''` or `\"\"\"...\"\"\"` for multi-line strings) quotes, they are more than simple text labels. Strings possess a wealth of built-in methods, like `.upper()` to capitalize characters or `.replace()` to substitute portions of the text. Just like lists and tuples, strings are ordered, allowing access to individual characters using indices: in the string `word = \"python\"`, `word[0]` refers to the character 'p'. However, unlike lists, strings are immutable, meaning their content cannot be directly altered once created. Grasping strings is essential, as text processing is a cornerstone in many programming endeavors, from user input to data analysis."
   ]
  },
  {
   "cell_type": "markdown",
   "id": "7fa34556",
   "metadata": {
    "slideshow": {
     "slide_type": "-"
    }
   },
   "source": [
    "## Defining strings\n",
    "\n",
    "* Strings can be created by using either single or double quotes"
   ]
  },
  {
   "cell_type": "code",
   "execution_count": 1,
   "id": "05390d29",
   "metadata": {
    "slideshow": {
     "slide_type": "-"
    }
   },
   "outputs": [],
   "source": [
    "text1 = 'This is a string'\n",
    "text2 = \"This is another string\"\n",
    "text3 = \"A 'string' with a quote\"\n",
    "text4 = 'Another \"string\" with a quote'"
   ]
  },
  {
   "cell_type": "code",
   "execution_count": 2,
   "id": "9e64cb7c",
   "metadata": {
    "slideshow": {
     "slide_type": "-"
    }
   },
   "outputs": [
    {
     "name": "stdout",
     "output_type": "stream",
     "text": [
      "A 'string' with a quote\n"
     ]
    }
   ],
   "source": [
    "print(text3)"
   ]
  },
  {
   "cell_type": "code",
   "execution_count": 3,
   "id": "598f9e46",
   "metadata": {
    "slideshow": {
     "slide_type": "-"
    }
   },
   "outputs": [
    {
     "name": "stdout",
     "output_type": "stream",
     "text": [
      "Another \"string\" with a quote\n"
     ]
    }
   ],
   "source": [
    "print(text4)"
   ]
  },
  {
   "cell_type": "markdown",
   "id": "538fd69e",
   "metadata": {
    "slideshow": {
     "slide_type": "-"
    }
   },
   "source": [
    "## Methods for  Strings\n",
    "\n",
    "If `s` is a string, these are some methods that can be performed on `s`:"
   ]
  },
  {
   "cell_type": "markdown",
   "id": "9adf4621",
   "metadata": {
    "slideshow": {
     "slide_type": "-"
    }
   },
   "source": [
    "| Method | Description |\n",
    "| ----------- | ----------- |\n",
    "| `s.lower()`               | Returns the lowercase version of `s` |\n",
    "| `s.upper()`               | Returns the uppercase version of `s` |\n",
    "| `s.capitalize()`          | Return a capitalized version of `s`  |\n",
    "| `s.replace('old', 'new')` | Return a copy with all occurrences of the sub-string old replaced by new |\n",
    "| `s.split()`               | Return a list of the words in the string |"
   ]
  },
  {
   "cell_type": "markdown",
   "id": "14c375d8",
   "metadata": {
    "slideshow": {
     "slide_type": "-"
    }
   },
   "source": [
    "## Using the `string` methods"
   ]
  },
  {
   "cell_type": "code",
   "execution_count": 4,
   "id": "8614c744",
   "metadata": {},
   "outputs": [],
   "source": [
    "test_string = 'this Is a STRING.'"
   ]
  },
  {
   "cell_type": "code",
   "execution_count": 5,
   "id": "05304536",
   "metadata": {
    "slideshow": {
     "slide_type": "-"
    }
   },
   "outputs": [
    {
     "data": {
      "text/plain": [
       "'this is a string.'"
      ]
     },
     "execution_count": 5,
     "metadata": {},
     "output_type": "execute_result"
    }
   ],
   "source": [
    "test_string.lower()  # Turn all the letters in the string into lowercase "
   ]
  },
  {
   "cell_type": "code",
   "execution_count": 6,
   "id": "80d63091-b65c-4a74-8c6f-eb03be96bbc0",
   "metadata": {},
   "outputs": [
    {
     "data": {
      "text/plain": [
       "'this Is a STRING.'"
      ]
     },
     "execution_count": 6,
     "metadata": {},
     "output_type": "execute_result"
    }
   ],
   "source": [
    "test_string"
   ]
  },
  {
   "cell_type": "code",
   "execution_count": 7,
   "id": "0b7f6d24",
   "metadata": {
    "slideshow": {
     "slide_type": "-"
    }
   },
   "outputs": [
    {
     "data": {
      "text/plain": [
       "'This is a string.'"
      ]
     },
     "execution_count": 7,
     "metadata": {},
     "output_type": "execute_result"
    }
   ],
   "source": [
    "test_string.capitalize() # Capitalizes the first letter and turn the rest into lowercase"
   ]
  },
  {
   "cell_type": "code",
   "execution_count": 8,
   "id": "7af18e2c",
   "metadata": {
    "slideshow": {
     "slide_type": "-"
    }
   },
   "outputs": [
    {
     "data": {
      "text/plain": [
       "'this Is a STRING.'"
      ]
     },
     "execution_count": 8,
     "metadata": {},
     "output_type": "execute_result"
    }
   ],
   "source": [
    "test_string"
   ]
  },
  {
   "cell_type": "code",
   "execution_count": 11,
   "id": "1138fd02",
   "metadata": {
    "slideshow": {
     "slide_type": "-"
    }
   },
   "outputs": [
    {
     "data": {
      "text/plain": [
       "'this Is a text.'"
      ]
     },
     "execution_count": 11,
     "metadata": {},
     "output_type": "execute_result"
    }
   ],
   "source": [
    "test_string.replace('STRING', 'text') # Replace the 'STRING' with 'text'"
   ]
  },
  {
   "cell_type": "code",
   "execution_count": 12,
   "id": "9e318a1a",
   "metadata": {
    "slideshow": {
     "slide_type": "-"
    }
   },
   "outputs": [
    {
     "data": {
      "text/plain": [
       "['this', 'Is', 'a', 'STRING.']"
      ]
     },
     "execution_count": 12,
     "metadata": {},
     "output_type": "execute_result"
    }
   ],
   "source": [
    "test_string.split() # Turn the string into a list"
   ]
  },
  {
   "cell_type": "markdown",
   "id": "c7932e71",
   "metadata": {
    "slideshow": {
     "slide_type": "-"
    }
   },
   "source": [
    "## Special characters in strings"
   ]
  },
  {
   "cell_type": "markdown",
   "id": "a5ce382e",
   "metadata": {
    "slideshow": {
     "slide_type": "-"
    }
   },
   "source": [
    "- \\n - Newline\n",
    "\n",
    "- \\t - Horizontal tab\n",
    "\n",
    "- \\\\' - Single Quote\n",
    "\n",
    "- \\\\\" - double quote\n",
    "\n",
    "- \\\\\\ - Backslash\n",
    "\n",
    "- \\v - vertical tab\n"
   ]
  },
  {
   "cell_type": "code",
   "execution_count": 23,
   "id": "16479afe",
   "metadata": {
    "slideshow": {
     "slide_type": "-"
    }
   },
   "outputs": [
    {
     "name": "stdout",
     "output_type": "stream",
     "text": [
      "What's your name?\n"
     ]
    }
   ],
   "source": [
    "print('What\\'s your name?') "
   ]
  },
  {
   "cell_type": "code",
   "execution_count": 14,
   "id": "2f8bfefb",
   "metadata": {
    "slideshow": {
     "slide_type": "-"
    }
   },
   "outputs": [
    {
     "name": "stdout",
     "output_type": "stream",
     "text": [
      "What's your name?\n"
     ]
    }
   ],
   "source": [
    "# Alternatively\n",
    "print(\"What's your name?\") "
   ]
  },
  {
   "cell_type": "code",
   "execution_count": 15,
   "id": "4a5a8548",
   "metadata": {
    "slideshow": {
     "slide_type": "-"
    }
   },
   "outputs": [
    {
     "name": "stdout",
     "output_type": "stream",
     "text": [
      "1\t2\t3\n",
      "4\t5\t6\n",
      "7\t8\t9\n"
     ]
    }
   ],
   "source": [
    "print('1\\t2\\t3\\n4\\t5\\t6\\n7\\t8\\t9')"
   ]
  },
  {
   "cell_type": "markdown",
   "id": "05f6c484",
   "metadata": {
    "slideshow": {
     "slide_type": "-"
    }
   },
   "source": [
    "## f-strings\n",
    "\n",
    "- f-strings are strings that have an f at the beginning and curly braces containing any valid Python expressions that will be replaced with their values."
   ]
  },
  {
   "cell_type": "code",
   "execution_count": 16,
   "id": "9645833b",
   "metadata": {
    "slideshow": {
     "slide_type": "-"
    }
   },
   "outputs": [],
   "source": [
    "salary = 30000 # Current salary\n",
    "increase = 0.04 # Increase for next year is 4%"
   ]
  },
  {
   "cell_type": "code",
   "execution_count": 17,
   "id": "e32dd716",
   "metadata": {
    "slideshow": {
     "slide_type": "-"
    }
   },
   "outputs": [
    {
     "name": "stdout",
     "output_type": "stream",
     "text": [
      "The salary will increase by 4.0% to 31200.0 next year.\n"
     ]
    }
   ],
   "source": [
    "# Printing next years salary adding regular strings together \n",
    "print('The salary will increase by 4.0% to ' + str(salary*(1+increase)) + ' next year.')"
   ]
  },
  {
   "cell_type": "code",
   "execution_count": 22,
   "id": "6711536b",
   "metadata": {
    "slideshow": {
     "slide_type": "-"
    }
   },
   "outputs": [
    {
     "name": "stdout",
     "output_type": "stream",
     "text": [
      "The salary will increase by 4.0% to 31200.0 next year.\n"
     ]
    }
   ],
   "source": [
    "# Using the f-string\n",
    "print(f'The salary will increase by {increase:.1%} to {salary*(1+increase)} next year.')"
   ]
  },
  {
   "cell_type": "markdown",
   "id": "f4b1b8ea",
   "metadata": {
    "slideshow": {
     "slide_type": "-"
    }
   },
   "source": [
    "# 6. Dictionaries \n",
    "\n",
    "Dictionaries are powerful data structures that store pairs of keys and values, facilitating quick data retrieval based on a unique key. Unlike lists and tuples, which are ordered by index, dictionaries use curly braces `{...}` and are inherently unordered. For instance, in the dictionary `student = {'name': 'John', 'age': 18, 'grade': 'A'}`, 'name', 'age', and 'grade' are keys, each associated with specific values. To access the value for 'name', one would use `student['name']`, obtaining the result 'John'. Since dictionaries are mutable, their content can be modified post-creation, enabling dynamic data storage."
   ]
  },
  {
   "cell_type": "markdown",
   "id": "5ca46ad2",
   "metadata": {
    "slideshow": {
     "slide_type": "-"
    }
   },
   "source": [
    "## Using dictionaries\n",
    "\n",
    "- Unlike lists, tuples and strings, which are indexed by a range of numbers, dictionaries are indexed by keys\n",
    "- A key can be any immutable type\n",
    "- A dictionary is as a set of key: value pairs, with the requirement that the keys within one dictionary are unique\n",
    "- Dictionaries can be created by inserting a comma-separated list of key:value pairs inside curly brackets `{}` \n",
    "- Fast way of getting the value when you know the key"
   ]
  },
  {
   "cell_type": "markdown",
   "id": "a8232d67",
   "metadata": {
    "slideshow": {
     "slide_type": "-"
    }
   },
   "source": [
    "## Creating a dictionary"
   ]
  },
  {
   "cell_type": "code",
   "execution_count": 41,
   "id": "471b9e8c",
   "metadata": {
    "slideshow": {
     "slide_type": "-"
    }
   },
   "outputs": [],
   "source": [
    "oslo = {'country': 'Norway', 'population': 630_000, 'is_capital': True}"
   ]
  },
  {
   "cell_type": "code",
   "execution_count": 42,
   "id": "70464fcd",
   "metadata": {
    "slideshow": {
     "slide_type": "-"
    }
   },
   "outputs": [
    {
     "name": "stdout",
     "output_type": "stream",
     "text": [
      "{'country': 'Norway', 'population': 630000, 'is_capital': True}\n"
     ]
    }
   ],
   "source": [
    "print(oslo)"
   ]
  },
  {
   "cell_type": "code",
   "execution_count": 43,
   "id": "225bb1a0",
   "metadata": {
    "slideshow": {
     "slide_type": "-"
    }
   },
   "outputs": [
    {
     "data": {
      "text/plain": [
       "630000"
      ]
     },
     "execution_count": 43,
     "metadata": {},
     "output_type": "execute_result"
    }
   ],
   "source": [
    "# Can access the elements by the key\n",
    "oslo['population']"
   ]
  },
  {
   "cell_type": "code",
   "execution_count": 44,
   "id": "84008081",
   "metadata": {
    "slideshow": {
     "slide_type": "-"
    }
   },
   "outputs": [
    {
     "data": {
      "text/plain": [
       "True"
      ]
     },
     "execution_count": 44,
     "metadata": {},
     "output_type": "execute_result"
    }
   ],
   "source": [
    "# Can check if key is in dict\n",
    "'country' in oslo"
   ]
  },
  {
   "cell_type": "markdown",
   "id": "8c6a2f57",
   "metadata": {
    "slideshow": {
     "slide_type": "-"
    }
   },
   "source": [
    "## Methods for Dictionaries\n",
    "\n",
    "If `d` is a dictionary, these are some methods that can be performed on `d`:\n",
    "\n",
    "- `d.keys()`\n",
    "- `d.values()`\n",
    "- `d.clear()`"
   ]
  },
  {
   "cell_type": "markdown",
   "id": "bb353c30",
   "metadata": {
    "slideshow": {
     "slide_type": "-"
    }
   },
   "source": [
    "## Using the dictionary methods"
   ]
  },
  {
   "cell_type": "code",
   "execution_count": 34,
   "id": "cb80a5e6",
   "metadata": {
    "slideshow": {
     "slide_type": "-"
    }
   },
   "outputs": [
    {
     "data": {
      "text/plain": [
       "dict_keys(['country', 'population', 'is_capital'])"
      ]
     },
     "execution_count": 34,
     "metadata": {},
     "output_type": "execute_result"
    }
   ],
   "source": [
    "oslo.keys()"
   ]
  },
  {
   "cell_type": "code",
   "execution_count": 35,
   "id": "0170e182",
   "metadata": {
    "slideshow": {
     "slide_type": "-"
    }
   },
   "outputs": [
    {
     "data": {
      "text/plain": [
       "dict_values(['Norway', 630000, True])"
      ]
     },
     "execution_count": 35,
     "metadata": {},
     "output_type": "execute_result"
    }
   ],
   "source": [
    "oslo.values()"
   ]
  },
  {
   "cell_type": "code",
   "execution_count": 36,
   "id": "e3d9afd9",
   "metadata": {
    "slideshow": {
     "slide_type": "-"
    }
   },
   "outputs": [],
   "source": [
    "oslo.clear()"
   ]
  },
  {
   "cell_type": "code",
   "execution_count": 37,
   "id": "d2f1bbea",
   "metadata": {
    "slideshow": {
     "slide_type": "-"
    }
   },
   "outputs": [
    {
     "data": {
      "text/plain": [
       "{}"
      ]
     },
     "execution_count": 37,
     "metadata": {},
     "output_type": "execute_result"
    }
   ],
   "source": [
    "oslo"
   ]
  },
  {
   "cell_type": "code",
   "execution_count": 45,
   "id": "6eb9096c",
   "metadata": {},
   "outputs": [
    {
     "data": {
      "text/plain": [
       "630000"
      ]
     },
     "execution_count": 45,
     "metadata": {},
     "output_type": "execute_result"
    }
   ],
   "source": [
    "oslo.get('population')"
   ]
  },
  {
   "cell_type": "markdown",
   "id": "2642355e",
   "metadata": {
    "slideshow": {
     "slide_type": "-"
    }
   },
   "source": [
    "# 7. Sets\n",
    "\n",
    "Sets are unique collections that store unordered items, similar in concept to mathematical sets. Defined using curly braces `{...}`, like dictionaries, or via the built-in `set()` function, sets inherently eliminate duplicate values. For example, the set `{1, 2, 3, 3, 4}` would automatically discard the extra `3`, resulting in `{1, 2, 3, 4}`. Sets also offer powerful operations like union (`|`), intersection (`&`), and difference (`-`), mirroring classical set theory. A notable characteristic of sets is their inability to store mutable types, such as lists, but they can handle immutable types like tuples and strings. "
   ]
  },
  {
   "cell_type": "markdown",
   "id": "f9d70595",
   "metadata": {
    "slideshow": {
     "slide_type": "-"
    }
   },
   "source": [
    "## Sets\n",
    "\n",
    "- A set is an unordered collection with no duplicate elements.\n",
    "- Sets are unordered.\n",
    "- Set items are unchangeable, but you can remove items and add new items to the set."
   ]
  },
  {
   "cell_type": "markdown",
   "id": "fe7cd1db",
   "metadata": {
    "slideshow": {
     "slide_type": "-"
    }
   },
   "source": [
    "## Defining sets\n",
    "\n",
    "- A set can be created in two ways: \n",
    "    1. Can be defined with the built-in `set()` function\n",
    "    2. Can be defined with curly braces `{}`:"
   ]
  },
  {
   "cell_type": "code",
   "execution_count": 46,
   "id": "78b28b66",
   "metadata": {
    "slideshow": {
     "slide_type": "-"
    }
   },
   "outputs": [
    {
     "name": "stdout",
     "output_type": "stream",
     "text": [
      "{'apple'}\n"
     ]
    }
   ],
   "source": [
    "first_set = set(['apple'])\n",
    "print(first_set)"
   ]
  },
  {
   "cell_type": "code",
   "execution_count": 48,
   "id": "d63dee6f-dd0f-44a1-80ac-ad56e427d40f",
   "metadata": {},
   "outputs": [
    {
     "data": {
      "text/plain": [
       "list"
      ]
     },
     "execution_count": 48,
     "metadata": {},
     "output_type": "execute_result"
    }
   ],
   "source": [
    "type(['apple'])"
   ]
  },
  {
   "cell_type": "code",
   "execution_count": 49,
   "id": "ae6ba764",
   "metadata": {
    "slideshow": {
     "slide_type": "-"
    }
   },
   "outputs": [
    {
     "name": "stdout",
     "output_type": "stream",
     "text": [
      "{'apple', 'orange', 'banana'}\n"
     ]
    }
   ],
   "source": [
    "second_set = {'apple', 'orange', 'banana', 'apple', 'banana'}\n",
    "print(second_set)"
   ]
  },
  {
   "cell_type": "markdown",
   "id": "86defe6e",
   "metadata": {
    "slideshow": {
     "slide_type": "-"
    }
   },
   "source": [
    "## Set operations"
   ]
  },
  {
   "cell_type": "code",
   "execution_count": 51,
   "id": "70f0fbef",
   "metadata": {
    "slideshow": {
     "slide_type": "-"
    }
   },
   "outputs": [],
   "source": [
    "A = {1, 2, 3, 4, 5, 6}\n",
    "\n",
    "B = {5, 6, 7, 8, 9, 10}"
   ]
  },
  {
   "cell_type": "markdown",
   "id": "808beb6f",
   "metadata": {
    "slideshow": {
     "slide_type": "-"
    }
   },
   "source": [
    "### Union\n",
    "The set of all elements in the whole collection (both A and B).\n",
    "\n",
    "$A \\cup B =  \\{1, 2, 3, 4, 5, 6, 7, 8, 9, 10\\}$"
   ]
  },
  {
   "cell_type": "markdown",
   "id": "0d301dd4",
   "metadata": {
    "slideshow": {
     "slide_type": "-"
    }
   },
   "source": [
    "### Intersection \n",
    "The set containing all elements of A that also belong to B\n",
    "\n",
    "$A \\cap B = \\{5, 6\\}$"
   ]
  },
  {
   "cell_type": "code",
   "execution_count": 55,
   "id": "a7b6d09f-1f73-4fab-89dd-fbdde348bc46",
   "metadata": {},
   "outputs": [],
   "source": [
    "C = {11, 12}"
   ]
  },
  {
   "cell_type": "code",
   "execution_count": 57,
   "id": "50828287",
   "metadata": {
    "slideshow": {
     "slide_type": "-"
    }
   },
   "outputs": [
    {
     "data": {
      "text/plain": [
       "set"
      ]
     },
     "execution_count": 57,
     "metadata": {},
     "output_type": "execute_result"
    }
   ],
   "source": [
    "A.union(B)"
   ]
  },
  {
   "cell_type": "code",
   "execution_count": 58,
   "id": "a8ff4000",
   "metadata": {
    "slideshow": {
     "slide_type": "-"
    }
   },
   "outputs": [
    {
     "data": {
      "text/plain": [
       "{5, 6}"
      ]
     },
     "execution_count": 58,
     "metadata": {},
     "output_type": "execute_result"
    }
   ],
   "source": [
    "A.intersection(B)"
   ]
  },
  {
   "cell_type": "code",
   "execution_count": null,
   "id": "65048169-bd1d-4bb4-8196-31c4ea64c0e8",
   "metadata": {},
   "outputs": [],
   "source": []
  },
  {
   "cell_type": "code",
   "execution_count": 65,
   "id": "2355ca4d-140c-489c-9fdd-48584768e1c2",
   "metadata": {},
   "outputs": [],
   "source": [
    "a_list = [4, 6, 8, 'hi', {'city': ['bergen', 'oslo']}]"
   ]
  },
  {
   "cell_type": "code",
   "execution_count": 66,
   "id": "50ee507e-899c-4c6f-8360-56f6e51d2c97",
   "metadata": {},
   "outputs": [
    {
     "data": {
      "text/plain": [
       "dict_keys(['city'])"
      ]
     },
     "execution_count": 66,
     "metadata": {},
     "output_type": "execute_result"
    }
   ],
   "source": [
    "a_list[4].keys()"
   ]
  },
  {
   "cell_type": "code",
   "execution_count": 68,
   "id": "c0fbcbf2-b26a-4ee8-81e2-74ab251a3626",
   "metadata": {},
   "outputs": [
    {
     "data": {
      "text/plain": [
       "['bergen', 'oslo']"
      ]
     },
     "execution_count": 68,
     "metadata": {},
     "output_type": "execute_result"
    }
   ],
   "source": [
    "a_list[4]['city']"
   ]
  },
  {
   "cell_type": "code",
   "execution_count": null,
   "id": "fc0c29b6-ecf1-47bd-8ef9-d04025c000f0",
   "metadata": {},
   "outputs": [],
   "source": []
  },
  {
   "cell_type": "code",
   "execution_count": 69,
   "id": "ec78b9e5-aaa3-4f05-8e89-eb7fcbea3204",
   "metadata": {},
   "outputs": [],
   "source": [
    "a_tuple = (1,2,3)"
   ]
  },
  {
   "cell_type": "code",
   "execution_count": 72,
   "id": "654a8394-20f4-487d-a4ce-936bdcde3e98",
   "metadata": {},
   "outputs": [
    {
     "ename": "TypeError",
     "evalue": "'tuple' object does not support item assignment",
     "output_type": "error",
     "traceback": [
      "\u001b[0;31m---------------------------------------------------------------------------\u001b[0m",
      "\u001b[0;31mTypeError\u001b[0m                                 Traceback (most recent call last)",
      "Cell \u001b[0;32mIn[72], line 1\u001b[0m\n\u001b[0;32m----> 1\u001b[0m a_tuple[\u001b[38;5;241m1\u001b[39m] \u001b[38;5;241m=\u001b[39m \u001b[38;5;241m5\u001b[39m\n",
      "\u001b[0;31mTypeError\u001b[0m: 'tuple' object does not support item assignment"
     ]
    }
   ],
   "source": [
    "a_tuple[1] = 5"
   ]
  },
  {
   "cell_type": "code",
   "execution_count": null,
   "id": "7b9c411f-bad2-4bef-9ebe-aada4c36acf3",
   "metadata": {},
   "outputs": [],
   "source": []
  },
  {
   "cell_type": "code",
   "execution_count": 73,
   "id": "300148d3-64ff-418b-a79c-879aa1cf40e1",
   "metadata": {},
   "outputs": [],
   "source": [
    "a_dict = {'a_key': 'a_value', 5: [1,2]}"
   ]
  },
  {
   "cell_type": "code",
   "execution_count": 76,
   "id": "17a5b2b2-2480-4ebd-b444-a772f43ec89a",
   "metadata": {},
   "outputs": [
    {
     "data": {
      "text/plain": [
       "dict_values(['a_value', [1, 2]])"
      ]
     },
     "execution_count": 76,
     "metadata": {},
     "output_type": "execute_result"
    }
   ],
   "source": [
    "a_dict.values()"
   ]
  },
  {
   "cell_type": "code",
   "execution_count": null,
   "id": "d7f870e5-5e38-41f0-8d91-78522dbeb590",
   "metadata": {},
   "outputs": [],
   "source": []
  }
 ],
 "metadata": {
  "kernelspec": {
   "display_name": "Python 3 (ipykernel)",
   "language": "python",
   "name": "python3"
  },
  "language_info": {
   "codemirror_mode": {
    "name": "ipython",
    "version": 3
   },
   "file_extension": ".py",
   "mimetype": "text/x-python",
   "name": "python",
   "nbconvert_exporter": "python",
   "pygments_lexer": "ipython3",
   "version": "3.9.12"
  }
 },
 "nbformat": 4,
 "nbformat_minor": 5
}
