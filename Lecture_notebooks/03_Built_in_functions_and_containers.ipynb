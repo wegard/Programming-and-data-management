{
 "cells": [
  {
   "cell_type": "markdown",
   "id": "47080612-4719-4835-95f5-d5b96d16e527",
   "metadata": {
    "slideshow": {
     "slide_type": "slide"
    }
   },
   "source": [
    "# Built-in functions and containers\n",
    "\n",
    "## Course: Programming and Data Management (EDI 3400)\n",
    "\n",
    "### *Vegard H. Larsen (Department of Data Science and Analytics)*"
   ]
  },
  {
   "cell_type": "markdown",
   "id": "0b1f46da",
   "metadata": {
    "slideshow": {
     "slide_type": "slide"
    }
   },
   "source": [
    "- - We will also learn how to use the `help()` function to get information about functions1. Built in functions"
   ]
  },
  {
   "cell_type": "markdown",
   "id": "e779fa0b",
   "metadata": {
    "slideshow": {
     "slide_type": "slide"
    }
   },
   "source": [
    "# 1. Built in functions\n",
    "\n",
    "Built-in functions are pre-defined operations that come with the language, offering a plethora of utilities without the need for external libraries or additional code. They simplify common tasks, making programming more efficient and intuitive. For instance, `print()` displays information to the console, `len()` returns the length of an item, and `int()` or `str()` convert values between numerical and textual data types. Using these functions, a beginner can accomplish significant tasks without reinventing the wheel. Python's rich assortment of built-in functions, ranging from mathematical operations to data type manipulations, equips students with powerful tools that streamline code, enhancing readability and efficiency. "
   ]
  },
  {
   "cell_type": "markdown",
   "id": "8cd398b4-250f-44ff-8209-be2c7deaecc5",
   "metadata": {},
   "source": [
    "- A built-in function is a function that is available without importing any additional libraries.\n",
    "- Some useful built-in functions are: `print()`, `input()`, `type()`, `len()`, `round()` and `dir()`\n",
    "- In lecture 5 we will learn how we can make our own functions"
   ]
  },
  {
   "cell_type": "markdown",
   "id": "7362749f",
   "metadata": {
    "slideshow": {
     "slide_type": "slide"
    }
   },
   "source": [
    "## Examples of usage of built in functions:\n",
    "\n",
    "By now we have seen both `print()` and `type()` many times. We have also used `int()` for type conversion. \n",
    "\n",
    "Let's look at some other functions:"
   ]
  },
  {
   "cell_type": "code",
   "execution_count": 110,
   "id": "e641b6b1",
   "metadata": {
    "slideshow": {
     "slide_type": "fragment"
    }
   },
   "outputs": [],
   "source": [
    "# Getting help\n",
    "len?"
   ]
  },
  {
   "cell_type": "code",
   "execution_count": 113,
   "id": "422c5ae8",
   "metadata": {
    "slideshow": {
     "slide_type": "fragment"
    }
   },
   "outputs": [
    {
     "data": {
      "text/plain": [
       "3"
      ]
     },
     "execution_count": 113,
     "metadata": {},
     "output_type": "execute_result"
    }
   ],
   "source": [
    "# Compute the length of a list\n",
    "len({1, 2, 3, 3})"
   ]
  },
  {
   "cell_type": "code",
   "execution_count": 114,
   "id": "12e72f9a",
   "metadata": {
    "slideshow": {
     "slide_type": "slide"
    }
   },
   "outputs": [],
   "source": [
    "round?"
   ]
  },
  {
   "cell_type": "code",
   "execution_count": 116,
   "id": "c5873f95",
   "metadata": {
    "slideshow": {
     "slide_type": "fragment"
    }
   },
   "outputs": [
    {
     "data": {
      "text/plain": [
       "3.14"
      ]
     },
     "execution_count": 116,
     "metadata": {},
     "output_type": "execute_result"
    }
   ],
   "source": [
    "# Round of a number\n",
    "round(3.1425, 2)"
   ]
  },
  {
   "cell_type": "markdown",
   "id": "f1f85d7a",
   "metadata": {
    "slideshow": {
     "slide_type": "slide"
    }
   },
   "source": [
    "## The `input()` function"
   ]
  },
  {
   "cell_type": "code",
   "execution_count": 117,
   "id": "b00ba61a",
   "metadata": {
    "slideshow": {
     "slide_type": "fragment"
    }
   },
   "outputs": [
    {
     "name": "stdout",
     "output_type": "stream",
     "text": [
      "test\n"
     ]
    },
    {
     "data": {
      "text/plain": [
       "'test'"
      ]
     },
     "execution_count": 117,
     "metadata": {},
     "output_type": "execute_result"
    }
   ],
   "source": [
    "input() # This function let the user give an input from the keyboard"
   ]
  },
  {
   "cell_type": "code",
   "execution_count": 118,
   "id": "5d76b40c",
   "metadata": {
    "slideshow": {
     "slide_type": "fragment"
    }
   },
   "outputs": [
    {
     "name": "stdout",
     "output_type": "stream",
     "text": [
      "Hi user, enter a string here: test\n"
     ]
    },
    {
     "data": {
      "text/plain": [
       "'test'"
      ]
     },
     "execution_count": 118,
     "metadata": {},
     "output_type": "execute_result"
    }
   ],
   "source": [
    "input('Hi user, enter a string here: ') # We can give the user some instructions"
   ]
  },
  {
   "cell_type": "code",
   "execution_count": 119,
   "id": "e243fffe",
   "metadata": {
    "slideshow": {
     "slide_type": "fragment"
    }
   },
   "outputs": [
    {
     "name": "stdout",
     "output_type": "stream",
     "text": [
      "Hi user, enter a number here: vegard\n"
     ]
    }
   ],
   "source": [
    "user_input = input('Hi user, enter a number here: ') # Assign the input to a variable"
   ]
  },
  {
   "cell_type": "code",
   "execution_count": 120,
   "id": "271394d2",
   "metadata": {
    "slideshow": {
     "slide_type": "fragment"
    }
   },
   "outputs": [
    {
     "data": {
      "text/plain": [
       "'vegard'"
      ]
     },
     "execution_count": 120,
     "metadata": {},
     "output_type": "execute_result"
    }
   ],
   "source": [
    "user_input  # The input is always a string-type"
   ]
  },
  {
   "cell_type": "markdown",
   "id": "09891f28",
   "metadata": {
    "slideshow": {
     "slide_type": "slide"
    }
   },
   "source": [
    "## Some other built-in functions:"
   ]
  },
  {
   "cell_type": "code",
   "execution_count": 9,
   "id": "906739fd",
   "metadata": {},
   "outputs": [
    {
     "data": {
      "text/plain": [
       "10"
      ]
     },
     "execution_count": 9,
     "metadata": {},
     "output_type": "execute_result"
    }
   ],
   "source": [
    "# The absolute value of a number\n",
    "abs(-10)"
   ]
  },
  {
   "cell_type": "code",
   "execution_count": 123,
   "id": "a368564e",
   "metadata": {
    "slideshow": {
     "slide_type": "fragment"
    }
   },
   "outputs": [
    {
     "data": {
      "text/plain": [
       "3"
      ]
     },
     "execution_count": 123,
     "metadata": {},
     "output_type": "execute_result"
    }
   ],
   "source": [
    "# Sum the element of an iterable object\n",
    "sum([1,2])"
   ]
  },
  {
   "cell_type": "code",
   "execution_count": 11,
   "id": "c781d8b7",
   "metadata": {
    "slideshow": {
     "slide_type": "fragment"
    }
   },
   "outputs": [
    {
     "data": {
      "text/plain": [
       "34.0"
      ]
     },
     "execution_count": 11,
     "metadata": {},
     "output_type": "execute_result"
    }
   ],
   "source": [
    "# Type cast to a float\n",
    "float(34)"
   ]
  },
  {
   "cell_type": "code",
   "execution_count": 125,
   "id": "245d10dc",
   "metadata": {
    "slideshow": {
     "slide_type": "fragment"
    }
   },
   "outputs": [],
   "source": [
    "# Get help\n",
    "#help(int)"
   ]
  },
  {
   "cell_type": "markdown",
   "id": "6ebb57ca",
   "metadata": {
    "slideshow": {
     "slide_type": "slide"
    }
   },
   "source": [
    "# 2. Objects have methods\n",
    "\n",
    "Objects are instances of data types or classes, and these objects often come equipped with built-in functions called \"methods\" that perform actions or tasks specific to that object. Think of objects like smartphones: just as different smartphone models have unique apps or features, different objects in Python have specific methods. For example, a string object (e.g., `\"hello\"`) has methods like `.upper()` to convert it to uppercase, resulting in `\"HELLO\"`. Similarly, a list object (e.g., `[1, 2, 3]`) has methods such as `.append(4)` to add the number `4` to its end. These methods are invoked using the dot (`.`) notation."
   ]
  },
  {
   "cell_type": "markdown",
   "id": "8e77e235",
   "metadata": {
    "slideshow": {
     "slide_type": "slide"
    }
   },
   "source": [
    "## Methods vs. Functions\n",
    "\n",
    "#### Methods \n",
    "- Methods are associated with the objects of the class they belong to.\t\n",
    "- A method is called 'on' an object. We cannot invoke it just by its name\n",
    "\n",
    "#### Functions \n",
    "- Functions are not associated with any object.\n",
    "- We can invoke a function just by its name."
   ]
  },
  {
   "cell_type": "markdown",
   "id": "8e3f7340",
   "metadata": {
    "slideshow": {
     "slide_type": "slide"
    }
   },
   "source": [
    "## Almost everything in Python is an object\n",
    "\n",
    "- An object can have its own methods (functions)\n",
    "- - We can access these methods by using dot-notation\n",
    "    - `object_name.{method}`\n",
    "- We can see all the methods that belong to an object with the built-in `dir()` function"
   ]
  },
  {
   "cell_type": "markdown",
   "id": "c8b84680",
   "metadata": {
    "slideshow": {
     "slide_type": "slide"
    }
   },
   "source": [
    "## What are the methods for an object of type `str`"
   ]
  },
  {
   "cell_type": "code",
   "execution_count": 109,
   "id": "5fbff328",
   "metadata": {
    "slideshow": {
     "slide_type": "-"
    }
   },
   "outputs": [
    {
     "name": "stdout",
     "output_type": "stream",
     "text": [
      "['__add__', '__class__', '__contains__', '__delattr__', '__dir__', '__doc__', '__eq__', '__format__', '__ge__', '__getattribute__', '__getitem__', '__getnewargs__', '__gt__', '__hash__', '__init__', '__init_subclass__', '__iter__', '__le__', '__len__', '__lt__', '__mod__', '__mul__', '__ne__', '__new__', '__reduce__', '__reduce_ex__', '__repr__', '__rmod__', '__rmul__', '__setattr__', '__sizeof__', '__str__', '__subclasshook__', 'capitalize', 'casefold', 'center', 'count', 'encode', 'endswith', 'expandtabs', 'find', 'format', 'format_map', 'index', 'isalnum', 'isalpha', 'isascii', 'isdecimal', 'isdigit', 'isidentifier', 'islower', 'isnumeric', 'isprintable', 'isspace', 'istitle', 'isupper', 'join', 'ljust', 'lower', 'lstrip', 'maketrans', 'partition', 'removeprefix', 'removesuffix', 'replace', 'rfind', 'rindex', 'rjust', 'rpartition', 'rsplit', 'rstrip', 'split', 'splitlines', 'startswith', 'strip', 'swapcase', 'title', 'translate', 'upper', 'zfill']\n"
     ]
    }
   ],
   "source": [
    "print(dir(str))"
   ]
  },
  {
   "cell_type": "code",
   "execution_count": 126,
   "id": "2e5989b6",
   "metadata": {
    "slideshow": {
     "slide_type": "fragment"
    }
   },
   "outputs": [],
   "source": [
    "str.capitalize?"
   ]
  },
  {
   "cell_type": "code",
   "execution_count": 129,
   "id": "9f7552c8",
   "metadata": {
    "slideshow": {
     "slide_type": "fragment"
    }
   },
   "outputs": [],
   "source": [
    "a_string = 'this is a string'\n",
    "a_string.capitalize?"
   ]
  },
  {
   "cell_type": "markdown",
   "id": "a22b49a1",
   "metadata": {
    "slideshow": {
     "slide_type": "slide"
    }
   },
   "source": [
    "## Tab Completion\n",
    "\n",
    "- Many text editors as well as the Jupyter Notebook can automatically fill in partially typed code"
   ]
  },
  {
   "cell_type": "code",
   "execution_count": 131,
   "id": "91ab8cb0",
   "metadata": {
    "slideshow": {
     "slide_type": "fragment"
    }
   },
   "outputs": [
    {
     "data": {
      "text/plain": [
       "'This is a string, try using tab completion'"
      ]
     },
     "execution_count": 131,
     "metadata": {},
     "output_type": "execute_result"
    }
   ],
   "source": [
    "'this is a string, try using tab completion'.capitalize()"
   ]
  },
  {
   "cell_type": "code",
   "execution_count": 18,
   "id": "80ec7759",
   "metadata": {
    "slideshow": {
     "slide_type": "fragment"
    }
   },
   "outputs": [],
   "source": [
    "a_string = 'Apple'\n",
    "a_number = 42.0"
   ]
  },
  {
   "cell_type": "code",
   "execution_count": 132,
   "id": "e1287ceb",
   "metadata": {},
   "outputs": [
    {
     "data": {
      "text/plain": [
       "True"
      ]
     },
     "execution_count": 132,
     "metadata": {},
     "output_type": "execute_result"
    }
   ],
   "source": [
    "a_number.is_integer()"
   ]
  },
  {
   "cell_type": "markdown",
   "id": "4d931b32",
   "metadata": {
    "slideshow": {
     "slide_type": "slide"
    }
   },
   "source": [
    "# 3. Lists\n",
    "\n",
    "Lists are versatile, ordered collections that can hold a mixture of data types, making them invaluable for organizing and managing data. Represented by items enclosed in square brackets (e.g., `[1, 'apple', 3.14]`), lists are mutable, meaning their contents can be modified after creation. You can append items using the `.append()` method, remove them with the `.remove()` method, or access specific items by their index, with indexing starting from zero. For instance, in the list `fruits = ['apple', 'banana', 'cherry']`, `fruits[0]` would retrieve 'apple'. Understanding lists is foundational as they are often employed in loops, functions, and other core programming constructs, serving as dynamic storage structures that adapt to varying data needs."
   ]
  },
  {
   "cell_type": "markdown",
   "id": "6cefbf29",
   "metadata": {
    "slideshow": {
     "slide_type": "slide"
    }
   },
   "source": [
    "## The built in lists-type\n",
    "\n",
    "- One of the most versatile data types that allow us to work with multiple elements at once.\n",
    "- A list can be created by using square brackets: `a_new_list = []`\n",
    "- A list is mutable meaning you can modify a list after it is created"
   ]
  },
  {
   "cell_type": "code",
   "execution_count": 134,
   "id": "6a207495",
   "metadata": {
    "slideshow": {
     "slide_type": "fragment"
    }
   },
   "outputs": [],
   "source": [
    "# A list can consist of different types of elements\n",
    "example_list = ['this_is_a_string', 45, 3.121212, ['a', 'b']]"
   ]
  },
  {
   "cell_type": "code",
   "execution_count": 135,
   "id": "55ac20c2",
   "metadata": {
    "slideshow": {
     "slide_type": "fragment"
    }
   },
   "outputs": [
    {
     "data": {
      "text/plain": [
       "['a', 'b', 'c']"
      ]
     },
     "execution_count": 135,
     "metadata": {},
     "output_type": "execute_result"
    }
   ],
   "source": [
    "# Can also use the list built in method (requires an iterable as input)\n",
    "list('abc')"
   ]
  },
  {
   "cell_type": "markdown",
   "id": "450084b0",
   "metadata": {
    "slideshow": {
     "slide_type": "slide"
    }
   },
   "source": [
    "## Accessing, assigning and changing elements in a list\n",
    "\n",
    "- We can access the elements of the list by passing an integer to the list:"
   ]
  },
  {
   "cell_type": "code",
   "execution_count": 136,
   "id": "6feac63a",
   "metadata": {
    "slideshow": {
     "slide_type": "fragment"
    }
   },
   "outputs": [
    {
     "data": {
      "text/plain": [
       "'this_is_a_string'"
      ]
     },
     "execution_count": 136,
     "metadata": {},
     "output_type": "execute_result"
    }
   ],
   "source": [
    "example_list[0]  # This is how we access the first element. Python counts from zero."
   ]
  },
  {
   "cell_type": "code",
   "execution_count": 138,
   "id": "ebe32dfb",
   "metadata": {
    "slideshow": {
     "slide_type": "fragment"
    }
   },
   "outputs": [
    {
     "data": {
      "text/plain": [
       "'b'"
      ]
     },
     "execution_count": 138,
     "metadata": {},
     "output_type": "execute_result"
    }
   ],
   "source": [
    "example_list[3][1]  # This is how we access the fourth element "
   ]
  },
  {
   "cell_type": "markdown",
   "id": "567c324d",
   "metadata": {
    "slideshow": {
     "slide_type": "fragment"
    }
   },
   "source": [
    "- We can also assign values to elements of the list"
   ]
  },
  {
   "cell_type": "code",
   "execution_count": 139,
   "id": "03719ac2",
   "metadata": {
    "slideshow": {
     "slide_type": "-"
    }
   },
   "outputs": [
    {
     "data": {
      "text/plain": [
       "[4, 45, 3.121212, ['a', 'b']]"
      ]
     },
     "execution_count": 139,
     "metadata": {},
     "output_type": "execute_result"
    }
   ],
   "source": [
    "example_list[0] = 4 \n",
    "example_list"
   ]
  },
  {
   "cell_type": "markdown",
   "id": "d38d6248",
   "metadata": {
    "slideshow": {
     "slide_type": "slide"
    }
   },
   "source": [
    "## The length of a list"
   ]
  },
  {
   "cell_type": "code",
   "execution_count": 25,
   "id": "4a1c5759",
   "metadata": {},
   "outputs": [
    {
     "data": {
      "text/plain": [
       "4"
      ]
     },
     "execution_count": 25,
     "metadata": {},
     "output_type": "execute_result"
    }
   ],
   "source": [
    "len(example_list)"
   ]
  },
  {
   "cell_type": "code",
   "execution_count": 141,
   "id": "82f591ff",
   "metadata": {
    "slideshow": {
     "slide_type": "fragment"
    }
   },
   "outputs": [
    {
     "data": {
      "text/plain": [
       "['a', 'b']"
      ]
     },
     "execution_count": 141,
     "metadata": {},
     "output_type": "execute_result"
    }
   ],
   "source": [
    "example_list[3]"
   ]
  },
  {
   "cell_type": "markdown",
   "id": "9295b6bd",
   "metadata": {
    "slideshow": {
     "slide_type": "slide"
    }
   },
   "source": [
    "## Sorting lists"
   ]
  },
  {
   "cell_type": "code",
   "execution_count": 27,
   "id": "dde883e4",
   "metadata": {
    "slideshow": {
     "slide_type": "fragment"
    }
   },
   "outputs": [
    {
     "name": "stdout",
     "output_type": "stream",
     "text": [
      "[1.5, 4, 6.9, 7, 9]\n"
     ]
    }
   ],
   "source": [
    "# Sorting numbers\n",
    "a_list = [4, 6.9, 7, 1.5, 9]\n",
    "a_list.sort() # Sorting in place\n",
    "print(a_list)"
   ]
  },
  {
   "cell_type": "code",
   "execution_count": 142,
   "id": "7ddbff90",
   "metadata": {
    "slideshow": {
     "slide_type": "fragment"
    }
   },
   "outputs": [
    {
     "name": "stdout",
     "output_type": "stream",
     "text": [
      "['a', 'is', 'list', 'of', 'this', 'words']\n"
     ]
    }
   ],
   "source": [
    "# Sorting strings\n",
    "b_list = ['this', 'is', 'a', 'list', 'of', 'words']\n",
    "b_list.sort() # Sorting by length of word\n",
    "print(b_list)"
   ]
  },
  {
   "cell_type": "markdown",
   "id": "8ecbe689",
   "metadata": {
    "slideshow": {
     "slide_type": "slide"
    }
   },
   "source": [
    "## List indexing and slicing\n",
    "\n",
    "- We access the `i`´th element in the list as `list_name[i]` \n",
    "- We can also access parts of the list by selecting a `start` and `stop` index as `list_name[start:stop]`\n",
    "- Note that here the `stop` index is not included when slicing"
   ]
  },
  {
   "cell_type": "code",
   "execution_count": 144,
   "id": "b1316022",
   "metadata": {},
   "outputs": [
    {
     "data": {
      "text/plain": [
       "[1, 2, 3, 4]"
      ]
     },
     "execution_count": 144,
     "metadata": {},
     "output_type": "execute_result"
    }
   ],
   "source": [
    "my_list = [0, 1, 2, 3, 4]\n",
    "my_list[1:5]"
   ]
  },
  {
   "cell_type": "markdown",
   "id": "02eb41c6",
   "metadata": {
    "slideshow": {
     "slide_type": "slide"
    }
   },
   "source": [
    "## List indexing and slicing, cont.\n",
    "\n",
    "- How can we include the last element? "
   ]
  },
  {
   "cell_type": "code",
   "execution_count": 145,
   "id": "5d34a138",
   "metadata": {},
   "outputs": [
    {
     "data": {
      "text/plain": [
       "[0, 1, 2, 3, 4]"
      ]
     },
     "execution_count": 145,
     "metadata": {},
     "output_type": "execute_result"
    }
   ],
   "source": [
    "my_list[:]  # If we drop the stop index we include the last element"
   ]
  },
  {
   "cell_type": "markdown",
   "id": "5ff037b3",
   "metadata": {
    "slideshow": {
     "slide_type": "fragment"
    }
   },
   "source": [
    "- If we don't know the length of the list we can access the last element by counting from the back"
   ]
  },
  {
   "cell_type": "code",
   "execution_count": 148,
   "id": "4e9ed8b2",
   "metadata": {},
   "outputs": [
    {
     "data": {
      "text/plain": [
       "[2, 3, 4]"
      ]
     },
     "execution_count": 148,
     "metadata": {},
     "output_type": "execute_result"
    }
   ],
   "source": [
    "my_list = [0, 1, 2, 3, 4]\n",
    "my_list[-3:]              # This notation is giving us the last element of the list"
   ]
  },
  {
   "cell_type": "markdown",
   "id": "90172204",
   "metadata": {
    "slideshow": {
     "slide_type": "slide"
    }
   },
   "source": [
    "# List indexing and slicing, cont.\n",
    "\n",
    "We can also set a step value so we jump through the list by this step\n",
    "\n",
    "`a[start:stop:step]` - start through not past stop, by step"
   ]
  },
  {
   "cell_type": "code",
   "execution_count": 32,
   "id": "c0c0f6db",
   "metadata": {
    "slideshow": {
     "slide_type": "fragment"
    }
   },
   "outputs": [
    {
     "name": "stdout",
     "output_type": "stream",
     "text": [
      "['T', 'h', 'i', 's', ' ', 'i', 's', ' ', 'a', ' ', 's', 't', 'r', 'i', 'n', 'g', ' ', 't', 'h', 'a', 't', ' ', 'w', 'i', 'l', 'l', ' ', 'b', 'e', ' ', 'c', 'o', 'n', 'v', 'e', 'r', 't', 'e', 'd', ' ', 't', 'o', ' ', 'a', ' ', 'l', 'i', 's', 't', '!']\n"
     ]
    }
   ],
   "source": [
    "a_new_list = list('This is a string that will be converted to a list!')\n",
    "print(a_new_list)"
   ]
  },
  {
   "cell_type": "code",
   "execution_count": 149,
   "id": "ba2110f6",
   "metadata": {
    "slideshow": {
     "slide_type": "fragment"
    }
   },
   "outputs": [
    {
     "data": {
      "text/plain": [
       "['h', 's', 't', ' ', ' ', ' ']"
      ]
     },
     "execution_count": 149,
     "metadata": {},
     "output_type": "execute_result"
    }
   ],
   "source": [
    "a_new_list[1:30:5]"
   ]
  },
  {
   "cell_type": "markdown",
   "id": "5e240f0b",
   "metadata": {
    "slideshow": {
     "slide_type": "slide"
    }
   },
   "source": [
    "## Methods for Lists\n",
    "\n",
    "If `a` is a list, there exists methods that can be performed on `a`. Some examples:"
   ]
  },
  {
   "cell_type": "markdown",
   "id": "8bcceaf5",
   "metadata": {
    "slideshow": {
     "slide_type": "-"
    }
   },
   "source": [
    "| Method | Description |\n",
    "| ----------- | ----------- |\n",
    "| `a.append(arg)` | Append object to the end of the list  |\n",
    "| `a.remove(arg)` | Remove first occurrence of value      |\n",
    "| `a.count(arg)`  | Return number of occurrences of value |\n",
    "| `a.clear()`     | Remove all items from list            |"
   ]
  },
  {
   "cell_type": "markdown",
   "id": "5cf1c3d6",
   "metadata": {
    "slideshow": {
     "slide_type": "slide"
    }
   },
   "source": [
    "## Using the `list` methods"
   ]
  },
  {
   "cell_type": "code",
   "execution_count": 34,
   "id": "c5712f39",
   "metadata": {
    "slideshow": {
     "slide_type": "fragment"
    }
   },
   "outputs": [],
   "source": [
    "city_list = ['Oslo'] # Create a list with one element"
   ]
  },
  {
   "cell_type": "code",
   "execution_count": 35,
   "id": "5e74ffba",
   "metadata": {
    "slideshow": {
     "slide_type": "fragment"
    }
   },
   "outputs": [],
   "source": [
    "city_list.append('Bergen') # Add an element to the list "
   ]
  },
  {
   "cell_type": "code",
   "execution_count": 36,
   "id": "08bf2b26",
   "metadata": {
    "slideshow": {
     "slide_type": "fragment"
    }
   },
   "outputs": [
    {
     "data": {
      "text/plain": [
       "['Oslo', 'Bergen']"
      ]
     },
     "execution_count": 36,
     "metadata": {},
     "output_type": "execute_result"
    }
   ],
   "source": [
    "city_list"
   ]
  },
  {
   "cell_type": "code",
   "execution_count": 37,
   "id": "9779ff29",
   "metadata": {
    "slideshow": {
     "slide_type": "fragment"
    }
   },
   "outputs": [],
   "source": [
    "city_list.remove('Oslo') # Remove an element from list"
   ]
  },
  {
   "cell_type": "code",
   "execution_count": 38,
   "id": "6e04afe2",
   "metadata": {
    "slideshow": {
     "slide_type": "fragment"
    }
   },
   "outputs": [
    {
     "data": {
      "text/plain": [
       "['Bergen']"
      ]
     },
     "execution_count": 38,
     "metadata": {},
     "output_type": "execute_result"
    }
   ],
   "source": [
    "city_list"
   ]
  },
  {
   "cell_type": "code",
   "execution_count": 39,
   "id": "1aa3ca0e",
   "metadata": {
    "slideshow": {
     "slide_type": "fragment"
    }
   },
   "outputs": [
    {
     "name": "stdout",
     "output_type": "stream",
     "text": [
      "1\n"
     ]
    }
   ],
   "source": [
    "print(city_list.count('Bergen')) # Count a specific element ('Bergen') in the list"
   ]
  },
  {
   "cell_type": "markdown",
   "id": "eae5db36",
   "metadata": {
    "slideshow": {
     "slide_type": "slide"
    }
   },
   "source": [
    "## Assigning lists with `=` does not make a copy\n",
    "- The variable name is only pointing to the actual list object"
   ]
  },
  {
   "cell_type": "code",
   "execution_count": 154,
   "id": "46853b11",
   "metadata": {
    "slideshow": {
     "slide_type": "-"
    }
   },
   "outputs": [],
   "source": [
    "first_list = ['a', 'b', 'c']"
   ]
  },
  {
   "cell_type": "code",
   "execution_count": 155,
   "id": "9d2774bf",
   "metadata": {
    "slideshow": {
     "slide_type": "fragment"
    }
   },
   "outputs": [],
   "source": [
    "second_list = first_list.copy()    # can make a copy with first_list.copy()"
   ]
  },
  {
   "cell_type": "code",
   "execution_count": 156,
   "id": "dc9f48d4",
   "metadata": {
    "slideshow": {
     "slide_type": "fragment"
    }
   },
   "outputs": [],
   "source": [
    "second_list.clear()"
   ]
  },
  {
   "cell_type": "code",
   "execution_count": 157,
   "id": "8d2855a2",
   "metadata": {
    "slideshow": {
     "slide_type": "fragment"
    }
   },
   "outputs": [
    {
     "name": "stdout",
     "output_type": "stream",
     "text": [
      "['a', 'b', 'c']\n"
     ]
    }
   ],
   "source": [
    "print(first_list)"
   ]
  },
  {
   "cell_type": "markdown",
   "id": "cd774936",
   "metadata": {
    "slideshow": {
     "slide_type": "slide"
    }
   },
   "source": [
    "# 4. Tuples\n",
    "\n",
    "Tuples are akin to lists in that they are ordered collections of items; however, there are crucial differences. Enclosed in parentheses (e.g., `(1, 'apple', 3.14)`), tuples are immutable, meaning once they're created, their content cannot be altered—no additions, deletions, or modifications. This fixed nature makes tuples ideal for representing things that shouldn't change, such as days of the week or coordinates on a map. Accessing items in a tuple is just like with lists, using indexing; for example, in the tuple `colors = ('red', 'green', 'blue')`, `colors[1]` would yield 'green'."
   ]
  },
  {
   "cell_type": "markdown",
   "id": "79dbb5ee",
   "metadata": {
    "slideshow": {
     "slide_type": "slide"
    }
   },
   "source": [
    "## The built-in tuple-type\n",
    "\n",
    "- Tuples are similar to lists, allowing us to collect values in an ordered way\n",
    "- Tuples differ from lists in that they are unchangeable (immutable),\n",
    "    * We cannot change, add or remove items after the tuple has been created"
   ]
  },
  {
   "cell_type": "markdown",
   "id": "596cffca",
   "metadata": {
    "slideshow": {
     "slide_type": "slide"
    }
   },
   "source": [
    "## Creating tuples\n",
    "\n",
    "- Tuples can be created by using round brackets"
   ]
  },
  {
   "cell_type": "code",
   "execution_count": 45,
   "id": "8c3ae21d",
   "metadata": {
    "slideshow": {
     "slide_type": "-"
    }
   },
   "outputs": [],
   "source": [
    "tuple1 = (1, 5, 'text', [1,2,3])   # A tuple created with round brackets"
   ]
  },
  {
   "cell_type": "markdown",
   "id": "2f094c7b",
   "metadata": {
    "slideshow": {
     "slide_type": "fragment"
    }
   },
   "source": [
    "- Can skip the round brackets, but the code might be harder to read"
   ]
  },
  {
   "cell_type": "code",
   "execution_count": 158,
   "id": "0c379810",
   "metadata": {
    "slideshow": {
     "slide_type": "-"
    }
   },
   "outputs": [],
   "source": [
    "tuple2 = 3, 5, 5, 9, 11, 45, 67    # A tuple created without round  brackets"
   ]
  },
  {
   "cell_type": "code",
   "execution_count": 47,
   "id": "8a3bfbf6",
   "metadata": {
    "slideshow": {
     "slide_type": "fragment"
    }
   },
   "outputs": [
    {
     "name": "stdout",
     "output_type": "stream",
     "text": [
      "[1, 2, 3]\n",
      "(45, 67)\n"
     ]
    }
   ],
   "source": [
    "# We can access the elements in the tuples as be do with lists\n",
    "print(tuple1[3])     # We can select elements\n",
    "print(tuple2[5:])    # We can make a slice of the tuple  "
   ]
  },
  {
   "cell_type": "markdown",
   "id": "aca027be",
   "metadata": {
    "slideshow": {
     "slide_type": "slide"
    }
   },
   "source": [
    "## What happens if we try to assign a value to an existing `tuple`?"
   ]
  },
  {
   "cell_type": "code",
   "execution_count": 159,
   "id": "cd7d371b",
   "metadata": {
    "slideshow": {
     "slide_type": "-"
    }
   },
   "outputs": [
    {
     "ename": "TypeError",
     "evalue": "'tuple' object does not support item assignment",
     "output_type": "error",
     "traceback": [
      "\u001b[0;31m---------------------------------------------------------------------------\u001b[0m",
      "\u001b[0;31mTypeError\u001b[0m                                 Traceback (most recent call last)",
      "Input \u001b[0;32mIn [159]\u001b[0m, in \u001b[0;36m<cell line: 1>\u001b[0;34m()\u001b[0m\n\u001b[0;32m----> 1\u001b[0m tuple1[\u001b[38;5;241m2\u001b[39m] \u001b[38;5;241m=\u001b[39m \u001b[38;5;241m5\u001b[39m\n",
      "\u001b[0;31mTypeError\u001b[0m: 'tuple' object does not support item assignment"
     ]
    }
   ],
   "source": [
    "tuple1[2] = 5  # We are not allowed to assign values to a tuple"
   ]
  },
  {
   "cell_type": "markdown",
   "id": "9a709348",
   "metadata": {
    "slideshow": {
     "slide_type": "slide"
    }
   },
   "source": [
    "## Methods for  tuples \n",
    "\n",
    "- Since a `tuple` cannot be changed after it is created, there are very few built-in methods for a  `tuple`\n",
    "- If `t` is a `tuple`, these are some methods that can be performed on `t`"
   ]
  },
  {
   "cell_type": "markdown",
   "id": "7aeae5d5",
   "metadata": {
    "slideshow": {
     "slide_type": "-"
    }
   },
   "source": [
    "| Method | Description |\n",
    "| ----------- | ----------- |\n",
    "| `t.count(value)`  | Return number of occurrences of value |\n",
    "| `t.index(value)`  | Return first index of value|"
   ]
  },
  {
   "cell_type": "markdown",
   "id": "2e85500e",
   "metadata": {
    "slideshow": {
     "slide_type": "slide"
    }
   },
   "source": [
    "## Example of using the tuple-methods"
   ]
  },
  {
   "cell_type": "code",
   "execution_count": 49,
   "id": "2cd9c20f",
   "metadata": {
    "slideshow": {
     "slide_type": "-"
    }
   },
   "outputs": [],
   "source": [
    "tuple2 = (3, 5, 5, 9, 11, 45, 67)"
   ]
  },
  {
   "cell_type": "code",
   "execution_count": 50,
   "id": "9ecd6351",
   "metadata": {
    "slideshow": {
     "slide_type": "fragment"
    }
   },
   "outputs": [
    {
     "data": {
      "text/plain": [
       "2"
      ]
     },
     "execution_count": 50,
     "metadata": {},
     "output_type": "execute_result"
    }
   ],
   "source": [
    "tuple2.count(5) # Count the number of occurrences of the number 5 in tuple2"
   ]
  },
  {
   "cell_type": "code",
   "execution_count": 160,
   "id": "0aefe32d",
   "metadata": {
    "slideshow": {
     "slide_type": "fragment"
    }
   },
   "outputs": [
    {
     "data": {
      "text/plain": [
       "1"
      ]
     },
     "execution_count": 160,
     "metadata": {},
     "output_type": "execute_result"
    }
   ],
   "source": [
    "tuple2.index(5) # What is the location of the number 45 in tuple2"
   ]
  },
  {
   "cell_type": "markdown",
   "id": "8b8d7c01",
   "metadata": {
    "slideshow": {
     "slide_type": "slide"
    }
   },
   "source": [
    "## Unpacking tuples"
   ]
  },
  {
   "cell_type": "code",
   "execution_count": 193,
   "id": "5fd3b41c",
   "metadata": {
    "slideshow": {
     "slide_type": "-"
    }
   },
   "outputs": [],
   "source": [
    "# Store some data about some cities using tuples \n",
    "oslo = ('Norway', 630_000, True)\n",
    "bergen = ('Norway', 270_000, False)\n",
    "new_york = ('US', 8_380_000, False)"
   ]
  },
  {
   "cell_type": "code",
   "execution_count": 194,
   "id": "4da2cf6f",
   "metadata": {
    "slideshow": {
     "slide_type": "fragment"
    }
   },
   "outputs": [],
   "source": [
    "country_oslo, population_oslo, is_capital_oslo = oslo"
   ]
  },
  {
   "cell_type": "code",
   "execution_count": 195,
   "id": "734d2dc5",
   "metadata": {
    "slideshow": {
     "slide_type": "fragment"
    }
   },
   "outputs": [
    {
     "name": "stdout",
     "output_type": "stream",
     "text": [
      "630000\n"
     ]
    }
   ],
   "source": [
    "print(population_oslo)"
   ]
  },
  {
   "cell_type": "code",
   "execution_count": 196,
   "id": "4fc36bfc",
   "metadata": {
    "slideshow": {
     "slide_type": "fragment"
    }
   },
   "outputs": [],
   "source": [
    "country_bergen, population_bergen, is_capital_bergen = bergen\n",
    "country_new_york, population_new_york, is_capital_new_york = new_york"
   ]
  },
  {
   "cell_type": "code",
   "execution_count": 197,
   "id": "8ea3d241",
   "metadata": {
    "slideshow": {
     "slide_type": "fragment"
    }
   },
   "outputs": [
    {
     "name": "stdout",
     "output_type": "stream",
     "text": [
      "8380000\n"
     ]
    }
   ],
   "source": [
    "print(population_new_york)"
   ]
  },
  {
   "cell_type": "markdown",
   "id": "11a39fce",
   "metadata": {
    "slideshow": {
     "slide_type": "slide"
    }
   },
   "source": [
    "# Unpacking many elements"
   ]
  },
  {
   "cell_type": "code",
   "execution_count": 207,
   "id": "df73758c",
   "metadata": {
    "slideshow": {
     "slide_type": "fragment"
    }
   },
   "outputs": [],
   "source": [
    "oslo = ('Norway', 630_000, True, 'O', 's', 'l', 'o')"
   ]
  },
  {
   "cell_type": "code",
   "execution_count": 210,
   "id": "68634efe",
   "metadata": {},
   "outputs": [
    {
     "data": {
      "text/plain": [
       "True"
      ]
     },
     "execution_count": 210,
     "metadata": {},
     "output_type": "execute_result"
    }
   ],
   "source": [
    "6.3e5 == 630_000"
   ]
  },
  {
   "cell_type": "code",
   "execution_count": 202,
   "id": "1ad87715",
   "metadata": {
    "slideshow": {
     "slide_type": "fragment"
    }
   },
   "outputs": [],
   "source": [
    "country_oslo, population_oslo, is_capital_oslo, *other = oslo"
   ]
  },
  {
   "cell_type": "code",
   "execution_count": 203,
   "id": "98f1b9ef",
   "metadata": {
    "slideshow": {
     "slide_type": "fragment"
    }
   },
   "outputs": [
    {
     "data": {
      "text/plain": [
       "['O', 's', 'l', 'o']"
      ]
     },
     "execution_count": 203,
     "metadata": {},
     "output_type": "execute_result"
    }
   ],
   "source": [
    "other"
   ]
  },
  {
   "cell_type": "code",
   "execution_count": 204,
   "id": "a55640e2",
   "metadata": {
    "slideshow": {
     "slide_type": "fragment"
    }
   },
   "outputs": [],
   "source": [
    "country, *the_middle, last_letter = oslo"
   ]
  },
  {
   "cell_type": "code",
   "execution_count": 205,
   "id": "648e9fec",
   "metadata": {
    "slideshow": {
     "slide_type": "fragment"
    }
   },
   "outputs": [
    {
     "data": {
      "text/plain": [
       "[630000, True, 'O', 's', 'l']"
      ]
     },
     "execution_count": 205,
     "metadata": {},
     "output_type": "execute_result"
    }
   ],
   "source": [
    "the_middle"
   ]
  },
  {
   "cell_type": "code",
   "execution_count": 206,
   "id": "965739a2",
   "metadata": {
    "slideshow": {
     "slide_type": "fragment"
    }
   },
   "outputs": [
    {
     "data": {
      "text/plain": [
       "'o'"
      ]
     },
     "execution_count": 206,
     "metadata": {},
     "output_type": "execute_result"
    }
   ],
   "source": [
    "last_letter"
   ]
  },
  {
   "cell_type": "markdown",
   "id": "9ac4c6b3",
   "metadata": {
    "slideshow": {
     "slide_type": "slide"
    }
   },
   "source": [
    "# 5. Strings\n",
    "\n",
    "Strings represent sequences of characters and are vital for handling text-based data. Encased within single (`'...'`), double (`\"...\"`), or even triple (`'''...'''` or `\"\"\"...\"\"\"` for multi-line strings) quotes, they are more than simple text labels. Strings possess a wealth of built-in methods, like `.upper()` to capitalize characters or `.replace()` to substitute portions of the text. Just like lists and tuples, strings are ordered, allowing access to individual characters using indices: in the string `word = \"python\"`, `word[0]` refers to the character 'p'. However, unlike lists, strings are immutable, meaning their content cannot be directly altered once created. Grasping strings is essential, as text processing is a cornerstone in many programming endeavors, from user input to data analysis."
   ]
  },
  {
   "cell_type": "markdown",
   "id": "7fa34556",
   "metadata": {
    "slideshow": {
     "slide_type": "slide"
    }
   },
   "source": [
    "## Defining strings\n",
    "\n",
    "* Strings can be created by using either single or double quotes"
   ]
  },
  {
   "cell_type": "code",
   "execution_count": 212,
   "id": "05390d29",
   "metadata": {
    "slideshow": {
     "slide_type": "fragment"
    }
   },
   "outputs": [],
   "source": [
    "text1 = 'This is a string'\n",
    "text2 = \"This is another string\"\n",
    "text3 = \"A 'string' with a quote\"\n",
    "text4 = 'Another \"string\" with a quote'"
   ]
  },
  {
   "cell_type": "code",
   "execution_count": 64,
   "id": "9e64cb7c",
   "metadata": {
    "slideshow": {
     "slide_type": "fragment"
    }
   },
   "outputs": [
    {
     "name": "stdout",
     "output_type": "stream",
     "text": [
      "A 'string' with a quote\n"
     ]
    }
   ],
   "source": [
    "print(text3)"
   ]
  },
  {
   "cell_type": "code",
   "execution_count": 65,
   "id": "598f9e46",
   "metadata": {
    "slideshow": {
     "slide_type": "-"
    }
   },
   "outputs": [
    {
     "name": "stdout",
     "output_type": "stream",
     "text": [
      "Another \"string\" with a quote\n"
     ]
    }
   ],
   "source": [
    "print(text4)"
   ]
  },
  {
   "cell_type": "markdown",
   "id": "538fd69e",
   "metadata": {
    "slideshow": {
     "slide_type": "slide"
    }
   },
   "source": [
    "## Methods for  Strings\n",
    "\n",
    "If `s` is a string, these are some methods that can be performed on `s`:"
   ]
  },
  {
   "cell_type": "markdown",
   "id": "9adf4621",
   "metadata": {
    "slideshow": {
     "slide_type": "-"
    }
   },
   "source": [
    "| Method | Description |\n",
    "| ----------- | ----------- |\n",
    "| `s.lower()`               | Returns the lowercase version of `s` |\n",
    "| `s.upper()`               | Returns the uppercase version of `s` |\n",
    "| `s.capitalize()`          | Return a capitalized version of `s`  |\n",
    "| `s.replace('old', 'new')` | Return a copy with all occurrences of the sub-string old replaced by new |\n",
    "| `s.split()`               | Return a list of the words in the string |"
   ]
  },
  {
   "cell_type": "markdown",
   "id": "14c375d8",
   "metadata": {
    "slideshow": {
     "slide_type": "slide"
    }
   },
   "source": [
    "## Using the `string` methods"
   ]
  },
  {
   "cell_type": "code",
   "execution_count": 219,
   "id": "8614c744",
   "metadata": {},
   "outputs": [],
   "source": [
    "test_string = 'this Is a STRING.'"
   ]
  },
  {
   "cell_type": "code",
   "execution_count": 220,
   "id": "05304536",
   "metadata": {
    "slideshow": {
     "slide_type": "fragment"
    }
   },
   "outputs": [
    {
     "data": {
      "text/plain": [
       "'this is a string.'"
      ]
     },
     "execution_count": 220,
     "metadata": {},
     "output_type": "execute_result"
    }
   ],
   "source": [
    "test_string.lower()  # Turn all the letters in the string into lowercase "
   ]
  },
  {
   "cell_type": "code",
   "execution_count": 221,
   "id": "0b7f6d24",
   "metadata": {
    "slideshow": {
     "slide_type": "fragment"
    }
   },
   "outputs": [
    {
     "data": {
      "text/plain": [
       "'This is a string.'"
      ]
     },
     "execution_count": 221,
     "metadata": {},
     "output_type": "execute_result"
    }
   ],
   "source": [
    "test_string.capitalize() # Capitalizes the first letter and turn the rest into lowercase"
   ]
  },
  {
   "cell_type": "code",
   "execution_count": 222,
   "id": "7af18e2c",
   "metadata": {},
   "outputs": [
    {
     "data": {
      "text/plain": [
       "'this Is a STRING.'"
      ]
     },
     "execution_count": 222,
     "metadata": {},
     "output_type": "execute_result"
    }
   ],
   "source": [
    "test_string"
   ]
  },
  {
   "cell_type": "code",
   "execution_count": 218,
   "id": "1138fd02",
   "metadata": {
    "slideshow": {
     "slide_type": "fragment"
    }
   },
   "outputs": [
    {
     "data": {
      "text/plain": [
       "'this Is a text.'"
      ]
     },
     "execution_count": 218,
     "metadata": {},
     "output_type": "execute_result"
    }
   ],
   "source": [
    "test_string.replace('STRING', 'text') # Replace the 'STRING' with 'text'"
   ]
  },
  {
   "cell_type": "code",
   "execution_count": 70,
   "id": "9e318a1a",
   "metadata": {
    "slideshow": {
     "slide_type": "fragment"
    }
   },
   "outputs": [
    {
     "data": {
      "text/plain": [
       "['this', 'Is', 'a', 'STRING.']"
      ]
     },
     "execution_count": 70,
     "metadata": {},
     "output_type": "execute_result"
    }
   ],
   "source": [
    "test_string.split() # Turn the string into a list"
   ]
  },
  {
   "cell_type": "markdown",
   "id": "c7932e71",
   "metadata": {
    "slideshow": {
     "slide_type": "slide"
    }
   },
   "source": [
    "## Special characters in strings"
   ]
  },
  {
   "cell_type": "markdown",
   "id": "a5ce382e",
   "metadata": {
    "slideshow": {
     "slide_type": "-"
    }
   },
   "source": [
    "- \\n - Newline\n",
    "\n",
    "- \\t - Horizontal tab\n",
    "\n",
    "- \\\\' - Single Quote\n",
    "\n",
    "- \\\\\" - double quote\n",
    "\n",
    "- \\\\\\ - Backslash\n",
    "\n",
    "- \\v - vertical tab\n"
   ]
  },
  {
   "cell_type": "code",
   "execution_count": 223,
   "id": "16479afe",
   "metadata": {
    "slideshow": {
     "slide_type": "slide"
    }
   },
   "outputs": [
    {
     "name": "stdout",
     "output_type": "stream",
     "text": [
      "What's your name?\n"
     ]
    }
   ],
   "source": [
    "print('What\\'s your name?') "
   ]
  },
  {
   "cell_type": "code",
   "execution_count": 224,
   "id": "2f8bfefb",
   "metadata": {
    "slideshow": {
     "slide_type": "fragment"
    }
   },
   "outputs": [
    {
     "name": "stdout",
     "output_type": "stream",
     "text": [
      "What's your name?\n"
     ]
    }
   ],
   "source": [
    "# Alternatively\n",
    "print(\"What's your name?\") "
   ]
  },
  {
   "cell_type": "code",
   "execution_count": 225,
   "id": "4a5a8548",
   "metadata": {
    "slideshow": {
     "slide_type": "fragment"
    }
   },
   "outputs": [
    {
     "name": "stdout",
     "output_type": "stream",
     "text": [
      "1\t2\t3\n",
      "4\t5\t6\n",
      "7\t8\t9\n"
     ]
    }
   ],
   "source": [
    "print('1\\t2\\t3\\n4\\t5\\t6\\n7\\t8\\t9')"
   ]
  },
  {
   "cell_type": "markdown",
   "id": "05f6c484",
   "metadata": {
    "slideshow": {
     "slide_type": "slide"
    }
   },
   "source": [
    "## f-strings\n",
    "\n",
    "- f-strings are strings that have an f at the beginning and curly braces containing any valid Python expressions that will be replaced with their values."
   ]
  },
  {
   "cell_type": "code",
   "execution_count": 74,
   "id": "9645833b",
   "metadata": {
    "slideshow": {
     "slide_type": "fragment"
    }
   },
   "outputs": [],
   "source": [
    "salary = 30000 # Current salary\n",
    "increase = 0.04 # Increase for next year is 4%"
   ]
  },
  {
   "cell_type": "code",
   "execution_count": 226,
   "id": "e32dd716",
   "metadata": {
    "slideshow": {
     "slide_type": "fragment"
    }
   },
   "outputs": [
    {
     "name": "stdout",
     "output_type": "stream",
     "text": [
      "The salary will increase by 4.0% to 31200.0 next year.\n"
     ]
    }
   ],
   "source": [
    "# Printing next years salary adding regular strings together \n",
    "print('The salary will increase by 4.0% to ' + str(salary*(1+increase)) + ' next year.')"
   ]
  },
  {
   "cell_type": "code",
   "execution_count": 231,
   "id": "6711536b",
   "metadata": {
    "slideshow": {
     "slide_type": "fragment"
    }
   },
   "outputs": [
    {
     "name": "stdout",
     "output_type": "stream",
     "text": [
      "The salary will increase by 4.0% to 31200.0 next year.\n"
     ]
    }
   ],
   "source": [
    "# Using the f-string\n",
    "print(f'The salary will increase by {increase:.1%} to {salary*(1+increase)} next year.')"
   ]
  },
  {
   "cell_type": "markdown",
   "id": "f4b1b8ea",
   "metadata": {
    "slideshow": {
     "slide_type": "slide"
    }
   },
   "source": [
    "# 6. Dictionaries \n",
    "\n",
    "Dictionaries are powerful data structures that store pairs of keys and values, facilitating quick data retrieval based on a unique key. Unlike lists and tuples, which are ordered by index, dictionaries use curly braces `{...}` and are inherently unordered. For instance, in the dictionary `student = {'name': 'John', 'age': 18, 'grade': 'A'}`, 'name', 'age', and 'grade' are keys, each associated with specific values. To access the value for 'name', one would use `student['name']`, obtaining the result 'John'. Since dictionaries are mutable, their content can be modified post-creation, enabling dynamic data storage."
   ]
  },
  {
   "cell_type": "markdown",
   "id": "5ca46ad2",
   "metadata": {
    "slideshow": {
     "slide_type": "slide"
    }
   },
   "source": [
    "## Using dictionaries\n",
    "\n",
    "- Unlike lists, tuples and strings, which are indexed by a range of numbers, dictionaries are indexed by keys\n",
    "- A key can be any immutable type\n",
    "- A dictionary is as a set of key: value pairs, with the requirement that the keys within one dictionary are unique\n",
    "- Dictionaries can be created by inserting a comma-separated list of key:value pairs inside curly brackets `{}` \n",
    "- Fast way of getting the value when you know the key"
   ]
  },
  {
   "cell_type": "markdown",
   "id": "a8232d67",
   "metadata": {
    "slideshow": {
     "slide_type": "slide"
    }
   },
   "source": [
    "## Creating a dictionary"
   ]
  },
  {
   "cell_type": "code",
   "execution_count": 233,
   "id": "471b9e8c",
   "metadata": {
    "slideshow": {
     "slide_type": "-"
    }
   },
   "outputs": [],
   "source": [
    "oslo = {'country': 'Norway', 'population': 630_000, 'is_capital': True}"
   ]
  },
  {
   "cell_type": "code",
   "execution_count": 234,
   "id": "70464fcd",
   "metadata": {
    "slideshow": {
     "slide_type": "fragment"
    }
   },
   "outputs": [
    {
     "name": "stdout",
     "output_type": "stream",
     "text": [
      "{'country': 'Norway', 'population': 630000, 'is_capital': True}\n"
     ]
    }
   ],
   "source": [
    "print(oslo)"
   ]
  },
  {
   "cell_type": "code",
   "execution_count": 235,
   "id": "225bb1a0",
   "metadata": {
    "slideshow": {
     "slide_type": "fragment"
    }
   },
   "outputs": [
    {
     "data": {
      "text/plain": [
       "630000"
      ]
     },
     "execution_count": 235,
     "metadata": {},
     "output_type": "execute_result"
    }
   ],
   "source": [
    "# Can access the elements by the key\n",
    "oslo['population']"
   ]
  },
  {
   "cell_type": "code",
   "execution_count": 236,
   "id": "84008081",
   "metadata": {
    "slideshow": {
     "slide_type": "fragment"
    }
   },
   "outputs": [
    {
     "data": {
      "text/plain": [
       "True"
      ]
     },
     "execution_count": 236,
     "metadata": {},
     "output_type": "execute_result"
    }
   ],
   "source": [
    "# Can check if key is in dict\n",
    "'country' in oslo"
   ]
  },
  {
   "cell_type": "markdown",
   "id": "8c6a2f57",
   "metadata": {
    "slideshow": {
     "slide_type": "slide"
    }
   },
   "source": [
    "## Methods for Dictionaries\n",
    "\n",
    "If `d` is a dictionary, these are some methods that can be performed on `d`:\n",
    "\n",
    "- `d.keys()`\n",
    "- `d.values()`\n",
    "- `d.clear()`"
   ]
  },
  {
   "cell_type": "markdown",
   "id": "bb353c30",
   "metadata": {
    "slideshow": {
     "slide_type": "slide"
    }
   },
   "source": [
    "## Using the dictionary methods"
   ]
  },
  {
   "cell_type": "code",
   "execution_count": 238,
   "id": "cb80a5e6",
   "metadata": {
    "slideshow": {
     "slide_type": "-"
    }
   },
   "outputs": [
    {
     "data": {
      "text/plain": [
       "dict_keys(['country', 'population', 'is_capital'])"
      ]
     },
     "execution_count": 238,
     "metadata": {},
     "output_type": "execute_result"
    }
   ],
   "source": [
    "oslo.keys()"
   ]
  },
  {
   "cell_type": "code",
   "execution_count": 239,
   "id": "0170e182",
   "metadata": {
    "slideshow": {
     "slide_type": "fragment"
    }
   },
   "outputs": [
    {
     "data": {
      "text/plain": [
       "dict_values(['Norway', 630000, True])"
      ]
     },
     "execution_count": 239,
     "metadata": {},
     "output_type": "execute_result"
    }
   ],
   "source": [
    "oslo.values()"
   ]
  },
  {
   "cell_type": "code",
   "execution_count": 240,
   "id": "e3d9afd9",
   "metadata": {
    "slideshow": {
     "slide_type": "fragment"
    }
   },
   "outputs": [],
   "source": [
    "oslo.clear()"
   ]
  },
  {
   "cell_type": "code",
   "execution_count": 241,
   "id": "d2f1bbea",
   "metadata": {
    "slideshow": {
     "slide_type": "fragment"
    }
   },
   "outputs": [
    {
     "data": {
      "text/plain": [
       "{}"
      ]
     },
     "execution_count": 241,
     "metadata": {},
     "output_type": "execute_result"
    }
   ],
   "source": [
    "oslo"
   ]
  },
  {
   "cell_type": "code",
   "execution_count": 85,
   "id": "6eb9096c",
   "metadata": {},
   "outputs": [],
   "source": [
    "oslo."
   ]
  },
  {
   "cell_type": "markdown",
   "id": "2642355e",
   "metadata": {
    "slideshow": {
     "slide_type": "slide"
    }
   },
   "source": [
    "# 7. Sets\n",
    "\n",
    "Sets are unique collections that store unordered items, similar in concept to mathematical sets. Defined using curly braces `{...}`, like dictionaries, or via the built-in `set()` function, sets inherently eliminate duplicate values. For example, the set `{1, 2, 3, 3, 4}` would automatically discard the extra `3`, resulting in `{1, 2, 3, 4}`. Sets also offer powerful operations like union (`|`), intersection (`&`), and difference (`-`), mirroring classical set theory. A notable characteristic of sets is their inability to store mutable types, such as lists, but they can handle immutable types like tuples and strings. "
   ]
  },
  {
   "cell_type": "markdown",
   "id": "f9d70595",
   "metadata": {
    "slideshow": {
     "slide_type": "slide"
    }
   },
   "source": [
    "## Sets\n",
    "\n",
    "- A set is an unordered collection with no duplicate elements.\n",
    "- Sets are unordered.\n",
    "- Set items are unchangeable, but you can remove items and add new items to the set."
   ]
  },
  {
   "cell_type": "markdown",
   "id": "fe7cd1db",
   "metadata": {
    "slideshow": {
     "slide_type": "slide"
    }
   },
   "source": [
    "## Defining sets\n",
    "\n",
    "- A set can be created in two ways: \n",
    "    1. Can be defined with the built-in `set()` function\n",
    "    2. Can be defined with curly braces `{}`:"
   ]
  },
  {
   "cell_type": "code",
   "execution_count": 244,
   "id": "78b28b66",
   "metadata": {
    "slideshow": {
     "slide_type": "fragment"
    }
   },
   "outputs": [
    {
     "name": "stdout",
     "output_type": "stream",
     "text": [
      "{'apple'}\n"
     ]
    }
   ],
   "source": [
    "first_set = set(['apple'])\n",
    "print(first_set)"
   ]
  },
  {
   "cell_type": "code",
   "execution_count": 87,
   "id": "ae6ba764",
   "metadata": {
    "slideshow": {
     "slide_type": "fragment"
    }
   },
   "outputs": [
    {
     "name": "stdout",
     "output_type": "stream",
     "text": [
      "{'orange', 'banana', 'apple'}\n"
     ]
    }
   ],
   "source": [
    "second_set = {'apple', 'orange', 'banana', 'apple', 'banana'}\n",
    "print(second_set)"
   ]
  },
  {
   "cell_type": "markdown",
   "id": "86defe6e",
   "metadata": {
    "slideshow": {
     "slide_type": "slide"
    }
   },
   "source": [
    "## Set operations"
   ]
  },
  {
   "cell_type": "code",
   "execution_count": 88,
   "id": "70f0fbef",
   "metadata": {},
   "outputs": [],
   "source": [
    "A = {1, 2, 3, 4, 5, 6}\n",
    "\n",
    "B = {5, 6, 7, 8, 9, 10}"
   ]
  },
  {
   "cell_type": "markdown",
   "id": "808beb6f",
   "metadata": {
    "slideshow": {
     "slide_type": "slide"
    }
   },
   "source": [
    "### Union\n",
    "The set of all elements in the whole collection (both A and B).\n",
    "\n",
    "$A \\cup B =  \\{1, 2, 3, 4, 5, 6, 7, 8, 9, 10\\}$"
   ]
  },
  {
   "cell_type": "markdown",
   "id": "0d301dd4",
   "metadata": {
    "slideshow": {
     "slide_type": "fragment"
    }
   },
   "source": [
    "### Intersection \n",
    "The set containing all elements of A that also belong to B\n",
    "\n",
    "$A \\cap B = \\{5, 6\\}$"
   ]
  },
  {
   "cell_type": "code",
   "execution_count": 242,
   "id": "50828287",
   "metadata": {
    "slideshow": {
     "slide_type": "slide"
    }
   },
   "outputs": [
    {
     "data": {
      "text/plain": [
       "{1, 2, 3, 4, 5, 6, 7, 8, 9, 10}"
      ]
     },
     "execution_count": 242,
     "metadata": {},
     "output_type": "execute_result"
    }
   ],
   "source": [
    "A.union(B)"
   ]
  },
  {
   "cell_type": "code",
   "execution_count": 90,
   "id": "a8ff4000",
   "metadata": {
    "slideshow": {
     "slide_type": "fragment"
    }
   },
   "outputs": [
    {
     "data": {
      "text/plain": [
       "{5, 6}"
      ]
     },
     "execution_count": 90,
     "metadata": {},
     "output_type": "execute_result"
    }
   ],
   "source": [
    "A.intersection(B)"
   ]
  }
 ],
 "metadata": {
  "celltoolbar": "Slideshow",
  "kernelspec": {
   "display_name": "Python 3 (ipykernel)",
   "language": "python",
   "name": "python3"
  },
  "language_info": {
   "codemirror_mode": {
    "name": "ipython",
    "version": 3
   },
   "file_extension": ".py",
   "mimetype": "text/x-python",
   "name": "python",
   "nbconvert_exporter": "python",
   "pygments_lexer": "ipython3",
   "version": "3.11.4"
  }
 },
 "nbformat": 4,
 "nbformat_minor": 5
}
