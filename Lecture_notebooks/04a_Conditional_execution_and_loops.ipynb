{
 "cells": [
  {
   "cell_type": "markdown",
   "id": "1ae11f9a",
   "metadata": {
    "slideshow": {
     "slide_type": "slide"
    }
   },
   "source": [
    "# Conditional execution and loops\n",
    "\n",
    "## Course: Programming and Data Management (EDI 3400)\n",
    "\n",
    "### *Vegard H. Larsen (Department of Data Science and Analytics)*"
   ]
  },
  {
   "cell_type": "markdown",
   "id": "6cd075cc",
   "metadata": {
    "slideshow": {
     "slide_type": "slide"
    }
   },
   "source": [
    "# 1. Introducing flow control\n",
    "\n",
    "Flow control refers to the mechanisms that dictate the order in which instructions or blocks of code are executed, enabling programs to dynamically respond based on conditions, repeated actions, or other criteria. Fundamental constructs include the `if`, `elif`, and `else` statements, which facilitate decision-making based on Boolean conditions. Loops, such as `for` and `while`, allow repetitive execution of code until certain conditions are met. Additionally, the `break` and `continue` statements provide further control within loops, enabling early termination or skipping iterations respectively. Mastering flow control is important, as it bestows the capability to craft adaptive and efficient programs, transforming static scripts into interactive and responsive applications."
   ]
  },
  {
   "cell_type": "markdown",
   "id": "ee7ce3e8",
   "metadata": {
    "slideshow": {
     "slide_type": "slide"
    }
   },
   "source": [
    "## Statements for flow control\n",
    "\n",
    "* Conditional statements (covered in lecture 2) is one type of flow control\n",
    "    - `if`\n",
    "    - `if`- `else`\n",
    "    - `if`- `elif` - `else`"
   ]
  },
  {
   "cell_type": "markdown",
   "id": "63e27ea6",
   "metadata": {
    "slideshow": {
     "slide_type": "fragment"
    }
   },
   "source": [
    "* The `match` `case` statements\n",
    "    - Only available for Python 3.10 and onward\n",
    "    - Similar to `switch` in other languages\n",
    "    - Simmilar functionality as the if-statements but can be more compact"
   ]
  },
  {
   "cell_type": "markdown",
   "id": "72349ed1",
   "metadata": {
    "slideshow": {
     "slide_type": "slide"
    }
   },
   "source": [
    "## Statements for flow control, cont.\n",
    "\n",
    "* Iterative statements (a computer is very good at performing the same task many times)\n",
    "    - `for` - Iterates over a predefined sequence \n",
    "    - `while` - Starts by testing if a condition is `True` and repeats a loop as long as the condition is `True`"
   ]
  },
  {
   "cell_type": "markdown",
   "id": "ce2245aa",
   "metadata": {
    "slideshow": {
     "slide_type": "slide"
    }
   },
   "source": [
    "## Statements for flow control, cont.\n",
    "\n",
    "* Transfer statements \n",
    "    - `break` - This statement terminates the loop and transfers execution to the statement that comes after the loop\n",
    "    - `continue` - Causes the loop to skip the remainder of the code in the loop and send the execution back to the head\n",
    "    - `pass` - Is used when you need a statement to comply with the syntax in the program but you don't want to do anything (yet)"
   ]
  },
  {
   "cell_type": "markdown",
   "id": "5240cc4b",
   "metadata": {
    "slideshow": {
     "slide_type": "slide"
    }
   },
   "source": [
    "## The `match` `case` statements\n",
    "\n",
    "- This only works if you have Python 3.10 or higher"
   ]
  },
  {
   "cell_type": "code",
   "execution_count": 1,
   "id": "f23d6874",
   "metadata": {
    "ExecuteTime": {
     "end_time": "2023-08-11T11:53:27.909910Z",
     "start_time": "2023-08-11T11:53:26.220171Z"
    },
    "slideshow": {
     "slide_type": "fragment"
    }
   },
   "outputs": [
    {
     "name": "stdout",
     "output_type": "stream",
     "text": [
      "3.10.8\n"
     ]
    }
   ],
   "source": [
    "# platform is part of the Python Standard Library and gives \n",
    "# access to the underlying identifying data of the platform\n",
    "from platform import python_version\n",
    "print(python_version()) "
   ]
  },
  {
   "cell_type": "markdown",
   "id": "8256274b",
   "metadata": {
    "slideshow": {
     "slide_type": "fragment"
    }
   },
   "source": [
    "* Similar to the `if`-`elif`-`else` statements\n",
    "    - Cleaner code if we have many `elif`´s"
   ]
  },
  {
   "cell_type": "markdown",
   "id": "e2608e49",
   "metadata": {
    "slideshow": {
     "slide_type": "slide"
    }
   },
   "source": [
    "## Example of `match` `case` statement"
   ]
  },
  {
   "cell_type": "code",
   "execution_count": 2,
   "id": "005a3ce2",
   "metadata": {
    "ExecuteTime": {
     "end_time": "2023-08-11T11:53:27.923619Z",
     "start_time": "2023-08-11T11:53:26.221193Z"
    },
    "slideshow": {
     "slide_type": "-"
    }
   },
   "outputs": [],
   "source": [
    "# We want the code to print out the most common color of a fruit\n",
    "fruit = 'Grape'"
   ]
  },
  {
   "cell_type": "code",
   "execution_count": 3,
   "id": "c9848de4",
   "metadata": {
    "ExecuteTime": {
     "end_time": "2023-08-11T11:53:27.924887Z",
     "start_time": "2023-08-11T11:53:26.221900Z"
    },
    "slideshow": {
     "slide_type": "fragment"
    }
   },
   "outputs": [
    {
     "name": "stdout",
     "output_type": "stream",
     "text": [
      "I don't know the color of the fruit\n"
     ]
    }
   ],
   "source": [
    "match fruit:\n",
    "    case 'Banana':\n",
    "        print('The fruit is Yellow')\n",
    "    case 'Apple':\n",
    "        print('The fruit is Red')\n",
    "    case 'Pear':\n",
    "        print('The fruit is Green')\n",
    "    case _:\n",
    "        # This is executed if nothing else is executed, must be placed at the end\n",
    "        print(\"I don't know the color of the fruit\")"
   ]
  },
  {
   "cell_type": "markdown",
   "id": "a1a46512",
   "metadata": {
    "slideshow": {
     "slide_type": "slide"
    }
   },
   "source": [
    "# 2. Loops\n",
    "\n",
    "Loops are foundational constructs that facilitate the repetitive execution of a block of code, allowing tasks like data processing or user interaction to occur multiple times without redundant coding. The two primary types of loops are `for` and `while`. The `for` loop iterates over items in a sequence, such as elements in a list or characters in a string. For instance, `for item in [1, 2, 3]:` would process each number sequentially. Conversely, the `while` loop continues execution as long as a specific condition remains true, like `while counter < 10:`. Within these loops, the `break` statement can terminate the loop prematurely, while the `continue` statement can skip to the next iteration, bypassing the remainder of the loop's current cycle."
   ]
  },
  {
   "cell_type": "markdown",
   "id": "b7dde7ac",
   "metadata": {
    "slideshow": {
     "slide_type": "slide"
    }
   },
   "source": [
    "## The `for` loop\n",
    "\n",
    "- Repeats a block of code a fixed number of times"
   ]
  },
  {
   "cell_type": "markdown",
   "id": "3612e9f0",
   "metadata": {
    "slideshow": {
     "slide_type": "fragment"
    }
   },
   "source": [
    "- As with the `if` statement we need to use indentations and they must be consistent throughout the whole indentation block "
   ]
  },
  {
   "cell_type": "markdown",
   "id": "5d7da4e4",
   "metadata": {
    "slideshow": {
     "slide_type": "fragment"
    }
   },
   "source": [
    "- Must be used with and iterable object such as a `list`, `tuple`, `string` or `range`"
   ]
  },
  {
   "cell_type": "code",
   "execution_count": 4,
   "id": "80df8894",
   "metadata": {
    "ExecuteTime": {
     "end_time": "2023-08-11T11:53:28.158135Z",
     "start_time": "2023-08-11T11:53:26.223662Z"
    },
    "slideshow": {
     "slide_type": "fragment"
    }
   },
   "outputs": [
    {
     "name": "stdout",
     "output_type": "stream",
     "text": [
      "1\n",
      "2\n",
      "3\n"
     ]
    }
   ],
   "source": [
    "fruits = (1, 2, 3)  # Create a list of fruits that we will loop through\n",
    "\n",
    "for fruit in fruits:                     # Syntax: for item in iterable_object:\n",
    "    print(fruit)                         # This code block will be repeated"
   ]
  },
  {
   "cell_type": "markdown",
   "id": "870ba2cd",
   "metadata": {
    "slideshow": {
     "slide_type": "slide"
    }
   },
   "source": [
    "## Iterate through a set of numbers:"
   ]
  },
  {
   "cell_type": "code",
   "execution_count": 5,
   "id": "21a84cd3",
   "metadata": {
    "ExecuteTime": {
     "end_time": "2023-08-11T11:53:28.158396Z",
     "start_time": "2023-08-11T11:53:26.227603Z"
    },
    "slideshow": {
     "slide_type": "-"
    }
   },
   "outputs": [
    {
     "name": "stdout",
     "output_type": "stream",
     "text": [
      "0\n",
      "1\n",
      "4\n",
      "9\n",
      "16\n",
      "25\n",
      "36\n",
      "49\n",
      "64\n",
      "81\n",
      "100\n"
     ]
    }
   ],
   "source": [
    "index = [0, 1, 2, 3, 4, 5, 6, 7, 8, 9, 10]\n",
    "\n",
    "for i in index:\n",
    "    print(i**2)"
   ]
  },
  {
   "cell_type": "markdown",
   "id": "8a716e96",
   "metadata": {
    "slideshow": {
     "slide_type": "slide"
    }
   },
   "source": [
    "## The `range()` function\n",
    "\n",
    "- This is a built-in function that can help us when we want to iterate through something\n",
    "- By default, the `range()` function returns a sequence of numbers, starting from 0, and increments by 1, until ends on the specified number minus 1\n",
    "- The function returns an object of type `range`"
   ]
  },
  {
   "cell_type": "markdown",
   "id": "5101599f",
   "metadata": {
    "slideshow": {
     "slide_type": "slide"
    }
   },
   "source": [
    "## Using `range()`"
   ]
  },
  {
   "cell_type": "code",
   "execution_count": 6,
   "id": "3212deea",
   "metadata": {
    "ExecuteTime": {
     "end_time": "2023-08-11T11:53:28.158546Z",
     "start_time": "2023-08-11T11:53:26.229584Z"
    }
   },
   "outputs": [
    {
     "name": "stdout",
     "output_type": "stream",
     "text": [
      "0\n",
      "1\n",
      "2\n",
      "3\n"
     ]
    }
   ],
   "source": [
    "# Print out the numbers from 0 to 3 (3 included) \n",
    "\n",
    "for index in range(4):\n",
    "    print(index)"
   ]
  },
  {
   "cell_type": "code",
   "execution_count": 7,
   "id": "b4aee409",
   "metadata": {
    "ExecuteTime": {
     "end_time": "2023-08-11T11:53:28.158727Z",
     "start_time": "2023-08-11T11:53:26.231971Z"
    },
    "slideshow": {
     "slide_type": "fragment"
    }
   },
   "outputs": [
    {
     "name": "stdout",
     "output_type": "stream",
     "text": [
      "0\n",
      "1\n",
      "2\n",
      "3\n",
      "4\n",
      "5\n",
      "6\n",
      "7\n",
      "8\n",
      "9\n"
     ]
    }
   ],
   "source": [
    "# We can specify different start and stop, and what step to use\n",
    "\n",
    "for x in range(0, 10, 1):\n",
    "    print(x)"
   ]
  },
  {
   "cell_type": "code",
   "execution_count": 8,
   "id": "ff180168",
   "metadata": {
    "ExecuteTime": {
     "end_time": "2023-08-11T11:53:28.158878Z",
     "start_time": "2023-08-11T11:53:26.233782Z"
    },
    "slideshow": {
     "slide_type": "fragment"
    }
   },
   "outputs": [
    {
     "name": "stdout",
     "output_type": "stream",
     "text": [
      "[0, 1, 2, 3]\n"
     ]
    }
   ],
   "source": [
    "# range is its own type\n",
    "\n",
    "print(list(range(4)))"
   ]
  },
  {
   "cell_type": "markdown",
   "id": "0580e41f",
   "metadata": {
    "slideshow": {
     "slide_type": "slide"
    }
   },
   "source": [
    "## Example"
   ]
  },
  {
   "cell_type": "code",
   "execution_count": 9,
   "id": "bee0bac3",
   "metadata": {
    "ExecuteTime": {
     "end_time": "2023-08-11T11:53:28.158953Z",
     "start_time": "2023-08-11T11:53:26.235835Z"
    }
   },
   "outputs": [],
   "source": [
    "# Use the list function to create a list of letters\n",
    "\n",
    "letters = list('abcdefghijklmnopqrstvuwxyz')"
   ]
  },
  {
   "cell_type": "code",
   "execution_count": 10,
   "id": "89381e73",
   "metadata": {
    "ExecuteTime": {
     "end_time": "2023-08-11T11:53:28.159095Z",
     "start_time": "2023-08-11T11:53:26.238504Z"
    },
    "slideshow": {
     "slide_type": "fragment"
    }
   },
   "outputs": [
    {
     "name": "stdout",
     "output_type": "stream",
     "text": [
      "a\n",
      "g\n",
      "m\n",
      "s\n",
      "y\n"
     ]
    }
   ],
   "source": [
    "# Code that prints every third letter\n",
    "\n",
    "for i in range(0,27,6):\n",
    "    print(letters[i])"
   ]
  },
  {
   "cell_type": "markdown",
   "id": "1b8087cd",
   "metadata": {
    "slideshow": {
     "slide_type": "slide"
    }
   },
   "source": [
    "## Nested loops\n",
    "    - A loop statement inside another loop statement."
   ]
  },
  {
   "cell_type": "code",
   "execution_count": 11,
   "id": "72a94eee",
   "metadata": {
    "ExecuteTime": {
     "end_time": "2023-08-11T11:53:28.159172Z",
     "start_time": "2023-08-11T11:53:26.240118Z"
    },
    "slideshow": {
     "slide_type": "-"
    }
   },
   "outputs": [],
   "source": [
    "# Create two lists one with days and one with weeks\n",
    "\n",
    "days = ['Monday', 'Tuesday', 'Wednesday', 'Thursday', 'Friday']\n",
    "weeks = ['week_one', 'week_two', 'week_three', 'week_four']"
   ]
  },
  {
   "cell_type": "code",
   "execution_count": 12,
   "id": "6837106e",
   "metadata": {
    "ExecuteTime": {
     "end_time": "2023-08-11T11:53:28.159241Z",
     "start_time": "2023-08-11T11:53:26.242654Z"
    },
    "slideshow": {
     "slide_type": "fragment"
    }
   },
   "outputs": [],
   "source": [
    "days_and_weeks = [] # A new list that will have both days and weeks ['Monday_week_one'...]\n",
    "\n",
    "# We run a loop within a loop to combine the two lists days and weeks \n",
    "for week in weeks:\n",
    "    #print(week)\n",
    "    for day in days:\n",
    "        #print(day)\n",
    "        days_and_weeks.append(day + '_' + week)"
   ]
  },
  {
   "cell_type": "code",
   "execution_count": 13,
   "id": "a9af33ef",
   "metadata": {
    "ExecuteTime": {
     "end_time": "2023-08-11T11:53:28.159520Z",
     "start_time": "2023-08-11T11:53:26.245878Z"
    }
   },
   "outputs": [
    {
     "data": {
      "text/plain": [
       "['Monday_week_one',\n",
       " 'Tuesday_week_one',\n",
       " 'Wednesday_week_one',\n",
       " 'Thursday_week_one',\n",
       " 'Friday_week_one',\n",
       " 'Monday_week_two',\n",
       " 'Tuesday_week_two',\n",
       " 'Wednesday_week_two',\n",
       " 'Thursday_week_two',\n",
       " 'Friday_week_two',\n",
       " 'Monday_week_three',\n",
       " 'Tuesday_week_three',\n",
       " 'Wednesday_week_three',\n",
       " 'Thursday_week_three',\n",
       " 'Friday_week_three',\n",
       " 'Monday_week_four',\n",
       " 'Tuesday_week_four',\n",
       " 'Wednesday_week_four',\n",
       " 'Thursday_week_four',\n",
       " 'Friday_week_four']"
      ]
     },
     "execution_count": 13,
     "metadata": {},
     "output_type": "execute_result"
    }
   ],
   "source": [
    "days_and_weeks"
   ]
  },
  {
   "cell_type": "code",
   "execution_count": 14,
   "id": "4c9e8976",
   "metadata": {
    "ExecuteTime": {
     "end_time": "2023-08-11T11:53:28.160121Z",
     "start_time": "2023-08-11T11:53:26.251875Z"
    },
    "slideshow": {
     "slide_type": "fragment"
    }
   },
   "outputs": [
    {
     "name": "stdout",
     "output_type": "stream",
     "text": [
      "Monday_week_one\n",
      "Tuesday_week_one\n",
      "Wednesday_week_one\n",
      "Thursday_week_one\n",
      "Friday_week_one\n",
      "Monday_week_two\n",
      "Tuesday_week_two\n",
      "Wednesday_week_two\n",
      "Thursday_week_two\n",
      "Friday_week_two\n",
      "Monday_week_three\n",
      "Tuesday_week_three\n",
      "Wednesday_week_three\n",
      "Thursday_week_three\n",
      "Friday_week_three\n",
      "Monday_week_four\n",
      "Tuesday_week_four\n",
      "Wednesday_week_four\n",
      "Thursday_week_four\n",
      "Friday_week_four\n"
     ]
    }
   ],
   "source": [
    "# Print out the new list with the combined days and weeks\n",
    "\n",
    "for day in days_and_weeks:\n",
    "    print(day)"
   ]
  },
  {
   "cell_type": "markdown",
   "id": "99292cc3",
   "metadata": {
    "slideshow": {
     "slide_type": "slide"
    }
   },
   "source": [
    "## List comprehension\n",
    "\n",
    " - Short syntax for creating a new list based on the values of an existing list"
   ]
  },
  {
   "cell_type": "code",
   "execution_count": 15,
   "id": "6540608a",
   "metadata": {
    "ExecuteTime": {
     "end_time": "2023-08-11T11:53:28.160358Z",
     "start_time": "2023-08-11T11:53:26.253959Z"
    },
    "slideshow": {
     "slide_type": "fragment"
    }
   },
   "outputs": [
    {
     "name": "stdout",
     "output_type": "stream",
     "text": [
      "['MONDAY', 'TUESDAY', 'WEDNESDAY', 'THURSDAY', 'FRIDAY']\n"
     ]
    }
   ],
   "source": [
    "days = ['Monday', 'Tuesday', 'Wednesday', 'Thursday', 'Friday'] \n",
    "\n",
    "# Using a standard for-loop to make the days into uppercase (in three lines of code)\n",
    "\n",
    "DAYS  = []\n",
    "for day in days: \n",
    "    DAYS.append(day.upper())\n",
    "print(DAYS)"
   ]
  },
  {
   "cell_type": "code",
   "execution_count": 16,
   "id": "ad539774",
   "metadata": {
    "ExecuteTime": {
     "end_time": "2023-08-11T11:53:28.160501Z",
     "start_time": "2023-08-11T11:53:26.256580Z"
    },
    "slideshow": {
     "slide_type": "fragment"
    }
   },
   "outputs": [
    {
     "name": "stdout",
     "output_type": "stream",
     "text": [
      "[0, 1, 4, 9, 16]\n"
     ]
    }
   ],
   "source": [
    "# Using list comprehension (one line of code) to do the same\n",
    "\n",
    "numbers_squared = [number**2 for number in range(5)]\n",
    "print(numbers_squared)"
   ]
  },
  {
   "cell_type": "markdown",
   "id": "cea05a53",
   "metadata": {
    "slideshow": {
     "slide_type": "slide"
    }
   },
   "source": [
    "## General syntax for list comprehension\n",
    "\n",
    "`[expression for item in iterable if condition == True]`"
   ]
  },
  {
   "cell_type": "code",
   "execution_count": 17,
   "id": "a659269a",
   "metadata": {
    "ExecuteTime": {
     "end_time": "2023-08-11T11:53:28.160575Z",
     "start_time": "2023-08-11T11:53:26.258793Z"
    },
    "slideshow": {
     "slide_type": "fragment"
    }
   },
   "outputs": [],
   "source": [
    "# Adding an if statement\n",
    "# Note that this added condition is evaluated \n",
    "# for the initial list of days not the new one\n",
    "\n",
    "days_c = [day.upper() for day in days if day != 'Monday']"
   ]
  },
  {
   "cell_type": "code",
   "execution_count": 18,
   "id": "01a68a28",
   "metadata": {
    "ExecuteTime": {
     "end_time": "2023-08-11T11:53:28.160718Z",
     "start_time": "2023-08-11T11:53:26.260489Z"
    },
    "slideshow": {
     "slide_type": "fragment"
    }
   },
   "outputs": [
    {
     "name": "stdout",
     "output_type": "stream",
     "text": [
      "['TUESDAY', 'WEDNESDAY', 'THURSDAY', 'FRIDAY']\n"
     ]
    }
   ],
   "source": [
    "print(days_c)"
   ]
  },
  {
   "cell_type": "markdown",
   "id": "1179bd70",
   "metadata": {
    "slideshow": {
     "slide_type": "slide"
    }
   },
   "source": [
    "## The `enumerate()` function\n",
    "\n",
    "- Useful when we want both the index and the value of an iterable object such as a list"
   ]
  },
  {
   "cell_type": "code",
   "execution_count": 19,
   "id": "8a35f9c5",
   "metadata": {
    "ExecuteTime": {
     "end_time": "2023-08-11T11:53:28.160864Z",
     "start_time": "2023-08-11T11:53:26.263162Z"
    },
    "slideshow": {
     "slide_type": "fragment"
    }
   },
   "outputs": [
    {
     "name": "stdout",
     "output_type": "stream",
     "text": [
      "The index is: 0\n",
      "Then the value is: a\n",
      "\n",
      "The index is: 1\n",
      "Then the value is: b\n",
      "\n",
      "The index is: 2\n",
      "Then the value is: c\n"
     ]
    }
   ],
   "source": [
    "for idx, val in enumerate(['a', 'b', 'c']):\n",
    "    print(f'The index is: {idx}')\n",
    "    print(f'Then the value is: {val}\\n')"
   ]
  },
  {
   "cell_type": "markdown",
   "id": "11c9bdd3",
   "metadata": {
    "slideshow": {
     "slide_type": "slide"
    }
   },
   "source": [
    "## The `while` loop\n",
    "\n",
    "- The while loop executes a set of statements as long as a condition is true"
   ]
  },
  {
   "cell_type": "markdown",
   "id": "2d8b9797",
   "metadata": {
    "slideshow": {
     "slide_type": "fragment"
    }
   },
   "source": [
    "- An indefinite iteration"
   ]
  },
  {
   "cell_type": "markdown",
   "id": "78a7d495",
   "metadata": {
    "slideshow": {
     "slide_type": "fragment"
    }
   },
   "source": [
    "- Need something in the code block of the while loop to change so the condition turn `False` "
   ]
  },
  {
   "cell_type": "code",
   "execution_count": 20,
   "id": "ba0eafe9",
   "metadata": {
    "ExecuteTime": {
     "end_time": "2023-08-11T11:53:28.160996Z",
     "start_time": "2023-08-11T11:53:26.265713Z"
    },
    "slideshow": {
     "slide_type": "fragment"
    }
   },
   "outputs": [
    {
     "name": "stdout",
     "output_type": "stream",
     "text": [
      "10\n",
      "9\n",
      "8\n",
      "7\n",
      "6\n"
     ]
    }
   ],
   "source": [
    "x = 10\n",
    "while x > 5:     # The head of the while loop runs as long as a condition is True\n",
    "    print(x)     # As in the for loop we need to make an indentation to define the code block\n",
    "    x = x - 1    "
   ]
  },
  {
   "cell_type": "markdown",
   "id": "750f3c9c",
   "metadata": {
    "slideshow": {
     "slide_type": "slide"
    }
   },
   "source": [
    "## Example with a non-numeric comparison"
   ]
  },
  {
   "cell_type": "code",
   "execution_count": 21,
   "id": "c266e77d",
   "metadata": {
    "ExecuteTime": {
     "end_time": "2023-08-11T11:53:28.161133Z",
     "start_time": "2023-08-11T11:53:26.268440Z"
    },
    "slideshow": {
     "slide_type": "-"
    }
   },
   "outputs": [
    {
     "name": "stdout",
     "output_type": "stream",
     "text": [
      "apple\n",
      "orange\n",
      "banana\n"
     ]
    }
   ],
   "source": [
    "# Remove the fruits starting from the back of the list\n",
    "# And print out the string that is removed\n",
    "\n",
    "fruits = ['apple', 'orange', 'banana']\n",
    "while fruits:\n",
    "    print(fruits.pop(0))"
   ]
  },
  {
   "cell_type": "code",
   "execution_count": 22,
   "id": "d56282d5",
   "metadata": {
    "ExecuteTime": {
     "end_time": "2023-08-11T11:53:28.161292Z",
     "start_time": "2023-08-11T11:53:26.270427Z"
    }
   },
   "outputs": [
    {
     "data": {
      "text/plain": [
       "'orange'"
      ]
     },
     "execution_count": 22,
     "metadata": {},
     "output_type": "execute_result"
    }
   ],
   "source": [
    "fruits = ['apple', 'orange', 'banana']\n",
    "fruits.pop(1)"
   ]
  },
  {
   "cell_type": "code",
   "execution_count": 23,
   "id": "901f4040",
   "metadata": {
    "ExecuteTime": {
     "end_time": "2023-08-11T11:53:28.161448Z",
     "start_time": "2023-08-11T11:53:26.272153Z"
    }
   },
   "outputs": [
    {
     "data": {
      "text/plain": [
       "['apple', 'banana']"
      ]
     },
     "execution_count": 23,
     "metadata": {},
     "output_type": "execute_result"
    }
   ],
   "source": [
    "fruits"
   ]
  },
  {
   "cell_type": "markdown",
   "id": "68064a65",
   "metadata": {
    "slideshow": {
     "slide_type": "slide"
    }
   },
   "source": [
    "## The `continue` and `break` statements\n",
    "\n",
    "- We can use `continue` to interrupt the current iteration and continue with the next one.\n",
    "\n",
    "- We can interrupt the whole loop with `break`."
   ]
  },
  {
   "cell_type": "code",
   "execution_count": 24,
   "id": "1ad4ff90",
   "metadata": {
    "ExecuteTime": {
     "end_time": "2023-08-11T11:53:28.161658Z",
     "start_time": "2023-08-11T11:53:26.277350Z"
    },
    "slideshow": {
     "slide_type": "fragment"
    }
   },
   "outputs": [
    {
     "name": "stdout",
     "output_type": "stream",
     "text": [
      "If condition False\n",
      "eric\n",
      "If condition False\n",
      "mark\n",
      "_____\n",
      "done\n"
     ]
    }
   ],
   "source": [
    "# The continue statement will end the current iteration and move to the top of the loop\n",
    "# and continue with the next element in the sequence (in this case the list)\n",
    "\n",
    "names = ['eric', 'lisa', 'mark', 'ted']\n",
    "for name in names:\n",
    "    if name == 'ted' or name == 'lisa':\n",
    "        continue\n",
    "    else:\n",
    "        print('If condition False')\n",
    "    print(name)\n",
    "print(\"_____\\ndone\")"
   ]
  },
  {
   "cell_type": "code",
   "execution_count": 25,
   "id": "68111e49",
   "metadata": {
    "ExecuteTime": {
     "end_time": "2023-08-11T11:53:28.161809Z",
     "start_time": "2023-08-11T11:53:26.279849Z"
    },
    "slideshow": {
     "slide_type": "slide"
    }
   },
   "outputs": [
    {
     "name": "stdout",
     "output_type": "stream",
     "text": [
      "eric\n",
      "_____\n",
      "done\n"
     ]
    }
   ],
   "source": [
    "# The break statement will end the whole loop \n",
    "\n",
    "names = ['eric', 'lisa', 'mark', 'ted']\n",
    "for name in names:\n",
    "    if name == 'lisa':\n",
    "        break\n",
    "    print(name)\n",
    "print(\"_____\\ndone\")"
   ]
  },
  {
   "cell_type": "markdown",
   "id": "eaeb94f0",
   "metadata": {
    "slideshow": {
     "slide_type": "slide"
    }
   },
   "source": [
    "# 3. Exception handling\n",
    "\n",
    "Exception handling provides a structured way to anticipate and respond to errors that might arise during program execution. Using the `try` and `except` blocks, a programmer can \"try\" a segment of code that might raise an error and \"catch\" that error with an `except` block, allowing the program to continue running or provide informative feedback rather than abruptly crashing. \n",
    "\n",
    "For example, while dividing by zero in Python typically causes a program to terminate with a `ZeroDivisionError`, utilizing exception handling can offer a custom message or alternative action. Additionally, the `finally` block can be used to specify actions that must be executed regardless of whether an error occurs, often useful for cleanup tasks."
   ]
  },
  {
   "cell_type": "markdown",
   "id": "5b242be7",
   "metadata": {},
   "source": [
    "## How can we avoid errors with the `try` statement\n",
    "\n",
    "- A Python program terminates as soon as it encounters an error.\n",
    "- A program can be syntactically correct, but during its execution something happens that can cause an error.\n"
   ]
  },
  {
   "cell_type": "code",
   "execution_count": 26,
   "id": "7de5b91f",
   "metadata": {
    "ExecuteTime": {
     "end_time": "2023-08-11T11:53:28.161882Z",
     "start_time": "2023-08-11T11:53:26.282144Z"
    },
    "slideshow": {
     "slide_type": "fragment"
    }
   },
   "outputs": [],
   "source": [
    "# This is the syntax for the try statement. \n",
    "# Only the try and except key-words are mandatory. The other blocks can be dropped\n",
    "\n",
    "try:\n",
    "    # put the code that might cause an exception here\n",
    "    # if it causes an error \n",
    "    pass\n",
    "except:\n",
    "    # this will be executed if an error occur in the block bellow the try statement \n",
    "    pass\n",
    "else:\n",
    "    # this will be executed if there is no exceptions\n",
    "    pass\n",
    "finally:\n",
    "    # this will be executed no matter what happens above\n",
    "    pass"
   ]
  },
  {
   "cell_type": "markdown",
   "id": "ed8f2ccc",
   "metadata": {
    "slideshow": {
     "slide_type": "slide"
    }
   },
   "source": [
    "## Examples"
   ]
  },
  {
   "cell_type": "code",
   "execution_count": 27,
   "id": "2e4b1c36",
   "metadata": {
    "ExecuteTime": {
     "end_time": "2023-08-11T11:53:28.162015Z",
     "start_time": "2023-08-11T11:53:26.284335Z"
    }
   },
   "outputs": [
    {
     "name": "stdout",
     "output_type": "stream",
     "text": [
      "Can't divide by zero\n"
     ]
    }
   ],
   "source": [
    "try:\n",
    "    print(5/0)\n",
    "    print('It worked')\n",
    "except:\n",
    "    print('Can\\'t divide by zero')"
   ]
  },
  {
   "cell_type": "code",
   "execution_count": 28,
   "id": "f3b66a55",
   "metadata": {
    "ExecuteTime": {
     "end_time": "2023-08-11T11:53:28.162156Z",
     "start_time": "2023-08-11T11:53:26.286783Z"
    },
    "slideshow": {
     "slide_type": "fragment"
    }
   },
   "outputs": [
    {
     "name": "stdout",
     "output_type": "stream",
     "text": [
      "Can't divide by zero\n"
     ]
    }
   ],
   "source": [
    "# We can specify the exceptions we want to catch\n",
    "# This code will only catch the ZeroDivisionError\n",
    "\n",
    "try:\n",
    "    print(5/0)\n",
    "except ZeroDivisionError:\n",
    "    print('Can\\'t divide by zero')"
   ]
  },
  {
   "cell_type": "code",
   "execution_count": 29,
   "id": "56c23ab4",
   "metadata": {
    "ExecuteTime": {
     "end_time": "2023-08-11T11:53:28.162301Z",
     "start_time": "2023-08-11T11:53:26.289623Z"
    },
    "slideshow": {
     "slide_type": "fragment"
    }
   },
   "outputs": [
    {
     "name": "stdout",
     "output_type": "stream",
     "text": [
      "Something else went wrong\n"
     ]
    }
   ],
   "source": [
    "# This will catch all errors, but will behave differently for a ZeroDivisionError\n",
    "\n",
    "try:\n",
    "    print(5/'0')\n",
    "except ZeroDivisionError:\n",
    "    print('Can\\'t divide by zero')\n",
    "except:\n",
    "    print('Something else went wrong')"
   ]
  },
  {
   "cell_type": "markdown",
   "id": "511b4f31",
   "metadata": {
    "slideshow": {
     "slide_type": "slide"
    }
   },
   "source": [
    "## Examples, cont."
   ]
  },
  {
   "cell_type": "code",
   "execution_count": 30,
   "id": "22d029cb",
   "metadata": {
    "ExecuteTime": {
     "end_time": "2023-08-11T11:53:28.162446Z",
     "start_time": "2023-08-11T11:53:26.291016Z"
    }
   },
   "outputs": [
    {
     "name": "stdout",
     "output_type": "stream",
     "text": [
      "5.0\n",
      "No exceptions\n"
     ]
    }
   ],
   "source": [
    "# The else block will be executed if there is no error\n",
    "\n",
    "try:\n",
    "    print(5/1)\n",
    "except ZeroDivisionError:\n",
    "    print('Can\\'t divide by zero')\n",
    "else:\n",
    "    print('No exceptions')"
   ]
  },
  {
   "cell_type": "code",
   "execution_count": 31,
   "id": "71337555",
   "metadata": {
    "ExecuteTime": {
     "end_time": "2023-08-11T11:53:28.162583Z",
     "start_time": "2023-08-11T11:53:26.294531Z"
    },
    "slideshow": {
     "slide_type": "fragment"
    }
   },
   "outputs": [
    {
     "name": "stdout",
     "output_type": "stream",
     "text": [
      "Can't divide by zero\n",
      "This will always be done!\n"
     ]
    }
   ],
   "source": [
    "# The finally block will always be executed\n",
    "\n",
    "try:\n",
    "    print(5/0)\n",
    "except ZeroDivisionError:\n",
    "    print('Can\\'t divide by zero')\n",
    "else:\n",
    "    print('No exceptions')\n",
    "finally:\n",
    "    print('This will always be done!')"
   ]
  }
 ],
 "metadata": {
  "celltoolbar": "Slideshow",
  "kernelspec": {
   "display_name": "Python 3 (ipykernel)",
   "language": "python",
   "name": "python3"
  },
  "language_info": {
   "codemirror_mode": {
    "name": "ipython",
    "version": 3
   },
   "file_extension": ".py",
   "mimetype": "text/x-python",
   "name": "python",
   "nbconvert_exporter": "python",
   "pygments_lexer": "ipython3",
   "version": "3.11.4"
  }
 },
 "nbformat": 4,
 "nbformat_minor": 5
}
