{
 "cells": [
  {
   "cell_type": "markdown",
   "id": "8c8465f3",
   "metadata": {
    "slideshow": {
     "slide_type": "slide"
    }
   },
   "source": [
    "# Python and SQL\n",
    "\n",
    "## Programming and Data Management (EDI 3400)\n",
    "\n",
    "### *Vegard H. Larsen (Department of Data Science and Analytics)*"
   ]
  },
  {
   "cell_type": "markdown",
   "id": "ff47e723",
   "metadata": {
    "slideshow": {
     "slide_type": "slide"
    }
   },
   "source": [
    "# 1.  Intro to `sqlite3`"
   ]
  },
  {
   "cell_type": "code",
   "execution_count": 1,
   "id": "4f10e03d",
   "metadata": {
    "slideshow": {
     "slide_type": "slide"
    }
   },
   "outputs": [],
   "source": [
    "# sqlite3 is part of the Standard Library\n",
    "\n",
    "import sqlite3"
   ]
  },
  {
   "cell_type": "code",
   "execution_count": 2,
   "id": "5bfa9c1f",
   "metadata": {
    "slideshow": {
     "slide_type": "fragment"
    }
   },
   "outputs": [],
   "source": [
    "# We can connect to our database\n",
    "# Make sure the database is stored in the same folder as the notebook\n",
    "\n",
    "con = sqlite3.connect(\"auto_dealership_database.db\")"
   ]
  },
  {
   "cell_type": "code",
   "execution_count": 3,
   "id": "8c50c146",
   "metadata": {
    "slideshow": {
     "slide_type": "fragment"
    }
   },
   "outputs": [],
   "source": [
    "# In order to execute SQL statements and fetch results from SQL queries, \n",
    "# we will need to use a database cursor.\n",
    "\n",
    "cur = con.cursor()"
   ]
  },
  {
   "cell_type": "markdown",
   "id": "a6b852f0",
   "metadata": {
    "slideshow": {
     "slide_type": "slide"
    }
   },
   "source": [
    "## Executing a query"
   ]
  },
  {
   "cell_type": "code",
   "execution_count": 17,
   "id": "924095bf",
   "metadata": {
    "slideshow": {
     "slide_type": "-"
    }
   },
   "outputs": [],
   "source": [
    "# Now we are connected to the database and we have a cursor \n",
    "# and we can execute an SQL query\n",
    "\n",
    "res = cur.execute(\"SELECT * FROM Employees\")"
   ]
  },
  {
   "cell_type": "code",
   "execution_count": 16,
   "id": "309ca049",
   "metadata": {
    "slideshow": {
     "slide_type": "fragment"
    }
   },
   "outputs": [
    {
     "data": {
      "text/plain": [
       "(1, 'Erik', 114100, 'Bachelor', 'Sales')"
      ]
     },
     "execution_count": 16,
     "metadata": {},
     "output_type": "execute_result"
    }
   ],
   "source": [
    "# This gives us a cursor object\n",
    "\n",
    "#res.fetchone()"
   ]
  },
  {
   "cell_type": "code",
   "execution_count": 18,
   "id": "40b260f7",
   "metadata": {
    "slideshow": {
     "slide_type": "fragment"
    }
   },
   "outputs": [],
   "source": [
    "# We can get all the information from the query using fetchall\n",
    "\n",
    "employees_table = res.fetchall()"
   ]
  },
  {
   "cell_type": "code",
   "execution_count": 19,
   "id": "83a0d374",
   "metadata": {
    "slideshow": {
     "slide_type": "slide"
    }
   },
   "outputs": [
    {
     "data": {
      "text/plain": [
       "[(1, 'Erik', 114100, 'Bachelor', 'Sales'),\n",
       " (2, 'Sue', 116200, 'Bachelor', 'Admin'),\n",
       " (3, 'Linda', 67200, 'High School', 'Admin'),\n",
       " (4, 'Anne', 75900, 'Master', 'Service'),\n",
       " (5, 'Mary', 89100, 'Bachelor', 'Service'),\n",
       " (6, 'Tom', 95900, 'Bachelor', 'Sales'),\n",
       " (7, 'John', 148200, 'Bachelor', 'Sales'),\n",
       " (8, 'Joe', 148100, 'Master', 'Sales'),\n",
       " (9, 'Sofia', 117100, 'Bachelor', 'Sales'),\n",
       " (10, 'Marie', 79000, 'Bachelor', 'Admin'),\n",
       " (11, 'Bob', 72200, 'High School', 'Sales'),\n",
       " (12, 'Fred', 102000, 'High School', 'Sales'),\n",
       " (13, 'Sara', 59600, 'High School', 'Sales'),\n",
       " (14, 'Linda', 116300, 'Bachelor', 'Sales'),\n",
       " (15, 'Anne', 45600, 'Bachelor', 'Service'),\n",
       " (16, 'Karl', 136100, 'Master', 'Sales'),\n",
       " (17, 'Sally', 84100, 'Bachelor', 'Service'),\n",
       " (18, 'Tom', 79300, 'High School', 'Admin'),\n",
       " (19, 'Sara', 67200, 'High School', 'Service'),\n",
       " (20, 'Jane', 42300, 'High School', 'Service'),\n",
       " (21, 'Eli', 176500, 'Master', 'Sales'),\n",
       " (22, 'John', 44900, 'High School', 'Service'),\n",
       " (23, 'Chris', 68800, 'High School', 'Sales'),\n",
       " (24, 'Nora', 77300, 'High School', 'Sales'),\n",
       " (25, 'Mary', 104600, 'Master', 'Sales'),\n",
       " (26, 'Fredrik', 105700, 'Master', 'Service'),\n",
       " (27, 'Ina', 81200, 'High School', 'Sales'),\n",
       " (28, 'Sofia', 37800, 'High School', 'Service')]"
      ]
     },
     "execution_count": 19,
     "metadata": {},
     "output_type": "execute_result"
    }
   ],
   "source": [
    "# The data is then stored as a list of tuples\n",
    "\n",
    "employees_table"
   ]
  },
  {
   "cell_type": "markdown",
   "id": "d34c9bb2",
   "metadata": {
    "slideshow": {
     "slide_type": "slide"
    }
   },
   "source": [
    "## Convert the list into a Pandas dataframe"
   ]
  },
  {
   "cell_type": "code",
   "execution_count": 20,
   "id": "4d6564a0",
   "metadata": {
    "scrolled": true,
    "slideshow": {
     "slide_type": "-"
    }
   },
   "outputs": [],
   "source": [
    "import pandas as pd\n",
    "\n",
    "Employees = pd.DataFrame(employees_table)"
   ]
  },
  {
   "cell_type": "code",
   "execution_count": 21,
   "id": "9a85a0a4",
   "metadata": {
    "slideshow": {
     "slide_type": "fragment"
    }
   },
   "outputs": [
    {
     "data": {
      "text/html": [
       "<div>\n",
       "<style scoped>\n",
       "    .dataframe tbody tr th:only-of-type {\n",
       "        vertical-align: middle;\n",
       "    }\n",
       "\n",
       "    .dataframe tbody tr th {\n",
       "        vertical-align: top;\n",
       "    }\n",
       "\n",
       "    .dataframe thead th {\n",
       "        text-align: right;\n",
       "    }\n",
       "</style>\n",
       "<table border=\"1\" class=\"dataframe\">\n",
       "  <thead>\n",
       "    <tr style=\"text-align: right;\">\n",
       "      <th></th>\n",
       "      <th>0</th>\n",
       "      <th>1</th>\n",
       "      <th>2</th>\n",
       "      <th>3</th>\n",
       "      <th>4</th>\n",
       "    </tr>\n",
       "  </thead>\n",
       "  <tbody>\n",
       "    <tr>\n",
       "      <th>0</th>\n",
       "      <td>1</td>\n",
       "      <td>Erik</td>\n",
       "      <td>114100</td>\n",
       "      <td>Bachelor</td>\n",
       "      <td>Sales</td>\n",
       "    </tr>\n",
       "    <tr>\n",
       "      <th>1</th>\n",
       "      <td>2</td>\n",
       "      <td>Sue</td>\n",
       "      <td>116200</td>\n",
       "      <td>Bachelor</td>\n",
       "      <td>Admin</td>\n",
       "    </tr>\n",
       "    <tr>\n",
       "      <th>2</th>\n",
       "      <td>3</td>\n",
       "      <td>Linda</td>\n",
       "      <td>67200</td>\n",
       "      <td>High School</td>\n",
       "      <td>Admin</td>\n",
       "    </tr>\n",
       "    <tr>\n",
       "      <th>3</th>\n",
       "      <td>4</td>\n",
       "      <td>Anne</td>\n",
       "      <td>75900</td>\n",
       "      <td>Master</td>\n",
       "      <td>Service</td>\n",
       "    </tr>\n",
       "    <tr>\n",
       "      <th>4</th>\n",
       "      <td>5</td>\n",
       "      <td>Mary</td>\n",
       "      <td>89100</td>\n",
       "      <td>Bachelor</td>\n",
       "      <td>Service</td>\n",
       "    </tr>\n",
       "  </tbody>\n",
       "</table>\n",
       "</div>"
      ],
      "text/plain": [
       "   0      1       2            3        4\n",
       "0  1   Erik  114100     Bachelor    Sales\n",
       "1  2    Sue  116200     Bachelor    Admin\n",
       "2  3  Linda   67200  High School    Admin\n",
       "3  4   Anne   75900       Master  Service\n",
       "4  5   Mary   89100     Bachelor  Service"
      ]
     },
     "execution_count": 21,
     "metadata": {},
     "output_type": "execute_result"
    }
   ],
   "source": [
    "# Let's inspect the dataframe\n",
    "\n",
    "Employees.head(5)"
   ]
  },
  {
   "cell_type": "markdown",
   "id": "ae556289",
   "metadata": {
    "slideshow": {
     "slide_type": "slide"
    }
   },
   "source": [
    "## Let's set the column names"
   ]
  },
  {
   "cell_type": "code",
   "execution_count": 22,
   "id": "88ed676e",
   "metadata": {},
   "outputs": [],
   "source": [
    "# Get the column names from the Employees table \n",
    "\n",
    "tmp = cur.execute(\"SELECT name FROM PRAGMA_TABLE_INFO('Employees')\").fetchall()"
   ]
  },
  {
   "cell_type": "code",
   "execution_count": 23,
   "id": "30442170",
   "metadata": {
    "slideshow": {
     "slide_type": "fragment"
    }
   },
   "outputs": [
    {
     "data": {
      "text/plain": [
       "[('id',), ('name',), ('salary',), ('education',), ('department',)]"
      ]
     },
     "execution_count": 23,
     "metadata": {},
     "output_type": "execute_result"
    }
   ],
   "source": [
    "# Let's inspect the result from the query\n",
    "\n",
    "tmp"
   ]
  },
  {
   "cell_type": "code",
   "execution_count": 26,
   "id": "b081cc29",
   "metadata": {
    "slideshow": {
     "slide_type": "fragment"
    }
   },
   "outputs": [
    {
     "data": {
      "text/plain": [
       "['id', 'name', 'salary', 'education', 'department']"
      ]
     },
     "execution_count": 26,
     "metadata": {},
     "output_type": "execute_result"
    }
   ],
   "source": [
    "# Change the list of tuples into a list of strings\n",
    "\n",
    "employees_column_names = [name[0] for name in tmp]\n",
    "employees_column_names"
   ]
  },
  {
   "cell_type": "code",
   "execution_count": 27,
   "id": "a498d21f",
   "metadata": {
    "slideshow": {
     "slide_type": "slide"
    }
   },
   "outputs": [],
   "source": [
    "# Add the column names to the dataframe\n",
    "\n",
    "Employees.columns = employees_column_names"
   ]
  },
  {
   "cell_type": "code",
   "execution_count": 28,
   "id": "67b53952",
   "metadata": {
    "slideshow": {
     "slide_type": "fragment"
    }
   },
   "outputs": [],
   "source": [
    "# We set the id column to be the index column\n",
    "\n",
    "Employees.index = Employees['id']\n",
    "del Employees['id']"
   ]
  },
  {
   "cell_type": "code",
   "execution_count": 29,
   "id": "a7b1c1ad",
   "metadata": {
    "slideshow": {
     "slide_type": "slide"
    }
   },
   "outputs": [
    {
     "data": {
      "text/html": [
       "<div>\n",
       "<style scoped>\n",
       "    .dataframe tbody tr th:only-of-type {\n",
       "        vertical-align: middle;\n",
       "    }\n",
       "\n",
       "    .dataframe tbody tr th {\n",
       "        vertical-align: top;\n",
       "    }\n",
       "\n",
       "    .dataframe thead th {\n",
       "        text-align: right;\n",
       "    }\n",
       "</style>\n",
       "<table border=\"1\" class=\"dataframe\">\n",
       "  <thead>\n",
       "    <tr style=\"text-align: right;\">\n",
       "      <th></th>\n",
       "      <th>name</th>\n",
       "      <th>salary</th>\n",
       "      <th>education</th>\n",
       "      <th>department</th>\n",
       "    </tr>\n",
       "    <tr>\n",
       "      <th>id</th>\n",
       "      <th></th>\n",
       "      <th></th>\n",
       "      <th></th>\n",
       "      <th></th>\n",
       "    </tr>\n",
       "  </thead>\n",
       "  <tbody>\n",
       "    <tr>\n",
       "      <th>1</th>\n",
       "      <td>Erik</td>\n",
       "      <td>114100</td>\n",
       "      <td>Bachelor</td>\n",
       "      <td>Sales</td>\n",
       "    </tr>\n",
       "    <tr>\n",
       "      <th>2</th>\n",
       "      <td>Sue</td>\n",
       "      <td>116200</td>\n",
       "      <td>Bachelor</td>\n",
       "      <td>Admin</td>\n",
       "    </tr>\n",
       "    <tr>\n",
       "      <th>3</th>\n",
       "      <td>Linda</td>\n",
       "      <td>67200</td>\n",
       "      <td>High School</td>\n",
       "      <td>Admin</td>\n",
       "    </tr>\n",
       "    <tr>\n",
       "      <th>4</th>\n",
       "      <td>Anne</td>\n",
       "      <td>75900</td>\n",
       "      <td>Master</td>\n",
       "      <td>Service</td>\n",
       "    </tr>\n",
       "    <tr>\n",
       "      <th>5</th>\n",
       "      <td>Mary</td>\n",
       "      <td>89100</td>\n",
       "      <td>Bachelor</td>\n",
       "      <td>Service</td>\n",
       "    </tr>\n",
       "    <tr>\n",
       "      <th>6</th>\n",
       "      <td>Tom</td>\n",
       "      <td>95900</td>\n",
       "      <td>Bachelor</td>\n",
       "      <td>Sales</td>\n",
       "    </tr>\n",
       "    <tr>\n",
       "      <th>7</th>\n",
       "      <td>John</td>\n",
       "      <td>148200</td>\n",
       "      <td>Bachelor</td>\n",
       "      <td>Sales</td>\n",
       "    </tr>\n",
       "    <tr>\n",
       "      <th>8</th>\n",
       "      <td>Joe</td>\n",
       "      <td>148100</td>\n",
       "      <td>Master</td>\n",
       "      <td>Sales</td>\n",
       "    </tr>\n",
       "    <tr>\n",
       "      <th>9</th>\n",
       "      <td>Sofia</td>\n",
       "      <td>117100</td>\n",
       "      <td>Bachelor</td>\n",
       "      <td>Sales</td>\n",
       "    </tr>\n",
       "    <tr>\n",
       "      <th>10</th>\n",
       "      <td>Marie</td>\n",
       "      <td>79000</td>\n",
       "      <td>Bachelor</td>\n",
       "      <td>Admin</td>\n",
       "    </tr>\n",
       "  </tbody>\n",
       "</table>\n",
       "</div>"
      ],
      "text/plain": [
       "     name  salary    education department\n",
       "id                                       \n",
       "1    Erik  114100     Bachelor      Sales\n",
       "2     Sue  116200     Bachelor      Admin\n",
       "3   Linda   67200  High School      Admin\n",
       "4    Anne   75900       Master    Service\n",
       "5    Mary   89100     Bachelor    Service\n",
       "6     Tom   95900     Bachelor      Sales\n",
       "7    John  148200     Bachelor      Sales\n",
       "8     Joe  148100       Master      Sales\n",
       "9   Sofia  117100     Bachelor      Sales\n",
       "10  Marie   79000     Bachelor      Admin"
      ]
     },
     "execution_count": 29,
     "metadata": {},
     "output_type": "execute_result"
    }
   ],
   "source": [
    "# Let's look at the Employees dataframe\n",
    "\n",
    "Employees.head(10)"
   ]
  },
  {
   "cell_type": "code",
   "execution_count": 30,
   "id": "54bdea6e",
   "metadata": {
    "slideshow": {
     "slide_type": "slide"
    }
   },
   "outputs": [],
   "source": [
    "# Remember to close the connection\n",
    "\n",
    "con.close()"
   ]
  },
  {
   "cell_type": "markdown",
   "id": "962b2c81",
   "metadata": {
    "slideshow": {
     "slide_type": "slide"
    }
   },
   "source": [
    "# 2. SQL queries with Pandas  "
   ]
  },
  {
   "cell_type": "code",
   "execution_count": 31,
   "id": "e93a29c7",
   "metadata": {
    "slideshow": {
     "slide_type": "slide"
    }
   },
   "outputs": [],
   "source": [
    "import sqlite3\n",
    "import pandas as pd\n",
    "\n",
    "con = sqlite3.connect(\"auto_dealership_database.db\")\n",
    "Customers = pd.read_sql(\"SELECT * FROM Customers\", con)\n",
    "con.close()"
   ]
  },
  {
   "cell_type": "code",
   "execution_count": 32,
   "id": "5a49e548",
   "metadata": {
    "slideshow": {
     "slide_type": "slide"
    }
   },
   "outputs": [
    {
     "data": {
      "text/html": [
       "<div>\n",
       "<style scoped>\n",
       "    .dataframe tbody tr th:only-of-type {\n",
       "        vertical-align: middle;\n",
       "    }\n",
       "\n",
       "    .dataframe tbody tr th {\n",
       "        vertical-align: top;\n",
       "    }\n",
       "\n",
       "    .dataframe thead th {\n",
       "        text-align: right;\n",
       "    }\n",
       "</style>\n",
       "<table border=\"1\" class=\"dataframe\">\n",
       "  <thead>\n",
       "    <tr style=\"text-align: right;\">\n",
       "      <th></th>\n",
       "      <th>id</th>\n",
       "      <th>first_name</th>\n",
       "      <th>last_name</th>\n",
       "      <th>phone</th>\n",
       "      <th>birth_year</th>\n",
       "    </tr>\n",
       "  </thead>\n",
       "  <tbody>\n",
       "    <tr>\n",
       "      <th>0</th>\n",
       "      <td>1</td>\n",
       "      <td>Geffery</td>\n",
       "      <td>Eaton</td>\n",
       "      <td>46000950</td>\n",
       "      <td>2011</td>\n",
       "    </tr>\n",
       "    <tr>\n",
       "      <th>1</th>\n",
       "      <td>2</td>\n",
       "      <td>Nira</td>\n",
       "      <td>Perry</td>\n",
       "      <td>98553493</td>\n",
       "      <td>2003</td>\n",
       "    </tr>\n",
       "    <tr>\n",
       "      <th>2</th>\n",
       "      <td>3</td>\n",
       "      <td>Moneisha</td>\n",
       "      <td>Perry</td>\n",
       "      <td>99054734</td>\n",
       "      <td>1998</td>\n",
       "    </tr>\n",
       "    <tr>\n",
       "      <th>3</th>\n",
       "      <td>4</td>\n",
       "      <td>Sigourney</td>\n",
       "      <td>Noble</td>\n",
       "      <td>24082013</td>\n",
       "      <td>1966</td>\n",
       "    </tr>\n",
       "    <tr>\n",
       "      <th>4</th>\n",
       "      <td>5</td>\n",
       "      <td>Lavita</td>\n",
       "      <td>Carlson</td>\n",
       "      <td>31488331</td>\n",
       "      <td>1984</td>\n",
       "    </tr>\n",
       "    <tr>\n",
       "      <th>...</th>\n",
       "      <td>...</td>\n",
       "      <td>...</td>\n",
       "      <td>...</td>\n",
       "      <td>...</td>\n",
       "      <td>...</td>\n",
       "    </tr>\n",
       "    <tr>\n",
       "      <th>3831</th>\n",
       "      <td>3832</td>\n",
       "      <td>Roselee</td>\n",
       "      <td>Lucero</td>\n",
       "      <td>33966455</td>\n",
       "      <td>1984</td>\n",
       "    </tr>\n",
       "    <tr>\n",
       "      <th>3832</th>\n",
       "      <td>3833</td>\n",
       "      <td>Shawneen</td>\n",
       "      <td>Espinoza</td>\n",
       "      <td>22244378</td>\n",
       "      <td>2008</td>\n",
       "    </tr>\n",
       "    <tr>\n",
       "      <th>3833</th>\n",
       "      <td>3834</td>\n",
       "      <td>Jennafer</td>\n",
       "      <td>Salgado</td>\n",
       "      <td>45636078</td>\n",
       "      <td>1983</td>\n",
       "    </tr>\n",
       "    <tr>\n",
       "      <th>3834</th>\n",
       "      <td>3835</td>\n",
       "      <td>Aleisha</td>\n",
       "      <td>Skinner</td>\n",
       "      <td>84333759</td>\n",
       "      <td>1981</td>\n",
       "    </tr>\n",
       "    <tr>\n",
       "      <th>3835</th>\n",
       "      <td>3836</td>\n",
       "      <td>Evagelia</td>\n",
       "      <td>Porter</td>\n",
       "      <td>91034390</td>\n",
       "      <td>1978</td>\n",
       "    </tr>\n",
       "  </tbody>\n",
       "</table>\n",
       "<p>3836 rows × 5 columns</p>\n",
       "</div>"
      ],
      "text/plain": [
       "        id first_name last_name     phone  birth_year\n",
       "0        1    Geffery     Eaton  46000950        2011\n",
       "1        2       Nira     Perry  98553493        2003\n",
       "2        3   Moneisha     Perry  99054734        1998\n",
       "3        4  Sigourney     Noble  24082013        1966\n",
       "4        5     Lavita   Carlson  31488331        1984\n",
       "...    ...        ...       ...       ...         ...\n",
       "3831  3832    Roselee    Lucero  33966455        1984\n",
       "3832  3833   Shawneen  Espinoza  22244378        2008\n",
       "3833  3834   Jennafer   Salgado  45636078        1983\n",
       "3834  3835    Aleisha   Skinner  84333759        1981\n",
       "3835  3836   Evagelia    Porter  91034390        1978\n",
       "\n",
       "[3836 rows x 5 columns]"
      ]
     },
     "execution_count": 32,
     "metadata": {},
     "output_type": "execute_result"
    }
   ],
   "source": [
    "Customers"
   ]
  },
  {
   "cell_type": "markdown",
   "id": "2880f091",
   "metadata": {
    "slideshow": {
     "slide_type": "slide"
    }
   },
   "source": [
    "## The query is defined within a Python string "
   ]
  },
  {
   "cell_type": "code",
   "execution_count": 33,
   "id": "a48bad0a",
   "metadata": {},
   "outputs": [],
   "source": [
    "query = \"\"\"\n",
    "        SELECT *\n",
    "        FROM Customers\n",
    "        WHERE birth_year = 1995\n",
    "        \"\"\""
   ]
  },
  {
   "cell_type": "code",
   "execution_count": 35,
   "id": "271ebde5",
   "metadata": {},
   "outputs": [
    {
     "name": "stdout",
     "output_type": "stream",
     "text": [
      "\n",
      "        SELECT *\n",
      "        FROM Customers\n",
      "        WHERE birth_year = 1995\n",
      "        \n"
     ]
    }
   ],
   "source": [
    "print(query)"
   ]
  },
  {
   "cell_type": "code",
   "execution_count": 37,
   "id": "9cdc7f8f",
   "metadata": {
    "slideshow": {
     "slide_type": "fragment"
    }
   },
   "outputs": [],
   "source": [
    "con = sqlite3.connect(\"auto_dealership_database.db\")\n",
    "result = pd.read_sql(query, con)\n",
    "con.close()"
   ]
  },
  {
   "cell_type": "code",
   "execution_count": 38,
   "id": "7f7b5511",
   "metadata": {
    "slideshow": {
     "slide_type": "slide"
    }
   },
   "outputs": [
    {
     "data": {
      "text/html": [
       "<div>\n",
       "<style scoped>\n",
       "    .dataframe tbody tr th:only-of-type {\n",
       "        vertical-align: middle;\n",
       "    }\n",
       "\n",
       "    .dataframe tbody tr th {\n",
       "        vertical-align: top;\n",
       "    }\n",
       "\n",
       "    .dataframe thead th {\n",
       "        text-align: right;\n",
       "    }\n",
       "</style>\n",
       "<table border=\"1\" class=\"dataframe\">\n",
       "  <thead>\n",
       "    <tr style=\"text-align: right;\">\n",
       "      <th></th>\n",
       "      <th>id</th>\n",
       "      <th>first_name</th>\n",
       "      <th>last_name</th>\n",
       "      <th>phone</th>\n",
       "      <th>birth_year</th>\n",
       "    </tr>\n",
       "  </thead>\n",
       "  <tbody>\n",
       "    <tr>\n",
       "      <th>0</th>\n",
       "      <td>28</td>\n",
       "      <td>Terrence</td>\n",
       "      <td>Bender</td>\n",
       "      <td>43369797</td>\n",
       "      <td>1995</td>\n",
       "    </tr>\n",
       "    <tr>\n",
       "      <th>1</th>\n",
       "      <td>69</td>\n",
       "      <td>Jondavid</td>\n",
       "      <td>Schroeder</td>\n",
       "      <td>93789105</td>\n",
       "      <td>1995</td>\n",
       "    </tr>\n",
       "    <tr>\n",
       "      <th>2</th>\n",
       "      <td>74</td>\n",
       "      <td>Lanay</td>\n",
       "      <td>Holt</td>\n",
       "      <td>56850116</td>\n",
       "      <td>1995</td>\n",
       "    </tr>\n",
       "    <tr>\n",
       "      <th>3</th>\n",
       "      <td>77</td>\n",
       "      <td>Doanld</td>\n",
       "      <td>Knapp</td>\n",
       "      <td>30017393</td>\n",
       "      <td>1995</td>\n",
       "    </tr>\n",
       "    <tr>\n",
       "      <th>4</th>\n",
       "      <td>83</td>\n",
       "      <td>Shahera</td>\n",
       "      <td>Gallegos</td>\n",
       "      <td>72819621</td>\n",
       "      <td>1995</td>\n",
       "    </tr>\n",
       "    <tr>\n",
       "      <th>...</th>\n",
       "      <td>...</td>\n",
       "      <td>...</td>\n",
       "      <td>...</td>\n",
       "      <td>...</td>\n",
       "      <td>...</td>\n",
       "    </tr>\n",
       "    <tr>\n",
       "      <th>65</th>\n",
       "      <td>3591</td>\n",
       "      <td>Deadra</td>\n",
       "      <td>Anthony</td>\n",
       "      <td>62066997</td>\n",
       "      <td>1995</td>\n",
       "    </tr>\n",
       "    <tr>\n",
       "      <th>66</th>\n",
       "      <td>3627</td>\n",
       "      <td>Celestino</td>\n",
       "      <td>Walls</td>\n",
       "      <td>88097571</td>\n",
       "      <td>1995</td>\n",
       "    </tr>\n",
       "    <tr>\n",
       "      <th>67</th>\n",
       "      <td>3641</td>\n",
       "      <td>Naa</td>\n",
       "      <td>Rosario</td>\n",
       "      <td>20679719</td>\n",
       "      <td>1995</td>\n",
       "    </tr>\n",
       "    <tr>\n",
       "      <th>68</th>\n",
       "      <td>3715</td>\n",
       "      <td>Sheva</td>\n",
       "      <td>Roberson</td>\n",
       "      <td>86000267</td>\n",
       "      <td>1995</td>\n",
       "    </tr>\n",
       "    <tr>\n",
       "      <th>69</th>\n",
       "      <td>3759</td>\n",
       "      <td>Nalee</td>\n",
       "      <td>Caldwell</td>\n",
       "      <td>73049285</td>\n",
       "      <td>1995</td>\n",
       "    </tr>\n",
       "  </tbody>\n",
       "</table>\n",
       "<p>70 rows × 5 columns</p>\n",
       "</div>"
      ],
      "text/plain": [
       "      id first_name  last_name     phone  birth_year\n",
       "0     28   Terrence     Bender  43369797        1995\n",
       "1     69   Jondavid  Schroeder  93789105        1995\n",
       "2     74      Lanay       Holt  56850116        1995\n",
       "3     77     Doanld      Knapp  30017393        1995\n",
       "4     83    Shahera   Gallegos  72819621        1995\n",
       "..   ...        ...        ...       ...         ...\n",
       "65  3591     Deadra    Anthony  62066997        1995\n",
       "66  3627  Celestino      Walls  88097571        1995\n",
       "67  3641        Naa    Rosario  20679719        1995\n",
       "68  3715      Sheva   Roberson  86000267        1995\n",
       "69  3759      Nalee   Caldwell  73049285        1995\n",
       "\n",
       "[70 rows x 5 columns]"
      ]
     },
     "execution_count": 38,
     "metadata": {},
     "output_type": "execute_result"
    }
   ],
   "source": [
    "result"
   ]
  },
  {
   "cell_type": "markdown",
   "id": "8648728a",
   "metadata": {
    "slideshow": {
     "slide_type": "slide"
    }
   },
   "source": [
    "# 3. Let us create a database"
   ]
  },
  {
   "cell_type": "markdown",
   "id": "a613293e",
   "metadata": {
    "slideshow": {
     "slide_type": "slide"
    }
   },
   "source": [
    "### Datatypes in SQLite\n",
    "\n",
    "- **NULL**. The value is a NULL value.\n",
    "\n",
    "- **INTEGER**. The value is a signed integer, stored in 0, 1, 2, 3, 4, 6, or 8 bytes depending on the magnitude of the value.\n",
    "\n",
    "- **REAL**. The value is a floating point value, stored as an 8-byte IEEE floating point number.\n",
    "\n",
    "- **TEXT**. The value is a text string, stored using the database encoding (UTF-8, UTF-16BE or UTF-16LE).\n",
    "\n",
    "- **BLOB**. The value is a blob of data, stored exactly as it was input."
   ]
  },
  {
   "cell_type": "code",
   "execution_count": 66,
   "id": "dc1b2eb0",
   "metadata": {
    "slideshow": {
     "slide_type": "slide"
    }
   },
   "outputs": [],
   "source": [
    "## Imports\n",
    "\n",
    "import pandas as pd\n",
    "import sqlite3"
   ]
  },
  {
   "cell_type": "code",
   "execution_count": 67,
   "id": "d82c4138",
   "metadata": {},
   "outputs": [
    {
     "name": "stdout",
     "output_type": "stream",
     "text": [
      "Lecture13_EDI3400_Fall2022.ipynb auto_dealership_database.db\n",
      "Lecture_13_Solutions.ipynb\n"
     ]
    }
   ],
   "source": [
    "!rm example_database.db\n",
    "!ls"
   ]
  },
  {
   "cell_type": "code",
   "execution_count": 68,
   "id": "d1553692",
   "metadata": {
    "slideshow": {
     "slide_type": "fragment"
    }
   },
   "outputs": [],
   "source": [
    "con = sqlite3.connect('example_database.db') "
   ]
  },
  {
   "cell_type": "code",
   "execution_count": 70,
   "id": "aad2fc51",
   "metadata": {
    "slideshow": {
     "slide_type": "fragment"
    }
   },
   "outputs": [
    {
     "name": "stdout",
     "output_type": "stream",
     "text": [
      "Lecture13_EDI3400_Fall2022.ipynb  auto_dealership_database.db\n",
      "Lecture_13_Solutions.ipynb        example_database.db\n"
     ]
    }
   ],
   "source": [
    "ls"
   ]
  },
  {
   "cell_type": "code",
   "execution_count": 72,
   "id": "9f4fb388",
   "metadata": {
    "slideshow": {
     "slide_type": "slide"
    }
   },
   "outputs": [],
   "source": [
    "## Create the cursor\n",
    "\n",
    "cursor = con.cursor()"
   ]
  },
  {
   "cell_type": "code",
   "execution_count": 74,
   "id": "5bee32e3",
   "metadata": {},
   "outputs": [],
   "source": [
    "cursor.execute?"
   ]
  },
  {
   "cell_type": "code",
   "execution_count": 60,
   "id": "28b7e557",
   "metadata": {
    "slideshow": {
     "slide_type": "fragment"
    }
   },
   "outputs": [
    {
     "data": {
      "text/plain": [
       "<sqlite3.Cursor at 0x7f8b9a6670c0>"
      ]
     },
     "execution_count": 60,
     "metadata": {},
     "output_type": "execute_result"
    }
   ],
   "source": [
    "cursor.execute('''CREATE TABLE Employees(id INTEGER PRIMARY KEY,\n",
    "                                         name TEXT,\n",
    "                                         salary INTEGER,  \n",
    "                                         education TEXT)''')"
   ]
  },
  {
   "cell_type": "code",
   "execution_count": 61,
   "id": "d635e792",
   "metadata": {
    "slideshow": {
     "slide_type": "fragment"
    }
   },
   "outputs": [
    {
     "data": {
      "text/plain": [
       "<sqlite3.Cursor at 0x7f8b9a6670c0>"
      ]
     },
     "execution_count": 61,
     "metadata": {},
     "output_type": "execute_result"
    }
   ],
   "source": [
    "sqlite_insert = \"\"\"\n",
    "                INSERT INTO Employees(id, name, salary, education) \n",
    "                VALUES(1, 'Nora', 100000, 'Master')\n",
    "                \"\"\" \n",
    "\n",
    "cursor.execute(sqlite_insert)"
   ]
  },
  {
   "cell_type": "code",
   "execution_count": 62,
   "id": "1a39b14e",
   "metadata": {
    "slideshow": {
     "slide_type": "fragment"
    }
   },
   "outputs": [],
   "source": [
    "# Commit the employees data to the database\n",
    "\n",
    "con.commit()\n",
    "con.close()"
   ]
  },
  {
   "cell_type": "code",
   "execution_count": 63,
   "id": "ce72569f",
   "metadata": {
    "slideshow": {
     "slide_type": "slide"
    }
   },
   "outputs": [
    {
     "data": {
      "text/html": [
       "<div>\n",
       "<style scoped>\n",
       "    .dataframe tbody tr th:only-of-type {\n",
       "        vertical-align: middle;\n",
       "    }\n",
       "\n",
       "    .dataframe tbody tr th {\n",
       "        vertical-align: top;\n",
       "    }\n",
       "\n",
       "    .dataframe thead th {\n",
       "        text-align: right;\n",
       "    }\n",
       "</style>\n",
       "<table border=\"1\" class=\"dataframe\">\n",
       "  <thead>\n",
       "    <tr style=\"text-align: right;\">\n",
       "      <th></th>\n",
       "      <th>id</th>\n",
       "      <th>name</th>\n",
       "      <th>salary</th>\n",
       "      <th>education</th>\n",
       "    </tr>\n",
       "  </thead>\n",
       "  <tbody>\n",
       "    <tr>\n",
       "      <th>0</th>\n",
       "      <td>1</td>\n",
       "      <td>Nora</td>\n",
       "      <td>100000</td>\n",
       "      <td>Master</td>\n",
       "    </tr>\n",
       "  </tbody>\n",
       "</table>\n",
       "</div>"
      ],
      "text/plain": [
       "   id  name  salary education\n",
       "0   1  Nora  100000    Master"
      ]
     },
     "execution_count": 63,
     "metadata": {},
     "output_type": "execute_result"
    }
   ],
   "source": [
    "# Let's look at our newly created table\n",
    "\n",
    "con = sqlite3.connect(\"example_database.db\")\n",
    "Employees2 = pd.read_sql(\"SELECT * FROM Employees\", con)\n",
    "con.close()\n",
    "\n",
    "Employees2"
   ]
  },
  {
   "cell_type": "code",
   "execution_count": 64,
   "id": "0eb352c1",
   "metadata": {
    "slideshow": {
     "slide_type": "slide"
    }
   },
   "outputs": [],
   "source": [
    "# We can add another row\n",
    "\n",
    "con = sqlite3.connect('example_database.db') \n",
    "cursor = con.cursor()\n",
    "sqlite_insert = \"\"\"\n",
    "                INSERT INTO Employees(id, name, salary, education) \n",
    "                VALUES(2, 'Ted', 90000, 'High school')\n",
    "                \"\"\" \n",
    "\n",
    "cursor.execute(sqlite_insert)\n",
    "cursor.commit()\n",
    "cursor.close()"
   ]
  },
  {
   "cell_type": "code",
   "execution_count": 65,
   "id": "f723443d",
   "metadata": {
    "slideshow": {
     "slide_type": "slide"
    }
   },
   "outputs": [
    {
     "data": {
      "text/html": [
       "<div>\n",
       "<style scoped>\n",
       "    .dataframe tbody tr th:only-of-type {\n",
       "        vertical-align: middle;\n",
       "    }\n",
       "\n",
       "    .dataframe tbody tr th {\n",
       "        vertical-align: top;\n",
       "    }\n",
       "\n",
       "    .dataframe thead th {\n",
       "        text-align: right;\n",
       "    }\n",
       "</style>\n",
       "<table border=\"1\" class=\"dataframe\">\n",
       "  <thead>\n",
       "    <tr style=\"text-align: right;\">\n",
       "      <th></th>\n",
       "      <th>id</th>\n",
       "      <th>name</th>\n",
       "      <th>salary</th>\n",
       "      <th>education</th>\n",
       "    </tr>\n",
       "  </thead>\n",
       "  <tbody>\n",
       "    <tr>\n",
       "      <th>0</th>\n",
       "      <td>1</td>\n",
       "      <td>Nora</td>\n",
       "      <td>100000</td>\n",
       "      <td>Master</td>\n",
       "    </tr>\n",
       "    <tr>\n",
       "      <th>1</th>\n",
       "      <td>2</td>\n",
       "      <td>Ted</td>\n",
       "      <td>90000</td>\n",
       "      <td>High school</td>\n",
       "    </tr>\n",
       "  </tbody>\n",
       "</table>\n",
       "</div>"
      ],
      "text/plain": [
       "   id  name  salary    education\n",
       "0   1  Nora  100000       Master\n",
       "1   2   Ted   90000  High school"
      ]
     },
     "execution_count": 65,
     "metadata": {},
     "output_type": "execute_result"
    }
   ],
   "source": [
    "con = sqlite3.connect(\"example_database.db\")\n",
    "Employees2 = pd.read_sql(\"SELECT * FROM Employees\", con)\n",
    "con.close()\n",
    "\n",
    "Employees2"
   ]
  },
  {
   "cell_type": "markdown",
   "id": "a621a474",
   "metadata": {
    "slideshow": {
     "slide_type": "slide"
    }
   },
   "source": [
    "# 4. Adding many rows to a database from Python\n"
   ]
  },
  {
   "cell_type": "code",
   "execution_count": 75,
   "id": "910cdc57",
   "metadata": {
    "slideshow": {
     "slide_type": "slide"
    }
   },
   "outputs": [],
   "source": [
    "# Create some random data\n",
    "\n",
    "import numpy as np\n",
    "\n",
    "ids = np.arange(1, 101)\n",
    "ages = np.random.randint(18, 75, size=100)\n",
    "names = np.random.choice(['John', 'Jane', 'Mary', 'Bob', 'Tom', 'Jack', 'Karl', 'Sue', 'Sally', 'Ida'],\n",
    "                         size=100)"
   ]
  },
  {
   "cell_type": "code",
   "execution_count": 76,
   "id": "39cf4103",
   "metadata": {
    "slideshow": {
     "slide_type": "slide"
    }
   },
   "outputs": [
    {
     "data": {
      "text/plain": [
       "<sqlite3.Cursor at 0x7f8b8880eb40>"
      ]
     },
     "execution_count": 76,
     "metadata": {},
     "output_type": "execute_result"
    }
   ],
   "source": [
    "# Create the table in our example database\n",
    "\n",
    "con = sqlite3.connect('example_database.db')\n",
    "cursor = con.cursor()\n",
    "cursor.execute('''CREATE TABLE Customers(id INTEGER PRIMARY KEY,\n",
    "                                         name STRING,\n",
    "                                         age INTEGER)''')"
   ]
  },
  {
   "cell_type": "code",
   "execution_count": 77,
   "id": "f7433702",
   "metadata": {
    "slideshow": {
     "slide_type": "slide"
    }
   },
   "outputs": [],
   "source": [
    "# We use a for loop to add the data\n",
    "# We can use a f-string to change the content of the sql-code for each iteration of the loop\n",
    "\n",
    "for i in range(100):\n",
    "    sqlite_insert = f\"INSERT INTO Customers(id, name, age) VALUES({ids[i]}, '{names[i]}', {ages[i]})\"\n",
    "    con.execute(sqlite_insert)\n",
    "con.commit()\n",
    "con.close()"
   ]
  },
  {
   "cell_type": "code",
   "execution_count": 78,
   "id": "ed9bb8ff",
   "metadata": {
    "slideshow": {
     "slide_type": "slide"
    }
   },
   "outputs": [
    {
     "data": {
      "text/html": [
       "<div>\n",
       "<style scoped>\n",
       "    .dataframe tbody tr th:only-of-type {\n",
       "        vertical-align: middle;\n",
       "    }\n",
       "\n",
       "    .dataframe tbody tr th {\n",
       "        vertical-align: top;\n",
       "    }\n",
       "\n",
       "    .dataframe thead th {\n",
       "        text-align: right;\n",
       "    }\n",
       "</style>\n",
       "<table border=\"1\" class=\"dataframe\">\n",
       "  <thead>\n",
       "    <tr style=\"text-align: right;\">\n",
       "      <th></th>\n",
       "      <th>id</th>\n",
       "      <th>name</th>\n",
       "      <th>age</th>\n",
       "    </tr>\n",
       "  </thead>\n",
       "  <tbody>\n",
       "    <tr>\n",
       "      <th>0</th>\n",
       "      <td>1</td>\n",
       "      <td>John</td>\n",
       "      <td>22</td>\n",
       "    </tr>\n",
       "    <tr>\n",
       "      <th>1</th>\n",
       "      <td>2</td>\n",
       "      <td>Ida</td>\n",
       "      <td>44</td>\n",
       "    </tr>\n",
       "    <tr>\n",
       "      <th>2</th>\n",
       "      <td>3</td>\n",
       "      <td>Jane</td>\n",
       "      <td>50</td>\n",
       "    </tr>\n",
       "    <tr>\n",
       "      <th>3</th>\n",
       "      <td>4</td>\n",
       "      <td>Jane</td>\n",
       "      <td>20</td>\n",
       "    </tr>\n",
       "    <tr>\n",
       "      <th>4</th>\n",
       "      <td>5</td>\n",
       "      <td>John</td>\n",
       "      <td>32</td>\n",
       "    </tr>\n",
       "    <tr>\n",
       "      <th>...</th>\n",
       "      <td>...</td>\n",
       "      <td>...</td>\n",
       "      <td>...</td>\n",
       "    </tr>\n",
       "    <tr>\n",
       "      <th>95</th>\n",
       "      <td>96</td>\n",
       "      <td>Karl</td>\n",
       "      <td>28</td>\n",
       "    </tr>\n",
       "    <tr>\n",
       "      <th>96</th>\n",
       "      <td>97</td>\n",
       "      <td>Sue</td>\n",
       "      <td>48</td>\n",
       "    </tr>\n",
       "    <tr>\n",
       "      <th>97</th>\n",
       "      <td>98</td>\n",
       "      <td>Karl</td>\n",
       "      <td>33</td>\n",
       "    </tr>\n",
       "    <tr>\n",
       "      <th>98</th>\n",
       "      <td>99</td>\n",
       "      <td>Mary</td>\n",
       "      <td>40</td>\n",
       "    </tr>\n",
       "    <tr>\n",
       "      <th>99</th>\n",
       "      <td>100</td>\n",
       "      <td>Jack</td>\n",
       "      <td>36</td>\n",
       "    </tr>\n",
       "  </tbody>\n",
       "</table>\n",
       "<p>100 rows × 3 columns</p>\n",
       "</div>"
      ],
      "text/plain": [
       "     id  name  age\n",
       "0     1  John   22\n",
       "1     2   Ida   44\n",
       "2     3  Jane   50\n",
       "3     4  Jane   20\n",
       "4     5  John   32\n",
       "..  ...   ...  ...\n",
       "95   96  Karl   28\n",
       "96   97   Sue   48\n",
       "97   98  Karl   33\n",
       "98   99  Mary   40\n",
       "99  100  Jack   36\n",
       "\n",
       "[100 rows x 3 columns]"
      ]
     },
     "execution_count": 78,
     "metadata": {},
     "output_type": "execute_result"
    }
   ],
   "source": [
    "# Let's look at the new table\n",
    "\n",
    "con = sqlite3.connect(\"example_database.db\")\n",
    "Customers2 = pd.read_sql(\"SELECT * FROM Customers\", con)\n",
    "con.close()\n",
    "\n",
    "Customers2"
   ]
  }
 ],
 "metadata": {
  "celltoolbar": "Slideshow",
  "kernelspec": {
   "display_name": "Python 3 (ipykernel)",
   "language": "python",
   "name": "python3"
  },
  "language_info": {
   "codemirror_mode": {
    "name": "ipython",
    "version": 3
   },
   "file_extension": ".py",
   "mimetype": "text/x-python",
   "name": "python",
   "nbconvert_exporter": "python",
   "pygments_lexer": "ipython3",
   "version": "3.9.12"
  }
 },
 "nbformat": 4,
 "nbformat_minor": 5
}
