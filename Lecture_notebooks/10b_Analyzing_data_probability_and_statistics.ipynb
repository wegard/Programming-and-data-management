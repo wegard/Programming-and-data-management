{
 "cells": [
  {
   "cell_type": "markdown",
   "id": "4db86daf",
   "metadata": {
    "slideshow": {
     "slide_type": "slide"
    }
   },
   "source": [
    "# Analyzing data, probability and statistics\n",
    "\n",
    "## Programming and Data Management (EDI 3400)\n",
    "\n",
    "### *Vegard H. Larsen (Department of Data Science and Analytics)*"
   ]
  },
  {
   "cell_type": "markdown",
   "id": "525bd2c0",
   "metadata": {
    "slideshow": {
     "slide_type": "slide"
    }
   },
   "source": [
    "# 1. Handling dates and times"
   ]
  },
  {
   "cell_type": "code",
   "execution_count": 18,
   "id": "3981bb72",
   "metadata": {
    "slideshow": {
     "slide_type": "slide"
    }
   },
   "outputs": [],
   "source": [
    "# Let's do our standard imports\n",
    "\n",
    "import pandas as pd\n",
    "import numpy as np\n",
    "import matplotlib.pyplot as plt"
   ]
  },
  {
   "cell_type": "code",
   "execution_count": 19,
   "id": "a252d721",
   "metadata": {
    "slideshow": {
     "slide_type": "fragment"
    }
   },
   "outputs": [],
   "source": [
    "from pandas_datareader.data import DataReader\n",
    "\n",
    "start_date = '2020-01-01'\n",
    "end_date = '2022-10-05'\n",
    "\n",
    "aapl = DataReader(\"AAPL\", \"yahoo\", start_date, end_date)"
   ]
  },
  {
   "cell_type": "code",
   "execution_count": 20,
   "id": "53f01625",
   "metadata": {
    "slideshow": {
     "slide_type": "slide"
    }
   },
   "outputs": [],
   "source": [
    "# Alternatively, we can load it from our local computer\n",
    "\n",
    "aapl2 = pd.read_csv('aapl.csv',\n",
    "                   index_col=[0],\n",
    "                   parse_dates=True)"
   ]
  },
  {
   "cell_type": "markdown",
   "id": "9f903d16",
   "metadata": {
    "slideshow": {
     "slide_type": "slide"
    }
   },
   "source": [
    "## Let's inspect the data"
   ]
  },
  {
   "cell_type": "code",
   "execution_count": 22,
   "id": "37338953",
   "metadata": {},
   "outputs": [
    {
     "data": {
      "text/html": [
       "<div>\n",
       "<style scoped>\n",
       "    .dataframe tbody tr th:only-of-type {\n",
       "        vertical-align: middle;\n",
       "    }\n",
       "\n",
       "    .dataframe tbody tr th {\n",
       "        vertical-align: top;\n",
       "    }\n",
       "\n",
       "    .dataframe thead th {\n",
       "        text-align: right;\n",
       "    }\n",
       "</style>\n",
       "<table border=\"1\" class=\"dataframe\">\n",
       "  <thead>\n",
       "    <tr style=\"text-align: right;\">\n",
       "      <th></th>\n",
       "      <th>High</th>\n",
       "      <th>Low</th>\n",
       "      <th>Open</th>\n",
       "      <th>Close</th>\n",
       "      <th>Volume</th>\n",
       "      <th>Adj Close</th>\n",
       "    </tr>\n",
       "    <tr>\n",
       "      <th>Date</th>\n",
       "      <th></th>\n",
       "      <th></th>\n",
       "      <th></th>\n",
       "      <th></th>\n",
       "      <th></th>\n",
       "      <th></th>\n",
       "    </tr>\n",
       "  </thead>\n",
       "  <tbody>\n",
       "    <tr>\n",
       "      <th>2022-09-28</th>\n",
       "      <td>150.639999</td>\n",
       "      <td>144.839996</td>\n",
       "      <td>147.639999</td>\n",
       "      <td>149.839996</td>\n",
       "      <td>146691400.0</td>\n",
       "      <td>149.839996</td>\n",
       "    </tr>\n",
       "    <tr>\n",
       "      <th>2022-09-29</th>\n",
       "      <td>146.720001</td>\n",
       "      <td>140.679993</td>\n",
       "      <td>146.100006</td>\n",
       "      <td>142.479996</td>\n",
       "      <td>128138200.0</td>\n",
       "      <td>142.479996</td>\n",
       "    </tr>\n",
       "    <tr>\n",
       "      <th>2022-09-30</th>\n",
       "      <td>143.100006</td>\n",
       "      <td>138.000000</td>\n",
       "      <td>141.279999</td>\n",
       "      <td>138.199997</td>\n",
       "      <td>124705400.0</td>\n",
       "      <td>138.199997</td>\n",
       "    </tr>\n",
       "    <tr>\n",
       "      <th>2022-10-03</th>\n",
       "      <td>143.070007</td>\n",
       "      <td>137.690002</td>\n",
       "      <td>138.210007</td>\n",
       "      <td>142.449997</td>\n",
       "      <td>114311700.0</td>\n",
       "      <td>142.449997</td>\n",
       "    </tr>\n",
       "    <tr>\n",
       "      <th>2022-10-04</th>\n",
       "      <td>146.220001</td>\n",
       "      <td>144.259995</td>\n",
       "      <td>145.029999</td>\n",
       "      <td>146.100006</td>\n",
       "      <td>87697800.0</td>\n",
       "      <td>146.100006</td>\n",
       "    </tr>\n",
       "  </tbody>\n",
       "</table>\n",
       "</div>"
      ],
      "text/plain": [
       "                  High         Low        Open       Close       Volume  \\\n",
       "Date                                                                      \n",
       "2022-09-28  150.639999  144.839996  147.639999  149.839996  146691400.0   \n",
       "2022-09-29  146.720001  140.679993  146.100006  142.479996  128138200.0   \n",
       "2022-09-30  143.100006  138.000000  141.279999  138.199997  124705400.0   \n",
       "2022-10-03  143.070007  137.690002  138.210007  142.449997  114311700.0   \n",
       "2022-10-04  146.220001  144.259995  145.029999  146.100006   87697800.0   \n",
       "\n",
       "             Adj Close  \n",
       "Date                    \n",
       "2022-09-28  149.839996  \n",
       "2022-09-29  142.479996  \n",
       "2022-09-30  138.199997  \n",
       "2022-10-03  142.449997  \n",
       "2022-10-04  146.100006  "
      ]
     },
     "execution_count": 22,
     "metadata": {},
     "output_type": "execute_result"
    }
   ],
   "source": [
    "# The first 5-elements\n",
    "\n",
    "aapl.tail(5)"
   ]
  },
  {
   "cell_type": "code",
   "execution_count": 23,
   "id": "17c4f960",
   "metadata": {
    "slideshow": {
     "slide_type": "slide"
    }
   },
   "outputs": [
    {
     "data": {
      "image/png": "[encoded data removed]",
      "text/plain": [
       "<Figure size 800x300 with 1 Axes>"
      ]
     },
     "metadata": {},
     "output_type": "display_data"
    }
   ],
   "source": [
    "# Let's plot the Close price\n",
    "\n",
    "aapl['Close'].plot(figsize=(8,3),\n",
    "                   lw=3,\n",
    "                   color='orange',\n",
    "                   linestyle='-.')\n",
    "plt.show()"
   ]
  },
  {
   "cell_type": "markdown",
   "id": "0c04db27",
   "metadata": {
    "slideshow": {
     "slide_type": "slide"
    }
   },
   "source": [
    "## Resampling the data \n",
    "\n",
    "- Sometimes we want the data on a different frequency\n",
    "- Resampling to a lower frequency is usually easy\n",
    "- Resampling to a higher frequency is a more difficult task (we will not cover this)\n"
   ]
  },
  {
   "cell_type": "code",
   "execution_count": 27,
   "id": "6c36228c",
   "metadata": {
    "slideshow": {
     "slide_type": "fragment"
    }
   },
   "outputs": [],
   "source": [
    "# Resample to monthly values\n",
    "\n",
    "aapl_Monthly = aapl.resample('A').mean()"
   ]
  },
  {
   "cell_type": "code",
   "execution_count": 28,
   "id": "f08d92c3",
   "metadata": {
    "slideshow": {
     "slide_type": "slide"
    }
   },
   "outputs": [
    {
     "data": {
      "text/html": [
       "<div>\n",
       "<style scoped>\n",
       "    .dataframe tbody tr th:only-of-type {\n",
       "        vertical-align: middle;\n",
       "    }\n",
       "\n",
       "    .dataframe tbody tr th {\n",
       "        vertical-align: top;\n",
       "    }\n",
       "\n",
       "    .dataframe thead th {\n",
       "        text-align: right;\n",
       "    }\n",
       "</style>\n",
       "<table border=\"1\" class=\"dataframe\">\n",
       "  <thead>\n",
       "    <tr style=\"text-align: right;\">\n",
       "      <th></th>\n",
       "      <th>High</th>\n",
       "      <th>Low</th>\n",
       "      <th>Open</th>\n",
       "      <th>Close</th>\n",
       "      <th>Volume</th>\n",
       "      <th>Adj Close</th>\n",
       "    </tr>\n",
       "    <tr>\n",
       "      <th>Date</th>\n",
       "      <th></th>\n",
       "      <th></th>\n",
       "      <th></th>\n",
       "      <th></th>\n",
       "      <th></th>\n",
       "      <th></th>\n",
       "    </tr>\n",
       "  </thead>\n",
       "  <tbody>\n",
       "    <tr>\n",
       "      <th>2020-12-31</th>\n",
       "      <td>96.661769</td>\n",
       "      <td>93.912796</td>\n",
       "      <td>95.267668</td>\n",
       "      <td>95.347075</td>\n",
       "      <td>1.575646e+08</td>\n",
       "      <td>94.072188</td>\n",
       "    </tr>\n",
       "    <tr>\n",
       "      <th>2021-12-31</th>\n",
       "      <td>142.347818</td>\n",
       "      <td>139.474087</td>\n",
       "      <td>140.861866</td>\n",
       "      <td>140.989365</td>\n",
       "      <td>9.052463e+07</td>\n",
       "      <td>140.032758</td>\n",
       "    </tr>\n",
       "    <tr>\n",
       "      <th>2022-12-31</th>\n",
       "      <td>160.727105</td>\n",
       "      <td>156.525737</td>\n",
       "      <td>158.588684</td>\n",
       "      <td>158.677632</td>\n",
       "      <td>8.946479e+07</td>\n",
       "      <td>158.369103</td>\n",
       "    </tr>\n",
       "  </tbody>\n",
       "</table>\n",
       "</div>"
      ],
      "text/plain": [
       "                  High         Low        Open       Close        Volume  \\\n",
       "Date                                                                       \n",
       "2020-12-31   96.661769   93.912796   95.267668   95.347075  1.575646e+08   \n",
       "2021-12-31  142.347818  139.474087  140.861866  140.989365  9.052463e+07   \n",
       "2022-12-31  160.727105  156.525737  158.588684  158.677632  8.946479e+07   \n",
       "\n",
       "             Adj Close  \n",
       "Date                    \n",
       "2020-12-31   94.072188  \n",
       "2021-12-31  140.032758  \n",
       "2022-12-31  158.369103  "
      ]
     },
     "execution_count": 28,
     "metadata": {},
     "output_type": "execute_result"
    }
   ],
   "source": [
    "# Let's look at the 5 first observations\n",
    "\n",
    "aapl_Monthly.head()"
   ]
  },
  {
   "cell_type": "code",
   "execution_count": 29,
   "id": "835cc0fb",
   "metadata": {
    "slideshow": {
     "slide_type": "slide"
    }
   },
   "outputs": [
    {
     "data": {
      "image/png": "[encoded data removed]",
      "text/plain": [
       "<Figure size 800x300 with 1 Axes>"
      ]
     },
     "metadata": {},
     "output_type": "display_data"
    }
   ],
   "source": [
    "# And we can plot the monthly values\n",
    "\n",
    "aapl_Monthly['Close'].plot(figsize=(8,3),\n",
    "                           lw=5,\n",
    "                           color='black',\n",
    "                           linestyle=':')\n",
    "plt.show()"
   ]
  }
 ],
 "metadata": {
  "celltoolbar": "Slideshow",
  "kernelspec": {
   "display_name": "Python 3 (ipykernel)",
   "language": "python",
   "name": "python3"
  },
  "language_info": {
   "codemirror_mode": {
    "name": "ipython",
    "version": 3
   },
   "file_extension": ".py",
   "mimetype": "text/x-python",
   "name": "python",
   "nbconvert_exporter": "python",
   "pygments_lexer": "ipython3",
   "version": "3.9.12"
  }
 },
 "nbformat": 4,
 "nbformat_minor": 5
}
