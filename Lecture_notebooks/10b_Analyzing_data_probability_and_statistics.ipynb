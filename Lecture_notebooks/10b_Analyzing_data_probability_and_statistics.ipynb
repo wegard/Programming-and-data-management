{
 "cells": [
  {
   "cell_type": "markdown",
   "id": "4db86daf",
   "metadata": {
    "slideshow": {
     "slide_type": "slide"
    }
   },
   "source": [
    "# Analyzing data, probability and statistics\n",
    "\n",
    "## Programming and Data Management (EDI 3400)\n",
    "\n",
    "### *Vegard H. Larsen (Department of Data Science and Analytics)*"
   ]
  },
  {
   "cell_type": "markdown",
   "id": "525bd2c0",
   "metadata": {
    "slideshow": {
     "slide_type": "slide"
    }
   },
   "source": [
    "# 1. Handling dates and times"
   ]
  },
  {
   "cell_type": "code",
   "execution_count": null,
   "id": "3981bb72",
   "metadata": {
    "slideshow": {
     "slide_type": "slide"
    }
   },
   "outputs": [],
   "source": [
    "# Let's do our standard imports\n",
    "\n",
    "import pandas as pd\n",
    "import numpy as np\n",
    "import matplotlib.pyplot as plt"
   ]
  },
  {
   "cell_type": "code",
   "execution_count": null,
   "id": "a252d721",
   "metadata": {
    "slideshow": {
     "slide_type": "fragment"
    }
   },
   "outputs": [],
   "source": [
    "from pandas_datareader.data import DataReader\n",
    "\n",
    "start_date = '2020-01-01'\n",
    "end_date = '2022-10-05'\n",
    "\n",
    "aapl = DataReader(\"AAPL\", \"yahoo\", start_date, end_date)"
   ]
  },
  {
   "cell_type": "code",
   "execution_count": null,
   "id": "53f01625",
   "metadata": {
    "slideshow": {
     "slide_type": "slide"
    }
   },
   "outputs": [],
   "source": [
    "# Alternatively, we can load it from our local computer\n",
    "\n",
    "aapl2 = pd.read_csv('aapl.csv',\n",
    "                   index_col=[0],\n",
    "                   parse_dates=True)"
   ]
  },
  {
   "cell_type": "markdown",
   "id": "9f903d16",
   "metadata": {
    "slideshow": {
     "slide_type": "slide"
    }
   },
   "source": [
    "## Let's inspect the data"
   ]
  },
  {
   "cell_type": "code",
   "execution_count": null,
   "id": "37338953",
   "metadata": {},
   "outputs": [],
   "source": [
    "# The first 5-elements\n",
    "\n",
    "aapl.tail(5)"
   ]
  },
  {
   "cell_type": "code",
   "execution_count": null,
   "id": "17c4f960",
   "metadata": {
    "slideshow": {
     "slide_type": "slide"
    }
   },
   "outputs": [],
   "source": [
    "# Let's plot the Close price\n",
    "\n",
    "aapl['Close'].plot(figsize=(8,3),\n",
    "                   lw=3,\n",
    "                   color='orange',\n",
    "                   linestyle='-.')\n",
    "plt.show()"
   ]
  },
  {
   "cell_type": "markdown",
   "id": "0c04db27",
   "metadata": {
    "slideshow": {
     "slide_type": "slide"
    }
   },
   "source": [
    "## Resampling the data \n",
    "\n",
    "- Sometimes we want the data on a different frequency\n",
    "- Resampling to a lower frequency is usually easy\n",
    "- Resampling to a higher frequency is a more difficult task (we will not cover this)\n"
   ]
  },
  {
   "cell_type": "code",
   "execution_count": null,
   "id": "6c36228c",
   "metadata": {
    "slideshow": {
     "slide_type": "fragment"
    }
   },
   "outputs": [],
   "source": [
    "# Resample to monthly values\n",
    "\n",
    "aapl_Monthly = aapl.resample('A').mean()"
   ]
  },
  {
   "cell_type": "code",
   "execution_count": null,
   "id": "f08d92c3",
   "metadata": {
    "slideshow": {
     "slide_type": "slide"
    }
   },
   "outputs": [],
   "source": [
    "# Let's look at the 5 first observations\n",
    "\n",
    "aapl_Monthly.head()"
   ]
  },
  {
   "cell_type": "code",
   "execution_count": null,
   "id": "835cc0fb",
   "metadata": {
    "slideshow": {
     "slide_type": "slide"
    }
   },
   "outputs": [],
   "source": [
    "# And we can plot the monthly values\n",
    "\n",
    "aapl_Monthly['Close'].plot(figsize=(8,3),\n",
    "                           lw=5,\n",
    "                           color='black',\n",
    "                           linestyle=':')\n",
    "plt.show()"
   ]
  }
 ],
 "metadata": {
  "celltoolbar": "Slideshow",
  "kernelspec": {
   "display_name": "Python 3 (ipykernel)",
   "language": "python",
   "name": "python3"
  },
  "language_info": {
   "codemirror_mode": {
    "name": "ipython",
    "version": 3
   },
   "file_extension": ".py",
   "mimetype": "text/x-python",
   "name": "python",
   "nbconvert_exporter": "python",
   "pygments_lexer": "ipython3",
   "version": "3.10.8"
  }
 },
 "nbformat": 4,
 "nbformat_minor": 5
}
