{
 "cells": [
  {
   "cell_type": "markdown",
   "id": "8eb35658",
   "metadata": {
    "slideshow": {
     "slide_type": "slide"
    }
   },
   "source": [
    "# The Standard Library, Functions and Classes\n",
    "\n",
    "## Course: Programming and Data Management (EDI 3400)\n",
    "\n",
    "### *Vegard H. Larsen (Department of Data Science and Analytics)*"
   ]
  },
  {
   "cell_type": "markdown",
   "id": "732d150b",
   "metadata": {
    "slideshow": {
     "slide_type": "slide"
    }
   },
   "source": [
    "# 1. The Python Standard Library\n",
    "\n",
    "The Python Standard Library, often regarded as one of Python's most powerful assets, is a vast collection of modules and tools that come bundled with the language itself, eliminating the need for external installations. This library offers solutions for a myriad of tasks, from file handling (`os`, `shutil`), to web interactions (`urllib`), data serialization (`json`, `pickle`), and even advanced mathematical operations (`math`, `statistics`). By importing and leveraging these modules, you can significantly enhance your programs' capabilities without reinventing the wheel. Exploring the Python Standard Library accelerates a beginner's journey, as it provides ready-made building blocks that cater to diverse programming challenges, making Python especially appealing for its breadth of utilities and ease of use."
   ]
  },
  {
   "cell_type": "markdown",
   "id": "c08b66dd",
   "metadata": {
    "slideshow": {
     "slide_type": "slide"
    }
   },
   "source": [
    "### The Python Standard Library can be found here\n",
    "https://docs.python.org/3/library/\n",
    "\n",
    "The Python Standard Library is a collection of script modules that can be imported into a Python program to simplify the code and remove the need to rewrite commonly used commands. \n",
    "\n",
    "Some examples of frequently used modules are:\n",
    "- `math` - Provides access to mathematical functions\n",
    "- `random` - Access to a pseudo-random number generator\n",
    "- `datetime`- Support for manipulating dates and times\n",
    "- `time` - Various time-related function\n",
    "- `re` - Regular expression matching operations\n",
    "- `statistics` — Mathematical statistics functions"
   ]
  },
  {
   "cell_type": "markdown",
   "id": "1f76f449",
   "metadata": {
    "slideshow": {
     "slide_type": "slide"
    }
   },
   "source": [
    "## Example usage of the Standard Library"
   ]
  },
  {
   "cell_type": "code",
   "execution_count": 1,
   "id": "fafd3e8e",
   "metadata": {
    "ExecuteTime": {
     "end_time": "2023-08-11T12:27:19.381181Z",
     "start_time": "2023-08-11T12:27:19.112418Z"
    },
    "slideshow": {
     "slide_type": "-"
    }
   },
   "outputs": [
    {
     "name": "stdout",
     "output_type": "stream",
     "text": [
      "-1.0\n",
      "5.0\n"
     ]
    }
   ],
   "source": [
    "# Print out  cos(2*pi) and the log_e(e^5) = ln(e^5)\n",
    "\n",
    "import math\n",
    "\n",
    "print(math.cos(3*math.pi))\n",
    "print(math.log(math.e**5))"
   ]
  },
  {
   "cell_type": "code",
   "execution_count": 2,
   "id": "85e3d3fc",
   "metadata": {
    "ExecuteTime": {
     "end_time": "2023-08-11T12:27:19.381401Z",
     "start_time": "2023-08-11T12:27:19.116553Z"
    },
    "slideshow": {
     "slide_type": "fragment"
    }
   },
   "outputs": [
    {
     "data": {
      "text/plain": [
       "'Tromsø'"
      ]
     },
     "execution_count": 2,
     "metadata": {},
     "output_type": "execute_result"
    }
   ],
   "source": [
    "# Pick a random Norwegian city\n",
    "\n",
    "import random\n",
    "random.choice(['Oslo', 'Bergen', 'Trondheim', 'Stavanger', 'Tromsø'])"
   ]
  },
  {
   "cell_type": "code",
   "execution_count": 3,
   "id": "188793e2",
   "metadata": {
    "ExecuteTime": {
     "end_time": "2023-08-11T12:27:19.381514Z",
     "start_time": "2023-08-11T12:27:19.119351Z"
    },
    "slideshow": {
     "slide_type": "fragment"
    }
   },
   "outputs": [
    {
     "name": "stdout",
     "output_type": "stream",
     "text": [
      "2002-12-31\n",
      "2002-12-26\n"
     ]
    }
   ],
   "source": [
    "# A date corresponding to a date_string given in the format YYYY-MM-DD\n",
    "\n",
    "from datetime import date\n",
    "d = date(2002, 12, 31)\n",
    "print(d)\n",
    "print(d.replace(day=26))"
   ]
  },
  {
   "cell_type": "code",
   "execution_count": 4,
   "id": "461ecc75",
   "metadata": {
    "ExecuteTime": {
     "end_time": "2023-08-11T12:27:19.381601Z",
     "start_time": "2023-08-11T12:27:19.121624Z"
    },
    "slideshow": {
     "slide_type": "slide"
    }
   },
   "outputs": [
    {
     "name": "stdout",
     "output_type": "stream",
     "text": [
      "time.struct_time(tm_year=2023, tm_mon=8, tm_mday=16, tm_hour=7, tm_min=31, tm_sec=9, tm_wday=2, tm_yday=228, tm_isdst=1)\n"
     ]
    }
   ],
   "source": [
    "# What time is it?\n",
    "\n",
    "import time\n",
    "print(time.localtime())"
   ]
  },
  {
   "cell_type": "code",
   "execution_count": 5,
   "id": "32bd1fa9",
   "metadata": {
    "ExecuteTime": {
     "end_time": "2023-08-11T12:27:19.381728Z",
     "start_time": "2023-08-11T12:27:19.124910Z"
    },
    "slideshow": {
     "slide_type": "fragment"
    }
   },
   "outputs": [
    {
     "data": {
      "text/plain": [
       "'vegard.h.larsen@bi.no'"
      ]
     },
     "execution_count": 5,
     "metadata": {},
     "output_type": "execute_result"
    }
   ],
   "source": [
    "# Clean up a string\n",
    "\n",
    "import re\n",
    "email = \"vegard.hRemove_this.larsen@bi.no\"\n",
    "m = re.search(\"Remove_this\", email)\n",
    "email[:m.start()] + email[m.end():]\n"
   ]
  },
  {
   "cell_type": "code",
   "execution_count": 6,
   "id": "55a24782",
   "metadata": {
    "ExecuteTime": {
     "end_time": "2023-08-11T12:27:19.652823Z",
     "start_time": "2023-08-11T12:27:19.126894Z"
    },
    "slideshow": {
     "slide_type": "fragment"
    }
   },
   "outputs": [
    {
     "name": "stdout",
     "output_type": "stream",
     "text": [
      "3.5\n"
     ]
    }
   ],
   "source": [
    "# Calculate the mean of a list\n",
    "\n",
    "import statistics\n",
    "print(statistics.mean([1, 2, 3, 4, 5, 6]))"
   ]
  },
  {
   "cell_type": "markdown",
   "id": "35bf38c2",
   "metadata": {
    "slideshow": {
     "slide_type": "slide"
    }
   },
   "source": [
    "# 2. Creating and working with functions\n",
    "\n",
    "Functions serve as modular, reusable blocks of code designed to execute a specific task. Defined using the `def` keyword followed by a unique name and parentheses, functions encapsulate logic, making code more organized, readable, and maintainable. For instance, a function `add_numbers(a, b)` can be crafted to return the sum of two numbers. Once defined, this function can be \"called\" multiple times throughout the code with different arguments, producing varied results. Functions can accept input parameters, return results, and even have default values. Mastering functions is essential to foster a structured approach to coding. By breaking complex problems into smaller, solvable pieces via functions, you learn to write efficient, scalable, and modular code, crucial for larger programming projects."
   ]
  },
  {
   "cell_type": "markdown",
   "id": "1bad6027",
   "metadata": {
    "slideshow": {
     "slide_type": "slide"
    }
   },
   "source": [
    "## Functions\n",
    "\n",
    "- Functions are a great way of reusing code that you will use several times in your code. \n",
    "- A function is a block of code which only runs when it is called.\n",
    "- You can pass data to the function as parameters and the function can return data."
   ]
  },
  {
   "cell_type": "markdown",
   "id": "890180a9",
   "metadata": {
    "slideshow": {
     "slide_type": "slide"
    }
   },
   "source": [
    "### Recipe for creating a function:\n",
    "1. The function must be created using the `def` keyword.\n",
    "2. Select a name for the function. \n",
    "    - Use a name that describes what the function does\n",
    "3. Select the parameters that will be the inputs to the function. It is possible to create a function with no parameters.\n",
    "4. Write the code that make the function do what we want\n",
    "    - Note that variables defined within a function body is not available outside the function\n",
    "5. End the function with the `return` keyword to return the output. This is optional. The function will return None if the `return` keyword is skipped."
   ]
  },
  {
   "cell_type": "markdown",
   "id": "901fc854",
   "metadata": {
    "slideshow": {
     "slide_type": "slide"
    }
   },
   "source": [
    "## The structure of a Python function:"
   ]
  },
  {
   "cell_type": "code",
   "execution_count": 7,
   "id": "9e8f3d07",
   "metadata": {
    "ExecuteTime": {
     "end_time": "2023-08-11T12:27:19.652950Z",
     "start_time": "2023-08-11T12:27:19.143202Z"
    },
    "slideshow": {
     "slide_type": "-"
    }
   },
   "outputs": [],
   "source": [
    "# The first line of the function is called the header\n",
    "def nameOfFunction(first_parameter, second_parameter):\n",
    "    # The code for the function goes here and it is called the body of the function\n",
    "    # Having the right indentation is crucial for Python to understand what the body of the function is\n",
    "    return first_return_variable, second_return_variable \n",
    "# If no return statement is provided the function return None"
   ]
  },
  {
   "cell_type": "markdown",
   "id": "4c9181eb",
   "metadata": {
    "slideshow": {
     "slide_type": "slide"
    }
   },
   "source": [
    "## Some examples:"
   ]
  },
  {
   "cell_type": "code",
   "execution_count": 8,
   "id": "b7615694",
   "metadata": {
    "ExecuteTime": {
     "end_time": "2023-08-11T12:27:19.712102Z",
     "start_time": "2023-08-11T12:27:19.146090Z"
    }
   },
   "outputs": [],
   "source": [
    "def scream(string):\n",
    "    print(string.upper() + '!!')\n",
    "    return(string.capitalize())"
   ]
  },
  {
   "cell_type": "code",
   "execution_count": 9,
   "id": "2ad36b8d",
   "metadata": {
    "ExecuteTime": {
     "end_time": "2023-08-11T12:27:20.429136Z",
     "start_time": "2023-08-11T12:27:19.148372Z"
    },
    "slideshow": {
     "slide_type": "fragment"
    }
   },
   "outputs": [
    {
     "name": "stdout",
     "output_type": "stream",
     "text": [
      "HI!!\n"
     ]
    },
    {
     "data": {
      "text/plain": [
       "'Hi'"
      ]
     },
     "execution_count": 9,
     "metadata": {},
     "output_type": "execute_result"
    }
   ],
   "source": [
    "scream('hi')"
   ]
  },
  {
   "cell_type": "code",
   "execution_count": 10,
   "id": "20681c8b",
   "metadata": {
    "ExecuteTime": {
     "end_time": "2023-08-11T12:27:20.429338Z",
     "start_time": "2023-08-11T12:27:19.154595Z"
    },
    "slideshow": {
     "slide_type": "fragment"
    }
   },
   "outputs": [
    {
     "name": "stdout",
     "output_type": "stream",
     "text": [
      "HI!!\n"
     ]
    }
   ],
   "source": [
    "value = scream('hi')"
   ]
  },
  {
   "cell_type": "code",
   "execution_count": 11,
   "id": "c0a293e3",
   "metadata": {
    "ExecuteTime": {
     "end_time": "2023-08-11T12:27:20.429468Z",
     "start_time": "2023-08-11T12:27:19.155888Z"
    },
    "slideshow": {
     "slide_type": "fragment"
    }
   },
   "outputs": [
    {
     "data": {
      "text/plain": [
       "'Hi'"
      ]
     },
     "execution_count": 11,
     "metadata": {},
     "output_type": "execute_result"
    }
   ],
   "source": [
    "value"
   ]
  },
  {
   "cell_type": "markdown",
   "id": "e9ce27a1",
   "metadata": {
    "slideshow": {
     "slide_type": "slide"
    }
   },
   "source": [
    "# Example of a function that converts Fahrenheit to Celsius (and Kelvin)"
   ]
  },
  {
   "cell_type": "code",
   "execution_count": 12,
   "id": "cb4feb3c",
   "metadata": {
    "ExecuteTime": {
     "end_time": "2023-08-11T12:27:20.429573Z",
     "start_time": "2023-08-11T12:27:19.157408Z"
    },
    "slideshow": {
     "slide_type": "-"
    }
   },
   "outputs": [],
   "source": [
    "# A function that converts a temperature given in Fahrenheit to Celsius\n",
    "\n",
    "def fahrenheit2celsius(fahrenheit):\n",
    "    celsius = (5 / 9) * (fahrenheit - 32)\n",
    "    return celsius"
   ]
  },
  {
   "cell_type": "code",
   "execution_count": 13,
   "id": "936c8a39",
   "metadata": {
    "ExecuteTime": {
     "end_time": "2023-08-11T12:27:20.429678Z",
     "start_time": "2023-08-11T12:27:19.159495Z"
    },
    "slideshow": {
     "slide_type": "fragment"
    }
   },
   "outputs": [
    {
     "data": {
      "text/plain": [
       "0.0"
      ]
     },
     "execution_count": 13,
     "metadata": {},
     "output_type": "execute_result"
    }
   ],
   "source": [
    "fahrenheit2celsius(32)"
   ]
  },
  {
   "cell_type": "markdown",
   "id": "d63fc7ea",
   "metadata": {
    "slideshow": {
     "slide_type": "fragment"
    }
   },
   "source": [
    "#### What about Fahrenheit to Kelvin?"
   ]
  },
  {
   "cell_type": "code",
   "execution_count": 14,
   "id": "a2299358",
   "metadata": {
    "ExecuteTime": {
     "end_time": "2023-08-11T12:27:20.429757Z",
     "start_time": "2023-08-11T12:27:19.162721Z"
    },
    "slideshow": {
     "slide_type": "fragment"
    }
   },
   "outputs": [],
   "source": [
    "# A function that converts Fahrenheit to Kelvin\n",
    "\n",
    "def fahrenheit2kelvin(fahrenheit):\n",
    "    kelvin = 273.15 + fahrenheit2celsius(fahrenheit)\n",
    "    return(kelvin)"
   ]
  },
  {
   "cell_type": "code",
   "execution_count": 15,
   "id": "b7ede9c1",
   "metadata": {
    "ExecuteTime": {
     "end_time": "2023-08-11T12:27:20.429859Z",
     "start_time": "2023-08-11T12:27:19.164783Z"
    },
    "slideshow": {
     "slide_type": "fragment"
    }
   },
   "outputs": [
    {
     "data": {
      "text/plain": [
       "273.15"
      ]
     },
     "execution_count": 15,
     "metadata": {},
     "output_type": "execute_result"
    }
   ],
   "source": [
    "fahrenheit2kelvin(32)"
   ]
  },
  {
   "cell_type": "markdown",
   "id": "b4b072e3",
   "metadata": {
    "slideshow": {
     "slide_type": "slide"
    }
   },
   "source": [
    "## Make a function that behaves like a dice"
   ]
  },
  {
   "cell_type": "code",
   "execution_count": 16,
   "id": "c5312c0e",
   "metadata": {
    "ExecuteTime": {
     "end_time": "2023-08-11T12:27:20.493380Z",
     "start_time": "2023-08-11T12:27:19.167282Z"
    },
    "slideshow": {
     "slide_type": "-"
    }
   },
   "outputs": [],
   "source": [
    "# The probability of getting a 6 using a fair dice is 1/6=0.16666666...\n",
    "\n",
    "import random\n",
    "\n",
    "def dice():\n",
    "    dice_value = random.choice([1, 2, 3, 4, 5, 6])\n",
    "    return(dice_value)"
   ]
  },
  {
   "cell_type": "code",
   "execution_count": 17,
   "id": "f3c747be",
   "metadata": {
    "ExecuteTime": {
     "end_time": "2023-08-11T12:27:20.493712Z",
     "start_time": "2023-08-11T12:27:19.169464Z"
    },
    "slideshow": {
     "slide_type": "fragment"
    }
   },
   "outputs": [
    {
     "data": {
      "text/plain": [
       "3"
      ]
     },
     "execution_count": 17,
     "metadata": {},
     "output_type": "execute_result"
    }
   ],
   "source": [
    "# Throw the dice\n",
    "\n",
    "dice()"
   ]
  },
  {
   "cell_type": "code",
   "execution_count": 18,
   "id": "937d61ae",
   "metadata": {
    "ExecuteTime": {
     "end_time": "2023-08-11T12:27:20.631635Z",
     "start_time": "2023-08-11T12:27:19.171865Z"
    },
    "slideshow": {
     "slide_type": "fragment"
    }
   },
   "outputs": [],
   "source": [
    "# The probability of getting a 6 using the cheating dice is 3/9=0.333333.. \n",
    "\n",
    "def cheating_dice():\n",
    "    dice_value = random.choice([1, 2, 3, 4, 5, 5, 6, 6, 6])\n",
    "    return(dice_value)"
   ]
  },
  {
   "cell_type": "code",
   "execution_count": 19,
   "id": "415864d3",
   "metadata": {
    "ExecuteTime": {
     "end_time": "2023-08-11T12:27:20.631921Z",
     "start_time": "2023-08-11T12:27:19.174234Z"
    }
   },
   "outputs": [
    {
     "data": {
      "text/plain": [
       "6"
      ]
     },
     "execution_count": 19,
     "metadata": {},
     "output_type": "execute_result"
    }
   ],
   "source": [
    "cheating_dice()"
   ]
  },
  {
   "cell_type": "code",
   "execution_count": 20,
   "id": "68f33c02",
   "metadata": {
    "ExecuteTime": {
     "end_time": "2023-08-11T12:27:20.883596Z",
     "start_time": "2023-08-11T12:27:19.176551Z"
    },
    "slideshow": {
     "slide_type": "fragment"
    }
   },
   "outputs": [
    {
     "data": {
      "text/plain": [
       "6"
      ]
     },
     "execution_count": 20,
     "metadata": {},
     "output_type": "execute_result"
    }
   ],
   "source": [
    "# Throw the cheating dice \n",
    "cheating_dice()"
   ]
  },
  {
   "cell_type": "code",
   "execution_count": 21,
   "id": "d2b286c1",
   "metadata": {
    "ExecuteTime": {
     "end_time": "2023-08-11T12:27:20.889889Z",
     "start_time": "2023-08-11T12:27:19.179945Z"
    },
    "slideshow": {
     "slide_type": "slide"
    }
   },
   "outputs": [],
   "source": [
    "# Let's do an experiment throwing the dice 50 000 times\n",
    "\n",
    "number_of_throws = 5000\n",
    "\n",
    "values_dice = []\n",
    "values_cheating_dice = []\n",
    "\n",
    "for i in range(number_of_throws):\n",
    "    values_dice.append(dice())\n",
    "    values_cheating_dice.append(cheating_dice())"
   ]
  },
  {
   "cell_type": "code",
   "execution_count": 22,
   "id": "eafe0338",
   "metadata": {
    "ExecuteTime": {
     "end_time": "2023-08-11T12:27:20.890477Z",
     "start_time": "2023-08-11T12:27:19.218Z"
    },
    "slideshow": {
     "slide_type": "fragment"
    }
   },
   "outputs": [
    {
     "name": "stdout",
     "output_type": "stream",
     "text": [
      "[4, 1, 6, 6, 6, 6, 2, 5, 3, 1, 5, 6, 4, 6, 6, 2, 5, 5, 2, 5, 5, 6, 6, 3, 4, 6, 5, 4, 6, 6, 2, 6, 4, 1, 5, 5, 1, 5, 2, 4, 4, 5, 6, 6, 5, 5, 6, 4, 5, 6, 5, 3, 6, 5, 5, 6, 1, 6, 1, 6, 5, 5, 3, 5, 2, 6, 4, 6, 6, 6, 6, 5, 2, 6, 2, 5, 6, 2, 6, 5, 2, 6, 6, 1, 5, 1, 5, 6, 3, 2, 5, 6, 3, 3, 3, 6, 6, 5, 5, 6, 6, 6, 4, 3, 3, 6, 4, 6, 5, 6, 6, 5, 4, 6, 5, 5, 6, 6, 5, 3, 1, 1, 3, 2, 2, 5, 6, 5, 2, 5, 3, 6, 2, 6, 2, 2, 2, 5, 5, 6, 3, 6, 6, 5, 6, 5, 6, 1, 6, 3, 6, 6, 6, 4, 6, 5, 4, 3, 6, 2, 6, 6, 5, 6, 2, 1, 4, 5, 6, 5, 6, 3, 6, 4, 2, 5, 5, 6, 5, 3, 3, 5, 6, 5, 6, 1, 6, 6, 1, 6, 2, 5, 6, 4, 4, 6, 5, 5, 3, 1, 4, 3, 6, 1, 2, 6, 5, 5, 3, 4, 3, 6, 6, 3, 4, 6, 5, 3, 6, 5, 1, 6, 6, 5, 6, 6, 1, 5, 6, 3, 4, 6, 5, 3, 3, 6, 2, 5, 5, 6, 2, 4, 1, 4, 6, 6, 6, 6, 6, 6, 3, 5, 5, 5, 1, 4, 2, 5, 6, 6, 6, 1, 6, 1, 4, 6, 4, 6, 6, 6, 5, 6, 2, 5, 4, 5, 5, 6, 5, 4, 6, 1, 3, 6, 3, 6, 5, 6, 6, 6, 5, 5, 5, 6, 6, 2, 5, 5, 2, 5, 5, 2, 5, 6, 5, 6, 6, 6, 5, 6, 2, 5, 6, 1, 3, 2, 5, 3, 4, 5, 1, 4, 3, 5, 6, 6, 6, 4, 2, 6, 1, 5, 2, 6, 6, 6, 3, 2, 5, 6, 5, 2, 4, 3, 6, 6, 6, 4, 5, 3, 1, 6, 6, 2, 6, 5, 6, 6, 4, 6, 5, 6, 5, 5, 5, 6, 6, 6, 3, 6, 6, 6, 3, 2, 6, 6, 5, 2, 5, 2, 2, 6, 6, 6, 5, 6, 6, 3, 3, 3, 3, 5, 6, 2, 4, 6, 3, 6, 6, 6, 5, 1, 6, 5, 4, 4, 5, 6, 5, 5, 1, 4, 5, 1, 6, 4, 5, 2, 6, 5, 4, 6, 6, 1, 4, 6, 6, 6, 6, 6, 5, 4, 4, 2, 4, 2, 5, 5, 5, 1, 4, 4, 6, 5, 3, 6, 5, 5, 4, 6, 6, 4, 6, 3, 5, 5, 1, 4, 6, 1, 1, 5, 5, 2, 6, 4, 4, 3, 5, 5, 6, 6, 2, 6, 6, 3, 4, 1, 6, 5, 1, 5, 5, 3, 5, 6, 4, 4, 6, 6, 5, 5, 3, 6, 1, 6, 4, 4, 3, 6, 5, 6, 2, 4, 6, 1, 1, 5, 2, 2, 5, 1, 2, 5, 5, 4, 5, 1, 3, 3, 6, 6, 6, 5, 1, 6, 5, 2, 3, 3, 5, 4, 1, 6, 1, 3, 5, 5, 5, 4, 3, 5, 6, 5, 4, 6, 6, 1, 5, 6, 2, 6, 3, 6, 6, 6, 6, 5, 2, 1, 3, 6, 1, 6, 6, 5, 6, 6, 6, 1, 6, 3, 1, 6, 5, 3, 6, 6, 2, 5, 6, 6, 6, 6, 3, 5, 3, 6, 5, 4, 6, 2, 6, 2, 3, 5, 6, 6, 2, 6, 3, 4, 2, 2, 3, 6, 5, 2, 2, 1, 6, 6, 5, 6, 1, 3, 5, 3, 2, 2, 6, 6, 5, 5, 2, 3, 5, 6, 5, 4, 1, 1, 1, 6, 5, 6, 6, 6, 2, 6, 3, 5, 2, 5, 6, 3, 4, 6, 3, 4, 3, 5, 2, 2, 4, 5, 5, 6, 6, 5, 6, 4, 5, 6, 6, 5, 6, 5, 5, 6, 1, 5, 6, 5, 6, 3, 5, 2, 6, 1, 6, 3, 4, 6, 1, 5, 1, 3, 4, 6, 2, 6, 2, 5, 1, 6, 5, 3, 2, 6, 5, 6, 5, 1, 5, 5, 4, 5, 4, 6, 6, 4, 4, 5, 5, 6, 4, 2, 6, 6, 6, 3, 5, 3, 2, 2, 6, 2, 1, 3, 5, 6, 4, 1, 6, 3, 1, 6, 1, 6, 6, 5, 4, 4, 1, 1, 5, 5, 5, 6, 6, 4, 3, 5, 5, 5, 5, 3, 4, 2, 5, 6, 1, 6, 5, 6, 6, 4, 1, 2, 3, 4, 3, 4, 2, 5, 6, 1, 2, 3, 6, 6, 5, 6, 5, 4, 6, 3, 6, 6, 5, 1, 5, 1, 1, 6, 2, 6, 6, 6, 5, 5, 3, 1, 6, 4, 6, 5, 3, 1, 5, 5, 5, 4, 5, 3, 6, 5, 1, 6, 4, 6, 6, 5, 5, 4, 6, 3, 2, 6, 2, 6, 1, 2, 3, 6, 1, 6, 3, 6, 6, 3, 1, 5, 1, 4, 3, 1, 5, 6, 2, 3, 6, 5, 6, 4, 6, 6, 6, 1, 2, 3, 5, 5, 1, 2, 6, 5, 5, 5, 6, 5, 6, 5, 6, 5, 4, 2, 4, 5, 2, 6, 5, 6, 3, 5, 3, 6, 5, 1, 6, 6, 5, 2, 5, 2, 3, 6, 4, 1, 1, 3, 5, 6, 6, 5, 5, 3, 3, 5, 1, 6, 6, 4, 6, 5, 1, 6, 3, 3, 5, 2, 3, 6, 3, 1, 3, 1, 5, 6, 6, 6, 6, 5, 1, 3, 6, 3, 6, 6, 4, 1, 6, 1, 1, 4, 3, 2, 2, 5, 6, 5, 2, 1, 5, 5, 2, 5, 1, 2, 4, 5, 5, 6, 4, 5, 6, 3, 6, 4, 6, 5, 2, 1, 3, 6, 6, 5, 6, 6, 6, 5, 6, 2, 6, 5, 1, 6, 6, 5, 1, 4, 3, 5, 1, 3, 6, 6, 6, 6, 6, 2, 6, 2, 5, 2, 4, 4, 6, 6, 6, 6, 6, 5, 6, 3, 2, 1, 1, 5, 2, 6, 4, 6, 2, 5, 1, 4, 1, 6, 5, 5, 1, 5, 4, 6, 6, 1, 6, 5, 1, 6, 6, 4, 3, 3, 5, 6, 3, 6, 2, 5, 1, 2, 1, 1, 6, 2, 5, 1, 2, 2, 5, 6, 1, 4, 6, 2, 6, 5, 6, 4, 6, 5, 1, 1, 2, 6, 5, 6, 5, 5, 6, 3, 2, 1, 6, 6, 6, 6, 6, 1, 4, 4, 6, 3, 5, 6, 6, 3, 6, 3, 5, 6, 6, 1, 2, 5, 2, 6, 6, 1, 6, 5, 1, 6, 1, 4, 1, 3, 1, 2, 3, 2, 5, 4, 6, 5, 5, 5, 5, 5, 5, 3, 5, 1, 3, 2, 3, 2, 4, 4, 5, 5, 2, 1, 3, 5, 5, 6, 4, 6, 3, 2, 6, 5, 5, 1, 2, 5, 3, 6, 6, 6, 3, 5, 4, 6, 5, 6, 6, 6, 3, 4, 2, 6, 4, 6, 6, 2, 6, 1, 5, 1, 6, 6, 6, 3, 1, 3, 4, 2, 5, 6, 6, 6, 6, 5, 4, 1, 2, 2, 3, 6, 6, 6, 5, 4, 5, 6, 5, 1, 1, 4, 5, 6, 2, 6, 6, 6, 6, 6, 4, 4, 6, 6, 5, 6, 2, 6, 6, 2, 4, 6, 5, 5, 5, 4, 5, 6, 4, 6, 6, 2, 6, 6, 5, 2, 4, 4, 5, 6, 6, 4, 6, 6, 5, 3, 6, 4, 3, 6, 6, 6, 1, 5, 5, 4, 3, 5, 5, 3, 1, 5, 6, 1, 2, 2, 6, 2, 5, 6, 6, 5, 2, 2, 5, 6, 3, 3, 1, 1, 2, 2, 2, 6, 3, 4, 2, 6, 6, 5, 1, 6, 6, 3, 6, 5, 4, 4, 6, 6, 2, 6, 4, 6, 6, 5, 6, 6, 5, 3, 6, 6, 5, 6, 5, 5, 6, 6, 3, 6, 4, 6, 4, 6, 5, 6, 5, 3, 6, 6, 1, 6, 3, 5, 6, 6, 5, 1, 2, 6, 2, 5, 6, 6, 6, 2, 4, 5, 5, 6, 6, 6, 1, 1, 1, 1, 3, 5, 2, 3, 5, 6, 2, 4, 3, 5, 3, 4, 5, 6, 6, 6, 4, 1, 3, 4, 1, 5, 4, 6, 2, 6, 5, 5, 3, 6, 2, 5, 4, 5, 5, 3, 6, 5, 6, 5, 6, 1, 4, 4, 6, 6, 3, 6, 1, 5, 3, 2, 5, 6, 6, 6, 6, 6, 6, 1, 5, 5, 4, 4, 1, 3, 1, 6, 3, 6, 3, 6, 6, 3, 6, 3, 5, 6, 3, 6, 6, 2, 5, 5, 6, 6, 6, 5, 5, 4, 6, 6, 6, 5, 6, 1, 5, 4, 6, 2, 5, 5, 6, 1, 3, 4, 1, 2, 2, 6, 5, 3, 5, 2, 6, 1, 2, 3, 5, 6, 1, 4, 3, 6, 3, 6, 1, 2, 5, 3, 6, 6, 5, 5, 3, 6, 3, 4, 4, 5, 2, 6, 5, 4, 6, 6, 6, 3, 5, 5, 6, 1, 6, 1, 1, 5, 4, 2, 5, 2, 6, 1, 6, 3, 3, 6, 4, 4, 6, 2, 3, 1, 6, 4, 5, 6, 1, 6, 2, 2, 6, 3, 1, 3, 5, 1, 6, 5, 5, 6, 4, 5, 1, 5, 4, 6, 6, 5, 3, 3, 6, 4, 4, 6, 3, 3, 6, 5, 5, 5, 2, 5, 6, 6, 5, 3, 5, 3, 5, 5, 5, 2, 2, 5, 2, 1, 5, 3, 5, 2, 3, 5, 5, 5, 2, 5, 5, 4, 4, 5, 1, 6, 5, 2, 6, 2, 5, 6, 6, 5, 3, 6, 6, 5, 5, 2, 1, 6, 3, 1, 3, 6, 6, 2, 5, 6, 5, 1, 6, 3, 3, 6, 6, 3, 3, 5, 5, 3, 6, 1, 4, 4, 5, 5, 6, 6, 6, 6, 6, 5, 5, 3, 3, 6, 4, 6, 5, 5, 5, 5, 6, 5, 4, 5, 6, 6, 1, 4, 6, 5, 2, 3, 3, 6, 5, 4, 4, 5, 6, 1, 3, 5, 6, 6, 6, 5, 2, 6, 6, 1, 1, 5, 6, 1, 6, 5, 5, 6, 5, 5, 6, 6, 5, 1, 2, 5, 6, 2, 3, 6, 5, 6, 5, 6, 5, 6, 2, 2, 3, 1, 2, 6, 3, 3, 5, 6, 4, 2, 6, 6, 6, 1, 5, 6, 6, 6, 6, 2, 6, 5, 1, 2, 5, 5, 5, 5, 4, 6, 4, 6, 2, 4, 2, 6, 2, 4, 5, 4, 6, 6, 5, 2, 6, 2, 6, 6, 5, 6, 6, 5, 2, 1, 4, 1, 5, 4, 1, 6, 1, 5, 6, 6, 6, 6, 6, 5, 1, 6, 6, 3, 6, 5, 3, 5, 4, 6, 4, 5, 6, 3, 5, 2, 5, 5, 6, 6, 6, 4, 5, 1, 6, 1, 3, 6, 6, 5, 4, 4, 6, 4, 6, 4, 2, 6, 5, 2, 2, 5, 6, 6, 3, 1, 3, 2, 5, 6, 6, 2, 2, 5, 4, 2, 6, 3, 3, 4, 2, 4, 6, 5, 5, 2, 2, 4, 5, 6, 3, 6, 5, 6, 6, 5, 4, 5, 6, 6, 6, 5, 4, 6, 1, 1, 5, 5, 4, 5, 6, 6, 1, 6, 3, 2, 1, 1, 2, 4, 3, 1, 6, 6, 3, 2, 6, 3, 6, 6, 3, 2, 5, 6, 6, 6, 3, 5, 6, 5, 6, 3, 4, 4, 5, 3, 4, 2, 3, 5, 6, 2, 6, 5, 4, 6, 5, 6, 4, 5, 3, 2, 2, 6, 5, 6, 5, 1, 6, 4, 6, 6, 1, 3, 3, 1, 2, 3, 6, 5, 5, 3, 6, 1, 3, 1, 3, 5, 1, 6, 3, 6, 1, 5, 5, 4, 5, 6, 5, 2, 6, 6, 6, 5, 2, 1, 6, 6, 4, 2, 5, 6, 1, 5, 6, 6, 3, 4, 2, 5, 6, 2, 6, 3, 6, 5, 6, 6, 2, 1, 6, 5, 2, 2, 2, 2, 6, 3, 1, 2, 1, 4, 5, 3, 1, 6, 5, 4, 5, 6, 4, 3, 5, 5, 6, 3, 2, 3, 6, 6, 1, 6, 5, 6, 1, 5, 1, 1, 6, 3, 5, 5, 2, 3, 4, 5, 5, 5, 2, 3, 5, 2, 3, 2, 6, 2, 6, 1, 4, 5, 6, 3, 1, 5, 6, 3, 5, 6, 2, 1, 5, 6, 6, 2, 5, 5, 2, 1, 4, 5, 3, 4, 5, 3, 5, 6, 2, 6, 3, 1, 2, 5, 5, 4, 6, 2, 5, 5, 5, 5, 5, 4, 2, 3, 6, 5, 6, 4, 5, 4, 4, 6, 3, 6, 3, 5, 6, 3, 4, 4, 4, 2, 4, 6, 5, 3, 2, 5, 2, 2, 4, 6, 4, 6, 6, 5, 6, 3, 6, 3, 5, 1, 5, 4, 6, 5, 1, 4, 6, 6, 1, 3, 2, 5, 6, 2, 5, 5, 6, 5, 2, 3, 1, 6, 6, 6, 1, 4, 6, 3, 3, 5, 3, 5, 5, 4, 5, 6, 3, 2, 4, 6, 5, 5, 1, 3, 5, 2, 2, 3, 5, 1, 6, 5, 6, 6, 4, 6, 6, 6, 4, 6, 5, 6, 3, 6, 6, 6, 3, 4, 5, 3, 6, 1, 6, 6, 5, 5, 5, 5, 4, 4, 1, 1, 4, 5, 5, 4, 6, 3, 6, 6, 2, 5, 2, 4, 1, 5, 4, 5, 5, 6, 6, 6, 1, 6, 2, 2, 5, 6, 3, 2, 6, 6, 6, 2, 6, 4, 2, 3, 2, 5, 6, 6, 3, 6, 3, 2, 6, 6, 5, 3, 3, 5, 4, 6, 4, 3, 6, 3, 5, 2, 1, 5, 6, 4, 6, 6, 3, 5, 5, 5, 1, 1, 2, 3, 6, 2, 1, 4, 2, 5, 6, 4, 6, 5, 6, 5, 6, 1, 6, 5, 5, 4, 5, 2, 6, 1, 6, 6, 3, 5, 4, 6, 6, 2, 5, 1, 4, 2, 1, 2, 4, 6, 6, 4, 6, 5, 6, 6, 5, 1, 3, 6, 5, 6, 5, 6, 3, 5, 5, 5, 1, 1, 3, 6, 2, 6, 4, 4, 6, 5, 1, 5, 3, 6, 6, 1, 5, 2, 5, 6, 4, 6, 6, 1, 6, 6, 6, 3, 3, 3, 6, 6, 6, 3, 1, 4, 4, 2, 6, 6, 4, 4, 5, 5, 6, 3, 1, 2, 4, 2, 5, 4, 4, 6, 6, 5, 3, 5, 3, 2, 6, 6, 6, 1, 5, 2, 6, 5, 6, 3, 5, 5, 2, 1, 6, 5, 4, 6, 4, 2, 6, 6, 4, 1, 6, 4, 1, 4, 6, 3, 3, 2, 4, 5, 6, 6, 1, 1, 6, 1, 4, 1, 4, 6, 2, 6, 6, 5, 2, 6, 5, 6, 4, 1, 6, 6, 6, 1, 6, 6, 1, 6, 6, 4, 3, 3, 5, 5, 1, 1, 5, 3, 1, 6, 6, 5, 5, 2, 6, 6, 1, 2, 5, 6, 6, 4, 3, 5, 3, 5, 4, 6, 6, 6, 4, 5, 5, 6, 3, 5, 6, 3, 1, 5, 5, 6, 6, 5, 6, 6, 5, 6, 5, 6, 1, 6, 2, 5, 5, 3, 3, 2, 6, 5, 3, 1, 2, 6, 6, 1, 6, 4, 4, 4, 2, 4, 5, 6, 6, 6, 6, 4, 2, 4, 6, 5, 5, 2, 2, 6, 5, 6, 6, 6, 1, 2, 6, 5, 5, 3, 4, 6, 5, 5, 6, 3, 5, 4, 6, 6, 1, 6, 2, 5, 6, 5, 4, 4, 6, 4, 1, 6, 4, 5, 6, 5, 5, 1, 1, 6, 5, 1, 5, 6, 4, 2, 1, 6, 1, 6, 6, 6, 5, 2, 6, 5, 5, 2, 5, 6, 5, 1, 6, 1, 6, 5, 5, 6, 3, 1, 5, 2, 2, 6, 3, 5, 5, 2, 6, 5, 6, 4, 6, 4, 5, 1, 5, 4, 6, 3, 6, 4, 4, 6, 1, 2, 1, 6, 6, 6, 5, 1, 6, 4, 6, 6, 5, 3, 4, 6, 5, 1, 4, 2, 1, 5, 2, 3, 6, 6, 6, 2, 2, 6, 5, 6, 5, 6, 6, 5, 6, 4, 6, 5, 6, 2, 6, 6, 5, 1, 3, 6, 5, 3, 3, 3, 3, 6, 5, 5, 4, 5, 5, 6, 5, 6, 5, 5, 1, 4, 6, 6, 6, 4, 4, 4, 4, 3, 1, 5, 5, 5, 1, 1, 4, 6, 5, 4, 3, 6, 5, 4, 6, 3, 1, 6, 2, 1, 6, 5, 6, 3, 2, 2, 6, 6, 4, 4, 2, 1, 4, 2, 6, 5, 4, 6, 6, 6, 5, 2, 4, 3, 5, 6, 5, 2, 2, 5, 5, 6, 6, 6, 4, 1, 6, 4, 3, 5, 5, 5, 2, 3, 6, 6, 4, 6, 6, 2, 5, 5, 6, 1, 1, 6, 5, 4, 2, 2, 6, 3, 6, 5, 6, 1, 6, 6, 4, 6, 5, 5, 6, 6, 5, 2, 6, 3, 5, 6, 5, 5, 1, 6, 5, 6, 6, 6, 5, 5, 3, 5, 3, 4, 6, 5, 2, 6, 6, 1, 6, 6, 6, 3, 5, 1, 5, 4, 5, 4, 6, 6, 1, 6, 3, 2, 6, 1, 5, 3, 3, 5, 4, 6, 6, 5, 6, 2, 3, 3, 6, 6, 5, 6, 6, 6, 6, 6, 4, 5, 4, 4, 5, 6, 5, 4, 6, 3, 6, 6, 6, 3, 5, 4, 5, 4, 5, 1, 2, 3, 1, 5, 6, 6, 1, 2, 6, 2, 5, 5, 6, 1, 6, 3, 5, 2, 1, 6, 5, 4, 6, 4, 6, 6, 4, 2, 1, 6, 3, 5, 4, 6, 5, 6, 1, 5, 6, 6, 1, 2, 6, 4, 1, 5, 6, 1, 6, 6, 6, 5, 4, 6, 5, 5, 2, 2, 3, 6, 2, 1, 1, 6, 5, 3, 2, 6, 5, 5, 4, 6, 2, 3, 2, 1, 2, 5, 6, 2, 5, 5, 5, 6, 5, 6, 3, 1, 1, 6, 5, 3, 5, 5, 4, 3, 1, 1, 5, 6, 6, 2, 1, 6, 5, 6, 5, 1, 3, 6, 1, 6, 4, 3, 6, 6, 3, 4, 2, 6, 6, 5, 4, 3, 2, 2, 2, 6, 5, 5, 1, 3, 5, 5, 6, 3, 6, 6, 5, 6, 4, 6, 1, 6, 6, 3, 4, 5, 3, 3, 1, 4, 4, 3, 6, 5, 1, 6, 2, 5, 5, 6, 5, 1, 6, 5, 1, 6, 6, 5, 6, 4, 6, 5, 3, 6, 2, 3, 6, 1, 5, 5, 2, 6, 6, 6, 2, 6, 3, 3, 6, 6, 6, 5, 2, 6, 2, 4, 5, 3, 5, 5, 3, 2, 1, 6, 1, 6, 6, 4, 2, 6, 6, 4, 5, 6, 3, 3, 6, 6, 3, 6, 6, 6, 5, 1, 6, 3, 2, 5, 2, 6, 2, 5, 6, 5, 6, 2, 6, 5, 2, 6, 4, 6, 4, 6, 6, 5, 4, 3, 4, 2, 2, 3, 5, 3, 6, 6, 1, 1, 5, 3, 3, 5, 2, 1, 5, 6, 3, 6, 5, 3, 6, 6, 3, 4, 5, 5, 4, 2, 6, 6, 1, 5, 1, 6, 5, 5, 6, 6, 6, 5, 5, 6, 3, 5, 5, 6, 5, 2, 1, 5, 2, 2, 6, 5, 1, 5, 3, 6, 4, 6, 5, 2, 1, 4, 1, 6, 5, 4, 2, 5, 4, 6, 2, 1, 2, 5, 2, 6, 6, 6, 6, 5, 2, 5, 4, 5, 5, 4, 4, 1, 3, 6, 5, 6, 2, 4, 3, 5, 5, 6, 5, 5, 2, 6, 5, 6, 3, 2, 3, 3, 2, 2, 6, 3, 3, 6, 5, 6, 1, 3, 6, 6, 6, 6, 3, 5, 5, 4, 4, 5, 6, 4, 2, 1, 4, 6, 6, 4, 4, 6, 1, 2, 4, 5, 6, 1, 2, 4, 5, 5, 2, 6, 6, 4, 5, 4, 5, 6, 4, 4, 4, 4, 5, 4, 6, 6, 1, 6, 5, 2, 6, 6, 6, 4, 4, 6, 1, 5, 5, 3, 5, 5, 6, 3, 4, 6, 6, 6, 1, 6, 6, 4, 5, 6, 4, 6, 5, 6, 4, 5, 2, 5, 6, 3, 6, 6, 6, 3, 6, 6, 6, 3, 6, 5, 6, 4, 5, 6, 1, 3, 1, 6, 5, 5, 1, 3, 2, 6, 5, 6, 6, 3, 6, 5, 5, 2, 4, 6, 6, 5, 3, 5, 3, 5, 3, 1, 2, 1, 3, 2, 6, 6, 6, 6, 4, 2, 2, 6, 1, 2, 5, 5, 1, 6, 6, 5, 3, 2, 5, 6, 2, 6, 3, 6, 6, 6, 6, 4, 6, 6, 6, 5, 6, 4, 3, 6, 3, 4, 1, 1, 6, 6, 1, 1, 5, 2, 6, 1, 6, 4, 6, 6, 3, 2, 6, 6, 4, 4, 1, 5, 6, 5, 1, 5, 4, 3, 2, 3, 5, 6, 2, 6, 6, 5, 6, 3, 6, 3, 3, 5, 1, 6, 5, 5, 5, 6, 4, 5, 1, 4, 2, 6, 5, 2, 2, 1, 5, 5, 1, 5, 6, 5, 4, 5, 6, 3, 5, 6, 6, 1, 1, 5, 2, 6, 6, 6, 1, 5, 1, 5, 4, 6, 4, 6, 5, 5, 2, 6, 4, 4, 6, 6, 6, 5, 6, 6, 5, 5, 5, 5, 1, 5, 6, 6, 4, 6, 3, 6, 6, 2, 6, 1, 3, 6, 5, 1, 5, 5, 6, 6, 1, 6, 5, 1, 6, 6, 2, 5, 6, 5, 6, 6, 1, 1, 6, 5, 5, 4, 2, 5, 5, 3, 6, 4, 6, 5, 5, 1, 5, 3, 4, 4, 5, 2, 3, 6, 1, 6, 6, 3, 5, 3, 5, 6, 5, 5, 2, 6, 6, 6, 5, 2, 5, 6, 5, 3, 1, 4, 6, 5, 6, 1, 6, 5, 3, 5, 4, 6, 4, 4, 6, 1, 6, 2, 4, 6, 5, 1, 6, 5, 3, 5, 6, 6, 3, 6, 5, 4, 2, 4, 6, 4, 6, 5, 1, 1, 6, 5, 5, 4, 5, 2, 2, 6, 3, 6, 6, 6, 6, 6, 3, 2, 6, 6, 3, 4, 1, 4, 3, 1, 3, 4, 5, 6, 1, 3, 6, 1, 3, 5, 6, 2, 6, 2, 5, 5, 5, 5, 6, 6, 5, 5, 6, 2, 6, 6, 5, 5, 1, 6, 2, 6, 6, 6, 5, 6, 6, 2, 1, 4, 5, 2, 6, 2, 1, 5, 5, 4, 6, 2, 3, 1, 3, 6, 5, 1, 6, 6, 2, 2, 5, 2, 3, 3, 4, 6, 1, 5, 1, 6, 5, 2, 3, 2, 6, 4, 3, 6, 5, 5, 5, 6, 6, 5, 3, 6, 2, 6, 1, 5, 5, 4, 3, 5, 1, 6, 4, 4, 2, 4, 5, 1, 5, 5, 2, 6, 4, 4, 6, 6, 6, 2, 3, 1, 5, 6, 2, 2, 3, 2, 6, 6, 2, 6, 4, 5, 6, 5, 5, 5, 2, 5, 1, 6, 6, 4, 5, 2, 5, 4, 6, 1, 5, 4, 3, 2, 5, 6, 6, 6, 1, 3, 6, 6, 6, 6, 6, 5, 6, 5, 5, 2, 5, 5, 6, 6, 2, 3, 6, 3, 3, 5, 6, 1, 1, 1, 5, 6, 6, 5, 3, 4, 5, 5, 6, 2, 5, 5, 6, 1, 2, 2, 6, 4, 4, 1, 6, 4, 1, 6, 1, 3, 5, 3, 2, 6, 5, 5, 2, 6, 6, 5, 2, 4, 2, 4, 5, 6, 6, 3, 4, 6, 3, 2, 4, 5, 2, 5, 6, 4, 1, 5, 3, 6, 6, 4, 5, 6, 5, 3, 1, 5, 6, 1, 5, 6, 5, 5, 6, 2, 4, 6, 3, 6, 6, 1, 2, 6, 6, 4, 6, 6, 3, 1, 2, 5, 2, 5, 4, 2, 4, 5, 2, 1, 2, 4, 6, 1, 6, 4, 5, 3, 6, 4, 6, 3, 1, 2, 6, 3, 4, 6, 6, 1, 6, 6, 5, 4, 2, 5, 5, 4, 2, 5, 1, 4, 5, 4, 6, 3, 6, 3, 5, 2, 2, 5, 3, 1, 6, 2, 5, 3, 3, 2, 6, 3, 6, 4, 1, 6, 2, 6, 5, 2, 5, 6, 1, 5, 5, 6, 5, 5, 5, 6, 6, 1, 5, 4, 4, 5, 6, 1, 6, 4, 6, 3, 6, 1, 6, 1, 5, 4, 2, 2, 1, 2, 5, 3, 5, 5, 3, 6, 4, 5, 1, 6, 4, 4, 6, 5, 4, 6, 4, 5, 1, 6, 4, 2, 6, 2, 1, 6, 5, 5, 5, 5, 6, 6, 3, 5, 1, 2, 3, 3, 5, 1, 5, 1, 6, 6, 1, 5, 2, 3, 6, 5, 6, 6, 5, 5, 5, 6, 6, 5, 4, 6, 5, 5, 2, 6, 6, 3, 6, 6, 5, 6, 6, 1, 2, 5, 6, 5, 6, 6, 2, 6, 6, 2, 6, 1, 6, 2, 4, 6, 6, 5, 2, 5, 1, 5, 5, 6, 5, 3, 2, 5, 4, 4, 1, 2, 6, 1, 3, 6, 6, 5, 6, 4, 4, 5, 5, 5, 4, 6, 3, 4, 4, 2, 6, 1, 3, 5, 1, 6, 6, 5, 6, 1, 6, 1, 6, 2, 2, 5, 6, 5, 4, 5, 5, 3, 6, 1, 5, 6, 2, 1, 3, 4, 6, 3, 6, 4, 1, 5, 4, 6, 4, 5, 6, 3, 6, 5, 5, 5, 6, 1, 1, 1, 6, 4, 4, 1, 3, 2, 6, 5, 3, 6, 5, 1, 1, 5, 5, 5, 1, 5, 2, 6, 3, 5, 6, 5, 4, 3, 3, 3, 6, 5, 5, 1, 6, 3, 5, 5, 4, 2, 4, 6, 5, 1, 1, 6, 5, 3, 5, 6, 5, 6, 6, 5, 6, 5, 2, 1, 1, 6, 5, 4, 6, 6, 3, 5, 2, 5, 4, 1, 5, 5, 4, 5, 5, 3, 1, 4, 6, 6, 6, 6, 5, 2, 1, 2, 5, 3, 3, 5, 5, 4, 4, 5, 5, 3, 6, 2, 6, 6, 2, 4, 5, 5, 6, 5, 4, 6, 4, 2, 6, 1, 5, 1, 5, 1, 5, 6, 1, 5, 4, 5, 6, 5, 1, 2, 3, 2, 1, 4, 6, 6, 6, 4, 5, 5, 6, 2, 5, 5, 2, 4, 2, 2, 6, 6, 3, 3, 6, 3, 4, 1, 6, 6, 3, 6, 2, 1, 6, 5, 5, 2, 3, 5, 4, 6, 6, 6, 5, 6, 6, 1, 1, 5, 5, 6, 1, 3, 3, 5, 5, 3, 4, 2, 4, 5, 6, 5, 6, 6, 4, 6, 6, 6, 2, 6, 3, 1, 6, 4, 6, 6, 1, 2, 5, 1, 1, 1, 5, 5, 6, 6, 2, 6, 6, 3, 1, 4, 5, 6, 3, 4, 4, 5, 5, 2, 5, 5, 4, 5, 6, 2, 6, 6, 3, 4, 6, 4, 1, 5, 3, 6, 6, 4, 2, 5, 6, 5, 4, 3, 6, 5, 1, 6, 3, 6, 5, 6, 4, 5, 5, 2, 3, 6, 6, 5, 3, 2, 2, 6, 6, 6, 5, 4, 6, 3, 6, 5, 2, 6, 5, 5, 6, 5, 1, 2, 6, 6, 4, 1, 4, 6, 5, 4, 4, 5, 6, 2, 3, 6, 5, 6, 5, 1, 6, 2, 2, 4, 6, 5, 6, 6, 5, 5, 4, 6, 1, 6, 5, 2, 6, 5, 6, 1, 6, 6, 3, 6, 2, 1, 2, 3, 5, 5, 5, 4, 6, 6, 5, 6, 6, 2, 4, 6, 1, 3, 6, 5, 6, 2, 4, 5, 5, 6, 5, 4, 3, 3, 6, 4, 1, 6, 5, 2, 6, 6, 5, 3, 2, 5, 5, 6, 6, 5, 6, 6, 6, 3, 1, 3, 5, 2, 5, 2, 6, 6, 4, 6, 6, 6, 6, 6, 4, 3, 6, 3, 5, 1, 3, 4, 1, 6, 3, 6, 2, 6, 5, 6, 2, 6, 5, 6, 6, 6, 6, 4, 1, 4, 6, 5, 5, 6, 5, 1, 5, 6, 2, 4, 3, 6, 6, 6, 3, 4, 3, 6, 1, 6, 5, 4, 6, 5, 1, 6, 5, 2, 4, 6, 6, 1, 1, 3, 1, 5, 6, 5, 6, 6, 4, 5, 2, 5, 1, 6, 6, 2, 1, 3, 5, 5, 5, 1, 3, 5, 6, 5, 1, 1, 3, 4, 3, 3, 2, 6, 6, 6, 1, 6, 5, 6, 1, 1, 6, 5, 6, 2, 3, 6, 4, 3, 2, 6, 4, 1, 5, 6, 4, 6, 5, 6, 6, 5, 6, 2, 6, 5, 6, 2, 6, 2, 3, 3, 1, 5, 6, 6, 5, 6, 1, 6, 2, 6, 2, 5, 6, 5, 3, 2, 5, 6, 5, 4, 5, 1, 5, 5, 3, 3, 5, 5, 6, 4, 6, 6, 5, 2, 6, 6, 6, 2, 5, 4, 1, 1, 2, 5, 6, 6, 5, 6, 4, 2, 6, 5, 5, 6, 3, 6, 6, 6, 6, 6, 6, 6, 6, 4, 5, 5, 6, 3, 1, 5, 4, 6, 6, 6, 2, 6, 4, 4, 6, 1, 2, 5, 3, 6, 2, 1, 6, 5, 2, 6, 2, 6, 5, 2, 6, 6, 5, 6, 5, 6, 2, 4, 1, 4, 5, 5, 6, 3, 6, 5, 6, 6, 6, 5, 6, 2, 5, 6, 6, 6, 5, 2, 4, 1, 6, 6, 4, 1, 4, 6, 1, 6, 5, 6, 3, 6, 4, 1, 1, 5, 6, 1, 3, 5, 5, 6, 1, 4, 6, 6, 5, 4, 6, 3, 6, 2, 5, 2, 1, 1, 5, 5, 4, 6, 3, 5, 2, 5, 4, 1, 1, 3, 2, 5, 6, 3, 1, 2, 2, 5, 3, 2, 5, 5, 2, 6, 3, 1, 6, 6, 5, 1, 3, 6, 6, 3, 5, 2, 4, 6, 1, 1, 5, 4, 2, 2, 5, 3, 5, 3, 5, 5, 5, 4, 2, 6, 5, 3, 6, 6, 5, 6, 2, 5, 5, 6, 6, 6, 6, 2, 6, 3, 6, 2, 5, 4, 6, 2, 3, 6, 1, 6, 6, 6, 4, 2, 6, 1]\n"
     ]
    }
   ],
   "source": [
    "print(values_cheating_dice)"
   ]
  },
  {
   "cell_type": "code",
   "execution_count": 23,
   "id": "46916c44",
   "metadata": {
    "ExecuteTime": {
     "end_time": "2023-08-11T12:27:20.890642Z",
     "start_time": "2023-08-11T12:27:19.227483Z"
    },
    "slideshow": {
     "slide_type": "slide"
    }
   },
   "outputs": [
    {
     "name": "stdout",
     "output_type": "stream",
     "text": [
      "The probability of getting a 6:\n",
      "Fair dice probability is 0.1604\n",
      "Cheating dice probability is 0.3264\n",
      "\n",
      "The probability of getting a 1:\n",
      "Fair dice probability is 0.1664\n",
      "Cheating dice probability is 0.1064\n"
     ]
    }
   ],
   "source": [
    "print('The probability of getting a 6:')\n",
    "print('Fair dice probability is ' + str(values_dice.count(6)/number_of_throws))\n",
    "print('Cheating dice probability is ' + str(values_cheating_dice.count(6)/number_of_throws))\n",
    "print('')\n",
    "print('The probability of getting a 1:')\n",
    "print('Fair dice probability is ' + str(values_dice.count(1)/number_of_throws))\n",
    "print('Cheating dice probability is ' + str(values_cheating_dice.count(1)/number_of_throws))"
   ]
  },
  {
   "cell_type": "code",
   "execution_count": 24,
   "id": "5afd8056",
   "metadata": {
    "ExecuteTime": {
     "end_time": "2023-08-11T12:27:20.890691Z",
     "start_time": "2023-08-11T12:27:19.229478Z"
    }
   },
   "outputs": [],
   "source": [
    "def valueDice(list_throws, number):\n",
    "    return list_throws.count(number)/len(list_throws)"
   ]
  },
  {
   "cell_type": "code",
   "execution_count": 25,
   "id": "7ce32b35",
   "metadata": {
    "ExecuteTime": {
     "end_time": "2023-08-11T12:27:20.890812Z",
     "start_time": "2023-08-11T12:27:19.232668Z"
    }
   },
   "outputs": [
    {
     "data": {
      "text/plain": [
       "0.1064"
      ]
     },
     "execution_count": 25,
     "metadata": {},
     "output_type": "execute_result"
    }
   ],
   "source": [
    "valueDice(values_cheating_dice, 1)"
   ]
  },
  {
   "cell_type": "code",
   "execution_count": 26,
   "id": "e761e2be",
   "metadata": {
    "ExecuteTime": {
     "end_time": "2023-08-11T12:27:20.890858Z",
     "start_time": "2023-08-11T12:27:19.235334Z"
    }
   },
   "outputs": [],
   "source": [
    "def myFunc(number1, number2):\n",
    "    '''\n",
    "    This function adds two numbers\n",
    "    '''\n",
    "    return number1, number2"
   ]
  },
  {
   "cell_type": "code",
   "execution_count": 27,
   "id": "53f8e5ee",
   "metadata": {
    "ExecuteTime": {
     "end_time": "2023-08-11T12:27:20.890903Z",
     "start_time": "2023-08-11T12:27:19.237655Z"
    }
   },
   "outputs": [],
   "source": [
    "num1, num2 = myFunc(3,6)"
   ]
  },
  {
   "cell_type": "code",
   "execution_count": 28,
   "id": "d6dd3b57",
   "metadata": {
    "ExecuteTime": {
     "end_time": "2023-08-11T12:27:20.890996Z",
     "start_time": "2023-08-11T12:27:19.239559Z"
    }
   },
   "outputs": [
    {
     "data": {
      "text/plain": [
       "3"
      ]
     },
     "execution_count": 28,
     "metadata": {},
     "output_type": "execute_result"
    }
   ],
   "source": [
    "num1"
   ]
  },
  {
   "cell_type": "code",
   "execution_count": 29,
   "id": "34ca6222",
   "metadata": {
    "ExecuteTime": {
     "end_time": "2023-08-11T12:27:20.891094Z",
     "start_time": "2023-08-11T12:27:19.241971Z"
    }
   },
   "outputs": [
    {
     "data": {
      "text/plain": [
       "6"
      ]
     },
     "execution_count": 29,
     "metadata": {},
     "output_type": "execute_result"
    }
   ],
   "source": [
    "num2"
   ]
  },
  {
   "cell_type": "code",
   "execution_count": 30,
   "id": "3e40c4d0",
   "metadata": {
    "ExecuteTime": {
     "end_time": "2023-08-11T12:27:20.891159Z",
     "start_time": "2023-08-11T12:27:19.244758Z"
    }
   },
   "outputs": [],
   "source": [
    "def sortList(a_list):\n",
    "    return a_list.sort()"
   ]
  },
  {
   "cell_type": "code",
   "execution_count": 31,
   "id": "9a4d9b86",
   "metadata": {
    "ExecuteTime": {
     "end_time": "2023-08-11T12:27:20.891202Z",
     "start_time": "2023-08-11T12:27:19.246629Z"
    }
   },
   "outputs": [],
   "source": [
    "my_list = [3, 6, 2, 5]"
   ]
  },
  {
   "cell_type": "code",
   "execution_count": 32,
   "id": "31c04ea3",
   "metadata": {
    "ExecuteTime": {
     "end_time": "2023-08-11T12:27:20.891247Z",
     "start_time": "2023-08-11T12:27:19.248820Z"
    }
   },
   "outputs": [],
   "source": [
    "sortList(my_list)"
   ]
  },
  {
   "cell_type": "code",
   "execution_count": 33,
   "id": "58eaec96",
   "metadata": {
    "ExecuteTime": {
     "end_time": "2023-08-11T12:27:20.891341Z",
     "start_time": "2023-08-11T12:27:19.255860Z"
    }
   },
   "outputs": [
    {
     "data": {
      "text/plain": [
       "[2, 3, 5, 6]"
      ]
     },
     "execution_count": 33,
     "metadata": {},
     "output_type": "execute_result"
    }
   ],
   "source": [
    "my_list"
   ]
  },
  {
   "cell_type": "code",
   "execution_count": 34,
   "id": "4b65cad9",
   "metadata": {
    "ExecuteTime": {
     "end_time": "2023-08-11T12:27:20.891475Z",
     "start_time": "2023-08-11T12:27:19.259889Z"
    }
   },
   "outputs": [
    {
     "data": {
      "text/plain": [
       "[2, 3, 5, 6]"
      ]
     },
     "execution_count": 34,
     "metadata": {},
     "output_type": "execute_result"
    }
   ],
   "source": [
    "my_list"
   ]
  },
  {
   "cell_type": "code",
   "execution_count": 35,
   "id": "24e8b8cd",
   "metadata": {
    "ExecuteTime": {
     "end_time": "2023-08-11T12:27:20.891526Z",
     "start_time": "2023-08-11T12:27:19.262606Z"
    }
   },
   "outputs": [],
   "source": [
    "my_list.sort()"
   ]
  },
  {
   "cell_type": "code",
   "execution_count": 36,
   "id": "81b99fc5",
   "metadata": {
    "ExecuteTime": {
     "end_time": "2023-08-11T12:27:20.891620Z",
     "start_time": "2023-08-11T12:27:19.265189Z"
    }
   },
   "outputs": [
    {
     "data": {
      "text/plain": [
       "[2, 3, 5, 6]"
      ]
     },
     "execution_count": 36,
     "metadata": {},
     "output_type": "execute_result"
    }
   ],
   "source": [
    "my_list"
   ]
  },
  {
   "cell_type": "code",
   "execution_count": 37,
   "id": "1d93c26f",
   "metadata": {
    "ExecuteTime": {
     "end_time": "2023-08-11T12:27:20.891665Z",
     "start_time": "2023-08-11T12:27:19.267343Z"
    }
   },
   "outputs": [],
   "source": [
    "sortList(my_list)"
   ]
  },
  {
   "cell_type": "code",
   "execution_count": 38,
   "id": "0f0041d6",
   "metadata": {
    "ExecuteTime": {
     "end_time": "2023-08-11T12:27:20.896179Z",
     "start_time": "2023-08-11T12:27:19.270268Z"
    }
   },
   "outputs": [
    {
     "data": {
      "text/plain": [
       "\u001b[0;31mSignature:\u001b[0m \u001b[0mmy_list\u001b[0m\u001b[0;34m.\u001b[0m\u001b[0msort\u001b[0m\u001b[0;34m(\u001b[0m\u001b[0;34m*\u001b[0m\u001b[0;34m,\u001b[0m \u001b[0mkey\u001b[0m\u001b[0;34m=\u001b[0m\u001b[0;32mNone\u001b[0m\u001b[0;34m,\u001b[0m \u001b[0mreverse\u001b[0m\u001b[0;34m=\u001b[0m\u001b[0;32mFalse\u001b[0m\u001b[0;34m)\u001b[0m\u001b[0;34m\u001b[0m\u001b[0;34m\u001b[0m\u001b[0m\n",
       "\u001b[0;31mDocstring:\u001b[0m\n",
       "Sort the list in ascending order and return None.\n",
       "\n",
       "The sort is in-place (i.e. the list itself is modified) and stable (i.e. the\n",
       "order of two equal elements is maintained).\n",
       "\n",
       "If a key function is given, apply it once to each list item and sort them,\n",
       "ascending or descending, according to their function values.\n",
       "\n",
       "The reverse flag can be set to sort in descending order.\n",
       "\u001b[0;31mType:\u001b[0m      builtin_function_or_method"
      ]
     },
     "metadata": {},
     "output_type": "display_data"
    }
   ],
   "source": [
    "my_list.sort?"
   ]
  },
  {
   "cell_type": "markdown",
   "id": "77955ce1",
   "metadata": {},
   "source": [
    "## My notes\n",
    "\n",
    "1. a list \n",
    "2. another elemnent\n",
    "\n",
    "\n",
    "$\\alpha * \\beta$"
   ]
  },
  {
   "cell_type": "markdown",
   "id": "6eda0ef4",
   "metadata": {
    "slideshow": {
     "slide_type": "slide"
    }
   },
   "source": [
    "# 3. Classes and Object Oriented Programming (OOP)\n",
    "\n",
    "Classes is a part of Object-Oriented Programming (OOP), a paradigm centered around crafting blueprints for objects—data structures comprising both variables (attributes) and functions (methods). A class acts as this blueprint, and once defined, multiple \"instances\" or \"objects\" of that class can be created. For instance, a `Car` class might have attributes like `color` and `brand`, and methods like `drive()` or `honk()`. By creating an instance, say `my_car = Car()`, one can access and manipulate its attributes and invoke its methods. OOP emphasizes concepts like inheritance (where a new class can inherit attributes and methods from an existing class) and encapsulation (bundling data and methods acting on that data). "
   ]
  },
  {
   "cell_type": "markdown",
   "id": "0f6974ef",
   "metadata": {
    "slideshow": {
     "slide_type": "slide"
    }
   },
   "source": [
    "## Classes\n",
    "\n",
    "- Classes allows us to create objects \n",
    "- Python is an object-oriented programming language \n",
    "- Almost everything in Python is an object\n",
    "- A class is like an object constructor\n",
    "- A **method** is a function that belongs to a specific class of objects\n",
    "- An **attribute** is a variable that belongs to a specific class of objects\n",
    "- Classes and OOP can very powerful and is a fundamental part of Python"
   ]
  },
  {
   "cell_type": "markdown",
   "id": "1e9cfe32",
   "metadata": {
    "slideshow": {
     "slide_type": "slide"
    }
   },
   "source": [
    "## Let's create a class that defines a user"
   ]
  },
  {
   "cell_type": "code",
   "execution_count": 39,
   "id": "703763a6",
   "metadata": {
    "ExecuteTime": {
     "end_time": "2023-08-11T12:27:20.916226Z",
     "start_time": "2023-08-11T12:27:19.272330Z"
    },
    "slideshow": {
     "slide_type": "fragment"
    }
   },
   "outputs": [],
   "source": [
    "class User:\n",
    "    pass"
   ]
  },
  {
   "cell_type": "code",
   "execution_count": 40,
   "id": "aa9b1133",
   "metadata": {
    "ExecuteTime": {
     "end_time": "2023-08-11T12:27:20.916515Z",
     "start_time": "2023-08-11T12:27:19.274745Z"
    },
    "slideshow": {
     "slide_type": "fragment"
    }
   },
   "outputs": [
    {
     "data": {
      "text/plain": [
       "__main__.User"
      ]
     },
     "execution_count": 40,
     "metadata": {},
     "output_type": "execute_result"
    }
   ],
   "source": [
    "vegard = User()\n",
    "type(vegard)"
   ]
  },
  {
   "cell_type": "markdown",
   "id": "7da69a27",
   "metadata": {
    "slideshow": {
     "slide_type": "slide"
    }
   },
   "source": [
    "## The `__init__()` method:"
   ]
  },
  {
   "cell_type": "code",
   "execution_count": 41,
   "id": "3a8cc577",
   "metadata": {
    "ExecuteTime": {
     "end_time": "2023-08-11T12:27:20.916567Z",
     "start_time": "2023-08-11T12:27:19.276970Z"
    },
    "slideshow": {
     "slide_type": "-"
    }
   },
   "outputs": [],
   "source": [
    "class User:\n",
    "    '''\n",
    "    A class for storing information about a user\n",
    "    '''\n",
    "    \n",
    "    def __init__(self, name):\n",
    "        self.user_name = name\n",
    "    "
   ]
  },
  {
   "cell_type": "code",
   "execution_count": 42,
   "id": "e7d5f435",
   "metadata": {
    "ExecuteTime": {
     "end_time": "2023-08-11T12:27:20.916668Z",
     "start_time": "2023-08-11T12:27:19.279940Z"
    }
   },
   "outputs": [],
   "source": [
    "v = User('vegard')"
   ]
  },
  {
   "cell_type": "code",
   "execution_count": 43,
   "id": "25868bf7",
   "metadata": {
    "ExecuteTime": {
     "end_time": "2023-08-11T12:27:20.916805Z",
     "start_time": "2023-08-11T12:27:19.282560Z"
    }
   },
   "outputs": [
    {
     "data": {
      "text/plain": [
       "'vegard'"
      ]
     },
     "execution_count": 43,
     "metadata": {},
     "output_type": "execute_result"
    }
   ],
   "source": [
    "v.user_name"
   ]
  },
  {
   "cell_type": "code",
   "execution_count": 44,
   "id": "d38a4f85",
   "metadata": {
    "ExecuteTime": {
     "end_time": "2023-08-11T12:27:20.917620Z",
     "start_time": "2023-08-11T12:27:19.285764Z"
    }
   },
   "outputs": [
    {
     "data": {
      "text/plain": [
       "\u001b[0;31mType:\u001b[0m        User\n",
       "\u001b[0;31mString form:\u001b[0m <__main__.User object at 0x1061c9f50>\n",
       "\u001b[0;31mDocstring:\u001b[0m   A class for storing information about a user"
      ]
     },
     "metadata": {},
     "output_type": "display_data"
    }
   ],
   "source": [
    "v?"
   ]
  },
  {
   "cell_type": "markdown",
   "id": "d4bf0b8f",
   "metadata": {
    "slideshow": {
     "slide_type": "slide"
    }
   },
   "source": [
    "## Add a password to the user"
   ]
  },
  {
   "cell_type": "code",
   "execution_count": 45,
   "id": "901b588b",
   "metadata": {
    "ExecuteTime": {
     "end_time": "2023-08-11T12:27:20.917683Z",
     "start_time": "2023-08-11T12:27:19.288272Z"
    }
   },
   "outputs": [],
   "source": [
    "class User:\n",
    "    '''\n",
    "    A class for storing information about a user\n",
    "    '''\n",
    "    \n",
    "    def __init__(self, name):\n",
    "        self.user_name = name\n",
    "    \n",
    "    \n",
    "    def set_password(self, passwd):\n",
    "        '''\n",
    "        This method creates a password for the user\n",
    "        '''\n",
    "        \n",
    "        passwd_check = input('Please re-enter the password here: ')\n",
    "        \n",
    "        if passwd == passwd_check:\n",
    "            self.password = passwd\n",
    "            print('The password is set')\n",
    "        else:\n",
    "            print('The password did not match, please try again!')"
   ]
  },
  {
   "cell_type": "code",
   "execution_count": 46,
   "id": "d19632d1",
   "metadata": {
    "ExecuteTime": {
     "end_time": "2023-08-11T12:27:20.917728Z",
     "start_time": "2023-08-11T12:27:19.290733Z"
    },
    "slideshow": {
     "slide_type": "slide"
    }
   },
   "outputs": [],
   "source": [
    "lisa = User('Lisa')"
   ]
  },
  {
   "cell_type": "code",
   "execution_count": null,
   "id": "a43a0b5b",
   "metadata": {
    "ExecuteTime": {
     "end_time": "2023-08-11T12:27:24.583512Z",
     "start_time": "2023-08-11T12:27:19.293144Z"
    }
   },
   "outputs": [],
   "source": [
    "lisa.set_password('12345')"
   ]
  },
  {
   "cell_type": "code",
   "execution_count": null,
   "id": "532726ec",
   "metadata": {
    "ExecuteTime": {
     "end_time": "2023-08-11T12:27:27.059284Z",
     "start_time": "2023-08-11T12:27:24.074680Z"
    }
   },
   "outputs": [],
   "source": [
    "lisa.set_password('12345')"
   ]
  },
  {
   "cell_type": "code",
   "execution_count": null,
   "id": "708d5818",
   "metadata": {
    "ExecuteTime": {
     "end_time": "2023-08-11T12:27:27.059608Z",
     "start_time": "2023-08-11T12:27:26.994310Z"
    }
   },
   "outputs": [],
   "source": [
    "lisa.password"
   ]
  },
  {
   "cell_type": "code",
   "execution_count": null,
   "id": "e1c9b206",
   "metadata": {
    "ExecuteTime": {
     "start_time": "2023-08-11T12:27:27.006364Z"
    }
   },
   "outputs": [],
   "source": [
    "print(lisa)"
   ]
  },
  {
   "cell_type": "code",
   "execution_count": null,
   "id": "f6d4abf8",
   "metadata": {
    "ExecuteTime": {
     "start_time": "2023-08-11T12:27:27.007239Z"
    },
    "slideshow": {
     "slide_type": "slide"
    }
   },
   "outputs": [],
   "source": [
    "# using the __repr__ method we can specify how the print function works with our object\n",
    "\n",
    "class User:\n",
    "    '''\n",
    "    A class for storing information about a user\n",
    "    '''\n",
    "    \n",
    "    def __init__(self, name):\n",
    "        self.user_name = name\n",
    "        \n",
    "    def __repr__(self):\n",
    "        return f'Not implemented' \n",
    "    \n",
    "    \n",
    "    def set_password(self, passwd):\n",
    "        '''\n",
    "        This method creates a password for the user\n",
    "        '''\n",
    "        \n",
    "        passwd_check = input('Please re-enter the password here: ')\n",
    "        \n",
    "        if passwd == passwd_check:\n",
    "            self.password = passwd\n",
    "            print('The password is set')\n",
    "        else:\n",
    "            print('The passwords did not match, please try again!')"
   ]
  },
  {
   "cell_type": "code",
   "execution_count": null,
   "id": "cd9fa0f3",
   "metadata": {
    "ExecuteTime": {
     "start_time": "2023-08-11T12:27:27.008480Z"
    },
    "slideshow": {
     "slide_type": "slide"
    }
   },
   "outputs": [],
   "source": [
    "lisa = User('Lisa')"
   ]
  },
  {
   "cell_type": "code",
   "execution_count": null,
   "id": "483bd2bd",
   "metadata": {
    "ExecuteTime": {
     "start_time": "2023-08-11T12:27:27.009861Z"
    },
    "slideshow": {
     "slide_type": "fragment"
    },
    "tags": []
   },
   "outputs": [],
   "source": [
    "print(lisa)"
   ]
  }
 ],
 "metadata": {
  "celltoolbar": "Slideshow",
  "kernelspec": {
   "display_name": "Python 3 (ipykernel)",
   "language": "python",
   "name": "python3"
  },
  "language_info": {
   "codemirror_mode": {
    "name": "ipython",
    "version": 3
   },
   "file_extension": ".py",
   "mimetype": "text/x-python",
   "name": "python",
   "nbconvert_exporter": "python",
   "pygments_lexer": "ipython3",
   "version": "3.11.4"
  }
 },
 "nbformat": 4,
 "nbformat_minor": 5
}
