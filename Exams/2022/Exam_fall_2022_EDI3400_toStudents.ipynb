{
 "cells": [
  {
   "cell_type": "markdown",
   "id": "3d13b1b8",
   "metadata": {},
   "source": [
    "# Exam in EDI 3400 Programming and Data Management \n",
    "\n",
    "### 19.12.2022 09:00 - 20.12.2022 15:00 (Fall 2022)"
   ]
  },
  {
   "cell_type": "markdown",
   "id": "a2dcb197",
   "metadata": {},
   "source": [
    "## Instructions\n",
    "\n",
    "Download all files attached to this exam, place them in the same directory, and open the Jupyter notebook file (exam_fall_2022_EDI3400.ipynb).\n",
    "\n",
    "**Your solutions must be given in the notebook's answer cells marked with \"ANSWER CELL\" on the first line. Do not remove these markings. If you are asked to implement a Python function, do not change the function name or its parameters that are already filled out in the cell.** You are allowed to add additional cells if you have need for them but you are not allowed to remove any cells you have not added yourself.\n",
    "\n",
    "The assignments are divided into four sections (60 points in total):\n",
    "1. Programming with basic Python (14 points in total)\n",
    "2. NumPy, Pandas and Matplotlib (16 points in total)\n",
    "3. Working with data (15 ponts in total)\n",
    "4. Databases with SQL and Python (15 points in total)\n",
    "\n",
    "Read all assignments before you start solving them. If you believe that some assignments need further clarification, send an email to Vegard H. Larsen (vegard.h.larsen@bi.no) as soon as possible.\n",
    "\n",
    "Remember to save and back up the notebook periodically.\n",
    "\n",
    "### Allowed aids\n",
    "- You are allowed to use all course material and your notes.\n",
    "- You are allowed to use resources on Internet but you need to **list the URLs of all used resources in the corresponding resources cell** at the end of each section.\n",
    "- You are **NOT** allowed to get help from other people to solve the assignments.\n",
    "\n",
    "### Submission\n",
    "\n",
    "Submit the notebook (the ipynb file) with your solutions filled in to WISEflow before the deadline. Remember that the deadline is sharp, so do not wait until the very last minute to do so.\n",
    "\n",
    "**Make sure to fill out your student ID below!**\n",
    "\n",
    "### Preliminary grading criteria\n",
    "\n",
    "To pass the exam you need to gain at least: 25 points\n",
    "\n",
    "Your grade will be determined by the total number of points:\n",
    "\n",
    "| Points   | Grade |\n",
    "|----------|-------|\n",
    "| >=  25   |     E |\n",
    "| >=  30   |     D |\n",
    "| >=  36   |     C |\n",
    "| >=  45   |     B |\n",
    "| >=  54   |     A |"
   ]
  },
  {
   "cell_type": "markdown",
   "id": "bf598024",
   "metadata": {},
   "source": [
    "## Your student ID"
   ]
  },
  {
   "cell_type": "markdown",
   "id": "1060afe2-f8dc-4959-8be8-06051b83838c",
   "metadata": {},
   "source": [
    "\n"
   ]
  },
  {
   "cell_type": "markdown",
   "id": "ebaf40eb",
   "metadata": {},
   "source": [
    "\n"
   ]
  },
  {
   "cell_type": "code",
   "execution_count": null,
   "id": "34374cb1",
   "metadata": {},
   "outputs": [],
   "source": [
    "# Our standard imports\n",
    "\n",
    "import numpy as np\n",
    "import pandas as pd\n",
    "import matplotlib.pyplot as plt\n",
    "import seaborn as sns"
   ]
  },
  {
   "cell_type": "markdown",
   "id": "029d0acf",
   "metadata": {},
   "source": [
    "## 1. Programming with basic Python (14 points in total in this section)"
   ]
  },
  {
   "cell_type": "markdown",
   "id": "1c268d20",
   "metadata": {},
   "source": [
    "### Assignment 1.1 (2 points)\n",
    "\n",
    "Write a program that assigns a string to a variable. Then, print the content of this variable out using two print statements. One print statement should print the string out in capital letters only. The other print statement should print out the string in lower case only. You can select the content of the string but it must contain some letters. "
   ]
  },
  {
   "cell_type": "code",
   "execution_count": null,
   "id": "5494efe6",
   "metadata": {},
   "outputs": [],
   "source": [
    "# ANSWER CELL 1.1 (DO NOT REMOVE OR CHANGE THIS LINE)\n"
   ]
  },
  {
   "cell_type": "markdown",
   "id": "0b89d9e5",
   "metadata": {},
   "source": [
    "### Assignment 1.2 (2 points)\n",
    "\n",
    "Write a program that prints out the sorted values in the list below (sort the list in alphabetical order).\n",
    "\n",
    "`a_list = ['Tom', 'Anne', 'Eric', 'Adam', 'Nora', 'Chris']`"
   ]
  },
  {
   "cell_type": "code",
   "execution_count": null,
   "id": "8001ae67",
   "metadata": {},
   "outputs": [],
   "source": [
    "# ANSWER CELL 1.2 (DO NOT REMOVE OR CHANGE THIS LINE)\n"
   ]
  },
  {
   "cell_type": "markdown",
   "id": "e359a0d0",
   "metadata": {},
   "source": [
    "### Assignment 1.3 (2 points)\n",
    "\n",
    "Write a for loop that prints out the numbers from 10 to (and including) 60, but only if the number is divisible by 3 (meaning you can get the number by multiplying an integer by 3)."
   ]
  },
  {
   "cell_type": "code",
   "execution_count": null,
   "id": "b25b4527",
   "metadata": {},
   "outputs": [],
   "source": [
    "# ANSWER CELL 1.3 (DO NOT REMOVE OR CHANGE THIS LINE)\n",
    "\n"
   ]
  },
  {
   "cell_type": "markdown",
   "id": "c40a9d3d",
   "metadata": {},
   "source": [
    "### Assignment 1.4 (4 points)\n",
    "\n",
    "Write a function that takes a list of words as input and returns another list of words where if the word ends with 'ing', this ending is removed. A word such as *learning* should be changed to *learn* while a word such as *school* should not be changed at all.\n",
    "\n",
    "An example of a function function call is:\n",
    "\n",
    "`remove_ing_ending(['beginning', 'good', 'sorting', 'is', 'learning', 'school'])`\n",
    "\n",
    "This should return the list:\n",
    "\n",
    "`['beginn', 'good', 'sort', 'is', 'learn', 'school']`\n",
    "\n",
    "Note: Your function must be general and should work on other lists of words as well."
   ]
  },
  {
   "cell_type": "code",
   "execution_count": 2,
   "id": "c4708b95",
   "metadata": {},
   "outputs": [],
   "source": [
    "# ANSWER CELL 1.4 (DO NOT REMOVE OR CHANGE THIS LINE)\n",
    "\n",
    "def remove_ing_ending(list_of_words):\n",
    "    pass\n",
    "    print('hello')"
   ]
  },
  {
   "cell_type": "code",
   "execution_count": 3,
   "id": "62dff4ce-a633-482e-95e9-3334e514c76b",
   "metadata": {},
   "outputs": [
    {
     "name": "stdout",
     "output_type": "stream",
     "text": [
      "hello\n"
     ]
    }
   ],
   "source": [
    "remove_ing_ending('4')"
   ]
  },
  {
   "cell_type": "markdown",
   "id": "8b0059e9-63cf-43d1-a9a7-6c9acb3e11b4",
   "metadata": {},
   "source": [
    "### Assignment 1.5 (4 points)\n",
    "\n",
    "Write a function that takes a movie review as an input (as a string) and returns whether the movie is good or bad based on positive and negative words in the review. A movie review can also be classified as neutral. Your function should always return one of the three strings: 'Bad movie', 'Good movie' or 'Neutral movie'\n",
    "\n",
    "The following function calls shall return the string 'Bad movie':\n",
    "\n",
    "`goodOrBad('I did not like this movie, it was good in the beginning but then it turned awful')`\n",
    "\n",
    "`goodOrBad('This movie was terrible and I can not recommend it to anyone')`\n",
    "\n",
    "The following function calls should return 'Good movie'\n",
    "\n",
    "`goodOrBad('This is a great movie.')`\n",
    "\n",
    "`goodOrBad('I enjoyed watching this movie.')`\n",
    "\n",
    "The following function calls should return 'Neutral movie'\n",
    "\n",
    "`goodOrBad('This was both a good and a bad movie.')`\n",
    "\n",
    "`goodOrBad('I did not see this movie.')`\n",
    "\n",
    "Note that your function should work on other reviews than the examples given here as well."
   ]
  },
  {
   "cell_type": "code",
   "execution_count": null,
   "id": "6354d98b-c471-4f59-a97b-35b93cbc07cb",
   "metadata": {},
   "outputs": [],
   "source": [
    "# ANSWER CELL 1.5 (DO NOT REMOVE OR CHANGE THIS LINE)\n",
    "\n",
    "def goodOrBad(review):\n",
    "    # Let's define our dictionary with positive and negative terms\n",
    "    my_dictionary = {\"great\": 2, \"enjoyed\": 1, \"good\": 1,  \"bad\": -1, \"did not like\": -1, \"terrible\": -2, \"awful\": -2}\n",
    "    # Your code goes here"
   ]
  },
  {
   "cell_type": "markdown",
   "id": "d11ba1ab",
   "metadata": {},
   "source": [
    "### Used resources\n",
    "\n",
    "Include URLs of online resources that you have used to solve the exercises in this section:\n",
    "\n",
    "\n",
    "\n"
   ]
  },
  {
   "cell_type": "markdown",
   "id": "7b6668f5",
   "metadata": {},
   "source": [
    "\n",
    "\n",
    "\n",
    "\n"
   ]
  },
  {
   "cell_type": "markdown",
   "id": "c2231f5d",
   "metadata": {},
   "source": [
    "## 2. NumPy, Pandas and Matplotlib (16 points in total in this section)"
   ]
  },
  {
   "cell_type": "markdown",
   "id": "f2883df9",
   "metadata": {},
   "source": [
    "### Assignment 2.1 (2 points)\n",
    "\n",
    "Create two NumPy arrays $A$ and $B$ with random numbers (you can use the `np.random.rand` function to create the random numbers). $A$ and $B$ should have the shape `3x3` (three rows and three columns). Print out the two matrices $A$ and $B$. Multiply these two matrices together, using matrix multiplication, and print out the resulting matrix. Lastly, multiply $A$ and $B$ together using elementwise multiplication, and print out the result:"
   ]
  },
  {
   "cell_type": "code",
   "execution_count": null,
   "id": "966d7b8e",
   "metadata": {},
   "outputs": [],
   "source": [
    "# ANSWER CELL 2.1 (DO NOT REMOVE OR CHANGE THIS LINE)\n"
   ]
  },
  {
   "cell_type": "markdown",
   "id": "32516cd2",
   "metadata": {},
   "source": [
    "### Assignment 2.2 (4 points)\n",
    "\n",
    "1. (2 points) Solve the following linear equation system for $x$ and $y$ using NumPy:\n",
    "\n",
    "$$ \\text{Equation } 1: \\;\\; 3x - 5y = 5 $$\n",
    "$$ \\text{Equation } 2: \\;\\;\\;\\; x + 2y = 9 $$\n",
    "\n",
    "Your code should return a NumPy array with the solution for `x` and `y`.\n",
    "\n",
    "2. (2 points) Plot equation 1 and 2 in the same figure (plot the figure for $x$-values from 0 to 10). Check that the two lines cross in the point that you found in assignment 2.2.1."
   ]
  },
  {
   "cell_type": "code",
   "execution_count": null,
   "id": "d8553428",
   "metadata": {},
   "outputs": [],
   "source": [
    "# ANSWER CELL 2.2.1 (DO NOT REMOVE OR CHANGE THIS LINE)\n"
   ]
  },
  {
   "cell_type": "code",
   "execution_count": null,
   "id": "92558543-a637-4ed0-826a-12ec7a3688f8",
   "metadata": {},
   "outputs": [],
   "source": [
    "# ANSWER CELL 2.2.2 (DO NOT REMOVE OR CHANGE THIS LINE)\n"
   ]
  },
  {
   "cell_type": "markdown",
   "id": "d348178a-4820-4d4e-8815-2caef6a44d3e",
   "metadata": {},
   "source": [
    "### Assignment 2.3 (2 points)\n",
    "\n",
    "Create a scatter plot using data from the two data sets given below. Use a different color on the markers for the two data sets so you can see which values belong to which data set in the figure.\n",
    "\n",
    "Dataset 1\n",
    "\n",
    "x1 = [19, 63, 26, 35, 85, 56, 37, 34, 18, 21]\n",
    "\n",
    "y1 = [31, 16, 38, 35, 7, 95, 3, 72, 58, 10]\n",
    "\n",
    "Dataset 2\n",
    "\n",
    "x2 = [26, 29, 78, 55, 6, 5, 64, 66, 72, 40]\n",
    "\n",
    "y2 = [26, 34, 30, 33, 38, 73, 16, 2, 47, 25]"
   ]
  },
  {
   "cell_type": "code",
   "execution_count": null,
   "id": "23210967",
   "metadata": {},
   "outputs": [],
   "source": [
    "# ANSWER CELL 2.3 (DO NOT REMOVE OR CHANGE THIS LINE)\n"
   ]
  },
  {
   "cell_type": "markdown",
   "id": "3a9fe1d2",
   "metadata": {},
   "source": [
    "### Assignment 2.4 (8 points)\n",
    "\n",
    "1. (2 points) Create the following Pandas DataFrame with data on population and land area for a set of countries. Call the DataFrame `pop_and_land`.\n",
    "\n",
    "|    | Country | Population    |Land area (Km$^2$)        |\n",
    "|--- |---      |---            |---        |\n",
    "| 0  | Norway  | 5 421 241     | 365 268   |\n",
    "| 1  | Canada  | 37 742 154    | 9 093 510 |\n",
    "| 2  | France  | 65 273 511    | 547 557   |\n",
    "| 3  | Germany | 83 783 942    | 348 560   |\n",
    "| 4  | Brazil  | 212 559 417   | 8 358 140 |\n",
    "| 5  | Italy   | 60 461 826    | 294 140   |\n",
    "| 6  | Japan   | 126 476 461   | 364 555   |\n",
    "| 7  | UK      | 67 886 011    | 241 930   |\n",
    "| 8  | US      | 331 002 651   | 9 147 420 |\n",
    "| 9  | Nigeria | 206 139 589   | 910 770   |  \n",
    "| 10 | China   | 1 439 323 776 | 9 388 211 |\n",
    "\n",
    "\n",
    "2. (2 points) Create a new column in `pop_and_land` with data on land area in square meters per person in the country (you can call this column `m2_per_capita`). Print out the DataFrame where you sort the rows by $m^2$ per person, starting with the country with most area per capita.\n",
    "\n",
    "3. (2 points) Create a bar plot with the countries on the $x$-axis and the population on the $y$-axis.\n",
    "\n",
    "4. (2 points) Create a scatter plot with the population on the $x$-axis and the land area on the $y$-axis."
   ]
  },
  {
   "cell_type": "code",
   "execution_count": null,
   "id": "ca99cfa4-4ea8-48f4-af29-a1672efc28d2",
   "metadata": {},
   "outputs": [],
   "source": [
    "# ANSWER CELL 2.4.1 (DO NOT REMOVE OR CHANGE THIS LINE)\n"
   ]
  },
  {
   "cell_type": "code",
   "execution_count": null,
   "id": "e34329d7-37cc-4fa5-a546-f3d28f819c16",
   "metadata": {},
   "outputs": [],
   "source": [
    "# ANSWER CELL 2.4.2 (DO NOT REMOVE OR CHANGE THIS LINE)\n"
   ]
  },
  {
   "cell_type": "code",
   "execution_count": null,
   "id": "b9bfa750-3c96-44f8-ad89-24313f2f938f",
   "metadata": {},
   "outputs": [],
   "source": [
    "# ANSWER CELL 2.4.3 (DO NOT REMOVE OR CHANGE THIS LINE)\n"
   ]
  },
  {
   "cell_type": "code",
   "execution_count": null,
   "id": "b99200cb-5821-483e-9ce3-440bd186a5f8",
   "metadata": {},
   "outputs": [],
   "source": [
    "# ANSWER CELL 2.4.4 (DO NOT REMOVE OR CHANGE THIS LINE)\n"
   ]
  },
  {
   "cell_type": "markdown",
   "id": "ec64487a",
   "metadata": {},
   "source": [
    "### Used resources\n",
    "\n",
    "Include URLs of online resources that you have used to solve the exercises in this section:\n",
    "\n",
    "\n"
   ]
  },
  {
   "cell_type": "markdown",
   "id": "0a1ff84a",
   "metadata": {},
   "source": [
    "\n",
    "\n",
    "\n",
    "\n"
   ]
  },
  {
   "cell_type": "markdown",
   "id": "27e734fe",
   "metadata": {},
   "source": [
    "## 3. Working with data (15 points in total in this section)"
   ]
  },
  {
   "cell_type": "markdown",
   "id": "8633be31",
   "metadata": {},
   "source": [
    "### Assignment 3.1 (15 points total)\n",
    "\n",
    "Use Pandas to load the data stored in the csv file congress_terms.csv. \n",
    "\n",
    "This is a dataset from [FiveThirtyEight](https://fivethirtyeight.com) with data on US congress mebers and their age when their term in congress started. Every row in the dataset corresponds to one term of one politicians in the congress. A politician can serve several terms. \n",
    "\n",
    "1. (2 points) Print out the number of congress terms (rows) for each party. Print out also the number of congress terms of independent politicians (i.e. politicians not belonging to any party).\n",
    "\n",
    "Hint: Thera are four parties in the dataset: Democrats (D), Republicans (R), American Labor Party (AL), Liberal Party (L). Note that the indepentent politicians are coded with both *I* and *ID* in the party column. \n",
    "\n",
    "2. (2 points) Print out the 5 rows where the age of the politician is the highest.\n",
    "\n",
    "3. (2 points) Print out the mean age in the 110th congress. Round the age so that you only print the age with 1 decimal points.\n",
    "\n",
    "4. (3 points) Plot the mean age over time (you can group the data by either the column congress or termstart). Create one line for the senate and one line for the house. Add a legend to the plot to show which line represent the house and which line represents the senate\n",
    "\n",
    "5. (3 points) Create a bar plot where you plot a bar for each state in the US. The height of each bar is the age of the oldest representative from the given state serving in the Congress. Hint: The plot should consist of 50 bars where e.g., the hight of the FL (Florida) bar should be 88.3 and the hight of the TX (Texas) bar should be 89.7.\n",
    "\n",
    "6. (3 points) Create a line plot with the number of democrats vs. the number of republicans in the US senate over time. You should have one line with the number of republicans and one line with the number of democrats so you can compare their relative strength over time. Hint: the $x$-axis should be the congress number that runs from 80 to 113 while the $y$-axis should give the number of republicans and democrats."
   ]
  },
  {
   "cell_type": "code",
   "execution_count": null,
   "id": "7311a6c8",
   "metadata": {},
   "outputs": [],
   "source": [
    "# ANSWER CELL 3.1.1 (DO NOT REMOVE OR CHANGE THIS LINE)\n"
   ]
  },
  {
   "cell_type": "code",
   "execution_count": null,
   "id": "57086d0f",
   "metadata": {},
   "outputs": [],
   "source": [
    "# ANSWER CELL 3.1.2  (DO NOT REMOVE OR CHANGE THIS LINE)\n"
   ]
  },
  {
   "cell_type": "code",
   "execution_count": null,
   "id": "522cff94-18d7-4be4-bcdd-c7a1be77dbca",
   "metadata": {},
   "outputs": [],
   "source": [
    "# ANSWER CELL 3.1.3  (DO NOT REMOVE OR CHANGE THIS LINE)\n"
   ]
  },
  {
   "cell_type": "code",
   "execution_count": null,
   "id": "562bd55f-f865-4d78-a766-316fe5c9721e",
   "metadata": {},
   "outputs": [],
   "source": [
    "# ANSWER CELL 3.1.4  (DO NOT REMOVE OR CHANGE THIS LINE)\n"
   ]
  },
  {
   "cell_type": "code",
   "execution_count": null,
   "id": "eb0b510a-9101-4040-8927-9d6799663f7d",
   "metadata": {},
   "outputs": [],
   "source": [
    "# ANSWER CELL 3.1.5  (DO NOT REMOVE OR CHANGE THIS LINE)\n"
   ]
  },
  {
   "cell_type": "code",
   "execution_count": null,
   "id": "5a439dba-328a-4c34-92fe-9532768adeac",
   "metadata": {},
   "outputs": [],
   "source": [
    "# ANSWER CELL 3.1.6  (DO NOT REMOVE OR CHANGE THIS LINE)\n"
   ]
  },
  {
   "cell_type": "markdown",
   "id": "89dc675f-a91c-46e1-85b5-5fbcf65ba635",
   "metadata": {},
   "source": [
    "### Used resources\n",
    "\n",
    "Include URLs of online resources that you have used to solve the exercises in this section:\n",
    "\n",
    "\n"
   ]
  },
  {
   "cell_type": "markdown",
   "id": "26873ab6",
   "metadata": {},
   "source": [
    "## 4. Databases with SQL and Python (15 points in total in this section)\n",
    "\n",
    "All assignments in this section will rely on the auto_dealership_exam.db database. You can load it in the cell below the description of the database."
   ]
  },
  {
   "cell_type": "markdown",
   "id": "6609e33d-c24f-4818-a7f2-20b7b7e6b7e0",
   "metadata": {},
   "source": [
    "## Auto dealership database\n",
    "\n",
    "### Table: Employee\n",
    "\n",
    "* **id** - Unique identifier\n",
    "* **name** - First name \n",
    "* **salary** - Salary in €\n",
    "* **education** - High School, Bachelor or Master\n",
    "* **department** - Admin, Sales or Service"
   ]
  },
  {
   "cell_type": "markdown",
   "id": "d69f5dba-d4e2-4a73-8d64-126f029adf6a",
   "metadata": {},
   "source": [
    "### Table: Car\n",
    "\n",
    "* **id** - Unique identifier\n",
    "* **make** - Car manufacturer, e.g., Toyota or BMW\n",
    "* **type** - Type of car, e.g., Sedan or SUV\n",
    "* **year** - Production year of the car\n",
    "* **color** - Color of Car\n",
    "* **msrp** - Manufacturer's suggested retail price in €\n",
    "* **employee_id** - Identifier from employee table, telling us which employee is responsible for the car  "
   ]
  },
  {
   "cell_type": "markdown",
   "id": "4f088211-dd2f-4a38-93a8-95de0ffcd140",
   "metadata": {},
   "source": [
    "### Table: Customer\n",
    "\n",
    "* **id** - Unique identifier \n",
    "* **first_name** - First name\n",
    "* **last_name** - Last name\n",
    "* **phone** - Telephone number\n",
    "* **birth_year** - Birth year"
   ]
  },
  {
   "cell_type": "markdown",
   "id": "eb356946-672b-4e25-b3dd-cf240dc410e0",
   "metadata": {},
   "source": [
    "### Table: Sales\n",
    "\n",
    "* **id** - Unique identifier\n",
    "* **date** - Date of the sale\n",
    "* **list_price** - The list price at the time of the sale\n",
    "* **price** - The actual sales price\n",
    "* **customer_id** - The customer id\n",
    "* **car_id** - The car id\n",
    "* **employee_id** - The employee id "
   ]
  },
  {
   "cell_type": "code",
   "execution_count": 4,
   "id": "dd2a1fd6-91b0-47fd-b154-1caf47b5d4ab",
   "metadata": {},
   "outputs": [
    {
     "name": "stdout",
     "output_type": "stream",
     "text": [
      "Done!\n",
      "Done!\n"
     ]
    }
   ],
   "source": [
    "%load_ext isqlite3\n",
    "%sql_open auto_dealership_exam.db"
   ]
  },
  {
   "cell_type": "markdown",
   "id": "5abe1afe",
   "metadata": {},
   "source": [
    "### Assignment 4.1 (10 points)\n",
    "\n",
    "1. (2 points) Write an SQL query to return all employees in the sales department.\n",
    "\n",
    "2. (2 points) Write an SQL query to return all purple cars produced in 2010.\n",
    "\n",
    "3. (3 points) Create a query that returns the sales **date**, sales **list price**, employee **name** and car **make** for all cars that had a list price of over 150 000\n",
    "\n",
    "4. (3 points) Create a query that returns all the information from the customer table for all the customers that bought an Estate car for more than 100 000"
   ]
  },
  {
   "cell_type": "code",
   "execution_count": 11,
   "id": "de815fce",
   "metadata": {},
   "outputs": [
    {
     "data": {
      "text/html": [
       "<table><thead><tr><th style=\"text-align: left\">id</th><th style=\"text-align: left\">name</th><th style=\"text-align: left\">salary</th><th style=\"text-align: left\">education</th><th style=\"text-align: left\">department</th></tr></thead><tbody><tr><td style=\"text-align: right\">2</td><td style=\"text-align: left\">Tom</td><td style=\"text-align: right\">64500</td><td style=\"text-align: left\">High School</td><td style=\"text-align: left\">Sales</td></tr><tr><td style=\"text-align: right\">3</td><td style=\"text-align: left\">Mary</td><td style=\"text-align: right\">124300</td><td style=\"text-align: left\">Master</td><td style=\"text-align: left\">Sales</td></tr><tr><td style=\"text-align: right\">5</td><td style=\"text-align: left\">Sally</td><td style=\"text-align: right\">60600</td><td style=\"text-align: left\">High School</td><td style=\"text-align: left\">Sales</td></tr><tr><td style=\"text-align: right\">6</td><td style=\"text-align: left\">Marie</td><td style=\"text-align: right\">116100</td><td style=\"text-align: left\">Bachelor</td><td style=\"text-align: left\">Sales</td></tr><tr><td style=\"text-align: right\">7</td><td style=\"text-align: left\">Eli</td><td style=\"text-align: right\">168100</td><td style=\"text-align: left\">Master</td><td style=\"text-align: left\">Sales</td></tr><tr><td style=\"text-align: right\">11</td><td style=\"text-align: left\">Fredrik</td><td style=\"text-align: right\">81400</td><td style=\"text-align: left\">Bachelor</td><td style=\"text-align: left\">Sales</td></tr><tr><td style=\"text-align: right\">12</td><td style=\"text-align: left\">Chris</td><td style=\"text-align: right\">128900</td><td style=\"text-align: left\">Bachelor</td><td style=\"text-align: left\">Sales</td></tr><tr><td style=\"text-align: right\">15</td><td style=\"text-align: left\">Lars</td><td style=\"text-align: right\">107200</td><td style=\"text-align: left\">High School</td><td style=\"text-align: left\">Sales</td></tr><tr><td style=\"text-align: right\">16</td><td style=\"text-align: left\">Nora</td><td style=\"text-align: right\">56300</td><td style=\"text-align: left\">High School</td><td style=\"text-align: left\">Sales</td></tr><tr><td style=\"text-align: right\">18</td><td style=\"text-align: left\">Anne</td><td style=\"text-align: right\">107800</td><td style=\"text-align: left\">High School</td><td style=\"text-align: left\">Sales</td></tr></tbody></table>"
      ],
      "text/plain": [
       "<IPython.core.display.HTML object>"
      ]
     },
     "execution_count": 11,
     "metadata": {},
     "output_type": "execute_result"
    }
   ],
   "source": [
    "%%sql --ANSWER CELL 4.1.1 (DO NOT REMOVE OR CHANGE THIS LINE)\n",
    "\n",
    "SELECT * FROM Employees WHERE department = 'Sales'"
   ]
  },
  {
   "cell_type": "code",
   "execution_count": null,
   "id": "a49c191d",
   "metadata": {},
   "outputs": [],
   "source": [
    "%%sql --ANSWER CELL 4.1.2 (DO NOT REMOVE OR CHANGE THIS LINE)\n"
   ]
  },
  {
   "cell_type": "code",
   "execution_count": null,
   "id": "09459d9b-fba6-475b-822d-8244808702be",
   "metadata": {},
   "outputs": [],
   "source": [
    "%%sql --ANSWER CELL 4.1.3 (DO NOT REMOVE OR CHANGE THIS LINE)\n"
   ]
  },
  {
   "cell_type": "code",
   "execution_count": null,
   "id": "ccfaf026-34df-43d7-866c-50547685fd68",
   "metadata": {},
   "outputs": [],
   "source": [
    "%%sql --ANSWER CELL 4.1.4 (DO NOT REMOVE OR CHANGE THIS LINE)\n"
   ]
  },
  {
   "cell_type": "markdown",
   "id": "33e867f6-879e-4e2e-83b4-6eb355e0a143",
   "metadata": {},
   "source": [
    "### Assignment 4.2 (5 points)\n",
    "\n",
    "1. (2 points) Use the sqlite3 library to interact with the database and create a Pandas dataframe with all the information about the Volkswagen cars from the Cars table.\n",
    "\n",
    "2. (3 points) Plot the yearly mean (based on the production year of the car) **msrp** for all the cars produced by Toyota  "
   ]
  },
  {
   "cell_type": "code",
   "execution_count": 12,
   "id": "70de4eb7-1145-48ef-90e7-ac05cb246191",
   "metadata": {},
   "outputs": [],
   "source": [
    "# ANSWER CELL 4.2.1 (DO NOT REMOVE OR CHANGE THIS LINE)\n",
    "\n",
    "import sqlite3"
   ]
  },
  {
   "cell_type": "code",
   "execution_count": 16,
   "id": "13f3c3fd-6c51-4738-aac7-b0bfb0b42671",
   "metadata": {},
   "outputs": [
    {
     "name": "stdout",
     "output_type": "stream",
     "text": [
      "Exam_fall_2022_EDI3400_toStudents.ipynb\n",
      "\u001b[34m__pycache__\u001b[m\u001b[m/\n",
      "auto_dealership.db\n",
      "auto_dealership_exam.db\n",
      "congress_terms.csv\n",
      "isqlite3.py\n",
      "\u001b[34msolutions\u001b[m\u001b[m/\n"
     ]
    }
   ],
   "source": [
    "ls"
   ]
  },
  {
   "cell_type": "code",
   "execution_count": 15,
   "id": "38f48673-bd53-422f-ac62-58622bf5238b",
   "metadata": {},
   "outputs": [
    {
     "data": {
      "text/plain": [
       "<sqlite3.Connection at 0x111731b70>"
      ]
     },
     "execution_count": 15,
     "metadata": {},
     "output_type": "execute_result"
    }
   ],
   "source": [
    "# ANSWER CELL 4.2.2 (DO NOT REMOVE OR CHANGE THIS LINE)\n",
    "\n",
    "sqlite3.connect('auto_dealership.db')"
   ]
  },
  {
   "cell_type": "markdown",
   "id": "c18dd07a",
   "metadata": {},
   "source": [
    "### Used resources\n",
    "\n",
    "Include URLs of online resources that you have used to solve the exercises in this section:\n",
    "\n",
    "\n"
   ]
  },
  {
   "cell_type": "markdown",
   "id": "82a0234a",
   "metadata": {},
   "source": [
    "\n",
    "\n",
    "\n",
    "\n"
   ]
  }
 ],
 "metadata": {
  "kernelspec": {
   "display_name": "Python 3 (ipykernel)",
   "language": "python",
   "name": "python3"
  },
  "language_info": {
   "codemirror_mode": {
    "name": "ipython",
    "version": 3
   },
   "file_extension": ".py",
   "mimetype": "text/x-python",
   "name": "python",
   "nbconvert_exporter": "python",
   "pygments_lexer": "ipython3",
   "version": "3.9.18"
  }
 },
 "nbformat": 4,
 "nbformat_minor": 5
}
