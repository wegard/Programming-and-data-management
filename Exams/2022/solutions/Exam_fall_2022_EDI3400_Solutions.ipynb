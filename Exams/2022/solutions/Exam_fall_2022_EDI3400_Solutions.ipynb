{
 "cells": [
  {
   "cell_type": "markdown",
   "id": "3d13b1b8",
   "metadata": {},
   "source": [
    "# Exam in EDI 3400 Programming and Data Management \n",
    "\n",
    "### 19.12.2022 09:00 - 20.12.2022 15:00 (Fall 2022)"
   ]
  },
  {
   "cell_type": "markdown",
   "id": "a2dcb197",
   "metadata": {},
   "source": [
    "## Instructions\n",
    "\n",
    "Download all files attached to this exam, place them in the same directory, and open the Jupyter notebook file (exam_fall_2022_EDI3400.ipynb).\n",
    "\n",
    "**Your solutions must be given in the notebook's answer cells marked with \"ANSWER CELL\" on the first line. Do not remove these markings. If you are asked to implement a Python function, do not change the function name or its parameters that are already filled out in the cell.** You are allowed to add additional cells if you have need for them but you are not allowed to remove any cells you have not added yourself.\n",
    "\n",
    "The assignments are divided into four sections (60 points in total):\n",
    "1. Programming with basic Python (14 points in total)\n",
    "2. NumPy, Pandas and Matplotlib (16 points in total)\n",
    "3. Working with data (15 ponts in total)\n",
    "4. Databases with SQL and Python (15 points in total)\n",
    "\n",
    "Read all assignments before you start solving them. If you believe that some assignments need further clarification, send an email to Vegard H. Larsen (vegard.h.larsen@bi.no) as soon as possible.\n",
    "\n",
    "Remember to save and back up the notebook periodically.\n",
    "\n",
    "### Allowed aids\n",
    "- You are allowed to use all course material and your notes.\n",
    "- You are allowed to use resources on Internet but you need to **list the URLs of all used resources in the corresponding resources cell** at the end of each section.\n",
    "- You are **NOT** allowed to get help from other people to solve the assignments.\n",
    "\n",
    "### Submission\n",
    "\n",
    "Submit the notebook (the ipynb file) with your solutions filled in to WISEflow before the deadline. Remember that the deadline is sharp, so do not wait until the very last minute to do so.\n",
    "\n",
    "**Make sure to fill out your student ID below!**\n",
    "\n",
    "### Preliminary grading criteria\n",
    "\n",
    "To pass the exam you need to gain at least: 25 points\n",
    "\n",
    "Your grade will be determined by the total number of points:\n",
    "\n",
    "| Points   | Grade |\n",
    "|----------|-------|\n",
    "| >=  25   |     E |\n",
    "| >=  30   |     D |\n",
    "| >=  35   |     C |\n",
    "| >=  46   |     B |\n",
    "| >=  54   |     A |"
   ]
  },
  {
   "cell_type": "markdown",
   "id": "bf598024",
   "metadata": {},
   "source": [
    "## Your student ID"
   ]
  },
  {
   "cell_type": "markdown",
   "id": "ebaf40eb",
   "metadata": {},
   "source": [
    "\n"
   ]
  },
  {
   "cell_type": "code",
   "execution_count": null,
   "id": "34374cb1",
   "metadata": {},
   "outputs": [],
   "source": [
    "# Our standar imports\n",
    "\n",
    "import numpy as np\n",
    "import pandas as pd\n",
    "import matplotlib.pyplot as plt\n",
    "import seaborn as sns"
   ]
  },
  {
   "cell_type": "markdown",
   "id": "029d0acf",
   "metadata": {},
   "source": [
    "## 1. Programming with basic Python (14 points in total in this section)"
   ]
  },
  {
   "cell_type": "markdown",
   "id": "1c268d20",
   "metadata": {},
   "source": [
    "### Assignment 1.1 (2 points)\n",
    "\n",
    "Write a program that assigns a string to a variable. Then, print the content of this variable using two print statements. One print statement should print the string out in capital letters only. The other print statement should print out the string in lower case only. You can select the content of the string but it must contain some letters. "
   ]
  },
  {
   "cell_type": "code",
   "execution_count": null,
   "id": "5494efe6",
   "metadata": {},
   "outputs": [],
   "source": [
    "# ANSWER CELL 1.1 (DO NOT REMOVE OR CHANGE THIS LINE)\n",
    "\n",
    "a_string = 'This is a string!'\n",
    "\n",
    "print(a_string.upper())\n",
    "print(a_string.lower())"
   ]
  },
  {
   "cell_type": "markdown",
   "id": "0b89d9e5",
   "metadata": {},
   "source": [
    "### Assignment 1.2 (2 points)\n",
    "\n",
    "Write a program that prints out the sorted values in the list below (sort the list in alphabetical order).\n",
    "\n",
    "`a_list = ['Tom', 'Anne', 'Eric', 'Adam', 'Nora', 'Chris']`"
   ]
  },
  {
   "cell_type": "code",
   "execution_count": null,
   "id": "8001ae67",
   "metadata": {},
   "outputs": [],
   "source": [
    "# ANSWER CELL 1.2 (DO NOT REMOVE OR CHANGE THIS LINE)\n",
    "\n",
    "a_list = ['Tom', 'Anne', 'Eric', 'Adam', 'Nora', 'Chris']\n",
    "a_list.sort()\n",
    "\n",
    "print(a_list)"
   ]
  },
  {
   "cell_type": "markdown",
   "id": "e359a0d0",
   "metadata": {},
   "source": [
    "### Assignment 1.3 (2 points)\n",
    "\n",
    "Write a for loop that prints out the numbers from 10 to (and including) 60, but only if the number is a multiple of 3 (meaning you can get the number by multiplying an integer by 3)."
   ]
  },
  {
   "cell_type": "code",
   "execution_count": null,
   "id": "b25b4527",
   "metadata": {},
   "outputs": [],
   "source": [
    "# ANSWER CELL 1.3 (DO NOT REMOVE OR CHANGE THIS LINE)\n",
    "\n",
    "for i in range(10, 61):\n",
    "    if i % 3 == 0:\n",
    "        print(i)"
   ]
  },
  {
   "cell_type": "markdown",
   "id": "c40a9d3d",
   "metadata": {},
   "source": [
    "### Assignment 1.4 (4 points)\n",
    "\n",
    "Write a function that takes a list of words as input and returns another list of words where if the word ends with 'ing', this ending is removed. A word such as *learning* should be changed to *learn* while a word such as *school* should not be changed at all.\n",
    "\n",
    "An example of a function function call is:\n",
    "\n",
    "`remove_ing_ending(['beginning', 'good', 'sorting', 'is', 'learning', 'school'])`\n",
    "\n",
    "This should return the list:\n",
    "\n",
    "`['beginn', 'good', 'sort', 'is', 'learn', 'school']`\n",
    "\n",
    "Note: Your function must be general and should work on other lists of words as well."
   ]
  },
  {
   "cell_type": "code",
   "execution_count": null,
   "id": "c4708b95",
   "metadata": {},
   "outputs": [],
   "source": [
    "# ANSWER CELL 1.4 (DO NOT REMOVE OR CHANGE THIS LINE)\n",
    "\n",
    "def remove_ing_ending(list_of_words):\n",
    "    list_of_words_without_ing_ending = []\n",
    "    for word in list_of_words:\n",
    "        if word[-3:] == 'ing':\n",
    "                list_of_words_without_ing_ending.append(word[0:-3])\n",
    "        else:\n",
    "            list_of_words_without_ing_ending.append(word)\n",
    "    return(list_of_words_without_ing_ending)\n",
    "            \n",
    "    \n",
    "list_of_words_example = ['beginning', 'good', 'sorting', 'is', 'learning', 'school']"
   ]
  },
  {
   "cell_type": "code",
   "execution_count": null,
   "id": "acf15a88-fac6-4c2d-ab7a-2c1856f2288f",
   "metadata": {},
   "outputs": [],
   "source": [
    "remove_ing_ending(list_of_words_example)"
   ]
  },
  {
   "cell_type": "markdown",
   "id": "8b0059e9-63cf-43d1-a9a7-6c9acb3e11b4",
   "metadata": {},
   "source": [
    "### Assignment 1.5 (4 points)\n",
    "\n",
    "Write a function that takes a movie review as an input (as a string) and returns whether the movie is good or bad based on positive and negative words in the review. A movie review can also be classified as neutral.\n",
    "\n",
    "You must create your own dictionary for how to score the reviews. Your function should always return one of the three strings: 'Bad movie', 'Good movie' or 'Neutral movie'\n",
    "\n",
    "You decide what words get a positive and negative score but the following function calls shall return the string 'Bad movie':\n",
    "\n",
    "`goodOrBad('I did not like this movie, it was good in the beginning but then it turned awful')`\n",
    "\n",
    "`goodOrBad('This movie was terrible and I can not recommend it to anyone')`\n",
    "\n",
    "The following function calls should return 'Good movie'\n",
    "\n",
    "`goodOrBad('This is a great movie.')`\n",
    "\n",
    "`goodOrBad('I enjoyed watching this movie.')`\n",
    "\n",
    "The following function calls should return 'Neutral movie'\n",
    "\n",
    "`goodOrBad('This was both a good and a bad movie.')`\n",
    "\n",
    "`goodOrBad('I did not see this movie.')`\n",
    "\n",
    "Note that your function should work on other reviews than the examples given here as well."
   ]
  },
  {
   "cell_type": "code",
   "execution_count": null,
   "id": "6354d98b-c471-4f59-a97b-35b93cbc07cb",
   "metadata": {},
   "outputs": [],
   "source": [
    "# ANSWER CELL 1.5 (DO NOT REMOVE OR CHANGE THIS LINE)\n",
    "\n",
    "def goodOrBad(review):\n",
    "    # Let's define our dictionary with positive and negative terms\n",
    "    my_dictionary = {\"great\": 2, \"enjoyed\": 1, \"good\": 1,  \"bad\": -1, \"did not like\": -1, \"terrible\": -2, \"awful\": -2}\n",
    "    # Initialize the score to 0\n",
    "    sentiment_score = 0\n",
    "    # Split the text into words\n",
    "    words = review.split()\n",
    "    # Loop through the words\n",
    "    for word in words:\n",
    "        # If the word is in the dictionary, add the score to the total sentiment score\n",
    "        if word in my_dictionary:\n",
    "            sentiment_score += my_dictionary[word]\n",
    "    if sentiment_score > 0:\n",
    "        return 'Good movie'\n",
    "    elif sentiment_score < 0:\n",
    "        return 'Bad movie'\n",
    "    else:\n",
    "        return 'Neutral movie'"
   ]
  },
  {
   "cell_type": "code",
   "execution_count": null,
   "id": "41d07866-4de0-4d5b-b75b-a9ba230221d6",
   "metadata": {},
   "outputs": [],
   "source": [
    "print(goodOrBad('I did not like this movie, it was good in the beginning but then it turned awful'))\n",
    "print(goodOrBad('This movie was terrible and I can not recommend it to anyone'))\n",
    "\n",
    "print(goodOrBad('This is a great movie.'))\n",
    "print(goodOrBad('I enjoyed watching this movie.'))\n",
    "\n",
    "print(goodOrBad('This was both a good and a bad movie.'))\n",
    "print(goodOrBad('I did not see this movie.'))"
   ]
  },
  {
   "cell_type": "markdown",
   "id": "d11ba1ab",
   "metadata": {},
   "source": [
    "### Used resources\n",
    "\n",
    "Include URLs of online resources that you have used to solve the exercises in this section:\n",
    "\n",
    "\n",
    "\n"
   ]
  },
  {
   "cell_type": "markdown",
   "id": "7b6668f5",
   "metadata": {},
   "source": [
    "\n",
    "\n",
    "\n",
    "\n"
   ]
  },
  {
   "cell_type": "markdown",
   "id": "c2231f5d",
   "metadata": {},
   "source": [
    "## 2. NumPy, Pandas and Matplotlib (16 points in total in this section)"
   ]
  },
  {
   "cell_type": "markdown",
   "id": "f2883df9",
   "metadata": {},
   "source": [
    "### Assignment 2.1 (2 points)\n",
    "\n",
    "Create two numpy arrays $A$ and $B$ with random numbers (you can use the `np.random.rand` function to create the random numbers). $A$ and $B$ should have the shape `3x3` (three rows and three columns). Print out the two matrices $A$ and $B$. Multiply these two matrices together, using matrix multiplication, and print out the resulting matrix. Lastly, multiply $A$ and $B$ together using elementwise multiplication, and print out the result:"
   ]
  },
  {
   "cell_type": "code",
   "execution_count": null,
   "id": "966d7b8e",
   "metadata": {},
   "outputs": [],
   "source": [
    "# ANSWER CELL 2.1 (DO NOT REMOVE OR CHANGE THIS LINE)\n",
    "\n",
    "A = np.random.randn(3,3)\n",
    "B = np.random.randn(3,3)\n",
    "\n",
    "print('The A matrix:')\n",
    "print(A)\n",
    "print('\\nThe B matrix:')\n",
    "print(B)\n",
    "print('\\nMatrix multiplication:')\n",
    "print(A.dot(B))\n",
    "print('\\nElementwise multipication')\n",
    "print(A*B)"
   ]
  },
  {
   "cell_type": "markdown",
   "id": "32516cd2",
   "metadata": {},
   "source": [
    "### Assignment 2.2 (4 points)\n",
    "\n",
    "1. (2 points) Solve the following linear equation system for $x$ and $y$ using NumPy:\n",
    "\n",
    "$$ \\text{Equation } 1: \\;\\; 3x - 5y = 5 $$\n",
    "$$ \\text{Equation } 2: \\;\\;\\;\\; x + 2y = 9 $$\n",
    "\n",
    "Your code should return a NumPy array with the solution for `x` and `y`.\n",
    "\n",
    "2. (2 points) Plot equation 1 and 2 in the same figure (plot the figure for $x$-values from 0 to 10). Check that the two lines cross in the point that you found in assignment 2.2.1."
   ]
  },
  {
   "cell_type": "code",
   "execution_count": null,
   "id": "d8553428",
   "metadata": {},
   "outputs": [],
   "source": [
    "# ANSWER CELL 2.2.1 (DO NOT REMOVE OR CHANGE THIS LINE)\n",
    "\n",
    "A = np.array([[3, -5],\n",
    "              [1, 2]])\n",
    "\n",
    "b = np.array([[5], \n",
    "              [9]])\n",
    "\n",
    "np.linalg.solve(A, b)"
   ]
  },
  {
   "cell_type": "code",
   "execution_count": null,
   "id": "92558543-a637-4ed0-826a-12ec7a3688f8",
   "metadata": {},
   "outputs": [],
   "source": [
    "# ANSWER CELL 2.2.2 (DO NOT REMOVE OR CHANGE THIS LINE)\n",
    "\n",
    "x = np.arange(0, 10, 0.1)\n",
    "\n",
    "y_eq1 = (3/5)*x - 1\n",
    "\n",
    "y_eq2 = 9/2 - (1/2)*x\n",
    "\n",
    "plt.figure(figsize=(8,6))\n",
    "plt.plot(x, y_eq1, \n",
    "         lw=3, label='Equation 1')\n",
    "plt.plot(x, y_eq2, \n",
    "         lw=3, label='Equation 2')\n",
    "plt.grid()\n",
    "plt.legend(fontsize=16)"
   ]
  },
  {
   "cell_type": "markdown",
   "id": "d348178a-4820-4d4e-8815-2caef6a44d3e",
   "metadata": {},
   "source": [
    "### Assignment 2.3 (2 points)\n",
    "\n",
    "Create a scatter plot using data from the two data sets given below. Use a different color on the markers for the two data sets so you can see which values belong to which data set in the figure.\n",
    "\n",
    "Dataset 1\n",
    "\n",
    "x1 = [19, 63, 26, 35, 85, 56, 37, 34, 18, 21]\n",
    "\n",
    "y1 = [31, 16, 38, 35, 7, 95, 3, 72, 58, 10]\n",
    "\n",
    "Dataset 2\n",
    "\n",
    "x2 = [26, 29, 78, 55, 6, 5, 64, 66, 72, 40]\n",
    "\n",
    "y2 = [26, 34, 30, 33, 38, 73, 16, 2, 47, 25]"
   ]
  },
  {
   "cell_type": "code",
   "execution_count": null,
   "id": "23210967",
   "metadata": {},
   "outputs": [],
   "source": [
    "# ANSWER CELL 2.3 (DO NOT REMOVE OR CHANGE THIS LINE)\n",
    "\n",
    "x1 = [19, 63, 26, 35, 85, 56, 37, 34, 18, 21]\n",
    "y1 = [31, 16, 38, 35, 7, 95, 3, 72, 58, 10]\n",
    "\n",
    "x2 = [26, 29, 78, 55, 6, 5, 64, 66, 72, 40]\n",
    "y2 = [26, 34, 30, 33, 38, 73, 16, 2, 47, 25]\n",
    "  \n",
    "plt.figure(figsize=(8,6))    \n",
    "plt.scatter(x1, y1, \n",
    "            c =\"forestgreen\",\n",
    "            linewidths = 2,\n",
    "            marker =\"o\",\n",
    "            s = 200)\n",
    " \n",
    "plt.scatter(x2, y2, \n",
    "            c =\"navy\",\n",
    "            linewidths = 2,\n",
    "            marker =\"o\",\n",
    "            s = 200)\n",
    " \n",
    "plt.xlabel(\"$x$-axis\")\n",
    "plt.ylabel(\"$y$-axis\")\n",
    "plt.show()"
   ]
  },
  {
   "cell_type": "markdown",
   "id": "3a9fe1d2",
   "metadata": {},
   "source": [
    "### Assignment 2.4 (8 points)\n",
    "\n",
    "1. (2 points) Create the following Pandas DataFrame with data on population and land area for a set of countries. Call the DataFrame `pop_and_land`.\n",
    "\n",
    "|    | Country | Population    |Land area (Km$^2$)        |\n",
    "|--- |---      |---            |---        |\n",
    "| 0  | Norway  | 5 421 241     | 365 268   |\n",
    "| 1  | Canada  | 37 742 154    | 9 093 510 |\n",
    "| 2  | France  | 65 273 511    | 547 557   |\n",
    "| 3  | Germany | 83 783 942    | 348 560   |\n",
    "| 4  | Brazil  | 212 559 417   | 8 358 140 |\n",
    "| 5  | Italy   | 60 461 826    | 294 140   |\n",
    "| 6  | Japan   | 126 476 461   | 364 555   |\n",
    "| 7  | UK      | 67 886 011    | 241 930   |\n",
    "| 8  | US      | 331 002 651   | 9 147 420 |\n",
    "| 9  | Nigeria | 206 139 589   | 910 770   |  \n",
    "| 10 | China   | 1 439 323 776 | 9 388 211 |\n",
    "\n",
    "\n",
    "2. (2 points) Create a new column in `pop_and_land` with data on land area in square meters per person in the country. Print out the DataFrame where you sort the data from most land per person to least.\n",
    "\n",
    "3. (2 points) Create a bar plot with the countries on the $x$-axis and the population on the $y$-axis\n",
    "\n",
    "4. (2 points) Create a scatter plot with the number population on the $x$-axis and the land area on the $y$-axis"
   ]
  },
  {
   "cell_type": "code",
   "execution_count": null,
   "id": "ca99cfa4-4ea8-48f4-af29-a1672efc28d2",
   "metadata": {},
   "outputs": [],
   "source": [
    "# ANSWER CELL 2.4.1 (DO NOT REMOVE OR CHANGE THIS LINE)\n",
    "\n",
    "\n",
    "pop_and_land = pd.DataFrame([['Norway', 5_421_241, 365_268],\n",
    "                             ['Canada', 37_742_154, 9_093_510],\n",
    "                             ['France', 65_273_511, 547_557],  \n",
    "                             ['Germany', 83_783_942, 348_560],  \n",
    "                             ['Brazil', 212_559_417, 8_358_140],\n",
    "                             ['Italy', 60_461_826, 294_140],  \n",
    "                             ['Japan', 126_476_461, 364_555],  \n",
    "                             ['UK', 67_886_011, 241_930],  \n",
    "                             ['US', 331_002_651, 9_147_420],\n",
    "                             ['Nigeria', 206_139_589, 910_770],    \n",
    "                             ['China', 1_439_323_776, 9_388_211]],\n",
    "                            columns=['Country', 'Population', 'Land_area'])\n",
    "\n",
    "pop_and_land"
   ]
  },
  {
   "cell_type": "code",
   "execution_count": null,
   "id": "e34329d7-37cc-4fa5-a546-f3d28f819c16",
   "metadata": {},
   "outputs": [],
   "source": [
    "# ANSWER CELL 2.4.2 (DO NOT REMOVE OR CHANGE THIS LINE)\n",
    "\n",
    "pop_and_land['pop_per_area'] = (pop_and_land['Land_area'] / pop_and_land['Population'])*1000\n",
    "pop_and_land.sort_values(by='pop_per_area', ascending=False)"
   ]
  },
  {
   "cell_type": "code",
   "execution_count": null,
   "id": "b9bfa750-3c96-44f8-ad89-24313f2f938f",
   "metadata": {},
   "outputs": [],
   "source": [
    "# ANSWER CELL 2.4.3 (DO NOT REMOVE OR CHANGE THIS LINE)\n",
    "\n",
    "plt.figure(figsize=(15,5))\n",
    "plt.bar(pop_and_land['Country'], pop_and_land['Population'])"
   ]
  },
  {
   "cell_type": "code",
   "execution_count": null,
   "id": "b99200cb-5821-483e-9ce3-440bd186a5f8",
   "metadata": {},
   "outputs": [],
   "source": [
    "# ANSWER CELL 2.4.4 (DO NOT REMOVE OR CHANGE THIS LINE)\n",
    "\n",
    "plt.figure(figsize=(8,6))\n",
    "plt.xlabel('Population', fontsize=16)\n",
    "plt.ylabel('Land area', fontsize=16)\n",
    "plt.scatter(pop_and_land['Population'], pop_and_land['Land_area'], marker='o', s=100)\n",
    "plt.show()"
   ]
  },
  {
   "cell_type": "markdown",
   "id": "ec64487a",
   "metadata": {},
   "source": [
    "### Used resources\n",
    "\n",
    "Include URLs of online resources that you have used to solve the exercises in this section:\n",
    "\n",
    "\n"
   ]
  },
  {
   "cell_type": "markdown",
   "id": "0a1ff84a",
   "metadata": {},
   "source": [
    "\n",
    "\n",
    "\n",
    "\n"
   ]
  },
  {
   "cell_type": "markdown",
   "id": "27e734fe",
   "metadata": {},
   "source": [
    "## 3. Working with data (15 points in total in this section)"
   ]
  },
  {
   "cell_type": "markdown",
   "id": "8633be31",
   "metadata": {},
   "source": [
    "### Assignment 3.1 (15 points total)\n",
    "\n",
    "Use Pandas to load the data stored in the csv file congress_terms.csv. \n",
    "\n",
    "This is a dataset from [FiveThirtyEight](https://fivethirtyeight.com) with data on US congress mebers and their age when their term in congress started. Every row in the dataset corresponds to a politicians term in the congress. A politician can serve several terms. \n",
    "\n",
    "1. (2 points) Print out the number of congress terms by party (also print out the total number of terms by independent politicians). \n",
    "\n",
    "Hint: Thera are four parties in the dataset: Democrats (D), Republicans (R), American Labor Party (AL), Liberal Party (L). Note that the indepentent politicians are coded with both *I* and *ID* in the party column. \n",
    "\n",
    "2. (2 points) Print out the 5 rows where the age of the politician is the highest. \n",
    "\n",
    "3. (2 points) Print out the mean age in the 110th congress. Round the age so that you only print the age with 1 decimal points.\n",
    "\n",
    "4. (3 points) Plot the mean age over time (you can group the data by either the column congress or termstart). Create one line for the senate and one line for the house. Add a legend to the plot to show which line represent the house and which line represents the senate\n",
    "\n",
    "5. (3 points) Create a bar plot where you plot a bar for each state in the US. The hight of the bars should give the maximum age of the representatives from that state serving in congress. Hint: The plot should consist of 50 bars where e.g., the hight of the FL (Florida) bar should be 88.3 and the hight of the TX (Texas) bar should be 89.7.\n",
    "\n",
    "6. (3 points) Create a line plot with the number of democrats vs. the number of republicans in the US senate over time. You should have one line with the number republicans and one line with the number of democrats so you can compare their relative strength over time. Hint: the $x$-axis should be the congress number that runs from 80 to 113 while the $y$-axis should give the number of republicans and democrats."
   ]
  },
  {
   "cell_type": "code",
   "execution_count": null,
   "id": "7311a6c8",
   "metadata": {},
   "outputs": [],
   "source": [
    "# ANSWER CELL 3.1.1 (DO NOT REMOVE OR CHANGE THIS LINE)\n",
    "\n",
    "data = pd.read_csv('congress_terms.csv', index_col=[0])\n",
    "\n",
    "print(f'The party categories are: {set(data.party)}')\n",
    "print('')\n",
    "print(f'Number from the Democrats: {sum(data.party == \"D\")}')\n",
    "print(f'Number from the Republicans: {sum(data.party == \"R\")}')\n",
    "print(f'Number from the American Labor Party: {sum(data.party == \"AL\")}')\n",
    "print(f'Number from the Liberal Party: {sum(data.party == \"L\")}')\n",
    "print(f'Number of Independents: {sum(data.party == \"I\") + sum(data.party == \"ID\")}')"
   ]
  },
  {
   "cell_type": "code",
   "execution_count": null,
   "id": "57086d0f",
   "metadata": {},
   "outputs": [],
   "source": [
    "# ANSWER CELL 3.1.2  (DO NOT REMOVE OR CHANGE THIS LINE)\n",
    "\n",
    "data.sort_values(by='age').tail()"
   ]
  },
  {
   "cell_type": "code",
   "execution_count": null,
   "id": "522cff94-18d7-4be4-bcdd-c7a1be77dbca",
   "metadata": {},
   "outputs": [],
   "source": [
    "# ANSWER CELL 3.1.3  (DO NOT REMOVE OR CHANGE THIS LINE)\n",
    "\n",
    "print(round(data[data.congress == 110]['age'].mean(), 1))"
   ]
  },
  {
   "cell_type": "code",
   "execution_count": null,
   "id": "562bd55f-f865-4d78-a766-316fe5c9721e",
   "metadata": {},
   "outputs": [],
   "source": [
    "# ANSWER CELL 3.1.4  (DO NOT REMOVE OR CHANGE THIS LINE)\n",
    "\n",
    "plt.title('Mean age over time', fontsize=16)\n",
    "data[data.chamber == 'senate'].groupby('termstart')['age'].mean().plot(figsize=(12,5),\n",
    "                                                                       lw=3,\n",
    "                                                                       label='Senate',\n",
    "                                                                       legend=True)\n",
    "data[data.chamber == 'house'].groupby('termstart')['age'].mean().plot(figsize=(12,5),\n",
    "                                                                      lw=3,\n",
    "                                                                      label='House',\n",
    "                                                                      legend=True)\n",
    "plt.show()"
   ]
  },
  {
   "cell_type": "code",
   "execution_count": null,
   "id": "eb0b510a-9101-4040-8927-9d6799663f7d",
   "metadata": {},
   "outputs": [],
   "source": [
    "# ANSWER CELL 3.1.5  (DO NOT REMOVE OR CHANGE THIS LINE)\n",
    "\n",
    "plt.figure(figsize=(18,6))\n",
    "plt.bar(data.groupby('state')['age'].max().index,\n",
    "        data.groupby('state')['age'].max().values)\n",
    "plt.show()"
   ]
  },
  {
   "cell_type": "code",
   "execution_count": null,
   "id": "5a439dba-328a-4c34-92fe-9532768adeac",
   "metadata": {},
   "outputs": [],
   "source": [
    "# ANSWER CELL 3.1.6  (DO NOT REMOVE OR CHANGE THIS LINE)\n",
    "\n",
    "data_senate = data[data.chamber == 'senate']\n",
    "\n",
    "number_of_republicans = []\n",
    "number_of_democrats = []\n",
    "\n",
    "for i in range(80,114,1):\n",
    "    tmp = data_senate[data_senate.congress == i]\n",
    "    number_of_republicans.append(len(tmp[tmp.party == 'R']))\n",
    "    number_of_democrats.append(len(tmp[tmp.party == 'D']))\n",
    "\n",
    "senate_numbers = pd.DataFrame([number_of_democrats, number_of_republicans],\n",
    "                               columns=range(80,114,1), index=['Democrats', 'Republicans']).T\n",
    "\n",
    "senate_numbers.plot(figsize=(15,5), lw=3)\n",
    "plt.legend(fontsize=16)\n",
    "plt.show()"
   ]
  },
  {
   "cell_type": "markdown",
   "id": "89dc675f-a91c-46e1-85b5-5fbcf65ba635",
   "metadata": {},
   "source": [
    "### Used resources\n",
    "\n",
    "Include URLs of online resources that you have used to solve the exercises in this section:\n",
    "\n",
    "\n"
   ]
  },
  {
   "cell_type": "markdown",
   "id": "26873ab6",
   "metadata": {},
   "source": [
    "## 4. Databases with SQL and Python (15 points in total in this section)\n",
    "\n",
    "All assignments in this section will rely on the auto_dealership_exam.db database. You can load it in the cell below the description of the database."
   ]
  },
  {
   "cell_type": "markdown",
   "id": "6609e33d-c24f-4818-a7f2-20b7b7e6b7e0",
   "metadata": {},
   "source": [
    "## Auto dealership database\n",
    "\n",
    "### Table: Employee\n",
    "\n",
    "* id - Unique identifier\n",
    "* name - First name \n",
    "* salary - Salary in €\n",
    "* education - High School, Bachelor or Master\n",
    "* department - Admin, Sales or Service"
   ]
  },
  {
   "cell_type": "markdown",
   "id": "d69f5dba-d4e2-4a73-8d64-126f029adf6a",
   "metadata": {},
   "source": [
    "### Table: Car\n",
    "\n",
    "* id - Unique identifier\n",
    "* make - Car manufacturer, e.g., Toyota or BMW\n",
    "* type - Type of car, e.g., Sedan or SUV\n",
    "* year - Production year of the car\n",
    "* color - Color of Car\n",
    "* msrp - Manufacturer's suggested retail price in €\n",
    "* employee id - Identifier from employee table, telling us which employee is responsible for the car  "
   ]
  },
  {
   "cell_type": "markdown",
   "id": "4f088211-dd2f-4a38-93a8-95de0ffcd140",
   "metadata": {},
   "source": [
    "### Table: Customer\n",
    "\n",
    "* **id** - Unique identifier \n",
    "* **first_name** - First name\n",
    "* **last_name** - Last name\n",
    "* **phone** - Telephone number\n",
    "* **birth_year** - Birth year"
   ]
  },
  {
   "cell_type": "markdown",
   "id": "eb356946-672b-4e25-b3dd-cf240dc410e0",
   "metadata": {},
   "source": [
    "### Table: Sales\n",
    "\n",
    "* **id** - Unique identifier\n",
    "* **date** - Date of the sale\n",
    "* **list_price** - The list price at the time of the sale\n",
    "* **price** - The actual sales price\n",
    "* **customer_id** - The customer id\n",
    "* **car_id** - The car id\n",
    "* **employee_id** - The employee id "
   ]
  },
  {
   "cell_type": "code",
   "execution_count": null,
   "id": "dd2a1fd6-91b0-47fd-b154-1caf47b5d4ab",
   "metadata": {},
   "outputs": [],
   "source": [
    "%load_ext isqlite3\n",
    "%sql_open auto_dealership_exam.db"
   ]
  },
  {
   "cell_type": "markdown",
   "id": "5abe1afe",
   "metadata": {},
   "source": [
    "### Assignment 4.1 (10 points)\n",
    "\n",
    "1. (2 points) Write an SQL query to return all employees in the sales department.\n",
    "\n",
    "2. (2 points) Write an SQL query to return all purple cars from 2010.\n",
    "\n",
    "3. (3 points) Create a query that returns the sales **date**, sales **list price**, employee **name** and car **make** for all cars that had a list price of over 150 000\n",
    "\n",
    "4. (3 points) Create a query that returns all the information from the customer table for all the customers that buys an Estate car for more than 100 000"
   ]
  },
  {
   "cell_type": "code",
   "execution_count": null,
   "id": "de815fce",
   "metadata": {},
   "outputs": [],
   "source": [
    "%%sql --ANSWER CELL 4.1.1 (DO NOT REMOVE OR CHANGE THIS LINE)\n",
    "\n",
    "SELECT *\n",
    "FROM Employees\n",
    "WHERE department = 'Sales'"
   ]
  },
  {
   "cell_type": "code",
   "execution_count": null,
   "id": "a49c191d",
   "metadata": {},
   "outputs": [],
   "source": [
    "%%sql --ANSWER CELL 4.1.2 (DO NOT REMOVE OR CHANGE THIS LINE)\n",
    "\n",
    "SELECT *\n",
    "FROM Cars\n",
    "WHERE year = 2010\n",
    "AND color = 'Purple'"
   ]
  },
  {
   "cell_type": "code",
   "execution_count": null,
   "id": "09459d9b-fba6-475b-822d-8244808702be",
   "metadata": {},
   "outputs": [],
   "source": [
    "%%sql --ANSWER CELL 4.1.3 (DO NOT REMOVE OR CHANGE THIS LINE)\n",
    "\n",
    "SELECT Sales.date, Sales.list_price, Employees.name, Cars.make\n",
    "FROM Sales, Employees, Cars\n",
    "WHERE Sales.employee_id = Employees.id\n",
    "AND Sales.car_id = Cars.id\n",
    "AND Sales.price > 150000"
   ]
  },
  {
   "cell_type": "code",
   "execution_count": null,
   "id": "ccfaf026-34df-43d7-866c-50547685fd68",
   "metadata": {},
   "outputs": [],
   "source": [
    "%%sql --ANSWER CELL 4.1.4 (DO NOT REMOVE OR CHANGE THIS LINE)\n",
    "\n",
    "SELECT Customers.*\n",
    "FROM Customers, Cars, Sales\n",
    "WHERE Sales.customer_id = Customers.id\n",
    "AND Sales.car_id = Cars.id\n",
    "AND Cars.type = 'Estate'\n",
    "AND Sales.price > 100000"
   ]
  },
  {
   "cell_type": "markdown",
   "id": "33e867f6-879e-4e2e-83b4-6eb355e0a143",
   "metadata": {},
   "source": [
    "### Assignment 4.2 (5 points)\n",
    "\n",
    "1. (2 points) Use the sqlite3 library to interact with the database and create a Pandas dataframe with all the information about the Volkswagen cars from the Cars table.\n",
    "\n",
    "2. (3 points) Plot the yearly mean (based on the year of the car) **msrp** for all the cars with the make **Mercedes**  "
   ]
  },
  {
   "cell_type": "code",
   "execution_count": null,
   "id": "70de4eb7-1145-48ef-90e7-ac05cb246191",
   "metadata": {},
   "outputs": [],
   "source": [
    "# ANSWER CELL 4.2.1 (DO NOT REMOVE OR CHANGE THIS LINE)\n",
    "\n",
    "import sqlite3\n",
    "\n",
    "con = sqlite3.connect('auto_dealership_exam.db')\n",
    "Volkswagens = pd.read_sql('SELECT * FROM Cars WHERE make = \"Volkswagen\"', con)\n",
    "con.close()\n",
    "Volkswagens.tail()"
   ]
  },
  {
   "cell_type": "code",
   "execution_count": null,
   "id": "38f48673-bd53-422f-ac62-58622bf5238b",
   "metadata": {},
   "outputs": [],
   "source": [
    "# ANSWER CELL 4.2.2 (DO NOT REMOVE OR CHANGE THIS LINE)\n",
    "\n",
    "con = sqlite3.connect('auto_dealership_exam.db')\n",
    "Toyotas = pd.read_sql('SELECT * FROM Cars WHERE make = \"Toyota\"', con)\n",
    "con.close()\n",
    "\n",
    "ToyotasDay = Toyotas.groupby('year').mean()['msrp']\n",
    "\n",
    "plt.figure(figsize=(10,4))\n",
    "plt.title('Average Toyota msrp', fontsize=16)\n",
    "plt.plot(ToyotasDay.index, ToyotasDay, lw=3)"
   ]
  },
  {
   "cell_type": "markdown",
   "id": "c18dd07a",
   "metadata": {},
   "source": [
    "### Used resources\n",
    "\n",
    "Include URLs of online resources that you have used to solve the exercises in this section:\n",
    "\n",
    "\n"
   ]
  },
  {
   "cell_type": "markdown",
   "id": "82a0234a",
   "metadata": {},
   "source": [
    "\n",
    "\n",
    "\n",
    "\n"
   ]
  }
 ],
 "metadata": {
  "kernelspec": {
   "display_name": "Python 3 (ipykernel)",
   "language": "python",
   "name": "python3"
  },
  "language_info": {
   "codemirror_mode": {
    "name": "ipython",
    "version": 3
   },
   "file_extension": ".py",
   "mimetype": "text/x-python",
   "name": "python",
   "nbconvert_exporter": "python",
   "pygments_lexer": "ipython3",
   "version": "3.9.12"
  }
 },
 "nbformat": 4,
 "nbformat_minor": 5
}
